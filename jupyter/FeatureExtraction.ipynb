{
 "cells": [
  {
   "cell_type": "markdown",
   "id": "51278097-6ffa-4998-84ae-7661bd8165f1",
   "metadata": {},
   "source": [
    "# Feature extraction"
   ]
  },
  {
   "cell_type": "code",
   "execution_count": null,
   "id": "ab6032ab-ccf2-4105-8971-08d3eb62d278",
   "metadata": {},
   "outputs": [],
   "source": [
    "from zipfile import ZipFile\n",
    "import pandas as pd\n",
    "import numpy as np\n",
    "\n",
    "import pywt\n",
    "import ewtpy\n",
    "import warnings\n",
    "\n",
    "import mafaulda\n",
    "import feature_discovery as fdiscovery\n",
    "\n",
    "\n",
    "MAFAULDA_PATH = '../../datasets/MAFAULDA.zip'"
   ]
  },
  {
   "cell_type": "markdown",
   "id": "2bfaa4b8-c91c-4273-8c84-ce85c268e023",
   "metadata": {},
   "source": [
    "## Preprocessing\n",
    "\n",
    "- DC Removal\n",
    "- ANC - Noise removal\n",
    "- Downsampling + LowPass"
   ]
  },
  {
   "cell_type": "code",
   "execution_count": null,
   "id": "64666bd1-1077-4354-9d33-2c1e298b92d5",
   "metadata": {},
   "outputs": [],
   "source": [
    "# https://medium.com/analytics-vidhya/how-to-filter-noise-with-a-low-pass-filter-python-885223e5e9b7\n",
    "# Low-pass filter 10 kHz (Butterworth)\n",
    "\n",
    "# Downsampling factor: 50 kHz / 10 kHz = 5\n",
    "# src.axis_spectrograms(misalign_sub)  (čistý subsampling vs. low-pass)"
   ]
  },
  {
   "cell_type": "markdown",
   "id": "f5a55856-399f-464c-9b9f-f310ad8e107e",
   "metadata": {},
   "source": [
    "## Time domain features"
   ]
  },
  {
   "cell_type": "code",
   "execution_count": null,
   "id": "650c6337-1318-4e4c-9e35-578dd8762c67",
   "metadata": {},
   "outputs": [],
   "source": [
    "dataset = ZipFile(MAFAULDA_PATH)\n",
    "files = mafaulda.get_mafaulda_files(dataset)\n",
    "td_features = mafaulda.import_files(dataset, files, fdiscovery.features_time_domain)\n",
    "td_features.head()"
   ]
  },
  {
   "cell_type": "code",
   "execution_count": null,
   "id": "f84a64e7-fcec-4e22-b093-936c636498e9",
   "metadata": {},
   "outputs": [],
   "source": [
    "td_features.to_csv('td_features_no_filter.csv', index=False)"
   ]
  },
  {
   "cell_type": "markdown",
   "id": "908cab23-bc92-48fb-a020-f76cda42cb09",
   "metadata": {},
   "source": [
    "## Frequency domain features\n",
    "Read also: https://librosa.org/doc/0.10.1/feature.html"
   ]
  },
  {
   "cell_type": "markdown",
   "id": "cfa0a012-3758-4287-aa69-7adcb0a9b6da",
   "metadata": {},
   "source": [
    "### Extract frequency domain features"
   ]
  },
  {
   "cell_type": "code",
   "execution_count": null,
   "id": "dd4d2ae6-2151-4bec-9683-d91e17156e6a",
   "metadata": {},
   "outputs": [],
   "source": [
    "OVERLAP = 0.5\n",
    "WINDOW_SIZES = (2**8, 2**10, 2**12, 2**14, 2**16)\n",
    "\n",
    "for w in WINDOW_SIZES:\n",
    "    mafaulda.resolution_calc(mafaulda.FS_HZ, w)\n",
    "    print()"
   ]
  },
  {
   "cell_type": "code",
   "execution_count": null,
   "id": "d377ee34-a7f0-4a7f-8948-ece68cf44ea0",
   "metadata": {},
   "outputs": [],
   "source": [
    "dataset = ZipFile(MAFAULDA_PATH)\n",
    "files = mafaulda.get_mafaulda_files(dataset)\n",
    "fd_features = mafaulda.import_files(dataset, files, fdiscovery.features_frequency_domain)\n",
    "fd_features.head()"
   ]
  },
  {
   "cell_type": "code",
   "execution_count": null,
   "id": "6bb8b028-a690-4fc4-b7ca-236082b1acaf",
   "metadata": {},
   "outputs": [],
   "source": [
    "fd_features.info()"
   ]
  },
  {
   "cell_type": "code",
   "execution_count": null,
   "id": "d8371067-e2ac-4c94-9e60-323b4b4175c2",
   "metadata": {},
   "outputs": [],
   "source": [
    "fd_features.to_csv('fd_features_no_filter.csv', index=False)"
   ]
  },
  {
   "cell_type": "markdown",
   "id": "d89d5528-7e05-4c0b-addc-e9b16e03531e",
   "metadata": {},
   "source": [
    "## Time-frequency domain features\n",
    "\n",
    "#### Features:\n",
    "- Energy\n",
    "- Energy ratios\n",
    "- Kurtosis\n",
    "- Negentropy\n",
    "\n",
    "#### Transforms:\n",
    "- Discrete wavelet transform\n",
    "- Wavelet packet decompostion (Meyer wavelet, Fejér-Korovkin wavelet)\n",
    "- Empirical wavelet transform"
   ]
  },
  {
   "cell_type": "markdown",
   "id": "380d2106-1698-4909-b9eb-139e68c39868",
   "metadata": {},
   "source": [
    "### Wavelet packet decomposition"
   ]
  },
  {
   "cell_type": "code",
   "execution_count": null,
   "id": "aa540559-0967-4a2e-9e1b-4b563ef31bc8",
   "metadata": {},
   "outputs": [],
   "source": [
    "dataset = ZipFile(MAFAULDA_PATH)\n",
    "files = mafaulda.get_mafaulda_files(dataset)\n",
    "wp_features = mafaulda.import_files(dataset, files, fdiscovery.features_wavelet_domain)\n",
    "wp_features.head()"
   ]
  },
  {
   "cell_type": "code",
   "execution_count": null,
   "id": "ac7a5dd9-8354-4caf-89a4-970d9258c070",
   "metadata": {},
   "outputs": [],
   "source": [
    "wp_features.to_csv('wpd_features_no_filter.csv', index=False)"
   ]
  },
  {
   "cell_type": "markdown",
   "id": "20eb9f76-ce3d-4497-96ca-393d8c5cc95a",
   "metadata": {},
   "source": [
    "### Multilevel 1D Discrete Wavelet Transform\n",
    "https://www.mathworks.com/help/wavelet/gs/choose-a-wavelet.html\n",
    "- https://www.mathworks.com/help/wavelet/gs/introduction-to-the-wavelet-families.html"
   ]
  },
  {
   "cell_type": "code",
   "execution_count": null,
   "id": "a1969b1d-4b2f-4472-b107-b60dfbb0ae50",
   "metadata": {},
   "outputs": [],
   "source": [
    "axis = 'ax'\n",
    "wavelet = 'dmey'\n",
    "ts = mafaulda.csv_import(ZipFile(MAFAULDA_PATH), 'vertical-misalignment/1.78mm/51.8144.csv')\n",
    "result = pywt.wavedec(ts[axis], wavelet, mode='symmetric', level=3)\n",
    "print(len(ts[axis]))\n",
    "print([len(x) for x in result], '\\n', result)"
   ]
  },
  {
   "cell_type": "markdown",
   "id": "5d5405f5-74ff-4e15-9bd3-9ba8f432ee1d",
   "metadata": {},
   "source": [
    "#### Energy in partitioned regions\n",
    "- store multiple levels to compare = {3, 6, 9}\n",
    "- multiple wavelets = {db1, ...}\n",
    "- https://stackoverflow.com/questions/30808430/how-to-select-columns-from-dataframe-by-regex"
   ]
  },
  {
   "cell_type": "code",
   "execution_count": null,
   "id": "cc440087-cd75-4968-bc8a-8b7b17cd72ea",
   "metadata": {},
   "outputs": [],
   "source": [
    "pywt.families()\n",
    "pywt.wavelist()\n",
    "w = pywt.Wavelet('dmey')\n",
    "print(w)"
   ]
  },
  {
   "cell_type": "markdown",
   "id": "4c7f9952-2afb-41e5-b479-dbfa84664000",
   "metadata": {},
   "source": [
    "### Empirical Wavelet transform"
   ]
  },
  {
   "cell_type": "code",
   "execution_count": null,
   "id": "97236d3d-dd02-4abb-8345-deb22e989e78",
   "metadata": {},
   "outputs": [],
   "source": [
    "warnings.simplefilter(action='ignore', category=FutureWarning)\n",
    "\n",
    "def ewt_transform(dataset: pd.DataFrame, axis: str, scales: int):\n",
    "    ewt, mfb, boundaries = ewtpy.EWT1D(\n",
    "        dataset[axis], N=scales,\n",
    "        log=0, detect='locmax', completion=0, \n",
    "        reg='average', lengthFilter=10, sigmaFilter=5\n",
    "    )\n",
    "    return ewt, mfb, boundaries\n",
    "import matplotlib.pyplot as plt\n",
    "ewt, mfb, boundaries = ewt_transform(ts, 'ax', 3)\n",
    "ewt"
   ]
  },
  {
   "cell_type": "markdown",
   "id": "8ceac3dd-4249-4d17-ab4a-c527861675dd",
   "metadata": {},
   "source": [
    "### Experiment to find spectral envelope"
   ]
  },
  {
   "cell_type": "code",
   "execution_count": null,
   "id": "2fc0ece2-001e-4eb6-9dcd-6f208aabe324",
   "metadata": {},
   "outputs": [],
   "source": [
    "# TODO: calculate size of signal in PCM and DPCM (biggest number for differential), DPCM with len(hamming code) >= entropy in time domain\n",
    "fdiscovery.plot_spectral_envelope(ZipFile(MAFAULDA_PATH), 'vertical-misalignment/1.78mm/51.8144.csv', 'ax')"
   ]
  }
 ],
 "metadata": {
  "kernelspec": {
   "display_name": "Python 3 (ipykernel)",
   "language": "python",
   "name": "python3"
  },
  "language_info": {
   "codemirror_mode": {
    "name": "ipython",
    "version": 3
   },
   "file_extension": ".py",
   "mimetype": "text/x-python",
   "name": "python",
   "nbconvert_exporter": "python",
   "pygments_lexer": "ipython3",
   "version": "3.11.5"
  }
 },
 "nbformat": 4,
 "nbformat_minor": 5
}
