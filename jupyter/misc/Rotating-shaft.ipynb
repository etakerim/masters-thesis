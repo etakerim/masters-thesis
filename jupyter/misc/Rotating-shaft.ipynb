{
 "cells": [
  {
   "cell_type": "code",
   "execution_count": null,
   "id": "222e4a3e",
   "metadata": {},
   "outputs": [],
   "source": [
    "import numpy as np\n",
    "import pandas as pd\n",
    "import matplotlib.pyplot as plt\n",
    "\n",
    "\n",
    "def rms(x):\n",
    "    return np.sqrt(np.mean(x ** 2))\n",
    "\n",
    "def pp(x):\n",
    "    return np.max(x) - np.min(x)\n",
    "\n",
    "FS = 4096\n",
    "T_START = 100\n",
    "WINDOW = FS*2\n",
    "LENGTH_SECONDS = 100\n",
    "\n",
    "def load_dataset(name):\n",
    "    columns = ['v_in', 'rpm', 'x', 'y', 'z']\n",
    "    d = pd.read_csv(\n",
    "        name, sep=',',  \n",
    "        skiprows=T_START*FS, nrows=FS*LENGTH_SECONDS, \n",
    "        header=None, names=columns\n",
    "    )\n",
    "    d['t'] = d.index * (1 / FS)\n",
    "    d['f'] = d['rpm'] / 60\n",
    "    d['mag'] = np.sqrt(d['x'] ** 2 + d['y'] ** 2 + d['z'] ** 2)\n",
    "    \n",
    "    # Peak-to-peak\n",
    "    d['x_pp'] = d['x'].rolling(window=WINDOW).apply(pp, raw=True)\n",
    "    d['y_pp'] = d['y'].rolling(window=WINDOW).apply(pp, raw=True)\n",
    "    d['z_pp'] = d['z'].rolling(window=WINDOW).apply(pp, raw=True)\n",
    "    d['mag_pp'] = d['mag'].rolling(window=WINDOW).apply(pp, raw=True)\n",
    "    \n",
    "    # RMS\n",
    "    d['x_rms'] = d['x'].rolling(window=WINDOW).apply(rms, raw=True)\n",
    "    d['y_rms'] = d['y'].rolling(window=WINDOW).apply(rms, raw=True)\n",
    "    d['z_rms'] = d['z'].rolling(window=WINDOW).apply(rms, raw=True)\n",
    "    d['mag_rms'] = d['z'].rolling(window=WINDOW).apply(rms, raw=True)\n",
    "    return d[WINDOW:]\n",
    "\n",
    "\n",
    "shaft = [\n",
    "    load_dataset('../../datasets/Rotating-shaft/0D.csv'),\n",
    "    #load_dataset('Rotating-shaft/1D.csv')\n",
    "    #load_dataset('Rotating-shaft/2D.csv'),\n",
    "    #load_dataset('Rotating-shaft/3D.csv'),\n",
    "    load_dataset('../../datasets/Rotating-shaft/4D.csv')\n",
    "]"
   ]
  },
  {
   "cell_type": "code",
   "execution_count": null,
   "id": "ad56e500",
   "metadata": {},
   "outputs": [],
   "source": [
    "d0 = shaft[0]\n",
    "d0"
   ]
  },
  {
   "cell_type": "code",
   "execution_count": null,
   "id": "009d7ce7",
   "metadata": {},
   "outputs": [],
   "source": [
    "d4 = shaft[1]\n",
    "d4"
   ]
  },
  {
   "cell_type": "code",
   "execution_count": null,
   "id": "b9ee4d60",
   "metadata": {},
   "outputs": [],
   "source": [
    "d0[FS*30:FS*30+500].plot(x='t', y=['x', 'y', 'z', 'mag'], subplots=True, sharex=True, figsize=(20, 10))"
   ]
  },
  {
   "cell_type": "code",
   "execution_count": null,
   "id": "2e5224c1",
   "metadata": {},
   "outputs": [],
   "source": [
    "d0.plot(x='t', y=['x', 'y', 'z', 'mag'], subplots=True, sharex=True, figsize=(20, 10))"
   ]
  },
  {
   "cell_type": "code",
   "execution_count": null,
   "id": "e33bef20",
   "metadata": {},
   "outputs": [],
   "source": [
    "d4.plot(x='t', y=['x', 'y', 'z', 'mag'], subplots=True, sharex=True, figsize=(20, 10))"
   ]
  },
  {
   "cell_type": "code",
   "execution_count": null,
   "id": "3f57d197",
   "metadata": {},
   "outputs": [],
   "source": [
    "d0.plot(x='t', y=['x_rms','y_rms', 'z_rms', 'mag_rms'], subplots=True, sharex=True, figsize=(20, 12))"
   ]
  },
  {
   "cell_type": "code",
   "execution_count": null,
   "id": "985a5d8e",
   "metadata": {},
   "outputs": [],
   "source": [
    "d4.plot(x='t', y=['x_rms','y_rms', 'z_rms', 'mag_rms'], subplots=True, sharex=True, figsize=(20, 12))"
   ]
  },
  {
   "cell_type": "code",
   "execution_count": null,
   "id": "d31191f5",
   "metadata": {},
   "outputs": [],
   "source": [
    "fig, ax = plt.subplots(4, 1, figsize=(20, 15))\n",
    "\n",
    "for i, col in enumerate(('x_rms', 'y_rms', 'z_rms', 'mag_rms')) :\n",
    "    ax[i].scatter(d0['rpm'], d0[col], s=2)\n",
    "    ax[i].scatter(d4['rpm'], d4[col], s=2)\n",
    "    ax[i].set_xlim(660, 860)\n",
    "\n",
    "\n",
    "#d0.plot(kind='scatter', x='RPM', y='y_rms', figsize=(20, 5), s=2)\n",
    "#d0.plot(kind='scatter', x='RPM', y='z_rms', figsize=(20, 5), s=2)"
   ]
  },
  {
   "cell_type": "code",
   "execution_count": null,
   "id": "d50ea51e",
   "metadata": {},
   "outputs": [],
   "source": [
    "d0.plot(x='t', y='rpm', subplots=True, sharex=True, figsize=(20, 8), xlabel=\"Time [s]\", ylabel=\"RPM\")"
   ]
  },
  {
   "cell_type": "code",
   "execution_count": null,
   "id": "a7256abe",
   "metadata": {},
   "outputs": [],
   "source": [
    "d0.plot(x='t', y='f', subplots=True, sharex=True, figsize=(20, 8), xlabel=\"Time [s]\", ylabel=\"Frequency [Hz]\")"
   ]
  },
  {
   "cell_type": "code",
   "execution_count": null,
   "id": "6c398709",
   "metadata": {},
   "outputs": [],
   "source": [
    "fig, ax = plt.subplots(1, 3, figsize=(20, 6))\n",
    "\n",
    "ax[0].scatter(d0['x_rms'], d0['y_rms'], s=2)\n",
    "ax[0].scatter(d4['x_rms'], d4['y_rms'], s=2)\n",
    "ax[0].set_xlabel('X')\n",
    "ax[0].set_ylabel('Y')\n",
    "ax[0].grid()\n",
    "\n",
    "ax[1].scatter(d0['y_rms'], d0['z_rms'], s=2)\n",
    "ax[1].scatter(d4['y_rms'], d4['z_rms'], s=2)\n",
    "ax[1].set_xlabel('Y')\n",
    "ax[1].set_ylabel('Z')\n",
    "ax[1].grid()\n",
    "\n",
    "ax[2].scatter(d0['x_rms'], d0['z_rms'], s=2)\n",
    "ax[2].scatter(d4['x_rms'], d4['z_rms'], s=2)\n",
    "ax[2].set_xlabel('X')\n",
    "ax[2].set_ylabel('Z')\n",
    "ax[2].grid()\n",
    "\n",
    "plt.show()"
   ]
  },
  {
   "cell_type": "code",
   "execution_count": null,
   "id": "8a8c573c",
   "metadata": {},
   "outputs": [],
   "source": [
    "df0 = shaft[0]\n",
    "fig, ax = plt.subplots(1, 3, figsize=(20, 6))\n",
    "\n",
    "ax[0].scatter(df0['x'], df0['y'], s=2)\n",
    "ax[0].set_xlabel('X')\n",
    "ax[0].set_ylabel('Y')\n",
    "ax[0].grid()\n",
    "\n",
    "ax[1].scatter(df0['y'], df0['z'], s=2)\n",
    "ax[1].set_xlabel('Y')\n",
    "ax[1].set_ylabel('Z')\n",
    "ax[1].grid()\n",
    "\n",
    "ax[2].scatter(df0['x'], df0['z'], s=2)\n",
    "ax[2].set_xlabel('X')\n",
    "ax[2].set_ylabel('Z')\n",
    "ax[2].grid()\n",
    "\n",
    "plt.show()"
   ]
  },
  {
   "cell_type": "code",
   "execution_count": null,
   "id": "68997ae8",
   "metadata": {},
   "outputs": [],
   "source": [
    "df4 = shaft[4]\n",
    "fig, ax = plt.subplots(1, 3, figsize=(20, 6))\n",
    "\n",
    "\n",
    "ax[0].scatter(df4['x'], df4['y'], s=2)\n",
    "ax[0].set_xlabel('X')\n",
    "ax[0].set_ylabel('Y')\n",
    "ax[0].grid()\n",
    "\n",
    "ax[1].scatter(df4['y'], df4['z'], s=2)\n",
    "ax[1].set_xlabel('Y')\n",
    "ax[1].set_ylabel('Z')\n",
    "ax[1].grid()\n",
    "\n",
    "ax[2].scatter(df4['x'], df4['z'], s=2)\n",
    "ax[2].set_xlabel('X')\n",
    "ax[2].set_ylabel('Z')\n",
    "ax[2].grid()\n",
    "\n",
    "plt.show()"
   ]
  },
  {
   "cell_type": "code",
   "execution_count": null,
   "id": "4acb9512",
   "metadata": {},
   "outputs": [],
   "source": [
    "def plot_spectrogram(df, top=None):\n",
    "    winlen = 4096\n",
    "    FS = 4096\n",
    "    fig, ax = plt.subplots(4, 1, figsize=(20, 15))\n",
    "\n",
    "    pxx, freq, t, cax = ax[0].specgram(\n",
    "        df['x'], Fs=FS, \n",
    "        mode='magnitude',\n",
    "        window=np.hanning(winlen), NFFT=winlen, noverlap=winlen//2\n",
    "    )\n",
    "    ax[0].set_xlabel('Time [s]')\n",
    "    ax[0].set_ylabel('Frequency [Hz]')\n",
    "\n",
    "    pxx, freq, t, cax = ax[1].specgram(\n",
    "        df['y'], Fs=FS, \n",
    "        mode='magnitude',\n",
    "        window=np.hanning(winlen), NFFT=winlen, noverlap=winlen//2\n",
    "    )\n",
    "    ax[1].set_xlabel('Time [s]')\n",
    "    ax[1].set_ylabel('Frequency [Hz]')\n",
    "\n",
    "    pxx, freq, t, cax = ax[2].specgram(\n",
    "        df['z'], Fs=FS, \n",
    "        mode='magnitude',\n",
    "        window=np.hanning(winlen), NFFT=winlen, noverlap=winlen//2\n",
    "    )\n",
    "    ax[2].set_xlabel('Time [s]')\n",
    "    ax[2].set_ylabel('Frequency [Hz]')\n",
    "    \n",
    "    pxx, freq, t, cax = ax[3].specgram(\n",
    "        df['mag'], Fs=FS, \n",
    "        mode='magnitude',\n",
    "        window=np.hanning(winlen), NFFT=winlen, noverlap=winlen//2\n",
    "    )\n",
    "    ax[3].set_xlabel('Time [s]')\n",
    "    ax[3].set_ylabel('Frequency [Hz]')\n",
    "\n",
    "    plt.colorbar(cax, ax=ax)\n",
    "    if top is not None:\n",
    "        for i in range(3):\n",
    "            ax[i].set_ylim(0, top)\n",
    "    plt.show()"
   ]
  },
  {
   "cell_type": "code",
   "execution_count": null,
   "id": "d00b1cd0",
   "metadata": {},
   "outputs": [],
   "source": [
    "plot_spectrogram(d0)"
   ]
  },
  {
   "cell_type": "code",
   "execution_count": null,
   "id": "3e14daf2",
   "metadata": {},
   "outputs": [],
   "source": [
    "plot_spectrogram(d4)"
   ]
  },
  {
   "cell_type": "code",
   "execution_count": null,
   "id": "935ecbc2",
   "metadata": {},
   "outputs": [],
   "source": [
    "rpm = d0['rpm'][int(t[100] * FS)]\n",
    "print(f't = {t[100]} s = {rpm} RPM')\n",
    "\n",
    "plt.plot(freq, pxx.T[100])\n",
    "plt.xlabel('Frequency [Hz]')\n",
    "plt.ylabel('Amplitude')\n",
    "plt.yscale('log')\n",
    "plt.grid()\n",
    "plt.show()"
   ]
  },
  {
   "cell_type": "code",
   "execution_count": null,
   "id": "224acbc8",
   "metadata": {},
   "outputs": [],
   "source": [
    "from scipy.fft import fft, ifft\n",
    "\n",
    "WINDOW = 4096\n",
    "OVERLAP = 0.5\n",
    "STEP = WINDOW * OVERLAP\n",
    "     \n",
    "v = d0['mag'].to_numpy()\n",
    "# (d0['f'].iloc[i:i+int(STEP)].mean(), \n",
    "\n",
    "# Frekvečné spektrum v okná\n",
    "freqs = [int(i * (FS/WINDOW)) for i in range(WINDOW//2)] \n",
    "matrix = [\n",
    "    np.abs(\n",
    "        fft(\n",
    "            d0['mag'].iloc[i:i+WINDOW].to_numpy() * \n",
    "            np.hamming(WINDOW)\n",
    "           ) \n",
    "    )[:WINDOW // 2]\n",
    "    for i in range(0, len(v) - WINDOW, int(STEP))\n",
    "]\n",
    "tf_spectrum = pd.DataFrame(data=matrix, columns=freqs)\n",
    "tf_spectrum.index = (tf_spectrum.index * STEP) / FS\n",
    "tf_spectrum"
   ]
  },
  {
   "cell_type": "code",
   "execution_count": null,
   "id": "fada7da7",
   "metadata": {},
   "outputs": [],
   "source": [
    "slicetf = tf_spectrum.iloc[2][1:]\n",
    "slicetf.plot(\n",
    "    figsize=(20, 6), \n",
    "    xlabel='Frequency [Hz]', \n",
    "    ylabel='Amplitude', \n",
    "    logy=True,\n",
    "    xlim=(1, 50),\n",
    "    ylim=(0)\n",
    ")"
   ]
  },
  {
   "cell_type": "code",
   "execution_count": null,
   "id": "a51aaf4a",
   "metadata": {},
   "outputs": [],
   "source": [
    "fig, ax = plt.subplots(1, 1, figsize=(20, 5))\n",
    "src = tf_spectrum.iloc[2][2:]\n",
    "\n",
    "ax = [ax]\n",
    "ax[0].plot(src, label='8')\n",
    "# ax[0].plot(np.convolve(src, np.ones(8) / 8, mode='full'), label='8')\n",
    "# ax[0].plot(np.convolve(src, np.ones(16) / 16, mode='full'), label='16')\n",
    "# ax[0].plot(np.convolve(src, np.ones(32) / 32, mode='full'), label='32')\n",
    "\n",
    "plt.legend()"
   ]
  },
  {
   "cell_type": "code",
   "execution_count": null,
   "id": "809b0f15",
   "metadata": {},
   "outputs": [],
   "source": [
    "# Priemery viacerých spektier na odhad PSD \n",
    "fig, ax = plt.subplots(3, 1, figsize=(20, 15))\n",
    "\n",
    "ax[0].set_yscale('log')\n",
    "ax[0].plot(\n",
    "    tf_spectrum.iloc[:4].to_numpy().mean(axis=0)[2:]\n",
    ")\n",
    "\n",
    "ax[1].set_yscale('log')\n",
    "ax[1].plot(\n",
    "    tf_spectrum.iloc[:32].to_numpy().mean(axis=0)[2:]\n",
    ")\n",
    "\n",
    "ax[2].set_yscale('log')\n",
    "ax[2].plot(\n",
    "    tf_spectrum.iloc[:128].to_numpy().mean(axis=0)[2:]\n",
    ")"
   ]
  },
  {
   "cell_type": "code",
   "execution_count": null,
   "id": "7992154d",
   "metadata": {},
   "outputs": [],
   "source": [
    "# Maximá \n",
    "fig, ax = plt.subplots(3, 1, figsize=(20, 15))\n",
    "\n",
    "ax[0].set_yscale('log')\n",
    "ax[0].plot(\n",
    "    tf_spectrum.iloc[:4].to_numpy().max(axis=0)[2:]\n",
    ")\n",
    "\n",
    "ax[1].set_yscale('log')\n",
    "ax[1].plot(\n",
    "    tf_spectrum.iloc[:32].to_numpy().max(axis=0)[2:]\n",
    ")\n",
    "\n",
    "ax[2].set_yscale('log')\n",
    "ax[2].plot(\n",
    "    tf_spectrum.iloc[:128].to_numpy().max(axis=0)[2:]\n",
    ")"
   ]
  },
  {
   "cell_type": "code",
   "execution_count": null,
   "id": "713d2d67",
   "metadata": {},
   "outputs": [],
   "source": [
    "# Spočítaj Cepstrum\n",
    "x = pd.DataFrame(data=[np.abs(fft(np.log(psd**2)))**2 for psd in tf_spectrum.to_numpy()])\n",
    "plt.plot(x[1])"
   ]
  },
  {
   "cell_type": "code",
   "execution_count": null,
   "id": "f9def9b9",
   "metadata": {},
   "outputs": [],
   "source": [
    "# Spočítaj spektrálne koeficienty"
   ]
  }
 ],
 "metadata": {
  "kernelspec": {
   "display_name": "Python 3 (ipykernel)",
   "language": "python",
   "name": "python3"
  },
  "language_info": {
   "codemirror_mode": {
    "name": "ipython",
    "version": 3
   },
   "file_extension": ".py",
   "mimetype": "text/x-python",
   "name": "python",
   "nbconvert_exporter": "python",
   "pygments_lexer": "ipython3",
   "version": "3.9.16"
  }
 },
 "nbformat": 4,
 "nbformat_minor": 5
}
