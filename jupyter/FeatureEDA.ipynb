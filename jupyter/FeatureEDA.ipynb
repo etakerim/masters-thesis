{
 "cells": [
  {
   "cell_type": "markdown",
   "id": "5e9c2494-d25d-407f-9a6c-f728a1924172",
   "metadata": {},
   "source": [
    "# Features EDA"
   ]
  },
  {
   "cell_type": "code",
   "execution_count": null,
   "id": "2a804f85-e6ad-4c82-ba05-7ad60501beb4",
   "metadata": {},
   "outputs": [],
   "source": [
    "import pandas as pd\n",
    "import seaborn as sb"
   ]
  },
  {
   "cell_type": "markdown",
   "id": "601fe73c-83ff-4781-a2af-6bdf836be7ff",
   "metadata": {},
   "source": [
    "## Correlations"
   ]
  },
  {
   "cell_type": "markdown",
   "id": "5ffe79d0-1fdd-4b1b-826b-07686db93def",
   "metadata": {},
   "source": [
    "### Time domain"
   ]
  },
  {
   "cell_type": "code",
   "execution_count": null,
   "id": "5e803c21-432e-45d9-8272-6b6352683e92",
   "metadata": {},
   "outputs": [],
   "source": [
    "features = pd.read_csv('features_data/td_features_no_filter.csv')\n",
    "td_columns = ['mean', 'std', 'skew', 'kurt', 'rms', 'pp', 'crest', 'margin', 'impulse', 'shape']\n",
    "features[td_columns].corr()  # filter by per axis"
   ]
  },
  {
   "cell_type": "code",
   "execution_count": null,
   "id": "ff6be752-0241-4110-b28e-9ec351a62c8c",
   "metadata": {},
   "outputs": [],
   "source": [
    "sb.heatmap(features[td_columns].corr(), cmap=\"YlGnBu\", annot=True)"
   ]
  },
  {
   "cell_type": "code",
   "execution_count": null,
   "id": "575d8c34-806d-4586-a055-b0360ecb7562",
   "metadata": {},
   "outputs": [],
   "source": [
    "ax = features[td_columns].var().plot(kind='barh', xlabel='Variance', ylabel='Feature')"
   ]
  }
 ],
 "metadata": {
  "kernelspec": {
   "display_name": "Python 3 (ipykernel)",
   "language": "python",
   "name": "python3"
  },
  "language_info": {
   "codemirror_mode": {
    "name": "ipython",
    "version": 3
   },
   "file_extension": ".py",
   "mimetype": "text/x-python",
   "name": "python",
   "nbconvert_exporter": "python",
   "pygments_lexer": "ipython3",
   "version": "3.11.5"
  }
 },
 "nbformat": 4,
 "nbformat_minor": 5
}
