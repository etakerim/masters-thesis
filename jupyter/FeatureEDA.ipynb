{
 "cells": [
  {
   "cell_type": "markdown",
   "id": "5e9c2494-d25d-407f-9a6c-f728a1924172",
   "metadata": {},
   "source": [
    "# Features EDA"
   ]
  },
  {
   "cell_type": "code",
   "execution_count": null,
   "id": "2a804f85-e6ad-4c82-ba05-7ad60501beb4",
   "metadata": {},
   "outputs": [],
   "source": [
    "import pandas as pd\n",
    "import seaborn as sb\n",
    "\n",
    "from sklearn.decomposition import PCA\n",
    "import matplotlib.pylab as plt"
   ]
  },
  {
   "cell_type": "markdown",
   "id": "601fe73c-83ff-4781-a2af-6bdf836be7ff",
   "metadata": {},
   "source": [
    "## Correlations"
   ]
  },
  {
   "cell_type": "markdown",
   "id": "5ffe79d0-1fdd-4b1b-826b-07686db93def",
   "metadata": {},
   "source": [
    "### Time domain"
   ]
  },
  {
   "cell_type": "code",
   "execution_count": null,
   "id": "5e803c21-432e-45d9-8272-6b6352683e92",
   "metadata": {},
   "outputs": [],
   "source": [
    "features = pd.read_csv('../../datasets/features_data/td_features_no_filter.csv')\n",
    "td_columns = ['mean', 'std', 'skew', 'kurt', 'rms', 'pp', 'crest', 'margin', 'impulse', 'shape']\n",
    "rows = features[\n",
    "     (features['axis'] == 'ax')\n",
    "   & (features['fault'] == 'horizontal-misalignment')\n",
    "][td_columns]\n",
    "rows.corr()"
   ]
  },
  {
   "cell_type": "code",
   "execution_count": null,
   "id": "ff6be752-0241-4110-b28e-9ec351a62c8c",
   "metadata": {},
   "outputs": [],
   "source": [
    "sb.heatmap(rows.corr(), annot=True)"
   ]
  },
  {
   "cell_type": "code",
   "execution_count": null,
   "id": "575d8c34-806d-4586-a055-b0360ecb7562",
   "metadata": {},
   "outputs": [],
   "source": [
    "ax = rows.var().plot(kind='barh', xlabel='Variance', ylabel='Feature')"
   ]
  },
  {
   "cell_type": "code",
   "execution_count": null,
   "id": "c1837dd9-aa22-45b3-9ce1-66a90f96fce8",
   "metadata": {},
   "outputs": [],
   "source": [
    "# TODO: pairplot with color for fault\n",
    "fig, ax = plt.subplots(figsize=(6, 6))\n",
    "\n",
    "colors = {\n",
    "    'horizontal-misalignment': 'tab:blue', \n",
    "    'imbalance':'tab:orange', \n",
    "    'vertical-misalignment': 'tab:purple', \n",
    "    'normal': 'tab:green'\n",
    "}\n",
    "\n",
    "for key, group in features.groupby('fault'):\n",
    "    group.plot(ax=ax, kind='scatter', x='kurt', y='margin', label=key, color=colors.get(key, 'tab:brown'))\n",
    "plt.show()"
   ]
  },
  {
   "cell_type": "code",
   "execution_count": null,
   "id": "9d80db95-04cf-4b33-b808-97e82aba693e",
   "metadata": {},
   "outputs": [],
   "source": [
    "ax = plt.figure().add_subplot(projection='3d')\n",
    "\n",
    "colors = {\n",
    "    'horizontal-misalignment': 'tab:blue', \n",
    "    'imbalance':'tab:orange', \n",
    "    'vertical-misalignment': 'tab:purple', \n",
    "    'normal': 'tab:green'\n",
    "}\n",
    "\n",
    "for key, group in features.groupby('fault'):\n",
    "    ax.scatter(group['kurt'], group['margin'], group['rpm'], label=key, color=colors.get(key, 'tab:brown'))\n",
    "\n",
    "plt.xlabel('Kurtosis')\n",
    "plt.ylabel('Margin')\n",
    "plt.show()"
   ]
  },
  {
   "cell_type": "markdown",
   "id": "97d5d090-5f7c-4d98-91ab-8cd9976e9708",
   "metadata": {},
   "source": [
    "#### PCA on time domain features"
   ]
  },
  {
   "cell_type": "code",
   "execution_count": null,
   "id": "895acc8b-161d-4187-b7f8-cc6854de42e6",
   "metadata": {},
   "outputs": [],
   "source": [
    "matrix = features[td_columns].to_numpy()\n",
    "\n",
    "pca = PCA(n_components=2)\n",
    "result = pca.fit_transform(matrix)\n",
    "\n",
    "print(pca.explained_variance_ratio_)\n",
    "# print(pca.singular_values_)\n",
    "print(pca.components_)\n",
    "plt.scatter(result.T[0], result.T[1], s=1)\n",
    "plt.show()"
   ]
  },
  {
   "cell_type": "code",
   "execution_count": null,
   "id": "1bba2a11-25f2-47ed-850f-ceb421e6d6f5",
   "metadata": {},
   "outputs": [],
   "source": [
    "wp_features = pd.read_csv('../../datasets/features_data/wpd_features_no_filter.csv')\n",
    "columns = [\n",
    "    col for col in wp_features.columns \n",
    "    if col not in ('fault', 'severity', 'seq', 'rpm', 'axis', 'feature')\n",
    "]\n",
    "\n",
    "fig, ax = plt.subplots(figsize=(6, 6))\n",
    "\n",
    "for key, group in features.groupby('fault'):\n",
    "    group.plot(ax=ax, kind='scatter', x='kurt', y='margin', label=key, color=colors.get(key, 'tab:brown'))\n",
    "plt.show()"
   ]
  }
 ],
 "metadata": {
  "kernelspec": {
   "display_name": "Python 3 (ipykernel)",
   "language": "python",
   "name": "python3"
  },
  "language_info": {
   "codemirror_mode": {
    "name": "ipython",
    "version": 3
   },
   "file_extension": ".py",
   "mimetype": "text/x-python",
   "name": "python",
   "nbconvert_exporter": "python",
   "pygments_lexer": "ipython3",
   "version": "3.11.5"
  }
 },
 "nbformat": 4,
 "nbformat_minor": 5
}
