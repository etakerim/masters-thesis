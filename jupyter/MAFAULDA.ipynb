{
 "cells": [
  {
   "cell_type": "markdown",
   "id": "1e4b19d6-c52a-4409-9070-0f3e80a507f0",
   "metadata": {},
   "source": [
    "# MaFaulDa\n",
    "https://www02.smt.ufrj.br/~offshore/mfs/page_01.html"
   ]
  },
  {
   "cell_type": "code",
   "execution_count": 1,
   "id": "5b3b5667",
   "metadata": {
    "scrolled": true
   },
   "outputs": [],
   "source": [
    "from zipfile import ZipFile\n",
    "from pprint import pprint\n",
    "\n",
    "import pandas as pd\n",
    "import numpy as np\n",
    "import matplotlib.pyplot as plt\n",
    "import seaborn as sns\n",
    "import mafaulda as src\n",
    "\n",
    "MAFAULDA_PATH = '../../datasets/MAFAULDA.zip'"
   ]
  },
  {
   "cell_type": "markdown",
   "id": "c165227a-c064-4773-b911-e672ce601cc2",
   "metadata": {},
   "source": [
    "View some file names in machinery database and display their count."
   ]
  },
  {
   "cell_type": "code",
   "execution_count": null,
   "id": "97f86c61",
   "metadata": {},
   "outputs": [],
   "source": [
    "files = src.get_mafaulda_files(ZipFile(MAFAULDA_PATH))\n",
    "print(f'Measurements: {len(files)}')\n",
    "pprint(files[:10])"
   ]
  },
  {
   "cell_type": "markdown",
   "id": "ce527ced-f38d-4451-acef-d9b9cec8d4ea",
   "metadata": {},
   "source": [
    "Show details of one measurments"
   ]
  },
  {
   "cell_type": "code",
   "execution_count": 3,
   "id": "297b2341-99a8-4d78-b471-8895670850d1",
   "metadata": {},
   "outputs": [
    {
     "data": {
      "text/html": [
       "<div>\n",
       "<style scoped>\n",
       "    .dataframe tbody tr th:only-of-type {\n",
       "        vertical-align: middle;\n",
       "    }\n",
       "\n",
       "    .dataframe tbody tr th {\n",
       "        vertical-align: top;\n",
       "    }\n",
       "\n",
       "    .dataframe thead th {\n",
       "        text-align: right;\n",
       "    }\n",
       "</style>\n",
       "<table border=\"1\" class=\"dataframe\">\n",
       "  <thead>\n",
       "    <tr style=\"text-align: right;\">\n",
       "      <th></th>\n",
       "      <th>tachometer</th>\n",
       "      <th>ax</th>\n",
       "      <th>ay</th>\n",
       "      <th>az</th>\n",
       "      <th>bx</th>\n",
       "      <th>by</th>\n",
       "      <th>bz</th>\n",
       "      <th>mic</th>\n",
       "      <th>mag_a</th>\n",
       "      <th>mag_b</th>\n",
       "      <th>rev</th>\n",
       "      <th>rpm</th>\n",
       "      <th>key</th>\n",
       "    </tr>\n",
       "    <tr>\n",
       "      <th>t</th>\n",
       "      <th></th>\n",
       "      <th></th>\n",
       "      <th></th>\n",
       "      <th></th>\n",
       "      <th></th>\n",
       "      <th></th>\n",
       "      <th></th>\n",
       "      <th></th>\n",
       "      <th></th>\n",
       "      <th></th>\n",
       "      <th></th>\n",
       "      <th></th>\n",
       "      <th></th>\n",
       "    </tr>\n",
       "  </thead>\n",
       "  <tbody>\n",
       "    <tr>\n",
       "      <th>0.00000</th>\n",
       "      <td>4.46390</td>\n",
       "      <td>1.27330</td>\n",
       "      <td>1.297185</td>\n",
       "      <td>0.033427</td>\n",
       "      <td>0.052611</td>\n",
       "      <td>0.057577</td>\n",
       "      <td>0.023704</td>\n",
       "      <td>-0.021927</td>\n",
       "      <td>1.297185</td>\n",
       "      <td>0.057577</td>\n",
       "      <td>False</td>\n",
       "      <td>977.835724</td>\n",
       "      <td>horizontal-misalignment/1.5mm/16.7936.csv</td>\n",
       "    </tr>\n",
       "    <tr>\n",
       "      <th>0.00002</th>\n",
       "      <td>4.46570</td>\n",
       "      <td>-0.74724</td>\n",
       "      <td>0.852230</td>\n",
       "      <td>-0.061118</td>\n",
       "      <td>-0.021684</td>\n",
       "      <td>0.032023</td>\n",
       "      <td>-0.077300</td>\n",
       "      <td>0.077566</td>\n",
       "      <td>0.852230</td>\n",
       "      <td>0.032023</td>\n",
       "      <td>False</td>\n",
       "      <td>977.835724</td>\n",
       "      <td>horizontal-misalignment/1.5mm/16.7936.csv</td>\n",
       "    </tr>\n",
       "    <tr>\n",
       "      <th>0.00004</th>\n",
       "      <td>4.45350</td>\n",
       "      <td>1.10910</td>\n",
       "      <td>1.197030</td>\n",
       "      <td>-0.014861</td>\n",
       "      <td>0.056175</td>\n",
       "      <td>0.062646</td>\n",
       "      <td>-0.009375</td>\n",
       "      <td>-0.115730</td>\n",
       "      <td>1.197030</td>\n",
       "      <td>0.062646</td>\n",
       "      <td>False</td>\n",
       "      <td>977.835724</td>\n",
       "      <td>horizontal-misalignment/1.5mm/16.7936.csv</td>\n",
       "    </tr>\n",
       "    <tr>\n",
       "      <th>0.00006</th>\n",
       "      <td>4.46870</td>\n",
       "      <td>-0.43897</td>\n",
       "      <td>0.622929</td>\n",
       "      <td>-0.091402</td>\n",
       "      <td>-0.016462</td>\n",
       "      <td>0.032701</td>\n",
       "      <td>-0.011475</td>\n",
       "      <td>0.142450</td>\n",
       "      <td>0.622929</td>\n",
       "      <td>0.032701</td>\n",
       "      <td>False</td>\n",
       "      <td>977.835724</td>\n",
       "      <td>horizontal-misalignment/1.5mm/16.7936.csv</td>\n",
       "    </tr>\n",
       "    <tr>\n",
       "      <th>0.00008</th>\n",
       "      <td>4.45640</td>\n",
       "      <td>0.49322</td>\n",
       "      <td>0.597385</td>\n",
       "      <td>0.014023</td>\n",
       "      <td>0.022246</td>\n",
       "      <td>0.037437</td>\n",
       "      <td>0.078617</td>\n",
       "      <td>-0.138580</td>\n",
       "      <td>0.597385</td>\n",
       "      <td>0.037437</td>\n",
       "      <td>False</td>\n",
       "      <td>977.835724</td>\n",
       "      <td>horizontal-misalignment/1.5mm/16.7936.csv</td>\n",
       "    </tr>\n",
       "    <tr>\n",
       "      <th>...</th>\n",
       "      <td>...</td>\n",
       "      <td>...</td>\n",
       "      <td>...</td>\n",
       "      <td>...</td>\n",
       "      <td>...</td>\n",
       "      <td>...</td>\n",
       "      <td>...</td>\n",
       "      <td>...</td>\n",
       "      <td>...</td>\n",
       "      <td>...</td>\n",
       "      <td>...</td>\n",
       "      <td>...</td>\n",
       "      <td>...</td>\n",
       "    </tr>\n",
       "    <tr>\n",
       "      <th>4.74358</th>\n",
       "      <td>-0.87862</td>\n",
       "      <td>-1.98680</td>\n",
       "      <td>2.053727</td>\n",
       "      <td>-0.083187</td>\n",
       "      <td>-1.568500</td>\n",
       "      <td>1.569004</td>\n",
       "      <td>-0.459080</td>\n",
       "      <td>0.361660</td>\n",
       "      <td>2.053727</td>\n",
       "      <td>1.569004</td>\n",
       "      <td>False</td>\n",
       "      <td>977.517107</td>\n",
       "      <td>horizontal-misalignment/1.5mm/16.7936.csv</td>\n",
       "    </tr>\n",
       "    <tr>\n",
       "      <th>4.74360</th>\n",
       "      <td>-0.79904</td>\n",
       "      <td>0.85936</td>\n",
       "      <td>0.892822</td>\n",
       "      <td>0.043119</td>\n",
       "      <td>-1.441900</td>\n",
       "      <td>1.442412</td>\n",
       "      <td>-0.368830</td>\n",
       "      <td>-0.231960</td>\n",
       "      <td>0.892822</td>\n",
       "      <td>1.442412</td>\n",
       "      <td>False</td>\n",
       "      <td>977.517107</td>\n",
       "      <td>horizontal-misalignment/1.5mm/16.7936.csv</td>\n",
       "    </tr>\n",
       "    <tr>\n",
       "      <th>4.74362</th>\n",
       "      <td>-0.72662</td>\n",
       "      <td>-1.44100</td>\n",
       "      <td>1.524046</td>\n",
       "      <td>-0.038522</td>\n",
       "      <td>-1.514100</td>\n",
       "      <td>1.514641</td>\n",
       "      <td>-0.429730</td>\n",
       "      <td>0.440660</td>\n",
       "      <td>1.524046</td>\n",
       "      <td>1.514641</td>\n",
       "      <td>False</td>\n",
       "      <td>977.517107</td>\n",
       "      <td>horizontal-misalignment/1.5mm/16.7936.csv</td>\n",
       "    </tr>\n",
       "    <tr>\n",
       "      <th>4.74364</th>\n",
       "      <td>-0.67869</td>\n",
       "      <td>-0.21970</td>\n",
       "      <td>0.287777</td>\n",
       "      <td>0.068971</td>\n",
       "      <td>-1.451600</td>\n",
       "      <td>1.452055</td>\n",
       "      <td>-0.365110</td>\n",
       "      <td>-0.182140</td>\n",
       "      <td>0.287777</td>\n",
       "      <td>1.452055</td>\n",
       "      <td>False</td>\n",
       "      <td>977.517107</td>\n",
       "      <td>horizontal-misalignment/1.5mm/16.7936.csv</td>\n",
       "    </tr>\n",
       "    <tr>\n",
       "      <th>4.74366</th>\n",
       "      <td>-0.75835</td>\n",
       "      <td>-0.37648</td>\n",
       "      <td>0.453827</td>\n",
       "      <td>-0.037925</td>\n",
       "      <td>-1.465800</td>\n",
       "      <td>1.466259</td>\n",
       "      <td>-0.366550</td>\n",
       "      <td>0.303030</td>\n",
       "      <td>0.453827</td>\n",
       "      <td>1.466259</td>\n",
       "      <td>False</td>\n",
       "      <td>977.517107</td>\n",
       "      <td>horizontal-misalignment/1.5mm/16.7936.csv</td>\n",
       "    </tr>\n",
       "  </tbody>\n",
       "</table>\n",
       "<p>237184 rows × 13 columns</p>\n",
       "</div>"
      ],
      "text/plain": [
       "         tachometer       ax        ay        az        bx        by  \\\n",
       "t                                                                      \n",
       "0.00000     4.46390  1.27330  1.297185  0.033427  0.052611  0.057577   \n",
       "0.00002     4.46570 -0.74724  0.852230 -0.061118 -0.021684  0.032023   \n",
       "0.00004     4.45350  1.10910  1.197030 -0.014861  0.056175  0.062646   \n",
       "0.00006     4.46870 -0.43897  0.622929 -0.091402 -0.016462  0.032701   \n",
       "0.00008     4.45640  0.49322  0.597385  0.014023  0.022246  0.037437   \n",
       "...             ...      ...       ...       ...       ...       ...   \n",
       "4.74358    -0.87862 -1.98680  2.053727 -0.083187 -1.568500  1.569004   \n",
       "4.74360    -0.79904  0.85936  0.892822  0.043119 -1.441900  1.442412   \n",
       "4.74362    -0.72662 -1.44100  1.524046 -0.038522 -1.514100  1.514641   \n",
       "4.74364    -0.67869 -0.21970  0.287777  0.068971 -1.451600  1.452055   \n",
       "4.74366    -0.75835 -0.37648  0.453827 -0.037925 -1.465800  1.466259   \n",
       "\n",
       "               bz       mic     mag_a     mag_b    rev         rpm  \\\n",
       "t                                                                    \n",
       "0.00000  0.023704 -0.021927  1.297185  0.057577  False  977.835724   \n",
       "0.00002 -0.077300  0.077566  0.852230  0.032023  False  977.835724   \n",
       "0.00004 -0.009375 -0.115730  1.197030  0.062646  False  977.835724   \n",
       "0.00006 -0.011475  0.142450  0.622929  0.032701  False  977.835724   \n",
       "0.00008  0.078617 -0.138580  0.597385  0.037437  False  977.835724   \n",
       "...           ...       ...       ...       ...    ...         ...   \n",
       "4.74358 -0.459080  0.361660  2.053727  1.569004  False  977.517107   \n",
       "4.74360 -0.368830 -0.231960  0.892822  1.442412  False  977.517107   \n",
       "4.74362 -0.429730  0.440660  1.524046  1.514641  False  977.517107   \n",
       "4.74364 -0.365110 -0.182140  0.287777  1.452055  False  977.517107   \n",
       "4.74366 -0.366550  0.303030  0.453827  1.466259  False  977.517107   \n",
       "\n",
       "                                               key  \n",
       "t                                                   \n",
       "0.00000  horizontal-misalignment/1.5mm/16.7936.csv  \n",
       "0.00002  horizontal-misalignment/1.5mm/16.7936.csv  \n",
       "0.00004  horizontal-misalignment/1.5mm/16.7936.csv  \n",
       "0.00006  horizontal-misalignment/1.5mm/16.7936.csv  \n",
       "0.00008  horizontal-misalignment/1.5mm/16.7936.csv  \n",
       "...                                            ...  \n",
       "4.74358  horizontal-misalignment/1.5mm/16.7936.csv  \n",
       "4.74360  horizontal-misalignment/1.5mm/16.7936.csv  \n",
       "4.74362  horizontal-misalignment/1.5mm/16.7936.csv  \n",
       "4.74364  horizontal-misalignment/1.5mm/16.7936.csv  \n",
       "4.74366  horizontal-misalignment/1.5mm/16.7936.csv  \n",
       "\n",
       "[237184 rows x 13 columns]"
      ]
     },
     "execution_count": 3,
     "metadata": {},
     "output_type": "execute_result"
    }
   ],
   "source": [
    "misalign = src.csv_import(ZipFile(MAFAULDA_PATH), 'horizontal-misalignment/1.5mm/16.7936.csv')\n",
    "misalign.describe()\n",
    "misalign"
   ]
  },
  {
   "cell_type": "markdown",
   "id": "ba27b13b-6eb7-4029-9809-183ab666e972",
   "metadata": {},
   "source": [
    "Plot tachometer pulses and calculate revolutions per minute (rpm)"
   ]
  },
  {
   "cell_type": "code",
   "execution_count": null,
   "id": "148914d9",
   "metadata": {},
   "outputs": [],
   "source": [
    "fig, ax = plt.subplots(nrows=1, ncols=2, figsize=(10, 3))\n",
    "g = misalign['tachometer'][:0.5].plot(ax=ax[0], title='Tachometer', xlabel='Time [s]', ylabel='Impulse')\n",
    "g = misalign['rpm'].plot(ax=ax[1], title='RPM', xlabel='Time [s]', ylabel='RPM')"
   ]
  },
  {
   "cell_type": "markdown",
   "id": "1b7d7255-f66b-48bf-a943-b63fca17d1a4",
   "metadata": {},
   "source": [
    "Plot histograms for each column to get sense of the distributions"
   ]
  },
  {
   "cell_type": "code",
   "execution_count": null,
   "id": "fbba4d75",
   "metadata": {},
   "outputs": [],
   "source": [
    "g = misalign.hist(figsize=(15, 10), bins=50)"
   ]
  },
  {
   "cell_type": "markdown",
   "id": "cfbf05ce-cd3e-4394-9bda-297c83cce580",
   "metadata": {},
   "source": [
    "Plot short segment of time domain signal"
   ]
  },
  {
   "cell_type": "code",
   "execution_count": null,
   "id": "4bfe2cf4",
   "metadata": {},
   "outputs": [],
   "source": [
    "x = 1024\n",
    "l = 4096\n",
    "g = misalign[['ax', 'ay', 'az']].iloc[x:x+l].plot(subplots=True, figsize=(15, 5), grid=True)"
   ]
  },
  {
   "cell_type": "markdown",
   "id": "8908b328-4160-4937-927a-2cd13af719b3",
   "metadata": {},
   "source": [
    "Plot subsampled time domain signal with subsampling factor"
   ]
  },
  {
   "cell_type": "code",
   "execution_count": null,
   "id": "d25cc388-5be3-44ec-88c8-2dc71a73b6f3",
   "metadata": {},
   "outputs": [],
   "source": [
    "factor = 100\n",
    "g = misalign[['ax', 'ay', 'az']].iloc[::factor, :].plot(subplots=True, figsize=(15, 5), grid=True)"
   ]
  },
  {
   "cell_type": "markdown",
   "id": "3b1de897-afc9-40ce-863b-615268c69a96",
   "metadata": {},
   "source": [
    "Plot magnitutes of each acceleration vector"
   ]
  },
  {
   "cell_type": "code",
   "execution_count": null,
   "id": "ffcfec7d",
   "metadata": {},
   "outputs": [],
   "source": [
    "g = misalign[['mag_a', 'mag_b']].plot(subplots=True, figsize=(10, 5), grid=True)"
   ]
  },
  {
   "cell_type": "code",
   "execution_count": null,
   "id": "6f0a4945",
   "metadata": {},
   "outputs": [],
   "source": [
    "src.normality_tests(misalign)"
   ]
  },
  {
   "cell_type": "code",
   "execution_count": null,
   "id": "21f5d513",
   "metadata": {},
   "outputs": [],
   "source": [
    "src.axis_spectrograms(misalign)"
   ]
  },
  {
   "cell_type": "markdown",
   "id": "1eed9828",
   "metadata": {},
   "source": [
    "Do not use magnitude - it is not oscilatory. Various axis have different responses, but the signal in each axis is **stationary**"
   ]
  },
  {
   "cell_type": "code",
   "execution_count": null,
   "id": "16caaab7",
   "metadata": {},
   "outputs": [],
   "source": [
    "subsample = 50\n",
    "src.rms_orbitals(misalign.iloc[::subsample, :])"
   ]
  },
  {
   "cell_type": "markdown",
   "id": "05385e2f-e294-4bd1-ae0d-a99fb8883c9a",
   "metadata": {},
   "source": [
    "Load normal conditions"
   ]
  },
  {
   "cell_type": "code",
   "execution_count": null,
   "id": "3ab82d61",
   "metadata": {},
   "outputs": [],
   "source": [
    "zip_file = ZipFile(MAFAULDA_PATH)\n",
    "filenames = src.get_mafaulda_files(zip_file)\n",
    "normal_files = [\n",
    "    name for name in filenames if name.startswith('normal')\n",
    "]\n",
    "normal_cond = src.import_files(zip_file, normal_files, src.csv_import)\n",
    "normal_cond.head()"
   ]
  },
  {
   "cell_type": "markdown",
   "id": "a488042e-58d0-463f-88e1-be34efb3b702",
   "metadata": {},
   "source": [
    "Calculate time domain features on normal conditions in one accelerometer axis"
   ]
  },
  {
   "cell_type": "code",
   "execution_count": null,
   "id": "58db7891",
   "metadata": {},
   "outputs": [],
   "source": [
    "td_featues = src.time_domain_features(normal_cond, 'ax')\n",
    "td_featues.head(10)"
   ]
  },
  {
   "cell_type": "code",
   "execution_count": null,
   "id": "02b2c152",
   "metadata": {},
   "outputs": [],
   "source": [
    "#sns.pairplot(td_featues)"
   ]
  },
  {
   "cell_type": "code",
   "execution_count": null,
   "id": "cd03da58",
   "metadata": {},
   "outputs": [],
   "source": [
    "sns.heatmap(td_featues.corr(), annot=True)"
   ]
  },
  {
   "cell_type": "code",
   "execution_count": null,
   "id": "5d9782e7",
   "metadata": {},
   "outputs": [],
   "source": [
    "imbalance = src.csv_import_td_features(zip_file, 'imbalance/10g/56.9344.csv')\n",
    "#imbalance.to_csv('imbalance_features.csv')\n",
    "imbalance.reset_index(inplace=True)"
   ]
  },
  {
   "cell_type": "code",
   "execution_count": null,
   "id": "c975e9a4",
   "metadata": {},
   "outputs": [],
   "source": [
    "fig = plt.figure(figsize=(5, 5))\n",
    "ax = fig.add_subplot(projection='3d')\n",
    "ax.scatter(imbalance['mean'], imbalance['std'], imbalance['rms'])\n",
    "\n",
    "ax.set_xlabel('Mean')\n",
    "ax.set_ylabel('Standard deviation')\n",
    "ax.set_zlabel('Amplitude')\n",
    "\n",
    "plt.show()"
   ]
  },
  {
   "cell_type": "code",
   "execution_count": null,
   "id": "7da4aaa3",
   "metadata": {},
   "outputs": [],
   "source": [
    "from multiprocessing.pool import ThreadPool\n",
    "\n",
    "pool = ThreadPool(processes=4)\n",
    "imbalance_files = [\n",
    "    name for name in filenames if name.startswith('imbalance')\n",
    "]\n",
    "WINDOW = 2**14\n",
    "src.resolution_calc(src.FS_HZ, WINDOW)\n",
    "spectra = src.fft_csv_import(zip_file, 'imbalance/10g/56.9344.csv', fs=src.FS_HZ, window=WINDOW, overlap=0.5, is_welch=True)\n",
    "spectra.head(10)"
   ]
  },
  {
   "cell_type": "code",
   "execution_count": null,
   "id": "4d1c7fc0",
   "metadata": {},
   "outputs": [],
   "source": [
    "spectra.iloc[0].loc[:500].plot(legend=False)"
   ]
  },
  {
   "cell_type": "code",
   "execution_count": null,
   "id": "6c68dd69",
   "metadata": {},
   "outputs": [],
   "source": [
    "np.log(spectra.iloc[0]).iloc[:200].plot(legend=False, grid=True)"
   ]
  },
  {
   "cell_type": "code",
   "execution_count": null,
   "id": "e19791f7",
   "metadata": {},
   "outputs": [],
   "source": [
    "WINDOW = 2**13\n",
    "from tqdm.notebook import tqdm\n",
    "\n",
    "zip_file = ZipFile(MAFAULDA_PATH)\n",
    "imbalancePSD = pd.concat([\n",
    "    pool.apply_async(src.fft_csv_import, (zip_file, name, WINDOW, 0.5, src.FS_HZ, True)).get()\n",
    "    for name in tqdm(imbalance_files)\n",
    "])"
   ]
  },
  {
   "cell_type": "code",
   "execution_count": null,
   "id": "75f94cdc",
   "metadata": {},
   "outputs": [],
   "source": [
    "imbalancePSD"
   ]
  },
  {
   "cell_type": "code",
   "execution_count": null,
   "id": "30a78f4c",
   "metadata": {},
   "outputs": [],
   "source": [
    "imbalancePSD.T[(10, '56.9344.csv')].loc[:500].plot()"
   ]
  },
  {
   "cell_type": "code",
   "execution_count": null,
   "id": "a7754fa5",
   "metadata": {},
   "outputs": [],
   "source": [
    "bins = imbalancePSD.T[(10, '56.9344.csv')]\n",
    "peaks, properties = find_peaks(bins, prominence=0.01)\n",
    "plt.plot(bins.index, bins)\n",
    "plt.scatter(bins.index[peaks], bins[bins.index[peaks]], color='r')\n",
    "plt.xlim(0, 1000)\n",
    "plt.xlabel('Frequency [Hz]')\n",
    "plt.ylabel('Amplitude')"
   ]
  },
  {
   "cell_type": "code",
   "execution_count": null,
   "id": "83445eb7",
   "metadata": {},
   "outputs": [],
   "source": [
    "peak_features = src.extract_peaks(imbalancePSD)\n",
    "sns.lmplot(x='y_f0', y='y_f1', data=peak_features, fit_reg=False, hue='load_f0', legend=False)\n",
    "plt.legend(loc='lower right')\n",
    "plt.show()"
   ]
  },
  {
   "cell_type": "code",
   "execution_count": null,
   "id": "52d6f02e",
   "metadata": {},
   "outputs": [],
   "source": [
    "sns.lmplot(x='f_f0', y='f_f1', data=peak_features, fit_reg=False, hue='load_f0', legend=False)\n",
    "plt.legend(loc='lower right')\n",
    "plt.show()"
   ]
  },
  {
   "cell_type": "code",
   "execution_count": null,
   "id": "d4737be1",
   "metadata": {},
   "outputs": [],
   "source": [
    "# Spectral statistics\n",
    "from scipy.stats import skew, kurtosis\n",
    "\n",
    "rms = lambda x: np.sqrt((x ** 2).mean())\n",
    "spectral_centroid = lambda x: np.average(x.index, weights=x)\n",
    "\n",
    "fd_features = pd.concat([\n",
    "    imbalancePSD.mean(axis=1).rename('mean'),\n",
    "    imbalancePSD.std(axis=1).rename('std'),\n",
    "    imbalancePSD.T.apply(lambda x: skew(x)).rename('skew'),\n",
    "    imbalancePSD.T.apply(lambda x: kurtosis(x)).rename('kurtosis'),\n",
    "    imbalancePSD.T.apply(rms).rename('rms'),\n",
    "    imbalancePSD.T.apply(spectral_centroid).rename('centroid')\n",
    "    ],\n",
    "    axis=1\n",
    ")\n",
    "fd_features.head(10)"
   ]
  },
  {
   "cell_type": "code",
   "execution_count": null,
   "id": "44abf07d",
   "metadata": {},
   "outputs": [],
   "source": [
    "# sns.pairplot(fd_features)"
   ]
  },
  {
   "cell_type": "code",
   "execution_count": null,
   "id": "3aa65104",
   "metadata": {},
   "outputs": [],
   "source": [
    "fd_plain = fd_features.reset_index()\n",
    "sns.lmplot(x='rms', y='kurtosis', data=fd_plain, fit_reg=False, hue='load_f0', legend=False)\n",
    "plt.legend(loc='lower right')\n",
    "plt.show()"
   ]
  },
  {
   "cell_type": "code",
   "execution_count": null,
   "id": "7fe4e697",
   "metadata": {},
   "outputs": [],
   "source": [
    "fig = plt.figure(figsize=(5, 5))\n",
    "ax = fig.add_subplot(projection='3d')\n",
    "ax.scatter(fd_plain['kurtosis'], fd_plain['centroid'], fd_plain['rms'])\n",
    "\n",
    "ax.set_xlabel('Kurtosis')\n",
    "ax.set_ylabel('Centroid')\n",
    "ax.set_zlabel('RMS')"
   ]
  },
  {
   "cell_type": "code",
   "execution_count": null,
   "id": "26f92cba",
   "metadata": {},
   "outputs": [],
   "source": [
    "# Compare different faults"
   ]
  },
  {
   "cell_type": "markdown",
   "id": "568b9f89",
   "metadata": {},
   "source": [
    "### PSD of severe faults by axis (Welch) - up to 2 kHz (120 000 RPM)"
   ]
  },
  {
   "cell_type": "code",
   "execution_count": null,
   "id": "114d4280",
   "metadata": {},
   "outputs": [],
   "source": [
    "FS = 50000\n",
    "WINDOW = 2**13\n",
    "fault_files = [\n",
    "    'horizontal-misalignment/2.0mm/60.8256.csv',\n",
    "    'vertical-misalignment/1.90mm/61.44.csv',\n",
    "    'imbalance/35g/56.7296.csv',\n",
    "    'normal/61.44.csv',\n",
    "    'overhang/ball_fault/35g/32.1536.csv',\n",
    "    'overhang/cage_fault/35g/54.0672.csv',\n",
    "    'overhang/outer_race/35g/53.4528.csv',\n",
    "    'underhang/ball_fault/35g/50.7904.csv',\n",
    "    'underhang/cage_fault/35g/56.5248.csv',\n",
    "    'underhang/outer_race/35g/58.9824.csv'\n",
    "]\n",
    "\n",
    "src.fft_csv_import_by_axis(ZipFile(MAFAULDA_PATH), 'normal/61.44.csv', 'az', WINDOW, 0.5, src.FS_HZ, True)"
   ]
  },
  {
   "cell_type": "markdown",
   "id": "eab46862",
   "metadata": {},
   "source": [
    "### Measurement place A - import worst faults and compare each axis's PSD"
   ]
  },
  {
   "cell_type": "code",
   "execution_count": null,
   "id": "798b8622",
   "metadata": {},
   "outputs": [],
   "source": [
    "zip_file = ZipFile(MAFAULDA_PATH)\n",
    "faultPSD_X = pd.concat([\n",
    "    pool.apply_async(src.fft_csv_import_by_axis, (zip_file, name, 'ax', WINDOW, 0.5, src.FS_HZ, True)).get()\n",
    "    for name in tqdm(fault_files)\n",
    "])\n",
    "\n",
    "faultPSD_Y = pd.concat([\n",
    "    pool.apply_async(src.fft_csv_import_by_axis, (zip_file, name, 'ay', WINDOW, 0.5, src.FS_HZ, True)).get()\n",
    "    for name in tqdm(fault_files)\n",
    "])\n",
    "\n",
    "faultPSD_Z = pd.concat([\n",
    "    pool.apply_async(src.fft_csv_import_by_axis, (zip_file, name, 'az', WINDOW, 0.5, src.FS_HZ, True)).get()\n",
    "    for name in tqdm(fault_files)\n",
    "])"
   ]
  },
  {
   "cell_type": "code",
   "execution_count": null,
   "id": "ff14f83a",
   "metadata": {},
   "outputs": [],
   "source": [
    "f_cutoff = 2000\n",
    "\n",
    "faultPSD_X_v = faultPSD_X.drop('rpm', axis=1)\n",
    "x_psd = (\n",
    "    faultPSD_X_v\n",
    "    .T[faultPSD_X_v.T.index < f_cutoff]\n",
    ")\n",
    "axis = x_psd.plot(\n",
    "    subplots=True,\n",
    "    figsize=(20, 15),\n",
    "    xlabel='Frequency [Hz]',\n",
    "    ylabel='Amplitude'\n",
    ")\n",
    "\n",
    "# Graph RPM\n",
    "for ax, rpm  in zip(axis, faultPSD_X['rpm']):\n",
    "    f0 = rpm / 60\n",
    "    ax.axvline(x=f0, color='red')\n",
    "    # n - harmonics of rotating frequency\n",
    "    n = 6\n",
    "    for i in range(2, n):\n",
    "        ax.axvline(x=f0 * i, color='orange')"
   ]
  },
  {
   "cell_type": "code",
   "execution_count": null,
   "id": "a71a8e05",
   "metadata": {},
   "outputs": [],
   "source": [
    "faultPSD_Y_v = faultPSD_Y.drop('rpm', axis=1)\n",
    "y_psd = faultPSD_Y_v.T[faultPSD_Y_v.T.index < f_cutoff]\n",
    "p = y_psd.plot(subplots=True, figsize=(20, 15))"
   ]
  },
  {
   "cell_type": "code",
   "execution_count": null,
   "id": "5cbd5c00",
   "metadata": {},
   "outputs": [],
   "source": [
    "faultPSD_Z_v = faultPSD_Z.drop('rpm', axis=1)\n",
    "z_psd = faultPSD_Z_v.T[faultPSD_Z_v.T.index < f_cutoff]\n",
    "p = z_psd.plot(subplots=True, figsize=(20, 15))"
   ]
  }
 ],
 "metadata": {
  "kernelspec": {
   "display_name": "Python 3 (ipykernel)",
   "language": "python",
   "name": "python3"
  },
  "language_info": {
   "codemirror_mode": {
    "name": "ipython",
    "version": 3
   },
   "file_extension": ".py",
   "mimetype": "text/x-python",
   "name": "python",
   "nbconvert_exporter": "python",
   "pygments_lexer": "ipython3",
   "version": "3.11.5"
  }
 },
 "nbformat": 4,
 "nbformat_minor": 5
}
