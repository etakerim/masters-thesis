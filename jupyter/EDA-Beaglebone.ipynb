{
 "cells": [
  {
   "cell_type": "code",
   "execution_count": null,
   "id": "b87fb0fc-08ab-4abd-8dad-279d5cc42075",
   "metadata": {},
   "outputs": [],
   "source": [
    "import pandas as pd\n",
    "import matplotlib.pyplot as plt\n",
    "import mafaulda as src\n",
    "import numpy as np\n",
    "\n",
    "from scipy.signal import find_peaks\n",
    "from scipy.signal import butter, lfilter\n",
    "\n",
    "file_list = [\n",
    "    'raw_data/air_conditioning/excool_digitalis/high_pressure_pump_40percent__1.tsv',\n",
    "    'raw_data/air_conditioning/excool_digitalis/high_pressure_pump_40percent__2.tsv',\n",
    "    'raw_data/air_conditioning/excool_digitalis/high_pressure_pump_40percent_speed_up__3.tsv',\n",
    "    'raw_data/air_conditioning/excool_digitalis/high_pressure_pump_80percent__4.tsv',\n",
    "    'raw_data/air_conditioning/shc2/compressor_shc2_klima4_bad.tsv',\n",
    "    'raw_data/air_conditioning/shc2/compressor_shc2_klima5_good.tsv',\n",
    "    'raw_data/air_conditioning/vertiv_digitalis/compressor_top_1.tsv',\n",
    "    'raw_data/air_conditioning/vertiv_digitalis/compressor_top_2.tsv',\n",
    "    'raw_data/air_conditioning/vertiv_digitalis/compressor_top_3.tsv',\n",
    "    'raw_data/air_conditioning/vertiv_digitalis/compressor_base.tsv',\n",
    "    'raw_data/air_conditioning/vertiv_digitalis/compressor_side.tsv'\n",
    "]\n",
    "src_file = file_list[10]\n",
    "\n",
    "kind = 'beaglebone' # beaglebone, beaglebone_w_timer, boat\n",
    "\n",
    "T_WAVEFORM = 5\n",
    "T_SEC = T_WAVEFORM\n",
    "NFFT = 512\n",
    "\n",
    "if kind == 'beaglebone':\n",
    "    # Fan\n",
    "    Fs = 1160 # 1160 Hz +/-150 Hz (1020 - 1340 Hz)\n",
    "    # src_file = 'raw_data/fan_test/fan_speed_3_4000.tsv'\n",
    "    ts = pd.read_csv(src_file, delimiter='\\t', index_col=False, header=None, names=['x', 'y', 'z'])\n",
    "    # Calculate amplitude in m/s^2 Beaglebone Black ADC and ADXL335 resolution (VIN 1.8V, 12bits)\n",
    "    for dim in ts.columns:\n",
    "        ts[dim] = ts[dim] * (1800 / 4096)  # ADC to mV\n",
    "        ts[dim] = (ts[dim] / 180) * 9.81  # mV to m/s^2 (180 mV/g)\n",
    "        ts[dim] -= ts[dim].mean()\n",
    "\n",
    "    ts['t'] = ts.index * (1 / Fs)\n",
    "\n",
    "elif kind == 'beaglebone_w_timer':\n",
    "    # Fan\n",
    "    Fs = 1160 # 1160 Hz +/-150 Hz (1020 - 1340 Hz)\n",
    "    # src_file = 'raw_data/fan_test/fan_speed_3_4000.tsv'\n",
    "    ts = pd.read_csv(src_file, delimiter='\\t', index_col=False, header=None, names=['x', 'y', 'z', 'diff'])\n",
    "    ts = ts.iloc[1:,:]\n",
    "    \n",
    "    # Calculate amplitude in m/s^2 Beaglebone Black ADC and ADXL335 resolution (VIN 1.8V, 12bits)\n",
    "    for dim in ts.columns:\n",
    "        ts[dim] = ts[dim] * (1800 / 4096)  # ADC to mV\n",
    "        ts[dim] = (ts[dim] / 180) * 9.81  # mV to m/s^2 (180 mV/g)\n",
    "        ts[dim] -= ts[dim].mean()\n",
    "\n",
    "    ts['t'] = t['diff'].cumsum()\n",
    "    Fs = ts['t'].mean()\n",
    "\n",
    "elif kind == 'boat':\n",
    "    # Boat\n",
    "    Fs = 200\n",
    "    #src_file = 'boat/Boat__2.txt'\n",
    "    ts = pd.read_csv(src_file, delimiter=' ')\n",
    "    ts['t'] = ts['t'].cumsum()\n",
    "    for dim in ts.columns:\n",
    "        ts[dim] -= ts[dim].mean()\n",
    "\n",
    "ts.set_index('t', inplace=True)\n",
    "ts"
   ]
  },
  {
   "cell_type": "code",
   "execution_count": null,
   "id": "594ae818-83bd-452e-9e2e-d5da2f1e6f8c",
   "metadata": {},
   "outputs": [],
   "source": [
    "ts.describe()"
   ]
  },
  {
   "cell_type": "code",
   "execution_count": null,
   "id": "cd1b7b7e-846f-4972-be25-b8b070dad107",
   "metadata": {
    "scrolled": true
   },
   "outputs": [],
   "source": [
    "ax = ts[['x', 'y', 'z']].plot(figsize=(20, 10), grid=True, subplots=True)\n",
    "for i in range(3):\n",
    "    ax[i].set_xlabel('Time [s]')\n",
    "    ax[i].set_ylabel(f'Amplitude ({i}) [m/s^2]')\n",
    "plt.savefig('waveform.png')"
   ]
  },
  {
   "cell_type": "code",
   "execution_count": null,
   "id": "a6f20f71-232b-4dfd-a639-3f67a3220342",
   "metadata": {},
   "outputs": [],
   "source": [
    "ax = ts[['x', 'y', 'z']].iloc[int(T_WAVEFORM*Fs):int(T_WAVEFORM*Fs)+Fs].plot(figsize=(20, 10), grid=True, subplots=True)\n",
    "for i in range(3):\n",
    "    ax[i].set_xlabel('Time [s]')\n",
    "    ax[i].set_ylabel(f'Amplitude ({i}) [m/s^2]')\n",
    "plt.savefig('waveform_zoom.png')"
   ]
  },
  {
   "cell_type": "code",
   "execution_count": null,
   "id": "f29aff63-02db-41cc-a0b2-a73ddc309933",
   "metadata": {},
   "outputs": [],
   "source": [
    "def spectogram(x):\n",
    "    plt.figure(figsize=(20, 4))\n",
    "    Pxx, freqs, t, im = plt.specgram(x, NFFT=NFFT, Fs=Fs, mode='magnitude', scale='dB')\n",
    "    plt.xlabel('Time [s]')\n",
    "    plt.ylabel('Frequency [Hz]')\n",
    "    src.resolution_calc(Fs, NFFT)\n",
    "    return freqs, Pxx\n",
    "\n",
    "\n",
    "def spectrum_slice(Pxx, t):\n",
    "    fig, ax = plt.subplots(2, 1, figsize=(20, 8))\n",
    "    n = (Fs * t) // NFFT + 1\n",
    "\n",
    "    dB = 20 * np.log10(Pxx.T[n] / 0.000001)\n",
    "    ax[0].plot(freqs, dB)      # 1 dB = 1 um/s^2\n",
    "    ax[0].grid(True)\n",
    "    ax[0].set_xlabel('Frequency [Hz]')\n",
    "    ax[0].set_ylabel('Amplitude [dB]')\n",
    "    \n",
    "    ax[1].plot(freqs, Pxx.T[n])\n",
    "    ax[1].grid(True)\n",
    "    ax[1].set_xlabel('Frequency [Hz]')\n",
    "    ax[1].set_ylabel('Amplitude [m/s^2]')\n",
    "    return n\n",
    "\n",
    "\n",
    "def get_max_frequency(freqs, Pxx, i):\n",
    "    max_freq = freqs[np.argmax(Pxx.T[i])]\n",
    "    print(f'Fundamental: {max_freq} Hz')\n",
    "    return max_freq\n",
    "\n",
    "\n",
    "def get_peaks(freqs, Pxx, i, top=5):\n",
    "    amplitudes = Pxx.T[i]\n",
    "    peaks, _ = find_peaks(amplitudes, distance=3)\n",
    "\n",
    "    fundamental = get_max_frequency(freqs, Pxx, i)\n",
    "    f_top = freqs[peaks[np.argsort(amplitudes[peaks])]][::-top]\n",
    "    y_top = np.sort(amplitudes[peaks])[::-top]\n",
    "\n",
    "    return pd.DataFrame({\n",
    "        'f': f_top,\n",
    "        'y': y_top,\n",
    "        '1x': f_top / fundamental \n",
    "    })\n",
    "\n",
    "\n",
    "def butter_bandpass_filter(data, lowcut, highcut, fs, order=5):\n",
    "    b, a = butter(order, [lowcut, highcut], fs=fs, btype='band')\n",
    "    y = lfilter(b, a, data)\n",
    "    return y\n",
    "    "
   ]
  },
  {
   "cell_type": "code",
   "execution_count": null,
   "id": "4db90dff-cb26-41ad-9cc0-cd2234065803",
   "metadata": {},
   "outputs": [],
   "source": [
    "freqs, Pxx = spectogram(ts['x'])\n",
    "plt.savefig(f'x_axis_fft_{NFFT}.png')"
   ]
  },
  {
   "cell_type": "code",
   "execution_count": null,
   "id": "e86b9741-3c74-4dd8-985a-3b1cbeb6d20a",
   "metadata": {},
   "outputs": [],
   "source": [
    "i_window = spectrum_slice(Pxx, T_SEC);\n",
    "plt.savefig(f'x_axis_fft_{NFFT}_at_{T_SEC}s.png')"
   ]
  },
  {
   "cell_type": "code",
   "execution_count": null,
   "id": "bc38a721-9953-47e6-9e65-827070b981d8",
   "metadata": {},
   "outputs": [],
   "source": [
    "x_fundamental = get_max_frequency(freqs, Pxx, i_window)"
   ]
  },
  {
   "cell_type": "code",
   "execution_count": null,
   "id": "b9731464-b2b3-4009-a81f-d9e58b5349dd",
   "metadata": {},
   "outputs": [],
   "source": [
    "get_peaks(freqs, Pxx, i_window)"
   ]
  },
  {
   "cell_type": "code",
   "execution_count": null,
   "id": "53fcc014-6d6d-46a2-822a-efa54c135955",
   "metadata": {},
   "outputs": [],
   "source": [
    "freqs, Pxx = spectogram(ts['y'])\n",
    "plt.savefig(f'y_axis_fft_{NFFT}.png')"
   ]
  },
  {
   "cell_type": "code",
   "execution_count": null,
   "id": "97976824-4959-4c01-bc8d-1ac6faa33a0f",
   "metadata": {},
   "outputs": [],
   "source": [
    "i_window = spectrum_slice(Pxx, T_SEC);\n",
    "plt.savefig(f'y_axis_fft_{NFFT}_at_{T_SEC}s.png')"
   ]
  },
  {
   "cell_type": "code",
   "execution_count": null,
   "id": "99b6b9e6-09a7-484c-bb47-cdc806f2c3c5",
   "metadata": {},
   "outputs": [],
   "source": [
    "y_fundamental = get_max_frequency(freqs, Pxx, i_window)"
   ]
  },
  {
   "cell_type": "code",
   "execution_count": null,
   "id": "c36a6bb6-c65b-4511-bef3-4a818a131d4c",
   "metadata": {},
   "outputs": [],
   "source": [
    "get_peaks(freqs, Pxx, i_window)"
   ]
  },
  {
   "cell_type": "code",
   "execution_count": null,
   "id": "ac73dfd3-2b9e-4581-abf1-862871ede485",
   "metadata": {},
   "outputs": [],
   "source": [
    "freqs, Pxx = spectogram(ts['y'])\n",
    "plt.savefig(f'z_axis_fft_{NFFT}.png')"
   ]
  },
  {
   "cell_type": "code",
   "execution_count": null,
   "id": "0e49dad2-bd3e-46f1-a6f0-e038ad959661",
   "metadata": {
    "scrolled": true
   },
   "outputs": [],
   "source": [
    "i_window = spectrum_slice(Pxx, T_SEC);\n",
    "plt.savefig(f'z_axis_fft_{NFFT}_at_{T_SEC}s.png')"
   ]
  },
  {
   "cell_type": "code",
   "execution_count": null,
   "id": "af03fe41-a019-473d-9f09-78e5544bf48d",
   "metadata": {},
   "outputs": [],
   "source": [
    "z_fundamental = get_max_frequency(freqs, Pxx, i_window)"
   ]
  },
  {
   "cell_type": "code",
   "execution_count": null,
   "id": "c00a6a26-d542-4199-893c-db2d6c924c25",
   "metadata": {},
   "outputs": [],
   "source": [
    "get_peaks(freqs, Pxx, i_window)"
   ]
  },
  {
   "cell_type": "code",
   "execution_count": null,
   "id": "0a5f9a84-fdfd-42d7-b76d-8e5e3b52d9f1",
   "metadata": {},
   "outputs": [],
   "source": [
    "ts[['x', 'y', 'z']].hist(figsize=(20, 5), grid=True, bins=50)"
   ]
  },
  {
   "cell_type": "code",
   "execution_count": null,
   "id": "0f2c7690-1ffb-4099-b52e-33e9fa39ffba",
   "metadata": {},
   "outputs": [],
   "source": [
    "fig, ax = plt.subplots(1, 3, figsize=(20, 4))\n",
    "\n",
    "for i, col in enumerate([('x', 'y'), ('x', 'z'), ('y', 'z')]):\n",
    "    ax[i].scatter(ts[col[0]], ts[col[1]], s=1)\n",
    "    ax[i].grid(True)\n",
    "    ax[i].set_xlabel(col[0].upper())\n",
    "    ax[i].set_ylabel(col[1].upper())\n",
    "    ax[i].grid(True)\n",
    "\n",
    "plt.savefig('orbitals.png')"
   ]
  },
  {
   "cell_type": "code",
   "execution_count": null,
   "id": "20309dda-5b92-4d8c-bf29-c17b7ff10f90",
   "metadata": {},
   "outputs": [],
   "source": [
    "space = 5\n",
    "ts['x_1x'] = butter_bandpass_filter(ts['x'], x_fundamental - space, x_fundamental + space, Fs)\n",
    "ts['y_1x'] = butter_bandpass_filter(ts['y'], y_fundamental - space, y_fundamental + space, Fs)\n",
    "ts['z_1x'] = butter_bandpass_filter(ts['z'], z_fundamental - space, z_fundamental + space, Fs)"
   ]
  },
  {
   "cell_type": "code",
   "execution_count": null,
   "id": "9cc92a20-3797-46ab-8b0b-8227c319b2f7",
   "metadata": {},
   "outputs": [],
   "source": [
    "fig, ax = plt.subplots(1, 3, figsize=(20, 4))\n",
    "\n",
    "for i, col in enumerate([('x_1x', 'y_1x'), ('x_1x', 'z_1x'), ('y_1x', 'z_1x')]):\n",
    "    ax[i].scatter(ts[col[0]], ts[col[1]], s=1)\n",
    "    ax[i].grid(True)\n",
    "    ax[i].set_xlabel(col[0].upper())\n",
    "    ax[i].set_ylabel(col[1].upper())\n",
    "    ax[i].grid(True)\n",
    "\n",
    "plt.savefig('orbitals_1x.png')"
   ]
  }
 ],
 "metadata": {
  "kernelspec": {
   "display_name": "Python 3 (ipykernel)",
   "language": "python",
   "name": "python3"
  },
  "language_info": {
   "codemirror_mode": {
    "name": "ipython",
    "version": 3
   },
   "file_extension": ".py",
   "mimetype": "text/x-python",
   "name": "python",
   "nbconvert_exporter": "python",
   "pygments_lexer": "ipython3",
   "version": "3.11.5"
  }
 },
 "nbformat": 4,
 "nbformat_minor": 5
}
