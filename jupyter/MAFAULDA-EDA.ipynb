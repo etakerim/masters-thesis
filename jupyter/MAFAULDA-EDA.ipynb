{
 "cells": [
  {
   "cell_type": "code",
   "execution_count": null,
   "id": "5b3b5667",
   "metadata": {},
   "outputs": [],
   "source": [
    "# https://www02.smt.ufrj.br/~offshore/mfs/page_01.html\n",
    "import numpy as np\n",
    "from zipfile import ZipFile\n",
    "import pandas as pd\n",
    "import matplotlib.pyplot as plt\n",
    "from pprint import pprint\n",
    "\n",
    "zip_file = ZipFile('../../datasets/MAFAULDA.zip')\n",
    "\n",
    "\n",
    "FS_HZ = 50000\n",
    "\n",
    "filenames = [\n",
    "    text_file.filename \n",
    "    for text_file in zip_file.infolist()\n",
    "    if text_file.filename.endswith('.csv')\n",
    "]\n",
    "\n",
    "misalign =(\n",
    "    pd.read_csv(\n",
    "        zip_file.open('horizontal-misalignment/1.5mm/16.7936.csv'), \n",
    "        names=['tachometer', 'ax', 'ay', 'az', 'bx', 'by', 'bz', 'mic'])\n",
    ")\n",
    "filenames.sort()\n",
    "pprint(filenames)"
   ]
  },
  {
   "cell_type": "markdown",
   "id": "1d86dc36",
   "metadata": {},
   "source": [
    "### Calculate RPM from square wave tachometer signal"
   ]
  },
  {
   "cell_type": "code",
   "execution_count": null,
   "id": "844ee386",
   "metadata": {},
   "outputs": [],
   "source": [
    "def preprocess(sequence):\n",
    "    return (\n",
    "        sequence\n",
    "        .assign(t = lambda x: x.index * (1 / FS_HZ))\n",
    "        .assign(mag_a = lambda x: np.hypot(x.ax, x.ay, x.ay))\n",
    "        .assign(mag_b = lambda x: np.hypot(x.bx, x.by, x.by))\n",
    "        .assign(rev = lambda x: (x.tachometer - x.shift(-1).tachometer) >= 3)\n",
    "        .assign(rpm = lambda x: 60 / (x[x.rev == True].t - x[x.rev == True].shift(1).t))\n",
    "        .assign(rpm = lambda x: x.rpm.fillna(method='ffill').rolling(\n",
    "            (x[x.rev == True].index.values - np.roll(x[x.rev == True].index.values, 1)).max()\n",
    "        ).median())  # Smooth out outliers by robust filter\n",
    "        .dropna()\n",
    "        .reset_index(drop=True)\n",
    "        .assign(t = lambda x: x.index * (1 / FS_HZ))\n",
    "        .set_index('t')\n",
    "    )\n",
    "\n",
    "df = preprocess(misalign)"
   ]
  },
  {
   "cell_type": "code",
   "execution_count": null,
   "id": "bca88609",
   "metadata": {},
   "outputs": [],
   "source": [
    "df.describe()"
   ]
  },
  {
   "cell_type": "code",
   "execution_count": null,
   "id": "148914d9",
   "metadata": {},
   "outputs": [],
   "source": [
    "g = df.rpm.plot(figsize=(5, 3), title='RPM', xlabel='Time [s]', ylabel='RPM')"
   ]
  },
  {
   "cell_type": "code",
   "execution_count": null,
   "id": "9e51402a",
   "metadata": {},
   "outputs": [],
   "source": [
    "df['tachometer'][:0.5].plot(figsize=(5, 3), title='Tachometer', xlabel='Time [s]', ylabel='Impuls')"
   ]
  },
  {
   "cell_type": "markdown",
   "id": "3df9985e",
   "metadata": {},
   "source": [
    "###  Histograms"
   ]
  },
  {
   "cell_type": "code",
   "execution_count": null,
   "id": "fbba4d75",
   "metadata": {},
   "outputs": [],
   "source": [
    "g = df.hist(figsize=(20, 10))"
   ]
  },
  {
   "cell_type": "code",
   "execution_count": null,
   "id": "0b009406",
   "metadata": {},
   "outputs": [],
   "source": [
    "g = df[['ax', 'ay', 'az']].plot.density(figsize=(8, 5))"
   ]
  },
  {
   "cell_type": "code",
   "execution_count": null,
   "id": "4bfe2cf4",
   "metadata": {},
   "outputs": [],
   "source": [
    "x = 1024\n",
    "g = (df[['ax', 'ay', 'az']]\n",
    " .iloc[x:x+2048]\n",
    " .plot(subplots=True, figsize=(20, 10), grid=True)\n",
    ")"
   ]
  },
  {
   "cell_type": "code",
   "execution_count": null,
   "id": "ffcfec7d",
   "metadata": {},
   "outputs": [],
   "source": [
    "g = (df[['mag_a', 'mag_b']]\n",
    " .plot(subplots=True, figsize=(20, 10), grid=True)\n",
    ")"
   ]
  },
  {
   "cell_type": "markdown",
   "id": "0102ab73",
   "metadata": {},
   "source": [
    "###  Q-Q plot and Kolmogorov-Smirnov test for normality"
   ]
  },
  {
   "cell_type": "code",
   "execution_count": null,
   "id": "6f0a4945",
   "metadata": {},
   "outputs": [],
   "source": [
    "import statsmodels.api as sm\n",
    "from scipy.stats import kstest\n",
    "\n",
    "figure, axes = plt.subplots(2, 3, figsize=(10, 5))\n",
    "\n",
    "for i, col in enumerate(['ax', 'ay', 'az', 'bx', 'by', 'bz']):\n",
    "    print('Normality test p-value: ', kstest(df[col], 'norm').pvalue, '(<0.05 is not normal)')\n",
    "    sm.qqplot(df[col], line='45', ax = axes[i // 3, i % 3])\n",
    "    \n",
    "plt.tight_layout()\n",
    "plt.show()"
   ]
  },
  {
   "cell_type": "markdown",
   "id": "3c15b8d7",
   "metadata": {},
   "source": [
    "### Frequncy analysis (Spectrogram FFT)"
   ]
  },
  {
   "cell_type": "code",
   "execution_count": null,
   "id": "21f5d513",
   "metadata": {},
   "outputs": [],
   "source": [
    "fig, ax = plt.subplots(2, 1, figsize=(20, 8))\n",
    "\n",
    "RESOLUTION = 8\n",
    "WINDOW = FS_HZ // RESOLUTION\n",
    "print('Window size:', WINDOW)\n",
    "print('Heinsenberg rectangle')\n",
    "print('Time step:', WINDOW / FS_HZ * 1000, 'ms')\n",
    "print('Frequency step:', RESOLUTION, 'Hz')\n",
    "\n",
    "pxx, freq, t, cax = ax[0].specgram(\n",
    "    df.az,\n",
    "    Fs=FS_HZ, \n",
    "    mode='magnitude',\n",
    "    window=np.hamming(WINDOW), \n",
    "    NFFT=WINDOW, \n",
    "    noverlap=WINDOW//2\n",
    ")\n",
    "\n",
    "pxx, freq, t, cax = ax[1].specgram(\n",
    "    df.mag_b,\n",
    "    Fs=FS_HZ, \n",
    "    mode='magnitude',\n",
    "    window=np.hamming(WINDOW), \n",
    "    NFFT=WINDOW, \n",
    "    noverlap=WINDOW//2\n",
    ")\n",
    "\n",
    "ax[0].set_xlabel('Time [s]')\n",
    "ax[0].set_ylabel('Frequency [Hz]')\n",
    "#ax[0].set_ylim(700, 1200)\n",
    "g = plt.colorbar(cax, ax=ax)"
   ]
  },
  {
   "cell_type": "markdown",
   "id": "02132d1f",
   "metadata": {},
   "source": [
    "### Orbitals from RMS"
   ]
  },
  {
   "cell_type": "code",
   "execution_count": null,
   "id": "16caaab7",
   "metadata": {},
   "outputs": [],
   "source": [
    "n = 100\n",
    "ts = 1000\n",
    "fig, ax = plt.subplots(1, 3, figsize=(20, 5))\n",
    "\n",
    "ax_rms = df['ax'].iloc[:ts].rolling(n).apply(\n",
    "        lambda x: np.sqrt((x ** 2).mean())\n",
    "    ) \n",
    "ay_rms = df['ay'].iloc[:ts].rolling(n).apply(\n",
    "        lambda x: np.sqrt((x ** 2).mean())\n",
    "    )\n",
    "az_rms = df['az'].iloc[:ts].rolling(n).apply(\n",
    "        lambda x: np.sqrt((x ** 2).mean())\n",
    "    )\n",
    "ax[0].set_xlabel('x')\n",
    "ax[0].set_ylabel('y')\n",
    "ax[0].scatter(ax_rms, ay_rms)\n",
    "ax[1].set_xlabel('x')\n",
    "ax[1].set_ylabel('z')\n",
    "ax[1].scatter(ax_rms, az_rms)\n",
    "ax[2].set_xlabel('y')\n",
    "ax[2].set_ylabel('z')\n",
    "ax[2].scatter(ay_rms, az_rms)"
   ]
  },
  {
   "cell_type": "markdown",
   "id": "59322c8c",
   "metadata": {},
   "source": [
    "### "
   ]
  },
  {
   "cell_type": "code",
   "execution_count": null,
   "id": "3ab82d61",
   "metadata": {},
   "outputs": [],
   "source": [
    "# Preprocess, offset mean, Merge do jedného a v stĺpci bude key názvu, potom group by na všetky\n",
    "# Calculate rms ratio with rpm\n",
    "from multiprocessing.pool import ThreadPool\n",
    "pool = ThreadPool(processes=4)\n",
    "\n",
    "def csv_import(filename):\n",
    "    frame = pd.read_csv(\n",
    "        zip_file.open(filename), \n",
    "        names=['tachometer', 'ax', 'ay', 'az', 'bx', 'by', 'bz', 'mic']    \n",
    "    )\n",
    "    return (\n",
    "        frame\n",
    "        .assign(key=filename)\n",
    "        .assign(t = lambda x: x.index * (1 / FS_HZ))\n",
    "    )\n",
    "\n",
    "normal_cond = pd.concat([\n",
    "    pool.apply_async(csv_import, (name, )).get()\n",
    "    for name in filenames\n",
    "    if name.startswith('normal')\n",
    "])"
   ]
  },
  {
   "cell_type": "code",
   "execution_count": null,
   "id": "58db7891",
   "metadata": {},
   "outputs": [],
   "source": [
    "# Time domain features\n",
    "\n",
    "from scipy.stats import skew, kurtosis\n",
    "import seaborn as sns\n",
    "\n",
    "col = 'ax'\n",
    "\n",
    "rms = lambda x: np.sqrt((x ** 2).mean())\n",
    "\n",
    "td_featues = pd.concat([\n",
    "    normal_cond.groupby(by='key')[col].mean().rename('mean'),\n",
    "    normal_cond.groupby(by='key')[col].std().rename('std'),\n",
    "    normal_cond.groupby(by='key')[col].apply(lambda x: skew(x)).rename('skew'),\n",
    "    normal_cond.groupby(by='key')[col].apply(lambda x: kurtosis(x)).rename('kurtosis'),\n",
    "    normal_cond.groupby(by='key')[col].apply(rms).rename('rms')\n",
    "    ],\n",
    "    axis=1\n",
    ")\n",
    "td_featues.head(10)"
   ]
  },
  {
   "cell_type": "code",
   "execution_count": null,
   "id": "02b2c152",
   "metadata": {},
   "outputs": [],
   "source": [
    "sns.pairplot(td_featues)"
   ]
  },
  {
   "cell_type": "code",
   "execution_count": null,
   "id": "cd03da58",
   "metadata": {},
   "outputs": [],
   "source": [
    "sns.heatmap(td_featues.corr(), annot=True)"
   ]
  },
  {
   "cell_type": "code",
   "execution_count": null,
   "id": "5d9782e7",
   "metadata": {},
   "outputs": [],
   "source": [
    "# Compare featues between two different faults (or at least classes of severity of one fault)\n",
    "# imbalance/6g/33.9968.csv\n",
    "\n",
    "from multiprocessing.pool import ThreadPool\n",
    "from tqdm.notebook import tqdm\n",
    "pool = ThreadPool(processes=4)\n",
    "\n",
    "\n",
    "\n",
    "def csv_import(filename):\n",
    "    col = 'ax'\n",
    "    frame = pd.read_csv(\n",
    "        zip_file.open(filename), \n",
    "        names=['tachometer', 'ax', 'ay', 'az', 'bx', 'by', 'bz', 'mic']    \n",
    "    )\n",
    "    info = filename.split('/')\n",
    "    frame = (\n",
    "        frame\n",
    "        .assign(load=int(info[1].strip(' g')), no=info[2])\n",
    "        .assign(t = lambda x: x.index * (1 / FS_HZ))\n",
    "    )\n",
    "    return pd.concat([\n",
    "        frame.groupby(by=['load', 'no'])[col].mean().rename('mean'),\n",
    "        frame.groupby(by=['load', 'no'])[col].std().rename('std'),\n",
    "        frame.groupby(by=['load', 'no'])[col].apply(lambda x: skew(x)).rename('skew'),\n",
    "        frame.groupby(by=['load', 'no'])[col].apply(lambda x: kurtosis(x)).rename('kurtosis'),\n",
    "        frame.groupby(by=['load', 'no'])[col].apply(rms).rename('rms'),\n",
    "        frame.groupby(by=['load', 'no'])[col].apply(lambda x: max(abs(x.max()), abs(x.min()))).rename('amplitude')\n",
    "        ],\n",
    "        axis=1\n",
    "    ).reset_index()\n",
    "\n",
    "\n",
    "imbalance_files =  [name for name in filenames if name.startswith('imbalance')]\n",
    "\n",
    "imbalance = pd.concat([\n",
    "    pool.apply_async(csv_import, (name, )).get()\n",
    "    for name in tqdm(imbalance_files)\n",
    "])"
   ]
  },
  {
   "cell_type": "code",
   "execution_count": null,
   "id": "e1c593ac",
   "metadata": {},
   "outputs": [],
   "source": [
    "#imbalance.to_csv('imbalance_features.csv')\n",
    "imbalance.reset_index(inplace=True)"
   ]
  },
  {
   "cell_type": "code",
   "execution_count": null,
   "id": "796a259a",
   "metadata": {},
   "outputs": [],
   "source": [
    "sns.lmplot(x='mean', y='std', data=imbalance, fit_reg=False, hue='load', legend=False)\n",
    "plt.legend(loc='lower right')\n",
    "plt.show()"
   ]
  },
  {
   "cell_type": "code",
   "execution_count": null,
   "id": "5870330c",
   "metadata": {},
   "outputs": [],
   "source": [
    "sns.lmplot(x='rms', y='amplitude', data=imbalance, fit_reg=False, hue='load', legend=False)\n",
    "plt.legend(loc='lower right')\n",
    "plt.show()"
   ]
  },
  {
   "cell_type": "code",
   "execution_count": null,
   "id": "c975e9a4",
   "metadata": {},
   "outputs": [],
   "source": [
    "fig = plt.figure(figsize=(5, 5))\n",
    "ax = fig.add_subplot(projection='3d')\n",
    "ax.scatter(imbalance['mean'], imbalance['std'], imbalance['rms'])\n",
    "\n",
    "ax.set_xlabel('Mean')\n",
    "ax.set_ylabel('Standard deviation')\n",
    "ax.set_zlabel('Amplitude')\n",
    "\n",
    "plt.show()"
   ]
  },
  {
   "cell_type": "code",
   "execution_count": null,
   "id": "8e8829c2",
   "metadata": {},
   "outputs": [],
   "source": [
    "#TODO: normalize (min-max, standard scalar), transform - log transform, remove outliers\n",
    "\n",
    "# Spectral features - peak 1 vs peak 2 (amplitude)\n",
    "# Compare different faults"
   ]
  }
 ],
 "metadata": {
  "kernelspec": {
   "display_name": "Python 3 (ipykernel)",
   "language": "python",
   "name": "python3"
  },
  "language_info": {
   "codemirror_mode": {
    "name": "ipython",
    "version": 3
   },
   "file_extension": ".py",
   "mimetype": "text/x-python",
   "name": "python",
   "nbconvert_exporter": "python",
   "pygments_lexer": "ipython3",
   "version": "3.9.16"
  }
 },
 "nbformat": 4,
 "nbformat_minor": 5
}
