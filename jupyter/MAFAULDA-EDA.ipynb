{
 "cells": [
  {
   "cell_type": "code",
   "execution_count": null,
   "id": "5b3b5667",
   "metadata": {
    "scrolled": true
   },
   "outputs": [],
   "source": [
    "# https://www02.smt.ufrj.br/~offshore/mfs/page_01.html\n",
    "import numpy as np\n",
    "from zipfile import ZipFile\n",
    "import pandas as pd\n",
    "import matplotlib.pyplot as plt\n",
    "from pprint import pprint\n",
    "from scipy.signal import find_peaks\n",
    "import seaborn as sns\n",
    "\n",
    "zip_file = ZipFile('../../datasets/MAFAULDA.zip')\n"
   ]
  },
  {
   "cell_type": "code",
   "execution_count": null,
   "id": "97f86c61",
   "metadata": {},
   "outputs": [],
   "source": [
    "FS_HZ = 50000\n",
    "\n",
    "def res_calc(fs, window):\n",
    "    print('Window size:', window)\n",
    "    print('Heinsenberg rectangle')\n",
    "    print('Time step:', window / fs * 1000, 'ms')\n",
    "    print('Frequency step:', fs / window, 'Hz')\n",
    "\n",
    "filenames = [\n",
    "    text_file.filename \n",
    "    for text_file in zip_file.infolist()\n",
    "    if text_file.filename.endswith('.csv')\n",
    "]\n",
    "\n",
    "misalign =(\n",
    "    pd.read_csv(\n",
    "        zip_file.open('horizontal-misalignment/1.5mm/16.7936.csv'), \n",
    "        names=['tachometer', 'ax', 'ay', 'az', 'bx', 'by', 'bz', 'mic'])\n",
    ")\n",
    "filenames.sort()\n",
    "pprint(filenames)"
   ]
  },
  {
   "cell_type": "markdown",
   "id": "1d86dc36",
   "metadata": {},
   "source": [
    "### Calculate RPM from square wave tachometer signal"
   ]
  },
  {
   "cell_type": "code",
   "execution_count": null,
   "id": "844ee386",
   "metadata": {},
   "outputs": [],
   "source": [
    "def preprocess(sequence):\n",
    "    return (\n",
    "        sequence\n",
    "        .assign(t = lambda x: x.index * (1 / FS_HZ))\n",
    "        .assign(mag_a = lambda x: np.hypot(x.ax, x.ay, x.ay))\n",
    "        .assign(mag_b = lambda x: np.hypot(x.bx, x.by, x.by))\n",
    "        .assign(rev = lambda x: (x.tachometer - x.shift(-1).tachometer) >= 3)\n",
    "        .assign(rpm = lambda x: 60 / (x[x.rev == True].t - x[x.rev == True].shift(1).t))\n",
    "        .assign(rpm = lambda x: x.rpm.fillna(method='ffill').rolling(\n",
    "            (x[x.rev == True].index.values - np.roll(x[x.rev == True].index.values, 1)).max()\n",
    "        ).median())  # Smooth out outliers by robust filter\n",
    "        .dropna()\n",
    "        .reset_index(drop=True)\n",
    "        .assign(t = lambda x: x.index * (1 / FS_HZ))\n",
    "        .set_index('t')\n",
    "    )\n",
    "\n",
    "df = preprocess(misalign)"
   ]
  },
  {
   "cell_type": "code",
   "execution_count": null,
   "id": "bca88609",
   "metadata": {},
   "outputs": [],
   "source": [
    "df.describe()"
   ]
  },
  {
   "cell_type": "code",
   "execution_count": null,
   "id": "148914d9",
   "metadata": {},
   "outputs": [],
   "source": [
    "g = df.rpm.plot(figsize=(5, 3), title='RPM', xlabel='Time [s]', ylabel='RPM')"
   ]
  },
  {
   "cell_type": "code",
   "execution_count": null,
   "id": "9e51402a",
   "metadata": {},
   "outputs": [],
   "source": [
    "df['tachometer'][:0.5].plot(figsize=(5, 3), title='Tachometer', xlabel='Time [s]', ylabel='Impuls')"
   ]
  },
  {
   "cell_type": "markdown",
   "id": "3df9985e",
   "metadata": {},
   "source": [
    "###  Histograms"
   ]
  },
  {
   "cell_type": "code",
   "execution_count": null,
   "id": "fbba4d75",
   "metadata": {},
   "outputs": [],
   "source": [
    "g = df.hist(figsize=(20, 10))"
   ]
  },
  {
   "cell_type": "code",
   "execution_count": null,
   "id": "0b009406",
   "metadata": {},
   "outputs": [],
   "source": [
    "g = df[['ax', 'ay', 'az']].plot.density(figsize=(8, 5))"
   ]
  },
  {
   "cell_type": "code",
   "execution_count": null,
   "id": "4bfe2cf4",
   "metadata": {},
   "outputs": [],
   "source": [
    "x = 1024\n",
    "g = (df[['ax', 'ay', 'az']]\n",
    " .iloc[x:x+2048]\n",
    " .plot(subplots=True, figsize=(20, 10), grid=True)\n",
    ")"
   ]
  },
  {
   "cell_type": "code",
   "execution_count": null,
   "id": "ffcfec7d",
   "metadata": {},
   "outputs": [],
   "source": [
    "g = (df[['mag_a', 'mag_b']]\n",
    " .plot(subplots=True, figsize=(20, 10), grid=True)\n",
    ")"
   ]
  },
  {
   "cell_type": "markdown",
   "id": "0102ab73",
   "metadata": {},
   "source": [
    "###  Q-Q plot and Kolmogorov-Smirnov test for normality"
   ]
  },
  {
   "cell_type": "code",
   "execution_count": null,
   "id": "6f0a4945",
   "metadata": {},
   "outputs": [],
   "source": [
    "import statsmodels.api as sm\n",
    "from scipy.stats import kstest\n",
    "\n",
    "figure, axes = plt.subplots(2, 3, figsize=(10, 5))\n",
    "\n",
    "for i, col in enumerate(['ax', 'ay', 'az', 'bx', 'by', 'bz']):\n",
    "    print('Normality test p-value: ', kstest(df[col], 'norm').pvalue, '(<0.05 is not normal)')\n",
    "    sm.qqplot(df[col], line='45', ax = axes[i // 3, i % 3])\n",
    "    \n",
    "plt.tight_layout()\n",
    "plt.show()"
   ]
  },
  {
   "cell_type": "markdown",
   "id": "3c15b8d7",
   "metadata": {},
   "source": [
    "### Frequency analysis (Spectrogram FFT)"
   ]
  },
  {
   "cell_type": "code",
   "execution_count": null,
   "id": "21f5d513",
   "metadata": {},
   "outputs": [],
   "source": [
    "fig, ax = plt.subplots(4, 1, figsize=(20, 15))\n",
    "\n",
    "RESOLUTION = 8\n",
    "WINDOW = FS_HZ // RESOLUTION\n",
    "    \n",
    "\n",
    "res_calc(FS_HZ, WINDOW)\n",
    "\n",
    "pxx, freq, t, cax = ax[0].specgram(\n",
    "    df.ax,\n",
    "    Fs=FS_HZ, \n",
    "    mode='magnitude',\n",
    "    window=np.hamming(WINDOW), \n",
    "    NFFT=WINDOW, \n",
    "    noverlap=WINDOW//2\n",
    ")\n",
    "\n",
    "pxx, freq, t, cax = ax[1].specgram(\n",
    "    df.ay,\n",
    "    Fs=FS_HZ, \n",
    "    mode='magnitude',\n",
    "    window=np.hamming(WINDOW), \n",
    "    NFFT=WINDOW, \n",
    "    noverlap=WINDOW//2\n",
    ")\n",
    "\n",
    "pxx, freq, t, cax = ax[2].specgram(\n",
    "    df.az,\n",
    "    Fs=FS_HZ, \n",
    "    mode='magnitude',\n",
    "    window=np.hamming(WINDOW), \n",
    "    NFFT=WINDOW, \n",
    "    noverlap=WINDOW//2\n",
    ")\n",
    "\n",
    "pxx, freq, t, cax = ax[3].specgram(\n",
    "    df.mag_b,\n",
    "    Fs=FS_HZ, \n",
    "    mode='magnitude',\n",
    "    window=np.hamming(WINDOW), \n",
    "    NFFT=WINDOW, \n",
    "    noverlap=WINDOW//2\n",
    ")\n",
    "\n",
    "for i in range(3):\n",
    "    ax[i].set_xlabel('Time [s]')\n",
    "    ax[i].set_ylabel('Frequency [Hz]')\n",
    "\n",
    "#ax[0].set_ylim(700, 1200)\n",
    "g = plt.colorbar(cax, ax=ax)"
   ]
  },
  {
   "cell_type": "markdown",
   "id": "1eed9828",
   "metadata": {},
   "source": [
    "Do not use magnitude - it is not oscilatory. Various axis have different responses, but the signal in each axis is **stationary**"
   ]
  },
  {
   "cell_type": "markdown",
   "id": "02132d1f",
   "metadata": {},
   "source": [
    "### Orbitals from RMS"
   ]
  },
  {
   "cell_type": "code",
   "execution_count": null,
   "id": "16caaab7",
   "metadata": {},
   "outputs": [],
   "source": [
    "n = 100\n",
    "ts = 1000\n",
    "fig, ax = plt.subplots(1, 3, figsize=(20, 5))\n",
    "\n",
    "ax_rms = df['ax'].iloc[:ts].rolling(n).apply(\n",
    "        lambda x: np.sqrt((x ** 2).mean())\n",
    "    ) \n",
    "ay_rms = df['ay'].iloc[:ts].rolling(n).apply(\n",
    "        lambda x: np.sqrt((x ** 2).mean())\n",
    "    )\n",
    "az_rms = df['az'].iloc[:ts].rolling(n).apply(\n",
    "        lambda x: np.sqrt((x ** 2).mean())\n",
    "    )\n",
    "ax[0].set_xlabel('x')\n",
    "ax[0].set_ylabel('y')\n",
    "ax[0].scatter(ax_rms, ay_rms)\n",
    "ax[1].set_xlabel('x')\n",
    "ax[1].set_ylabel('z')\n",
    "ax[1].scatter(ax_rms, az_rms)\n",
    "ax[2].set_xlabel('y')\n",
    "ax[2].set_ylabel('z')\n",
    "ax[2].scatter(ay_rms, az_rms)"
   ]
  },
  {
   "cell_type": "markdown",
   "id": "59322c8c",
   "metadata": {},
   "source": [
    "### "
   ]
  },
  {
   "cell_type": "code",
   "execution_count": null,
   "id": "3ab82d61",
   "metadata": {},
   "outputs": [],
   "source": [
    "# Preprocess, offset mean, Merge do jedného a v stĺpci bude key názvu, potom group by na všetky\n",
    "# Calculate rms ratio with rpm\n",
    "from multiprocessing.pool import ThreadPool\n",
    "pool = ThreadPool(processes=4)\n",
    "\n",
    "def csv_import(filename):\n",
    "    frame = pd.read_csv(\n",
    "        zip_file.open(filename), \n",
    "        names=['tachometer', 'ax', 'ay', 'az', 'bx', 'by', 'bz', 'mic']    \n",
    "    )\n",
    "    return (\n",
    "        frame\n",
    "        .assign(key=filename)\n",
    "        .assign(t = lambda x: x.index * (1 / FS_HZ))\n",
    "    )\n",
    "\n",
    "normal_cond = pd.concat([\n",
    "    pool.apply_async(csv_import, (name, )).get()\n",
    "    for name in filenames\n",
    "    if name.startswith('normal')\n",
    "])"
   ]
  },
  {
   "cell_type": "code",
   "execution_count": null,
   "id": "58db7891",
   "metadata": {},
   "outputs": [],
   "source": [
    "# Time domain features\n",
    "\n",
    "from scipy.stats import skew, kurtosis\n",
    "import seaborn as sns\n",
    "\n",
    "col = 'ax'\n",
    "\n",
    "rms = lambda x: np.sqrt((x ** 2).mean())\n",
    "\n",
    "td_featues = pd.concat([\n",
    "    normal_cond.groupby(by='key')[col].mean().rename('mean'),\n",
    "    normal_cond.groupby(by='key')[col].std().rename('std'),\n",
    "    normal_cond.groupby(by='key')[col].apply(lambda x: skew(x)).rename('skew'),\n",
    "    normal_cond.groupby(by='key')[col].apply(lambda x: kurtosis(x)).rename('kurtosis'),\n",
    "    normal_cond.groupby(by='key')[col].apply(rms).rename('rms')\n",
    "    ],\n",
    "    axis=1\n",
    ")\n",
    "td_featues.head(10)"
   ]
  },
  {
   "cell_type": "code",
   "execution_count": null,
   "id": "02b2c152",
   "metadata": {},
   "outputs": [],
   "source": [
    "sns.pairplot(td_featues)"
   ]
  },
  {
   "cell_type": "code",
   "execution_count": null,
   "id": "cd03da58",
   "metadata": {},
   "outputs": [],
   "source": [
    "sns.heatmap(td_featues.corr(), annot=True)"
   ]
  },
  {
   "cell_type": "code",
   "execution_count": null,
   "id": "5d9782e7",
   "metadata": {},
   "outputs": [],
   "source": [
    "# Compare featues between two different faults (or at least classes of severity of one fault)\n",
    "# imbalance/6g/33.9968.csv\n",
    "\n",
    "from multiprocessing.pool import ThreadPool\n",
    "from tqdm.notebook import tqdm\n",
    "pool = ThreadPool(processes=4)\n",
    "\n",
    "\n",
    "def csv_import(filename):\n",
    "    col = 'ax'\n",
    "    frame = pd.read_csv(\n",
    "        zip_file.open(filename), \n",
    "        names=['tachometer', 'ax', 'ay', 'az', 'bx', 'by', 'bz', 'mic']    \n",
    "    )\n",
    "    info = filename.split('/')\n",
    "    frame = (\n",
    "        frame\n",
    "        .assign(load=int(info[1].strip(' g')), no=info[2])\n",
    "        .assign(t = lambda x: x.index * (1 / FS_HZ))\n",
    "    )\n",
    "    return pd.concat([\n",
    "        frame.groupby(by=['load', 'no'])[col].mean().rename('mean'),\n",
    "        frame.groupby(by=['load', 'no'])[col].std().rename('std'),\n",
    "        frame.groupby(by=['load', 'no'])[col].apply(lambda x: skew(x)).rename('skew'),\n",
    "        frame.groupby(by=['load', 'no'])[col].apply(lambda x: kurtosis(x)).rename('kurtosis'),\n",
    "        frame.groupby(by=['load', 'no'])[col].apply(rms).rename('rms'),\n",
    "        frame.groupby(by=['load', 'no'])[col].apply(lambda x: max(abs(x.max()), abs(x.min()))).rename('amplitude')\n",
    "        ],\n",
    "        axis=1\n",
    "    ).reset_index()\n",
    "\n",
    "\n",
    "imbalance_files =  [name for name in filenames if name.startswith('imbalance')]\n",
    "\n",
    "imbalance = pd.concat([\n",
    "    pool.apply_async(csv_import, (name, )).get()\n",
    "    for name in tqdm(imbalance_files)\n",
    "])"
   ]
  },
  {
   "cell_type": "code",
   "execution_count": null,
   "id": "e1c593ac",
   "metadata": {},
   "outputs": [],
   "source": [
    "#imbalance.to_csv('imbalance_features.csv')\n",
    "imbalance.reset_index(inplace=True)"
   ]
  },
  {
   "cell_type": "code",
   "execution_count": null,
   "id": "796a259a",
   "metadata": {},
   "outputs": [],
   "source": [
    "sns.lmplot(x='rms', y='kurtosis', data=imbalance, fit_reg=False, hue='load', legend=False)\n",
    "plt.legend(loc='lower right')\n",
    "plt.show()"
   ]
  },
  {
   "cell_type": "code",
   "execution_count": null,
   "id": "5870330c",
   "metadata": {},
   "outputs": [],
   "source": [
    "sns.lmplot(x='rms', y='amplitude', data=imbalance, fit_reg=False, hue='load', legend=False)\n",
    "plt.legend(loc='lower right')\n",
    "plt.show()"
   ]
  },
  {
   "cell_type": "code",
   "execution_count": null,
   "id": "c975e9a4",
   "metadata": {},
   "outputs": [],
   "source": [
    "fig = plt.figure(figsize=(5, 5))\n",
    "ax = fig.add_subplot(projection='3d')\n",
    "ax.scatter(imbalance['mean'], imbalance['std'], imbalance['rms'])\n",
    "\n",
    "ax.set_xlabel('Mean')\n",
    "ax.set_ylabel('Standard deviation')\n",
    "ax.set_zlabel('Amplitude')\n",
    "\n",
    "plt.show()"
   ]
  },
  {
   "cell_type": "code",
   "execution_count": null,
   "id": "8e8829c2",
   "metadata": {},
   "outputs": [],
   "source": [
    "#TODO: normalize (min-max, standard scalar), transform - log transform, remove outliers\n",
    "\n",
    "# Spectral features - peak 1 vs peak 2 (amplitude)\n",
    "# Compare different faults"
   ]
  },
  {
   "cell_type": "code",
   "execution_count": null,
   "id": "7da4aaa3",
   "metadata": {},
   "outputs": [],
   "source": [
    "from multiprocessing.pool import ThreadPool\n",
    "from scipy.signal import welch\n",
    "from tqdm.notebook import tqdm\n",
    "from scipy.fft import rfft\n",
    "\n",
    "\n",
    "pool = ThreadPool(processes=4)\n",
    "\n",
    "\n",
    "def fft_csv_import(filename, window=4096, overlap=0.5, fs=50000, is_welch=False):\n",
    "    STEP = window * overlap\n",
    "    col = 'ax'\n",
    "    info = filename.split('/')\n",
    "    load = int(info[1].strip(' g'))\n",
    "    \n",
    "    frame = pd.read_csv(\n",
    "        zip_file.open(filename), \n",
    "        names=['tachometer', 'ax', 'ay', 'az', 'bx', 'by', 'bz', 'mic']    \n",
    "    )\n",
    "    frame = (\n",
    "        frame\n",
    "        .assign(load=load, no=info[2])\n",
    "        .assign(t = lambda x: x.index * (1 / fs))\n",
    "    )\n",
    "    v = frame[col].to_numpy()\n",
    "    \n",
    "    if is_welch is False:\n",
    "        spectra = [\n",
    "            np.abs(rfft(v[i:i+window] * np.hamming(window)))\n",
    "            for i in range(0, len(v) - window, int(STEP))\n",
    "        ]\n",
    "        freqs = [i * (fs / window) for i in range(window // 2 + 1)]\n",
    "\n",
    "    else:\n",
    "        freqs, spectra = welch(v, fs, 'hamming', nperseg=window, scaling='spectrum', average='mean')\n",
    "        spectra = [spectra]\n",
    "        \n",
    "\n",
    "    return (\n",
    "        pd.DataFrame(data=spectra, columns=freqs.astype(int))\n",
    "        .assign(load=load, no=info[2])\n",
    "        .set_index(['load', 'no'])\n",
    "    )\n",
    "\n",
    "\n",
    "imbalance_files = [name for name in filenames if name.startswith('imbalance')]\n",
    "\n",
    "FS = 50000\n",
    "WINDOW = 2**14\n",
    "res_calc(FS, WINDOW)\n",
    "spectra = fft_csv_import('imbalance/10g/56.9344.csv', fs=FS, window=WINDOW, overlap=0.5, is_welch=True)\n",
    "spectra.head(10)"
   ]
  },
  {
   "cell_type": "code",
   "execution_count": null,
   "id": "4d1c7fc0",
   "metadata": {},
   "outputs": [],
   "source": [
    "spectra.iloc[0].loc[:500].plot(legend=False)"
   ]
  },
  {
   "cell_type": "code",
   "execution_count": null,
   "id": "6c68dd69",
   "metadata": {},
   "outputs": [],
   "source": [
    "np.log(spectra.iloc[0]).iloc[:200].plot(legend=False, grid=True)"
   ]
  },
  {
   "cell_type": "code",
   "execution_count": null,
   "id": "e19791f7",
   "metadata": {},
   "outputs": [],
   "source": [
    "FS = 50000\n",
    "WINDOW = 2**13\n",
    "\n",
    "imbalancePSD = pd.concat([\n",
    "    pool.apply_async(fft_csv_import, (name, WINDOW, 0.5, FS, True)).get()\n",
    "    for name in tqdm(imbalance_files)\n",
    "])"
   ]
  },
  {
   "cell_type": "code",
   "execution_count": null,
   "id": "75f94cdc",
   "metadata": {},
   "outputs": [],
   "source": [
    "imbalancePSD"
   ]
  },
  {
   "cell_type": "code",
   "execution_count": null,
   "id": "30a78f4c",
   "metadata": {},
   "outputs": [],
   "source": [
    "imbalancePSD.T[(10, '56.9344.csv')].loc[:500].plot()"
   ]
  },
  {
   "cell_type": "code",
   "execution_count": null,
   "id": "a7754fa5",
   "metadata": {},
   "outputs": [],
   "source": [
    "bins = imbalancePSD.T[(10, '56.9344.csv')]\n",
    "peaks, properties = find_peaks(bins, prominence=0.01)\n",
    "plt.plot(bins.index, bins)\n",
    "plt.scatter(bins.index[peaks], bins[bins.index[peaks]], color='r')\n",
    "plt.xlim(0, 1000)\n",
    "plt.xlabel('Frequency [Hz]')\n",
    "plt.ylabel('Amplitude')"
   ]
  },
  {
   "cell_type": "code",
   "execution_count": null,
   "id": "83445eb7",
   "metadata": {},
   "outputs": [],
   "source": [
    "# Extract peaks:\n",
    "# load, no, peak_frequency, peak_amplitude\n",
    "MAX_FREQ = 1000\n",
    "\n",
    "frames = []\n",
    "for index, bins in imbalancePSD.iterrows():\n",
    "    peaks, properties = find_peaks(bins[:MAX_FREQ], prominence=0.02)\n",
    "    row = {\n",
    "        'load': index[0],\n",
    "        'no': index[1],\n",
    "        'f': bins.index[peaks],\n",
    "        'y': bins[bins.index[peaks]]\n",
    "    }\n",
    "\n",
    "    frame = pd.DataFrame(data=row, columns=['load', 'no', 'f', 'y'])\n",
    "    frames.append(frame)\n",
    "    \n",
    "harmonics = (\n",
    "    pd.concat(frames)\n",
    "      .sort_values(by=['load', 'y', 'f'], ascending=[True, False, True])\n",
    ")\n",
    "\n",
    "\n",
    "\n",
    "f0 = harmonics.groupby('load').nth(0)\n",
    "f1 = harmonics.groupby('load').nth(1)\n",
    "\n",
    "peak_features = f0.join(f1, lsuffix='_f0', rsuffix='_f1').reset_index()\n",
    "peak_features\n",
    "\n",
    "sns.lmplot(x='y_f0', y='y_f1', data=peak_features, fit_reg=False, hue='load_f0', legend=False)\n",
    "plt.legend(loc='lower right')\n",
    "plt.show()"
   ]
  },
  {
   "cell_type": "code",
   "execution_count": null,
   "id": "52d6f02e",
   "metadata": {},
   "outputs": [],
   "source": [
    "sns.lmplot(x='f_f0', y='f_f1', data=peak_features, fit_reg=False, hue='load_f0', legend=False)\n",
    "plt.legend(loc='lower right')\n",
    "plt.show()"
   ]
  },
  {
   "cell_type": "code",
   "execution_count": null,
   "id": "d4737be1",
   "metadata": {},
   "outputs": [],
   "source": [
    "# Spectral statistics\n",
    "from scipy.stats import skew, kurtosis\n",
    "\n",
    "rms = lambda x: np.sqrt((x ** 2).mean())\n",
    "spectral_centroid = lambda x: np.average(x.index, weights=x)\n",
    "\n",
    "fd_features = pd.concat([\n",
    "    imbalancePSD.mean(axis=1).rename('mean'),\n",
    "    imbalancePSD.std(axis=1).rename('std'),\n",
    "    imbalancePSD.T.apply(lambda x: skew(x)).rename('skew'),\n",
    "    imbalancePSD.T.apply(lambda x: kurtosis(x)).rename('kurtosis'),\n",
    "    imbalancePSD.T.apply(rms).rename('rms'),\n",
    "    imbalancePSD.T.apply(spectral_centroid).rename('centroid')\n",
    "    ],\n",
    "    axis=1\n",
    ")\n",
    "fd_features.head(10)"
   ]
  },
  {
   "cell_type": "code",
   "execution_count": null,
   "id": "44abf07d",
   "metadata": {},
   "outputs": [],
   "source": [
    "sns.pairplot(fd_features)"
   ]
  },
  {
   "cell_type": "code",
   "execution_count": null,
   "id": "3aa65104",
   "metadata": {},
   "outputs": [],
   "source": [
    "fd_plain = fd_features.reset_index()\n",
    "sns.lmplot(x='rms', y='kurtosis', data=fd_plain, fit_reg=False, hue='load_f0', legend=False)\n",
    "plt.legend(loc='lower right')\n",
    "plt.show()"
   ]
  },
  {
   "cell_type": "code",
   "execution_count": null,
   "id": "7fe4e697",
   "metadata": {},
   "outputs": [],
   "source": [
    "fig = plt.figure(figsize=(5, 5))\n",
    "ax = fig.add_subplot(projection='3d')\n",
    "ax.scatter(fd_plain['kurtosis'], fd_plain['centroid'], fd_plain['rms'])\n",
    "\n",
    "ax.set_xlabel('Kurtosis')\n",
    "ax.set_ylabel('Centroid')\n",
    "ax.set_zlabel('RMS')"
   ]
  },
  {
   "cell_type": "code",
   "execution_count": null,
   "id": "26f92cba",
   "metadata": {},
   "outputs": [],
   "source": [
    "# Compare different faults"
   ]
  },
  {
   "cell_type": "markdown",
   "id": "568b9f89",
   "metadata": {},
   "source": [
    "## PSD of severe faults by axis (Welch) - up to 2 kHz (120 000 RPM)"
   ]
  },
  {
   "cell_type": "code",
   "execution_count": null,
   "id": "114d4280",
   "metadata": {},
   "outputs": [],
   "source": [
    "# fft_import_csv chosen files\n",
    "# subplots all spectra\n",
    "# compare stats\n",
    "\n",
    "FS = 50000\n",
    "WINDOW = 2**13\n",
    "fault_files = [\n",
    "    'horizontal-misalignment/2.0mm/60.8256.csv',\n",
    "    'vertical-misalignment/1.90mm/61.44.csv',\n",
    "    'imbalance/35g/56.7296.csv',\n",
    "    'normal/61.44.csv',\n",
    "    'overhang/ball_fault/35g/32.1536.csv',\n",
    "    'overhang/cage_fault/35g/54.0672.csv',\n",
    "    'overhang/outer_race/35g/53.4528.csv',\n",
    "    'underhang/ball_fault/35g/50.7904.csv',\n",
    "    'underhang/cage_fault/35g/56.5248.csv',\n",
    "    'underhang/outer_race/35g/58.9824.csv'\n",
    "]\n",
    "\n",
    "def fft_csv_import(filename, axis='ax', window=4096, overlap=0.5, fs=50000, is_welch=False):\n",
    "    STEP = window * overlap\n",
    "    \n",
    "    frame = pd.read_csv(\n",
    "        zip_file.open(filename), \n",
    "        names=['tachometer', 'ax', 'ay', 'az', 'bx', 'by', 'bz', 'mic']    \n",
    "    )\n",
    "    frame = (\n",
    "        frame\n",
    "        .assign(name=filename)\n",
    "        .assign(t = lambda x: x.index * (1 / fs))\n",
    "    )\n",
    "    v = frame[axis].to_numpy()\n",
    "    \n",
    "    # Calcultate rpm\n",
    "    frame = (\n",
    "        frame.assign(rev = lambda x: (x.tachometer - x.shift(-1).tachometer) >= 3)\n",
    "        .assign(rpm = lambda x: 60 / (x[x.rev == True].t - x[x.rev == True].shift(1).t))\n",
    "        .assign(rpm = lambda x: x.rpm.fillna(method='ffill').rolling(\n",
    "            (x[x.rev == True].index.values - np.roll(x[x.rev == True].index.values, 10)).max()\n",
    "        ).median())\n",
    "    )\n",
    "    #frame['rpm'].plot()\n",
    "    \n",
    "    if is_welch is False:\n",
    "        spectra = [\n",
    "            np.abs(rfft(v[i:i+window] * np.hamming(window)))\n",
    "            for i in range(0, len(v) - window, int(STEP))\n",
    "        ]\n",
    "        freqs = [i * (fs / window) for i in range(window // 2 + 1)]\n",
    "\n",
    "    else:\n",
    "        freqs, spectra = welch(v, fs, 'hamming', nperseg=window, scaling='spectrum', average='mean')\n",
    "        spectra = [spectra]\n",
    "        \n",
    "\n",
    "    return (\n",
    "        pd.DataFrame(data=spectra, columns=freqs.astype(int))\n",
    "        .assign(name=filename, rpm=frame['rpm'].median())\n",
    "        .set_index(['name'])\n",
    "    )\n",
    "\n",
    "# fft_csv_import('normal/61.44.csv', 'az', WINDOW, 0.5, FS, True)"
   ]
  },
  {
   "cell_type": "markdown",
   "id": "eab46862",
   "metadata": {},
   "source": [
    "### Measurement place A - import worst faults and compare each axis's PSD"
   ]
  },
  {
   "cell_type": "code",
   "execution_count": null,
   "id": "798b8622",
   "metadata": {},
   "outputs": [],
   "source": [
    "faultPSD_X = pd.concat([\n",
    "    pool.apply_async(fft_csv_import, (name, 'ax', WINDOW, 0.5, FS, True)).get()\n",
    "    for name in tqdm(fault_files)\n",
    "])\n",
    "\n",
    "faultPSD_Y = pd.concat([\n",
    "    pool.apply_async(fft_csv_import, (name, 'ay', WINDOW, 0.5, FS, True)).get()\n",
    "    for name in tqdm(fault_files)\n",
    "])\n",
    "\n",
    "faultPSD_Z = pd.concat([\n",
    "    pool.apply_async(fft_csv_import, (name, 'az', WINDOW, 0.5, FS, True)).get()\n",
    "    for name in tqdm(fault_files)\n",
    "])"
   ]
  },
  {
   "cell_type": "code",
   "execution_count": null,
   "id": "ff14f83a",
   "metadata": {},
   "outputs": [],
   "source": [
    "f_cutoff = 2000\n",
    "\n",
    "faultPSD_X_v = faultPSD_X.drop('rpm', axis=1)\n",
    "x_psd = (\n",
    "    faultPSD_X_v\n",
    "    .T[faultPSD_X_v.T.index < f_cutoff]\n",
    ")\n",
    "axis = x_psd.plot(\n",
    "    subplots=True,\n",
    "    figsize=(20, 15),\n",
    "    xlabel='Frequency [Hz]',\n",
    "    ylabel='Amplitude'\n",
    ")\n",
    "\n",
    "# Graph RPM\n",
    "for ax, rpm  in zip(axis, faultPSD_X['rpm']):\n",
    "    f0 = rpm / 60\n",
    "    ax.axvline(x=f0, color='red')\n",
    "    # n - harmonics of rotating frequency\n",
    "    n = 6\n",
    "    for i in range(2, n):\n",
    "        ax.axvline(x=f0 * i, color='orange')"
   ]
  },
  {
   "cell_type": "code",
   "execution_count": null,
   "id": "a71a8e05",
   "metadata": {},
   "outputs": [],
   "source": [
    "faultPSD_Y_v = faultPSD_Y.drop('rpm', axis=1)\n",
    "y_psd = faultPSD_Y_v.T[faultPSD_Y_v.T.index < f_cutoff]\n",
    "p = y_psd.plot(subplots=True, figsize=(20, 15))"
   ]
  },
  {
   "cell_type": "code",
   "execution_count": null,
   "id": "5cbd5c00",
   "metadata": {},
   "outputs": [],
   "source": [
    "faultPSD_Z_v = faultPSD_Z.drop('rpm', axis=1)\n",
    "z_psd = faultPSD_Z_v.T[faultPSD_Z_v.T.index < f_cutoff]\n",
    "p = z_psd.plot(subplots=True, figsize=(20, 15))"
   ]
  },
  {
   "cell_type": "markdown",
   "id": "3f4de62c",
   "metadata": {},
   "source": [
    "### Measurement place B - import worst faults and compare each axis's PSD"
   ]
  },
  {
   "cell_type": "code",
   "execution_count": null,
   "id": "a2c73545",
   "metadata": {},
   "outputs": [],
   "source": [
    "faultPSD_B_X = pd.concat([\n",
    "    pool.apply_async(fft_csv_import, (name, 'ax', WINDOW, 0.5, FS, True)).get()\n",
    "    for name in tqdm(fault_files)\n",
    "])\n",
    "\n",
    "faultPSD_B_Y = pd.concat([\n",
    "    pool.apply_async(fft_csv_import, (name, 'ay', WINDOW, 0.5, FS, True)).get()\n",
    "    for name in tqdm(fault_files)\n",
    "])\n",
    "\n",
    "faultPSD_B_Z = pd.concat([\n",
    "    pool.apply_async(fft_csv_import, (name, 'az', WINDOW, 0.5, FS, True)).get()\n",
    "    for name in tqdm(fault_files)\n",
    "])"
   ]
  },
  {
   "cell_type": "code",
   "execution_count": null,
   "id": "8fcd6cb2",
   "metadata": {},
   "outputs": [],
   "source": [
    "f_cutoff = 2000\n",
    "faultPSD_B_X_v = faultPSD_B_X.drop('rpm', axis=1)\n",
    "x_psd = faultPSD_B_X_v.T[faultPSD_B_X_v.T.index < f_cutoff]\n",
    "p = x_psd.plot(subplots=True, figsize=(20, 15))"
   ]
  },
  {
   "cell_type": "code",
   "execution_count": null,
   "id": "0f26e602",
   "metadata": {},
   "outputs": [],
   "source": [
    "faultPSD_B_Y_v = faultPSD_B_Y.drop('rpm', axis=1)\n",
    "y_psd = faultPSD_B_Y_v.T[faultPSD_B_Y_v.T.index < f_cutoff]\n",
    "p = y_psd.plot(subplots=True, figsize=(20, 15))"
   ]
  },
  {
   "cell_type": "code",
   "execution_count": null,
   "id": "cc2250db",
   "metadata": {},
   "outputs": [],
   "source": [
    "faultPSD_B_Z_v = faultPSD_B_Z.drop('rpm', axis=1)\n",
    "z_psd = faultPSD_B_Z_v.T[faultPSD_B_Z_v.T.index < f_cutoff]\n",
    "p = z_psd.plot(subplots=True, figsize=(20, 15))"
   ]
  },
  {
   "cell_type": "code",
   "execution_count": null,
   "id": "7068665c",
   "metadata": {},
   "outputs": [],
   "source": [
    "# Compare (rms, skewness) between different clusters (faults)\n"
   ]
  },
  {
   "cell_type": "markdown",
   "id": "2ee6baa1",
   "metadata": {},
   "source": [
    "### Choose fault and graph different severities"
   ]
  },
  {
   "cell_type": "code",
   "execution_count": null,
   "id": "35ee27a6",
   "metadata": {},
   "outputs": [],
   "source": [
    "normal_cond_filenames = [name  for name in filenames if name.startswith('normal')]\n",
    "\n",
    "normal_cond_PSD = []\n",
    "for axis in ('ax', 'ay', 'az'):\n",
    "    frame = pd.concat([\n",
    "        pool.apply_async(fft_csv_import, (name, axis, WINDOW, 0.5, FS, True)).get()\n",
    "        for name in tqdm(normal_cond_filenames)\n",
    "    ])\n",
    "    normal_cond_PSD.append(frame)"
   ]
  },
  {
   "cell_type": "code",
   "execution_count": null,
   "id": "83661328",
   "metadata": {},
   "outputs": [],
   "source": [
    "normal_cond_PSD_v = normal_cond_PSD[0].drop('rpm', axis=1)\n",
    "(normal_cond_PSD_v\n",
    " .T[normal_cond_PSD_v.T.index < 2000]\n",
    " .plot(figsize=(20, 8), legend=False))"
   ]
  },
  {
   "cell_type": "code",
   "execution_count": null,
   "id": "a0c4c1aa",
   "metadata": {},
   "outputs": [],
   "source": [
    "normal_cond_PSD_v.T.corr()"
   ]
  },
  {
   "cell_type": "code",
   "execution_count": null,
   "id": "899eaec3",
   "metadata": {},
   "outputs": [],
   "source": [
    "sns.heatmap(normal_cond_PSD_v.T.corr(), annot=False)"
   ]
  }
 ],
 "metadata": {
  "kernelspec": {
   "display_name": "Python 3 (ipykernel)",
   "language": "python",
   "name": "python3"
  },
  "language_info": {
   "codemirror_mode": {
    "name": "ipython",
    "version": 3
   },
   "file_extension": ".py",
   "mimetype": "text/x-python",
   "name": "python",
   "nbconvert_exporter": "python",
   "pygments_lexer": "ipython3",
   "version": "3.10.10"
  }
 },
 "nbformat": 4,
 "nbformat_minor": 5
}
