{
 "cells": [
  {
   "cell_type": "code",
   "execution_count": null,
   "id": "b87fb0fc-08ab-4abd-8dad-279d5cc42075",
   "metadata": {},
   "outputs": [],
   "source": [
    "import pandas as pd\n",
    "import matplotlib.pyplot as plt\n",
    "import mafaulda as src\n",
    "\n",
    "src_file = 'raw_data/air_conditioning/vertiv_digitalis/compressor_top_1.tsv'\n",
    "kind = 'beaglebone' # beaglebone, boat\n",
    "NFFT = 512\n",
    "\n",
    "if kind == 'beaglebone':\n",
    "    # Fan\n",
    "    Fs = 4000\n",
    "    # src_file = 'raw_data/fan_test/fan_speed_3_4000.tsv'\n",
    "    ts = pd.read_csv(src_file, delimiter='\\t', index_col=False, header=None, names=['x', 'y', 'z'])\n",
    "    # Calculate amplitude in m/s^2 Beaglebone Black ADC and ADXL335 resolution (VIN 1.8V, 12bits)\n",
    "    for dim in ts.columns:\n",
    "        ts[dim] = ts[dim] * (1800 / 4096)  # ADC to mV\n",
    "        ts[dim] = (ts[dim] / 180) * 9.81  # mV to m/s^2 (180 mV/g)\n",
    "        ts[dim] -= ts[dim].mean()\n",
    "    ts['t'] = ts.index * (250 / 1000000)\n",
    "\n",
    "elif kind == 'boat':\n",
    "    # Boat\n",
    "    Fs = 200\n",
    "    #src_file = 'boat/Boat__2.txt'\n",
    "    ts = pd.read_csv(src_file, delimiter=' ')\n",
    "    ts['t'] = ts['t'].cumsum()\n",
    "    for dim in ts.columns:\n",
    "        ts[dim] -= ts[dim].mean()\n",
    "\n",
    "ts.set_index('t', inplace=True)\n",
    "ts"
   ]
  },
  {
   "cell_type": "code",
   "execution_count": null,
   "id": "594ae818-83bd-452e-9e2e-d5da2f1e6f8c",
   "metadata": {},
   "outputs": [],
   "source": [
    "ts.describe()"
   ]
  },
  {
   "cell_type": "code",
   "execution_count": null,
   "id": "cd1b7b7e-846f-4972-be25-b8b070dad107",
   "metadata": {
    "scrolled": true
   },
   "outputs": [],
   "source": [
    "ax = ts[['x', 'y', 'z']].plot(figsize=(20, 10), grid=True, subplots=True)\n",
    "for i in range(3):\n",
    "    ax[i].set_xlabel('Time [s]')\n",
    "    ax[i].set_ylabel(f'Amplitude ({i}) [m/s^2]')\n",
    "plt.savefig('top_1_waveform.png')"
   ]
  },
  {
   "cell_type": "code",
   "execution_count": null,
   "id": "a6f20f71-232b-4dfd-a639-3f67a3220342",
   "metadata": {},
   "outputs": [],
   "source": [
    "t = 1\n",
    "ax = ts[['x', 'y', 'z']].iloc[int(t*Fs):int(t*Fs)+2000].plot(figsize=(20, 10), grid=True, subplots=True)\n",
    "for i in range(3):\n",
    "    ax[i].set_xlabel('Time [s]')\n",
    "    ax[i].set_ylabel(f'Amplitude ({i}) [m/s^2]')\n",
    "plt.savefig('top_1_waveform_zoom.png')"
   ]
  },
  {
   "cell_type": "code",
   "execution_count": null,
   "id": "4db90dff-cb26-41ad-9cc0-cd2234065803",
   "metadata": {},
   "outputs": [],
   "source": [
    "x = ts['x']\n",
    "NFFT = 512\n",
    "plt.figure(figsize=(20, 4))\n",
    "Pxx, freqs, t, im = plt.specgram(x, NFFT=NFFT, Fs=Fs, mode='magnitude', scale='dB')\n",
    "plt.xlabel('Time [s]')\n",
    "plt.ylabel('Frequency [Hz]')\n",
    "src.resolution_calc(Fs, NFFT)\n",
    "plt.savefig('top_1_x_axis_fft_512.png')"
   ]
  },
  {
   "cell_type": "code",
   "execution_count": null,
   "id": "53fcc014-6d6d-46a2-822a-efa54c135955",
   "metadata": {},
   "outputs": [],
   "source": [
    "x = ts['y']\n",
    "plt.figure(figsize=(20, 4))\n",
    "Pxx, freqs, t, im = plt.specgram(x, NFFT=NFFT, Fs=Fs, mode='magnitude', scale='dB')\n",
    "plt.xlabel('Time [s]')\n",
    "plt.ylabel('Frequency [Hz]')\n",
    "plt.savefig('top_1_y_axis_fft_512.png')"
   ]
  },
  {
   "cell_type": "code",
   "execution_count": null,
   "id": "ac73dfd3-2b9e-4581-abf1-862871ede485",
   "metadata": {},
   "outputs": [],
   "source": [
    "x = ts['z']\n",
    "plt.figure(figsize=(20, 4))\n",
    "Pxx, freqs, t, im = plt.specgram(x, NFFT=NFFT, Fs=Fs, mode='magnitude', scale='dB')\n",
    "plt.xlabel('Time [s]')\n",
    "plt.ylabel('Frequency [Hz]')\n",
    "plt.savefig('top_1_z_axis_fft_512.png')"
   ]
  },
  {
   "cell_type": "code",
   "execution_count": null,
   "id": "d5af443b-7d34-4d64-8437-55d01cda3cc7",
   "metadata": {},
   "outputs": [],
   "source": [
    "fig, ax = plt.subplots(1, 2, figsize=(20, 4))\n",
    "t = 1\n",
    "n = (Fs * t) // NFFT + 1\n",
    "ax[0].plot(freqs, Pxx.T[n])\n",
    "ax[0].grid(True)\n",
    "ax[0].set_yscale('log')\n",
    "#ax[0].set_xlim(0, 1000)\n",
    "ax[0].set_xlabel('Frequency [Hz]')\n",
    "ax[0].set_ylabel('Amplitude [dB]')\n",
    "\n",
    "ax[1].plot(freqs, Pxx.T[n])\n",
    "ax[1].grid(True)\n",
    "#ax[1].set_xlim(0, 1000)\n",
    "ax[1].set_xlabel('Frequency [Hz]')\n",
    "ax[1].set_ylabel('Amplitude [m/s^2]')\n",
    "plt.savefig('top_1_z_axis_fft_512_1sec.png')"
   ]
  },
  {
   "cell_type": "code",
   "execution_count": null,
   "id": "0a5f9a84-fdfd-42d7-b76d-8e5e3b52d9f1",
   "metadata": {},
   "outputs": [],
   "source": [
    "ts[['x', 'y', 'z']].hist(figsize=(20, 5), grid=True, bins=50)"
   ]
  },
  {
   "cell_type": "code",
   "execution_count": null,
   "id": "0f2c7690-1ffb-4099-b52e-33e9fa39ffba",
   "metadata": {},
   "outputs": [],
   "source": [
    "fig, ax = plt.subplots(1, 3, figsize=(20, 4))\n",
    "ax[0].scatter(ts['x'], ts['y'], s=1)\n",
    "ax[0].grid(True)\n",
    "ax[0].set_xlabel('X')\n",
    "ax[0].set_ylabel('Y')\n",
    "ax[0].grid(True)\n",
    "\n",
    "ax[1].scatter(ts['x'], ts['z'], s=1)\n",
    "ax[1].grid(True)\n",
    "ax[1].set_xlabel('X')\n",
    "ax[1].set_ylabel('Z')\n",
    "\n",
    "ax[2].scatter(ts['y'], ts['z'], s=1)\n",
    "ax[2].grid(True)\n",
    "ax[2].set_xlabel('Y')\n",
    "ax[2].set_ylabel('Z')\n",
    "#plt.show()\n",
    "plt.savefig('top_1_orbitals.png')"
   ]
  },
  {
   "cell_type": "code",
   "execution_count": null,
   "id": "1ae0bab0-1aef-455c-bc5d-c8dbf92e1f21",
   "metadata": {},
   "outputs": [],
   "source": [
    "smooth = 800\n",
    "fig, ax = plt.subplots(1, 3, figsize=(20, 4))\n",
    "ax[0].scatter(\n",
    "    ts['x'].rolling(window=smooth).mean(),\n",
    "    ts['y'].rolling(window=smooth).mean(),\n",
    "    s=1\n",
    ")\n",
    "ax[0].grid(True)\n",
    "ax[0].set_xlabel('X')\n",
    "ax[0].set_ylabel('Y')\n",
    "ax[0].grid(True)\n",
    "\n",
    "ax[1].scatter(\n",
    "    ts['x'].rolling(window=smooth).mean(),\n",
    "    ts['z'].rolling(window=smooth).mean(),\n",
    "    s=1\n",
    ")\n",
    "ax[1].grid(True)\n",
    "ax[1].set_xlabel('X')\n",
    "ax[1].set_ylabel('Z')\n",
    "ax[1].grid(True)\n",
    "\n",
    "ax[2].scatter(\n",
    "    ts['y'].rolling(window=smooth).mean(),\n",
    "    ts['z'].rolling(window=smooth).mean(),\n",
    "    s=1\n",
    ")\n",
    "ax[2].grid(True)\n",
    "ax[2].set_xlabel('Y')\n",
    "ax[2].set_ylabel('Z')\n",
    "ax[2].grid(True)"
   ]
  },
  {
   "cell_type": "code",
   "execution_count": null,
   "id": "ec4cad83-3bef-4c11-8f35-640b67fc29ed",
   "metadata": {},
   "outputs": [],
   "source": [
    "smooth = 800\n",
    "fig, ax = plt.subplots(1, 3, figsize=(20, 4))\n",
    "ax[0].scatter(\n",
    "    ts['x'].rolling(window=smooth).std(),\n",
    "    ts['y'].rolling(window=smooth).std(),\n",
    "    s=1\n",
    ")\n",
    "ax[0].grid(True)\n",
    "ax[0].set_xlabel('X')\n",
    "ax[0].set_ylabel('Y')\n",
    "ax[0].grid(True)\n",
    "\n",
    "ax[1].scatter(\n",
    "    ts['x'].rolling(window=smooth).std(),\n",
    "    ts['z'].rolling(window=smooth).std(),\n",
    "    s=1\n",
    ")\n",
    "ax[1].grid(True)\n",
    "ax[1].set_xlabel('X')\n",
    "ax[1].set_ylabel('Z')\n",
    "ax[1].grid(True)\n",
    "\n",
    "ax[2].scatter(\n",
    "    ts['y'].rolling(window=smooth).std(),\n",
    "    ts['z'].rolling(window=smooth).std(),\n",
    "    s=1\n",
    ")\n",
    "ax[2].grid(True)\n",
    "ax[2].set_xlabel('Y')\n",
    "ax[2].set_ylabel('Z')\n",
    "ax[2].grid(True)"
   ]
  },
  {
   "cell_type": "code",
   "execution_count": null,
   "id": "ac17a73d-14c8-4f47-9c49-263b4845d9be",
   "metadata": {},
   "outputs": [],
   "source": [
    "a = ts.iloc[::100, :].interpolate(method='cubic')\n",
    "fig, ax = plt.subplots(1, 3, figsize=(20, 4))\n",
    "ax[0].plot(a['x'], a['y'])\n",
    "ax[0].grid(True)\n",
    "ax[0].set_xlabel('X')\n",
    "ax[0].set_ylabel('Y')\n",
    "ax[0].grid(True)"
   ]
  }
 ],
 "metadata": {
  "kernelspec": {
   "display_name": "Python 3 (ipykernel)",
   "language": "python",
   "name": "python3"
  },
  "language_info": {
   "codemirror_mode": {
    "name": "ipython",
    "version": 3
   },
   "file_extension": ".py",
   "mimetype": "text/x-python",
   "name": "python",
   "nbconvert_exporter": "python",
   "pygments_lexer": "ipython3",
   "version": "3.11.5"
  }
 },
 "nbformat": 4,
 "nbformat_minor": 5
}
