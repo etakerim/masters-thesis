{
 "cells": [
  {
   "cell_type": "markdown",
   "id": "5e9c2494-d25d-407f-9a6c-f728a1924172",
   "metadata": {},
   "source": [
    "# Features EDA"
   ]
  },
  {
   "cell_type": "code",
   "execution_count": null,
   "id": "2a804f85-e6ad-4c82-ba05-7ad60501beb4",
   "metadata": {},
   "outputs": [],
   "source": [
    "import pandas as pd\n",
    "import seaborn as sb\n",
    "import numpy as np\n",
    "\n",
    "# PLotting\n",
    "import matplotlib.pyplot as plt\n",
    "import matplotlib.colors as mcolors\n",
    "\n",
    "# Feature selection\n",
    "from scipy.stats import pearsonr\n",
    "from sklearn.preprocessing import StandardScaler, MinMaxScaler # OneHotEncoder\n",
    "from sklearn.compose import ColumnTransformer\n",
    "from sklearn.decomposition import PCA    # TODO: do an inverse transform to find importance of features in model\n",
    "from sklearn.pipeline import Pipeline\n",
    "from sklearn.feature_selection import SelectPercentile, SelectKBest\n",
    "from sklearn.feature_selection import mutual_info_classif, f_classif\n",
    "\n",
    "# Models (TODO: split to separate notebook)\n",
    "from sklearn.model_selection import train_test_split\n",
    "from sklearn.neighbors import KNeighborsClassifier\n",
    "from sklearn.ensemble import IsolationForest\n",
    "from sklearn.cluster import DBSCAN\n",
    "\n",
    "from river import cluster       # cluster.DenStream\n",
    "from river import anomaly       # anomaly.HalfSpaceTrees, LocalOutlierFactor\n",
    "from river import preprocessing # preprocessing.StandardScaler\n",
    "from river import neighbors     # neighbors.KNNClassifier, SWINN\n",
    "from river import drift         # ADWIN\n",
    "from river import stream\n",
    "\n",
    "# from skmultiflow.anomaly_detection import HalfSpaceTrees\n",
    "# from skmultiflow.lazy import KNNClassifier, KNNADWINClassifier\n",
    "\n",
    "# Dataset paths and attributes\n",
    "TIME_FEATURES_PATH = '../../datasets/features_data/td_features_no_filter.csv'\n",
    "FREQ_FEATURES_PATH = '../../datasets/features_data/fd_features_no_filter.csv'\n",
    "WPD_FEATURES_PATH = '../../datasets/features_data/wpd_features_no_filter.csv'\n",
    "\n",
    "TD_COLUMNS = ['mean', 'std', 'skew', 'kurt', 'rms', 'pp', 'crest', 'margin', 'impulse', 'shape']\n",
    "FD_COLUMNS = [\n",
    "    'centroid', 'std', 'skew', 'kurt', 'roll-off', 'flux_mean', 'flux_std',\n",
    "    'hdev', 'noisiness', 'inharmonicity', 'energy', 'entropy',\n",
    "    'negentropy'\n",
    "]"
   ]
  },
  {
   "cell_type": "markdown",
   "id": "601fe73c-83ff-4781-a2af-6bdf836be7ff",
   "metadata": {},
   "source": [
    "## Correlations"
   ]
  },
  {
   "cell_type": "markdown",
   "id": "5ffe79d0-1fdd-4b1b-826b-07686db93def",
   "metadata": {},
   "source": [
    "### Time domain"
   ]
  },
  {
   "cell_type": "code",
   "execution_count": null,
   "id": "5e803c21-432e-45d9-8272-6b6352683e92",
   "metadata": {},
   "outputs": [],
   "source": [
    "features = pd.read_csv(TIME_FEATURES_PATH)\n",
    "rows = features[\n",
    "     (features['axis'] == 'ax')\n",
    "   & (features['fault'] == 'horizontal-misalignment')\n",
    "][TD_COLUMNS]\n",
    "rows.corr()"
   ]
  },
  {
   "cell_type": "markdown",
   "id": "d49778d7-bfb1-44ef-8465-f880af0bd61b",
   "metadata": {},
   "source": [
    "## Absolute value of correlation"
   ]
  },
  {
   "cell_type": "code",
   "execution_count": null,
   "id": "ff6be752-0241-4110-b28e-9ec351a62c8c",
   "metadata": {},
   "outputs": [],
   "source": [
    "fig, ax = plt.subplots(figsize=(10, 5))  \n",
    "sb.heatmap(np.abs(rows.corr()), annot=True, ax=ax, cmap='Greens')"
   ]
  },
  {
   "cell_type": "markdown",
   "id": "f0566873-dbf2-4a6d-86dd-80331479d45a",
   "metadata": {},
   "source": [
    "## Variance of variables"
   ]
  },
  {
   "cell_type": "code",
   "execution_count": null,
   "id": "575d8c34-806d-4586-a055-b0360ecb7562",
   "metadata": {},
   "outputs": [],
   "source": [
    "ax = rows.var().plot(kind='barh', xlabel='Variance', ylabel='Feature')"
   ]
  },
  {
   "cell_type": "code",
   "execution_count": null,
   "id": "c1837dd9-aa22-45b3-9ce1-66a90f96fce8",
   "metadata": {},
   "outputs": [],
   "source": [
    "# TODO: pairplot with color for fault\n",
    "fig, ax = plt.subplots(figsize=(6, 6))\n",
    "\n",
    "colors = {\n",
    "    'horizontal-misalignment': 'tab:blue', \n",
    "    'imbalance':'tab:orange', \n",
    "    'vertical-misalignment': 'tab:purple', \n",
    "    'normal': 'tab:green'\n",
    "}\n",
    "\n",
    "for key, group in features.groupby('fault'):\n",
    "    group.plot(ax=ax, kind='scatter', x='kurt', y='margin', label=key, color=colors.get(key, 'tab:brown'))\n",
    "plt.show()"
   ]
  },
  {
   "cell_type": "code",
   "execution_count": null,
   "id": "9d80db95-04cf-4b33-b808-97e82aba693e",
   "metadata": {},
   "outputs": [],
   "source": [
    "ax = plt.figure().add_subplot(projection='3d')\n",
    "\n",
    "colors = {\n",
    "    'horizontal-misalignment': 'tab:blue', \n",
    "    'imbalance': 'tab:orange', \n",
    "    'vertical-misalignment': 'tab:purple', \n",
    "    'normal': 'tab:green'\n",
    "}\n",
    "\n",
    "for key, group in features.groupby('fault'):\n",
    "    ax.scatter(group['kurt'], group['margin'], group['rpm'], label=key, color=colors.get(key, 'tab:brown'))\n",
    "\n",
    "plt.xlabel('Kurtosis')\n",
    "plt.ylabel('Margin')\n",
    "plt.show()"
   ]
  },
  {
   "cell_type": "markdown",
   "id": "38731451-2d5b-403c-9dda-481f498b7ee4",
   "metadata": {},
   "source": [
    "## Faults and their severity in relation to feature value and rotational speed"
   ]
  },
  {
   "cell_type": "code",
   "execution_count": null,
   "id": "4d6bd550-cc4c-472a-9550-c5e72f925ec2",
   "metadata": {},
   "outputs": [],
   "source": [
    "def plot_feature_to_rpm(features, column):\n",
    "    fig, axes = plt.subplots(5, 2, figsize=(20, 15))\n",
    "    faults = features['fault'].cat.categories\n",
    "    \n",
    "    for idx, detail in enumerate(zip(faults, axes.flat)):\n",
    "        fault, ax = detail\n",
    "        \n",
    "        rows = features[features['fault'] == fault]\n",
    "        severity = rows['severity'].astype('category').cat.categories\n",
    "        colors = dict(zip(severity, mcolors.TABLEAU_COLORS))\n",
    "    \n",
    "        ax.scatter(rows['rpm'], rows[column], s=1, c=rows['severity'].map(colors))\n",
    "        ax.set_xlabel('RPM')\n",
    "        ax.set_ylabel(column)\n",
    "        ax.set_title(fault)\n",
    "\n",
    "\n",
    "def plot_fault_histogram(features, columns):\n",
    "    fig, axes = plt.subplots(5, 2, figsize=(20, 15))\n",
    "    faults = features['fault'].cat.categories\n",
    "\n",
    "    for idx, detail in enumerate(zip(faults, axes.flat)):\n",
    "        fault, ax = detail\n",
    "        \n",
    "        rows = features[features['fault'] == fault]\n",
    "        severity = rows['severity'].astype('category').cat.categories\n",
    "        colors = dict(zip(severity, mcolors.TABLEAU_COLORS))\n",
    "\n",
    "        for col in columns:\n",
    "            ax.hist(rows[col], bins=50, label=col)\n",
    "        ax.set_title(fault)\n",
    "        # ax.legend()\n",
    "\n",
    "features = pd.read_csv(TIME_FEATURES_PATH)\n",
    "columns = ['mean', 'std', 'skew', 'kurt', 'rms', 'pp', 'crest', 'margin', 'impulse', 'shape']\n",
    "features['fault'] = features['fault'].astype('category')"
   ]
  },
  {
   "cell_type": "code",
   "execution_count": null,
   "id": "2d17e4c0-44f9-4681-8fe5-012276d9bb72",
   "metadata": {},
   "outputs": [],
   "source": [
    "plot_feature_to_rpm(features, columns[0])"
   ]
  },
  {
   "cell_type": "code",
   "execution_count": null,
   "id": "c9db2cc2-1c2c-4159-8563-80cc7f86bc7c",
   "metadata": {},
   "outputs": [],
   "source": [
    "plot_fault_histogram(features, columns)  # TODO: calculate mutal information"
   ]
  },
  {
   "cell_type": "code",
   "execution_count": null,
   "id": "dd8e4621-e7af-49f7-a664-a7e45f24cca6",
   "metadata": {
    "scrolled": true
   },
   "outputs": [],
   "source": [
    "features = pd.read_csv(FREQ_FEATURES_PATH)\n",
    "columns = [\n",
    "    'centroid', 'std', 'skew', 'kurt', 'roll-off', 'flux_mean', 'flux_std',\n",
    "    'hdev', 'noisiness', 'inharmonicity', 'energy', 'entropy',\n",
    "    'negentropy'\n",
    "]\n",
    "features['fault'] = features['fault'].astype('category')\n",
    "features['fft_window_length'] = features['fft_window_length'].astype('category')\n",
    "print(features['fft_window_length'].cat.categories)\n",
    "\n",
    "features = features[(features['fft_window_length'] == 1024) & (features['axis'] == 'ax')]\n",
    "features"
   ]
  },
  {
   "cell_type": "code",
   "execution_count": null,
   "id": "916f8296-a3b8-4a8c-a33b-7645e94796b5",
   "metadata": {},
   "outputs": [],
   "source": [
    "plot_feature_to_rpm(features, columns[-2])"
   ]
  },
  {
   "cell_type": "code",
   "execution_count": null,
   "id": "9a3e6634-53f4-4311-ae2e-da284f6538c4",
   "metadata": {},
   "outputs": [],
   "source": [
    "plot_fault_histogram(features, columns)"
   ]
  },
  {
   "cell_type": "markdown",
   "id": "36e08470-bfe0-4d57-b621-9b711284dc9d",
   "metadata": {},
   "source": [
    "## Pearson correlation in Time domain\n",
    "- Calculate correlation between fault (then severity) and features by axis\n",
    "- Transform faults to binary vector (is unbalance, is not unbalance) for each fault - one hot encoding"
   ]
  },
  {
   "cell_type": "code",
   "execution_count": null,
   "id": "a592c130-3988-4ec1-8ce0-c728f38e9d7e",
   "metadata": {},
   "outputs": [],
   "source": [
    "def corr_features_to_fault(dataframe, features):\n",
    "    fault_dummies = pd.get_dummies(dataframe['fault'])\n",
    "    fault_features = pd.concat([dataframe, fault_dummies], axis=1)\n",
    "\n",
    "    correlations = []\n",
    "    for i, fault in enumerate(dataframe['fault'].cat.categories):\n",
    "        for col in features:\n",
    "            x = fault_features[col]\n",
    "            y = fault_features[fault]\n",
    "            f = np.abs(pearsonr(x, y)[0])\n",
    "            correlations.append({\n",
    "                'fault': fault,\n",
    "                'feature': col,\n",
    "                'corr': f\n",
    "            })\n",
    "\n",
    "    correlations = pd.DataFrame(correlations)\n",
    "    correlations['fault'] = correlations['fault'].astype('category')\n",
    "    correlations['feature'] = correlations['feature'].astype('category')\n",
    "    return correlations\n",
    "\n",
    "def show_time_domain_correlation(corr_table):\n",
    "    num_of_faults = len(corr_table['fault'].cat.categories)\n",
    "    fig, axes = plt.subplots(2, num_of_faults // 2, figsize=(20, 10))\n",
    "\n",
    "    for i, group in enumerate(corr_table.groupby(by='fault', observed=True)):\n",
    "        fault, rows = group\n",
    "        x = rows.sort_values(by='corr', ascending=False)\n",
    "    \n",
    "        # Plot correlations\n",
    "        o = axes.flatten()[i]\n",
    "        o.bar(x['feature'], x['corr'])\n",
    "        o.grid(True)\n",
    "        # o.set_xlabel('Feature')\n",
    "        #o.set_ylabel('Correlation with fault')\n",
    "        o.set_title(f'Fault: {fault}')\n",
    "        # Rotate x labels by 45 deg\n",
    "        o.set_xticks(o.get_xticks())\n",
    "        o.set_xticklabels(o.get_xticklabels(), rotation=45, ha='right')\n",
    "\n",
    "    for ax in axes[-1]:\n",
    "        ax.set_xlabel('Feature')\n",
    "    for ax in axes[:,0]:\n",
    "        ax.set_ylabel('Correlation with fault')\n",
    "\n",
    "    fig.tight_layout()"
   ]
  },
  {
   "cell_type": "markdown",
   "id": "14f005a8-6270-4c7d-bac2-2b40b4954795",
   "metadata": {},
   "source": [
    "#### Ordered importance of features to fault based on their Pearson correlation coeficient"
   ]
  },
  {
   "cell_type": "code",
   "execution_count": null,
   "id": "cecfe10a-074b-4deb-be24-bc321fa202ba",
   "metadata": {},
   "outputs": [],
   "source": [
    "AXIS = ['ax', 'ay', 'az', 'bx', 'by', 'bz']\n",
    "features = pd.read_csv(TIME_FEATURES_PATH)\n",
    "features = features[features['axis'].isin(AXIS)]\n",
    "features['fault'] = features['fault'].astype('category')\n",
    "\n",
    "df = corr_features_to_fault(features, TD_COLUMNS)\n",
    "show_time_domain_correlation(df)"
   ]
  },
  {
   "cell_type": "markdown",
   "id": "0fdba08a-cb9b-4bc0-aed8-58a1435a9041",
   "metadata": {},
   "source": [
    "#### Correlations among faults and time domain featured unordered"
   ]
  },
  {
   "cell_type": "code",
   "execution_count": null,
   "id": "23316799-55b7-4285-85ea-499e75e45588",
   "metadata": {},
   "outputs": [],
   "source": [
    "corr_to_class = df.pivot(index='fault', columns='feature', values='corr')\n",
    "fig, ax = plt.subplots(figsize=(10, 5))\n",
    "sb.heatmap(corr_to_class, annot=True, cmap='Greens', ax=ax)\n",
    "plt.show()"
   ]
  },
  {
   "cell_type": "markdown",
   "id": "85b7a960-7c37-45c8-905a-0bbd2428523f",
   "metadata": {},
   "source": [
    "#### Rank order of features averaged among all fault types\n",
    "**Less is better**"
   ]
  },
  {
   "cell_type": "code",
   "execution_count": null,
   "id": "32cbc7bf-ac43-47ba-b7d6-3537a9c51a5a",
   "metadata": {},
   "outputs": [],
   "source": [
    "corr_fault_to_feat = df.pivot(index='fault', columns='feature', values='corr')\n",
    "\n",
    "feature_ranks = corr_fault_to_feat.rank(axis='columns', method='dense', ascending=False)\n",
    "common_rank = feature_ranks.mean().sort_values().to_frame(name='rank')\n",
    "common_rank.plot.bar(grid=True, legend=False)\n",
    "plt.show()"
   ]
  },
  {
   "cell_type": "markdown",
   "id": "2cb1aa33-e82e-4c99-ae3f-e441072a8895",
   "metadata": {},
   "source": [
    "## F statistic in Time domain"
   ]
  },
  {
   "cell_type": "code",
   "execution_count": null,
   "id": "0684fd81-6522-4788-8c77-8e469e13eb6b",
   "metadata": {},
   "outputs": [],
   "source": [
    "# MI: it is equal to zero if and only if two random variables are independent, \n",
    "# and higher values mean higher dependency.\n",
    "def calc_feature_selection_metric(fmetric, dataset, columns, summary=True):\n",
    "    if summary:\n",
    "        m = fmetric(dataset[columns], dataset['fault'].cat.codes)  # Do not have to be codes\n",
    "        if isinstance(m, tuple):\n",
    "            m = m[0]\n",
    "        return (pd.DataFrame(list(zip(columns, m)), columns=['feature', 'stat'])\n",
    "                  .set_index('feature')\n",
    "                  .sort_values(by='stat', ascending=False))\n",
    "    else: # For each axis and target category independently\n",
    "        stat = {}\n",
    "        for key, group in dataset.groupby('axis'):\n",
    "            m = fmetric(group[columns], group['fault'].cat.codes)\n",
    "            if isinstance(m, tuple):\n",
    "                m = m[0]\n",
    "            stat[key] = m\n",
    "        df = pd.DataFrame(stat)\n",
    "        df['feature'] = columns\n",
    "        return df.set_index('feature')\n",
    "\n",
    "def calc_f_stat(dataset, columns, summary=True):\n",
    "    return calc_feature_selection_metric(f_classif, dataset, columns, summary)\n",
    "\n",
    "def calc_mutual_information(dataset, columns, summary=True):\n",
    "    return calc_feature_selection_metric(mutual_info_classif, dataset, columns, summary)\n",
    "\n",
    "def load_time_domain_features(axis):\n",
    "    features = pd.read_csv(TIME_FEATURES_PATH)\n",
    "    features = features[features['axis'].isin(axis)]\n",
    "    features['fault'] = features['fault'].astype('category')\n",
    "    return features"
   ]
  },
  {
   "cell_type": "markdown",
   "id": "352e4f5f-be2e-4d6b-9f43-cd9c85411c37",
   "metadata": {},
   "source": [
    "## F score in Time domain"
   ]
  },
  {
   "cell_type": "markdown",
   "id": "fdb8c7fb-cbcd-4c78-80df-f4d409c1bdd2",
   "metadata": {},
   "source": [
    "#### Unnormalized features"
   ]
  },
  {
   "cell_type": "code",
   "execution_count": null,
   "id": "ec073197-4df8-442a-8d84-0761546ec452",
   "metadata": {},
   "outputs": [],
   "source": [
    "features = load_time_domain_features(['ax', 'ay', 'az', 'bx', 'by', 'bz'])\n",
    "fscore = calc_f_stat(features, TD_COLUMNS, summary=True)\n",
    "fscore.plot.bar(figsize=(8, 5), grid=True, xlabel='Feature', ylabel='F statistic', legend=False)\n",
    "plt.show()"
   ]
  },
  {
   "cell_type": "markdown",
   "id": "a17a992a-7da4-4b81-8bfb-bf7d5281c56f",
   "metadata": {},
   "source": [
    "#### Normalized features (Result found: F score is independent of scaling)"
   ]
  },
  {
   "cell_type": "code",
   "execution_count": null,
   "id": "dbb8be33-d51d-426b-8be5-9890d9928a9b",
   "metadata": {},
   "outputs": [],
   "source": [
    "features = load_time_domain_features(['ax', 'ay', 'az', 'bx', 'by', 'bz'])\n",
    "\n",
    "standard_transformer = Pipeline(\n",
    "    steps=[('standard', StandardScaler())]\n",
    ")\n",
    "minmax_transformer = Pipeline(\n",
    "    steps=[('minmax', MinMaxScaler())]\n",
    ")\n",
    "\n",
    "preprocessor = ColumnTransformer(\n",
    "    remainder='passthrough',\n",
    "    transformers=[\n",
    "        ('std', standard_transformer , TD_COLUMNS)\n",
    "    ],\n",
    "    verbose_feature_names_out=False\n",
    ")\n",
    "features_normalized = preprocessor.fit_transform(features)\n",
    "\n",
    "features_normalized = pd.DataFrame(features_normalized, columns=preprocessor.get_feature_names_out())\n",
    "features_normalized['fault'] = features_normalized['fault'].astype('category')\n",
    "fscore = calc_f_stat(features_normalized, TD_COLUMNS, summary=True)\n",
    "fscore.plot.bar(figsize=(8, 5), grid=True, xlabel='Feature', ylabel='F statistic', legend=False)\n",
    "plt.show()"
   ]
  },
  {
   "cell_type": "markdown",
   "id": "d04dc5e3-f53b-4a66-b1f2-bb474ba171a7",
   "metadata": {},
   "source": [
    "### F stat between feature on axis and target fault state"
   ]
  },
  {
   "cell_type": "code",
   "execution_count": null,
   "id": "cd0084fc-8353-4929-9a6f-1b0b6e747823",
   "metadata": {},
   "outputs": [],
   "source": [
    "fig, ax = plt.subplots(figsize=(10, 5)) \n",
    "sb.heatmap(calc_f_stat(features, TD_COLUMNS, summary=False), annot=True, ax=ax, cmap=\"Greens\")\n",
    "plt.show()"
   ]
  },
  {
   "cell_type": "markdown",
   "id": "81f48a7e-5fad-496d-94d5-32337928b276",
   "metadata": {},
   "source": [
    "## Mutual information"
   ]
  },
  {
   "cell_type": "markdown",
   "id": "f3f2a1b9-f4a4-4f18-b08e-fac51dc50c6f",
   "metadata": {},
   "source": [
    "## MI in Time domain"
   ]
  },
  {
   "cell_type": "code",
   "execution_count": null,
   "id": "f5d64c9e-8219-4352-ae79-a3564c58dfce",
   "metadata": {},
   "outputs": [],
   "source": [
    "features = load_time_domain_features(['ax', 'ay', 'az', 'bx', 'by', 'bz'])\n",
    "mi = calc_mutual_information(features, TD_COLUMNS, summary=True)\n",
    "mi.plot.bar(figsize=(8, 5), grid=True, xlabel='Feature', ylabel='Mutual information', legend=False)\n",
    "plt.show()"
   ]
  },
  {
   "cell_type": "markdown",
   "id": "b401bb00-1b32-4cd0-b489-71f3de49def8",
   "metadata": {},
   "source": [
    "### MI between feature on axis and target fault state"
   ]
  },
  {
   "cell_type": "code",
   "execution_count": null,
   "id": "0c40172c-12fe-48bf-841f-72db2acbefe1",
   "metadata": {},
   "outputs": [],
   "source": [
    "fig, ax = plt.subplots(figsize=(10, 5))  \n",
    "sb.heatmap(calc_mutual_information(features, TD_COLUMNS, summary=False), annot=True, ax=ax, cmap=\"Greens\")\n",
    "plt.show()"
   ]
  },
  {
   "cell_type": "markdown",
   "id": "74eaf1d4-d0a7-4e9c-b85e-d0c0a6435e18",
   "metadata": {},
   "source": [
    "## MI in Frequency domain\n",
    "- By fft window length\n",
    "- By measurement point:{(ax, ay, az), {bx, by, bz})"
   ]
  },
  {
   "cell_type": "code",
   "execution_count": null,
   "id": "1fcc361a-8ada-42ac-a0e9-5c05a1e02cba",
   "metadata": {},
   "outputs": [],
   "source": [
    "WINDOW_SIZES = (2**8, 2**10, 2**12, 2**14, 2**16)\n",
    "\n",
    "def show_freq_domain_mutual_info(features, cols):\n",
    "    fig, ax = plt.subplots(1, 5, figsize=(20, 5))\n",
    "    for i, win in enumerate(WINDOW_SIZES):\n",
    "        x = features[\n",
    "                (features['fft_window_length'] == win) &\n",
    "                (features['axis'].isin(cols))\n",
    "            ].dropna()\n",
    "        print('FFT:', win, 'Number of rows:', len(x))\n",
    "        mi = calc_mutual_information(x, columns, summary=True)\n",
    "\n",
    "        o = ax.flatten()[i]\n",
    "        o.bar(mi.index, mi.values.T[0])\n",
    "        # Stylize bar graph\n",
    "        o.grid(True)\n",
    "        o.set_xlabel('Feature')\n",
    "        o.set_ylabel('MI')\n",
    "        o.set_title(f'FFT: {win}')\n",
    "        # Rotate x labels by 45 deg\n",
    "        o.set_xticks(o.get_xticks())\n",
    "        o.set_xticklabels(o.get_xticklabels(), rotation=45, ha='right')"
   ]
  },
  {
   "cell_type": "code",
   "execution_count": null,
   "id": "9aea3712-9d5e-4556-8fd8-750abe37308f",
   "metadata": {},
   "outputs": [],
   "source": [
    "# TODO: MI between pairs of variables (e.g. mean to std, ..)\n",
    "features = pd.read_csv(FREQ_FEATURES_PATH)\n",
    "features['fault'] = features['fault'].astype('category')\n",
    "features['fft_window_length'] = features['fft_window_length'].astype('category')\n",
    "\n",
    "show_freq_domain_mutual_info(features, ['ax', 'ay', 'az'])\n",
    "plt.show()"
   ]
  },
  {
   "cell_type": "code",
   "execution_count": null,
   "id": "b14389ed-cd7d-4983-8f8b-a097eebd75e8",
   "metadata": {},
   "outputs": [],
   "source": [
    "show_freq_domain_mutual_info(features, ['bx', 'by', 'bz'])\n",
    "plt.show()"
   ]
  },
  {
   "cell_type": "markdown",
   "id": "5f104f87-7140-47dc-85b5-fcc528c343ba",
   "metadata": {},
   "source": [
    "### Mutual information between feature in axis and various faults (predicted variable)"
   ]
  },
  {
   "cell_type": "code",
   "execution_count": null,
   "id": "e9be3cdd-e28e-4bfe-9596-5a78aa12f42f",
   "metadata": {},
   "outputs": [],
   "source": [
    "def mi_among_fault_and_axis(features, cols):\n",
    "    fig, ax = plt.subplots(5, 1, figsize=(8, 20))\n",
    "    \n",
    "    for i, win in enumerate(WINDOW_SIZES):\n",
    "        x = features[\n",
    "            (features['fft_window_length'] == win) &\n",
    "            (features['axis'].isin(cols))\n",
    "        ].dropna()\n",
    "        o = ax.flatten()[i]\n",
    "        mi = calc_mutual_information(x, FD_COLUMNS, summary=False)\n",
    "        sb.heatmap(mi, annot=True, ax=o, cmap=\"Greens\")\n",
    "        o.set_title(f'FFT: {win}')\n",
    "\n",
    "AXIS = ['ax', 'ay', 'az', 'bx', 'by', 'bz']\n",
    "features = pd.read_csv(FREQ_FEATURES_PATH)\n",
    "features['fault'] = features['fault'].astype('category')\n",
    "features['fft_window_length'] = features['fft_window_length'].astype('category')\n",
    "\n",
    "mi_among_fault_and_axis(features, AXIS)\n",
    "plt.show()"
   ]
  },
  {
   "cell_type": "markdown",
   "id": "322b3dc9-a819-47eb-a8b7-f77b65be30eb",
   "metadata": {},
   "source": [
    "## TODO: MI in Freq domain: Rank order of features averaged among all window sizes"
   ]
  },
  {
   "cell_type": "markdown",
   "id": "e1d5b456-8192-4cda-babd-ff88f1329a85",
   "metadata": {},
   "source": [
    "## MI in Wavelets"
   ]
  },
  {
   "cell_type": "code",
   "execution_count": null,
   "id": "647fcc33-f2ed-43b5-8866-fb6f70a84c55",
   "metadata": {},
   "outputs": [],
   "source": [
    "features = pd.read_csv(WPD_FEATURES_PATH)\n",
    "\n",
    "WPD_AXIS = 'ax'\n",
    "# More axis at once significantly reduces MI\n",
    "features = features[features['axis'] == WPD_AXIS]                 # One axis\n",
    "features['fault'] = features['fault'].astype('category')\n",
    "#features = features[features['axis'].isin(['ax', 'ay', 'az'])]  # One measuremnt position\n",
    "\n",
    "columns = [col for col in features.columns \n",
    "           if col not in ('fault', 'severity', 'seq', 'rpm', 'axis', 'feature')]\n",
    "features.head()"
   ]
  },
  {
   "cell_type": "code",
   "execution_count": null,
   "id": "5f357e27-25ca-496f-9ff2-795370b8b944",
   "metadata": {},
   "outputs": [],
   "source": [
    "features_energy = features[features['feature'] == 'energy']\n",
    "print(len(features_energy))\n",
    "\n",
    "mi = calc_mutual_information(features_energy, columns, summary=True)\n",
    "mi.iloc[:30].plot.bar(figsize=(20, 4), grid=True, ylabel='MI', title='WPD Energy')\n",
    "plt.show()"
   ]
  },
  {
   "cell_type": "code",
   "execution_count": null,
   "id": "9c71e2b3-b959-46eb-a6fd-9feab6478298",
   "metadata": {},
   "outputs": [],
   "source": [
    "def plot_wpd_energy_ratio_per_level(features, wpd_axis):\n",
    "    features = features[features['axis'].isin(wpd_axis)]  \n",
    "    features_energy_ratio = features[features['feature'] == 'energy_ratio']\n",
    "    # print(len(features_energy_ratio))\n",
    "    \n",
    "    fig, ax = plt.subplots(6, 1, figsize=(15, 20))\n",
    "    \n",
    "    for level in range(1, 7):\n",
    "        cols = np.array(columns)\n",
    "        cols = cols[np.char.startswith(cols, f'L{level}')]\n",
    "        mi = calc_mutual_information(features_energy_ratio, cols, summary=True)\n",
    "        \n",
    "        o = ax.flatten()[level-1]\n",
    "        o.bar(mi.index, mi.values.T[0])\n",
    "        o.grid(True)\n",
    "        o.set_xlabel('Feature')\n",
    "        o.set_ylabel('MI')\n",
    "        \n",
    "        # Rotate x labels by 45 deg\n",
    "        o.set_xticks(o.get_xticks())\n",
    "        o.set_xticklabels(o.get_xticklabels(), rotation=45, ha='right')\n",
    "\n",
    "    fig.suptitle(f'WPD energy ratio: Axis \"{wpd_axis}\"', fontsize=16, y=0.9)\n",
    "    plt.show()"
   ]
  },
  {
   "cell_type": "code",
   "execution_count": null,
   "id": "6730f6fc-1a87-499c-a257-7206901e6bf1",
   "metadata": {},
   "outputs": [],
   "source": [
    "plot_wpd_energy_ratio_per_level(features, ['ax'])"
   ]
  },
  {
   "cell_type": "code",
   "execution_count": null,
   "id": "463471f2-af09-4c8b-83c1-358350572218",
   "metadata": {},
   "outputs": [],
   "source": [
    "plot_wpd_energy_ratio_per_level(features, ['ax', 'ay', 'az'])"
   ]
  },
  {
   "cell_type": "code",
   "execution_count": null,
   "id": "7bc6bb87-68f1-49d6-9301-335ec276a6f7",
   "metadata": {},
   "outputs": [],
   "source": [
    "features_entropy = features[features['feature'] == 'negentropy']\n",
    "print(len(features_entropy))\n",
    "\n",
    "mi = calc_mutual_information(features_entropy, columns, summary=True)\n",
    "mi.iloc[:30].plot.bar(figsize=(20, 4), grid=True, ylabel='MI', title='WPD Negentropy')\n",
    "plt.show()"
   ]
  },
  {
   "cell_type": "code",
   "execution_count": null,
   "id": "dc13a43d-a13a-476a-9841-e63b7c66b65f",
   "metadata": {},
   "outputs": [],
   "source": [
    "features_kurtosis = features[features['feature'] == 'kurtosis']\n",
    "print(len(features_kurtosis))\n",
    "\n",
    "mi = calc_mutual_information(features_entropy, columns, summary=True)\n",
    "mi.iloc[:30].plot.bar(figsize=(20, 4), grid=True, ylabel='MI', title='WPD Kurtosis')\n",
    "plt.show()"
   ]
  },
  {
   "cell_type": "code",
   "execution_count": null,
   "id": "5a5f4b2c-6c95-4ffc-b235-26bca817b4f2",
   "metadata": {},
   "outputs": [],
   "source": [
    "def level_to_frequency_bands(level, fs):\n",
    "    bin_count = 2 ** level\n",
    "    bin_width = (fs / 2) / bin_count\n",
    "    for bin in range(bin_count):\n",
    "        a = bin * bin_width\n",
    "        b = a + bin_width\n",
    "        print(f'L{level}_{bin} = [{a}; {b}] Hz')\n",
    "\n",
    "level_to_frequency_bands(level=4, fs=50000)"
   ]
  },
  {
   "cell_type": "markdown",
   "id": "97d5d090-5f7c-4d98-91ab-8cd9976e9708",
   "metadata": {},
   "source": [
    "### PCA on time domain features"
   ]
  },
  {
   "cell_type": "code",
   "execution_count": null,
   "id": "895acc8b-161d-4187-b7f8-cc6854de42e6",
   "metadata": {},
   "outputs": [],
   "source": [
    "features = pd.read_csv(TIME_FEATURES_PATH)\n",
    "columns = ['mean', 'std', 'skew', 'kurt', 'rms', 'pp', 'crest', 'margin', 'impulse', 'shape']\n",
    "matrix = features[columns].to_numpy()\n",
    "\n",
    "scaler = StandardScaler()\n",
    "matrix_scaled = scaler.fit_transform(matrix)\n",
    "pca = PCA()  #n_components=3)\n",
    "result = pca.fit_transform(matrix_scaled)\n",
    "\n",
    "print(pca.explained_variance_ratio_)\n",
    "# print(pca.singular_values_)\n",
    "print(pca.components_)\n",
    "plt.scatter(result.T[0], result.T[1], s=1)\n",
    "plt.show()"
   ]
  },
  {
   "cell_type": "code",
   "execution_count": null,
   "id": "def495bb-b5d2-428f-ae01-5111d974b4ab",
   "metadata": {},
   "outputs": [],
   "source": [
    "ax = plt.figure().add_subplot(projection='3d')\n",
    "p = ax.scatter(result.T[0], result.T[1], result.T[2], color='red', s=1)\n",
    "plt.show()"
   ]
  },
  {
   "cell_type": "code",
   "execution_count": null,
   "id": "acd7b65d-623a-492f-96b8-d0dfcb94a793",
   "metadata": {},
   "outputs": [],
   "source": [
    "# https://medium.com/@andymdc31/using-pca-in-a-machine-learning-pipeline-b6fe3492b1b9\n",
    "total_explained_variance = pca.explained_variance_ratio_.cumsum()\n",
    "n_over_95 = len(total_explained_variance[total_explained_variance >= .95])\n",
    "\n",
    "n_to_reach_95 = matrix.shape[1] - n_over_95 + 1\n",
    "print(\"Number features: {}\\tTotal Variance Explained: {}\".format(\n",
    "    n_to_reach_95,\n",
    "    total_explained_variance[n_to_reach_95-1]\n",
    "))"
   ]
  },
  {
   "cell_type": "code",
   "execution_count": null,
   "id": "f1b1293b-6a4e-4ba8-8988-a203ef62a467",
   "metadata": {},
   "outputs": [],
   "source": [
    "# We can find original feature importance in original model\n",
    "pipeline = Pipeline(steps=[\n",
    "    ('scale', StandardScaler()),\n",
    "    ('pca', PCA(n_components=2))\n",
    "])\n",
    "result = pipeline.fit_transform(matrix_scaled)"
   ]
  },
  {
   "cell_type": "code",
   "execution_count": null,
   "id": "1bba2a11-25f2-47ed-850f-ceb421e6d6f5",
   "metadata": {},
   "outputs": [],
   "source": [
    "wp_features = pd.read_csv(WPD_FEATURES_PATH)\n",
    "columns = [\n",
    "    col for col in wp_features.columns \n",
    "    if col not in ('fault', 'severity', 'seq', 'rpm', 'axis', 'feature')\n",
    "]\n",
    "\n",
    "fig, ax = plt.subplots(figsize=(6, 6))\n",
    "\n",
    "for key, group in features.groupby('fault'):\n",
    "    group.plot(ax=ax, kind='scatter', x='kurt', y='margin', label=key, color=colors.get(key, 'tab:brown'))\n",
    "plt.show()"
   ]
  }
 ],
 "metadata": {
  "kernelspec": {
   "display_name": "Python 3 (ipykernel)",
   "language": "python",
   "name": "python3"
  },
  "language_info": {
   "codemirror_mode": {
    "name": "ipython",
    "version": 3
   },
   "file_extension": ".py",
   "mimetype": "text/x-python",
   "name": "python",
   "nbconvert_exporter": "python",
   "pygments_lexer": "ipython3",
   "version": "3.11.5"
  }
 },
 "nbformat": 4,
 "nbformat_minor": 5
}
