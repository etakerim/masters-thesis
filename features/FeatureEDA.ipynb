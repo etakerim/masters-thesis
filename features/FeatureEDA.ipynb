{
 "cells": [
  {
   "cell_type": "markdown",
   "id": "5e9c2494-d25d-407f-9a6c-f728a1924172",
   "metadata": {},
   "source": [
    "# Features EDA"
   ]
  },
  {
   "cell_type": "code",
   "execution_count": null,
   "id": "2a804f85-e6ad-4c82-ba05-7ad60501beb4",
   "metadata": {},
   "outputs": [],
   "source": [
    "import pandas as pd\n",
    "import seaborn as sb\n",
    "\n",
    "from sklearn.decomposition import PCA\n",
    "import matplotlib.pyplot as plt\n",
    "import matplotlib.colors as mcolors\n",
    "\n",
    "TIME_FEATURES_PATH = '../../datasets/features_data/td_features_no_filter.csv'\n",
    "FREQ_FEATURES_PATH = '../../datasets/features_data/fd_features_no_filter.csv'\n",
    "WPD_FEATURES_PATH = '../../datasets/features_data/wpd_features_no_filter.csv'"
   ]
  },
  {
   "cell_type": "markdown",
   "id": "601fe73c-83ff-4781-a2af-6bdf836be7ff",
   "metadata": {},
   "source": [
    "## Correlations"
   ]
  },
  {
   "cell_type": "markdown",
   "id": "5ffe79d0-1fdd-4b1b-826b-07686db93def",
   "metadata": {},
   "source": [
    "### Time domain"
   ]
  },
  {
   "cell_type": "code",
   "execution_count": null,
   "id": "5e803c21-432e-45d9-8272-6b6352683e92",
   "metadata": {},
   "outputs": [],
   "source": [
    "features = pd.read_csv(TIME_FEATURES_PATH)\n",
    "td_columns = ['mean', 'std', 'skew', 'kurt', 'rms', 'pp', 'crest', 'margin', 'impulse', 'shape']\n",
    "rows = features[\n",
    "     (features['axis'] == 'ax')\n",
    "   & (features['fault'] == 'horizontal-misalignment')\n",
    "][td_columns]\n",
    "rows.corr()"
   ]
  },
  {
   "cell_type": "code",
   "execution_count": null,
   "id": "ff6be752-0241-4110-b28e-9ec351a62c8c",
   "metadata": {},
   "outputs": [],
   "source": [
    "sb.heatmap(rows.corr(), annot=True)"
   ]
  },
  {
   "cell_type": "code",
   "execution_count": null,
   "id": "575d8c34-806d-4586-a055-b0360ecb7562",
   "metadata": {},
   "outputs": [],
   "source": [
    "ax = rows.var().plot(kind='barh', xlabel='Variance', ylabel='Feature')"
   ]
  },
  {
   "cell_type": "code",
   "execution_count": null,
   "id": "c1837dd9-aa22-45b3-9ce1-66a90f96fce8",
   "metadata": {},
   "outputs": [],
   "source": [
    "# TODO: pairplot with color for fault\n",
    "fig, ax = plt.subplots(figsize=(6, 6))\n",
    "\n",
    "colors = {\n",
    "    'horizontal-misalignment': 'tab:blue', \n",
    "    'imbalance':'tab:orange', \n",
    "    'vertical-misalignment': 'tab:purple', \n",
    "    'normal': 'tab:green'\n",
    "}\n",
    "\n",
    "for key, group in features.groupby('fault'):\n",
    "    group.plot(ax=ax, kind='scatter', x='kurt', y='margin', label=key, color=colors.get(key, 'tab:brown'))\n",
    "plt.show()"
   ]
  },
  {
   "cell_type": "code",
   "execution_count": null,
   "id": "9d80db95-04cf-4b33-b808-97e82aba693e",
   "metadata": {},
   "outputs": [],
   "source": [
    "ax = plt.figure().add_subplot(projection='3d')\n",
    "\n",
    "colors = {\n",
    "    'horizontal-misalignment': 'tab:blue', \n",
    "    'imbalance': 'tab:orange', \n",
    "    'vertical-misalignment': 'tab:purple', \n",
    "    'normal': 'tab:green'\n",
    "}\n",
    "\n",
    "for key, group in features.groupby('fault'):\n",
    "    ax.scatter(group['kurt'], group['margin'], group['rpm'], label=key, color=colors.get(key, 'tab:brown'))\n",
    "\n",
    "plt.xlabel('Kurtosis')\n",
    "plt.ylabel('Margin')\n",
    "plt.show()"
   ]
  },
  {
   "cell_type": "markdown",
   "id": "38731451-2d5b-403c-9dda-481f498b7ee4",
   "metadata": {},
   "source": [
    "#### Faults and their severity in relation to feature value and rotational speed"
   ]
  },
  {
   "cell_type": "code",
   "execution_count": null,
   "id": "4d6bd550-cc4c-472a-9550-c5e72f925ec2",
   "metadata": {},
   "outputs": [],
   "source": [
    "def plot_feature_to_rpm(features, column):\n",
    "    fig, axes = plt.subplots(5, 2, figsize=(20, 15))\n",
    "    faults = features['fault'].cat.categories\n",
    "    \n",
    "    for idx, detail in enumerate(zip(faults, axes.flat)):\n",
    "        fault, ax = detail\n",
    "        \n",
    "        rows = features[features['fault'] == fault]\n",
    "        severity = rows['severity'].astype('category').cat.categories\n",
    "        colors = dict(zip(severity, mcolors.TABLEAU_COLORS))\n",
    "    \n",
    "        ax.scatter(rows['rpm'], rows[column], s=1, c=rows['severity'].map(colors))\n",
    "        ax.set_xlabel('RPM')\n",
    "        ax.set_ylabel(column)\n",
    "        ax.set_title(fault)\n",
    "\n",
    "\n",
    "def plot_fault_histogram(features, columns):\n",
    "    fig, axes = plt.subplots(5, 2, figsize=(20, 15))\n",
    "    faults = features['fault'].cat.categories\n",
    "\n",
    "    for idx, detail in enumerate(zip(faults, axes.flat)):\n",
    "        fault, ax = detail\n",
    "        \n",
    "        rows = features[features['fault'] == fault]\n",
    "        severity = rows['severity'].astype('category').cat.categories\n",
    "        colors = dict(zip(severity, mcolors.TABLEAU_COLORS))\n",
    "\n",
    "        for col in columns:\n",
    "            ax.hist(rows[col], bins=50, label=col)\n",
    "        ax.set_title(fault)\n",
    "        # ax.legend()\n",
    "\n",
    "features = pd.read_csv(TIME_FEATURES_PATH)\n",
    "columns = ['mean', 'std', 'skew', 'kurt', 'rms', 'pp', 'crest', 'margin', 'impulse', 'shape']\n",
    "features['fault'] = features['fault'].astype('category')"
   ]
  },
  {
   "cell_type": "code",
   "execution_count": null,
   "id": "2d17e4c0-44f9-4681-8fe5-012276d9bb72",
   "metadata": {},
   "outputs": [],
   "source": [
    "plot_feature_to_rpm(features, columns[0])"
   ]
  },
  {
   "cell_type": "code",
   "execution_count": null,
   "id": "c9db2cc2-1c2c-4159-8563-80cc7f86bc7c",
   "metadata": {},
   "outputs": [],
   "source": [
    "plot_fault_histogram(features, columns)  # TODO: calculate mutal information"
   ]
  },
  {
   "cell_type": "code",
   "execution_count": null,
   "id": "dd8e4621-e7af-49f7-a664-a7e45f24cca6",
   "metadata": {
    "scrolled": true
   },
   "outputs": [],
   "source": [
    "features = pd.read_csv(FREQ_FEATURES_PATH)\n",
    "columns = [\n",
    "    'centroid', 'std', 'skew', 'kurt', 'roll-off', 'flux_mean', 'flux_std',\n",
    "    'hdev', 'noisiness', 'inharmonicity', 'energy', 'entropy',\n",
    "    'negentropy'\n",
    "]\n",
    "features['fault'] = features['fault'].astype('category')\n",
    "features['fft_window_length'] = features['fft_window_length'].astype('category')\n",
    "print(features['fft_window_length'].cat.categories)\n",
    "\n",
    "features = features[(features['fft_window_length'] == 1024) & (features['axis'] == 'ax')]\n",
    "features"
   ]
  },
  {
   "cell_type": "code",
   "execution_count": null,
   "id": "916f8296-a3b8-4a8c-a33b-7645e94796b5",
   "metadata": {},
   "outputs": [],
   "source": [
    "plot_feature_to_rpm(features, columns[-2])"
   ]
  },
  {
   "cell_type": "code",
   "execution_count": null,
   "id": "9a3e6634-53f4-4311-ae2e-da284f6538c4",
   "metadata": {},
   "outputs": [],
   "source": [
    "plot_fault_histogram(features, columns)"
   ]
  },
  {
   "cell_type": "markdown",
   "id": "81f48a7e-5fad-496d-94d5-32337928b276",
   "metadata": {},
   "source": [
    "### Mutual information"
   ]
  },
  {
   "cell_type": "code",
   "execution_count": null,
   "id": "0684fd81-6522-4788-8c77-8e469e13eb6b",
   "metadata": {},
   "outputs": [],
   "source": [
    "from sklearn.feature_selection import mutual_info_classif\n",
    "\n",
    "# MI: it is equal to zero if and only if two random variables are independent, \n",
    "# and higher values mean higher dependency.\n",
    "def calc_mutual_information(dataset, columns, summary=True):\n",
    "    if summary:\n",
    "        mi = mutual_info_classif(dataset[columns], dataset['fault'])\n",
    "        return (pd.DataFrame(list(zip(columns, mi)), columns=['feature', 'MI'])\n",
    "                  .set_index('feature')\n",
    "                  .sort_values(by='MI', ascending=False))\n",
    "    else: # For each axis and target category independently\n",
    "        mutual_infos = {}\n",
    "        for key, group in dataset.groupby('axis'):\n",
    "            mi = mutual_info_classif(group[columns], group['fault'])\n",
    "            mutual_infos[key] = mi\n",
    "        df = pd.DataFrame(mutual_infos)\n",
    "        df['feature'] = columns\n",
    "        return df.set_index('feature')"
   ]
  },
  {
   "cell_type": "markdown",
   "id": "f3f2a1b9-f4a4-4f18-b08e-fac51dc50c6f",
   "metadata": {},
   "source": [
    "#### MI in Time domain"
   ]
  },
  {
   "cell_type": "code",
   "execution_count": null,
   "id": "f5d64c9e-8219-4352-ae79-a3564c58dfce",
   "metadata": {},
   "outputs": [],
   "source": [
    "features = pd.read_csv(TIME_FEATURES_PATH)\n",
    "columns = ['mean', 'std', 'skew', 'kurt', 'rms', 'pp', 'crest', 'margin', 'impulse', 'shape']\n",
    "features['fault'] = features['fault'].astype('category')\n",
    "#features = features[(features['axis'].isin(['ax', 'ay', 'az']))].dropna()\n",
    "\n",
    "print(len(features))\n",
    "mi = calc_mutual_information(features, columns, summary=True)\n",
    "mi.plot.bar(figsize=(8, 5), grid=True, ylabel='MI')\n",
    "plt.show()"
   ]
  },
  {
   "cell_type": "code",
   "execution_count": null,
   "id": "0c40172c-12fe-48bf-841f-72db2acbefe1",
   "metadata": {},
   "outputs": [],
   "source": [
    "calc_mutual_information(features, columns, summary=False)"
   ]
  },
  {
   "cell_type": "markdown",
   "id": "74eaf1d4-d0a7-4e9c-b85e-d0c0a6435e18",
   "metadata": {},
   "source": [
    "#### MI in Frequency domain"
   ]
  },
  {
   "cell_type": "code",
   "execution_count": null,
   "id": "1fcc361a-8ada-42ac-a0e9-5c05a1e02cba",
   "metadata": {},
   "outputs": [],
   "source": [
    "# TODO: MI between pairs of variables (e.g. mean to std, ..)\n",
    "FFT_WINDOW = 1024\n",
    "features = pd.read_csv(FREQ_FEATURES_PATH)\n",
    "columns = [\n",
    "    'centroid', 'std', 'skew', 'kurt', 'roll-off', 'flux_mean', 'flux_std',\n",
    "    'hdev', 'noisiness', 'inharmonicity', 'energy', 'entropy',\n",
    "    'negentropy'\n",
    "]\n",
    "features['fault'] = features['fault'].astype('category')\n",
    "features['fft_window_length'] = features['fft_window_length'].astype('category')\n",
    "features = features[\n",
    "    (features['fft_window_length'] == FFT_WINDOW) &\n",
    "    (features['axis'].isin(['ax', 'ay', 'az']))\n",
    "].dropna()\n",
    "\n",
    "print(len(features))\n",
    "mi = calc_mutual_information(features, columns, summary=True)\n",
    "mi.plot.bar(figsize=(8, 5), grid=True, ylabel='MI')\n",
    "plt.show()"
   ]
  },
  {
   "cell_type": "code",
   "execution_count": null,
   "id": "e9be3cdd-e28e-4bfe-9596-5a78aa12f42f",
   "metadata": {},
   "outputs": [],
   "source": [
    "# Mutual information between feature in axis and various faults (predicted variable)\n",
    "features = pd.read_csv(FREQ_FEATURES_PATH)\n",
    "features['fault'] = features['fault'].astype('category')\n",
    "features['fft_window_length'] = features['fft_window_length'].astype('category')\n",
    "features = features[\n",
    "    (features['fft_window_length'] == FFT_WINDOW)\n",
    "].dropna()\n",
    "mi = calc_mutual_information(features, columns, summary=False)\n",
    "mi\n",
    "#sb.heatmap(mi, annot=True)\n",
    "#plt.show()"
   ]
  },
  {
   "cell_type": "markdown",
   "id": "e1d5b456-8192-4cda-babd-ff88f1329a85",
   "metadata": {},
   "source": [
    "#### MI in Wavelets"
   ]
  },
  {
   "cell_type": "code",
   "execution_count": null,
   "id": "647fcc33-f2ed-43b5-8866-fb6f70a84c55",
   "metadata": {},
   "outputs": [],
   "source": [
    "features = pd.read_csv(WPD_FEATURES_PATH)\n",
    "\n",
    "# More axis at once significantly reduces MI\n",
    "features = features[features['axis'] == 'ax']                 # One axis\n",
    "#features = features[features['axis'].isin(['ax', 'ay', 'az'])]  # One measuremnt position\n",
    "\n",
    "columns = [col for col in features.columns \n",
    "           if col not in ('fault', 'severity', 'seq', 'rpm', 'axis', 'feature')]\n",
    "features"
   ]
  },
  {
   "cell_type": "code",
   "execution_count": null,
   "id": "5f357e27-25ca-496f-9ff2-795370b8b944",
   "metadata": {},
   "outputs": [],
   "source": [
    "features_energy = features[features['feature'] == 'energy']\n",
    "print(len(features_energy))\n",
    "\n",
    "mi = calc_mutual_information(features_energy, columns, summary=True)\n",
    "mi.iloc[:30].plot.bar(figsize=(20, 4), grid=True, ylabel='MI', title='WPD Energy')\n",
    "plt.show()"
   ]
  },
  {
   "cell_type": "code",
   "execution_count": null,
   "id": "9c71e2b3-b959-46eb-a6fd-9feab6478298",
   "metadata": {},
   "outputs": [],
   "source": [
    "features_energy_ratio = features[features['feature'] == 'energy_ratio']\n",
    "print(len(features_energy_ratio))\n",
    "\n",
    "mi = calc_mutual_information(features_energy_ratio, columns, summary=True)\n",
    "mi.iloc[:30].plot.bar(figsize=(20, 4), grid=True, ylabel='MI', title='WPD Energy ratio')\n",
    "plt.show()"
   ]
  },
  {
   "cell_type": "code",
   "execution_count": null,
   "id": "7bc6bb87-68f1-49d6-9301-335ec276a6f7",
   "metadata": {},
   "outputs": [],
   "source": [
    "features_entropy = features[features['feature'] == 'negentropy']\n",
    "print(len(features_entropy))\n",
    "\n",
    "mi = calc_mutual_information(features_entropy, columns, summary=True)\n",
    "mi.iloc[:30].plot.bar(figsize=(20, 4), grid=True, ylabel='MI', title='WPD Negentropy')\n",
    "plt.show()"
   ]
  },
  {
   "cell_type": "code",
   "execution_count": null,
   "id": "dc13a43d-a13a-476a-9841-e63b7c66b65f",
   "metadata": {},
   "outputs": [],
   "source": [
    "features_kurtosis = features[features['feature'] == 'kurtosis']\n",
    "print(len(features_kurtosis))\n",
    "\n",
    "mi = calc_mutual_information(features_entropy, columns, summary=True)\n",
    "mi.iloc[:30].plot.bar(figsize=(20, 4), grid=True, ylabel='MI', title='WPD Kurtosis')\n",
    "plt.show()"
   ]
  },
  {
   "cell_type": "markdown",
   "id": "97d5d090-5f7c-4d98-91ab-8cd9976e9708",
   "metadata": {},
   "source": [
    "#### PCA on time domain features"
   ]
  },
  {
   "cell_type": "code",
   "execution_count": null,
   "id": "895acc8b-161d-4187-b7f8-cc6854de42e6",
   "metadata": {},
   "outputs": [],
   "source": [
    "features = pd.read_csv(TIME_FEATURES_PATH)\n",
    "columns = ['mean', 'std', 'skew', 'kurt', 'rms', 'pp', 'crest', 'margin', 'impulse', 'shape']\n",
    "matrix = features[columns].to_numpy()\n",
    "\n",
    "pca = PCA(n_components=2)\n",
    "result = pca.fit_transform(matrix)\n",
    "\n",
    "print(pca.explained_variance_ratio_)\n",
    "# print(pca.singular_values_)\n",
    "print(pca.components_)\n",
    "plt.scatter(result.T[0], result.T[1], s=1)\n",
    "plt.show()"
   ]
  },
  {
   "cell_type": "code",
   "execution_count": null,
   "id": "1bba2a11-25f2-47ed-850f-ceb421e6d6f5",
   "metadata": {},
   "outputs": [],
   "source": [
    "wp_features = pd.read_csv(WPD_FEATURES_PATH)\n",
    "columns = [\n",
    "    col for col in wp_features.columns \n",
    "    if col not in ('fault', 'severity', 'seq', 'rpm', 'axis', 'feature')\n",
    "]\n",
    "\n",
    "fig, ax = plt.subplots(figsize=(6, 6))\n",
    "\n",
    "for key, group in features.groupby('fault'):\n",
    "    group.plot(ax=ax, kind='scatter', x='kurt', y='margin', label=key, color=colors.get(key, 'tab:brown'))\n",
    "plt.show()"
   ]
  },
  {
   "cell_type": "code",
   "execution_count": null,
   "id": "a43e3abc-d433-4b93-87b1-61f227e00554",
   "metadata": {},
   "outputs": [],
   "source": [
    "# Work in progress - test wrong rpm\n",
    "import mafaulda as m\n",
    "from zipfile import ZipFile\n",
    "import feature_discovery\n",
    "import matplotlib.pyplot as plt\n",
    "\n",
    "MAFAULDA_PATH = '../../datasets/MAFAULDA.zip'\n",
    "path = 'underhang/ball_fault/20g/49.3568.csv'\n",
    "#path = 'horizontal-misalignment/0.5mm/12.288.csv'\n",
    "\n",
    "ts = m.csv_import(ZipFile(MAFAULDA_PATH), path)\n",
    "#ts['tachometer'].iloc[3000:10000].plot()\n",
    "\n",
    "from scipy.signal import find_peaks\n",
    "import numpy as np\n",
    "\n",
    "t = ts['tachometer'].index.to_numpy()\n",
    "y = ts['tachometer'].to_numpy()\n",
    "# t = t[1000:60000]\n",
    "# y = y[1000:60000]\n",
    "peaks, _ = find_peaks(y, prominence=3, width=50)\n",
    "plt.plot(t, y)\n",
    "plt.scatter(t[peaks], y[peaks], color=\"red\")\n",
    "print(60 / np.diff(t[peaks]).mean())"
   ]
  },
  {
   "cell_type": "code",
   "execution_count": null,
   "id": "08d6d3b9-78b6-402e-9000-1fb3aa3e018a",
   "metadata": {},
   "outputs": [],
   "source": []
  }
 ],
 "metadata": {
  "kernelspec": {
   "display_name": "Python 3 (ipykernel)",
   "language": "python",
   "name": "python3"
  },
  "language_info": {
   "codemirror_mode": {
    "name": "ipython",
    "version": 3
   },
   "file_extension": ".py",
   "mimetype": "text/x-python",
   "name": "python",
   "nbconvert_exporter": "python",
   "pygments_lexer": "ipython3",
   "version": "3.11.5"
  }
 },
 "nbformat": 4,
 "nbformat_minor": 5
}
