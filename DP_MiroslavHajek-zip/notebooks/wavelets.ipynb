{
 "cells": [
  {
   "cell_type": "markdown",
   "id": "05c0ffa0-d77c-4f55-8a93-6610d7e297ed",
   "metadata": {},
   "source": [
    "# Features extracted from Wavelet coefficients\n",
    "- Compare scores for wavelet coefficient features assigned by the feature selection method\n",
    "- Choose feature selection metric `METRIC` as one of three options\n",
    "- Recalculate wavelet features by enabling `GENERATE`"
   ]
  },
  {
   "cell_type": "code",
   "execution_count": null,
   "id": "58ca890c",
   "metadata": {},
   "outputs": [],
   "source": [
    "METRICS = ['C', 'F', 'MI']\n",
    "METRIC = METRICS[2]\n",
    "GENERATE = False"
   ]
  },
  {
   "cell_type": "code",
   "execution_count": null,
   "id": "b46f81b2",
   "metadata": {},
   "outputs": [],
   "source": [
    "from zipfile import ZipFile\n",
    "from typing import List, Tuple, Callable\n",
    "\n",
    "import numpy as np\n",
    "import pandas as pd\n",
    "import matplotlib.pylab as plt\n",
    "\n",
    "import pywt\n",
    "from scipy.stats import kurtosis, entropy\n",
    "from sklearn.feature_selection import mutual_info_classif, f_classif\n",
    "from sklearn.compose import ColumnTransformer\n",
    "from sklearn.pipeline import Pipeline\n",
    "from sklearn.preprocessing import StandardScaler, MinMaxScaler\n",
    "from tsfel import feature_extraction as ft\n",
    "\n",
    "import os\n",
    "import sys\n",
    "sys.path.append('../')\n",
    "from vibrodiagnostics import (\n",
    "    mafaulda,\n",
    "    extraction,\n",
    "    selection\n",
    ")\n",
    "\n",
    "WT_COLUMNS_EXCLUDE = {'fault', 'severity', 'seq', 'rpm', 'axis', 'feature'}"
   ]
  },
  {
   "cell_type": "code",
   "execution_count": null,
   "id": "8e800105",
   "metadata": {},
   "outputs": [],
   "source": [
    "PATH = '../datasets'\n",
    "FEATURES_PATH = os.path.join(PATH, 'features')\n",
    "DATASET_PATH = os.path.join(PATH, 'MAFAULDA.zip')\n",
    "FEATURES = {\n",
    "    'TD': os.path.join(FEATURES_PATH, 'MAFAULDA_TD.csv'),\n",
    "    'FD': os.path.join(FEATURES_PATH, 'MAFAULDA_FD.csv'),\n",
    "    'WT': os.path.join(FEATURES_PATH, 'MAFAULDA_WT.csv')\n",
    "}\n",
    "PARTS = 1"
   ]
  },
  {
   "cell_type": "code",
   "execution_count": null,
   "id": "29a146ef",
   "metadata": {},
   "outputs": [],
   "source": [
    "def calc_feature_selection_metric(\n",
    "        fmetric: Callable,\n",
    "        dataset: pd.DataFrame,\n",
    "        columns: List[str]) -> pd.DataFrame:\n",
    "\n",
    "    m = fmetric(dataset[columns], dataset['fault']) \n",
    "    if isinstance(m, tuple):\n",
    "        m = m[0]\n",
    "    return (pd.DataFrame(list(zip(columns, m)), columns=['feature', 'stat'])\n",
    "                .set_index('feature')\n",
    "                .sort_values(by='stat', ascending=False))\n",
    "    \n",
    "\n",
    "def calc_corr_stat(dataset, columns):\n",
    "    return calc_feature_selection_metric(selection.corr_classif, dataset, columns)\n",
    "\n",
    "\n",
    "def calc_f_stat(dataset, columns):\n",
    "    return calc_feature_selection_metric(f_classif, dataset, columns)\n",
    "\n",
    "\n",
    "def calc_mutual_information(dataset, columns):\n",
    "    return calc_feature_selection_metric(mutual_info_classif, dataset, columns)"
   ]
  },
  {
   "cell_type": "code",
   "execution_count": null,
   "id": "78da6320",
   "metadata": {},
   "outputs": [],
   "source": [
    "if METRIC == 'C':\n",
    "    calc_func = calc_corr_stat\n",
    "    title = 'Correlation'\n",
    "elif METRIC == 'F':\n",
    "    calc_func = calc_f_stat\n",
    "    title = 'F statistic'\n",
    "elif METRIC == 'MI':\n",
    "    calc_func = calc_mutual_information\n",
    "    title = 'Mutual information'"
   ]
  },
  {
   "cell_type": "code",
   "execution_count": null,
   "id": "858bf4a4",
   "metadata": {},
   "outputs": [],
   "source": [
    "def normalize_features(features, columns):\n",
    "    standard_transformer = Pipeline(steps=[('standard', StandardScaler())])\n",
    "    minmax_transformer = Pipeline(steps=[('minmax', MinMaxScaler())])\n",
    "    preprocessor = ColumnTransformer(\n",
    "        remainder='passthrough',\n",
    "        transformers=[\n",
    "            ('std', standard_transformer, columns)\n",
    "        ],\n",
    "        verbose_feature_names_out=False\n",
    "    )\n",
    "    features_normalized = preprocessor.fit_transform(features)\n",
    "    features_normalized = pd.DataFrame(\n",
    "        features_normalized,\n",
    "        columns=preprocessor.get_feature_names_out()\n",
    "    )\n",
    "    return features_normalized\n",
    "\n",
    "\n",
    "def calc_score_in_wpd_features(src, func):\n",
    "    c = pd.DataFrame()\n",
    "\n",
    "    for metric, group in src.groupby(by='feature', observed=True):\n",
    "        columns = list(set(group.columns) - WT_COLUMNS_EXCLUDE)\n",
    "        df = func(group, columns)\n",
    "        df['metric'] = metric\n",
    "        c = pd.concat([c, df])\n",
    "\n",
    "    c['metric'] = c['metric'].astype('category')\n",
    "    return c\n",
    "\n",
    "\n",
    "def plot_fscore_part(df: pd.DataFrame, part: str, title: str, n=None):\n",
    "    num_of_windows = len(df[part].cat.categories)\n",
    "    fig, ax = plt.subplots(1, num_of_windows, figsize=(20, 4))\n",
    "\n",
    "    for i, grouper in enumerate(df.groupby(by=part, observed=True)):\n",
    "        h, group = grouper\n",
    "        if n is not None:\n",
    "            group = group.iloc[:n]\n",
    "        group.plot.bar(grid=True, xlabel='Feature', ylabel=title, legend=False, title=h, ax=ax[i])\n",
    "\n",
    "    fig.tight_layout()\n",
    "    plt.show()\n",
    "\n",
    "\n",
    "def plot_wpd_energy_ratio_per_level(features: pd.DataFrame, wpd_axis: List[str]):\n",
    "    features = features[features['axis'].isin(wpd_axis)]  \n",
    "    features_energy_ratio = features[features['feature'] == 'energy_ratio']\n",
    "    \n",
    "    fig, ax = plt.subplots(6, 1, figsize=(15, 20))\n",
    "    \n",
    "    for level in range(1, 7):\n",
    "        cols = np.array(columns)\n",
    "        cols = cols[np.char.startswith(cols, f'L{level}')]\n",
    "        mi = calc_func(features_energy_ratio, cols)\n",
    "        \n",
    "        o = ax.flatten()[level-1]\n",
    "        o.bar(mi.index, mi.values.T[0])\n",
    "        o.grid(True)\n",
    "        o.set_xlabel('Feature')\n",
    "        o.set_ylabel('MI')\n",
    "\n",
    "        o.set_xticks(o.get_xticks())\n",
    "        o.set_xticklabels(o.get_xticklabels(), rotation=45, ha='right')\n",
    "\n",
    "    fig.suptitle(f'WPD energy ratio: Axis \"{wpd_axis}\"', fontsize=16, y=0.9)\n",
    "    plt.show()\n",
    "\n",
    "\n",
    "def level_to_frequency_bands(level, fs):\n",
    "    bin_count = 2 ** level\n",
    "    bin_width = (fs / 2) / bin_count\n",
    "    for bin in range(bin_count):\n",
    "        a = bin * bin_width\n",
    "        b = a + bin_width\n",
    "        print(f'L{level}_{bin} = [{a}; {b}] Hz')\n",
    "\n",
    "level_to_frequency_bands(level=4, fs=50000)"
   ]
  },
  {
   "cell_type": "markdown",
   "id": "be132c4c",
   "metadata": {},
   "source": [
    "Time domain"
   ]
  },
  {
   "cell_type": "markdown",
   "id": "f7a56453-3864-4f93-8e3f-e4f939d070cc",
   "metadata": {},
   "source": [
    "Unnormalized vs. Normalized features\n",
    "- Result found: F score is independent of scaling"
   ]
  },
  {
   "cell_type": "code",
   "execution_count": null,
   "id": "174375e6-32bf-4ad5-a7a4-3d8333700ea0",
   "metadata": {},
   "outputs": [],
   "source": [
    "features = extraction.load_features(FEATURES['TD'], ['az'], mafaulda.LABEL_COLUMNS)\n",
    "features = mafaulda.assign_labels(features, 'A')\n",
    "features['fault'] = features['label']\n",
    "columns = [c for c in features.columns if c not in ('label', 'fault')]\n",
    "\n",
    "fscore = calc_func(features, columns)\n",
    "features_normalized = normalize_features(features, columns)\n",
    "fscore_norm = calc_func(features_normalized, columns)\n",
    "\n",
    "fig, ax = plt.subplots(1, 2, figsize=(20, 5))\n",
    "fscore.plot.bar(figsize=(10, 4), grid=True, xlabel='Feature', ylabel=title, legend=False, title='Unnormalized', ax=ax[0])\n",
    "fscore_norm.plot.bar(figsize=(10, 4), grid=True, xlabel='Feature', ylabel=title, legend=False, title='Normalized', ax=ax[1])\n",
    "plt.show()"
   ]
  },
  {
   "cell_type": "markdown",
   "id": "f1b0f835-d3d0-4e5d-8452-d9e5c953ade1",
   "metadata": {},
   "source": [
    "Wavelet packet transform"
   ]
  },
  {
   "cell_type": "code",
   "execution_count": null,
   "id": "c002ddbd-e756-422e-91c6-551a43715c30",
   "metadata": {},
   "outputs": [],
   "source": [
    "def features_wavelet_domain(dataset: ZipFile, filename: str, parts: int = PARTS) -> pd.DataFrame:\n",
    "    return mafaulda.features_by_domain(extraction.wavelet_features_calc, dataset, filename, parts=parts, multirow=True)"
   ]
  },
  {
   "cell_type": "code",
   "execution_count": null,
   "id": "0d7511a8",
   "metadata": {},
   "outputs": [],
   "source": [
    "if GENERATE is True:\n",
    "    features = extraction.load_files_split(ZipFile(DATASET_PATH), features_wavelet_domain)\n",
    "    features.to_csv(FEATURES['WT'])\n",
    "else:\n",
    "    features = pd.read_csv(FEATURES['WT'], low_memory=False, index_col=0)\n",
    "\n",
    "features = features[features['axis'].isin(('ax', 'ay', 'az'))]\n",
    "features"
   ]
  },
  {
   "cell_type": "code",
   "execution_count": null,
   "id": "9e5161a0",
   "metadata": {},
   "outputs": [],
   "source": [
    "df = calc_score_in_wpd_features(features, calc_func)\n",
    "plot_fscore_part(df, 'metric', title, n=20)"
   ]
  },
  {
   "cell_type": "markdown",
   "id": "47c1f708-33f8-4650-8ee8-4756c53a19fc",
   "metadata": {},
   "source": [
    "WPD features in one layer"
   ]
  },
  {
   "cell_type": "code",
   "execution_count": null,
   "id": "d99d1e6b-9f93-4c96-81b3-faf6586f0493",
   "metadata": {},
   "outputs": [],
   "source": [
    "level = 3\n",
    "df = calc_score_in_wpd_features(features, calc_func)\n",
    "layer = df[df.index.str.startswith(f'L{level}')]\n",
    "plot_fscore_part(layer, 'metric', title)"
   ]
  },
  {
   "cell_type": "code",
   "execution_count": null,
   "id": "23cf1ecb-2f7d-4273-ae19-953b0e528eb1",
   "metadata": {},
   "outputs": [],
   "source": [
    "level = 4\n",
    "df = calc_score_in_wpd_features(features, calc_func)\n",
    "layer = df[df.index.str.startswith(f'L{level}')]\n",
    "plot_fscore_part(layer, 'metric', title)"
   ]
  },
  {
   "cell_type": "code",
   "execution_count": null,
   "id": "4d757ace",
   "metadata": {},
   "outputs": [],
   "source": [
    "features_energy = features[features['feature'] == 'energy']\n",
    "columns = list(set(features_energy.columns) - WT_COLUMNS_EXCLUDE)\n",
    "\n",
    "print(len(features_energy))\n",
    "mi = calc_func(features_energy, columns)\n",
    "mi.iloc[:30].plot.bar(figsize=(20, 4), grid=True, ylabel=title, title='WPD Energy')\n",
    "plt.show()"
   ]
  },
  {
   "cell_type": "code",
   "execution_count": null,
   "id": "b6699e79",
   "metadata": {},
   "outputs": [],
   "source": [
    "plot_wpd_energy_ratio_per_level(features, ['ax', 'ay', 'az'])"
   ]
  },
  {
   "cell_type": "code",
   "execution_count": null,
   "id": "01560c99",
   "metadata": {},
   "outputs": [],
   "source": [
    "features_entropy = features[features['feature'] == 'negentropy']\n",
    "columns = list(set(features_entropy.columns) - WT_COLUMNS_EXCLUDE)\n",
    "print(len(features_entropy))\n",
    "\n",
    "\n",
    "mi = calc_func(features_entropy, columns)\n",
    "mi.iloc[:30].plot.bar(figsize=(20, 4), grid=True, ylabel=title, title='WPD Negentropy')\n",
    "plt.show()"
   ]
  },
  {
   "cell_type": "code",
   "execution_count": null,
   "id": "97d8e543",
   "metadata": {},
   "outputs": [],
   "source": [
    "features_kurtosis = features[features['feature'] == 'kurtosis']\n",
    "columns = list(set(features_energy.columns) - WT_COLUMNS_EXCLUDE)\n",
    "print(len(features_kurtosis))\n",
    "\n",
    "mi = calc_func(features_entropy, columns)\n",
    "mi.iloc[:30].plot.bar(figsize=(20, 4), grid=True, ylabel=title, title='WPD Kurtosis')\n",
    "plt.show()"
   ]
  }
 ],
 "metadata": {
  "kernelspec": {
   "display_name": "Python 3 (ipykernel)",
   "language": "python",
   "name": "python3"
  },
  "language_info": {
   "codemirror_mode": {
    "name": "ipython",
    "version": 3
   },
   "file_extension": ".py",
   "mimetype": "text/x-python",
   "name": "python",
   "nbconvert_exporter": "python",
   "pygments_lexer": "ipython3",
   "version": "3.11.8"
  }
 },
 "nbformat": 4,
 "nbformat_minor": 5
}
