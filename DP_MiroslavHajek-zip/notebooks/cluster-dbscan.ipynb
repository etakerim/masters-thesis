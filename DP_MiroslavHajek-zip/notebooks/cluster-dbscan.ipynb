{
 "cells": [
  {
   "cell_type": "markdown",
   "metadata": {},
   "source": [
    "# DBSCAN clustering of MaFaulDa dataset\n",
    "\n",
    "Explore the separation of groups within the dataset and methods for setting DBSCAN clustering hyperparameters."
   ]
  },
  {
   "cell_type": "code",
   "execution_count": null,
   "metadata": {},
   "outputs": [],
   "source": [
    "import numpy as np\n",
    "import pandas as pd\n",
    "import matplotlib.pyplot as plt\n",
    "import seaborn as sb\n",
    "from tqdm.notebook import tqdm\n",
    "from kneed import KneeLocator\n",
    "from typing import List, Dict\n",
    "\n",
    "from scipy import stats\n",
    "from sklearn.cluster import DBSCAN\n",
    "from sklearn.neighbors import NearestNeighbors\n",
    "from sklearn.model_selection import StratifiedKFold\n",
    "from sklearn.metrics.cluster import contingency_matrix\n",
    "from sklearn.metrics import silhouette_score, davies_bouldin_score\n",
    "\n",
    "import sys\n",
    "sys.path.append('../')\n",
    "from vibrodiagnostics import mafaulda, visualize"
   ]
  },
  {
   "cell_type": "markdown",
   "metadata": {},
   "source": [
    "The recommended choice of optimal DBSCAN eps parameter is the distance at the knee of distances among points.\n",
    "- Source: https://stats.stackexchange.com/questions/88872/a-routine-to-choose-eps-and-minpts-for-dbscan"
   ]
  },
  {
   "cell_type": "code",
   "execution_count": null,
   "metadata": {},
   "outputs": [],
   "source": [
    "def plot_distances_among_points(df: pd.DataFrame, n_neighbors: int) -> List[float]: \n",
    "    neighbors = NearestNeighbors(n_neighbors=n_neighbors)\n",
    "    neighbors.fit(df)\n",
    "    distances, indices = neighbors.kneighbors(df)\n",
    "    distances = sorted(distances[:, 1], reverse=True)\n",
    "\n",
    "    fig, ax = plt.subplots(figsize=(6, 4))\n",
    "    ax.plot(list(range(1, len(distances) + 1)), distances)\n",
    "    ax.set_xlabel('Number of points')\n",
    "    ax.set_ylabel('Distance')\n",
    "    ax.grid(True)\n",
    "    plt.show()\n",
    "\n",
    "    return distances"
   ]
  },
  {
   "cell_type": "markdown",
   "metadata": {},
   "source": [
    "Distances among points in the time domain and knee finder for the resulting curve."
   ]
  },
  {
   "cell_type": "code",
   "execution_count": null,
   "metadata": {},
   "outputs": [],
   "source": [
    "CONFIG = {'placement': 'A', 'online': False}\n",
    "K_NEIGHBORS = 6\n",
    "X_train, X_test, y_train, y_test = mafaulda.load_source('TD', CONFIG)\n",
    "distances = plot_distances_among_points(X_train, K_NEIGHBORS)\n",
    "kneedle = KneeLocator(\n",
    "    range(1, len(distances) + 1),\n",
    "    distances,\n",
    "    S=1.0,\n",
    "    curve='convex',\n",
    "    direction='decreasing'\n",
    ")"
   ]
  },
  {
   "cell_type": "code",
   "execution_count": null,
   "metadata": {},
   "outputs": [],
   "source": [
    "kneedle.plot_knee_normalized()\n",
    "print('Knee at:')\n",
    "print('Number of points:', kneedle.elbow)\n",
    "print('Distance:', kneedle.knee_y)"
   ]
  },
  {
   "cell_type": "markdown",
   "metadata": {},
   "source": [
    "### Features in time domain\n",
    "Scatter plots of three arbitrarily chosen features in the time domain"
   ]
  },
  {
   "cell_type": "code",
   "execution_count": null,
   "metadata": {},
   "outputs": [],
   "source": [
    "features = ['shape', 'rms', 'clearance']\n",
    "X_train = X_train[features]\n",
    "visualize.cross_cuts_3d_cluster(X_train, y_train, 'Ground truth')"
   ]
  },
  {
   "cell_type": "markdown",
   "metadata": {},
   "source": [
    "The result of clustering for features in time domain. The Eps parameter is set optimally. The vast majority of observations ended up in the same cluster."
   ]
  },
  {
   "cell_type": "code",
   "execution_count": null,
   "metadata": {},
   "outputs": [],
   "source": [
    "clustering = DBSCAN(eps=kneedle.knee_y, min_samples=5, metric='l2')\n",
    "clustering.fit(X_train)\n",
    "y_train_labels = clustering.labels_\n",
    "y_predict = clustering.fit_predict(X_test)\n",
    "\n",
    "\n",
    "visualize.cross_cuts_3d_cluster(X_train, y_train_labels, 'Clusters')\n",
    "print(X_train.shape)\n",
    "plt.show()"
   ]
  },
  {
   "cell_type": "markdown",
   "metadata": {},
   "source": [
    "Measure quality of clustering by **Silhouette score** and **Davies-Bouldin index**.  \n",
    "\n",
    "**Silhouette Coefficient** is calculated using the mean intra-cluster distance (a) and the mean nearest-cluster distance (b) for each sample. The best value is 1 and the worst value is -1. Values near 0 indicate overlapping clusters.\n",
    "\n",
    "**Davies–Bouldin index**: The minimum score is zero, with lower values indicating better clustering."
   ]
  },
  {
   "cell_type": "code",
   "execution_count": null,
   "metadata": {},
   "outputs": [],
   "source": [
    "def evaluate_clustering(\n",
    "        X_train: pd.DataFrame,\n",
    "        y_train: pd.DataFrame,\n",
    "        y_train_labels: pd.DataFrame,\n",
    "        X_test: pd.DataFrame,\n",
    "        y_predict: pd.DataFrame):\n",
    "\n",
    "    print('Silhouette score:')\n",
    "    print('Train:', silhouette_score(X_train, y_train_labels, metric='euclidean'))\n",
    "    print('Test:', silhouette_score(X_test, y_predict, metric='euclidean'))\n",
    "\n",
    "    print('Davies-Bouldin index')\n",
    "    print('Train:', davies_bouldin_score(X_train, y_train_labels))\n",
    "    print('Test:', davies_bouldin_score(X_test, y_predict))\n",
    "\n",
    "    print(np.unique(y_train),\n",
    "        np.unique(y_train_labels))\n",
    "\n",
    "    occurences = pd.DataFrame(\n",
    "        data=contingency_matrix(y_train, y_train_labels),\n",
    "        index=np.unique(y_train),\n",
    "        columns=np.unique(y_train_labels)\n",
    "    )\n",
    "    ax = sb.heatmap(occurences, cbar=True, cmap='BuGn', annot=True, fmt='d')\n",
    "\n",
    "evaluate_clustering(X_train, y_train, y_train_labels, X_test, y_predict)"
   ]
  },
  {
   "cell_type": "markdown",
   "metadata": {},
   "source": [
    "### Features in frequency domain\n",
    "Scatter plots of three arbitrarily chosen features in the frequency domain"
   ]
  },
  {
   "cell_type": "markdown",
   "metadata": {},
   "source": [
    "Frequency domain features"
   ]
  },
  {
   "cell_type": "code",
   "execution_count": null,
   "metadata": {},
   "outputs": [],
   "source": [
    "CONFIG = {'placement': 'A', 'online': False}\n",
    "K_NEIGHBORS = 6\n",
    "X_train, X_test, y_train, y_test = mafaulda.load_source('FD', CONFIG)\n",
    "distances = plot_distances_among_points(X_train, K_NEIGHBORS)\n",
    "kneedle = KneeLocator(\n",
    "    range(1, len(distances) + 1),\n",
    "    distances,\n",
    "    S=1.0,\n",
    "    curve='convex',\n",
    "    direction='decreasing'\n",
    ")"
   ]
  },
  {
   "cell_type": "code",
   "execution_count": null,
   "metadata": {},
   "outputs": [],
   "source": [
    "kneedle.plot_knee_normalized()\n",
    "print('Knee at:')\n",
    "print('Number of points:', kneedle.elbow)\n",
    "print('Distance:', kneedle.knee_y)"
   ]
  },
  {
   "cell_type": "code",
   "execution_count": null,
   "metadata": {},
   "outputs": [],
   "source": [
    "clustering = DBSCAN(eps=kneedle.knee_y, min_samples=10, metric='l2')\n",
    "clustering.fit(X_train)\n",
    "y_train_labels = clustering.labels_\n",
    "y_predict = clustering.fit_predict(X_test)\n",
    "\n",
    "visualize.cross_cuts_3d_cluster(X_train, y_train_labels, 'Groud truth')\n",
    "plt.show()"
   ]
  },
  {
   "cell_type": "code",
   "execution_count": null,
   "metadata": {},
   "outputs": [],
   "source": [
    "evaluate_clustering(X_train, y_train, y_train_labels, X_test, y_predict)"
   ]
  },
  {
   "cell_type": "markdown",
   "metadata": {},
   "source": [
    "Find the best parameters for DBSCAN in supervised learning."
   ]
  },
  {
   "cell_type": "code",
   "execution_count": null,
   "metadata": {},
   "outputs": [],
   "source": [
    "def cross_validate_clustering_score(\n",
    "        X: pd.DataFrame,\n",
    "        Y: pd.DataFrame,\n",
    "        num_of_features: int,\n",
    "        eps: float,\n",
    "        min_samples: int) -> Dict[str, float]:\n",
    "    train_scores = []\n",
    "    test_scores = []\n",
    "    crossvalid = StratifiedKFold(n_splits=5)\n",
    "    clusters = []\n",
    "\n",
    "    for train_index, test_index in crossvalid.split(X, Y):\n",
    "        X_train, y_train = X.iloc[train_index], Y.iloc[train_index]\n",
    "        X_test, y_test = X.iloc[test_index], Y.iloc[test_index]\n",
    "\n",
    "        clustering = DBSCAN(eps=eps, min_samples=int(min_samples), metric='l2')\n",
    "        clustering.fit(X_train)\n",
    "        y_train_labels = clustering.labels_\n",
    "        y_predict = clustering.fit_predict(X_test)\n",
    "\n",
    "        num_of_clusters_train = len(np.unique(y_train_labels))\n",
    "        num_of_clusters_test = len(np.unique(y_predict))\n",
    "        clusters.append(num_of_clusters_train)\n",
    "    \n",
    "        if num_of_clusters_train > 1 and num_of_clusters_test > 1:\n",
    "            train_scores.append(silhouette_score(X_train, y_train_labels, metric='euclidean'))\n",
    "            test_scores.append(silhouette_score(X_test, y_predict, metric='euclidean'))\n",
    "\n",
    "    train_scores = np.array(train_scores)\n",
    "    test_scores = np.array(test_scores)\n",
    "    clusters = stats.mode(clusters).mode\n",
    "\n",
    "    result = {\n",
    "        'clusters': np.mean(clusters) if clusters else 0,\n",
    "        'train_score_mean': np.mean(train_scores) if len(train_scores) > 0 else 0,\n",
    "        'train_score_std': np.std(train_scores) if len(train_scores) > 0 else 0,\n",
    "        'test_score_mean': np.mean(test_scores) if len(test_scores) > 0 else 0,\n",
    "        'test_score_std': np.std(test_scores) if len(test_scores) >  0 else 0\n",
    "    }\n",
    "    return result"
   ]
  },
  {
   "cell_type": "markdown",
   "metadata": {},
   "source": [
    "Grid search the features with the best clustering scores."
   ]
  },
  {
   "cell_type": "code",
   "execution_count": null,
   "metadata": {},
   "outputs": [],
   "source": [
    "CONFIG = {'placement': 'A', 'online': False}\n",
    "X, _, y, _  = mafaulda.load_source('TD', CONFIG)\n",
    "\n",
    "num_of_features = np.arange(1, len(X.columns) + 1)\n",
    "eps = np.linspace(0.05, 0.8, 8)\n",
    "min_samples = np.linspace(3, 8, 2)\n",
    "grid = np.array(np.meshgrid(num_of_features, eps, min_samples)).T.reshape(-1, 3)\n",
    "\n",
    "rows = []\n",
    "for f, e, s in tqdm(grid):\n",
    "    row = {\n",
    "        'features': f,\n",
    "        'eps': e,\n",
    "        'min_samples': s\n",
    "    }\n",
    "    row.update(cross_validate_clustering_score(X, y, f, e, s))\n",
    "    rows.append(row)\n",
    "\n",
    "\n",
    "results = pd.DataFrame.from_records(rows)\n",
    "results"
   ]
  },
  {
   "cell_type": "markdown",
   "metadata": {},
   "source": [
    "Top 10 best-scored parameters by Silhouette score"
   ]
  },
  {
   "cell_type": "code",
   "execution_count": null,
   "metadata": {},
   "outputs": [],
   "source": [
    "results[results['clusters'] > 1].sort_values(by='train_score_mean', ascending=False).head(10)"
   ]
  }
 ],
 "metadata": {
  "kernelspec": {
   "display_name": "Python 3 (ipykernel)",
   "language": "python",
   "name": "python3"
  },
  "language_info": {
   "codemirror_mode": {
    "name": "ipython",
    "version": 3
   },
   "file_extension": ".py",
   "mimetype": "text/x-python",
   "name": "python",
   "nbconvert_exporter": "python",
   "pygments_lexer": "ipython3",
   "version": "3.11.8"
  }
 },
 "nbformat": 4,
 "nbformat_minor": 4
}
