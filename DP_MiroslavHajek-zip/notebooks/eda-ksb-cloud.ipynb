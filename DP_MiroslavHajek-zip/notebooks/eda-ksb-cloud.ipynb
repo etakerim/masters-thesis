{
 "cells": [
  {
   "cell_type": "markdown",
   "metadata": {},
   "source": [
    "# KSB Guard Monitoring for BVS pumps"
   ]
  },
  {
   "cell_type": "code",
   "execution_count": null,
   "metadata": {},
   "outputs": [],
   "source": [
    "import os\n",
    "import numpy as np\n",
    "import pandas as pd\n",
    "import matplotlib.pyplot as plt\n",
    "import matplotlib.dates as mdates\n",
    "import seaborn as sb\n",
    "\n",
    "plt.rcParams.update({'font.size': 15})\n",
    "PATH = '../datasets/ksb-cloud/'\n",
    "fa_path = os.path.join(PATH, 'fft-pumps')"
   ]
  },
  {
   "cell_type": "markdown",
   "metadata": {},
   "source": [
    "RMS velocity in mm/s over peroid of one year for two pumps: ksb#1 and ksb#7"
   ]
  },
  {
   "cell_type": "code",
   "execution_count": null,
   "metadata": {},
   "outputs": [],
   "source": [
    "def input_dataset(filename: str) -> pd.DataFrame:\n",
    "    path = os.path.join(PATH, 'rms-vibrations')\n",
    "    table = pd.read_csv(\n",
    "        os.path.join(path, filename), \n",
    "        parse_dates=['Dátum'], dayfirst=True, \n",
    "        delimiter=';', decimal=','\n",
    "    )\n",
    "    table.rename(columns={\n",
    "        'Dátum': 'timestamp', \n",
    "        'RMS X [mm/s]': 'x',\n",
    "        'RMS Y [mm/s]': 'y',\n",
    "        'RMS Z [mm/s]': 'z'\n",
    "        }, inplace=True)\n",
    "    table.set_index('timestamp', inplace=True)\n",
    "    return table\n",
    "\n",
    "pumps = [input_dataset(name) for name in ('ksb1.csv', 'ksb7.csv')]\n",
    "pumps"
   ]
  },
  {
   "cell_type": "markdown",
   "metadata": {},
   "source": [
    "Levels of vibrations are for class III machines (large rigid foundation) with velocities in mm/s"
   ]
  },
  {
   "cell_type": "code",
   "execution_count": null,
   "metadata": {},
   "outputs": [],
   "source": [
    "levels = [\n",
    "    {\n",
    "        'name': 'good (A)',\n",
    "        'velocity': 0,\n",
    "        'color': 'green'\n",
    "    },\n",
    "    {\n",
    "        'name': 'satisfactory (B)',\n",
    "        'velocity': 1.8,\n",
    "        'color': 'yellow'\n",
    "    },\n",
    "    {\n",
    "        'name': 'unsatisfactory (C)',\n",
    "        'velocity': 4.5,\n",
    "        'color': 'orange'\n",
    "    },\n",
    "    {\n",
    "        'name': 'unacceptable (D)',\n",
    "        'velocity': 11.2,\n",
    "        'color': 'red'\n",
    "    }\n",
    "]\n",
    "\n",
    "ax = pumps[0].plot(figsize=(12, 6), grid=True, xlabel='Date', ylabel='RMS velocity [mm/s]', lw=1)\n",
    "ax.set_ylim(0, 5)\n",
    "ax.get_legend().remove()\n",
    "for i in range(0, len(levels) - 1):\n",
    "    y0 = levels[i]['velocity']\n",
    "    y1 = levels[i+1]['velocity']\n",
    "    ax.axhspan(y0, y1, color=levels[i]['color'], label=levels[i]['name'], alpha=0.2)\n",
    "plt.show()"
   ]
  },
  {
   "cell_type": "code",
   "execution_count": null,
   "metadata": {},
   "outputs": [],
   "source": [
    "ax = pumps[1].plot(figsize=(12, 6), grid=True, xlabel='Date', ylabel='RMS velocity [mm/s]', lw=1)\n",
    "ax.set_ylim(0, 5)\n",
    "ax.get_legend().remove()\n",
    "for i in range(0, len(levels) - 1):\n",
    "    y0 = levels[i]['velocity']\n",
    "    y1 = levels[i+1]['velocity']\n",
    "    ax.axhspan(y0, y1, color=levels[i]['color'], label=levels[i]['name'], alpha=0.2)\n",
    "ax.legend()"
   ]
  },
  {
   "cell_type": "markdown",
   "metadata": {},
   "source": [
    "Merge and graph on-off states for pumps throughout the year. Pump is ON if y velocity is greater than mean in mm/s"
   ]
  },
  {
   "cell_type": "code",
   "execution_count": null,
   "metadata": {},
   "outputs": [],
   "source": [
    "station = pumps[0].join(pumps[1], how='outer', lsuffix='-p1', rsuffix='-p7')\n",
    "station = station.bfill().dropna()\n",
    "\n",
    "operations = pd.DataFrame(index=station.index)\n",
    "for col in ('p1', 'p7'):\n",
    "    station[col] = (station[f'y-{col}'] > station[f'y-{col}'].mean()).astype(int)\n",
    "station[['p1', 'p7']]"
   ]
  },
  {
   "cell_type": "code",
   "execution_count": null,
   "metadata": {},
   "outputs": [],
   "source": [
    "station"
   ]
  },
  {
   "cell_type": "code",
   "execution_count": null,
   "metadata": {},
   "outputs": [],
   "source": [
    "station.describe()"
   ]
  },
  {
   "cell_type": "code",
   "execution_count": null,
   "metadata": {},
   "outputs": [],
   "source": [
    "ax = station[['p1', 'p7']].plot.area(\n",
    "    figsize=(20, 5),\n",
    "    xlabel='Date',\n",
    "    ylabel='On',\n",
    "    color=['#FFD23F', '#EE4266'],\n",
    "    ylim=(0, 1)\n",
    ")\n",
    "ax.xaxis.set_major_locator(mdates.MonthLocator(bymonth=range(1, 13)))\n",
    "ax.xaxis.set_major_formatter(mdates.DateFormatter('%Y-%b'))"
   ]
  },
  {
   "cell_type": "code",
   "execution_count": null,
   "metadata": {},
   "outputs": [],
   "source": [
    "intervals = {}\n",
    "operations = station[['p1', 'p7']]\n",
    "for col in operations.columns:\n",
    "    section = pd.DataFrame()\n",
    "    section['status'] = operations[col] \n",
    "    section['switch'] = (operations[col].diff().abs() >= 1).astype(int).cumsum()\n",
    "    intervals[col] = pd.Series([\n",
    "        group.index.max() - group.index.min()\n",
    "        for pos, group in section[section['status'] == 1].groupby(by='switch')\n",
    "    ])\n",
    "intervals"
   ]
  },
  {
   "cell_type": "markdown",
   "metadata": {},
   "source": [
    "Statistics of individual pumps\n",
    "- how many  consecutive hours (avg, min, max) is in service\n",
    "- total hours in service and proportion in % of total days"
   ]
  },
  {
   "cell_type": "code",
   "execution_count": null,
   "metadata": {},
   "outputs": [],
   "source": [
    "stats = []\n",
    "for pump, period in intervals.items():\n",
    "    stats.append({\n",
    "        'pump': pump,\n",
    "        'min': period.min(),\n",
    "        'max': period.max(),\n",
    "        'avg': period.mean(),\n",
    "        'sum': period.sum(),\n",
    "        'ratio_on_state': period.sum() / (operations.index.max() - operations.index.min()),\n",
    "    })\n",
    "\n",
    "stats = pd.DataFrame.from_records(stats).set_index('pump')\n",
    "stats"
   ]
  },
  {
   "cell_type": "markdown",
   "metadata": {},
   "source": [
    "Average RMS velocity in ON state (last year)"
   ]
  },
  {
   "cell_type": "code",
   "execution_count": null,
   "metadata": {},
   "outputs": [],
   "source": [
    "average_velocity = []\n",
    "std_velocity = []\n",
    "for name in ('p1', 'p7'):\n",
    "    v = station.loc[station[name] == True, [f'x-{name}', f'y-{name}', f'z-{name}']]\n",
    "    average_velocity.append(v.mean())\n",
    "    std_velocity.append(v.std())\n",
    "\n",
    "average_velocity = pd.concat(average_velocity).to_frame()\n",
    "std_velocity = pd.concat(std_velocity).to_frame()\n",
    "\n",
    "ax = average_velocity.plot.bar(\n",
    "    legend=False,\n",
    "    ylabel='Velocity [mm/s]',\n",
    "    xlabel='Axis and Pump',\n",
    "    title='Average vibration RMS velocity in ON state',\n",
    "    grid=True,\n",
    "    yerr=std_velocity\n",
    ")\n",
    "plt.show()"
   ]
  },
  {
   "cell_type": "markdown",
   "metadata": {},
   "source": [
    "Average velocity per ON state (time section)"
   ]
  },
  {
   "cell_type": "code",
   "execution_count": null,
   "metadata": {},
   "outputs": [],
   "source": [
    "def sliding_velocity_mean(station: pd.DataFrame, column: str) -> pd.DataFrame:\n",
    "    rows = []\n",
    "    for name, group in station.loc[\n",
    "            station[column] == 1,\n",
    "            [f'x-{column}', f'y-{column}', f'z-{column}', f'switch-{column}']\n",
    "        ].groupby(by=f'switch-{column}'):\n",
    "        point = {\n",
    "            'timestamp': group.index.min(),\n",
    "            'x': group[f'x-{column}'].mean(), \n",
    "            'y': group[f'y-{column}'].mean(),\n",
    "            'z': group[f'z-{column}'].mean()\n",
    "        }\n",
    "        rows.append(point.copy())\n",
    "        point['timestamp'] = group.index.max()\n",
    "        rows.append(point)\n",
    "\n",
    "    return pd.DataFrame.from_records(rows).set_index('timestamp')\n",
    "\n",
    "operations = station[['p1', 'p7']]\n",
    "for col in operations.columns:\n",
    "    station[f'switch-{col}'] = (operations[col].diff().abs() >= 1).astype(int).cumsum()\n",
    "\n",
    "sliding_velocity_mean(station, 'p1').join(\n",
    "    sliding_velocity_mean(station, 'p7'),\n",
    "    how='outer',\n",
    "    lsuffix='-p1',\n",
    "    rsuffix='-p7'\n",
    ").bfill().plot(\n",
    "    figsize=(20, 5),\n",
    "    grid=True,\n",
    "    marker='s'\n",
    ")\n",
    "plt.show()"
   ]
  },
  {
   "cell_type": "markdown",
   "metadata": {},
   "source": [
    "Import monthly frequency spectra"
   ]
  },
  {
   "cell_type": "code",
   "execution_count": null,
   "metadata": {},
   "outputs": [],
   "source": [
    "samples = {}\n",
    "for filename in os.listdir(fa_path):\n",
    "    freqs = pd.read_csv(\n",
    "        os.path.join(fa_path, filename),\n",
    "        delimiter=';', decimal=','\n",
    "    )\n",
    "    freqs.rename(columns={\n",
    "        'Frequency [Hertz]': 'frequency', \n",
    "        'AmplitudeX [mm/s]': 'x',\n",
    "        'AmplitudeY [mm/s]': 'y',\n",
    "        'AmplitudeZ [mm/s]': 'z'\n",
    "    }, inplace=True)\n",
    "    freqs = freqs.set_index('frequency')\n",
    "    month = int(filename.split('-')[1])\n",
    "    samples[month] = freqs\n",
    "\n",
    "observations = pd.concat(samples).sort_index()\n",
    "observations"
   ]
  },
  {
   "cell_type": "code",
   "execution_count": null,
   "metadata": {},
   "outputs": [],
   "source": [
    "observations['x'].unstack()"
   ]
  },
  {
   "cell_type": "markdown",
   "metadata": {},
   "source": [
    "Graph of spectra for all months"
   ]
  },
  {
   "cell_type": "code",
   "execution_count": null,
   "metadata": {},
   "outputs": [],
   "source": [
    "for axis in ('x', 'y', 'z'):\n",
    "    observations[axis].unstack().T.plot(\n",
    "        figsize=(20, 4),\n",
    "        grid=True,\n",
    "        xlabel='Frequency [Hz]',\n",
    "        ylabel=f'Amplitude {axis.upper()} [mm/s]'\n",
    "    )\n",
    "    plt.show()"
   ]
  },
  {
   "cell_type": "markdown",
   "metadata": {},
   "source": [
    "Correlation among spectra in different dates and same axis"
   ]
  },
  {
   "cell_type": "code",
   "execution_count": null,
   "metadata": {},
   "outputs": [],
   "source": [
    "fig, ax = plt.subplots(1, 3, figsize=(20, 5))\n",
    "for i, x in enumerate(('x', 'y', 'z')):\n",
    "    sb.heatmap(observations[x].unstack().T.corr(), annot=True, ax=ax[i])\n",
    "\n",
    "fig.tight_layout()\n",
    "plt.show()"
   ]
  },
  {
   "cell_type": "markdown",
   "metadata": {},
   "source": [
    "Plot spectra for one month"
   ]
  },
  {
   "cell_type": "code",
   "execution_count": null,
   "metadata": {},
   "outputs": [],
   "source": [
    "month = 1\n",
    "fig, ax = plt.subplots(3, 1, figsize=(20, 10))\n",
    "for i, axis in enumerate(('x', 'y', 'z')):\n",
    "    pxx = observations[axis].unstack().T[month]\n",
    "\n",
    "    print(f'{axis.upper()}:')\n",
    "    print(f'\\tMax.frequency {pxx.idxmax()} Hz (RPM: {pxx.idxmax() * 60})')\n",
    "    deltaF = pxx.index.diff().dropna().to_numpy().mean()\n",
    "    fs = 2 * pxx.index.max()\n",
    "    print(f'\\tResolution: {deltaF} Hz (RPM: {deltaF * 60})')\n",
    "    print(f'\\tWindow length: {int(fs / deltaF)}')\n",
    "\n",
    "    pxx.plot(\n",
    "        grid=True,\n",
    "        xlabel='Frequency [Hz]',\n",
    "        ylabel=f'Amplitude {axis.upper()} [mm/s]',\n",
    "        ax=ax[i],\n",
    "        color='darkblue'\n",
    "    )\n",
    "plt.tight_layout()\n",
    "plt.show()"
   ]
  },
  {
   "cell_type": "markdown",
   "metadata": {},
   "source": [
    "Trial to get time domain signal by inverse fourier transform\n",
    "- If max f = 1 kHz, sampling frequency could have been 2 kHz"
   ]
  },
  {
   "cell_type": "code",
   "execution_count": null,
   "metadata": {},
   "outputs": [],
   "source": [
    "months = {}\n",
    "for month, group in observations.groupby(level=0):\n",
    "    pxx = group.droplevel(0)\n",
    "    signal = np.fft.irfft(pxx, axis=0)\n",
    "    fs = pxx.index.max() * 2\n",
    "\n",
    "    ts = pd.DataFrame(signal, columns=['x', 'y', 'z'])\n",
    "    ts.index = ts.index * (1 / fs)\n",
    "    months[month] = ts\n",
    "\n",
    "waveforms = pd.concat(months)\n",
    "waveforms"
   ]
  },
  {
   "cell_type": "code",
   "execution_count": null,
   "metadata": {},
   "outputs": [],
   "source": [
    "waveforms.T[1].T.plot(\n",
    "    grid=True,\n",
    "    xlabel='Time [s]',\n",
    "    ylabel='Amplitude',\n",
    "    ylim=(-0.03, 0.03),\n",
    "    subplots=True,\n",
    "    figsize=(10, 7)\n",
    ")\n",
    "plt.show()"
   ]
  },
  {
   "cell_type": "markdown",
   "metadata": {},
   "source": [
    "Frequency spectra subplots"
   ]
  },
  {
   "cell_type": "code",
   "execution_count": null,
   "metadata": {},
   "outputs": [],
   "source": [
    "samples = {}\n",
    "\n",
    "for filename in os.listdir(fa_path):\n",
    "    freqs = pd.read_csv(\n",
    "        os.path.join(fa_path, filename),\n",
    "        delimiter=';', decimal=','\n",
    "    )\n",
    "    freqs.rename(columns={\n",
    "        'Frequency [Hertz]': 'frequency', \n",
    "        'AmplitudeX [mm/s]': 'x',\n",
    "        'AmplitudeY [mm/s]': 'y',\n",
    "        'AmplitudeZ [mm/s]': 'z'\n",
    "    }, inplace=True)\n",
    "    freqs = freqs.set_index('frequency')\n",
    "    samples[filename] = freqs\n",
    "\n",
    "observations = pd.concat(samples)\n",
    "observations"
   ]
  },
  {
   "cell_type": "markdown",
   "metadata": {},
   "source": [
    "Plot spectra for all months"
   ]
  },
  {
   "cell_type": "code",
   "execution_count": null,
   "metadata": {},
   "outputs": [],
   "source": [
    "for axis in ('x', 'y', 'z'):\n",
    "    observations[axis].unstack().T.plot(\n",
    "        figsize=(20, 4),\n",
    "        grid=True,\n",
    "        xlabel='Frequency [Hz]',\n",
    "        ylabel=f'Amplitude {axis.upper()} [mm/s]'\n",
    "    )\n",
    "    plt.show()"
   ]
  }
 ],
 "metadata": {
  "kernelspec": {
   "display_name": "Python 3 (ipykernel)",
   "language": "python",
   "name": "python3"
  },
  "language_info": {
   "codemirror_mode": {
    "name": "ipython",
    "version": 3
   },
   "file_extension": ".py",
   "mimetype": "text/x-python",
   "name": "python",
   "nbconvert_exporter": "python",
   "pygments_lexer": "ipython3",
   "version": "3.11.8"
  }
 },
 "nbformat": 4,
 "nbformat_minor": 4
}
