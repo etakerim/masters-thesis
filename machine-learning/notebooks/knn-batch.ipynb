{
 "cells": [
  {
   "cell_type": "code",
   "execution_count": null,
   "id": "12dca216-9915-401d-aa2a-0eb1869877e3",
   "metadata": {},
   "outputs": [],
   "source": [
    "import re\n",
    "import itertools\n",
    "import os\n",
    "\n",
    "import numpy as np\n",
    "import pandas as pd\n",
    "from zipfile import ZipFile\n",
    "from typing import List, Dict\n",
    "\n",
    "from sklearn.model_selection import KFold\n",
    "from sklearn.neighbors import KNeighborsClassifier\n",
    "from sklearn.decomposition import PCA\n",
    "from sklearn import metrics\n",
    "\n",
    "import matplotlib.pyplot as plt\n",
    "import seaborn as sb\n",
    "from tabulate import tabulate\n",
    "from tqdm.notebook import tqdm\n",
    "\n",
    "import sys\n",
    "sys.path.append('../')\n",
    "from vibrodiagnostics import (\n",
    "    mafaulda, \n",
    "    extraction\n",
    ")"
   ]
  },
  {
   "cell_type": "code",
   "execution_count": null,
   "id": "5146b66e",
   "metadata": {},
   "outputs": [],
   "source": [
    "N_NEIGHBORS = 5"
   ]
  },
  {
   "cell_type": "markdown",
   "id": "33e4fb79-b0dd-48ae-bf5d-b2b4da8cebbb",
   "metadata": {},
   "source": [
    "Parameters:\n",
    "- Distance metric\n",
    "- k neighbours (odd numbers because of majority voting) - elbow curve"
   ]
  },
  {
   "cell_type": "code",
   "execution_count": null,
   "id": "9f574140",
   "metadata": {},
   "outputs": [],
   "source": [
    "def knn_one_case_eval(\n",
    "        k: int,\n",
    "        features: List[str],\n",
    "        x_train: pd.DataFrame,\n",
    "        y_train: pd.DataFrame,\n",
    "        x_test: pd.DataFrame,\n",
    "        y_test: pd.DataFrame) -> Dict[str, float]:\n",
    "\n",
    "    x_train_selected = x_train[features]\n",
    "    x_test_selected = x_test[features]\n",
    "\n",
    "    knn = KNeighborsClassifier(n_neighbors=k, metric='euclidean', algorithm='kd_tree')\n",
    "    knn.fit(x_train_selected, y_train)\n",
    "    y_predict_train = knn.predict(x_train_selected)\n",
    "    y_predict_test = knn.predict(x_test_selected)\n",
    "\n",
    "    y_proba_train = knn.predict_proba(x_train_selected)\n",
    "    y_proba_test = knn.predict_proba(x_test_selected)\n",
    "\n",
    "    return {\n",
    "        'features': features,\n",
    "        'train_accuracy': metrics.accuracy_score(y_train, y_predict_train),\n",
    "        'train_precision': metrics.precision_score(y_train, y_predict_train, average='micro'),\n",
    "        'train_recall': metrics.recall_score(y_train, y_predict_train, average='micro'),\n",
    "        'train_error_rate': np.mean(y_train != y_predict_train),\n",
    "        'test_accuracy': metrics.accuracy_score(y_test, y_predict_test),\n",
    "        'test_precision': metrics.precision_score(y_test, y_predict_test, average='micro'),\n",
    "        'test_recall': metrics.recall_score(y_test, y_predict_test, average='micro'),\n",
    "        'test_error_rate': np.mean(y_test != y_predict_test)\n",
    "    }\n",
    "\n",
    "\n",
    "def knn_feature_combinations(k, all_features, combinations, x_train, y_train, x_test, y_test):\n",
    "    evaluation = []\n",
    "\n",
    "    for features in tqdm(itertools.combinations(all_features, r=combinations)):\n",
    "        result = knn_one_case_eval(k, list(features), x_train, y_train, x_test, y_test)\n",
    "        evaluation.append(result)\n",
    "\n",
    "    evaluation = pd.DataFrame.from_records(evaluation)\n",
    "    return evaluation.sort_values(by='train_accuracy', ascending=False).reset_index(drop=True)\n",
    "\n",
    "\n",
    "def find_knn_best(conditions) -> pd.DataFrame:\n",
    "    best = []\n",
    "    train_range = []\n",
    "    test_range = []\n",
    "    all_results = pd.DataFrame()\n",
    "    domains = ('TD', 'FD')\n",
    "\n",
    "    for row in tqdm(conditions):\n",
    "        for domain_label in domains:\n",
    "            x_train, x_test, y_train, y_test = mafaulda.load_source(domain_label, row)\n",
    "            result = knn_feature_combinations(N_NEIGHBORS, list(x_train.columns), 3, x_train, y_train, x_test, y_test)\n",
    "\n",
    "            top_result = result.head(1).to_dict(orient='index')[0]\n",
    "            train_accuracies = result.describe()['train_accuracy'].to_dict()\n",
    "            test_accuracies = result.describe()['test_accuracy'].to_dict()\n",
    "\n",
    "            for k, v in row.items():\n",
    "                result[k] = v\n",
    "            result['domain'] = domain_label\n",
    "            all_results = pd.concat([all_results, result])\n",
    "\n",
    "            best.append({**row, 'domain': domain_label, **top_result})\n",
    "            train_range.append({**row, 'domain': domain_label, **train_accuracies})\n",
    "            test_range.append({**row, 'domain': domain_label, **test_accuracies})\n",
    "\n",
    "    return (\n",
    "        all_results,\n",
    "        pd.DataFrame.from_records(best),\n",
    "        pd.DataFrame.from_records(train_range),\n",
    "        pd.DataFrame.from_records(test_range)\n",
    "    )"
   ]
  },
  {
   "cell_type": "code",
   "execution_count": null,
   "id": "a6badca4",
   "metadata": {},
   "outputs": [],
   "source": [
    "def knn_fsel_evaluation(domain, neighbours=N_NEIGHBORS, filename='best_set/rank_product.csv'):\n",
    "    best_set_membership = pd.read_csv(filename)\n",
    "    columns = [col for col in best_set_membership if col.startswith(domain)]\n",
    "\n",
    "    situation = (\n",
    "        best_set_membership[columns][best_set_membership == True]\n",
    "        .count(axis=0)\n",
    "        .sort_values(ascending=False)\n",
    "        .head(3)\n",
    "    )\n",
    "    columns = [c.lstrip(domain + '_') for c in situation.index]\n",
    "    x_train, x_test, y_train, y_test = mafaulda.load_source(domain, {'placement': 'A', 'online': False})\n",
    "    score = knn_one_case_eval(neighbours, columns, x_train, y_train, x_test, y_test)\n",
    "    score['features'] = columns\n",
    "    score['domain'] = domain\n",
    "    score['placement'] = 'A'\n",
    "    model = [score]\n",
    "\n",
    "    return pd.DataFrame.from_records(model)\n",
    "\n",
    "def knn_neighbours_eval(domain):\n",
    "    train_rates = pd.DataFrame()\n",
    "    test_rates = pd.DataFrame()\n",
    "    for n in range(3, 21, 2):\n",
    "        scores = (\n",
    "            knn_fsel_evaluation(domain, neighbours=n)\n",
    "            .drop(columns=['features'])\n",
    "            .set_index(['placement'])\n",
    "        )\n",
    "        train_rates[n] = scores['train_error_rate']\n",
    "        test_rates[n] = scores['test_error_rate']\n",
    "    return train_rates, test_rates\n",
    "\n",
    "\n",
    "def knn_evaluation(x_train, y_train, x_test, y_test, n=5):\n",
    "    knn = KNeighborsClassifier(n_neighbors=n, metric='euclidean', algorithm='kd_tree')\n",
    "    knn.fit(x_train, y_train)\n",
    "    y_predict_train = knn.predict(x_train)\n",
    "    y_predict_test = knn.predict(x_test)\n",
    "\n",
    "    print(f'Train accuracy: {metrics.accuracy_score(y_train, y_predict_train) * 100:.2f} %')\n",
    "    print(f'Test accuracy: {metrics.accuracy_score(y_test, y_predict_test) * 100:.2f} %')\n",
    "    print(metrics.classification_report(y_test, y_predict_test))\n",
    "\n",
    "    labels = np.unique(y_test)\n",
    "    cm = metrics.confusion_matrix(y_test, y_predict_test)\n",
    "    cm = pd.DataFrame(cm, index=labels, columns=labels)\n",
    "\n",
    "    ax = sb.heatmap(cm, cbar=True, cmap='BuGn', annot=True, fmt='d')\n",
    "    ax.set_xlabel('Predicted label')    # size=15)\n",
    "    ax.set_ylabel('True label')         # size=15)\n",
    "    plt.show()"
   ]
  },
  {
   "cell_type": "markdown",
   "id": "9bf2a32d-8a8b-44c9-990b-2f400fdbf3f8",
   "metadata": {},
   "source": [
    "#### Classification with kNN (all features)"
   ]
  },
  {
   "cell_type": "code",
   "execution_count": null,
   "id": "6b5a69d3-46ee-44aa-9863-a217a7c45bed",
   "metadata": {},
   "outputs": [],
   "source": [
    "# Time domain to fault\n",
    "x_train, x_test, y_train, y_test = mafaulda.load_source('TD', {'placement': 'A', 'online': False})\n",
    "knn_evaluation(x_train, y_train, x_test, y_test)"
   ]
  },
  {
   "cell_type": "code",
   "execution_count": null,
   "id": "5e5fc43f",
   "metadata": {},
   "outputs": [],
   "source": [
    "x_train, x_test, y_train, y_test = mafaulda.load_source('FD', {'placement': 'A', 'online': False})\n",
    "knn_evaluation(x_train, y_train, x_test, y_test)"
   ]
  },
  {
   "cell_type": "markdown",
   "id": "4aa42e15",
   "metadata": {},
   "source": [
    "B"
   ]
  },
  {
   "cell_type": "code",
   "execution_count": null,
   "id": "e119e9bf",
   "metadata": {},
   "outputs": [],
   "source": [
    "x_train, x_test, y_train, y_test = mafaulda.load_source('TD', {'placement': 'B', 'online': False})\n",
    "knn_evaluation(x_train, y_train, x_test, y_test)"
   ]
  },
  {
   "cell_type": "code",
   "execution_count": null,
   "id": "c0596b6c",
   "metadata": {},
   "outputs": [],
   "source": [
    "x_train, x_test, y_train, y_test = mafaulda.load_source('FD', {'placement': 'B', 'online': False})\n",
    "knn_evaluation(x_train, y_train, x_test, y_test)"
   ]
  },
  {
   "cell_type": "markdown",
   "id": "23b1992a",
   "metadata": {},
   "source": [
    "Performance - Global best and PCA"
   ]
  },
  {
   "cell_type": "code",
   "execution_count": null,
   "id": "beb063e5",
   "metadata": {},
   "outputs": [],
   "source": [
    "def knn_all_features_accuracy(conditions, pca=None) -> pd.DataFrame:\n",
    "    cases = []\n",
    "    domains = ('TD', 'FD')\n",
    "    for row in tqdm(conditions):\n",
    "        for domain_label in domains:\n",
    "            x_train, x_test, y_train, y_test = mafaulda.load_source(domain_label, row)\n",
    "            if pca is not None:\n",
    "                model = PCA(n_components=pca).fit(x_train)\n",
    "                x_train = pd.DataFrame(model.transform(x_train))\n",
    "                x_test = pd.DataFrame(model.transform(x_test))\n",
    "\n",
    "            knn = KNeighborsClassifier(n_neighbors=N_NEIGHBORS, metric='euclidean', algorithm='kd_tree')\n",
    "            knn.fit(x_train, y_train)\n",
    "            y_predict_train = knn.predict(x_train)\n",
    "            y_predict_test = knn.predict(x_test)\n",
    "\n",
    "            case = {\n",
    "                'train_accuracy': metrics.accuracy_score(y_train, y_predict_train),\n",
    "                'train_precision': metrics.precision_score(y_train, y_predict_train, average='micro'),\n",
    "                'train_recall': metrics.recall_score(y_train, y_predict_train, average='micro'),\n",
    "                'train_error_rate': np.mean(y_train != y_predict_train),\n",
    "                'test_accuracy': metrics.accuracy_score(y_test, y_predict_test),\n",
    "                'test_precision': metrics.precision_score(y_test, y_predict_test, average='micro'),\n",
    "                'test_recall': metrics.recall_score(y_test, y_predict_test, average='micro'),\n",
    "                'test_error_rate': np.mean(y_test != y_predict_test)\n",
    "            }\n",
    "            cases.append({**row, 'domain': domain_label, **case})\n",
    "\n",
    "    return pd.DataFrame.from_records(cases)\n",
    "\n",
    "\n",
    "column_names = ['placement', 'online']\n",
    "initial_conditions = [\n",
    "    dict(zip(column_names, row)) \n",
    "    for row in itertools.product(['A', 'B'], [False, True])\n",
    "]\n",
    "all_features_accuracies = knn_all_features_accuracy(initial_conditions, pca=None)\n",
    "all_features_accuracies"
   ]
  },
  {
   "cell_type": "code",
   "execution_count": null,
   "id": "ec4fcd17",
   "metadata": {},
   "outputs": [],
   "source": [
    "column_names = ['placement', 'online']\n",
    "initial_conditions = [\n",
    "    dict(zip(column_names, row)) \n",
    "    for row in itertools.product(['A', 'B'], [False, True])\n",
    "]\n",
    "pca_all_features_accuracies = knn_all_features_accuracy(initial_conditions, pca=3)\n",
    "pca_all_features_accuracies"
   ]
  },
  {
   "cell_type": "markdown",
   "id": "6c1a7bb7",
   "metadata": {},
   "source": [
    "\n",
    "Experiments and best performing feature combinations\n",
    "- combinations of all 3 members subsets of features (get best performace train accuracy)"
   ]
  },
  {
   "cell_type": "code",
   "execution_count": null,
   "id": "91294440",
   "metadata": {},
   "outputs": [],
   "source": [
    "column_names = ['placement', 'online']\n",
    "initial_conditions = [\n",
    "    dict(zip(column_names, row)) \n",
    "    for row in itertools.product(['A', 'B'], [False, True])\n",
    "]\n",
    "\n",
    "all_permut_results, best, train_range, test_range = find_knn_best(initial_conditions)"
   ]
  },
  {
   "cell_type": "code",
   "execution_count": null,
   "id": "3319da0b",
   "metadata": {},
   "outputs": [],
   "source": [
    "best.to_csv('best_set/best_knn.csv', index=False)\n",
    "train_range.to_csv('best_set/knn_train_accuracy_range.csv', index=False)\n",
    "test_range.to_csv('best_set/knn_test_accuracy_range.csv', index=False)"
   ]
  },
  {
   "cell_type": "code",
   "execution_count": null,
   "id": "d5d7b759",
   "metadata": {},
   "outputs": [],
   "source": [
    "all_permut_results"
   ]
  },
  {
   "cell_type": "code",
   "execution_count": null,
   "id": "0333272d",
   "metadata": {},
   "outputs": [],
   "source": [
    "# Plain model range\n",
    "def plot_all_models_performance_permut(experiments, metric):\n",
    "    fig, ax = plt.subplots(1, 1, figsize=(10, 5), sharey=True)\n",
    "    ax.grid()\n",
    "    \n",
    "    boxplot_data = []\n",
    "    for attr, group in experiments.groupby(by=['placement', 'domain']): \n",
    "        place, domain = attr\n",
    "        boxplot_data.append((place, domain, group[metric].to_list()))\n",
    "\n",
    "    s = sorted(sorted(boxplot_data, key=lambda x: x[1], reverse=True), key=lambda x: x[0])\n",
    "    boxplot_data = {f'{x[0]}, {x[1]}': x[2] for x in s}\n",
    "\n",
    "    ax.boxplot(\n",
    "        boxplot_data.values(),\n",
    "        labels=boxplot_data.keys(),\n",
    "        medianprops = {'linewidth': 2, 'color': 'black'})\n",
    "    ax.set_ylabel('Accuracy')\n",
    "    ax.set_xlabel('Placement and domain')\n",
    "\n",
    "\n",
    "plot_all_models_performance_permut(all_permut_results, 'train_accuracy')\n",
    "plt.show()\n",
    "plot_all_models_performance_permut(all_permut_results, 'test_accuracy')\n",
    "plt.show()"
   ]
  },
  {
   "cell_type": "markdown",
   "id": "a27d8b87",
   "metadata": {},
   "source": [
    "Best combination of features"
   ]
  },
  {
   "cell_type": "code",
   "execution_count": null,
   "id": "71fd6cd0",
   "metadata": {},
   "outputs": [],
   "source": [
    "best = pd.read_csv('best_set/best_knn.csv')\n",
    "best[['placement', 'domain', 'features', 'train_accuracy', 'test_accuracy']].sort_values(by=['placement'])"
   ]
  },
  {
   "cell_type": "markdown",
   "id": "88089af9",
   "metadata": {},
   "source": [
    "### Rank product chosen features"
   ]
  },
  {
   "cell_type": "code",
   "execution_count": null,
   "id": "8c13c4b6",
   "metadata": {},
   "outputs": [],
   "source": [
    "filename = 'best_set/rank_product.csv'\n",
    "frames = []\n",
    "for domain in ('TD', 'FD'):\n",
    "    frames.append(knn_fsel_evaluation(domain, filename=filename))\n",
    "\n",
    "chosen_rankproduct = pd.concat(frames).sort_values(by=['placement'])\n",
    "chosen_rankproduct"
   ]
  },
  {
   "cell_type": "markdown",
   "id": "8d706af7",
   "metadata": {},
   "source": [
    "#### Correlation chosen features"
   ]
  },
  {
   "cell_type": "code",
   "execution_count": null,
   "id": "8906cfb8",
   "metadata": {},
   "outputs": [],
   "source": [
    "filename = 'best_set/corr.csv'\n",
    "frames = []\n",
    "for domain in ('TD', 'FD'):\n",
    "    frames.append(knn_fsel_evaluation(domain, filename=filename))\n",
    "\n",
    "chosen_corr = pd.concat(frames).sort_values(by=['placement'])\n",
    "chosen_corr"
   ]
  },
  {
   "cell_type": "markdown",
   "id": "f724e058",
   "metadata": {},
   "source": [
    "#### F statistic chosen features"
   ]
  },
  {
   "cell_type": "code",
   "execution_count": null,
   "id": "133e6f31",
   "metadata": {},
   "outputs": [],
   "source": [
    "filename = 'best_set/fstat.csv'\n",
    "frames = []\n",
    "for domain in ('TD', 'FD'):\n",
    "    frames.append(knn_fsel_evaluation(domain, filename=filename))\n",
    "\n",
    "chosen_fstat = pd.concat(frames).sort_values(by=['placement'])\n",
    "chosen_fstat"
   ]
  },
  {
   "cell_type": "markdown",
   "id": "7565ec92",
   "metadata": {},
   "source": [
    "#### Mutual information chosen features"
   ]
  },
  {
   "cell_type": "code",
   "execution_count": null,
   "id": "534b4641",
   "metadata": {},
   "outputs": [],
   "source": [
    "filename = 'best_set/mi.csv'\n",
    "frames = []\n",
    "for domain in ('TD', 'FD'):\n",
    "    frames.append(knn_fsel_evaluation(domain, filename=filename))\n",
    "\n",
    "chosen_mi = pd.concat(frames).sort_values(by=['placement'])\n",
    "chosen_mi"
   ]
  },
  {
   "cell_type": "markdown",
   "id": "b56aa45b",
   "metadata": {},
   "source": [
    "### Number of neighbors"
   ]
  },
  {
   "cell_type": "code",
   "execution_count": null,
   "metadata": {},
   "outputs": [],
   "source": [
    "train, test = knn_neighbours_eval('TD')"
   ]
  },
  {
   "cell_type": "code",
   "execution_count": null,
   "metadata": {},
   "outputs": [],
   "source": [
    "train"
   ]
  },
  {
   "cell_type": "code",
   "execution_count": null,
   "metadata": {},
   "outputs": [],
   "source": [
    "test"
   ]
  },
  {
   "cell_type": "code",
   "execution_count": null,
   "metadata": {},
   "outputs": [],
   "source": [
    "train.T.plot(marker='.', grid=True, figsize=(10, 5), xlabel='Neighbours', ylabel='Error rate')\n",
    "plt.show()\n",
    "test.T.plot(marker='.', grid=True, figsize=(10, 5), xlabel='Neighbours', ylabel='Error rate')\n",
    "plt.show()"
   ]
  },
  {
   "cell_type": "code",
   "execution_count": null,
   "metadata": {},
   "outputs": [],
   "source": [
    "train, test = knn_neighbours_eval('FD')"
   ]
  },
  {
   "cell_type": "code",
   "execution_count": null,
   "metadata": {},
   "outputs": [],
   "source": [
    "train"
   ]
  },
  {
   "cell_type": "code",
   "execution_count": null,
   "metadata": {},
   "outputs": [],
   "source": [
    "test"
   ]
  },
  {
   "cell_type": "code",
   "execution_count": null,
   "metadata": {},
   "outputs": [],
   "source": [
    "train.T.plot(marker='.', grid=True, figsize=(10, 5), xlabel='Neighbours', ylabel='Error rate')\n",
    "plt.show()\n",
    "test.T.plot(marker='.', grid=True, figsize=(10, 5), xlabel='Neighbours', ylabel='Error rate')\n",
    "plt.show()"
   ]
  }
 ],
 "metadata": {
  "kernelspec": {
   "display_name": "Python 3 (ipykernel)",
   "language": "python",
   "name": "python3"
  },
  "language_info": {
   "codemirror_mode": {
    "name": "ipython",
    "version": 3
   },
   "file_extension": ".py",
   "mimetype": "text/x-python",
   "name": "python",
   "nbconvert_exporter": "python",
   "pygments_lexer": "ipython3",
   "version": "3.11.8"
  }
 },
 "nbformat": 4,
 "nbformat_minor": 5
}
