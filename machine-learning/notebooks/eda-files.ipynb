{
 "cells": [
  {
   "cell_type": "markdown",
   "id": "4978fc5b-badb-4420-8d53-3e0f0bac800e",
   "metadata": {},
   "source": [
    "### Measurement exploratory data analysis"
   ]
  },
  {
   "cell_type": "code",
   "execution_count": null,
   "id": "113935ce",
   "metadata": {},
   "outputs": [],
   "source": [
    "DEVICES = [\n",
    "    'mafaulda-a',\n",
    "    'mafaulda-b',\n",
    "    'fluid-pump'\n",
    "]\n",
    "\n",
    "DEVICE = DEVICES[0]\n",
    "T_WAVEFORM = 1\n",
    "T_SEC = T_WAVEFORM\n",
    "NFFT = 2**15\n",
    "F_LIMIT = 3000"
   ]
  },
  {
   "cell_type": "code",
   "execution_count": null,
   "id": "d392b3a9",
   "metadata": {},
   "outputs": [],
   "source": [
    "import os\n",
    "from typing import List, Tuple\n",
    "from zipfile import ZipFile\n",
    "\n",
    "import pandas as pd\n",
    "import numpy as np\n",
    "import matplotlib.pylab as plt\n",
    "from tabulate import tabulate\n",
    "from IPython.display import Markdown, HTML\n",
    "from tqdm.notebook import tqdm\n",
    "\n",
    "import scipy\n",
    "from scipy.signal import find_peaks, butter, sosfilt, lfilter, windows\n",
    "from tsfel.feature_extraction.features import fundamental_frequency\n",
    "from tsfel import feature_extraction as ft\n",
    "\n",
    "import sys\n",
    "sys.path.append('../')\n",
    "from vibrodiagnostics import mafaulda, extraction, pumps\n",
    "\n",
    "plt.rcParams.update({'font.size': 14})"
   ]
  },
  {
   "cell_type": "code",
   "execution_count": null,
   "id": "d99d17c0",
   "metadata": {},
   "outputs": [],
   "source": [
    "def mafaulda_dataset(place, path='../datasets/MAFAULDA.zip'):\n",
    "    filenames = {\n",
    "        'normal/43.6224.csv': 'normal',\n",
    "        'horizontal-misalignment/2.0mm/42.5984.csv': 'misalignment',\n",
    "        'imbalance/35g/43.6224.csv': 'imbalance',\n",
    "        'underhang/cage_fault/35g/43.4176.csv': 'cage fault',\n",
    "        'underhang/ball_fault/35g/41.1648.csv': 'ball fault',\n",
    "        'underhang/outer_race/35g/43.4176.csv': 'outer race fault'\n",
    "    }\n",
    "\n",
    "    source = ZipFile(path)\n",
    "    dataset = []\n",
    "    for file, fault in filenames.items():\n",
    "        ts = mafaulda.csv_import(source, file)\n",
    "        ts = ts[place]\n",
    "        dataset.append((f'{fault} ({file})', ts))\n",
    "\n",
    "    return dataset\n",
    "\n",
    "\n",
    "def pump_dataset(place, path='../datasets/FluidPump.zip'):\n",
    "    filenames = {\n",
    "        '2024-03-19/K3/001/1.tsv': 'K3',\n",
    "        '2024-03-19/K5/001/1.tsv': 'K5',\n",
    "        '2024-03-26/KSB1/PMP003/1.tsv': 'P1-3',\n",
    "        '2024-03-26/KSB1/PMP004/1.tsv': 'P1-4',\n",
    "        '2024-03-26/KSB7/PMP003/1.tsv': 'P2-3',\n",
    "        '2024-03-26/KSB7/PMP004/1.tsv': 'P2-4',\n",
    "        '2024-03-26/Sigma/PMP003/1.tsv': 'P3-3',\n",
    "        '2024-03-26/Sigma/PMP004/1.tsv': 'P3-4',\n",
    "        '2024-03-26/KSB1/MTR001/1.tsv': 'M1-1',\n",
    "        '2024-03-26/KSB1/MTR002/1.tsv': 'M1-2',\n",
    "        '2024-03-26/KSB7/MTR001/1.tsv': 'M2-1',\n",
    "        '2024-03-26/KSB7/MTR002/1.tsv': 'M2-1',\n",
    "        '2024-03-26/Sigma/MTR001/1.tsv': 'M3-1',\n",
    "        '2024-03-26/Sigma/MTR002/1.tsv': 'M3-2'\n",
    "    }\n",
    "\n",
    "    source = ZipFile(path)\n",
    "    dataset = []\n",
    "    for file, fault in filenames.items():\n",
    "        ts = pumps.csv_import(source, file)\n",
    "        ts = ts.set_index('t')\n",
    "        ts = ts[place]\n",
    "        dataset.append((f'{fault} ({file})', ts))\n",
    "\n",
    "    return dataset"
   ]
  },
  {
   "cell_type": "markdown",
   "id": "1e41a68f",
   "metadata": {},
   "source": [
    "Load dataset"
   ]
  },
  {
   "cell_type": "code",
   "execution_count": null,
   "id": "1cd721f6-508c-40e2-a64a-d5a85043779f",
   "metadata": {},
   "outputs": [],
   "source": [
    "if DEVICE == 'mafaulda-a':\n",
    "    Fs = mafaulda.SAMPLING_RATE\n",
    "    COLUMNS = ['ax', 'ay', 'az']\n",
    "    DATASET = mafaulda_dataset(COLUMNS)\n",
    "\n",
    "elif DEVICE == 'mafaulda-b':\n",
    "    Fs = mafaulda.SAMPLING_RATE\n",
    "    COLUMNS = ['bx', 'by', 'bz']\n",
    "    DATASET = mafaulda_dataset(COLUMNS)\n",
    "\n",
    "elif DEVICE == 'fluid-pump':\n",
    "    Fs = pumps.SAMPLING_RATE\n",
    "    COLUMNS = ['x', 'y', 'z']\n",
    "    DATASET = pump_dataset(COLUMNS)\n",
    "\n",
    "DATASET"
   ]
  },
  {
   "cell_type": "code",
   "execution_count": null,
   "id": "594ae818-83bd-452e-9e2e-d5da2f1e6f8c",
   "metadata": {},
   "outputs": [],
   "source": [
    "for name, ts in DATASET:\n",
    "    display(Markdown(f'**{name}**'))\n",
    "    print(ts.describe())\n",
    "    print()"
   ]
  },
  {
   "cell_type": "code",
   "execution_count": null,
   "id": "c7893ecc-f701-486c-96c2-bfc6efc19020",
   "metadata": {},
   "outputs": [],
   "source": [
    "for name, ts in DATASET:\n",
    "    display(Markdown(f'**{name}**'))\n",
    "    display(tabulate(ts.describe(), headers='keys', tablefmt='html'))\n",
    "    ts.boxplot(grid=True, xlabel='Axis', ylabel='Amplitude [m/s\\u00B2]')\n",
    "    plt.show()"
   ]
  },
  {
   "cell_type": "markdown",
   "id": "b842f749",
   "metadata": {},
   "source": [
    "Statistical tests\n",
    "- Normality test: Kolmogorov–Smirnov test\n",
    "- Normality visual test: Quantile-quantile plot on chosen recording\n",
    "- Stationarity test: Augmented Dickey–Fuller test\n",
    "- Stationarity visual test: Autocorrelation plot"
   ]
  },
  {
   "cell_type": "code",
   "execution_count": null,
   "id": "a8c626c8",
   "metadata": {},
   "outputs": [],
   "source": [
    "from statsmodels.tsa.stattools import adfuller\n",
    "from statsmodels.api import qqplot\n",
    "from scipy.stats import kstest, shapiro\n",
    "\n",
    "normality_tests = []\n",
    "for name, ts in DATASET:\n",
    "    for x in ts.columns:\n",
    "        observations = ts[x].loc[T_WAVEFORM:T_WAVEFORM+0.5].to_numpy()[::10]\n",
    "        #plt.plot(np.arange(0, len(observations)), observations)\n",
    "        stat, p_value = shapiro(observations)\n",
    "        print(name, p_value)\n",
    "        test = {'name': name, 'axis': x, 'p-value': p_value, 'not-normal': p_value < 0.05}\n",
    "        normality_tests.append(test)\n",
    "\n",
    "normality_tests = pd.DataFrame.from_records(normality_tests)\n",
    "print(normality_tests.value_counts('not-normal'))\n",
    "normality_tests.describe()"
   ]
  },
  {
   "cell_type": "code",
   "execution_count": null,
   "id": "72966c96",
   "metadata": {},
   "outputs": [],
   "source": [
    "name, ts = DATASET[0]\n",
    "fig, ax = plt.subplots(1, len(ts.columns), figsize=(10, 4))\n",
    "for i, x in enumerate(ts.columns):\n",
    "    qqplot(ts[x], line='45', ax=ax[i], marker='.', alpha=0.5)\n",
    "    ax[i].set_title(f'Axis: {x}')\n",
    "\n",
    "plt.tight_layout()\n",
    "print(name)\n",
    "plt.show()"
   ]
  },
  {
   "cell_type": "code",
   "execution_count": null,
   "id": "8a07f4b1",
   "metadata": {},
   "outputs": [],
   "source": [
    "stationarity_tests = []\n",
    "for name, ts in tqdm(DATASET):\n",
    "    for x in ts.columns:\n",
    "        observations = ts[x].loc[T_WAVEFORM:T_WAVEFORM+0.5].to_numpy()[::10]\n",
    "        result = adfuller(observations)\n",
    "        p_value = result[1]\n",
    "        test = {\n",
    "            'name': name,\n",
    "            'axis': x,\n",
    "            'statistic': result[0],\n",
    "            'p-value': p_value,\n",
    "            'stationary': p_value < 0.001\n",
    "        }\n",
    "        stationarity_tests.append(test)\n",
    "\n",
    "stationarity_tests = pd.DataFrame.from_records(stationarity_tests)\n",
    "print(stationarity_tests.value_counts('stationary'))\n",
    "stationarity_tests['p-value'].describe()"
   ]
  },
  {
   "cell_type": "code",
   "execution_count": null,
   "id": "5aa00834",
   "metadata": {},
   "outputs": [],
   "source": [
    "name, ts = DATASET[0]\n",
    "fig, ax = plt.subplots(1, len(ts.columns), figsize=(10, 4))\n",
    "for i, x in enumerate(ts.columns):\n",
    "    ax[i].acorr(ts[x].iloc[0:1000], maxlags=100)\n",
    "    ax[i].set_title(f'Axis: {x}')\n",
    "\n",
    "plt.tight_layout()\n",
    "print(name)\n",
    "plt.show()"
   ]
  },
  {
   "cell_type": "markdown",
   "id": "f80b224d",
   "metadata": {},
   "source": [
    "Time domain histogram"
   ]
  },
  {
   "cell_type": "code",
   "execution_count": null,
   "id": "b90f8c79",
   "metadata": {},
   "outputs": [],
   "source": [
    "for name, ts in DATASET:\n",
    "    display(Markdown(f'**{name}**'))\n",
    "    axis = ts.columns\n",
    "    ax = ts[axis].hist(figsize=(15, 3), grid=True, bins=100, layout=(1, len(ts.columns)), edgecolor='black', linewidth=0.5)\n",
    "    plt.show()"
   ]
  },
  {
   "cell_type": "markdown",
   "id": "50e6b79e-8552-49a7-83ca-2cabc45c4e0f",
   "metadata": {},
   "source": [
    "Time domain waveform"
   ]
  },
  {
   "cell_type": "code",
   "execution_count": null,
   "id": "cd1b7b7e-846f-4972-be25-b8b070dad107",
   "metadata": {
    "scrolled": true
   },
   "outputs": [],
   "source": [
    "for name, ts in DATASET:\n",
    "    display(Markdown(f'**{name}**'))\n",
    "    axis = ts.columns\n",
    "    \n",
    "    ax = ts[axis].plot(figsize=(20, 8), grid=True, subplots=True)\n",
    "    for i, axname in enumerate(axis):\n",
    "        ax[i].set_xlabel('Time [s]')\n",
    "        ax[i].set_ylabel(f'Amplitude ({axname}) [m/s\\u00B2]')\n",
    "    plt.show()"
   ]
  },
  {
   "cell_type": "markdown",
   "id": "5a04a3f5-3219-409c-94ab-029fe9a03793",
   "metadata": {},
   "source": [
    "Time domain waveform zoom detail"
   ]
  },
  {
   "cell_type": "code",
   "execution_count": null,
   "id": "a6f20f71-232b-4dfd-a639-3f67a3220342",
   "metadata": {},
   "outputs": [],
   "source": [
    "for name, ts in DATASET:\n",
    "    axis = ts.columns\n",
    "    display(Markdown(f'**{name}**'))\n",
    "    ax = (ts[axis].iloc[int(T_WAVEFORM*Fs):int(T_WAVEFORM*Fs)+Fs]\n",
    "                  .plot(figsize=(20, 10), grid=True, subplots=True))\n",
    "    \n",
    "    for i, axname in enumerate(axis):\n",
    "        ax[i].set_xlabel('Time [s]')\n",
    "        ax[i].set_ylabel(f'Amplitude ({axname}) [m/s\\u00B2]')\n",
    "    plt.show()"
   ]
  },
  {
   "cell_type": "markdown",
   "id": "162e7bf9",
   "metadata": {},
   "source": [
    "Time domain waveform zoom - faults side by side"
   ]
  },
  {
   "cell_type": "code",
   "execution_count": null,
   "id": "437333c1",
   "metadata": {},
   "outputs": [],
   "source": [
    "colnum = len(DATASET[0][1].columns)\n",
    "fig, ax = plt.subplots(len(DATASET), colnum, figsize=(12, 15), sharex=True, sharey=True)\n",
    "\n",
    "for idx, df in enumerate(DATASET):\n",
    "    name, ts = df\n",
    "    columns = ts.columns\n",
    "    ax[idx][colnum // 2].set_title(name)\n",
    "    ax[idx][0].set_ylabel('Amplitude [m/s\\u00B2]')\n",
    "\n",
    "    for pos, axis in enumerate(columns):\n",
    "        data = ts[axis].loc[T_WAVEFORM:T_WAVEFORM+0.3]\n",
    "        ax[idx][pos].plot(data.index, data, linewidth=1, color='darkblue')\n",
    "        ax[-1][pos].set_xlabel('Time [s]')\n",
    "        ax[idx][pos].set_ylim(-5, 5)\n",
    "        ax[idx][pos].grid()\n",
    "\n",
    "plt.tight_layout()\n",
    "plt.show()"
   ]
  },
  {
   "cell_type": "markdown",
   "id": "22ff338b",
   "metadata": {},
   "source": [
    "#### Velocity of vibrations in time domain:\n",
    "- Detrend with mean of envelope\n",
    "- Interpolate envelope\n",
    "- Trapezoidal integration\n",
    "- https://stackoverflow.com/questions/61574495/scipy-detrend-in-python"
   ]
  },
  {
   "cell_type": "code",
   "execution_count": null,
   "id": "2c7977fd",
   "metadata": {},
   "outputs": [],
   "source": [
    "def hl_envelopes_idx(s, dmin=1, dmax=1, split=False):\n",
    "    \"\"\"\n",
    "    Input :\n",
    "    s: 1d-array, data signal from which to extract high and low envelopes\n",
    "    dmin, dmax: int, optional, size of chunks, use this if the size of the input signal is too big\n",
    "    split: bool, optional, if True, split the signal in half along its mean, might help to generate the envelope in some cases\n",
    "    Output :\n",
    "    lmin,lmax : high/low envelope idx of input signal s\n",
    "    \"\"\"\n",
    "\n",
    "    # locals min      \n",
    "    lmin = (np.diff(np.sign(np.diff(s))) > 0).nonzero()[0] + 1 \n",
    "    # locals max\n",
    "    lmax = (np.diff(np.sign(np.diff(s))) < 0).nonzero()[0] + 1 \n",
    "    \n",
    "    if split:\n",
    "        # s_mid is zero if s centered around x-axis or more generally mean of signal\n",
    "        s_mid = np.mean(s) \n",
    "        # pre-sorting of locals min based on relative position with respect to s_mid \n",
    "        lmin = lmin[s[lmin] < s_mid]\n",
    "        # pre-sorting of local max based on relative position with respect to s_mid \n",
    "        lmax = lmax[s[lmax] > s_mid]\n",
    "\n",
    "    # global min of dmin-chunks of locals min \n",
    "    lmin = lmin[[i+np.argmin(s[lmin[i:i+dmin]]) for i in range(0,len(lmin),dmin)]]\n",
    "    # global max of dmax-chunks of locals max \n",
    "    lmax = lmax[[i+np.argmax(s[lmax[i:i+dmax]]) for i in range(0,len(lmax),dmax)]]\n",
    "    \n",
    "    return lmin,lmax\n",
    "\n",
    "def velocity_converter(t, a):\n",
    "    velocity = scipy.integrate.cumulative_trapezoid(a, x=time) * 1000\n",
    "\n",
    "    # Calculate envelope\n",
    "    lmin, lmax = hl_envelopes_idx(velocity)\n",
    "    env_min, env_max = velocity[lmin], velocity[lmax]\n",
    "\n",
    "    # Interpolate the filled array\n",
    "    env_min = scipy.interpolate.interp1d(lmin, velocity[lmin], kind='cubic', fill_value='extrapolate')(np.arange(0, len(velocity)))\n",
    "    env_max = scipy.interpolate.interp1d(lmax, velocity[lmax], kind='cubic', fill_value='extrapolate')(np.arange(0, len(velocity)))\n",
    "    mean_envelope = ((env_max + env_min) / 2)\n",
    "\n",
    "    # Detrend with mean of envelope\n",
    "    velocity -= mean_envelope\n",
    "    # Graph velocity in mm/s\n",
    "    return (t[:-1],  velocity)"
   ]
  },
  {
   "cell_type": "code",
   "execution_count": null,
   "id": "055a0ec0",
   "metadata": {},
   "outputs": [],
   "source": [
    "colnum = len(DATASET[0][1].columns)\n",
    "fig, ax = plt.subplots(len(DATASET), colnum, figsize=(12, 30))\n",
    "T_WAVEFORM = 1\n",
    "\n",
    "for idx, df in enumerate(DATASET):\n",
    "    name, ts = df\n",
    "    columns = ts.columns\n",
    "    ax[idx][colnum // 2].set_title(name)\n",
    "    ax[idx][0].set_ylabel('Velocity [mm/s]')\n",
    "\n",
    "    for pos, axis in enumerate(columns):\n",
    "        signal = ts[axis]\n",
    "        time = signal.index\n",
    "        try:\n",
    "            t, v = velocity_converter(time, signal)\n",
    "        except:\n",
    "            continue\n",
    "\n",
    "        velocity = pd.Series(v, index=t)\n",
    "        data = velocity.loc[T_WAVEFORM:T_WAVEFORM+0.3]\n",
    "        ax[idx][pos].plot(data.index, data, linewidth=1, color='darkblue')\n",
    "        ax[idx][pos].set_xlabel('Time [s]')\n",
    "        ax[idx][pos].grid()\n",
    "\n",
    "plt.tight_layout()\n",
    "plt.show()"
   ]
  },
  {
   "cell_type": "code",
   "execution_count": null,
   "id": "386d39ac",
   "metadata": {},
   "outputs": [],
   "source": [
    "for name, ts in DATASET:\n",
    "    display(Markdown(f'**{name}**'))\n",
    "    axis = ts.columns\n",
    "    \n",
    "    fig, ax = plt.subplots(len(axis), 1, figsize=(20, 8))\n",
    "    for i, axname in enumerate(axis):\n",
    "        # Integrate acceleration to velocity\n",
    "        signal = ts[axname]\n",
    "        time = signal.index\n",
    "        try:\n",
    "            t, v = velocity_converter(time, signal)\n",
    "        except:\n",
    "            continue\n",
    "        ax[i].plot(t,  v)\n",
    "\n",
    "        ax[i].grid()\n",
    "        ax[i].set_xlabel('Time [s]')\n",
    "        ax[i].set_ylabel(f'Velocity ({axname}) [mm/s]')\n",
    "\n",
    "        # Plot rms velocity \n",
    "        print('RMS velocity [mm/s]')\n",
    "        print(f'\\t{axname}: {ft.rms(velocity)}')\n",
    "    plt.show()"
   ]
  },
  {
   "cell_type": "code",
   "execution_count": null,
   "id": "f29aff63-02db-41cc-a0b2-a73ddc309933",
   "metadata": {},
   "outputs": [],
   "source": [
    "def spectogram(x, debug=True):\n",
    "    fig, ax = plt.subplots(figsize=(15, 4))\n",
    "    cmap = plt.get_cmap('inferno')\n",
    "    pxx, freqs, t, im = plt.specgram(\n",
    "        x, NFFT=2**15, Fs=Fs,\n",
    "        detrend='mean',\n",
    "        mode='magnitude', scale='dB',\n",
    "        cmap=cmap, vmin=-60\n",
    "    )\n",
    "    fig.colorbar(im, aspect=20, pad=0.04)\n",
    "    ax.set_xlabel('Time [s]')\n",
    "    ax.set_ylabel('Frequency [Hz]')\n",
    "    ax.set_ylim(0, 1000)\n",
    "    return freqs, pxx\n",
    "\n",
    "\n",
    "def window_idx(t):\n",
    "    return (Fs * t) // NFFT + 1\n",
    "\n",
    "\n",
    "def spectrum_slice(freqs, Pxx, t):\n",
    "    fig, ax = plt.subplots(2, 1, figsize=(20, 8))\n",
    "    n = window_idx(t)\n",
    "\n",
    "    dB = 20 * np.log10(Pxx.T[n] / 0.000001)\n",
    "    ax[0].plot(freqs, dB)      # 1 dB = 1 um/s^2\n",
    "    ax[0].grid(True)\n",
    "    ax[0].set_xlabel('Frequency [Hz]')\n",
    "    ax[0].set_ylabel('Amplitude [dB]')\n",
    "    \n",
    "    ax[1].plot(freqs, Pxx.T[n])\n",
    "    ax[1].grid(True)\n",
    "    ax[1].set_xlabel('Frequency [Hz]')\n",
    "    ax[1].set_ylabel('Amplitude [m/s^2]')\n",
    "    return n\n",
    "\n",
    "\n",
    "def get_max_frequency(freqs, Pxx, i):\n",
    "    max_freq = freqs[np.argmax(Pxx.T[i])]\n",
    "    return max_freq\n",
    "\n",
    "\n",
    "def get_peaks(freqs, Pxx, i, top=5):\n",
    "    amplitudes = Pxx.T[i]\n",
    "    peaks, _ = find_peaks(amplitudes, distance=3)\n",
    "\n",
    "    fundamental = get_max_frequency(freqs, Pxx, i)\n",
    "    f_top = freqs[peaks[np.argsort(amplitudes[peaks])]][::-top]\n",
    "    y_top = np.sort(amplitudes[peaks])[::-top]\n",
    "\n",
    "    return pd.DataFrame({\n",
    "        'f': f_top,\n",
    "        'y': y_top,\n",
    "        '1x': f_top / fundamental \n",
    "    })\n",
    "\n",
    "\n",
    "def butter_bandpass_filter(data, lowcut, highcut, fs, order=5):\n",
    "    b, a = butter(order, [lowcut, highcut], fs=fs, btype='band')\n",
    "    y = lfilter(b, a, data)\n",
    "    return y\n",
    "\n",
    "\n",
    "def get_spectrograms(dataset: List[pd.DataFrame], axis: str) -> list:\n",
    "    spectrograms = []\n",
    "\n",
    "    for name, ts in dataset:\n",
    "        base_freq = fundamental_frequency(ts[axis], Fs)\n",
    "        display(Markdown(f'**{name}** *({axis.upper()} axis, Fundamental = {base_freq:.4f} Hz)*'))\n",
    "        \n",
    "        freqs, Pxx = spectogram(ts[axis])\n",
    "        spectrograms.append((name, freqs, Pxx))\n",
    "        plt.show()\n",
    "    \n",
    "    return spectrograms\n",
    "\n",
    "\n",
    "def show_spectrogram_detail(spectrograms: list, axis: str, t: float):\n",
    "    for name, freqs, Pxx in spectrograms:\n",
    "        display(Markdown(f'**{name}** ({axis.upper()} axis @ {t}s)'))\n",
    "        i_window = spectrum_slice(freqs, Pxx, t)\n",
    "        plt.show()\n",
    "\n",
    "\n",
    "def show_mms_peaks(spectrograms: list, axis: str, t: float):\n",
    "    for name, freqs, Pxx in spectrograms:\n",
    "        display(Markdown(f'**{name}** ({axis.upper()} axis @ {t}s)'))\n",
    "    \n",
    "        i_window = window_idx(t)\n",
    "        peaks = extraction.mms_peak_finder(Pxx.T[i_window])\n",
    "        \n",
    "        fig, ax = plt.subplots(1, 1, figsize=(15, 3))\n",
    "        ax.grid(True)\n",
    "        ax.plot(freqs, Pxx.T[i_window])\n",
    "        ax.scatter(freqs[peaks], Pxx.T[i_window][peaks], marker='^', color='red')\n",
    "        ax.set_xlabel('Frequency [Hz]')\n",
    "        \n",
    "        plt.show()\n",
    "\n",
    "\n",
    "def show_harmonic_series(spectrograms: list, axis: str, t: float):\n",
    "    # https://stackoverflow.com/questions/1982770/changing-the-color-of-an-axis\n",
    "    for name, freqs, Pxx in spectrograms:\n",
    "        display(Markdown(f'**{name}** ({axis.upper()} axis @ {t}s)'))\n",
    "    \n",
    "        i_window = window_idx(t)\n",
    "        h_series = discovery.harmonic_series_detection(freqs, Pxx.T[i_window], Fs, NFFT)\n",
    "    \n",
    "        # Find best (sum of harmonics' amplitudes in the largest)\n",
    "        max_harmonic_amp_idx = np.argmax([\n",
    "            sum([h[1] for h in s]) / len(s)\n",
    "            for s in h_series\n",
    "        ])\n",
    "        best_harmonic_series = pd.DataFrame(\n",
    "            h_series[max_harmonic_amp_idx],\n",
    "            columns=['Frequency [Hz]', 'Amplitude [m/s^2]']\n",
    "        )\n",
    "        best_harmonic_series.index += 1\n",
    "        display(tabulate(best_harmonic_series, headers='keys', tablefmt='html'))\n",
    "    \n",
    "        # Plot found harmonic series\n",
    "        fig, ax = plt.subplots(1, 8, figsize=(30, 4))\n",
    "        for i in range(8):\n",
    "            s = h_series[i+1]\n",
    "            if i == max_harmonic_amp_idx:\n",
    "                ax[i].xaxis.label.set_color('red')\n",
    "    \n",
    "            ax[i].plot(freqs, Pxx.T[i_window])\n",
    "            ax[i].scatter([x[0] for x in s], [x[1] for x in s], marker='^', color='red')\n",
    "            ax[i].set_xlabel('Frequency [Hz]')\n",
    "    \n",
    "        plt.show()\n",
    "\n",
    "def show_spectra_largest_amplitudes(spectrograms: list, axis: str, t: float):\n",
    "    for name, freqs, Pxx in spectrograms:\n",
    "        display(Markdown(f'**{name}** ({axis.upper()} axis @ {t}s)'))\n",
    "\n",
    "        i_window = window_idx(t)\n",
    "        x_fundamental = get_max_frequency(freqs, Pxx, i_window)\n",
    "        peaks = get_peaks(freqs, Pxx, i_window)\n",
    "        \n",
    "        display(Markdown(f'- *Fundamental frequency:* {x_fundamental} Hz'))\n",
    "        display(tabulate(peaks.head(5), headers='keys', tablefmt='html'))\n",
    "\n",
    "\n",
    "def compare_limited_specrograms(spectrograms: list, axis: str, t: float, dB=False):\n",
    "    fig, ax = plt.subplots(len(DATASET), 1, figsize=(20, 20))#, sharey=True)\n",
    "    #fig, ax = plt.subplots(len(DATASET), 1, figsize=(20, 20))\n",
    "    i = 0\n",
    "    for name, ts in DATASET:\n",
    "        signal = ts[axis].loc[t:t+NFFT/Fs].to_numpy()\n",
    "        n = len(signal)\n",
    "        pxx = np.abs(np.fft.rfft(signal * windows.hann(n)) / n)\n",
    "        if dB is True:\n",
    "            pxx = 20 * np.log10(pxx / 0.000001)  # 1 dB = 1 um/s^2    \n",
    "        freqs = np.fft.fftfreq(n, d=1/Fs)[:len(pxx)]\n",
    "\n",
    "        # Shapiro\n",
    "        # stat, p_value_s = shapiro(signal[:3000])\n",
    "        # result = adfuller(signal[:3000])\n",
    "        # print(name, p_value_s, result[1])\n",
    "\n",
    "\n",
    "        ax[i].plot(freqs, pxx, color='darkblue')\n",
    "        ax[i].fill_between(freqs, pxx, color='lightblue', alpha=0.3)\n",
    "        ax[i].grid(True)\n",
    "        ax[i].set_xlabel('Frequency [Hz]')\n",
    "        ax[i].set_ylabel('Amplitude [m/s\\u00B2]')\n",
    "        ax[i].set_xlim(0, F_LIMIT)\n",
    "        # ax[i].set_ylim(40, 120)\n",
    "        #ax[i].set_ylim(0, 0.1)\n",
    "        ax[i].set_title(name)\n",
    "        i += 1\n",
    "\n",
    "    # for j, lim in enumerate([0.8, 0.4, 0.4, 0.05, 0.02]):\n",
    "    #     ax[j].set_ylim(0, lim)\n",
    "\n",
    "\n",
    "def spectrogram_energy_left_cumulative(spectrograms: list, axis: str, t: float):\n",
    "    fig, ax = plt.subplots(len(DATASET), 1, figsize=(20, 50), sharey=True)\n",
    "    i = 0\n",
    "    for name, ts in DATASET:\n",
    "        signal = ts[axis].loc[t:t+NFFT/Fs].to_numpy()\n",
    "        n = len(signal)\n",
    "        pxx = np.abs(np.fft.rfft(signal * windows.hann(n)) / n) \n",
    "        freqs = np.fft.fftfreq(n, d=1/Fs)[:len(pxx)]\n",
    "        \n",
    "        ax[i].plot(freqs, np.cumsum(pxx) / np.sum(pxx))\n",
    "        ax[i].grid(True)\n",
    "        ax[i].set_xlabel('Frequency [Hz]')\n",
    "        ax[i].set_ylabel('Cumulative energy [%]')\n",
    "        #ax[i].set_xlim(50, 100)\n",
    "        ax[i].set_title(name)\n",
    "        i += 1"
   ]
  },
  {
   "cell_type": "markdown",
   "id": "c0da4bd9",
   "metadata": {},
   "source": [
    "Compare mafaulda faults"
   ]
  },
  {
   "cell_type": "code",
   "execution_count": null,
   "id": "fd9ee17d",
   "metadata": {},
   "outputs": [],
   "source": [
    "compare_limited_specrograms(DATASET, COLUMNS[0], T_SEC)\n",
    "plt.tight_layout()\n",
    "plt.show()"
   ]
  },
  {
   "cell_type": "code",
   "execution_count": null,
   "id": "c1ac34fe",
   "metadata": {},
   "outputs": [],
   "source": [
    "compare_limited_specrograms(DATASET, COLUMNS[1], T_SEC)\n",
    "plt.tight_layout()\n",
    "plt.show()"
   ]
  },
  {
   "cell_type": "code",
   "execution_count": null,
   "id": "44c8ec19",
   "metadata": {},
   "outputs": [],
   "source": [
    "compare_limited_specrograms(DATASET, COLUMNS[2], T_SEC)\n",
    "plt.tight_layout()\n",
    "plt.show()"
   ]
  },
  {
   "cell_type": "markdown",
   "id": "f89b9529",
   "metadata": {},
   "source": [
    "Compare cumulative sums"
   ]
  },
  {
   "cell_type": "code",
   "execution_count": null,
   "id": "e01212b9",
   "metadata": {},
   "outputs": [],
   "source": [
    "spectrogram_energy_left_cumulative(DATASET, COLUMNS[0], T_SEC)\n",
    "plt.tight_layout()\n",
    "plt.show()"
   ]
  },
  {
   "cell_type": "code",
   "execution_count": null,
   "id": "0349370a",
   "metadata": {},
   "outputs": [],
   "source": [
    "spectrogram_energy_left_cumulative(DATASET, COLUMNS[1], T_SEC)\n",
    "plt.tight_layout()\n",
    "plt.show()"
   ]
  },
  {
   "cell_type": "code",
   "execution_count": null,
   "id": "c00d83de",
   "metadata": {},
   "outputs": [],
   "source": [
    "spectrogram_energy_left_cumulative(DATASET, COLUMNS[2], T_SEC)\n",
    "plt.tight_layout()\n",
    "plt.show()"
   ]
  },
  {
   "cell_type": "markdown",
   "id": "ee89381f-5511-4bc3-a852-5bce32cac12f",
   "metadata": {},
   "source": [
    "Spectrogram in X axis"
   ]
  },
  {
   "cell_type": "code",
   "execution_count": null,
   "id": "4db90dff-cb26-41ad-9cc0-cd2234065803",
   "metadata": {},
   "outputs": [],
   "source": [
    "x_spectra = get_spectrograms(DATASET, COLUMNS[0])"
   ]
  },
  {
   "cell_type": "markdown",
   "id": "a4c0eaf1-8703-4e32-a46a-894785e1da2c",
   "metadata": {},
   "source": [
    "Spectrogram detail in X axis"
   ]
  },
  {
   "cell_type": "code",
   "execution_count": null,
   "id": "e86b9741-3c74-4dd8-985a-3b1cbeb6d20a",
   "metadata": {},
   "outputs": [],
   "source": [
    "show_spectrogram_detail(x_spectra, COLUMNS[0], T_SEC)"
   ]
  },
  {
   "cell_type": "markdown",
   "id": "3b78bdaa-f505-4170-a49f-bb8e2e007331",
   "metadata": {},
   "source": [
    "Peaks in frequency spectrum in X axis\n",
    "- MMS peak finder algorithm"
   ]
  },
  {
   "cell_type": "code",
   "execution_count": null,
   "id": "e88ca843-aef3-4497-8de2-1de067068c5a",
   "metadata": {},
   "outputs": [],
   "source": [
    "show_mms_peaks(x_spectra, COLUMNS[0], T_SEC)"
   ]
  },
  {
   "cell_type": "markdown",
   "id": "4b828295-e3e8-491a-9c6c-75ecd2ab9d2b",
   "metadata": {},
   "source": [
    "Harmonic series detection in X axis"
   ]
  },
  {
   "cell_type": "code",
   "execution_count": null,
   "id": "bcf17c61-fdf7-4b06-a1e5-be3c316ed235",
   "metadata": {},
   "outputs": [],
   "source": [
    "# show_harmonic_series(x_spectra, COLUMNS[0], T_SEC)"
   ]
  },
  {
   "cell_type": "code",
   "execution_count": null,
   "id": "bc38a721-9953-47e6-9e65-827070b981d8",
   "metadata": {},
   "outputs": [],
   "source": [
    "show_spectra_largest_amplitudes(x_spectra, COLUMNS[0], T_SEC)"
   ]
  },
  {
   "cell_type": "markdown",
   "id": "ff4e21af-0f09-4a15-a153-a765ca9d76ed",
   "metadata": {},
   "source": [
    "Spectrogram in Y axis"
   ]
  },
  {
   "cell_type": "code",
   "execution_count": null,
   "id": "1e96548e-6e6a-4c27-a823-aafa1b024775",
   "metadata": {},
   "outputs": [],
   "source": [
    "y_spectra = get_spectrograms(DATASET, COLUMNS[1])"
   ]
  },
  {
   "cell_type": "markdown",
   "id": "26452c30-a319-4a4d-8a24-e4e8871887d1",
   "metadata": {},
   "source": [
    "Spectrogram detail in Y axis"
   ]
  },
  {
   "cell_type": "code",
   "execution_count": null,
   "id": "bdf3133c-3ef2-402b-a148-4e28233b01db",
   "metadata": {},
   "outputs": [],
   "source": [
    "show_spectrogram_detail(y_spectra, COLUMNS[1], T_SEC)"
   ]
  },
  {
   "cell_type": "markdown",
   "id": "ec8a28fa-689d-485e-bf67-3b33b2b04fa0",
   "metadata": {},
   "source": [
    "Peaks in frequency spectrum in Y axis"
   ]
  },
  {
   "cell_type": "code",
   "execution_count": null,
   "id": "2182c450-7d54-4706-b49b-90d540a2a457",
   "metadata": {},
   "outputs": [],
   "source": [
    "show_mms_peaks(y_spectra, COLUMNS[1], T_SEC)"
   ]
  },
  {
   "cell_type": "markdown",
   "id": "3bde1e3d-05a7-4152-bc23-2b2e6f276cc3",
   "metadata": {},
   "source": [
    "Harmonic series detection in Y axis"
   ]
  },
  {
   "cell_type": "code",
   "execution_count": null,
   "id": "e21bcf95-d8e3-465f-a965-2695b8b62ccb",
   "metadata": {},
   "outputs": [],
   "source": [
    "# show_harmonic_series(y_spectra, COLUMNS[1], T_SEC)"
   ]
  },
  {
   "cell_type": "code",
   "execution_count": null,
   "id": "56d93aea-fe04-43a5-a252-20525c513421",
   "metadata": {},
   "outputs": [],
   "source": [
    "show_spectra_largest_amplitudes(y_spectra, COLUMNS[1], T_SEC)"
   ]
  },
  {
   "cell_type": "markdown",
   "id": "f5c4ee18-e979-4409-90ef-2066cb5cd84e",
   "metadata": {},
   "source": [
    "Spectrogram in Z axis"
   ]
  },
  {
   "cell_type": "code",
   "execution_count": null,
   "id": "1a5499f4-9d14-4cb4-ac8c-52b89147c34a",
   "metadata": {},
   "outputs": [],
   "source": [
    "z_spectra = get_spectrograms(DATASET, COLUMNS[2])"
   ]
  },
  {
   "cell_type": "markdown",
   "id": "0c0bf42d-e8b4-47cc-987e-395decaa040f",
   "metadata": {},
   "source": [
    "Spectrogram detail in Z axis"
   ]
  },
  {
   "cell_type": "code",
   "execution_count": null,
   "id": "e0602391-3463-45bc-9dfa-d647e1b8fa4e",
   "metadata": {},
   "outputs": [],
   "source": [
    "show_spectrogram_detail(z_spectra, COLUMNS[2], T_SEC)"
   ]
  },
  {
   "cell_type": "markdown",
   "id": "2d940e50-1f66-4016-b5a8-f5af7d338296",
   "metadata": {},
   "source": [
    "Peaks in frequency spectrum in Z axis"
   ]
  },
  {
   "cell_type": "code",
   "execution_count": null,
   "id": "63ea9d55-9607-46d6-b968-ea58c3fcc73c",
   "metadata": {},
   "outputs": [],
   "source": [
    "show_mms_peaks(z_spectra, COLUMNS[2], T_SEC)"
   ]
  },
  {
   "cell_type": "markdown",
   "id": "7e10dd6a-ac2f-4fb9-a09b-9886106921b8",
   "metadata": {},
   "source": [
    "Harmonic series detection in Z axis"
   ]
  },
  {
   "cell_type": "code",
   "execution_count": null,
   "id": "bd944516-dd26-4e7d-be01-180f6d530ecf",
   "metadata": {},
   "outputs": [],
   "source": [
    "# show_harmonic_series(z_spectra, COLUMNS[2], T_SEC)"
   ]
  },
  {
   "cell_type": "code",
   "execution_count": null,
   "id": "bf42af29-767c-4953-a210-a0c78706f313",
   "metadata": {},
   "outputs": [],
   "source": [
    "show_spectra_largest_amplitudes(z_spectra, COLUMNS[2], T_SEC)"
   ]
  },
  {
   "cell_type": "markdown",
   "id": "04c4b374-fcf1-4546-ac58-671d829c5ec9",
   "metadata": {},
   "source": [
    "Histogram"
   ]
  },
  {
   "cell_type": "code",
   "execution_count": null,
   "id": "0a5f9a84-fdfd-42d7-b76d-8e5e3b52d9f1",
   "metadata": {},
   "outputs": [],
   "source": [
    "axis = [COLUMNS[0], COLUMNS[1], COLUMNS[2]]\n",
    "for name, ts in DATASET:\n",
    "    display(Markdown(f'**{name}**'))\n",
    "    ts[axis].hist(figsize=(10, 5), grid=True, bins=50)\n",
    "    plt.show()"
   ]
  },
  {
   "cell_type": "code",
   "execution_count": null,
   "id": "f97c74d4",
   "metadata": {},
   "outputs": [],
   "source": [
    "axis = [COLUMNS[0], COLUMNS[1], COLUMNS[2]]\n",
    "for name, ts in DATASET:\n",
    "    display(Markdown(f'**{name}**'))\n",
    "    ts[axis].boxplot(figsize=(10, 5))\n",
    "    plt.show()"
   ]
  },
  {
   "cell_type": "markdown",
   "id": "95dfbc2a-2a89-4544-a876-b4b737e589d2",
   "metadata": {},
   "source": [
    "Orbitals of all cross sections"
   ]
  },
  {
   "cell_type": "code",
   "execution_count": null,
   "id": "0f2c7690-1ffb-4099-b52e-33e9fa39ffba",
   "metadata": {},
   "outputs": [],
   "source": [
    "for name, ts in DATASET:\n",
    "    display(Markdown(f'**{name}**'))\n",
    "    fig, ax = plt.subplots(1, 3, figsize=(20, 4))\n",
    "\n",
    "    for i, col in enumerate([(COLUMNS[0], COLUMNS[1]), (COLUMNS[0], COLUMNS[2]), (COLUMNS[1], COLUMNS[2])]):\n",
    "        ax[i].scatter(ts[col[0]], ts[col[1]], s=1)\n",
    "        ax[i].grid(True)\n",
    "        ax[i].set_xlabel(col[0].upper())\n",
    "        ax[i].set_ylabel(col[1].upper())\n",
    "        ax[i].grid(True)\n",
    "    plt.show()"
   ]
  },
  {
   "cell_type": "markdown",
   "id": "33add604-68f5-415a-8f68-aadeb04b5c79",
   "metadata": {},
   "source": [
    "Orbitals of 1x harmonic frequency"
   ]
  },
  {
   "cell_type": "code",
   "execution_count": null,
   "id": "9cc92a20-3797-46ab-8b0b-8227c319b2f7",
   "metadata": {},
   "outputs": [],
   "source": [
    "x_spectra_by_name = {spec[0]: spec for spec in x_spectra}\n",
    "y_spectra_by_name = {spec[0]: spec for spec in y_spectra}\n",
    "z_spectra_by_name = {spec[0]: spec for spec in z_spectra}\n",
    "t = T_SEC\n",
    "space = 7\n",
    "\n",
    "for name, ts in DATASET:\n",
    "    display(Markdown(f'**{name}**'))\n",
    "    fig, ax = plt.subplots(1, 3, figsize=(20, 4))\n",
    "\n",
    "    name, freqs, Pxx = x_spectra_by_name[name]\n",
    "    x_fundamental = get_max_frequency(freqs, Pxx, window_idx(t))\n",
    "    name, freqs, Pxx = y_spectra_by_name[name]\n",
    "    y_fundamental = get_max_frequency(freqs, Pxx, window_idx(t))\n",
    "\n",
    "    name, freqs, Pxx = z_spectra_by_name[name]\n",
    "    z_fundamental = get_max_frequency(freqs, Pxx, window_idx(t))\n",
    "\n",
    "    try:\n",
    "        ts['x_1x'] = butter_bandpass_filter(ts[COLUMNS[0]], x_fundamental - space, x_fundamental + space, Fs)\n",
    "        ts['y_1x'] = butter_bandpass_filter(ts[COLUMNS[1]], y_fundamental - space, y_fundamental + space, Fs)\n",
    "        ts['z_1x'] = butter_bandpass_filter(ts[COLUMNS[2]], z_fundamental - space, z_fundamental + space, Fs)\n",
    "    except ValueError:\n",
    "        continue\n",
    "    \n",
    "    for i, col in enumerate([('x_1x', 'y_1x'), ('x_1x', 'z_1x'), ('y_1x', 'z_1x')]):\n",
    "        ax[i].scatter(ts[col[0]], ts[col[1]], s=1)\n",
    "        ax[i].grid(True)\n",
    "        ax[i].set_xlabel(col[0].upper())\n",
    "        ax[i].set_ylabel(col[1].upper())\n",
    "        ax[i].grid(True)\n",
    "    \n",
    "    plt.show()"
   ]
  },
  {
   "cell_type": "code",
   "execution_count": null,
   "id": "4d3e2d8b",
   "metadata": {},
   "outputs": [],
   "source": [
    "t = 1\n",
    "space = 4\n",
    "\n",
    "for name, ts in DATASET:\n",
    "    display(Markdown(f'**{name}**'))\n",
    "\n",
    "    name, freqs, Pxx = x_spectra_by_name[name]\n",
    "    x_fundamental = get_max_frequency(freqs, Pxx, window_idx(t))\n",
    "    name, freqs, Pxx = y_spectra_by_name[name]\n",
    "    y_fundamental = get_max_frequency(freqs, Pxx, window_idx(t))\n",
    "\n",
    "    name, freqs, Pxx = z_spectra_by_name[name]\n",
    "    z_fundamental = get_max_frequency(freqs, Pxx, window_idx(t))\n",
    "\n",
    "    try:\n",
    "        x = butter_bandpass_filter(ts[COLUMNS[0]], x_fundamental - space, x_fundamental + space, Fs)\n",
    "        y = butter_bandpass_filter(ts[COLUMNS[1]], y_fundamental - space, y_fundamental + space, Fs)\n",
    "        z = butter_bandpass_filter(ts[COLUMNS[2]], z_fundamental - space, z_fundamental + space, Fs)\n",
    "    except ValueError:\n",
    "        continue\n",
    "\n",
    "    ax = plt.figure().add_subplot(projection='3d')\n",
    "    ax.scatter(x, y, z, zdir='y', s=1, color='navy')\n",
    "    xlim = 6\n",
    "    ax.set_xlabel('x')\n",
    "    ax.set_ylabel('y')\n",
    "    ax.set_zlabel('z')\n",
    "    ax.set_xlim(-xlim, xlim)\n",
    "    ax.set_ylim(-xlim, xlim)\n",
    "    ax.set_zlim(-xlim, xlim)\n",
    "    ax.zaxis.labelpad = -0.7\n",
    "    plt.show()"
   ]
  }
 ],
 "metadata": {
  "kernelspec": {
   "display_name": "Python 3 (ipykernel)",
   "language": "python",
   "name": "python3"
  },
  "language_info": {
   "codemirror_mode": {
    "name": "ipython",
    "version": 3
   },
   "file_extension": ".py",
   "mimetype": "text/x-python",
   "name": "python",
   "nbconvert_exporter": "python",
   "pygments_lexer": "ipython3",
   "version": "3.11.8"
  }
 },
 "nbformat": 4,
 "nbformat_minor": 5
}
