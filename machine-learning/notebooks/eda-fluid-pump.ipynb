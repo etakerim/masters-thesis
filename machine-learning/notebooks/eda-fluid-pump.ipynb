{
 "cells": [
  {
   "cell_type": "markdown",
   "metadata": {},
   "source": [
    "# EDA - Explorary analysis of pumps dataset\n",
    "Collected vibration dataset of water pumps and compressors"
   ]
  },
  {
   "cell_type": "code",
   "execution_count": null,
   "metadata": {},
   "outputs": [],
   "source": [
    "import os\n",
    "import re\n",
    "from typing import List, Tuple\n",
    "from datetime import datetime, date\n",
    "from zipfile import ZipFile\n",
    "\n",
    "import numpy as np\n",
    "import pandas as pd\n",
    "from scipy.signal import windows, welch\n",
    "import matplotlib.pylab as plt\n",
    "from tqdm.notebook import tqdm\n",
    "\n",
    "import sys\n",
    "sys.path.append('../')\n",
    "from vibrodiagnostics import pumps, extraction\n",
    "plt.rcParams.update({'font.size': 14})"
   ]
  },
  {
   "cell_type": "markdown",
   "metadata": {},
   "source": [
    "Paths in the file system to pump dataset and CSV files with extracted features (pumps.ipynb)"
   ]
  },
  {
   "cell_type": "code",
   "execution_count": null,
   "metadata": {},
   "outputs": [],
   "source": [
    "PATH = '../datasets'\n",
    "FEATURES_PATH = os.path.join(PATH, 'features')\n",
    "DATASET_PATH = os.path.join(PATH, 'FluidPump.zip')\n",
    "FEATURES = {\n",
    "    'TD': os.path.join(FEATURES_PATH, 'PUMPS_TD.csv'),\n",
    "    'FD': os.path.join(FEATURES_PATH, 'PUMPS_FD.csv'),\n",
    "}"
   ]
  },
  {
   "cell_type": "markdown",
   "metadata": {},
   "source": [
    "Set analysed sensor axis and FFT window size."
   ]
  },
  {
   "cell_type": "code",
   "execution_count": null,
   "metadata": {},
   "outputs": [],
   "source": [
    "POSSIBLE_DIRECTIONS = ['x', 'y', 'z']\n",
    "AXIS = POSSIBLE_DIRECTIONS[0]\n",
    "FFT_WINDOW = 2**14"
   ]
  },
  {
   "cell_type": "markdown",
   "metadata": {},
   "source": [
    "Side by side Welch's frequency spectra at the same places on different days"
   ]
  },
  {
   "cell_type": "code",
   "execution_count": null,
   "metadata": {},
   "outputs": [],
   "source": [
    "source = ZipFile(DATASET_PATH)\n",
    "filenames = extraction.list_files(source)\n",
    "\n",
    "waveforms = []\n",
    "all_metadata = []\n",
    "for name in tqdm(filenames):\n",
    "    ts = pumps.csv_import(source, name)\n",
    "    header = name.split(os.path.sep)\n",
    "    metadata = {\n",
    "        'date': datetime.fromisoformat(header[-4]).date(),\n",
    "        'device': header[-3],\n",
    "        'position': header[-2],\n",
    "        'seq': int(header[-1].split('.')[0]),\n",
    "        'ts': ts\n",
    "    }\n",
    "    metacopy = metadata.copy()\n",
    "    metacopy.pop('ts')\n",
    "\n",
    "    all_metadata.append(metacopy)\n",
    "    waveforms.append(metadata)"
   ]
  },
  {
   "cell_type": "code",
   "execution_count": null,
   "metadata": {},
   "outputs": [],
   "source": [
    "all_metadata = pd.DataFrame.from_records(all_metadata)\n",
    "all_metadata"
   ]
  },
  {
   "cell_type": "markdown",
   "metadata": {},
   "source": [
    "#### Plot one spectrum in all axis"
   ]
  },
  {
   "cell_type": "code",
   "execution_count": null,
   "metadata": {},
   "outputs": [],
   "source": [
    "query = {\n",
    "    'date': date(2024, 2, 27),\n",
    "    'device': 'KSB7',\n",
    "    'position': 'PMP003',\n",
    "    'seq': 1\n",
    "}\n",
    "F_LIMIT_KHZ = 2\n",
    "axis = pumps.BEARINGS_COLUMNS\n",
    "Fs = pumps.SAMPLING_RATE\n",
    "\n",
    "signal = filter(\n",
    "    lambda s: (\n",
    "        s['date'] == query['date'] and\n",
    "        s['device'] == query['device'] and\n",
    "        s['position'] == query['position'] and\n",
    "        s['seq'] == query['seq']\n",
    "    ),\n",
    "    waveforms\n",
    ")\n",
    "ts = list(signal)[0]['ts'].set_index('t')\n",
    "ts"
   ]
  },
  {
   "cell_type": "markdown",
   "metadata": {},
   "source": [
    "#### Histograms"
   ]
  },
  {
   "cell_type": "code",
   "execution_count": null,
   "metadata": {},
   "outputs": [],
   "source": [
    "ax = ts.hist(figsize=(20, 4), grid=True, bins=100, layout=(1, 3), edgecolor='black', linewidth=0.5)\n",
    "plt.show()"
   ]
  },
  {
   "cell_type": "markdown",
   "metadata": {},
   "source": [
    "#### Waveform in full length"
   ]
  },
  {
   "cell_type": "code",
   "execution_count": null,
   "metadata": {},
   "outputs": [],
   "source": [
    "ax = ts.plot(figsize=(20, 8), grid=True, subplots=True)\n",
    "for i, axname in enumerate(axis):\n",
    "    ax[i].set_xlabel('Time [s]')\n",
    "    ax[i].set_ylabel(f'Amplitude ({axname}) [m/s\\u00b2]')\n",
    "plt.show() "
   ]
  },
  {
   "cell_type": "markdown",
   "metadata": {},
   "source": [
    "#### Waveform in detail\n",
    "- T_WAVEFORM s\n",
    "- interval of TIME s"
   ]
  },
  {
   "cell_type": "code",
   "execution_count": null,
   "metadata": {},
   "outputs": [],
   "source": [
    "T_WAVEFORM = 10\n",
    "TIME = 0.1\n",
    "\n",
    "ax = (ts[axis].iloc[int(T_WAVEFORM*Fs):int(T_WAVEFORM*Fs+Fs*TIME)]\n",
    "                  .plot(figsize=(20, 8), grid=True, subplots=True))\n",
    "    \n",
    "for i, axname in enumerate(axis):\n",
    "    ax[i].set_xlabel('Time [s]')\n",
    "    ax[i].set_ylabel(f'Amplitude ({axname}) [m/s^2]')\n",
    "plt.show() "
   ]
  },
  {
   "cell_type": "code",
   "execution_count": null,
   "metadata": {},
   "outputs": [],
   "source": [
    "fig, ax = plt.subplots(3, 1, figsize=(20, 10))\n",
    "ts_range = ts[:]\n",
    "#ts_range = ts.loc[:10]\n",
    "\n",
    "for i, axname in enumerate(axis):\n",
    "    freqs, pxx = extraction.spectral_transform(ts_range[axname], FFT_WINDOW, Fs)\n",
    "    freqs /= 1000\n",
    "    ax[i].plot(freqs, pxx, color='darkblue')\n",
    "    ax[i].fill_between(freqs, pxx, color='lightblue', alpha=0.3)\n",
    "    ax[i].grid(True)\n",
    "    ax[i].set_xlim(0, F_LIMIT_KHZ)\n",
    "    ax[i].set_xlabel('Frequency [kHz]')\n",
    "    ax[i].set_ylabel('Amplitude [m/s\\u00B2]')"
   ]
  },
  {
   "cell_type": "markdown",
   "metadata": {},
   "source": [
    "#### Histograms based on the machine"
   ]
  },
  {
   "cell_type": "code",
   "execution_count": null,
   "metadata": {},
   "outputs": [],
   "source": [
    "machines = {\n",
    "    'KSB1': {\n",
    "        'MTR001': 'M1',\n",
    "        'MTR002': 'M1',\n",
    "        'PMP003': 'P1',\n",
    "        'PMP004': 'P1'\n",
    "    },\n",
    "    'KSB7': {\n",
    "        'MTR001': 'M2',\n",
    "        'MTR002': 'M2',\n",
    "        'PMP003': 'P2',\n",
    "        'PMP004': 'P2'\n",
    "    },\n",
    "    'Sigma': {\n",
    "        'MTR001': 'M3',\n",
    "        'MTR002': 'M3',\n",
    "        'PMP003': 'P3',\n",
    "        'PMP004': 'P3'\n",
    "    },\n",
    "    'K3': {\n",
    "        '001': 'C1',\n",
    "        '002': 'C1'\n",
    "    },\n",
    "    'K5': {\n",
    "        '001': 'C2',\n",
    "        '002': 'C2'\n",
    "    }\n",
    "}\n",
    "\n",
    "machine_waveform = pd.DataFrame.from_records(waveforms)\n",
    "machine_waveform = pumps.get_classes(machine_waveform, machines, keep=True) \n",
    "machine_waveform"
   ]
  },
  {
   "cell_type": "code",
   "execution_count": null,
   "metadata": {},
   "outputs": [],
   "source": [
    "for name, group in machine_waveform.groupby(by='label', observed=False):\n",
    "    print(name)\n",
    "    axis = pd.concat(list(group['ts']))\n",
    "    print(len(axis))\n",
    "    ax = axis[POSSIBLE_DIRECTIONS].hist(\n",
    "        figsize=(20, 4),\n",
    "        grid=True,\n",
    "        bins=100,\n",
    "        layout=(1, 3),\n",
    "        edgecolor='black',\n",
    "        linewidth=0.5\n",
    "    )\n",
    "    for i in range(len(POSSIBLE_DIRECTIONS)):\n",
    "        ax[0][i].set_xlabel('Amplitude [m/s\\u00B2]')\n",
    "    plt.show()"
   ]
  },
  {
   "cell_type": "markdown",
   "metadata": {},
   "source": [
    "#### Frequency spectrum of one window"
   ]
  },
  {
   "cell_type": "code",
   "execution_count": null,
   "metadata": {},
   "outputs": [],
   "source": [
    "# def window_frequency_spectrum(ts: pd.DataFrame, t: float, nfft: int = FFT_WINDOW, dB=False):\n",
    "#     fig, ax = plt.subplots(len(axis), 1, figsize=(20, 10))\n",
    "#     i = 0\n",
    "#     for axname in axis:\n",
    "#         signal = ts[axname].loc[t:t+nfft/Fs].to_numpy()\n",
    "#         n = len(signal)\n",
    "#         pxx = np.abs(np.fft.rfft(signal * windows.hann(n)) / n)\n",
    "#         if dB is True:\n",
    "#             pxx = 20 * np.log10(pxx / 0.000001)  # 1 dB = 1 um/s^2    \n",
    "#         freqs = np.fft.fftfreq(n, d=1/Fs)[:len(pxx)]\n",
    "\n",
    "#         ax[i].plot(freqs, pxx, color='darkblue')\n",
    "#         ax[i].fill_between(freqs, pxx, color='lightblue', alpha=0.3)\n",
    "#         ax[i].grid(True)\n",
    "#         ax[i].set_xlabel('Frequency [Hz]')\n",
    "#         ax[i].set_ylabel('Amplitude [m/s\\u00B2]')\n",
    "#         ax[i].set_xlim(0, F_LIMIT_KHZ * 1000)\n",
    "#         ax[i].set_title(f'{axname.upper()}, {name}')\n",
    "#         i += 1\n",
    "#     plt.tight_layout()\n",
    "#     plt.show()\n",
    "\n",
    "\n",
    "# window_frequency_spectrum(ts, t=10, dB=False)"
   ]
  },
  {
   "cell_type": "code",
   "execution_count": null,
   "metadata": {},
   "outputs": [],
   "source": [
    "def spectogram(x, nfft, fs, xlim=None, ylim=None):\n",
    "    fig, ax = plt.subplots(figsize=(15, 4))\n",
    "    cmap = plt.get_cmap('inferno')\n",
    "    pxx, freqs, t, im = plt.specgram(\n",
    "        x, NFFT=nfft, Fs=fs,\n",
    "        detrend='mean',\n",
    "        mode='magnitude',\n",
    "        scale='dB',\n",
    "        vmin=-70,\n",
    "        cmap=cmap,\n",
    "        noverlap=int(nfft * 0.66)\n",
    "    )\n",
    "    fig.colorbar(im, aspect=20, pad=0.04)\n",
    "    ax.set_xlabel('Time [s]')\n",
    "    ax.set_ylabel('Frequency [Hz]')\n",
    "    if xlim is not None:\n",
    "        ax.set_xlim(*xlim)\n",
    "    if ylim is not None:\n",
    "        ax.set_ylim(*ylim)\n",
    "    return freqs, t, pxx\n",
    "\n",
    "for axname in ['x', 'y', 'z']:\n",
    "    print(axname)\n",
    "    spectogram(ts[axname], 2**12, pumps.SAMPLING_RATE)\n",
    "    plt.show()"
   ]
  },
  {
   "cell_type": "code",
   "execution_count": null,
   "metadata": {},
   "outputs": [],
   "source": [
    "def side_by_side(\n",
    "        machines: list,\n",
    "        plot_type: str = 'psd',\n",
    "        axis: str = 'x',\n",
    "        device: str | None = None,\n",
    "        position: str | None = None,\n",
    "        figsize: tuple | None = None,\n",
    "        xlim: tuple | None = 5,\n",
    "        ylim: tuple | None = None):\n",
    "\n",
    "    if device is not None:\n",
    "        machines = filter(lambda m: re.match(device, m['device']) is not None, machines)\n",
    "    if position is not None:\n",
    "        machines = filter(lambda m: re.match(position, m['position']) is not None, machines)\n",
    "\n",
    "    machines = list(machines)\n",
    "    rows = set([(c['date'], c['seq']) for c in machines])\n",
    "    columns = set([(c['device'], c['position']) for c in machines])\n",
    "    rows = len(rows)\n",
    "\n",
    "    if figsize is None:\n",
    "        figsize = (15, 20)\n",
    "    fig, ax = plt.subplots(rows, len(columns), figsize=figsize)\n",
    "    if rows == 1:\n",
    "        ax = [ax]\n",
    "\n",
    "    for j, col in enumerate(sorted(list(columns))):\n",
    "        device, position = col\n",
    "        placements = list(filter(lambda m: m['device'] == device and m['position'] == position, machines))\n",
    "        \n",
    "        for i, row in enumerate(sorted(placements, key=lambda m: (m['date'], m['seq']))):\n",
    "            date, seq = row['date'], row['seq']\n",
    "            ts = row['ts']\n",
    "            try:\n",
    "                subplot = ax[i][j]\n",
    "            except:\n",
    "                continue\n",
    "        \n",
    "            if plot_type == 'psd':\n",
    "                freqs, pxx = extraction.spectral_transform(ts[axis], FFT_WINDOW, Fs)\n",
    "                subplot.plot(freqs / 1000, pxx, color='darkblue', linewidth=0.5)\n",
    "\n",
    "                ax[-1][j].set_xlabel('Frequency [kHz]')\n",
    "                ax[i][0].set_ylabel('Amplitude [m/s\\u00B2]')\n",
    "    \n",
    "            elif plot_type == 'psd_db':\n",
    "                freqs, pxx = extraction.spectral_transform(ts[axis], FFT_WINDOW, Fs)\n",
    "                pxx = dB = 20 * np.log10(pxx / 0.000001)    # 1 dB = 1 um/s^2   \n",
    "                subplot.plot(freqs / 1000, pxx, color='darkblue', linewidth=0.5)\n",
    "\n",
    "                subplot.set_xlim(0, 5)\n",
    "                ax[-1][j].set_xlabel('Frequency [kHz]')\n",
    "                ax[i][0].set_ylabel('Amplitude [dB]')\n",
    "\n",
    "            elif plot_type == 'hist':\n",
    "                subplot.hist(ts[axis], color='darkblue', bins=100, edgecolor='black', linewidth=0.5)\n",
    "\n",
    "                ax[-1][j].set_xlabel('Amplitude [m/s\\u00B2]')\n",
    "                ax[i][0].set_ylabel('Count samples')\n",
    "            \n",
    "            if xlim is not None:\n",
    "                subplot.set_xlim(0, xlim)\n",
    "            if ylim is not None:\n",
    "                subplot.set_ylim(0, ylim)\n",
    "\n",
    "            subplot.grid(True)\n",
    "            subplot.set_title(f'{device}, {position} | {date}, {seq}.')\n",
    "                \n",
    "    plt.tight_layout()\n",
    "    plt.show()"
   ]
  },
  {
   "cell_type": "markdown",
   "metadata": {},
   "source": [
    "#### Wideband frequency spectrum"
   ]
  },
  {
   "cell_type": "code",
   "execution_count": null,
   "metadata": {},
   "outputs": [],
   "source": [
    "side_by_side(waveforms, 'psd', AXIS, device=r'K\\d+', position=r'\\d+', figsize=(15, 20), ylim=1)"
   ]
  },
  {
   "cell_type": "code",
   "execution_count": null,
   "metadata": {},
   "outputs": [],
   "source": [
    "side_by_side(waveforms, 'psd', AXIS, device=r'Sigma', position=r'.*', figsize=(15, 5)) "
   ]
  },
  {
   "cell_type": "code",
   "execution_count": null,
   "metadata": {},
   "outputs": [],
   "source": [
    "side_by_side(waveforms, 'psd', AXIS, device=r'KSB\\d+', position=r'MTR\\d+', figsize=(20, 15), ylim=0.7)"
   ]
  },
  {
   "cell_type": "code",
   "execution_count": null,
   "metadata": {},
   "outputs": [],
   "source": [
    "side_by_side(waveforms, 'psd', AXIS, device=r'KSB\\d+', position=r'PMP\\d+', figsize=(20, 15))"
   ]
  },
  {
   "cell_type": "markdown",
   "metadata": {},
   "source": [
    "#### Frequency spectra - Low frequencies"
   ]
  },
  {
   "cell_type": "code",
   "execution_count": null,
   "metadata": {},
   "outputs": [],
   "source": [
    "side_by_side(waveforms, 'psd', AXIS, device=r'K\\d+', position=r'\\d+', figsize=(15, 20), xlim=0.8, ylim=1)"
   ]
  },
  {
   "cell_type": "code",
   "execution_count": null,
   "metadata": {},
   "outputs": [],
   "source": [
    "side_by_side(waveforms, 'psd', AXIS, device=r'Sigma', position=r'.*', figsize=(15, 5), xlim=1, ylim=20) "
   ]
  },
  {
   "cell_type": "code",
   "execution_count": null,
   "metadata": {},
   "outputs": [],
   "source": [
    "side_by_side(waveforms, 'psd', AXIS, device=r'KSB\\d+', position=r'PMP\\d+', figsize=(20, 15), xlim=1, ylim=0.1)"
   ]
  },
  {
   "cell_type": "markdown",
   "metadata": {},
   "source": [
    "### Histograms of time domain"
   ]
  },
  {
   "cell_type": "code",
   "execution_count": null,
   "metadata": {},
   "outputs": [],
   "source": [
    "side_by_side(waveforms, 'hist', AXIS, device=r'K\\d+', position=r'\\d+', figsize=(20, 15), xlim=None)"
   ]
  },
  {
   "cell_type": "code",
   "execution_count": null,
   "metadata": {},
   "outputs": [],
   "source": [
    "side_by_side(waveforms, 'hist', AXIS, device=r'Sigma', position=r'.*', figsize=(20, 5), xlim=None)"
   ]
  },
  {
   "cell_type": "code",
   "execution_count": null,
   "metadata": {},
   "outputs": [],
   "source": [
    "side_by_side(waveforms, 'hist', AXIS, device=r'KSB\\d+', position=r'MTR\\d+', figsize=(20, 15), xlim=None)"
   ]
  },
  {
   "cell_type": "code",
   "execution_count": null,
   "metadata": {},
   "outputs": [],
   "source": [
    "side_by_side(waveforms, 'hist', AXIS, device=r'KSB\\d+', position=r'PMP\\d+', figsize=(20, 15), xlim=None)"
   ]
  },
  {
   "cell_type": "markdown",
   "metadata": {},
   "source": [
    "### Water pump slow down and speed up"
   ]
  },
  {
   "cell_type": "code",
   "execution_count": null,
   "metadata": {},
   "outputs": [],
   "source": [
    "nfft = FFT_WINDOW\n",
    "filename = os.path.join(PATH, 'ksb-cloud/misc-fluid-pump/KSB1-slow-down/1.tsv')\n",
    "ts = pumps.csv_import(None, filename)\n",
    "for axis in pumps.BEARINGS_COLUMNS:\n",
    "    spectogram(ts[axis], nfft, pumps.SAMPLING_RATE, xlim=(60, 90), ylim=(0, 120))\n",
    "    plt.show()"
   ]
  },
  {
   "cell_type": "markdown",
   "metadata": {},
   "source": [
    "The pumps KSB-7 is turned off. Old Sigma pump next to KSB7 is still turned on"
   ]
  },
  {
   "cell_type": "code",
   "execution_count": null,
   "metadata": {},
   "outputs": [],
   "source": [
    "filename = os.path.join(PATH, 'ksb-cloud/misc-fluid-pump/KSB7-speed-up/1.tsv')\n",
    "nfft = 2 ** 11\n",
    "ts = pumps.csv_import(None, filename)\n",
    "for axis in pumps.BEARINGS_COLUMNS:\n",
    "    spectogram(ts[axis], nfft, pumps.SAMPLING_RATE, ylim=(0, 3000))\n",
    "    plt.show()"
   ]
  },
  {
   "cell_type": "markdown",
   "metadata": {},
   "source": [
    "The pump KSB-7 is speeding up. Sigma pump is turned off and KSB-7 is turned on."
   ]
  },
  {
   "cell_type": "code",
   "execution_count": null,
   "metadata": {},
   "outputs": [],
   "source": [
    "filename = os.path.join(PATH, 'ksb-cloud/misc-fluid-pump/KSB7-speed-up/2.tsv')\n",
    "nfft = 2 ** 11\n",
    "ts = pumps.csv_import(None, filename)\n",
    "for axis in pumps.BEARINGS_COLUMNS:\n",
    "    print(axis)\n",
    "    spectogram(ts[axis], nfft, pumps.SAMPLING_RATE, xlim=(2, 18), ylim=(0, 3000))\n",
    "    plt.show()"
   ]
  }
 ],
 "metadata": {
  "kernelspec": {
   "display_name": "Python 3 (ipykernel)",
   "language": "python",
   "name": "python3"
  },
  "language_info": {
   "codemirror_mode": {
    "name": "ipython",
    "version": 3
   },
   "file_extension": ".py",
   "mimetype": "text/x-python",
   "name": "python",
   "nbconvert_exporter": "python",
   "pygments_lexer": "ipython3",
   "version": "3.11.8"
  }
 },
 "nbformat": 4,
 "nbformat_minor": 4
}
