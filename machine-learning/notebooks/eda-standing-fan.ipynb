{
 "cells": [
  {
   "cell_type": "markdown",
   "metadata": {},
   "source": [
    "# Standing Fan EDA\n",
    "\n",
    "### Speed of fan blades\n",
    "- It was determined by Android app: Spectroid \n",
    "    - https://play.google.com/store/apps/details?id=org.intoorbit.spectrum&hl=en\n",
    "- Audo settings:\n",
    "    - Sampling rate: 48 kHz\n",
    "    - FFT size: 8192 bins (5.9 Hz/bin)\n",
    "    - Decimations: 5 (0.18 Hz/bin @ DC)\n",
    "    - Window function: Hann\n",
    "    - Transform interval: 50 ms\n",
    "    - Exponential smooting factor: 0.5\n",
    "- Fan blade speed and rotational speed (3 blades)\n",
    "    - Speed 1: 57 Hz / 3 = 19 Hz\n",
    "    - Speed 2: 63 Hz / 3 = 21 Hz\n",
    "    - Speed 3: 68 Hz / 3 = 22.7 Hz\n",
    "\n",
    "### Import audio"
   ]
  },
  {
   "cell_type": "code",
   "execution_count": null,
   "metadata": {},
   "outputs": [],
   "source": [
    "import os\n",
    "from scipy.io import wavfile\n",
    "import scipy.io\n",
    "import pandas as pd\n",
    "import matplotlib.pyplot as plt\n",
    "import numpy as np\n",
    "from scipy.signal import find_peaks, welch\n",
    "import seaborn as sb\n",
    "\n",
    "import sys\n",
    "sys.path.append('../')\n",
    "from vibrodiagnostics import pumps, extraction"
   ]
  },
  {
   "cell_type": "code",
   "execution_count": null,
   "metadata": {},
   "outputs": [],
   "source": [
    "PATH = '../datasets/StandingFan'\n",
    "AUDIO_PATH = os.path.join(PATH, 'AUDIO')\n",
    "FFT_WINDOW = 2**15"
   ]
  },
  {
   "cell_type": "code",
   "execution_count": null,
   "metadata": {},
   "outputs": [],
   "source": [
    "def plot_psd(\n",
    "        ax,\n",
    "        ts: pd.Series,\n",
    "        fs: int,\n",
    "        window: int,\n",
    "        threshold: int = None,\n",
    "        xlim: int = 300,\n",
    "        color: bool = True):\n",
    "\n",
    "    freqs, pxx = extraction.spectral_transform(pd.Series(ts), window, fs)\n",
    "    if color:\n",
    "        ax.plot(freqs, pxx, color='darkblue')\n",
    "        ax.fill_between(freqs, pxx, color='lightblue', alpha=0.3)\n",
    "    else:\n",
    "        ax.plot(freqs, pxx)\n",
    "\n",
    "    peaks = []\n",
    "    if threshold:\n",
    "        peaks, _ = find_peaks(pxx, prominence=threshold, distance=10)\n",
    "        ax.plot(freqs[peaks], pxx[peaks], 'o', color='r')\n",
    "    ax.set_xlim(0, xlim)\n",
    "\n",
    "    f = freqs[peaks][0] if len(peaks) > 0 else 0\n",
    "    return f"
   ]
  },
  {
   "cell_type": "code",
   "execution_count": null,
   "metadata": {},
   "outputs": [],
   "source": [
    "audio = []\n",
    "filenames = ('1.wav', '2.wav', '3.wav')\n",
    "\n",
    "for name in filenames:\n",
    "    name = os.path.join(AUDIO_PATH, name)\n",
    "    samplerate, data = wavfile.read(name)\n",
    "    n = data.shape[0]\n",
    "    duration =  n / samplerate\n",
    "    channels = data.shape[1] if len(data.shape) > 1 else 1\n",
    "\n",
    "    audio.append({\n",
    "        'fs': samplerate,\n",
    "        'duration': duration,\n",
    "        'channels': channels,\n",
    "        'n': n,\n",
    "        'stream': pd.Series(data)\n",
    "    })\n",
    "\n",
    "pd.DataFrame.from_records(audio)"
   ]
  },
  {
   "cell_type": "markdown",
   "metadata": {},
   "source": [
    "### Plot audio waveforms"
   ]
  },
  {
   "cell_type": "code",
   "execution_count": null,
   "metadata": {},
   "outputs": [],
   "source": [
    "fig, ax = plt.subplots(3, 2, figsize=(20, 8))\n",
    "for i, s in enumerate(audio):\n",
    "    t = np.linspace(0, s['duration'], s['n'])\n",
    "    ax[i][0].plot(t, s['stream'])\n",
    "\n",
    "    x = 15\n",
    "    d = 0.3\n",
    "    t = np.linspace(x, x + d, int(s['fs'] * d))\n",
    "    y = s['stream'][x * s['fs']: int((x + d) * s['fs'])]\n",
    "    ax[i][1].plot(t, y)\n",
    "\n",
    "    for j in range(2):\n",
    "        ax[i][j].set_xlabel('Time [s]')\n",
    "        ax[i][j].set_ylabel('Amplitude')\n",
    "        ax[i][j].set_title(f'Speed: {i+1}')\n",
    "\n",
    "fig.tight_layout()\n",
    "plt.show()"
   ]
  },
  {
   "cell_type": "markdown",
   "metadata": {},
   "source": [
    "### Plot audio frequency spectrum\n",
    "- Results:\n",
    "    - Speed 1: 19 Hz\n",
    "    - Speed 2: 21 Hz\n",
    "    - Speed 3: 22.5 Hz"
   ]
  },
  {
   "cell_type": "code",
   "execution_count": null,
   "metadata": {},
   "outputs": [],
   "source": [
    "window_size = 2 ** 18\n",
    "blades = 3\n",
    "fig, ax = plt.subplots(3, 1, figsize=(9, 6))\n",
    "for i, s in enumerate(audio):\n",
    "    fundamental = plot_psd(ax[i], s['stream'], s['fs'], window_size, threshold=5000)\n",
    "    resolution = s['fs'] / window_size\n",
    "    speed = fundamental / blades\n",
    "    ax[i].set_title(f'Speed: {i+1}, Rotation: {speed:.4f} +/- {resolution:.4f} Hz')\n",
    "\n",
    "fig.tight_layout()\n",
    "plt.show()"
   ]
  },
  {
   "cell_type": "markdown",
   "metadata": {},
   "source": [
    "#### Open vibration signals from accelerometer"
   ]
  },
  {
   "cell_type": "code",
   "execution_count": null,
   "metadata": {},
   "outputs": [],
   "source": [
    "def load_placement(place: str):\n",
    "    path = os.path.join(PATH, place.upper())\n",
    "    filenames = ('1.tsv', '2.tsv', '3.tsv')\n",
    "    samplerate = pumps.SAMPLING_RATE\n",
    "    accel = []\n",
    "\n",
    "    for name in filenames:\n",
    "        filename = os.path.join(path, name)\n",
    "        ts = pumps.csv_import(None, filename)\n",
    "        n = data.shape[0]\n",
    "        duration =  n / samplerate\n",
    "        channels = data.shape[1] if len(data.shape) > 1 else 1\n",
    "\n",
    "        accel.append({\n",
    "            'speed': name.split('.')[0],\n",
    "            'fs': samplerate,\n",
    "            'duration': ts.tail(1).index.to_list()[0],\n",
    "            'n': len(ts),\n",
    "            'stream': ts\n",
    "        })\n",
    "    return accel"
   ]
  },
  {
   "cell_type": "code",
   "execution_count": null,
   "metadata": {},
   "outputs": [],
   "source": [
    "accel = load_placement('back')   \n",
    "pd.DataFrame.from_records(accel)"
   ]
  },
  {
   "cell_type": "code",
   "execution_count": null,
   "metadata": {},
   "outputs": [],
   "source": [
    "window_size = 2 ** 18\n",
    "blades = 3\n",
    "fig, ax = plt.subplots(3, 1, figsize=(9, 6), sharey=True)\n",
    "for i, s in enumerate(accel):\n",
    "    fundamental = plot_psd(ax[i], s['stream']['x'], s['fs'], window_size, 0.12)\n",
    "    resolution = s['fs'] / window_size\n",
    "    speed = fundamental / blades\n",
    "    ax[i].set_title(f'Speed: {i+1}, Rotation: {speed:.4f} +/- {resolution:.4f} Hz')\n",
    "\n",
    "fig.tight_layout()\n",
    "plt.show()"
   ]
  },
  {
   "cell_type": "code",
   "execution_count": null,
   "metadata": {},
   "outputs": [],
   "source": [
    "# Show Frequency spectrum\n",
    "def position_vs_speed(orientation: int, directions: dict, domain: str):\n",
    "    placements = list(directions.keys())\n",
    "    window_size = FFT_WINDOW\n",
    "    fig, ax = plt.subplots(3, 3, figsize=(20, 10))\n",
    "    data = pd.DataFrame()\n",
    "\n",
    "    for i, place in enumerate(placements):\n",
    "        speeds = load_placement(place)\n",
    "        rotation, axis = list(directions[place][orientation])\n",
    "        rotation = int(rotation + '1')\n",
    "\n",
    "        for j, s in enumerate(speeds):\n",
    "            ts = rotation * s['stream'][axis]\n",
    "            ts = ts.to_numpy() \n",
    "            ts = ts - ts.mean()\n",
    "            \n",
    "            ax[j][i].set_title(f'Position: {place}, Speed: {s[\"speed\"]}')\n",
    "            ax[j][i].set_ylabel('Amplitude [m/s\\u00b2]')\n",
    "\n",
    "            if domain == 'fd':\n",
    "                plot_psd(ax[j][i], ts, s['fs'], window_size, xlim=500)\n",
    "                _, ts = extraction.spectral_transform(pd.Series(ts), window_size, s['fs'])\n",
    "                ax[j][i].set_xlabel('Frequency [Hz]')\n",
    "                data[place, s['speed']] = ts\n",
    "        \n",
    "            elif domain == 'td':\n",
    "                x = 10\n",
    "                d = 0.3\n",
    "                y = ts[x * s['fs']: int((x + d) * s['fs'])]\n",
    "                t = np.linspace(x, x + d, len(y))\n",
    "                ax[j][i].plot(t, y)\n",
    "                ax[j][i].set_xlabel('Time [s]')\n",
    "\n",
    "    fig.tight_layout()\n",
    "    plt.show()\n",
    "    return data\n",
    "\n",
    "def position_vs_speed_no_expand(orientation: int, directions: dict, xlim: int, ylim: int):\n",
    "    placements = list(directions.keys())\n",
    "    window_size = FFT_WINDOW\n",
    "    fig, ax = plt.subplots(1, 3, figsize=(20, 5))\n",
    "    data = pd.DataFrame()\n",
    "\n",
    "    for i, place in enumerate(placements):\n",
    "        speeds = load_placement(place)\n",
    "        rotation, axis = list(directions[place][orientation])\n",
    "        rotation = int(rotation + '1')\n",
    "\n",
    "        for s in speeds:\n",
    "            ts = rotation * s['stream'][axis]\n",
    "            ts = ts.to_numpy() \n",
    "            ts = ts - ts.mean()\n",
    "            \n",
    "            ax[i].set_title(f'Position: {place}')\n",
    "            ax[i].set_ylabel('Amplitude [m/s\\u00b2]')\n",
    "            ax[i].set_xlabel('Frequency [Hz]')\n",
    "            ax[i].set_xlim(0, xlim)\n",
    "            ax[i].set_ylim(0, ylim)\n",
    "\n",
    "            plot_psd(ax[i], ts, s['fs'], window_size, color=False)\n",
    "\n",
    "    fig.tight_layout()\n",
    "    plt.show()"
   ]
  },
  {
   "cell_type": "code",
   "execution_count": null,
   "metadata": {},
   "outputs": [],
   "source": [
    "directions = {\n",
    "    # tangential, radial, axial\n",
    "    'back': ['+x', '+y', '+z'],\n",
    "    'side': ['+x', '-z', '+y'],\n",
    "    'front': ['+x', '-y', '-z'],\n",
    "}"
   ]
  },
  {
   "cell_type": "code",
   "execution_count": null,
   "metadata": {},
   "outputs": [],
   "source": [
    "position_vs_speed(0, directions, 'td')"
   ]
  },
  {
   "cell_type": "code",
   "execution_count": null,
   "metadata": {},
   "outputs": [],
   "source": [
    "position_vs_speed(1, directions, 'td')"
   ]
  },
  {
   "cell_type": "code",
   "execution_count": null,
   "metadata": {},
   "outputs": [],
   "source": [
    "position_vs_speed(2, directions, 'td')"
   ]
  },
  {
   "cell_type": "code",
   "execution_count": null,
   "metadata": {},
   "outputs": [],
   "source": [
    "fd_orient = []\n",
    "fd_orient.append(position_vs_speed(0, directions, 'fd'))"
   ]
  },
  {
   "cell_type": "code",
   "execution_count": null,
   "metadata": {},
   "outputs": [],
   "source": [
    "fd_orient.append(position_vs_speed(1, directions, 'fd'))"
   ]
  },
  {
   "cell_type": "code",
   "execution_count": null,
   "metadata": {},
   "outputs": [],
   "source": [
    "fd_orient.append(position_vs_speed(2, directions, 'fd'))"
   ]
  },
  {
   "cell_type": "code",
   "execution_count": null,
   "metadata": {},
   "outputs": [],
   "source": [
    "position_vs_speed_no_expand(0, directions, xlim=100, ylim=0.10)"
   ]
  },
  {
   "cell_type": "code",
   "execution_count": null,
   "metadata": {},
   "outputs": [],
   "source": [
    "# Heatmap of spectra correlations \n",
    "fig, ax = plt.subplots(1, 3, figsize=(20, 5))\n",
    "for i in range(3):\n",
    "    sb.heatmap(fd_orient[i].corr(), annot=True, ax=ax[i])\n",
    "plt.show()"
   ]
  },
  {
   "cell_type": "code",
   "execution_count": null,
   "metadata": {},
   "outputs": [],
   "source": [
    "# Feature range\n",
    "PARTS = 12\n",
    "def features_time_domain(root: str, parts: int = PARTS) -> pd.DataFrame:\n",
    "    frame = pd.DataFrame()\n",
    "    for filename in extraction.fs_list_files(root):\n",
    "        df = pumps.features_by_domain_no_metadata(\n",
    "            extraction.time_features_calc,\n",
    "            filename,\n",
    "            parts=parts\n",
    "        )\n",
    "        frame = pd.concat([frame, df])\n",
    "    return frame\n",
    "\n",
    "\n",
    "def features_frequency_domain(root: str, parts: int = PARTS) -> pd.DataFrame:\n",
    "    frame = pd.DataFrame()\n",
    "    for filename in extraction.fs_list_files(root):\n",
    "        df = pumps.features_by_domain_no_metadata(\n",
    "            extraction.frequency_features_calc,\n",
    "            filename,\n",
    "            window=FFT_WINDOW,\n",
    "            parts=parts\n",
    "        )\n",
    "        frame = pd.concat([frame, df])\n",
    "    return frame\n",
    "\n",
    "\n",
    "def plot_features_boxplot(df: pd.DataFrame):\n",
    "    fig, ax = plt.subplots(1, len(df.columns), figsize=(20, 4))\n",
    "    for i, col in enumerate(df):\n",
    "        df.boxplot([col], ax=ax[i])\n",
    "    fig.tight_layout()\n",
    "    plt.show()"
   ]
  },
  {
   "cell_type": "code",
   "execution_count": null,
   "metadata": {},
   "outputs": [],
   "source": [
    "df = features_time_domain(PATH)\n",
    "plot_features_boxplot(df)"
   ]
  },
  {
   "cell_type": "code",
   "execution_count": null,
   "metadata": {},
   "outputs": [],
   "source": [
    "df = features_frequency_domain(PATH)\n",
    "plot_features_boxplot(df)"
   ]
  }
 ],
 "metadata": {
  "kernelspec": {
   "display_name": "dp",
   "language": "python",
   "name": "python3"
  },
  "language_info": {
   "codemirror_mode": {
    "name": "ipython",
    "version": 3
   },
   "file_extension": ".py",
   "mimetype": "text/x-python",
   "name": "python",
   "nbconvert_exporter": "python",
   "pygments_lexer": "ipython3",
   "version": "3.11.8"
  }
 },
 "nbformat": 4,
 "nbformat_minor": 2
}
