{
 "cells": [
  {
   "cell_type": "code",
   "execution_count": null,
   "metadata": {},
   "outputs": [],
   "source": [
    "import pandas as pd\n",
    "from river import (\n",
    "    preprocessing,\n",
    "    cluster,\n",
    "    evaluate,\n",
    "    stream,\n",
    "    metrics\n",
    ")\n",
    "from sklearn import metrics as skmetrics\n",
    "import matplotlib.pyplot as plt\n",
    "\n",
    "import sys\n",
    "sys.path.append('../')\n",
    "from vibrodiagnostics import mafaulda"
   ]
  },
  {
   "cell_type": "code",
   "execution_count": null,
   "metadata": {},
   "outputs": [],
   "source": [
    "def run_simulation(X, y):\n",
    "    denstream = (\n",
    "        preprocessing.StandardScaler() | \n",
    "        cluster.DenStream(\n",
    "            decaying_factor=0.01, beta=0.5, mu=2.5, epsilon=0.5, n_samples_init=10\n",
    "        )\n",
    "    )\n",
    "    step = len(X) // 8\n",
    "\n",
    "    labels = []\n",
    "    scores = []\n",
    "\n",
    "    for i, m in enumerate(stream.iter_pandas(X, y)):\n",
    "        x, y = m\n",
    "        y_predict = denstream.predict_one(x)\n",
    "        labels.append(y_predict)\n",
    "        if i > 0 and i % step == 0:\n",
    "            s = skmetrics.silhouette_score(X.iloc[:i+1], labels, metric='euclidean')\n",
    "            scores.append({'step': i, 'score': s})\n",
    "\n",
    "        denstream.learn_one(x)\n",
    "\n",
    "    return scores"
   ]
  },
  {
   "cell_type": "code",
   "execution_count": null,
   "metadata": {},
   "outputs": [],
   "source": [
    "X, _, y, _ = mafaulda.load_source('TD', {'placement': 'A', 'online': True})\n",
    "scores = run_simulation(X, y)\n",
    "success = pd.DataFrame.from_records(scores).set_index('step')\n",
    "success.plot(grid=True, figsize=(20, 5), marker='o', ylabel='Silhouette score', xlabel='Observation')\n",
    "plt.show()"
   ]
  },
  {
   "cell_type": "code",
   "execution_count": null,
   "metadata": {},
   "outputs": [],
   "source": [
    "X, _, y, _ = mafaulda.load_source('FD', {'placement': 'A', 'online': True})\n",
    "scores = run_simulation(X, y)\n",
    "success = pd.DataFrame.from_records(scores).set_index('step')\n",
    "success.plot(grid=True, figsize=(20, 5), marker='o', ylabel='Silhouette score', xlabel='Observation')\n",
    "plt.show()"
   ]
  }
 ],
 "metadata": {
  "kernelspec": {
   "display_name": "dp",
   "language": "python",
   "name": "python3"
  },
  "language_info": {
   "codemirror_mode": {
    "name": "ipython",
    "version": 3
   },
   "file_extension": ".py",
   "mimetype": "text/x-python",
   "name": "python",
   "nbconvert_exporter": "python",
   "pygments_lexer": "ipython3",
   "version": "3.11.8"
  }
 },
 "nbformat": 4,
 "nbformat_minor": 2
}
