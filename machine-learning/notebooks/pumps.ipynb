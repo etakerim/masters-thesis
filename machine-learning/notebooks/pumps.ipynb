{
 "cells": [
  {
   "cell_type": "code",
   "execution_count": null,
   "metadata": {},
   "outputs": [],
   "source": [
    "import os\n",
    "from zipfile import ZipFile\n",
    "import numpy as np\n",
    "import pandas as pd\n",
    "import matplotlib.pyplot as plt\n",
    "from sklearn.preprocessing import PowerTransformer\n",
    "\n",
    "import sys\n",
    "sys.path.append('../')\n",
    "from vibrodiagnostics import (\n",
    "    pumps,\n",
    "    extraction\n",
    ")"
   ]
  },
  {
   "cell_type": "code",
   "execution_count": null,
   "metadata": {},
   "outputs": [],
   "source": [
    "EXTRACT = False\n",
    "PATH = '../datasets'\n",
    "FEATURES_PATH = os.path.join(PATH, 'features')\n",
    "DATASET_PATH = os.path.join(PATH, 'FluidPump.zip')\n",
    "FEATURES = {\n",
    "    'TD': os.path.join(FEATURES_PATH, 'PUMPS_TD.csv'),\n",
    "    'FD': os.path.join(FEATURES_PATH, 'PUMPS_FD.csv'),\n",
    "}\n",
    "PARTS = 12\n",
    "FFT_WINDOW = 2**14"
   ]
  },
  {
   "cell_type": "code",
   "execution_count": null,
   "metadata": {},
   "outputs": [],
   "source": [
    "def features_time_domain(dataset: ZipFile, filename: str, parts: int = PARTS) -> pd.DataFrame:\n",
    "    return pumps.features_by_domain(extraction.time_features_calc, dataset, filename, parts=parts)\n",
    "\n",
    "\n",
    "def features_frequency_domain(dataset: ZipFile, filename: str, parts: int = PARTS) -> pd.DataFrame:\n",
    "    return pumps.features_by_domain(extraction.frequency_features_calc, dataset, filename, window=FFT_WINDOW, parts=parts)"
   ]
  },
  {
   "cell_type": "code",
   "execution_count": null,
   "metadata": {},
   "outputs": [],
   "source": [
    "if EXTRACT is True:\n",
    "    features = extraction.load_files_split(ZipFile(DATASET_PATH), features_time_domain)\n",
    "    features.to_csv(FEATURES['TD'], index=False)\n",
    "else:\n",
    "    features = pd.read_csv(FEATURES['TD'])\n",
    "features"
   ]
  },
  {
   "cell_type": "code",
   "execution_count": null,
   "metadata": {},
   "outputs": [],
   "source": [
    "if EXTRACT is True:\n",
    "    features = extraction.load_files_split(ZipFile(DATASET_PATH), features_frequency_domain)\n",
    "    features.to_csv(FEATURES['FD'], index=False)\n",
    "else:\n",
    "    features = pd.read_csv(FEATURES['FD'])\n",
    "features"
   ]
  },
  {
   "cell_type": "code",
   "execution_count": null,
   "metadata": {},
   "outputs": [],
   "source": [
    "# Label counts\n",
    "features[['device', 'position']].value_counts().to_frame()"
   ]
  },
  {
   "cell_type": "code",
   "execution_count": null,
   "metadata": {},
   "outputs": [],
   "source": [
    "datasets = []\n",
    "domains = ('TD', 'FD')\n",
    "dimensions = (1, 3)\n",
    "columns = {\n",
    "    1: ['z'],\n",
    "    3: pumps.BEARINGS_COLUMNS\n",
    "}\n",
    "\n",
    "for domain in domains:\n",
    "    for dim in dimensions:\n",
    "        df = extraction.load_features(FEATURES[domain], columns[dim], pumps.LABEL_COLUMNS)\n",
    "        df = pumps.assign_labels(df)\n",
    "        datasets.append({'domain': domain, 'dim': dim, 'data': df})\n",
    "\n",
    "datasets_domains = pd.DataFrame.from_records(datasets)\n",
    "datasets_domains"
   ]
  },
  {
   "cell_type": "code",
   "execution_count": null,
   "metadata": {},
   "outputs": [],
   "source": [
    "# Range of values in features\n",
    "for row in datasets:\n",
    "    df = row['data'].drop(columns=['label'])\n",
    "\n",
    "    # ? group by according to label\n",
    "    fig, ax = plt.subplots(1, len(df.columns), figsize=(20, 4))\n",
    "    print(row['domain'], row['dim'])\n",
    "    for i, col in enumerate(df):\n",
    "        df.boxplot([col], ax=ax[i])\n",
    "    fig.tight_layout()\n",
    "    plt.show()"
   ]
  },
  {
   "cell_type": "code",
   "execution_count": null,
   "metadata": {},
   "outputs": [],
   "source": [
    "# Range of values in features - Power transform\n",
    "for row in datasets:\n",
    "    df = row['data'].drop(columns=['label'])\n",
    "\n",
    "    pt = PowerTransformer(method='yeo-johnson', standardize=True)\n",
    "    df[df.columns] = pt.fit_transform(df)\n",
    "\n",
    "    fig, ax = plt.subplots(1, len(df.columns), figsize=(20, 4))\n",
    "    print(row['domain'], row['dim'])\n",
    "    for i, col in enumerate(df):\n",
    "        df.boxplot([col], ax=ax[i])\n",
    "    fig.tight_layout()\n",
    "    plt.show()"
   ]
  }
 ],
 "metadata": {
  "kernelspec": {
   "display_name": "dp",
   "language": "python",
   "name": "python3"
  },
  "language_info": {
   "codemirror_mode": {
    "name": "ipython",
    "version": 3
   },
   "file_extension": ".py",
   "mimetype": "text/x-python",
   "name": "python",
   "nbconvert_exporter": "python",
   "pygments_lexer": "ipython3",
   "version": "3.11.8"
  }
 },
 "nbformat": 4,
 "nbformat_minor": 2
}
