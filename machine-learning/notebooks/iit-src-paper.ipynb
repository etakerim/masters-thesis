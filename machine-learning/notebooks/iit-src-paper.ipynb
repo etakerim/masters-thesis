{
 "cells": [
  {
   "cell_type": "markdown",
   "metadata": {},
   "source": [
    "##### k-Nearest Neighbors with different feature sets\n",
    "Fixed oversampling on training set only, not on validation set when compared to original paper"
   ]
  },
  {
   "cell_type": "code",
   "execution_count": null,
   "metadata": {},
   "outputs": [],
   "source": [
    "USE_ONE_AXIS = False  # False, True\n",
    "MAFAULDA_LABEL_METHODS = ['bearing-A', 'all-bearings', 'severity']\n",
    "MAFAULDA_LABEL_METHOD = MAFAULDA_LABEL_METHODS[1]"
   ]
  },
  {
   "cell_type": "code",
   "execution_count": null,
   "metadata": {},
   "outputs": [],
   "source": [
    "import os\n",
    "import re\n",
    "from zipfile import ZipFile\n",
    "from typing import Tuple\n",
    "\n",
    "import pandas as pd\n",
    "import numpy as np\n",
    "import seaborn as sb\n",
    "import matplotlib.pyplot as plt\n",
    "\n",
    "from sklearn.preprocessing import MinMaxScaler\n",
    "from sklearn.decomposition import PCA\n",
    "from sklearn.model_selection import KFold\n",
    "\n",
    "import sys\n",
    "sys.path.append('../')\n",
    "from vibrodiagnostics import (\n",
    "    mafaulda, \n",
    "    pumps,\n",
    "    extraction,\n",
    "    ranking,\n",
    "    visualize,\n",
    "    models\n",
    ")\n",
    "\n",
    "plt.rcParams.update({'font.size': 14})"
   ]
  },
  {
   "cell_type": "code",
   "execution_count": null,
   "metadata": {},
   "outputs": [],
   "source": [
    "MODEL_TYPE = 'knn'          # 'lda', 'bayes', 'svm' \n",
    "KNN_METRIC = 'euclidean'    # 'cityblock', 'cosine'\n",
    "FFT_WINDOW = 2 ** 15\n",
    "GENERATE = True\n",
    "\n",
    "PATH = '../datasets/'\n",
    "FEATURES_PATH = os.path.join(PATH, 'features')\n",
    "MAFAULDA_PATH = os.path.join(PATH, 'MAFAULDA.zip')\n",
    "PUMPS_PATH = os.path.join(PATH, 'FluidPump.zip')\n",
    "MAFAULDA_TEMPORAL = os.path.join(FEATURES_PATH, 'MAFAULDA_TD.csv')\n",
    "MAFAULDA_SPECTRAL = os.path.join(FEATURES_PATH, 'MAFAULDA_FD.csv')"
   ]
  },
  {
   "cell_type": "markdown",
   "metadata": {},
   "source": [
    "#### Feature analysis:\n",
    "Mafaulda (3) a Custom (4) \n",
    "- 1 ks table (how many faults have how many recordings)\n",
    "- 1 ks plot (2 lines TD, FD) - number of PC vs. explained variance\n",
    "- 1 ks plot (2x subplots TD, FD) - loading plot (PC2)\n",
    "- 1 ks (4 subplots) custom: all machines, pumps, compressors, motors"
   ]
  },
  {
   "cell_type": "markdown",
   "metadata": {},
   "source": [
    "##### 1. Explained varianace by PCA components and loading plots"
   ]
  },
  {
   "cell_type": "code",
   "execution_count": null,
   "metadata": {},
   "outputs": [],
   "source": [
    "def explained_variance(X):\n",
    "    x_scaled = pd.DataFrame()\n",
    "    x_scaled[X.columns] = MinMaxScaler().fit_transform(X)\n",
    "    pca= PCA(n_components=10)\n",
    "    X_pca = pca.fit_transform(x_scaled)\n",
    "    return pca.explained_variance_ratio_\n",
    "\n",
    "\n",
    "def get_principal_components(X):\n",
    "    x_scaled = pd.DataFrame()\n",
    "    x_scaled[X.columns] = MinMaxScaler().fit_transform(X)\n",
    "    pca= PCA(n_components=2)\n",
    "    X_pca = pca.fit_transform(x_scaled)\n",
    "    return pca.components_"
   ]
  },
  {
   "cell_type": "markdown",
   "metadata": {},
   "source": [
    "MaFaulDa"
   ]
  },
  {
   "cell_type": "code",
   "execution_count": null,
   "metadata": {},
   "outputs": [],
   "source": [
    "dmafaulda = {\n",
    "    'TD': MAFAULDA_TEMPORAL,\n",
    "    'FD': MAFAULDA_SPECTRAL,\n",
    "    'axis': ['ax', 'ay', 'az'],\n",
    "    'labels': ['fault', 'severity', 'rpm'],\n",
    "    'one-axis': ['ay']\n",
    "}\n",
    "\n",
    "if USE_ONE_AXIS:\n",
    "    axis = dmafaulda['one-axis']\n",
    "else:\n",
    "    axis = dmafaulda['axis']\n",
    "\n",
    "dmafaulda['TDx'] = extraction.load_features(dmafaulda['TD'], axis, dmafaulda['labels'])\n",
    "dmafaulda['FDx'] = extraction.load_features(dmafaulda['FD'], axis, dmafaulda['labels'])"
   ]
  },
  {
   "cell_type": "code",
   "execution_count": null,
   "metadata": {},
   "outputs": [],
   "source": [
    "# Labeling\n",
    "if MAFAULDA_LABEL_METHOD == 'bearing-A':\n",
    "    dmafaulda['TDx'] = mafaulda.assign_labels(dmafaulda['TDx'], 'A')\n",
    "    dmafaulda['FDx'] = mafaulda.assign_labels(dmafaulda['FDx'], 'A')\n",
    "\n",
    "elif MAFAULDA_LABEL_METHOD == 'all-bearings':\n",
    "    dmafaulda['TDx'] = mafaulda.assign_labels(dmafaulda['TDx'], None)\n",
    "    dmafaulda['FDx'] = mafaulda.assign_labels(dmafaulda['FDx'], None)\n",
    "\n",
    "elif MAFAULDA_LABEL_METHOD == 'severity':\n",
    "    dmafaulda['TDx'] = mafaulda.label_severity(dmafaulda['TDx'], None, 0.5)\n",
    "    dmafaulda['FDx'] = mafaulda.label_severity(dmafaulda['FDx'], None, 0.5)"
   ]
  },
  {
   "cell_type": "code",
   "execution_count": null,
   "metadata": {},
   "outputs": [],
   "source": [
    "# Count classes\n",
    "counts = dmafaulda['TDx']['label'].value_counts().to_frame()\n",
    "counts['freq'] = (counts['count'] / counts['count'].sum()) * 100\n",
    "counts"
   ]
  },
  {
   "cell_type": "code",
   "execution_count": null,
   "metadata": {},
   "outputs": [],
   "source": [
    "# Explained variance\n",
    "td = dmafaulda['TDx'].drop(columns=['label'])\n",
    "td_variance = explained_variance(td)\n",
    "fd = dmafaulda['FDx'].drop(columns=['label'])\n",
    "fd_variance = explained_variance(fd)\n",
    "visualize.plot_cumulative_explained_variance(td_variance, fd_variance)"
   ]
  },
  {
   "cell_type": "code",
   "execution_count": null,
   "metadata": {},
   "outputs": [],
   "source": [
    "# Loading plots\n",
    "td = dmafaulda['TDx'].drop(columns=['label'])\n",
    "td_pc = get_principal_components(td)\n",
    "visualize.loading_plot(td_pc, td.columns, -0.8, 0.8)\n",
    "\n",
    "fd = dmafaulda['FDx'].drop(columns=['label'])\n",
    "fd_pc = get_principal_components(fd)\n",
    "visualize.loading_plot(fd_pc, fd.columns, -0.8, 0.8)"
   ]
  },
  {
   "cell_type": "markdown",
   "metadata": {},
   "source": [
    "Fluid pumps"
   ]
  },
  {
   "cell_type": "code",
   "execution_count": null,
   "metadata": {},
   "outputs": [],
   "source": [
    "# pump dataset (all devices, each type - pump, motor, compressor)\n",
    "FEATURES_PATH = '../datasets/features'\n",
    "dpump = {\n",
    "    'TD': os.path.join(FEATURES_PATH, 'PUMPS_TD.csv'),\n",
    "    'FD': os.path.join(FEATURES_PATH, 'PUMPS_FD.csv'),\n",
    "    'axis': ('x', 'y', 'z'),\n",
    "    'labels': ['date', 'device', 'position'],\n",
    "    'one-axis': 'z'\n",
    "}\n",
    "\n",
    "if USE_ONE_AXIS:\n",
    "    axis = dpump['axis']\n",
    "else:\n",
    "    axis = dpump['one-axis']\n",
    "\n",
    "dpump['TDx'] = extraction.load_features(dpump['TD'], axis, dpump['labels'])\n",
    "dpump['FDx'] = extraction.load_features(dpump['FD'], axis, dpump['labels'])"
   ]
  },
  {
   "cell_type": "code",
   "execution_count": null,
   "metadata": {},
   "outputs": [],
   "source": [
    "# Class count\n",
    "machines = {\n",
    "    'KSB1': {\n",
    "        'MTR001': 'M1',\n",
    "        'MTR002': 'M1',\n",
    "        'PMP003': 'P1',\n",
    "        'PMP004': 'P1'\n",
    "    },\n",
    "    'KSB7': {\n",
    "        'MTR001': 'M2',\n",
    "        'MTR002': 'M2',\n",
    "        'PMP003': 'P2',\n",
    "        'PMP004': 'P2'\n",
    "    },\n",
    "    'Sigma': {\n",
    "        'MTR001': 'M3',\n",
    "        'MTR002': 'M3',\n",
    "        'PMP003': 'P3',\n",
    "        'PMP004': 'P3'\n",
    "    },\n",
    "    'K3': {\n",
    "        '001': 'C1',\n",
    "        '002': 'C1'\n",
    "    },\n",
    "    'K5': {\n",
    "        '001': 'C2',\n",
    "        '002': 'C2'\n",
    "    }\n",
    "}\n",
    "dpump['TDm'] = pumps.get_classes(dpump['TDx'], machines)\n",
    "dpump['FDm'] = pumps.get_classes(dpump['FDx'], machines) "
   ]
  },
  {
   "cell_type": "code",
   "execution_count": null,
   "metadata": {},
   "outputs": [],
   "source": [
    "counts = dpump['TDm']['label'].value_counts().to_frame()\n",
    "counts['freq'] = (counts['count'] / counts['count'].sum()) * 100\n",
    "counts"
   ]
  },
  {
   "cell_type": "code",
   "execution_count": null,
   "metadata": {},
   "outputs": [],
   "source": [
    "# Motor and pump only\n",
    "# Label by device\n",
    "labels_machines = {\n",
    "    'KSB1': {\n",
    "        'MTR001': 'M1',\n",
    "        'MTR002': 'M1',\n",
    "        'PMP003': 'P1',\n",
    "        'PMP004': 'P1'\n",
    "    },\n",
    "    'KSB7': {\n",
    "        'MTR001': 'M2',\n",
    "        'MTR002': 'M2',\n",
    "        'PMP003': 'P2',\n",
    "        'PMP004': 'P2'\n",
    "    }\n",
    "}\n",
    "dpump['TDpmp'] = pumps.get_classes(dpump['TDx'], labels_machines)\n",
    "dpump['FDpmp'] = pumps.get_classes(dpump['FDx'], labels_machines) "
   ]
  },
  {
   "cell_type": "code",
   "execution_count": null,
   "metadata": {},
   "outputs": [],
   "source": [
    "# Label by postion\n",
    "label_positions = {\n",
    "    'KSB1': {\n",
    "        'MTR001': 'M1-1',\n",
    "        'MTR002': 'M1-2',\n",
    "        'PMP003': 'P1-3',\n",
    "        'PMP004': 'P1-4'\n",
    "    },\n",
    "    'KSB7': {\n",
    "        'MTR001': 'M2-1',\n",
    "        'MTR002': 'M2-2',\n",
    "        'PMP003': 'P2-3',\n",
    "        'PMP004': 'P2-4'\n",
    "    }\n",
    "}\n",
    "dpump['TDpos'] = pumps.get_classes(dpump['TDx'], label_positions)\n",
    "dpump['FDpos'] = pumps.get_classes(dpump['FDx'], label_positions) "
   ]
  },
  {
   "cell_type": "code",
   "execution_count": null,
   "metadata": {},
   "outputs": [],
   "source": [
    "td_variance = explained_variance(dpump['TDm'].drop(columns=['label']))\n",
    "fd_variance = explained_variance(dpump['FDm'].drop(columns=['label']))\n",
    "visualize.plot_cumulative_explained_variance(td_variance, fd_variance)"
   ]
  },
  {
   "cell_type": "code",
   "execution_count": null,
   "metadata": {},
   "outputs": [],
   "source": [
    "# Loading plots\n",
    "td = dpump['TDm'].drop(columns=['label'])\n",
    "td_pc = get_principal_components(td)\n",
    "visualize.loading_plot(td_pc, td.columns, -0.5, 1)\n",
    "\n",
    "fd = dpump['FDm'].drop(columns=['label'])\n",
    "fd_pc = get_principal_components(fd)\n",
    "visualize.loading_plot(fd_pc, fd.columns, -0.5, 1)"
   ]
  },
  {
   "cell_type": "code",
   "execution_count": null,
   "metadata": {},
   "outputs": [],
   "source": [
    "dpump['TDm']"
   ]
  },
  {
   "cell_type": "code",
   "execution_count": null,
   "metadata": {},
   "outputs": [],
   "source": [
    "# Split by machine\n",
    "classes = [\n",
    "    ['C1', 'C2'],\n",
    "    ['M1', 'M2'],\n",
    "    ['P1', 'P2']\n",
    "]\n",
    "\n",
    "for c in classes:\n",
    "    print(c)\n",
    "    td = dpump['TDm'][dpump['TDm']['label'].isin(c)].drop(columns=['label'])\n",
    "    fd = dpump['FDm'][dpump['FDm']['label'].isin(c)].drop(columns=['label'])\n",
    "    td_variance = explained_variance(td)\n",
    "    fd_variance = explained_variance(fd)\n",
    "    visualize.plot_cumulative_explained_variance(td_variance, fd_variance)\n",
    "\n",
    "    td_pc = get_principal_components(td)\n",
    "    fd_pc = get_principal_components(fd)\n",
    "    visualize.loading_plot(td_pc, td.columns, -0.8, 0.8)\n",
    "    visualize.loading_plot(fd_pc, fd.columns, -0.8, 0.8)"
   ]
  },
  {
   "cell_type": "markdown",
   "metadata": {},
   "source": [
    "##### Scatter plots of labels after PCA\n",
    "- 1 ks (5 subplots) scatter: mafaulda, all machines, pumps, compressors, motors"
   ]
  },
  {
   "cell_type": "code",
   "execution_count": null,
   "metadata": {},
   "outputs": [],
   "source": [
    "# Mafaulda time domain\n",
    "td_label = dmafaulda['TDx']['label']\n",
    "td = dmafaulda['TDx'].drop(columns=['label'])\n",
    "\n",
    "visualize.project_classes(td, td_label, boundary=True)\n",
    "visualize.project_classes_3d(td, td_label)"
   ]
  },
  {
   "cell_type": "code",
   "execution_count": null,
   "metadata": {},
   "outputs": [],
   "source": [
    "# Mafaulda frequency domain\n",
    "fd_label = dmafaulda['FDx']['label']\n",
    "fd = dmafaulda['FDx'].drop(columns=['label'])\n",
    "\n",
    "visualize.project_classes(fd, fd_label, boundary=True)\n",
    "visualize.project_classes_3d(fd, fd_label)"
   ]
  },
  {
   "cell_type": "markdown",
   "metadata": {},
   "source": [
    "#### Classification accuracy \n",
    "- choices of k. and feat. count, 5-fold cross validation\n",
    "\n",
    "- All features \n",
    "    - for mafaulda and custom (which classes - all or just one machine)\n",
    "    - 1 ks All features (2x subplots TD, FD)\n",
    "\t    - Each lineplot (k = 3,5,7)"
   ]
  },
  {
   "cell_type": "code",
   "execution_count": null,
   "metadata": {},
   "outputs": [],
   "source": [
    "results = []\n",
    "feature_sets_y = None\n",
    "feature_sets = []\n",
    "for domain in ('TDx', 'FDx'):\n",
    "    y = dmafaulda[domain]['label']\n",
    "    x = dmafaulda[domain].drop(columns=['label'])\n",
    "    feature_sets.append(x)\n",
    "    feature_sets_y = y\n",
    "    r = models.all_features(x, y, MODEL_TYPE)\n",
    "    results.append(r)\n",
    "\n",
    "visualize.plot_all_knn(*results)"
   ]
  },
  {
   "cell_type": "markdown",
   "metadata": {},
   "source": [
    "- All models (Exhausive) \n",
    "    - draw rank, corr, f-stat, mi as horizontal line\n",
    "    - 3 ks plots (2, 3, 4 features)\n",
    "\t    - Each plot 2 boxplot subplots (TD, FD) - k-neigh. vs. accuracy of all models"
   ]
  },
  {
   "cell_type": "code",
   "execution_count": null,
   "metadata": {},
   "outputs": [],
   "source": [
    "domains = dict(zip(['TD', 'FD'], feature_sets))\n",
    "filename = os.path.join(FEATURES_PATH, f'paper_model_brute_force#{MAFAULDA_LABEL_METHOD}#{USE_ONE_AXIS}.csv')\n",
    "models_summary = []\n",
    "results = []\n",
    "\n",
    "if GENERATE is True:\n",
    "    for domain_name, domain in domains.items():\n",
    "        r = models.enumerate_models(\n",
    "            domain,\n",
    "            feature_sets_y,\n",
    "            domain_name,\n",
    "            model=MODEL_TYPE\n",
    "        )\n",
    "        models_summary.append(r)\n",
    "\n",
    "    mafaulda_models_summary = pd.concat(models_summary)\n",
    "    mafaulda_models_summary.to_csv(filename, index=False)\n",
    "else:\n",
    "    mafaulda_models_summary = pd.read_csv(filename)"
   ]
  },
  {
   "cell_type": "code",
   "execution_count": null,
   "metadata": {},
   "outputs": [],
   "source": [
    "mafaulda_models_summary"
   ]
  },
  {
   "cell_type": "code",
   "execution_count": null,
   "metadata": {},
   "outputs": [],
   "source": [
    "visualize.boxplot_enumerate_models_accuracy(mafaulda_models_summary, 'train', 'f', 'k')"
   ]
  },
  {
   "cell_type": "code",
   "execution_count": null,
   "metadata": {},
   "outputs": [],
   "source": [
    "visualize.boxplot_enumerate_models_accuracy(mafaulda_models_summary, 'test', 'f', 'k')"
   ]
  },
  {
   "cell_type": "code",
   "execution_count": null,
   "metadata": {},
   "outputs": [],
   "source": [
    "visualize.boxplot_enumerate_models_accuracy(mafaulda_models_summary, 'train', 'k', 'f')"
   ]
  },
  {
   "cell_type": "code",
   "execution_count": null,
   "metadata": {},
   "outputs": [],
   "source": [
    "visualize.boxplot_enumerate_models_accuracy(mafaulda_models_summary, 'test', 'k', 'f')"
   ]
  },
  {
   "cell_type": "markdown",
   "metadata": {},
   "source": [
    "- Compare accuracies of best models in each categories for given number of features and k:\n",
    "    - 1 ks plot - bar chart - color rainbow - one x (td), second x (fd)\n",
    "    - Scores side by side (bar chart)\n",
    "    - best permuted, pca, rank product, corr, fstat, mi"
   ]
  },
  {
   "cell_type": "code",
   "execution_count": null,
   "metadata": {},
   "outputs": [],
   "source": [
    "domains = dict(zip(['TD', 'FD'], feature_sets))\n",
    "results = []\n",
    "\n",
    "filename = os.path.join(FEATURES_PATH, 'paper_model_brute_force.csv')\n",
    "mafaulda_models_summary = pd.read_csv(filename)\n",
    "\n",
    "for domain_name, domain in domains.items():\n",
    "    r = models.feature_selection_accuracies(\n",
    "        domain,\n",
    "        feature_sets_y,\n",
    "        domain_name,\n",
    "        mafaulda_models_summary\n",
    "    )\n",
    "    results.extend(r)\n",
    "\n",
    "results = pd.DataFrame(results)\n",
    "visualize.plot_models_performance_bar(results)"
   ]
  },
  {
   "cell_type": "code",
   "execution_count": null,
   "metadata": {},
   "outputs": [],
   "source": [
    "results"
   ]
  },
  {
   "cell_type": "code",
   "execution_count": null,
   "metadata": {},
   "outputs": [],
   "source": [
    "X = feature_sets[0]\n",
    "Y = feature_sets_y\n",
    "features = models.find_best_subset(X, Y, 'rank')\n",
    "visualize.scatter_features_3d(X, Y, list(features), boundary=True)"
   ]
  },
  {
   "cell_type": "code",
   "execution_count": null,
   "metadata": {},
   "outputs": [],
   "source": [
    "X = feature_sets[1]\n",
    "Y = feature_sets_y\n",
    "features = models.find_best_subset(X, Y, 'rank')\n",
    "visualize.scatter_features_3d(X, Y, list(features), boundary=True)"
   ]
  },
  {
   "cell_type": "markdown",
   "metadata": {},
   "source": [
    "3d plot"
   ]
  },
  {
   "cell_type": "code",
   "execution_count": null,
   "metadata": {},
   "outputs": [],
   "source": [
    "X = feature_sets[0]\n",
    "Y = feature_sets_y\n",
    "features = models.find_best_subset(X, Y, 'rank')\n",
    "visualize.scatter_features_3d_plot(X, Y, list(features))"
   ]
  },
  {
   "cell_type": "code",
   "execution_count": null,
   "metadata": {},
   "outputs": [],
   "source": [
    "X = feature_sets[1]\n",
    "Y = feature_sets_y\n",
    "features = models.find_best_subset(X, Y, 'rank')\n",
    "visualize.scatter_features_3d_plot(X, Y, list(features))"
   ]
  }
 ],
 "metadata": {
  "kernelspec": {
   "display_name": "Python 3 (ipykernel)",
   "language": "python",
   "name": "python3"
  },
  "language_info": {
   "codemirror_mode": {
    "name": "ipython",
    "version": 3
   },
   "file_extension": ".py",
   "mimetype": "text/x-python",
   "name": "python",
   "nbconvert_exporter": "python",
   "pygments_lexer": "ipython3",
   "version": "3.11.8"
  }
 },
 "nbformat": 4,
 "nbformat_minor": 4
}
