{
 "cells": [
  {
   "cell_type": "markdown",
   "metadata": {},
   "source": [
    "##### k-Nearest Neighbors with different feature sets"
   ]
  },
  {
   "cell_type": "code",
   "execution_count": null,
   "metadata": {},
   "outputs": [],
   "source": [
    "USE_ONE_AXIS = False  # False, True\n",
    "MAFAULDA_LABEL_METHODS = ['bearing-A', 'all-bearings', 'severity']\n",
    "MAFAULDA_LABEL_METHOD = MAFAULDA_LABEL_METHODS[0]"
   ]
  },
  {
   "cell_type": "code",
   "execution_count": null,
   "metadata": {},
   "outputs": [],
   "source": [
    "import os\n",
    "import re\n",
    "from zipfile import ZipFile\n",
    "from typing import Tuple\n",
    "\n",
    "import pandas as pd\n",
    "import numpy as np\n",
    "import seaborn as sb\n",
    "import matplotlib.pyplot as plt\n",
    "from adjustText import adjust_text\n",
    "\n",
    "from sklearn.preprocessing import MinMaxScaler\n",
    "from sklearn.decomposition import PCA\n",
    "from sklearn.model_selection import KFold\n",
    "\n",
    "#import mafaulda\n",
    "import pumps\n",
    "import extraction\n",
    "import ranking\n",
    "import visualize\n",
    "import models\n",
    "\n",
    "plt.rcParams.update({'font.size': 14})"
   ]
  },
  {
   "cell_type": "code",
   "execution_count": null,
   "metadata": {},
   "outputs": [],
   "source": [
    "MODEL_TYPE = 'knn'          # 'lda', 'bayes', 'svm' \n",
    "KNN_METRIC = 'euclidean'    # 'cityblock', 'cosine'\n",
    "FFT_WINDOW = 2 ** 15\n",
    "\n",
    "PATH = '../datasets/'\n",
    "FEATURES_PATH = os.path.join(PATH, 'features')\n",
    "MAFAULDA_PATH = os.path.join(PATH, 'MAFAULDA.zip')\n",
    "PUMPS_PATH = os.path.join(PATH, 'FluidPump.zip')\n",
    "MAFAULDA_TEMPORAL = os.path.join(FEATURES_PATH, 'MAFAULDA_TD.csv')\n",
    "MAFAULDA_SPECTRAL = os.path.join(FEATURES_PATH, 'MAFAULDA_FD.csv')"
   ]
  },
  {
   "cell_type": "markdown",
   "metadata": {},
   "source": [
    "#### Feature analysis:\n",
    "Mafaulda (3) a Custom (4) \n",
    "- 1 ks table (how many faults have how many recordings)\n",
    "- 1 ks plot (2 lines TD, FD) - number of PC vs. explained variance\n",
    "- 1 ks plot (2x subplots TD, FD) - loading plot (PC2)\n",
    "- 1 ks (4 subplots) custom: all machines, pumps, compressors, motors"
   ]
  },
  {
   "cell_type": "markdown",
   "metadata": {},
   "source": [
    "##### 1. Explained varinace by PCA components and loading plots"
   ]
  },
  {
   "cell_type": "code",
   "execution_count": null,
   "metadata": {},
   "outputs": [],
   "source": [
    "def load_whole_dataset(dataset: dict, domain: str):\n",
    "    axis = dataset['axis']\n",
    "    label_cols = dataset['labels']\n",
    "    filename = dataset[domain]\n",
    "\n",
    "    features = pd.read_csv(filename)\n",
    "\n",
    "    columns = features.columns.str.startswith(axis)\n",
    "    X = features[features.columns[columns]]\n",
    "    if label_cols is not None:\n",
    "        Y = features[label_cols]\n",
    "    else:\n",
    "        Y = pd.DataFrame()\n",
    "\n",
    "    names = X.columns.str.extract(r'([a-z]+)_([a-z\\_\\-]+)')[1].unique()\n",
    "    feature_names = [f'{domain}_{col.strip(\"_\")}' for col in names if not pd.isnull(col)]\n",
    "\n",
    "    result = pd.DataFrame()\n",
    "    for name in feature_names:              \n",
    "        name = re.search(r'[a-z]+_([\\w\\_]+)', name).group(1)\n",
    "        \n",
    "        if USE_ONE_AXIS:\n",
    "            dim = dataset['one-axis']\n",
    "            result[name] = X[f'{dim}_{name}']\n",
    "        else:\n",
    "            vector_dims = [f'{dim}_{name}' for dim in axis]\n",
    "            result[name] = X[vector_dims].apply(np.linalg.norm, axis=1)\n",
    "    X = result\n",
    "    return X, Y\n",
    "\n",
    "\n",
    "def explained_variance(X):\n",
    "    x_scaled = pd.DataFrame()\n",
    "    x_scaled[X.columns] = MinMaxScaler().fit_transform(X)\n",
    "    pca= PCA(n_components=10)\n",
    "    X_pca = pca.fit_transform(x_scaled)\n",
    "    return pca.explained_variance_ratio_\n",
    "\n",
    "\n",
    "def get_principal_components(X):\n",
    "    x_scaled = pd.DataFrame()\n",
    "    x_scaled[X.columns] = MinMaxScaler().fit_transform(X)\n",
    "    pca= PCA(n_components=2)\n",
    "    X_pca = pca.fit_transform(x_scaled)\n",
    "    return pca.components_\n",
    "\n",
    "\n",
    "def plot_cumulative_explained_variance(td_variance, fd_variance):\n",
    "    fig, ax = plt.subplots(figsize=(8, 4))\n",
    "    ax.plot(\n",
    "        np.arange(1, len(td_variance) + 1),\n",
    "        100 * np.cumsum(td_variance), \n",
    "        marker='s', label='Temporal features'\n",
    "    )\n",
    "    ax.plot(\n",
    "        np.arange(1, len(fd_variance) + 1), \n",
    "        100 * np.cumsum(fd_variance),\n",
    "        marker='s', label='Spectral features'\n",
    "    )\n",
    "    ax.set_xlabel('Number of principal components')\n",
    "    ax.set_ylabel('Explained variance [%]')\n",
    "    ax.grid()\n",
    "    ax.legend()\n",
    "    plt.show()\n",
    "\n",
    "\n",
    "def loading_plot(loadings, feature_names, bottom, top):\n",
    "    xs = loadings[0]\n",
    "    ys = loadings[1]\n",
    "\n",
    "    texts = []\n",
    "    # Plot the loadings on a scatterplot\n",
    "    for i, varnames in enumerate(feature_names):\n",
    "        plt.arrow(\n",
    "            0, 0,   # coordinates of arrow base\n",
    "            xs[i],  # length of the arrow along x\n",
    "            ys[i],  # length of the arrow along y\n",
    "            color='r', \n",
    "            head_width=0.01\n",
    "        )\n",
    "        texts.append(plt.text(xs[i], ys[i], varnames))\n",
    "\n",
    "    # Define the axis\n",
    "    adjust_text(texts, only_move={'points':'y', 'texts':'y'})\n",
    "    plt.xlabel('PC1')\n",
    "    plt.ylabel('PC2')\n",
    "    plt.xlim(bottom, top)\n",
    "    plt.ylim(bottom, top)\n",
    "    plt.grid()\n",
    "    plt.show()"
   ]
  },
  {
   "cell_type": "markdown",
   "metadata": {},
   "source": [
    "MaFaulDa"
   ]
  },
  {
   "cell_type": "code",
   "execution_count": null,
   "metadata": {},
   "outputs": [],
   "source": [
    "FEATURES_PATH = '../datasets/features'\n",
    "mafaulda = {\n",
    "    'temporal': MAFAULDA_TEMPORAL,\n",
    "    'spectral': MAFAULDA_SPECTRAL,\n",
    "    'axis': ('ax', 'ay', 'az'),\n",
    "    'labels': ['fault', 'severity', 'rpm'],\n",
    "    'one-axis': 'ay'\n",
    "}\n",
    "\n",
    "mafaulda['X_td'], mafaulda['Y'] = load_whole_dataset(mafaulda, 'temporal')\n",
    "mafaulda['X_fd'], mafaulda['Y'] = load_whole_dataset(mafaulda, 'spectral')"
   ]
  },
  {
   "cell_type": "code",
   "execution_count": null,
   "metadata": {},
   "outputs": [],
   "source": [
    "# Class count\n",
    "# 1) Label independently\n",
    "faults = {\n",
    "    'normal': 'normal',\n",
    "    'imbalance': 'imbalance',\n",
    "    'horizontal-misalignment': 'misalignment',\n",
    "    'vertical-misalignment': 'misalignment',\n",
    "    'underhang-outer_race': 'outer race fault',\n",
    "    'underhang-cage_fault': 'cage fault',\n",
    "    'underhang-ball_fault': 'ball fault',\n",
    "    'overhang-outer_race': 'outer race fault',\n",
    "    'overhang-cage_fault': 'cage fault',\n",
    "    'overhang-ball_fault': 'ball fault'\n",
    "}\n",
    "\n",
    "bearing_faults = {\n",
    "    'A': {\n",
    "        'normal': 'normal',\n",
    "        'imbalance': 'imbalance',\n",
    "        'horizontal-misalignment': 'misalignment',\n",
    "        'vertical-misalignment': 'misalignment',\n",
    "        'underhang-outer_race': 'outer race fault',\n",
    "        'underhang-cage_fault': 'cage fault',\n",
    "        'underhang-ball_fault': 'ball fault'\n",
    "    },\n",
    "    'B': {\n",
    "        'normal': 'normal',\n",
    "        'imbalance': 'imbalance',\n",
    "        'horizontal-misalignment': 'misalignment',\n",
    "        'vertical-misalignment': 'misalignment',\n",
    "        'overhang-outer_race': 'outer race fault',\n",
    "        'overhang-cage_fault': 'cage fault',\n",
    "        'overhang-ball_fault': 'ball fault',\n",
    "    }\n",
    "}\n",
    "\n",
    "if MAFAULDA_LABEL_METHOD == 'bearing-A':\n",
    "    mafaulda['Y']['target'] = mafaulda['Y'].apply(lambda row: bearing_faults['A'].get(row['fault']), axis=1)\n",
    "\n",
    "elif MAFAULDA_LABEL_METHOD == 'all-bearings':\n",
    "    mafaulda['Y']['target'] = mafaulda['Y'].apply(lambda row: faults.get(row['fault']), axis=1)\n",
    "\n",
    "elif MAFAULDA_LABEL_METHOD == 'severity':\n",
    "    table = mafaulda['Y'].copy()\n",
    "    table['target'] = mafaulda['Y']['fault'].replace(faults)\n",
    "    table['target'] = table['target'].astype('category')\n",
    "    table['severity_no'] = table['severity'].str.extract(r'(\\d+\\.?\\d*)').astype(float)\n",
    "\n",
    "    for name, group in table.groupby(by=['target'], observed=True):\n",
    "        group = group.sort_values(by='severity_no')\n",
    "            \n",
    "        severities = group['severity_no'].astype('category').cat.codes.values.reshape(-1, 1)\n",
    "        scale_severities = MinMaxScaler().fit_transform(severities)\n",
    "\n",
    "        sev_names = list(group['severity'].astype('category').cat.categories)\n",
    "        sev = list(group['severity'].astype('category').cat.codes.astype('category').cat.categories)\n",
    "        scale = [float(f'{p:.2f}') for p in pd.Series(scale_severities[:, 0]).astype('category').cat.categories]\n",
    "        print(f'Fault: {name[0]}, Files: {len(group)}, Severity names: {sev_names}, Severity: {sev}, Severity Levels: {scale}')\n",
    "        \n",
    "        table.loc[group.index, 'severity_class'] = severities\n",
    "        table.loc[group.index, 'severity_level'] = scale_severities\n",
    "\n",
    "    table.loc[table['severity_level'] < 0.5, 'target'] = 'normal'\n",
    "    mafaulda['Y'] = table\n",
    "\n",
    "\n",
    "mafaulda['Y']['target'] = mafaulda['Y']['target'].astype('category')"
   ]
  },
  {
   "cell_type": "code",
   "execution_count": null,
   "metadata": {},
   "outputs": [],
   "source": [
    "# Count classes\n",
    "counts = mafaulda['Y']['target'].value_counts().to_frame()\n",
    "counts['freq'] = (counts['count'] / counts['count'].sum()) * 100\n",
    "counts"
   ]
  },
  {
   "cell_type": "code",
   "execution_count": null,
   "metadata": {},
   "outputs": [],
   "source": [
    "# Explained variance\n",
    "td_variance = explained_variance(mafaulda['X_td'])\n",
    "fd_variance = explained_variance(mafaulda['X_fd'])\n",
    "plot_cumulative_explained_variance(td_variance, fd_variance)"
   ]
  },
  {
   "cell_type": "code",
   "execution_count": null,
   "metadata": {},
   "outputs": [],
   "source": [
    "# Loading plots\n",
    "td_pc = get_principal_components(mafaulda['X_td'])\n",
    "fd_pc = get_principal_components(mafaulda['X_fd'])\n",
    "loading_plot(td_pc, mafaulda['X_td'].columns, -0.8, 0.8)\n",
    "loading_plot(fd_pc, mafaulda['X_fd'].columns, -0.8, 0.8)"
   ]
  },
  {
   "cell_type": "markdown",
   "metadata": {},
   "source": [
    "Fluid pumps"
   ]
  },
  {
   "cell_type": "code",
   "execution_count": null,
   "metadata": {},
   "outputs": [],
   "source": [
    "# pump dataset (all devices, each type - pump, motor, compressor)\n",
    "FEATURES_PATH = '../datasets/features'\n",
    "pump = {\n",
    "    'temporal': os.path.join(FEATURES_PATH, 'PUMPS_TD.csv'),\n",
    "    'spectral': os.path.join(FEATURES_PATH, 'PUMPS_FD.csv'),\n",
    "    'axis': ('x', 'y', 'z'),\n",
    "    'labels': ['date', 'device', 'position'],\n",
    "    'one-axis': 'z'\n",
    "}\n",
    "\n",
    "pump['X_td'], pump['Y'] = load_whole_dataset(pump, 'temporal')\n",
    "pump['X_fd'], pump['Y'] = load_whole_dataset(pump, 'spectral')"
   ]
  },
  {
   "cell_type": "code",
   "execution_count": null,
   "metadata": {},
   "outputs": [],
   "source": [
    "# Class count\n",
    "machines = {\n",
    "    'KSB1': {\n",
    "        'MTR001': 'M1',\n",
    "        'MTR002': 'M1',\n",
    "        'PMP003': 'P1',\n",
    "        'PMP004': 'P1'\n",
    "    },\n",
    "    'KSB7': {\n",
    "        'MTR001': 'M2',\n",
    "        'MTR002': 'M2',\n",
    "        'PMP003': 'P2',\n",
    "        'PMP004': 'P2'\n",
    "    },\n",
    "    'K3': {\n",
    "        '001': 'C1',\n",
    "        '002': 'C1'\n",
    "    },\n",
    "    'K5': {\n",
    "        '001': 'C2',\n",
    "        '002': 'C2'\n",
    "    }\n",
    "}\n",
    "\n",
    "pump['Y']['target'] = pump['Y'].apply(lambda row: machines.get(row['device'], {}).get(row['position']), axis=1)\n",
    "pump['Y']['target'] = pump['Y']['target'].astype('category')\n",
    "\n",
    "counts = pump['Y']['target'].value_counts().to_frame()\n",
    "counts['freq'] = (counts['count'] / counts['count'].sum()) * 100\n",
    "counts"
   ]
  },
  {
   "cell_type": "code",
   "execution_count": null,
   "metadata": {},
   "outputs": [],
   "source": [
    "# Motor and pump only\n",
    "\n",
    "# Label by device\n",
    "labels_machines = {\n",
    "    'KSB1': {\n",
    "        'MTR001': 'M1',\n",
    "        'MTR002': 'M1',\n",
    "        'PMP003': 'P1',\n",
    "        'PMP004': 'P1'\n",
    "    },\n",
    "    'KSB7': {\n",
    "        'MTR001': 'M2',\n",
    "        'MTR002': 'M2',\n",
    "        'PMP003': 'P2',\n",
    "        'PMP004': 'P2'\n",
    "    }\n",
    "}\n",
    "pump['Y']['label_machine'] = pump['Y'].apply(\n",
    "    lambda row: labels_machines.get(row['device'], {}).get(row['position']), axis=1\n",
    ")\n",
    "\n",
    "# Label by postion\n",
    "label_positions = {\n",
    "    'KSB1': {\n",
    "        'MTR001': 'M1-1',\n",
    "        'MTR002': 'M1-2',\n",
    "        'PMP003': 'P1-3',\n",
    "        'PMP004': 'P1-4'\n",
    "    },\n",
    "    'KSB7': {\n",
    "        'MTR001': 'M2-1',\n",
    "        'MTR002': 'M2-2',\n",
    "        'PMP003': 'P2-3',\n",
    "        'PMP004': 'P2-4'\n",
    "    }\n",
    "}\n",
    "pump['Y']['label_position'] = pump['Y'].apply(\n",
    "    lambda row: label_positions.get(row['device'], {}).get(row['position']), axis=1\n",
    ")\n",
    "\n",
    "# Label only P1-3, P2-3\n",
    "label_binary = {\n",
    "    'KSB1': {\n",
    "        'PMP003': 'P1-3'\n",
    "    },\n",
    "    'KSB7': {\n",
    "        'PMP003': 'P2-3'\n",
    "    }\n",
    "}\n",
    "pump['Y']['label_binary'] = pump['Y'].apply(\n",
    "    lambda row: label_binary.get(row['device'], {}).get(row['position']), axis=1\n",
    ")"
   ]
  },
  {
   "cell_type": "code",
   "execution_count": null,
   "metadata": {},
   "outputs": [],
   "source": [
    "td_variance = explained_variance(pump['X_td'])\n",
    "fd_variance = explained_variance(pump['X_fd'])\n",
    "plot_cumulative_explained_variance(td_variance, fd_variance)"
   ]
  },
  {
   "cell_type": "code",
   "execution_count": null,
   "metadata": {},
   "outputs": [],
   "source": [
    "# Loading plots\n",
    "td_pc = get_principal_components(pump['X_td'])\n",
    "fd_pc = get_principal_components(pump['X_fd'])\n",
    "loading_plot(td_pc, pump['X_td'].columns, -0.5, 1)\n",
    "loading_plot(fd_pc, pump['X_fd'].columns, -0.5, 1)"
   ]
  },
  {
   "cell_type": "code",
   "execution_count": null,
   "metadata": {},
   "outputs": [],
   "source": [
    "# Split by machine\n",
    "Y = pump['Y']\n",
    "compressor = Y[Y['device'].isin(['K3', 'K5'])].index\n",
    "waterpump = Y[\n",
    "    Y['device'].isin(['KSB1', 'KSB7']) & \n",
    "    Y['position'].isin(['PMP003', 'PMP004'])\n",
    "].index\n",
    "motor = Y[\n",
    "    Y['device'].isin(['KSB1', 'KSB7']) & \n",
    "    Y['position'].isin(['MTR001', 'MTR002'])\n",
    "].index\n",
    "\n",
    "td_variance = explained_variance(pump['X_td'].loc[compressor])\n",
    "fd_variance = explained_variance(pump['X_fd'].loc[compressor])\n",
    "plot_cumulative_explained_variance(td_variance, fd_variance)\n",
    "\n",
    "td_pc = get_principal_components(pump['X_td'].loc[compressor])\n",
    "fd_pc = get_principal_components(pump['X_fd'].loc[compressor])\n",
    "loading_plot(td_pc, pump['X_td'].columns, -0.5, 1)\n",
    "loading_plot(fd_pc, pump['X_fd'].columns, -0.5, 1)\n",
    "\n",
    "# -----\n",
    "td_variance = explained_variance(pump['X_td'].loc[waterpump])\n",
    "fd_variance = explained_variance(pump['X_fd'].loc[waterpump])\n",
    "plot_cumulative_explained_variance(td_variance, fd_variance)\n",
    "\n",
    "td_pc = get_principal_components(pump['X_td'].loc[waterpump])\n",
    "fd_pc = get_principal_components(pump['X_fd'].loc[waterpump])\n",
    "loading_plot(td_pc, pump['X_td'].columns, -0.5, 1)\n",
    "loading_plot(fd_pc, pump['X_fd'].columns, -0.5, 1)\n",
    "\n",
    "# -----\n",
    "td_variance = explained_variance(pump['X_td'].loc[motor])\n",
    "fd_variance = explained_variance(pump['X_fd'].loc[motor])\n",
    "plot_cumulative_explained_variance(td_variance, fd_variance)\n",
    "\n",
    "td_pc = get_principal_components(pump['X_td'].loc[motor])\n",
    "fd_pc = get_principal_components(pump['X_fd'].loc[motor])\n",
    "loading_plot(td_pc, pump['X_td'].columns, -0.5, 1)\n",
    "loading_plot(fd_pc, pump['X_fd'].columns, -0.5, 1)\n"
   ]
  },
  {
   "cell_type": "markdown",
   "metadata": {},
   "source": [
    "##### Scatter plots of labels after PCA\n",
    "- 1 ks (5 subplots) scatter: mafaulda, all machines, pumps, compressors, motors"
   ]
  },
  {
   "cell_type": "code",
   "execution_count": null,
   "metadata": {},
   "outputs": [],
   "source": [
    "# Mafaulda temporal\n",
    "vizualize.project_classes(mafaulda['X_td'], mafaulda['Y']['target'], boundary=True)\n",
    "vizualize.project_classes_3d(mafaulda['X_td'], mafaulda['Y']['target'])"
   ]
  },
  {
   "cell_type": "code",
   "execution_count": null,
   "metadata": {},
   "outputs": [],
   "source": [
    "# Mafaulda spectral\n",
    "vizualize.project_classes(mafaulda['X_fd'], mafaulda['Y']['target'], boundary=True)\n",
    "vizualize.project_classes_3d(mafaulda['X_fd'], mafaulda['Y']['target'])"
   ]
  },
  {
   "cell_type": "code",
   "execution_count": null,
   "metadata": {},
   "outputs": [],
   "source": [
    "all_places = (pump['Y']['device'] + ',' + pump['Y']['position']).astype('category')\n",
    "vizualize.project_classes(pump['X_td'], all_places, size=(10, 7), boundary=True)\n",
    "vizualize.project_classes(pump['X_fd'], all_places, size=(10, 7), boundary=True)"
   ]
  },
  {
   "cell_type": "code",
   "execution_count": null,
   "metadata": {},
   "outputs": [],
   "source": [
    "# Fluid pump temporal\n",
    "vizualize.project_classes(pump['X_td'], pump['Y']['target'], boundary=True)\n",
    "vizualize.project_classes_3d(pump['X_td'], pump['Y']['target'])"
   ]
  },
  {
   "cell_type": "code",
   "execution_count": null,
   "metadata": {},
   "outputs": [],
   "source": [
    "vizualize.project_classes(pump['X_td'], pump['Y']['label_machine'], boundary=True)"
   ]
  },
  {
   "cell_type": "code",
   "execution_count": null,
   "metadata": {},
   "outputs": [],
   "source": [
    "vizualize.project_classes(pump['X_td'], pump['Y']['label_position'], boundary=True)"
   ]
  },
  {
   "cell_type": "code",
   "execution_count": null,
   "metadata": {},
   "outputs": [],
   "source": [
    "vizualize.project_classes(pump['X_td'], pump['Y']['label_binary'], boundary=True)"
   ]
  },
  {
   "cell_type": "code",
   "execution_count": null,
   "metadata": {},
   "outputs": [],
   "source": [
    "# Fluid pump spectral\n",
    "vizualize.project_classes(pump['X_fd'], pump['Y']['target'], boundary=True)\n",
    "vizualize.project_classes_3d(pump['X_fd'], pump['Y']['target'])"
   ]
  },
  {
   "cell_type": "code",
   "execution_count": null,
   "metadata": {},
   "outputs": [],
   "source": [
    "vizualize.project_classes(pump['X_fd'], pump['Y']['label_machine'], boundary=True)"
   ]
  },
  {
   "cell_type": "code",
   "execution_count": null,
   "metadata": {},
   "outputs": [],
   "source": [
    "vizualize.project_classes(pump['X_fd'], pump['Y']['label_position'], boundary=True)"
   ]
  },
  {
   "cell_type": "code",
   "execution_count": null,
   "metadata": {},
   "outputs": [],
   "source": [
    "vizualize.project_classes(pump['X_fd'], pump['Y']['label_binary'], boundary=True)"
   ]
  },
  {
   "cell_type": "code",
   "execution_count": null,
   "metadata": {},
   "outputs": [],
   "source": [
    "def visualize_machines(features: pd.DataFrame, labels: pd.DataFrame, machines: tuple):\n",
    "    m = features.copy()\n",
    "    columns = m.columns\n",
    "    m['target'] = labels.astype('str')\n",
    "    m = m[m['target'].isin(machines)].reset_index(drop=True)\n",
    "    m['target'] = m['target'].astype('category')\n",
    "\n",
    "    X = m[columns].copy()\n",
    "    Y = m['target']\n",
    "    vizualize.project_classes(X, Y, boundary=True)\n",
    "    vizualize.project_classes_3d(X, Y)"
   ]
  },
  {
   "cell_type": "code",
   "execution_count": null,
   "metadata": {},
   "outputs": [],
   "source": [
    "compressors = ('C1', 'C2')\n",
    "visualize_machines(pump['X_td'], pump['Y']['target'], compressors)\n",
    "visualize_machines(pump['X_fd'], pump['Y']['target'], compressors)"
   ]
  },
  {
   "cell_type": "code",
   "execution_count": null,
   "metadata": {},
   "outputs": [],
   "source": [
    "waterpumps = ('P1', 'P2')\n",
    "visualize_machines(pump['X_td'], pump['Y']['target'], waterpumps)\n",
    "visualize_machines(pump['X_fd'], pump['Y']['target'], waterpumps)"
   ]
  },
  {
   "cell_type": "code",
   "execution_count": null,
   "metadata": {},
   "outputs": [],
   "source": [
    "motors = ('M1', 'M2')\n",
    "visualize_machines(pump['X_td'], pump['Y']['target'], motors)\n",
    "visualize_machines(pump['X_fd'], pump['Y']['target'], motors)"
   ]
  },
  {
   "cell_type": "markdown",
   "metadata": {},
   "source": [
    "#### Change in compressors features over time\n",
    "- Each domain (2x)\n",
    "    - Scatter plot PCA - position - colors are dates"
   ]
  },
  {
   "cell_type": "code",
   "execution_count": null,
   "metadata": {},
   "outputs": [],
   "source": [
    "def visualize_compressors_by_date(X, Y):\n",
    "    for placement, rows in Y[Y['device'].isin(('K3', 'K5'))].groupby(by=['device', 'position']):\n",
    "        idx = list(rows.index)\n",
    "        rows['date'] = rows['date'].astype('category')\n",
    "        print(placement)\n",
    "        vizualize.project_classes(X, rows['date'], boundary=True)"
   ]
  },
  {
   "cell_type": "code",
   "execution_count": null,
   "metadata": {},
   "outputs": [],
   "source": [
    "visualize_compressors_by_date(pump['X_td'], pump['Y'])"
   ]
  },
  {
   "cell_type": "code",
   "execution_count": null,
   "metadata": {},
   "outputs": [],
   "source": [
    "visualize_compressors_by_date(pump['X_fd'], pump['Y'])"
   ]
  },
  {
   "cell_type": "markdown",
   "metadata": {},
   "source": [
    "#### Classification accuracy \n",
    "- choices of k. and feat. count, 5-fold cross validation\n",
    "\n",
    "- All features \n",
    "    - for mafaulda and custom (which classes - all or just one machine)\n",
    "    - 1 ks All features (2x subplots TD, FD)\n",
    "\t    - Each lineplot (k = 3,5,7)"
   ]
  },
  {
   "cell_type": "code",
   "execution_count": null,
   "metadata": {},
   "outputs": [],
   "source": [
    "def plot_all_knn(td_results, fd_results, kfold=5):\n",
    "    fig, ax = plt.subplots(1, 1, figsize=(8, 5))\n",
    "    ax.plot(td_results['k'], td_results['train'], marker='x', color='darkblue', label='train - temporal')\n",
    "    ax.plot(td_results['k'], td_results['test'], marker='x', color='blue', label='test - temporal')\n",
    "\n",
    "    ax.plot(fd_results['k'], fd_results['train'], marker='x', color='darkgreen', label='train - spectral')\n",
    "    ax.plot(fd_results['k'], fd_results['test'], marker='x', color='green', label='test - spectral')\n",
    "\n",
    "    ax.set_ylabel(f'Accuracy')\n",
    "    ax.set_xlabel('K-neighbors')\n",
    "    ax.set_xticks(td_results['k'])\n",
    "    ax.grid(True)\n",
    "    ax.legend()\n",
    "    plt.show()"
   ]
  },
  {
   "cell_type": "code",
   "execution_count": null,
   "metadata": {},
   "outputs": [],
   "source": [
    "td_results = models.all_features(mafaulda['X_td'], mafaulda['Y']['target'], MODEL_TYPE)\n",
    "fd_results = models.all_features(mafaulda['X_fd'], mafaulda['Y']['target'], MODEL_TYPE)\n",
    "plot_all_knn(td_results, fd_results)"
   ]
  },
  {
   "cell_type": "code",
   "execution_count": null,
   "metadata": {},
   "outputs": [],
   "source": [
    "td_results = models.all_features(pump['X_td'], pump['Y']['target'], MODEL_TYPE)\n",
    "fd_results = models.all_features(pump['X_fd'], pump['Y']['target'], MODEL_TYPE)\n",
    "plot_all_knn(td_results, fd_results)"
   ]
  },
  {
   "cell_type": "code",
   "execution_count": null,
   "metadata": {},
   "outputs": [],
   "source": [
    "td_results = models.all_features(pump['X_td'], pump['Y']['label_machine'], MODEL_TYPE)\n",
    "fd_results = models.all_features(pump['X_fd'], pump['Y']['label_machine'], MODEL_TYPE)\n",
    "plot_all_knn(td_results, fd_results)"
   ]
  },
  {
   "cell_type": "code",
   "execution_count": null,
   "metadata": {},
   "outputs": [],
   "source": [
    "td_results = models.all_features(pump['X_td'], pump['Y']['label_position'], MODEL_TYPE)\n",
    "fd_results = models.all_features(pump['X_fd'], pump['Y']['label_position'], MODEL_TYPE)\n",
    "plot_all_knn(td_results, fd_results)"
   ]
  },
  {
   "cell_type": "code",
   "execution_count": null,
   "metadata": {},
   "outputs": [],
   "source": [
    "#td_results = models.all_features(pump['X_td'], pump['Y']['label_binary'], MODEL_TYPE)\n",
    "#fd_results = models.all_features(pump['X_fd'], pump['Y']['label_binary'], MODEL_TYPE)\n",
    "#plot_all_knn(td_results, fd_results)"
   ]
  },
  {
   "cell_type": "markdown",
   "metadata": {},
   "source": [
    "- All models (Exhausive) \n",
    "    - draw rank, corr, f-stat, mi as horizontal line\n",
    "    - 3 ks plots (2, 3, 4 features)\n",
    "\t    - Each plot 2 boxplot subplots (TD, FD) - k-neigh. vs. accuracy of all models"
   ]
  },
  {
   "cell_type": "code",
   "execution_count": null,
   "metadata": {},
   "outputs": [],
   "source": [
    "# 6156 models (120/165, 210/330, 252/462), 25 minutes (longer because of oversampling)\n",
    "mafaulda_models_summary = models.enumerate_models(mafaulda['X_td'], mafaulda['X_fd'], mafaulda['Y']['target'], model=MODEL_TYPE)"
   ]
  },
  {
   "cell_type": "code",
   "execution_count": null,
   "metadata": {},
   "outputs": [],
   "source": [
    "#mafaulda_models_summary.to_csv('mafaulda_models_summary.csv')\n",
    "mafaulda_models_summary"
   ]
  },
  {
   "cell_type": "code",
   "execution_count": null,
   "metadata": {},
   "outputs": [],
   "source": [
    "def boxplot_enumerate_models_accuracy(results, metric, plots_col, inplot_col):\n",
    "    for fnum, features in results.groupby(by=plots_col):\n",
    "        fig, ax = plt.subplots(1, 2, figsize=(10, 4), sharey=True)\n",
    "        for i, group in enumerate(features.groupby(by='domain', sort=False)):\n",
    "            domain_name, domain = group \n",
    "            ax[i].grid()\n",
    "            \n",
    "            if plots_col == 'k':\n",
    "                ax[i].set_title(f'K-neighbors: {fnum}, Domain: {domain_name}')\n",
    "            if plots_col == 'f':\n",
    "                ax[i].set_title(f'Features: {fnum}, Domain: {domain_name}')\n",
    "\n",
    "            boxplot_data = {}\n",
    "            for k, models in domain.groupby(by=[inplot_col]):\n",
    "                boxplot_data[k[0]] = models[metric].to_list()\n",
    "\n",
    "            ax[i].boxplot(\n",
    "                boxplot_data.values(),\n",
    "                labels=boxplot_data.keys(),\n",
    "                medianprops = {'linewidth': 2, 'color': 'black'})\n",
    "            ax[i].set_ylabel('Accuracy')\n",
    "            if plots_col == 'f':\n",
    "                ax[i].set_xlabel('K-neighbors')\n",
    "            if plots_col == 'k':\n",
    "                ax[i].set_xlabel('Number of features')\n",
    "    plt.show()"
   ]
  },
  {
   "cell_type": "markdown",
   "metadata": {},
   "source": [
    "#### MaFaulDa"
   ]
  },
  {
   "cell_type": "code",
   "execution_count": null,
   "metadata": {},
   "outputs": [],
   "source": [
    "boxplot_enumerate_models_accuracy(mafaulda_models_summary, 'train', 'f', 'k')"
   ]
  },
  {
   "cell_type": "code",
   "execution_count": null,
   "metadata": {},
   "outputs": [],
   "source": [
    "boxplot_enumerate_models_accuracy(mafaulda_models_summary, 'test', 'f', 'k')"
   ]
  },
  {
   "cell_type": "code",
   "execution_count": null,
   "metadata": {},
   "outputs": [],
   "source": [
    "boxplot_enumerate_models_accuracy(mafaulda_models_summary, 'train', 'k', 'f')"
   ]
  },
  {
   "cell_type": "code",
   "execution_count": null,
   "metadata": {},
   "outputs": [],
   "source": [
    "boxplot_enumerate_models_accuracy(mafaulda_models_summary, 'test', 'k', 'f')"
   ]
  },
  {
   "cell_type": "markdown",
   "metadata": {},
   "source": [
    "- Compare accuracies of best models in each categories for given number of features and k:\n",
    "    - 1 ks plot - bar chart - color rainbow - one x (td), second x (fd)\n",
    "    - Scores side by side (bar chart)\n",
    "    - best permuted, pca, rank product, corr, fstat, mi"
   ]
  },
  {
   "cell_type": "code",
   "execution_count": null,
   "metadata": {},
   "outputs": [],
   "source": [
    "visualize.plot_models_performance_bar(mafaulda['X_td'], mafaulda['X_fd'], mafaulda['Y']['target'], mafaulda_models_summary)"
   ]
  },
  {
   "cell_type": "code",
   "execution_count": null,
   "metadata": {},
   "outputs": [],
   "source": [
    "X = mafaulda['X_td']\n",
    "Y = mafaulda['Y']['target']\n",
    "features = find_best_subset(X, Y, 'rank')\n",
    "visualize.scatter_features_3d(X, Y, list(features), boundary=True)"
   ]
  },
  {
   "cell_type": "code",
   "execution_count": null,
   "metadata": {},
   "outputs": [],
   "source": [
    "X = mafaulda['X_fd']\n",
    "Y = mafaulda['Y']['target']\n",
    "features = find_best_subset(X, Y, 'rank')\n",
    "visualize.scatter_features_3d(X, Y, list(features), boundary=True)"
   ]
  },
  {
   "cell_type": "markdown",
   "metadata": {},
   "source": [
    "3d plot"
   ]
  },
  {
   "cell_type": "code",
   "execution_count": null,
   "metadata": {},
   "outputs": [],
   "source": [
    "X = mafaulda['X_td']\n",
    "Y = mafaulda['Y']['target']\n",
    "features = find_best_subset(X, Y, 'rank')\n",
    "visualize.scatter_features_3d_plot(X, Y, list(features))"
   ]
  },
  {
   "cell_type": "code",
   "execution_count": null,
   "metadata": {},
   "outputs": [],
   "source": [
    "X = mafaulda['X_fd']\n",
    "Y = mafaulda['Y']['target']\n",
    "features = models.find_best_subset(X, Y, 'rank')\n",
    "visualize.scatter_features_3d_plot(X, Y, list(features))"
   ]
  },
  {
   "cell_type": "code",
   "execution_count": null,
   "metadata": {},
   "outputs": [],
   "source": [
    "X = pump['X_td']\n",
    "Y = pump['Y']['label_machine']\n",
    "features = models.find_best_subset(X, Y, 'rank')\n",
    "visualize.scatter_features_3d_plot(X, Y, list(features))"
   ]
  },
  {
   "cell_type": "code",
   "execution_count": null,
   "metadata": {},
   "outputs": [],
   "source": [
    "X = pump['X_td']\n",
    "Y = pump['Y']['label_position']\n",
    "features = models.find_best_subset(X, Y, 'rank')\n",
    "visualize.scatter_features_3d_plot(X, Y, list(features))"
   ]
  },
  {
   "cell_type": "code",
   "execution_count": null,
   "metadata": {},
   "outputs": [],
   "source": [
    "X = pump['X_td']\n",
    "Y = pump['Y']['label_binary']\n",
    "features = models.find_best_subset(X, Y, 'rank')\n",
    "visualize.scatter_features_3d_plot(X, Y, list(features))"
   ]
  },
  {
   "cell_type": "code",
   "execution_count": null,
   "metadata": {},
   "outputs": [],
   "source": [
    "X = pump['X_fd']\n",
    "Y = pump['Y']['label_machine']\n",
    "features = models.find_best_subset(X, Y, 'rank')\n",
    "visualize.scatter_features_3d_plot(X, Y, list(features))"
   ]
  },
  {
   "cell_type": "code",
   "execution_count": null,
   "metadata": {},
   "outputs": [],
   "source": [
    "X = pump['X_fd']\n",
    "Y = pump['Y']['label_position']\n",
    "features = models.find_best_subset(X, Y, 'rank')\n",
    "visualize.scatter_features_3d_plot(X, Y, list(features))"
   ]
  },
  {
   "cell_type": "code",
   "execution_count": null,
   "metadata": {},
   "outputs": [],
   "source": [
    "X = pump['X_fd']\n",
    "Y = pump['Y']['label_binary']\n",
    "features = models.find_best_subset(X, Y, 'rank')\n",
    "visualize.scatter_features_3d_plot(X, Y, list(features))"
   ]
  }
 ],
 "metadata": {
  "kernelspec": {
   "display_name": "Python 3 (ipykernel)",
   "language": "python",
   "name": "python3"
  },
  "language_info": {
   "codemirror_mode": {
    "name": "ipython",
    "version": 3
   },
   "file_extension": ".py",
   "mimetype": "text/x-python",
   "name": "python",
   "nbconvert_exporter": "python",
   "pygments_lexer": "ipython3",
   "version": "3.11.8"
  }
 },
 "nbformat": 4,
 "nbformat_minor": 4
}
