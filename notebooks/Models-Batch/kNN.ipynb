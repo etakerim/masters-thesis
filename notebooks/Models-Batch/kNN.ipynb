{
 "cells": [
  {
   "cell_type": "code",
   "execution_count": null,
   "id": "12dca216-9915-401d-aa2a-0eb1869877e3",
   "metadata": {},
   "outputs": [],
   "source": [
    "import numpy as np\n",
    "import pandas as pd\n",
    "from zipfile import ZipFile\n",
    "\n",
    "# Feature selection\n",
    "from scipy.stats import pearsonr\n",
    "from sklearn.feature_selection import mutual_info_classif, f_classif\n",
    "\n",
    "# Models\n",
    "from scipy.spatial.distance import euclidean, mahalanobis\n",
    "from sklearn.metrics.pairwise import rbf_kernel\n",
    "\n",
    "from sklearn.model_selection import train_test_split\n",
    "from sklearn.model_selection import KFold, StratifiedKFold, StratifiedShuffleSplit\n",
    "from sklearn.neighbors import KNeighborsClassifier\n",
    "from sklearn.preprocessing import MinMaxScaler\n",
    "from imblearn.over_sampling import RandomOverSampler\n",
    "from scipy.stats import gmean\n",
    "\n",
    "# Model evaluation\n",
    "from sklearn import metrics\n",
    "from kneed import KneeLocator\n",
    "\n",
    "# Plotting and table formatting\n",
    "import matplotlib.pyplot as plt\n",
    "from IPython.display import Markdown\n",
    "from tabulate import tabulate\n",
    "import seaborn as sb\n",
    "from collections import Counter\n",
    "from tqdm.notebook import tqdm\n",
    "\n",
    "# System modules\n",
    "import re\n",
    "import itertools\n",
    "import os\n",
    "import sys\n",
    "sys.path.append('../')\n",
    "\n",
    "# Custom modules\n",
    "from vibrodiagnostics import (\n",
    "    mafaulda,\n",
    "    discovery, \n",
    "    selection,\n",
    "    models\n",
    ")\n",
    "\n",
    "SOURCE_AXIS = ('ax', 'ay', 'az')\n",
    "TARGET = 'fault'\n",
    "\n",
    "PATH_PREFIX = '../../datasets/'\n",
    "FEATURES_PATH =  os.path.join(PATH_PREFIX, 'features_data')\n",
    "\n",
    "TD_FD_FEATURES = os.path.join(FEATURES_PATH, selection.TIME_AND_FREQ_FEATURES_PATH)\n",
    "TD_FEATURES = os.path.join(FEATURES_PATH, selection.TIME_FEATURES_PATH)\n",
    "FD_FEATURES = os.path.join(FEATURES_PATH, selection.FREQ_FEATURES_PATH)"
   ]
  },
  {
   "cell_type": "markdown",
   "id": "33e4fb79-b0dd-48ae-bf5d-b2b4da8cebbb",
   "metadata": {},
   "source": [
    "Parameters:\n",
    "- Distance metric\n",
    "- k neighbours (odd numbers because of majority voting) - elbow curve"
   ]
  },
  {
   "cell_type": "markdown",
   "id": "8e67e970-111c-448b-837a-1c84144e7a1a",
   "metadata": {},
   "source": [
    "### Temporal features"
   ]
  },
  {
   "cell_type": "code",
   "execution_count": null,
   "metadata": {},
   "outputs": [],
   "source": [
    "def knn_evaluation(x_train, y_train, x_test, y_test):\n",
    "    knn = KNeighborsClassifier(n_neighbors=5, metric='euclidean', algorithm='kd_tree')\n",
    "    knn.fit(x_train, y_train)\n",
    "    y_predict_train = knn.predict(x_train)\n",
    "    y_predict_test = knn.predict(x_test)\n",
    "\n",
    "    print(f'Train accuracy: {metrics.accuracy_score(y_train, y_predict_train) * 100:.2f} %')\n",
    "    print(f'Test accuracy: {metrics.accuracy_score(y_test, y_predict_test) * 100:.2f} %')\n",
    "    print(metrics.classification_report(y_test, y_predict_test))\n",
    "\n",
    "    cm = metrics.confusion_matrix(y_test, y_predict_test)\n",
    "    ax = sb.heatmap(cm, cbar=True, cmap='BuGn', annot=True, fmt='d')\n",
    "    plt.show()\n",
    "\n",
    "\n",
    "def knn_one_case_eval(neighbours, features, x_train, y_train, x_test, y_test):\n",
    "    x_train_selected = x_train[features]\n",
    "    x_test_selected = x_test[features]\n",
    "\n",
    "    knn = KNeighborsClassifier(n_neighbors=neighbours, metric='euclidean', algorithm='kd_tree')\n",
    "    knn.fit(x_train_selected, y_train)\n",
    "    y_predict_train = knn.predict(x_train_selected)\n",
    "    y_predict_test = knn.predict(x_test_selected)\n",
    "\n",
    "    y_proba_train = knn.predict_proba(x_train_selected)\n",
    "    y_proba_test = knn.predict_proba(x_test_selected)\n",
    "\n",
    "    return {\n",
    "        'features': features,\n",
    "        'train_accuracy': metrics.accuracy_score(y_train, y_predict_train),\n",
    "        'train_precision': metrics.precision_score(y_train, y_predict_train, average='micro'),\n",
    "        'train_recall': metrics.recall_score(y_train, y_predict_train, average='micro'),\n",
    "        'train_error_rate': np.mean(y_train != y_predict_train),\n",
    "        # 'train_auc': metrics.roc_auc_score(y_train, y_proba_train, multi_class='ovo', average='macro'), # class imbalance insensivity\n",
    "        'test_accuracy': metrics.accuracy_score(y_test, y_predict_test),\n",
    "        'test_precision': metrics.precision_score(y_test, y_predict_test, average='micro'),\n",
    "        'test_recall': metrics.recall_score(y_test, y_predict_test, average='micro'),\n",
    "        'test_error_rate': np.mean(y_test != y_predict_test)\n",
    "        #'test_auc': metrics.roc_auc_score(y_test, y_proba_test, multi_class='ovo', average='macro')\n",
    "    }\n",
    "\n",
    "def knn_feature_combinations(neighbours, all_features, combinations, x_train, y_train, x_test, y_test):\n",
    "    evaluation = []\n",
    "\n",
    "    for features in itertools.combinations(all_features, r=combinations):\n",
    "        result = knn_one_case_eval(neighbours, list(features), x_train, y_train, x_test, y_test)\n",
    "        evaluation.append(result)\n",
    "\n",
    "    evaluation = pd.DataFrame.from_records(evaluation)\n",
    "    return evaluation.sort_values(by='test_error_rate', ascending=True).reset_index(drop=True)"
   ]
  },
  {
   "cell_type": "code",
   "execution_count": null,
   "metadata": {},
   "outputs": [],
   "source": [
    "TRAIN_SET_RATIO = 0.8\n",
    "ANOMALY_SEVERITY = 0.9\n",
    "WINDOW_SIZE = 2**14\n",
    "\n",
    "\n",
    "x_train, y_train, x_test, y_test = models.load_feature_set(\n",
    "    TD_FEATURES, \n",
    "    selection.FAULT_CLASSES,\n",
    "    SOURCE_AXIS,\n",
    "    TARGET, \n",
    "    train_size=TRAIN_SET_RATIO, \n",
    "    anomaly_severity=ANOMALY_SEVERITY,\n",
    "    balance=True,\n",
    "    rpm_limit=False,\n",
    "    window_size=None,\n",
    "    domain='temporal'\n",
    ")\n",
    "scaler = MinMaxScaler()\n",
    "x_train[x_train.columns] = scaler.fit_transform(x_train)\n",
    "x_test[x_test.columns] = scaler.transform(x_test)"
   ]
  },
  {
   "cell_type": "markdown",
   "id": "9bf2a32d-8a8b-44c9-990b-2f400fdbf3f8",
   "metadata": {},
   "source": [
    "#### Classification with kNN (all features)"
   ]
  },
  {
   "cell_type": "code",
   "execution_count": null,
   "id": "6b5a69d3-46ee-44aa-9863-a217a7c45bed",
   "metadata": {},
   "outputs": [],
   "source": [
    "knn_evaluation(x_train, y_train, x_test, y_test)"
   ]
  },
  {
   "cell_type": "markdown",
   "id": "162c8afb-0b73-42eb-b840-90ca1a56cad4",
   "metadata": {},
   "source": [
    "#### Classification with kNN (choose features)"
   ]
  },
  {
   "cell_type": "code",
   "execution_count": null,
   "metadata": {},
   "outputs": [],
   "source": [
    "# features = ['std', 'rms', 'pp'] \n",
    "features = ['std', 'skewness', 'pp']\n",
    "knn_evaluation(x_train[features], y_train, x_test[features], y_test)"
   ]
  },
  {
   "cell_type": "markdown",
   "metadata": {},
   "source": [
    "#### Classification with kNN (all cominations)"
   ]
  },
  {
   "cell_type": "code",
   "execution_count": null,
   "metadata": {},
   "outputs": [],
   "source": [
    "# Minimal number of features: 3 (Benchmark: because we need at least 3 PC)  20 seconds (3), 40s (4)\n",
    "evaluation = knn_feature_combinations(5, list(x_train.columns), 3, x_train, y_train, x_test, y_test)\n",
    "evaluation"
   ]
  },
  {
   "cell_type": "code",
   "execution_count": null,
   "metadata": {},
   "outputs": [],
   "source": [
    "evaluation.describe()"
   ]
  },
  {
   "cell_type": "markdown",
   "metadata": {},
   "source": [
    "---\n",
    "### Spectral features"
   ]
  },
  {
   "cell_type": "code",
   "execution_count": null,
   "metadata": {},
   "outputs": [],
   "source": [
    "WINDOW_SIZE = 2**14\n",
    "\n",
    "x_train, y_train, x_test, y_test = models.load_feature_set(\n",
    "    FD_FEATURES, \n",
    "    selection.FAULT_CLASSES,\n",
    "    SOURCE_AXIS,\n",
    "    'fault', \n",
    "    train_size=TRAIN_SET_RATIO, \n",
    "    anomaly_severity=ANOMALY_SEVERITY,\n",
    "    balance=True,\n",
    "    rpm_limit=False,\n",
    "    window_size=WINDOW_SIZE,\n",
    "    domain='spectral'\n",
    ")\n",
    "scaler = MinMaxScaler()\n",
    "x_train[x_train.columns] = scaler.fit_transform(x_train)\n",
    "x_test[x_test.columns] = scaler.transform(x_test)"
   ]
  },
  {
   "cell_type": "markdown",
   "metadata": {},
   "source": [
    "#### Classification with kNN (all features)"
   ]
  },
  {
   "cell_type": "code",
   "execution_count": null,
   "metadata": {},
   "outputs": [],
   "source": [
    "knn_evaluation(x_train, y_train, x_test, y_test)"
   ]
  },
  {
   "cell_type": "markdown",
   "metadata": {},
   "source": [
    "#### Classification with kNN (choose features)"
   ]
  },
  {
   "cell_type": "code",
   "execution_count": null,
   "metadata": {},
   "outputs": [],
   "source": [
    "#features = ['entropy', 'std', 'noisiness'] \n",
    "features = ['entropy', 'noisiness', 'centroid']\n",
    "knn_evaluation(x_train[features], y_train, x_test[features], y_test)"
   ]
  },
  {
   "cell_type": "code",
   "execution_count": null,
   "metadata": {},
   "outputs": [],
   "source": [
    "# Minimal number of features: 3 (Benchmark: because we need at least 3 PC)  30 seconds (3), 60s (4)\n",
    "evaluation = knn_feature_combinations(5, list(x_train.columns), 3, x_train, y_train, x_test, y_test)\n",
    "evaluation"
   ]
  },
  {
   "cell_type": "code",
   "execution_count": null,
   "metadata": {},
   "outputs": [],
   "source": [
    "evaluation.describe()"
   ]
  },
  {
   "cell_type": "markdown",
   "metadata": {},
   "source": [
    "---"
   ]
  },
  {
   "cell_type": "code",
   "execution_count": null,
   "metadata": {},
   "outputs": [],
   "source": [
    "def load_source(dataset: str, domain: str, row: dict):\n",
    "    RPM = 2900\n",
    "    RPM_RANGE = 500\n",
    "    faults = {\n",
    "        'shaft': {\n",
    "            'normal': 'N',\n",
    "            'imbalance': 'I',\n",
    "            'horizontal-misalignment': 'HM',\n",
    "            'vertical-misalignment': 'VM'\n",
    "        },\n",
    "        'bearings': {\n",
    "            'overhang-cage_fault': 'O-Cage',\n",
    "            'underhang-cage_fault': 'U-Cage',\n",
    "            'underhang-ball_fault': 'U-Ball',\n",
    "            'overhang-ball_fault': 'O-Ball',\n",
    "            'underhang-outer_race': 'U-Race',\n",
    "            'overhang-ball_fault': 'O-Race'\n",
    "        }\n",
    "    }\n",
    "    placements = {\n",
    "        'A': ['ax', 'ay', 'az'],\n",
    "        'B': ['bx', 'by', 'bz']\n",
    "    }\n",
    "\n",
    "    features = pd.read_csv(dataset).fillna(0)\n",
    "\n",
    "    # Filter catgories for classification\n",
    "    classes = faults[row['hardware']]\n",
    "    features = features[features['fault'].isin(classes)]\n",
    "\n",
    "    # Choosing rpm range\n",
    "    if row['rpm_limit']:\n",
    "        features = features[features['rpm'].between(RPM - RPM_RANGE, RPM + RPM_RANGE, inclusive='both')]\n",
    "\n",
    "    # Labeling anomaly severity levels\n",
    "    target = re.search(r'([a-z]+)_?(\\d+)?', row['target'])\n",
    "    anomaly_severity = target.group(2) or '60'\n",
    "    anomaly_severity = float(anomaly_severity) / 100\n",
    "    features = models.fault_labeling(features, classes, anomaly_severity)\n",
    "\n",
    "    # Keeping columns for measurement placement: A, B\n",
    "    axis = placements['A'] + placements['B'] # TODO: placements[row['placement']]\n",
    "    columns = features.columns.str.startswith(tuple(axis))\n",
    "    X = features[features.columns[columns]]\n",
    "\n",
    "    # Select predicted variable column\n",
    "    label = target.group(1)\n",
    "    Y = features[label].astype('category')\n",
    "\n",
    "    # Filter columns in feature domain with window size 2**14\n",
    "    if domain == 'spectral':\n",
    "        window_size = 2**14\n",
    "        X = X.loc[:,X.columns.str.endswith(f'_{window_size}')]\n",
    "        X.columns = X.columns.str.extract(r'(\\w+)_\\w+$')[0]\n",
    "\n",
    "    # Calculate feature magnitudes from 3D vector\n",
    "    feature_names = get_features_list({domain: dataset})\n",
    "    result = pd.DataFrame()\n",
    "    for name in feature_names:              \n",
    "        # Remove prefix: temporal, spectral\n",
    "        name = re.search(r'[a-z]+_([\\w\\_]+)', name).group(1)\n",
    "        vector_dims = [f'{dim}_{name}' for dim in axis]\n",
    "        result[name] = X[vector_dims].apply(np.linalg.norm, axis=1)\n",
    "    X = result\n",
    "\n",
    "    # Batch / Online hold-out (balance and event sequencing)\n",
    "    train_size = 0.8\n",
    "    # if row['online']:\n",
    "    #     X_train, X_test, Y_train, Y_test = train_test_split(\n",
    "    #         X, Y, train_size=train_size, random_state=10\n",
    "    #     )   \n",
    "    #     X_train, X_test, Y_train, Y_test = (\n",
    "    #         X_train.sort_index(), X_test.sort_index(),\n",
    "    #         Y_train.sort_index(), Y_test.sort_index()\n",
    "    #     )\n",
    "\n",
    "    # else:\n",
    "    oversample = RandomOverSampler(sampling_strategy='not majority', random_state=10)\n",
    "    X, Y = oversample.fit_resample(X, Y.to_numpy())\n",
    "    X.reset_index(drop=True, inplace=True)\n",
    "    Y = pd.Series(Y)\n",
    "\n",
    "    X_train, X_test, Y_train, Y_test = train_test_split(\n",
    "        X, Y, train_size=train_size, stratify=Y, random_state=10\n",
    "    )\n",
    "\n",
    "    scaler = MinMaxScaler()\n",
    "    X_train[X_train.columns] = scaler.fit_transform(X_train)\n",
    "    X_test[X_test.columns] = scaler.transform(X_test)\n",
    "\n",
    "    return X_train, X_test, Y_train, Y_test\n",
    "\n",
    "def get_features_list(domains):\n",
    "    features = []\n",
    "    for dname, dataset in domains.items():\n",
    "        names = pd.read_csv(dataset)\n",
    "        names = names.columns.str.extract(r'([a-z]{2})_([a-z\\_\\-]+)')[1].unique()\n",
    "        features.extend([f'{dname}_{col.strip(\"_\")}' for col in names if not pd.isnull(col)])\n",
    "\n",
    "    return features\n",
    "\n",
    "def knn_fsel_evaluation(domain, source, neighbours=5, exhaustive=False, ranks=False):\n",
    "    columns = get_features_list({domain: source})\n",
    "    if ranks:\n",
    "        best_set_membership = pd.read_csv('../FeatureSelection/best_set_ranks.csv')\n",
    "    else:\n",
    "        best_set_membership = pd.read_csv('../FeatureSelection/best_set_membership.csv')\n",
    "\n",
    "    best_set_membership['target'] = best_set_membership['target'].str.extract(r'([a-z]+)')\n",
    "\n",
    "    model = []\n",
    "    groupby_columns = ['rpm_limit', 'hardware', 'target']\n",
    "    for key, group in tqdm(best_set_membership.groupby(by=groupby_columns)):\n",
    "        if ranks:\n",
    "            situation = group[columns].apply(gmean, axis=0).sort_values(ascending=True).head(3)\n",
    "        else:\n",
    "            situation = group[columns][group == True].count(axis=0).sort_values(ascending=False).head(3)\n",
    "        \n",
    "        features = [re.search(r'[a-z+]_(\\w+)', s).group(1) for s in situation.index]\n",
    "\n",
    "        result = dict(zip(groupby_columns, key))\n",
    "        x_train, x_test, y_train, y_test = load_source(source, domain, result)\n",
    "        if exhaustive:\n",
    "            score = knn_feature_combinations(\n",
    "                neighbours, list(x_train.columns), 3, x_train, y_train, x_test, y_test\n",
    "            ).head(1).to_dict(orient='index')[0]\n",
    "        else:\n",
    "            score = knn_one_case_eval(neighbours, features, x_train, y_train, x_test, y_test)\n",
    "        result.update(score)\n",
    "        model.append(result)\n",
    "\n",
    "    return pd.DataFrame.from_records(model)\n",
    "\n",
    "def knn_neighbours_eval(domain, dataset):\n",
    "    train_rates = pd.DataFrame()\n",
    "    test_rates = pd.DataFrame()\n",
    "    for n in range(3, 21, 2):\n",
    "        scores = (\n",
    "            knn_fsel_evaluation(domain, dataset, neighbours=n)\n",
    "            .drop(columns=['features'])\n",
    "            .set_index(['rpm_limit', 'hardware', 'target'])\n",
    "        )\n",
    "        train_rates[n] = scores['train_error_rate']\n",
    "        test_rates[n] = scores['test_error_rate']\n",
    "    return train_rates, test_rates"
   ]
  },
  {
   "cell_type": "markdown",
   "metadata": {},
   "source": [
    "Chosen features"
   ]
  },
  {
   "cell_type": "code",
   "execution_count": null,
   "metadata": {},
   "outputs": [],
   "source": [
    "knn_fsel_evaluation('temporal', TD_FEATURES)"
   ]
  },
  {
   "cell_type": "code",
   "execution_count": null,
   "metadata": {},
   "outputs": [],
   "source": [
    "knn_fsel_evaluation('temporal', TD_FEATURES, exhaustive=False, ranks=True)"
   ]
  },
  {
   "cell_type": "code",
   "execution_count": null,
   "metadata": {},
   "outputs": [],
   "source": [
    "knn_fsel_evaluation('spectral', FD_FEATURES)"
   ]
  },
  {
   "cell_type": "code",
   "execution_count": null,
   "metadata": {},
   "outputs": [],
   "source": [
    "knn_fsel_evaluation('spectral', FD_FEATURES, exhaustive=False, ranks=True)"
   ]
  },
  {
   "cell_type": "code",
   "execution_count": null,
   "metadata": {},
   "outputs": [],
   "source": [
    "train, test = knn_neighbours_eval('temporal', TD_FEATURES)"
   ]
  },
  {
   "cell_type": "code",
   "execution_count": null,
   "metadata": {},
   "outputs": [],
   "source": [
    "train"
   ]
  },
  {
   "cell_type": "code",
   "execution_count": null,
   "metadata": {},
   "outputs": [],
   "source": [
    "test"
   ]
  },
  {
   "cell_type": "code",
   "execution_count": null,
   "metadata": {},
   "outputs": [],
   "source": [
    "train.T.plot(marker='.', grid=True, figsize=(10, 5), xlabel='Neighbours', ylabel='Error rate')\n",
    "plt.show()\n",
    "test.T.plot(marker='.', grid=True, figsize=(10, 5), xlabel='Neighbours', ylabel='Error rate')\n",
    "plt.show()"
   ]
  },
  {
   "cell_type": "code",
   "execution_count": null,
   "metadata": {},
   "outputs": [],
   "source": [
    "knn_fsel_evaluation('temporal', TD_FEATURES, exhaustive=False, ranks=True)"
   ]
  },
  {
   "cell_type": "code",
   "execution_count": null,
   "metadata": {},
   "outputs": [],
   "source": [
    "train, test = knn_neighbours_eval('spectral', FD_FEATURES)"
   ]
  },
  {
   "cell_type": "code",
   "execution_count": null,
   "metadata": {},
   "outputs": [],
   "source": [
    "train"
   ]
  },
  {
   "cell_type": "code",
   "execution_count": null,
   "metadata": {},
   "outputs": [],
   "source": [
    "test"
   ]
  },
  {
   "cell_type": "code",
   "execution_count": null,
   "metadata": {},
   "outputs": [],
   "source": [
    "train.T.plot(marker='.', grid=True, figsize=(10, 5), xlabel='Neighbours', ylabel='Error rate')\n",
    "plt.show()\n",
    "test.T.plot(marker='.', grid=True, figsize=(10, 5), xlabel='Neighbours', ylabel='Error rate')\n",
    "plt.show()"
   ]
  },
  {
   "cell_type": "code",
   "execution_count": null,
   "metadata": {},
   "outputs": [],
   "source": [
    "knn_fsel_evaluation('spectral', FD_FEATURES, exhaustive=False, ranks=True)"
   ]
  },
  {
   "cell_type": "markdown",
   "metadata": {},
   "source": [
    "Exhaustive"
   ]
  },
  {
   "cell_type": "code",
   "execution_count": null,
   "metadata": {},
   "outputs": [],
   "source": [
    "knn_fsel_evaluation('temporal', TD_FEATURES, exhaustive=True)"
   ]
  },
  {
   "cell_type": "code",
   "execution_count": null,
   "metadata": {},
   "outputs": [],
   "source": [
    "knn_fsel_evaluation('temporal', TD_FEATURES, exhaustive=True, ranks=True)"
   ]
  },
  {
   "cell_type": "code",
   "execution_count": null,
   "metadata": {},
   "outputs": [],
   "source": [
    "knn_fsel_evaluation('spectral', FD_FEATURES, exhaustive=True)"
   ]
  },
  {
   "cell_type": "code",
   "execution_count": null,
   "metadata": {},
   "outputs": [],
   "source": [
    "knn_fsel_evaluation('spectral', FD_FEATURES, exhaustive=True, ranks=True)"
   ]
  },
  {
   "cell_type": "markdown",
   "id": "48554857-8dce-4d62-af84-26d2b5ec87c2",
   "metadata": {},
   "source": [
    "---\n",
    "#### Find best k neighbors - elbow analysis"
   ]
  },
  {
   "cell_type": "code",
   "execution_count": null,
   "id": "f90f455e-a7af-4d73-b86f-4dce2eb7a809",
   "metadata": {},
   "outputs": [],
   "source": [
    "k_values = list(range(3, 40, 2))\n",
    "accuracies = get_knn_accuracies(k_values, X_train, y_train, X_test, y_test)\n",
    "error_rates = get_knn_error_rates(k_values, X_train, y_train, X_test, y_test)\n",
    "plot_knn_k_param(k_values, accuracies, error_rates)"
   ]
  },
  {
   "cell_type": "markdown",
   "id": "d087b112-6526-4371-907e-f99e38ec3f70",
   "metadata": {},
   "source": [
    "### Change number of features\n",
    "- evaluate kNN classification accuracies in each feature domain\n",
    "  - features for each axis separately (x, y, z)\n",
    "  - features in each measurement poins (a, b)"
   ]
  },
  {
   "cell_type": "code",
   "execution_count": null,
   "id": "c250be43-c75b-455f-bd0c-927a7598809a",
   "metadata": {},
   "outputs": [],
   "source": [
    "TRAINING_SET_RATIO = 0.8\n",
    "DIST_METRIC = 'euclidean'\n",
    "FEATURE_SELECTION_METHOD = mutual_info_classif\n",
    "KNN_K_VALUES = list(range(3, 20, 2))\n",
    "WINDOW_SIZE = 2**14\n",
    "\n",
    "def evaluate_knn_number_of_features(features_filename, domain):    \n",
    "    results = []\n",
    "    X_train0, y_train0, X_test0, y_test0 = models.load_feature_set(\n",
    "        features_filename, \n",
    "        selection.FAULT_CLASSES,\n",
    "        SOURCE_AXIS,\n",
    "        'fault', \n",
    "        train_size=TRAINING_SET_RATIO, \n",
    "        anomaly_severity=ANOMALY_SEVERITY,\n",
    "        balance=True,\n",
    "        rpm_limit=False,\n",
    "        window_size=WINDOW_SIZE,\n",
    "        domain=domain\n",
    "    )\n",
    "    for n in tqdm(range(1, len(X_train0.columns) + 1)):\n",
    "        X_train, X_test, y_train, y_test = models.pipeline_v1_core(\n",
    "            FEATURE_SELECTION_METHOD, n,\n",
    "            X_train0, y_train0, X_test0, y_test0\n",
    "        )\n",
    "\n",
    "        metric = get_knn_error_rates(KNN_K_VALUES, X_train, y_train, X_test, y_test)\n",
    "        kneedle = KneeLocator(KNN_K_VALUES, metric, S=1.0, curve='convex', direction='decreasing')\n",
    "        results.append([n, kneedle.elbow, kneedle.knee_y])\n",
    "    \n",
    "    return pd.DataFrame(results, columns=['n_features', 'k_neighbors', 'error_rate'])\n",
    "\n",
    "\n",
    "def find_optimal_error_rate(success):\n",
    "    plt.plot(success['n_features'], success['error_rate'])\n",
    "    plt.grid()\n",
    "    plt.xlabel('Number of features')\n",
    "    plt.ylabel('Error rate')\n",
    "\n",
    "    kneedle = KneeLocator(\n",
    "        success['n_features'], success['error_rate'], \n",
    "        S=1.0, curve='convex', direction='decreasing'\n",
    "    )\n",
    "    best = success[success['n_features'] == kneedle.elbow]\n",
    "    return best\n",
    "\n",
    "\n",
    "def kfold_validate_knn(features_filename):\n",
    "    features = pd.read_csv(FD_FEATURES)\n",
    "    features = models.fault_labeling(features, selection.FAULT_CLASSES)\n",
    "    columns = features.columns.str.startswith(tuple(['ax', 'ay', 'az']))\n",
    "    X = features[features.columns[columns]]\n",
    "    y = features['fault'].astype('category')\n",
    "\n",
    "    # crossvalid = StratifiedShuffleSplit(n_splits=5, test_size=0.6, random_state=100)\n",
    "    crossvalid = StratifiedKFold(n_splits=5)\n",
    "    evaluation = []\n",
    "\n",
    "    for train_index, test_index in tqdm(crossvalid.split(X, y)):\n",
    "        X_train, y_train = X.iloc[train_index], y.iloc[train_index]\n",
    "        X_test, y_test = X.iloc[test_index], y.iloc[test_index]\n",
    "\n",
    "        X_train, X_test, y_train, y_test = models.pipeline_v1_core(\n",
    "            FSEL_METHOD, N_FEATURES, \n",
    "            X_train, y_train, X_test, y_test\n",
    "        )\n",
    "\n",
    "        if DIST_METRIC == 'euclidean':\n",
    "            d = 'euclidean'\n",
    "        elif DIST_METRIC == 'mahalanobis':\n",
    "            d = lambda x, y: mahalanobis(x, y, np.cov(X_train.T))\n",
    "        elif DIST_METRIC == 'rbf':\n",
    "            d = lambda x, y: np.exp(-euclidean(x, y)**2 * (1 / len(x)))\n",
    "\n",
    "        knn = KNeighborsClassifier(n_neighbors=N_NEIGHBOURS, metric=d)\n",
    "        knn.fit(X_train, y_train)\n",
    "        y_predict_train = knn.predict(X_train)\n",
    "        y_predict_test = knn.predict(X_test)\n",
    "\n",
    "        evaluation.append({\n",
    "            'train_accuracy': metrics.accuracy_score(y_train, y_predict_train),\n",
    "            'train_precision': metrics.precision_score(y_train, y_predict_train, average='micro'),\n",
    "            'train_recall': metrics.recall_score(y_train, y_predict_train, average='micro'),\n",
    "            'test_accuracy': metrics.accuracy_score(y_test, y_predict_test),\n",
    "            'test_precision': metrics.precision_score(y_test, y_predict_test, average='micro'),\n",
    "            'test_recall': metrics.recall_score(y_test, y_predict_test, average='micro')\n",
    "        })\n",
    "\n",
    "    print(f'Most informative features: {list(X_train.columns)}')\n",
    "    evaluation = pd.DataFrame.from_records(evaluation)\n",
    "    print(evaluation.mean())"
   ]
  }
 ],
 "metadata": {
  "kernelspec": {
   "display_name": "Python 3 (ipykernel)",
   "language": "python",
   "name": "python3"
  },
  "language_info": {
   "codemirror_mode": {
    "name": "ipython",
    "version": 3
   },
   "file_extension": ".py",
   "mimetype": "text/x-python",
   "name": "python",
   "nbconvert_exporter": "python",
   "pygments_lexer": "ipython3",
   "version": "3.11.6"
  }
 },
 "nbformat": 4,
 "nbformat_minor": 5
}
