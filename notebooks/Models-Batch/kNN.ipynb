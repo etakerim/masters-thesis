{
 "cells": [
  {
   "cell_type": "code",
   "execution_count": null,
   "id": "12dca216-9915-401d-aa2a-0eb1869877e3",
   "metadata": {},
   "outputs": [],
   "source": [
    "import numpy as np\n",
    "import pandas as pd\n",
    "from zipfile import ZipFile\n",
    "\n",
    "# Feature selection\n",
    "from scipy.stats import pearsonr\n",
    "from sklearn.feature_selection import mutual_info_classif, f_classif\n",
    "\n",
    "# Models\n",
    "from scipy.spatial.distance import euclidean, mahalanobis\n",
    "from sklearn.metrics.pairwise import rbf_kernel\n",
    "\n",
    "from sklearn.model_selection import train_test_split\n",
    "from sklearn.model_selection import KFold, StratifiedKFold, StratifiedShuffleSplit\n",
    "from sklearn.neighbors import KNeighborsClassifier\n",
    "from sklearn.preprocessing import MinMaxScaler\n",
    "\n",
    "# Model evaluation\n",
    "from sklearn import metrics\n",
    "from kneed import KneeLocator\n",
    "\n",
    "# Plotting and table formatting\n",
    "import matplotlib.pyplot as plt\n",
    "from IPython.display import Markdown\n",
    "from tabulate import tabulate\n",
    "import seaborn as sb\n",
    "from collections import Counter\n",
    "from tqdm.notebook import tqdm\n",
    "\n",
    "# System modules\n",
    "import os\n",
    "import sys\n",
    "sys.path.append('../')\n",
    "\n",
    "# Custom modules\n",
    "from vibrodiagnostics import (\n",
    "    mafaulda,\n",
    "    discovery, \n",
    "    selection,\n",
    "    models\n",
    ")\n",
    "\n",
    "TRAIN_SET_RATIO = 0.7\n",
    "ANOMALY_SEVERITY = 0.7\n",
    "SOURCE_AXIS = ('ax', 'ay', 'az')\n",
    "TARGET = 'fault'\n",
    "\n",
    "PATH_PREFIX = '../../datasets/'\n",
    "FEATURES_PATH =  os.path.join(PATH_PREFIX, 'features_data')\n",
    "\n",
    "TD_FD_FEATURES = os.path.join(FEATURES_PATH, selection.TIME_AND_FREQ_FEATURES_PATH)\n",
    "TD_FEATURES = os.path.join(FEATURES_PATH, selection.TIME_FEATURES_PATH)\n",
    "FD_FEATURES = os.path.join(FEATURES_PATH, selection.FREQ_FEATURES_PATH)\n",
    "\n",
    "TSFEL_FEATURES = os.path.join(FEATURES_PATH, selection.TSFEL_FEATURES_PATH)\n",
    "TSFEL_TD_FEATURES = os.path.join(FEATURES_PATH, selection.TSFEL_TIME_FEATURES_PATH)\n",
    "TSFEL_FD_FEATURES = os.path.join(FEATURES_PATH, selection.TSFEL_FREQ_FEATURES_PATH)\n",
    "TSFEL_SD_FEATURES = os.path.join(FEATURES_PATH, selection.TSFEL_STAT_FEATURES_PATH)"
   ]
  },
  {
   "cell_type": "markdown",
   "id": "33e4fb79-b0dd-48ae-bf5d-b2b4da8cebbb",
   "metadata": {},
   "source": [
    "Parameters:\n",
    "- Distance metric\n",
    "- k neighbours (odd numbers because of majority voting) - elbow curve"
   ]
  },
  {
   "cell_type": "markdown",
   "id": "8e67e970-111c-448b-837a-1c84144e7a1a",
   "metadata": {},
   "source": [
    "#### Features import and transformations"
   ]
  },
  {
   "cell_type": "code",
   "execution_count": null,
   "metadata": {},
   "outputs": [],
   "source": [
    "TRAINING_SET_RATIO = 0.6\n",
    "N_FEATURES = 3\n",
    "N_NEIGHBOURS = 5\n",
    "DIST_METRIC = 'euclidean'\n",
    "FSEL_METHOD = mutual_info_classif\n",
    "\n",
    "\n",
    "X_train, y_train, X_test, y_test = models.features_subset_offline(\n",
    "    TD_FD_FEATURES, selection.FAULT_CLASSES, SOURCE_AXIS, 'fault', \n",
    "    train_size=TRAIN_SET_RATIO, anomaly_severity=ANOMALY_SEVERITY\n",
    ")\n",
    "X_train, X_test, y_train, y_test = models.pipeline_v1_core(\n",
    "    FSEL_METHOD, N_FEATURES,\n",
    "    X_train, y_train, X_test, y_test\n",
    ")"
   ]
  },
  {
   "cell_type": "markdown",
   "id": "9bf2a32d-8a8b-44c9-990b-2f400fdbf3f8",
   "metadata": {},
   "source": [
    "#### Classification with kNN"
   ]
  },
  {
   "cell_type": "code",
   "execution_count": null,
   "id": "6b5a69d3-46ee-44aa-9863-a217a7c45bed",
   "metadata": {},
   "outputs": [],
   "source": [
    "knn = KNeighborsClassifier(n_neighbors=N_NEIGHBOURS, metric=DIST_METRIC, algorithm='kd_tree')\n",
    "knn.fit(X_train, y_train)\n",
    "y_predict_train = knn.predict(X_train)\n",
    "y_predict_test = knn.predict(X_test)"
   ]
  },
  {
   "cell_type": "markdown",
   "id": "027b5b80-d7a4-4b75-8837-67b5a6ec3187",
   "metadata": {},
   "source": [
    "#### Get the classification report"
   ]
  },
  {
   "cell_type": "code",
   "execution_count": null,
   "id": "5b735c6a-6d43-4182-b5cb-2df0538f067a",
   "metadata": {},
   "outputs": [],
   "source": [
    "print(f'Train accuracy: {metrics.accuracy_score(y_train, y_predict_train):.4f}')\n",
    "print(f'Test accuracy: {metrics.accuracy_score(y_test, y_predict_test):.4f}')\n",
    "print(metrics.classification_report(y_test, y_predict_test))"
   ]
  },
  {
   "cell_type": "markdown",
   "id": "162c8afb-0b73-42eb-b840-90ca1a56cad4",
   "metadata": {},
   "source": [
    "#### Confusion matrix"
   ]
  },
  {
   "cell_type": "code",
   "execution_count": null,
   "id": "45f5a17e-896a-4a54-951d-47e7014e6ea7",
   "metadata": {},
   "outputs": [],
   "source": [
    "cm = metrics.confusion_matrix(y_test, y_predict_test)\n",
    "ax = sb.heatmap(cm, cbar=True, cmap='BuGn', annot=True, fmt='d')"
   ]
  },
  {
   "cell_type": "markdown",
   "id": "48554857-8dce-4d62-af84-26d2b5ec87c2",
   "metadata": {},
   "source": [
    "#### Find best k neighbors - elbow analysis"
   ]
  },
  {
   "cell_type": "code",
   "execution_count": null,
   "id": "603e5e41-1005-4b43-a956-1ee1fe7e7b4b",
   "metadata": {},
   "outputs": [],
   "source": [
    "def get_knn_error_rates(k_values, X_train, y_train, X_test, y_test):\n",
    "    errors = []\n",
    "    for k in k_values:\n",
    "        knn = KNeighborsClassifier(n_neighbors=k, algorithm='kd_tree', metric=DIST_METRIC)\n",
    "        knn.fit(X_train, y_train)\n",
    "        y_predict = knn.predict(X_test)\n",
    "        errors.append(np.mean(y_predict != y_test))\n",
    "    return errors\n",
    "\n",
    "\n",
    "def get_knn_accuracies(k_values, X_train, y_train, X_test, y_test):\n",
    "    accuracies = []\n",
    "\n",
    "    for k in k_values:\n",
    "        knn = KNeighborsClassifier(n_neighbors=k, algorithm='kd_tree', metric=DIST_METRIC)\n",
    "        knn.fit(X_train, y_train)\n",
    "        y_predict = knn.predict(X_test)\n",
    "        accuracies.append(metrics.accuracy_score(y_test, y_predict))\n",
    "    return accuracies\n",
    "\n",
    "\n",
    "def plot_knn_k_param(k_values, accuracies, error_rates):\n",
    "    fig, ax = plt.subplots(1, 2, figsize=(15, 4))\n",
    "    \n",
    "    ax[0].plot(k_values, accuracies, color='darkblue', marker='o', markerfacecolor='darkgreen', markersize=5)\n",
    "    ax[0].set_xlabel('K neighbors')\n",
    "    ax[0].set_ylabel('Accuracy')\n",
    "    ax[0].grid(True)\n",
    "\n",
    "    ax[1].plot(k_values, error_rates, color='darkblue', marker='o', markerfacecolor='darkgreen', markersize=5)\n",
    "    ax[1].set_xlabel('K neighbors')\n",
    "    ax[1].set_ylabel('Error rate')\n",
    "    ax[1].grid(True)\n",
    "    \n",
    "    plt.show()"
   ]
  },
  {
   "cell_type": "code",
   "execution_count": null,
   "id": "f90f455e-a7af-4d73-b86f-4dce2eb7a809",
   "metadata": {},
   "outputs": [],
   "source": [
    "k_values = list(range(3, 40, 2))\n",
    "accuracies = get_knn_accuracies(k_values, X_train, y_train, X_test, y_test)\n",
    "error_rates = get_knn_error_rates(k_values, X_train, y_train, X_test, y_test)\n",
    "plot_knn_k_param(k_values, accuracies, error_rates)"
   ]
  },
  {
   "cell_type": "markdown",
   "id": "d087b112-6526-4371-907e-f99e38ec3f70",
   "metadata": {},
   "source": [
    "### Change number of features\n",
    "- evaluate kNN classification accuracies in each feature domain\n",
    "  - features for each axis separately (x, y, z)\n",
    "  - features in each measurement poins (a, b)"
   ]
  },
  {
   "cell_type": "code",
   "execution_count": null,
   "id": "c250be43-c75b-455f-bd0c-927a7598809a",
   "metadata": {},
   "outputs": [],
   "source": [
    "TRAINING_SET_RATIO = 0.6\n",
    "DIST_METRIC = 'euclidean'\n",
    "FEATURE_SELECTION_METHOD = mutual_info_classif\n",
    "KNN_K_VALUES = list(range(3, 20, 2))\n",
    "\n",
    "def evaluate_knn_number_of_features(features_filename):    \n",
    "    results = []\n",
    "    X_train0, y_train0, X_test0, y_test0 = models.features_subset_offline(\n",
    "        features_filename, selection.FAULT_CLASSES, SOURCE_AXIS, TARGET, \n",
    "        train_size=TRAINING_SET_RATIO, anomaly_severity=ANOMALY_SEVERITY\n",
    "    )\n",
    "\n",
    "    for n in tqdm(range(1, len(X_train0.columns) + 1)):\n",
    "        X_train, X_test, y_train, y_test = models.pipeline_v1_core(\n",
    "            FEATURE_SELECTION_METHOD, n,\n",
    "            X_train0, y_train0, X_test0, y_test0\n",
    "        )\n",
    "\n",
    "        metric = get_knn_error_rates(KNN_K_VALUES, X_train, y_train, X_test, y_test)\n",
    "        kneedle = KneeLocator(KNN_K_VALUES, metric, S=1.0, curve='convex', direction='decreasing')\n",
    "        results.append([n, kneedle.elbow, kneedle.knee_y])\n",
    "    \n",
    "    return pd.DataFrame(results, columns=['n_features', 'k_neighbors', 'error_rate'])\n",
    "\n",
    "\n",
    "def find_optimal_error_rate(success):\n",
    "    plt.plot(success['n_features'], success['error_rate'])\n",
    "    plt.grid()\n",
    "    plt.xlabel('Number of features')\n",
    "    plt.ylabel('Error rate')\n",
    "\n",
    "    kneedle = KneeLocator(\n",
    "        success['n_features'], success['error_rate'], \n",
    "        S=1.0, curve='convex', direction='decreasing'\n",
    "    )\n",
    "    best = success[success['n_features'] == kneedle.elbow]\n",
    "    return best\n",
    "\n",
    "\n",
    "def knn_all_evaluate(features_filename, title, subset=None, k=5):\n",
    "    X_train, y_train, X_test, y_test = models.features_subset_offline(\n",
    "        features_filename, selection.FAULT_CLASSES, SOURCE_AXIS, TARGET, \n",
    "        train_size=TRAINING_SET_RATIO, anomaly_severity=ANOMALY_SEVERITY\n",
    "    )\n",
    "\n",
    "    if subset is not None:\n",
    "        # subset feature columns\n",
    "        subset = [f'az_{col}' for col in subset]\n",
    "        X_train = X_train[subset]\n",
    "        X_test = X_test[subset]\n",
    "\n",
    "    scaler = MinMaxScaler()\n",
    "    X_train[X_train.columns] = scaler.fit_transform(X_train)\n",
    "    X_test[X_test.columns] = scaler.transform(X_test)\n",
    "\n",
    "    knn = KNeighborsClassifier(n_neighbors=k, metric=DIST_METRIC)\n",
    "    knn.fit(X_train, y_train)\n",
    "    y_predict_train = knn.predict(X_train)\n",
    "    y_predict_test = knn.predict(X_test)\n",
    "\n",
    "    y_proba_train = knn.predict_proba(X_train)\n",
    "    y_proba_test = knn.predict_proba(X_test)\n",
    "\n",
    "    return {\n",
    "        'feature_set': title,\n",
    "        'train_accuracy': metrics.accuracy_score(y_train, y_predict_train),\n",
    "        'train_precision': metrics.precision_score(y_train, y_predict_train, average='micro'),\n",
    "        'train_recall': metrics.recall_score(y_train, y_predict_train, average='micro'),\n",
    "        'train_auc': metrics.roc_auc_score(y_train, y_proba_train, multi_class='ovo', average='macro'), # class imbalance insensivity\n",
    "        'test_accuracy': metrics.accuracy_score(y_test, y_predict_test),\n",
    "        'test_precision': metrics.precision_score(y_test, y_predict_test, average='micro'),\n",
    "        'test_recall': metrics.recall_score(y_test, y_predict_test, average='micro'),\n",
    "        'test_auc': metrics.roc_auc_score(y_test, y_proba_test, multi_class='ovo', average='macro')\n",
    "    }\n",
    "\n",
    "\n",
    "def knn_best_evaluate(features_filename, best):\n",
    "    k_best = best['k_neighbors'].to_numpy()[0]\n",
    "    n_best = best['n_features'].to_numpy()[0]\n",
    "\n",
    "    X_train0, y_train0, X_test0, y_test0 = models.features_subset_offline(\n",
    "        features_filename, selection.FAULT_CLASSES, SOURCE_AXIS, TARGET, \n",
    "        train_size=TRAINING_SET_RATIO, anomaly_severity=ANOMALY_SEVERITY\n",
    "    )\n",
    "\n",
    "    X_train, X_test, y_train, y_test = models.pipeline_v1_core(\n",
    "        FEATURE_SELECTION_METHOD, n_best,\n",
    "        X_train0, y_train0, X_test0, y_test0\n",
    "    )\n",
    "    knn = KNeighborsClassifier(n_neighbors=k_best, metric=DIST_METRIC)\n",
    "    knn.fit(X_train, y_train)\n",
    "    y_predict_train = knn.predict(X_train)\n",
    "    y_predict_test = knn.predict(X_test)\n",
    "\n",
    "    print(f'Train accuracy: {metrics.accuracy_score(y_train, y_predict_train):.4f} %')\n",
    "    print(f'Test accuracy: {metrics.accuracy_score(y_test, y_predict_test):.4f} %')\n",
    "    print(metrics.classification_report(y_test, y_predict_test))\n",
    "    \n",
    "    print('Most informative features:')\n",
    "    print(list(X_train.columns))\n",
    "\n",
    "\n",
    "def kfold_validate_knn(features_filename):\n",
    "    features = pd.read_csv(FD_FEATURES)\n",
    "    features = models.fault_labeling(features, selection.FAULT_CLASSES)\n",
    "    columns = features.columns.str.startswith(tuple(['ax', 'ay', 'az']))\n",
    "    X = features[features.columns[columns]]\n",
    "    y = features['fault'].astype('category')\n",
    "\n",
    "    # crossvalid = StratifiedShuffleSplit(n_splits=5, test_size=0.6, random_state=100)\n",
    "    crossvalid = StratifiedKFold(n_splits=5)\n",
    "    evaluation = []\n",
    "\n",
    "    for train_index, test_index in tqdm(crossvalid.split(X, y)):\n",
    "        X_train, y_train = X.iloc[train_index], y.iloc[train_index]\n",
    "        X_test, y_test = X.iloc[test_index], y.iloc[test_index]\n",
    "\n",
    "        X_train, X_test, y_train, y_test = models.pipeline_v1_core(\n",
    "            FSEL_METHOD, N_FEATURES, \n",
    "            X_train, y_train, X_test, y_test\n",
    "        )\n",
    "\n",
    "        if DIST_METRIC == 'euclidean':\n",
    "            d = 'euclidean'\n",
    "        elif DIST_METRIC == 'mahalanobis':\n",
    "            d = lambda x, y: mahalanobis(x, y, np.cov(X_train.T))\n",
    "        elif DIST_METRIC == 'rbf':\n",
    "            d = lambda x, y: np.exp(-euclidean(x, y)**2 * (1 / len(x)))\n",
    "\n",
    "        knn = KNeighborsClassifier(n_neighbors=N_NEIGHBOURS, metric=d)\n",
    "        knn.fit(X_train, y_train)\n",
    "        y_predict_train = knn.predict(X_train)\n",
    "        y_predict_test = knn.predict(X_test)\n",
    "\n",
    "        evaluation.append({\n",
    "            'train_accuracy': metrics.accuracy_score(y_train, y_predict_train),\n",
    "            'train_precision': metrics.precision_score(y_train, y_predict_train, average='micro'),\n",
    "            'train_recall': metrics.recall_score(y_train, y_predict_train, average='micro'),\n",
    "            'test_accuracy': metrics.accuracy_score(y_test, y_predict_test),\n",
    "            'test_precision': metrics.precision_score(y_test, y_predict_test, average='micro'),\n",
    "            'test_recall': metrics.recall_score(y_test, y_predict_test, average='micro')\n",
    "        })\n",
    "\n",
    "    print(f'Most informative features: {list(X_train.columns)}')\n",
    "    evaluation = pd.DataFrame.from_records(evaluation)\n",
    "    print(evaluation.mean())"
   ]
  },
  {
   "cell_type": "markdown",
   "metadata": {},
   "source": [
    "#### Feature set #1: Custom features all"
   ]
  },
  {
   "cell_type": "code",
   "execution_count": null,
   "id": "8c9bb578-d65e-441b-9948-c20cef82b8a2",
   "metadata": {},
   "outputs": [],
   "source": [
    "success = evaluate_knn_number_of_features(TD_FD_FEATURES)\n",
    "success"
   ]
  },
  {
   "cell_type": "code",
   "execution_count": null,
   "id": "443ea4f2-4b79-4051-b4cf-9257ff72e585",
   "metadata": {},
   "outputs": [],
   "source": [
    "best = find_optimal_error_rate(success)\n",
    "best"
   ]
  },
  {
   "cell_type": "code",
   "execution_count": null,
   "id": "73ba738c-8ce9-41d1-b579-c6f25d1e9e76",
   "metadata": {},
   "outputs": [],
   "source": [
    "knn_best_evaluate(TD_FD_FEATURES, best)"
   ]
  },
  {
   "cell_type": "code",
   "execution_count": null,
   "id": "b7c0e593",
   "metadata": {},
   "outputs": [],
   "source": [
    "kfold_validate_knn(TD_FD_FEATURES)"
   ]
  },
  {
   "cell_type": "markdown",
   "metadata": {},
   "source": [
    "#### Feature set #2: Custom time domain features"
   ]
  },
  {
   "cell_type": "code",
   "execution_count": null,
   "metadata": {},
   "outputs": [],
   "source": [
    "success = evaluate_knn_number_of_features(TD_FEATURES)\n",
    "success"
   ]
  },
  {
   "cell_type": "code",
   "execution_count": null,
   "metadata": {},
   "outputs": [],
   "source": [
    "best = find_optimal_error_rate(success)\n",
    "best"
   ]
  },
  {
   "cell_type": "code",
   "execution_count": null,
   "metadata": {},
   "outputs": [],
   "source": [
    "knn_best_evaluate(TD_FEATURES, best)"
   ]
  },
  {
   "cell_type": "code",
   "execution_count": null,
   "metadata": {},
   "outputs": [],
   "source": [
    "kfold_validate_knn(TD_FEATURES)"
   ]
  },
  {
   "cell_type": "markdown",
   "metadata": {},
   "source": [
    "#### Feature set #3: Custom frequency domain features"
   ]
  },
  {
   "cell_type": "code",
   "execution_count": null,
   "metadata": {},
   "outputs": [],
   "source": [
    "success = evaluate_knn_number_of_features(FD_FEATURES)\n",
    "success"
   ]
  },
  {
   "cell_type": "code",
   "execution_count": null,
   "metadata": {},
   "outputs": [],
   "source": [
    "best = find_optimal_error_rate(success)\n",
    "best"
   ]
  },
  {
   "cell_type": "code",
   "execution_count": null,
   "metadata": {},
   "outputs": [],
   "source": [
    "knn_best_evaluate(FD_FEATURES, best)"
   ]
  },
  {
   "cell_type": "code",
   "execution_count": null,
   "metadata": {},
   "outputs": [],
   "source": [
    "kfold_validate_knn(FD_FEATURES)"
   ]
  },
  {
   "cell_type": "markdown",
   "metadata": {},
   "source": [
    "#### Feature set #4: TSFEL features all"
   ]
  },
  {
   "cell_type": "code",
   "execution_count": null,
   "metadata": {},
   "outputs": [],
   "source": [
    "success = evaluate_knn_number_of_features(TSFEL_FEATURES)\n",
    "success"
   ]
  },
  {
   "cell_type": "code",
   "execution_count": null,
   "metadata": {},
   "outputs": [],
   "source": [
    "best = find_optimal_error_rate(success)\n",
    "best"
   ]
  },
  {
   "cell_type": "code",
   "execution_count": null,
   "metadata": {},
   "outputs": [],
   "source": [
    "knn_best_evaluate(TSFEL_FEATURES, best)"
   ]
  },
  {
   "cell_type": "code",
   "execution_count": null,
   "metadata": {},
   "outputs": [],
   "source": [
    "kfold_validate_knn(TSFEL_FEATURES)"
   ]
  },
  {
   "cell_type": "markdown",
   "metadata": {},
   "source": [
    "#### Feature set #5: TSFEL temporal domain features"
   ]
  },
  {
   "cell_type": "code",
   "execution_count": null,
   "metadata": {},
   "outputs": [],
   "source": [
    "success = evaluate_knn_number_of_features(TSFEL_TD_FEATURES)\n",
    "success"
   ]
  },
  {
   "cell_type": "code",
   "execution_count": null,
   "metadata": {},
   "outputs": [],
   "source": [
    "best = find_optimal_error_rate(success)\n",
    "best"
   ]
  },
  {
   "cell_type": "code",
   "execution_count": null,
   "metadata": {},
   "outputs": [],
   "source": [
    "knn_best_evaluate(TSFEL_TD_FEATURES, best)"
   ]
  },
  {
   "cell_type": "code",
   "execution_count": null,
   "metadata": {},
   "outputs": [],
   "source": [
    "kfold_validate_knn(TSFEL_TD_FEATURES)"
   ]
  },
  {
   "cell_type": "markdown",
   "metadata": {},
   "source": [
    "#### Feature set #6: TSFEL spectral domain features"
   ]
  },
  {
   "cell_type": "code",
   "execution_count": null,
   "metadata": {},
   "outputs": [],
   "source": [
    "success = evaluate_knn_number_of_features(TSFEL_FD_FEATURES)\n",
    "success"
   ]
  },
  {
   "cell_type": "code",
   "execution_count": null,
   "metadata": {},
   "outputs": [],
   "source": [
    "best = find_optimal_error_rate(success)\n",
    "best"
   ]
  },
  {
   "cell_type": "code",
   "execution_count": null,
   "metadata": {},
   "outputs": [],
   "source": [
    "knn_best_evaluate(TSFEL_FD_FEATURES, best)"
   ]
  },
  {
   "cell_type": "code",
   "execution_count": null,
   "metadata": {},
   "outputs": [],
   "source": [
    "kfold_validate_knn(TSFEL_FD_FEATURES)"
   ]
  },
  {
   "cell_type": "markdown",
   "metadata": {},
   "source": [
    "#### Feature set #7: TSFEL statistical domain features"
   ]
  },
  {
   "cell_type": "code",
   "execution_count": null,
   "metadata": {},
   "outputs": [],
   "source": [
    "success = evaluate_knn_number_of_features(TSFEL_SD_FEATURES)\n",
    "success"
   ]
  },
  {
   "cell_type": "code",
   "execution_count": null,
   "metadata": {},
   "outputs": [],
   "source": [
    "best = find_optimal_error_rate(success)\n",
    "best"
   ]
  },
  {
   "cell_type": "code",
   "execution_count": null,
   "metadata": {},
   "outputs": [],
   "source": [
    "knn_best_evaluate(TSFEL_SD_FEATURES, best)"
   ]
  },
  {
   "cell_type": "code",
   "execution_count": null,
   "metadata": {},
   "outputs": [],
   "source": [
    "kfold_validate_knn(TSFEL_SD_FEATURES)"
   ]
  },
  {
   "cell_type": "markdown",
   "metadata": {},
   "source": [
    "### Feature sets metrics (all features)"
   ]
  },
  {
   "cell_type": "code",
   "execution_count": null,
   "metadata": {},
   "outputs": [],
   "source": [
    "feature_sets = {\n",
    "    TD_FD_FEATURES: 'Custom all features',\n",
    "    TD_FEATURES: 'Custom time domain features',\n",
    "    FD_FEATURES: 'Custom frequency domain features',\n",
    "    TSFEL_FEATURES: 'TSFEL all features',\n",
    "    TSFEL_TD_FEATURES: 'TSFEL temporal domain features',\n",
    "    TSFEL_FD_FEATURES: 'TSFEL specral domain features',\n",
    "    TSFEL_SD_FEATURES: 'TSFEL statistical features',\n",
    "}\n",
    "success_rates = []\n",
    "for fset, fname in feature_sets.items():\n",
    "    scores = knn_all_evaluate(fset, fname)\n",
    "    success_rates.append(scores)\n",
    "\n",
    "success_rates = pd.DataFrame.from_records(success_rates)\n",
    "success_rates"
   ]
  },
  {
   "cell_type": "markdown",
   "metadata": {},
   "source": [
    "### TODO: Feature Subsets"
   ]
  },
  {
   "cell_type": "code",
   "execution_count": null,
   "metadata": {},
   "outputs": [],
   "source": [
    "# TODO fill list with 3 and 7 most informative features\n",
    "# TODO: targets - fault (place A), anomaly\n",
    "feature_sets = {\n",
    "    (FD_FEATURES, 'Custom frequency domain features'): ['noisiness_1024', 'flux_mean_1024', 'centroid_1024'],\n",
    "    (TD_FEATURES, 'Custom time domain features'): ['shape', 'rms', 'skew'],\n",
    "    (TSFEL_TD_FEATURES, 'TSFEL temporal domain features'): ['area_under_the_curve', 'autocorrelation', 'median_absolute_diff'],\n",
    "    (TSFEL_FD_FEATURES, 'TSFEL spectral domain features'): ['spectral_entropy', 'spectral_roll-on', 'wavelet_entropy'],\n",
    "    (TSFEL_SD_FEATURES, 'TSFEL statistical features'): ['spectral_entropy', 'wavelet_entropy', 'median_absolute_deviation'],\n",
    "}\n",
    "\n",
    "success_rates_subset = []\n",
    "for fset, features in feature_sets.items():\n",
    "    scores = knn_all_evaluate(fset[0], fset[1], subset=features)   # TODO: use all axis (extend ax, ay, az)\n",
    "    success_rates_subset.append(scores)\n",
    "\n",
    "success_rates_subset = pd.DataFrame.from_records(success_rates_subset)\n",
    "success_rates_subset"
   ]
  }
 ],
 "metadata": {
  "kernelspec": {
   "display_name": "Python 3 (ipykernel)",
   "language": "python",
   "name": "python3"
  },
  "language_info": {
   "codemirror_mode": {
    "name": "ipython",
    "version": 3
   },
   "file_extension": ".py",
   "mimetype": "text/x-python",
   "name": "python",
   "nbconvert_exporter": "python",
   "pygments_lexer": "ipython3",
   "version": "3.11.5"
  }
 },
 "nbformat": 4,
 "nbformat_minor": 5
}
