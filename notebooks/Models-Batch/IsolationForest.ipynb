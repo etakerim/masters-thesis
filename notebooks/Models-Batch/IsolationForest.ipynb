{
 "cells": [
  {
   "cell_type": "code",
   "execution_count": null,
   "metadata": {},
   "outputs": [],
   "source": [
    "from sklearn.ensemble import IsolationForest\n",
    "from sklearn.feature_selection import mutual_info_classif, f_classif\n",
    "from sklearn.model_selection import KFold\n",
    "from sklearn import metrics\n",
    "\n",
    "import matplotlib.pyplot as plt\n",
    "import pandas as pd\n",
    "\n",
    "import sys\n",
    "sys.path.append('../')\n",
    "from vibrodiagnostics.selection import load_td_feat, load_fd_feat\n",
    "from vibrodiagnostics.models import (\n",
    "    fault_labeling, pipeline_v1, pipeline_v1_core, filter_out_metadata_columns\n",
    ")\n",
    "from tqdm.notebook import tqdm\n",
    "\n",
    "\n",
    "FEATURES_PATH =  '../../datasets/features_data/'\n",
    "FAULT_CLASSES = {\n",
    "    'normal': 'N',\n",
    "    'imbalance': 'I',\n",
    "    'horizontal-misalignment': 'HM',\n",
    "    'vertical-misalignment': 'VM'\n",
    "}"
   ]
  },
  {
   "cell_type": "code",
   "execution_count": null,
   "metadata": {},
   "outputs": [],
   "source": [
    "def anomalies_cluster_plot(dataframe, outliers):\n",
    "    df = dataframe.copy()\n",
    "    df['outlier'] = outliers.copy()\n",
    "    df['outlier'] = df['outlier'].astype('category')\n",
    "    \n",
    "    fig, ax = plt.subplots(1, 3, figsize=(15, 3))\n",
    "    \n",
    "    for i, axes in enumerate(((0, 1), (0, 2), (1, 2))):\n",
    "        a, b = axes\n",
    "        ax[i].grid()\n",
    "        ax[i].set_xlabel(df.columns[a])\n",
    "        ax[i].set_ylabel(df.columns[b])\n",
    "        x = df.loc[:, df.columns[a]]\n",
    "        y = df.loc[:, df.columns[b]]\n",
    "        ax[i].scatter(x, y, color='grey', s=1)\n",
    "    \n",
    "        inliers = list(df[df['outlier'] == False].index)\n",
    "        x = df.loc[inliers, df.columns[a]]\n",
    "        y = df.loc[inliers, df.columns[b]]\n",
    "        ax[i].scatter(x, y, color='green', s=1)\n",
    "    \n",
    "        outliers = list(df[df['outlier'] == True].index)\n",
    "        x = df.loc[outliers, df.columns[a]]\n",
    "        y = df.loc[outliers, df.columns[b]]\n",
    "        ax[i].scatter(x, y, color='red', s=1)"
   ]
  },
  {
   "cell_type": "markdown",
   "metadata": {},
   "source": [
    "Time domain features"
   ]
  },
  {
   "cell_type": "code",
   "execution_count": null,
   "metadata": {},
   "outputs": [],
   "source": [
    "dataset = fault_labeling(load_td_feat(['ax', 'ay', 'az'], path=FEATURES_PATH), FAULT_CLASSES)\n",
    "X_train, X_test, y_train, y_test = pipeline_v1(\n",
    "    dataset, train=0.7, nfeat=3, multiclass=False, anomaly_ratio=0.1, func_select=mutual_info_classif\n",
    ")\n",
    "forest = IsolationForest(n_estimators=15)\n",
    "forest.fit(X_train)\n",
    "train_outliers = forest.predict(X_train)    # For each observation, tells whether or not (+1 or -1) is inlier\n",
    "test_outliers = forest.predict(X_test) \n",
    "\n",
    "train_outliers = pd.Categorical(train_outliers).rename_categories({-1: True, 1: False})\n",
    "print('Most important features:', list(X_train.columns))"
   ]
  },
  {
   "cell_type": "code",
   "execution_count": null,
   "metadata": {},
   "outputs": [],
   "source": [
    "anomalies_cluster_plot(X_train, y_train)\n",
    "plt.suptitle('Ground truth')\n",
    "plt.show()"
   ]
  },
  {
   "cell_type": "code",
   "execution_count": null,
   "metadata": {},
   "outputs": [],
   "source": [
    "anomalies_cluster_plot(X_train, train_outliers)\n",
    "plt.suptitle('Anomalies')\n",
    "plt.show()"
   ]
  },
  {
   "cell_type": "code",
   "execution_count": null,
   "metadata": {},
   "outputs": [],
   "source": [
    "print(f'Train accuracy: {metrics.accuracy_score(y_train, train_outliers):.4f}')\n",
    "print(f'Test accuracy: {metrics.accuracy_score(y_test, test_outliers):.4f}')"
   ]
  },
  {
   "cell_type": "markdown",
   "metadata": {},
   "source": [
    "Frequency domain features"
   ]
  },
  {
   "cell_type": "code",
   "execution_count": null,
   "metadata": {},
   "outputs": [],
   "source": [
    "dataset = fault_labeling(load_fd_feat(['ax', 'ay', 'az'], path=FEATURES_PATH), FAULT_CLASSES)\n",
    "X_train, X_test, y_train, y_test = pipeline_v1(\n",
    "    dataset, train=0.7, nfeat=3, multiclass=False, anomaly_ratio=0.1, func_select=mutual_info_classif\n",
    ")\n",
    "forest = IsolationForest(n_estimators=15)\n",
    "forest.fit(X_train)\n",
    "train_outliers = forest.predict(X_train)    # For each observation, tells whether or not (+1 or -1) is inlier\n",
    "test_outliers = forest.predict(X_test) \n",
    "\n",
    "train_outliers = pd.Categorical(train_outliers).rename_categories({-1: True, 1: False})\n",
    "print('Most important features:', list(X_train.columns))"
   ]
  },
  {
   "cell_type": "code",
   "execution_count": null,
   "metadata": {},
   "outputs": [],
   "source": [
    "anomalies_cluster_plot(X_train, y_train)\n",
    "plt.suptitle('Ground truth')\n",
    "plt.show()"
   ]
  },
  {
   "cell_type": "code",
   "execution_count": null,
   "metadata": {},
   "outputs": [],
   "source": [
    "anomalies_cluster_plot(X_train, train_outliers)\n",
    "plt.suptitle('Anomalies')\n",
    "plt.show()"
   ]
  },
  {
   "cell_type": "code",
   "execution_count": null,
   "metadata": {},
   "outputs": [],
   "source": [
    "print(f'Train accuracy: {metrics.accuracy_score(y_train, train_outliers):.4f}')\n",
    "print(f'Test accuracy: {metrics.accuracy_score(y_test, test_outliers):.4f}')"
   ]
  },
  {
   "cell_type": "markdown",
   "metadata": {},
   "source": [
    "Find best number of features"
   ]
  },
  {
   "cell_type": "code",
   "execution_count": null,
   "metadata": {},
   "outputs": [],
   "source": [
    "def cross_validate(X, y, num_of_features, estimators):\n",
    "\n",
    "    evaluation = []\n",
    "    kfold = KFold(n_splits=5)\n",
    "    \n",
    "    for train_index, test_index in kfold.split(X, y):\n",
    "        X_train, y_train = X.iloc[train_index], y.iloc[train_index]\n",
    "        X_test, y_test = X.iloc[test_index], y.iloc[test_index]\n",
    "\n",
    "        X_train, X_test, y_train, y_test = pipeline_v1_core(\n",
    "            FSEL_METHOD, num_of_features, \n",
    "            X_train, y_train, X_test, y_test\n",
    "        )\n",
    "\n",
    "        forest = IsolationForest(n_estimators=estimators)\n",
    "        forest.fit(X_train)\n",
    "        y_predict_train = forest.predict(X_train)\n",
    "        y_predict_test = forest.predict(X_test)\n",
    "        \n",
    "        y_predict_train = pd.Categorical(y_predict_train).rename_categories({-1: True, 1: False})\n",
    "        y_predict_test = pd.Categorical(y_predict_test).rename_categories({-1: True, 1: False})\n",
    "\n",
    "        evaluation.append([\n",
    "            num_of_features,\n",
    "            metrics.accuracy_score(y_train, y_predict_train),\n",
    "            metrics.precision_score(y_train, y_predict_train, average='micro'),\n",
    "            metrics.recall_score(y_train, y_predict_train, average='micro'),\n",
    "            metrics.accuracy_score(y_test, y_predict_test),\n",
    "            metrics.precision_score(y_test, y_predict_test, average='micro'),\n",
    "            metrics.recall_score(y_test, y_predict_test, average='micro')\n",
    "        ])\n",
    "\n",
    "    evaluation = pd.DataFrame(evaluation, \n",
    "        columns=[\n",
    "            'features',\n",
    "            'train_accuracy', 'train_precision', 'train_recall', \n",
    "            'test_accuracy', 'test_precision', 'test_recall'\n",
    "        ]\n",
    "    )\n",
    "    return evaluation.mean().to_frame().T"
   ]
  },
  {
   "cell_type": "markdown",
   "metadata": {},
   "source": [
    "Time domain features"
   ]
  },
  {
   "cell_type": "code",
   "execution_count": null,
   "metadata": {},
   "outputs": [],
   "source": [
    "TRAINING_SET_RATIO = 0.6\n",
    "N_ESTIMATORS = 25\n",
    "FSEL_METHOD = mutual_info_classif   # f_classif, mutual_info_classif\n",
    "features = fault_labeling(load_td_feat(['az'], path=FEATURES_PATH), FAULT_CLASSES)\n",
    "\n",
    "X = filter_out_metadata_columns(features)\n",
    "y = features['anomaly']\n",
    "\n",
    "rows = []\n",
    "for n in tqdm(range(1, len(X.columns) + 1)):\n",
    "    rows.append(cross_validate(X, y, n, estimators=N_ESTIMATORS))\n",
    "isoforest = pd.concat(rows)\n",
    "isoforest.sort_values(by='test_accuracy', ascending=False).head(10)"
   ]
  },
  {
   "cell_type": "code",
   "execution_count": null,
   "metadata": {},
   "outputs": [],
   "source": [
    "# best\n",
    "X_train, X_test, y_train, y_test = pipeline_v1(\n",
    "    features, \n",
    "    train=TRAINING_SET_RATIO,\n",
    "    func_select=FSEL_METHOD,\n",
    "    nfeat=3\n",
    ")\n",
    "list(X_train.columns)"
   ]
  },
  {
   "cell_type": "markdown",
   "metadata": {},
   "source": [
    "Frequency domain features"
   ]
  },
  {
   "cell_type": "code",
   "execution_count": null,
   "metadata": {},
   "outputs": [],
   "source": [
    "TRAINING_SET_RATIO = 0.6\n",
    "N_ESTIMATORS = 25\n",
    "FSEL_METHOD = mutual_info_classif   # f_classif, mutual_info_classif\n",
    "features = fault_labeling(load_fd_feat(['az'], path=FEATURES_PATH), FAULT_CLASSES)\n",
    "\n",
    "X = filter_out_metadata_columns(features)\n",
    "y = features['anomaly']\n",
    "\n",
    "rows = []\n",
    "for n in tqdm(range(1, len(X.columns) + 1)):\n",
    "    rows.append(cross_validate(X, y, n, estimators=N_ESTIMATORS))\n",
    "isoforest = pd.concat(rows)\n",
    "isoforest.sort_values(by='test_accuracy', ascending=False).head(10)"
   ]
  },
  {
   "cell_type": "code",
   "execution_count": null,
   "metadata": {},
   "outputs": [],
   "source": [
    "isoforest[['train_accuracy', 'test_accuracy']].hist(bins=10, figsize=(10, 3))\n",
    "plt.show()"
   ]
  },
  {
   "cell_type": "code",
   "execution_count": null,
   "metadata": {},
   "outputs": [],
   "source": [
    "# best\n",
    "X_train, X_test, y_train, y_test = pipeline_v1(\n",
    "    features, \n",
    "    train=TRAINING_SET_RATIO,\n",
    "    func_select=FSEL_METHOD,\n",
    "    nfeat=17\n",
    ")\n",
    "list(X_train.columns)"
   ]
  }
 ],
 "metadata": {
  "kernelspec": {
   "display_name": "Python 3 (ipykernel)",
   "language": "python",
   "name": "python3"
  },
  "language_info": {
   "codemirror_mode": {
    "name": "ipython",
    "version": 3
   },
   "file_extension": ".py",
   "mimetype": "text/x-python",
   "name": "python",
   "nbconvert_exporter": "python",
   "pygments_lexer": "ipython3",
   "version": "3.11.5"
  }
 },
 "nbformat": 4,
 "nbformat_minor": 4
}
