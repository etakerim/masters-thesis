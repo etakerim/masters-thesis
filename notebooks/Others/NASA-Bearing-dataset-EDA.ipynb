{
 "cells": [
  {
   "cell_type": "code",
   "execution_count": null,
   "id": "0e8d799f",
   "metadata": {},
   "outputs": [],
   "source": [
    "import os\n",
    "import os.path\n",
    "import numpy as np\n",
    "import pandas as pd\n",
    "from datetime import datetime\n",
    "import matplotlib.pyplot as plt\n",
    "\n",
    "from scipy.fft import fft, ifft, rfft, irfft\n",
    "from ssqueezepy import ssq_cwt, ssq_stft\n",
    "from scipy.stats import skew, kurtosis\n",
    "\n",
    "\n",
    "directories = (\n",
    "    '../../datasets/NASA-Bearing-Dataset/No.1',\n",
    "    #'NASA-Bearing-Dataset/No.2',\n",
    "    #'NASA-Bearing-Dataset/No.3'\n",
    ")\n",
    "columns = ['b1_x', 'b1_y', 'b2_x', 'b2_y', 'b3_x', 'b3_y', 'b4_x', 'b4_y']\n",
    "blocks = []\n",
    "\n",
    "for directory in directories:\n",
    "    for record in os.listdir(directory)[::8]:\n",
    "        filename = os.path.join(directory, record)\n",
    "        df = pd.read_csv(filename,  sep='\\t', header=None, names=columns)\n",
    "        df['t'] = df.index * (1 / 20000)\n",
    "        df['timestamp'] = datetime.strptime(record, '%Y.%m.%d.%H.%M.%S')\n",
    "        blocks.append(df)\n",
    "\n",
    "\n",
    "bearings = pd.concat(blocks, join='inner')\n",
    "bearings"
   ]
  },
  {
   "cell_type": "code",
   "execution_count": null,
   "id": "43f44989",
   "metadata": {},
   "outputs": [],
   "source": [
    "bearing_mean = bearings.groupby(by=['timestamp']).mean()\n",
    "bearing_mean[columns].plot(\n",
    "    figsize=(20, 6), grid=True, xlabel='Date', ylabel='Mean [g]'\n",
    ")\n",
    "bearing_mean"
   ]
  },
  {
   "cell_type": "code",
   "execution_count": null,
   "id": "d632408e",
   "metadata": {},
   "outputs": [],
   "source": [
    "bearing_rms = bearings.groupby(by=['timestamp']).apply(\n",
    "    lambda x: np.sqrt((x ** 2).mean())\n",
    ")\n",
    "bearing_rms[columns].plot(figsize=(20, 6), grid=True, ylim=(0.1, 0.3), xlabel='Date', ylabel='RMS [g]')\n",
    "bearing_rms"
   ]
  },
  {
   "cell_type": "code",
   "execution_count": null,
   "id": "ad65f0be",
   "metadata": {},
   "outputs": [],
   "source": [
    "bearing_std = bearings.groupby(by=['timestamp']).apply(\n",
    "    lambda x: x.std()\n",
    ")\n",
    "bearing_std[columns].plot(figsize=(20, 6), grid=True, ylim=(0, 0.3), xlabel='Date', ylabel='Standard deviation [g]')\n",
    "bearing_std"
   ]
  },
  {
   "cell_type": "code",
   "execution_count": null,
   "id": "57cd4112",
   "metadata": {},
   "outputs": [],
   "source": [
    "bearing_pp = bearings.groupby(by=['timestamp']).apply(\n",
    "    lambda x: x.max() - x.min()\n",
    ")\n",
    "bearing_pp.plot(figsize=(20, 6), grid=True, xlabel='Date', ylabel='Peak-to-peak [g]')\n",
    "bearing_pp"
   ]
  },
  {
   "cell_type": "code",
   "execution_count": null,
   "id": "a5971949",
   "metadata": {},
   "outputs": [],
   "source": [
    "tm = datetime(2003, 11, 9)\n",
    "bearing_good_std = bearing_std[bearing_std.index <= tm]\n",
    "bearing_bad_std = bearing_std[bearing_std.index > tm]\n",
    "\n",
    "bearing_good_mean = bearing_mean[bearing_mean.index <= tm]\n",
    "bearing_bad_mean = bearing_mean[bearing_mean.index > tm]\n",
    "\n",
    "plt.scatter(bearing_good_std['b3_x'], bearing_good_mean['b3_x'], s=4)\n",
    "plt.scatter(bearing_bad_std['b3_x'], bearing_bad_mean['b3_x'], s=4)\n",
    "plt.grid()\n",
    "plt.xlim(0, 0.3)\n",
    "plt.ylim(-0.2, 0.3)"
   ]
  },
  {
   "cell_type": "code",
   "execution_count": null,
   "id": "31bfb6cc",
   "metadata": {},
   "outputs": [],
   "source": [
    "profile = bearings[bearings['timestamp'] == datetime.fromisoformat('2003-10-22T12:06:24')]\n",
    "m = profile[['b3_x', 'b3_y']].rolling(window=64).apply(lambda x: x.abs().max())\n",
    "plt.scatter(m['b3_x'], m['b3_y'], s=2)\n",
    "\n",
    "fault = bearings[bearings['timestamp'] == datetime.fromisoformat('2003-11-25T23:39:56')]\n",
    "n = fault[['b3_x', 'b3_y']].rolling(window=64).apply(lambda x: x.abs().max())\n",
    "plt.scatter(n['b3_x'], n['b3_y'], s=2)"
   ]
  },
  {
   "cell_type": "code",
   "execution_count": null,
   "id": "310f0f7c",
   "metadata": {},
   "outputs": [],
   "source": [
    "#m[(m['b1_x'] > 0.5) & (m['b1_y'] > 0.5)]"
   ]
  },
  {
   "cell_type": "code",
   "execution_count": null,
   "id": "8579f9d1",
   "metadata": {},
   "outputs": [],
   "source": [
    "fig, ax = plt.subplots(2, 1, figsize=(20, 8))\n",
    "\n",
    "FS = 20000\n",
    "WINDOW = 2**14 \n",
    "\n",
    "pxx, freq, t, cax = ax[0].specgram(\n",
    "    np.hypot(profile['b3_x'], profile['b3_y']),\n",
    "    Fs=FS, \n",
    "    mode='magnitude',\n",
    "    window=np.hamming(WINDOW), \n",
    "    NFFT=WINDOW, \n",
    "    noverlap=WINDOW//2\n",
    ")\n",
    "\n",
    "pxx, freq, t, cax = ax[1].specgram(\n",
    "    np.hypot(fault['b3_x'], fault['b3_y']),\n",
    "    Fs=FS, \n",
    "    mode='magnitude',\n",
    "    window=np.hamming(WINDOW), \n",
    "    NFFT=WINDOW, \n",
    "    noverlap=WINDOW//2\n",
    ")\n",
    "\n",
    "ax[0].set_xlabel('Time [s]')\n",
    "ax[0].set_ylabel('Frequency [Hz]')\n",
    "plt.colorbar(cax, ax=ax)"
   ]
  },
  {
   "cell_type": "code",
   "execution_count": null,
   "id": "43a22558",
   "metadata": {},
   "outputs": [],
   "source": [
    "WINDOW = 2 ** 12\n",
    "OVERLAP = 0.5\n",
    "STEP = WINDOW * OVERLAP\n",
    "\n",
    "v = np.hypot(fault['b3_x'], fault['b3_y']).to_numpy()\n",
    "\n",
    "# Frekvečné spektrum v okná\n",
    "freqs = [int(i * (FS/WINDOW)) for i in range(WINDOW//2+1)] \n",
    "matrix = [\n",
    "    np.abs(\n",
    "        rfft(v[i:i+WINDOW] * np.hamming(WINDOW)) \n",
    "    )\n",
    "    for i in range(0, len(v) - WINDOW, int(STEP))\n",
    "]\n",
    "tf_spectrum = pd.DataFrame(data=matrix, columns=freqs)\n",
    "tf_spectrum.index = (tf_spectrum.index * STEP) / FS\n",
    "tf_spectrum"
   ]
  },
  {
   "cell_type": "code",
   "execution_count": null,
   "id": "fa733aa6",
   "metadata": {},
   "outputs": [],
   "source": [
    "slicetf = tf_spectrum.iloc[2]\n",
    "slicetf.plot(\n",
    "    figsize=(20, 6), \n",
    "    xlabel='Frequency [Hz]', \n",
    "    ylabel='Amplitude', \n",
    "    logy=True\n",
    ")"
   ]
  },
  {
   "cell_type": "code",
   "execution_count": null,
   "id": "491923d4",
   "metadata": {},
   "outputs": [],
   "source": [
    "src = tf_spectrum.iloc[2]\n",
    "\n",
    "fig, ax = plt.subplots(2, 1, figsize=(20, 10))\n",
    "ax[0].plot(np.convolve(src, np.ones(9) / 9, mode='full'))\n",
    "ax[0].set_yscale('log')\n",
    "ax[0].grid()\n",
    "\n",
    "y = np.abs(irfft(20 * np.log(src.to_numpy() / 100))) \n",
    "ax[1].plot(y)\n",
    "ax[1].set_ylim(0, 1)"
   ]
  },
  {
   "cell_type": "code",
   "execution_count": null,
   "id": "71fbc547",
   "metadata": {},
   "outputs": [],
   "source": [
    "# Smooth spectrum with its fourier transform\n"
   ]
  },
  {
   "cell_type": "code",
   "execution_count": null,
   "id": "1ef917ea",
   "metadata": {},
   "outputs": [],
   "source": [
    "def viz(x, Tx, Wx):\n",
    "    plt.imshow(np.abs(Wx), aspect='auto', cmap='turbo')\n",
    "    plt.show()\n",
    "    plt.imshow(np.abs(Tx), aspect='auto', vmin=0, vmax=.2, cmap='turbo')\n",
    "    plt.show()\n",
    "    \n",
    "xo = np.hypot(fault['b3_x'], fault['b3_y']).to_numpy()\n",
    "\n",
    "Twxo, Wxo, *_ = ssq_cwt(xo)\n",
    "viz(xo, Twxo, Wxo)\n",
    "\n",
    "Tsxo, Sxo, *_ = ssq_stft(xo)\n",
    "viz(xo, np.flipud(Tsxo), np.flipud(Sxo))"
   ]
  },
  {
   "cell_type": "code",
   "execution_count": null,
   "id": "a51489b5",
   "metadata": {},
   "outputs": [],
   "source": [
    "FS = 20000\n",
    "WINDOW = 2 ** 14\n",
    "OVERLAP = 0.5\n",
    "STEP = WINDOW * OVERLAP\n",
    "\n",
    "spectra = []\n",
    "for index, measure in bearings.groupby(by='timestamp'):\n",
    "    v = np.hypot(measure['b3_x'], measure['b3_y']).to_numpy()\n",
    "    s = [\n",
    "        np.abs(rfft(v[i:i+WINDOW] * np.hamming(WINDOW)))\n",
    "        for i in range(0, len(v) - WINDOW, int(STEP))\n",
    "    ]\n",
    "    spectra.extend(s)\n",
    "\n",
    "freqs = [int(i * (FS/WINDOW)) for i in range(WINDOW//2+1)]\n",
    "psd = pd.DataFrame(data=spectra, columns=freqs)\n",
    "psd"
   ]
  },
  {
   "cell_type": "code",
   "execution_count": null,
   "id": "5cc41003",
   "metadata": {},
   "outputs": [],
   "source": [
    "src = psd.iloc[0]\n",
    "src.plot(\n",
    "    figsize=(20, 6), \n",
    "    xlabel='Frequency [Hz]', \n",
    "    ylabel='Amplitude', \n",
    "    logy=True\n",
    ")"
   ]
  },
  {
   "cell_type": "code",
   "execution_count": null,
   "id": "da2952e8",
   "metadata": {},
   "outputs": [],
   "source": [
    "fig, ax = plt.subplots(1, 1, figsize=(20, 5))\n",
    "ax.plot(np.convolve(src, np.ones(15) / 15, mode='full'))\n",
    "ax.set_yscale('log')\n",
    "ax.set_ylim(2, 30)\n",
    "ax.grid()"
   ]
  },
  {
   "cell_type": "code",
   "execution_count": null,
   "id": "292b007c",
   "metadata": {},
   "outputs": [],
   "source": [
    "max_freq_index = psd.iloc[:,2:].to_numpy().argmax(axis=1)\n",
    "max_freqs = max_freq_index * (FS / WINDOW)\n",
    "# zrátaj druhú najvýznamnejšiu frekv. - v riadku frekvencie zoradené podľa ich amplitúdy\n",
    "# potom takto zrátaj spectral flatness\n",
    "plt.plot(max_freqs, marker='o', markersize=3, linestyle='None')"
   ]
  },
  {
   "cell_type": "code",
   "execution_count": null,
   "id": "253f46a4",
   "metadata": {},
   "outputs": [],
   "source": [
    "from scipy.signal import find_peaks\n",
    "\n",
    "# Nájdi najvýznamnejšie frekvencie zoradené od najväčšej amplitúdy\n",
    "# Z jedného frekvenčného spektra\n",
    "x = 20 * np.log(psd.iloc[2].to_numpy() / 100)\n",
    "peaks, properties = find_peaks(x, prominence=50, width=1, distance=20)\n",
    "plt.plot(x)\n",
    "plt.plot(peaks, x[peaks], 'o', markersize=3)\n",
    "\n",
    "pd.DataFrame(\n",
    "    data=np.array([(peaks * (FS / WINDOW)), x[peaks]]).T,\n",
    "    columns=['f', 'amp']\n",
    ").sort_values(by='amp', ascending=False)"
   ]
  },
  {
   "cell_type": "code",
   "execution_count": null,
   "id": "d3728daa",
   "metadata": {},
   "outputs": [],
   "source": [
    "# Nájdenie troch najvýznamnejších frekvencií\n",
    "# Riadok (i, f1, f2, f3)\n",
    "\n",
    "dbPSD = 20 * np.log(psd / 100)\n",
    "freqs = []\n",
    "for index, bins in dbPSD.iterrows():\n",
    "    peaks, properties = find_peaks(bins, prominence=50, width=1, distance=20)\n",
    "    f_max = pd.DataFrame(\n",
    "        data=np.array([(peaks * (FS / WINDOW)), x[peaks]]).T,\n",
    "        columns=['f', 'amp']\n",
    "    ).sort_values(by='amp', ascending=False)\n",
    "\n",
    "    freqs.append(\n",
    "        f_max.iloc[:2,0].to_numpy()\n",
    "    )\n",
    "    \n",
    "freqs = np.array(freqs)\n",
    "    \n",
    "plt.scatter(freqs.T[0], freqs.T[1], s=3)"
   ]
  },
  {
   "cell_type": "code",
   "execution_count": null,
   "id": "70671cf1",
   "metadata": {},
   "outputs": [],
   "source": [
    "from scipy.stats.mstats import gmean\n",
    "\n",
    "spectral_flatness = []\n",
    "for index, bins in psd.iterrows():\n",
    "    sf = gmean(bins) / np.mean(bins)\n",
    "    spectral_flatness.append(sf)\n",
    "\n",
    "plt.grid()\n",
    "plt.plot(spectral_flatness)\n",
    "\n",
    "# Change detection veličín (algoritmus)"
   ]
  },
  {
   "cell_type": "code",
   "execution_count": null,
   "id": "6bdfd8e9",
   "metadata": {},
   "outputs": [],
   "source": [
    "# TODO: štatistika na oknách v času (rolling)\n",
    "\n",
    "plt.plot(np.mean(psd, axis=1), label='mean')\n",
    "plt.plot(np.std(psd, axis=1), label='std')\n",
    "plt.plot(skew(psd, axis=1), label='skew')\n",
    "#plt.plot(kurtosis(psd, axis=1), label='kurtosis')\n",
    "plt.legend(); plt.grid()\n",
    "#plt.plot(psd.std(axis=1), label='std')"
   ]
  }
 ],
 "metadata": {
  "kernelspec": {
   "display_name": "Python 3 (ipykernel)",
   "language": "python",
   "name": "python3"
  },
  "language_info": {
   "codemirror_mode": {
    "name": "ipython",
    "version": 3
   },
   "file_extension": ".py",
   "mimetype": "text/x-python",
   "name": "python",
   "nbconvert_exporter": "python",
   "pygments_lexer": "ipython3",
   "version": "3.11.5"
  }
 },
 "nbformat": 4,
 "nbformat_minor": 5
}
