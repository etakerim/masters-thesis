{
 "cells": [
  {
   "cell_type": "code",
   "execution_count": null,
   "metadata": {},
   "outputs": [],
   "source": [
    "# Streaming algorithms\n",
    "import functools\n",
    "from river import cluster       \n",
    "from river import anomaly\n",
    "from river import preprocessing\n",
    "from river import neighbors\n",
    "from river import drift\n",
    "from river import stream\n",
    "from river import utils\n",
    "from river import evaluate\n",
    "from river import metrics"
   ]
  },
  {
   "cell_type": "code",
   "execution_count": null,
   "metadata": {},
   "outputs": [],
   "source": [
    "l1_dist = functools.partial(utils.math.minkowski_distance, p=1)\n",
    "\n",
    "model = (\n",
    "    preprocessing.StandardScaler() |\n",
    "    neighbors.KNNClassifier(\n",
    "        engine=neighbors.SWINN(\n",
    "            dist_func=l1_dist,\n",
    "            seed=42\n",
    "        )\n",
    "    )\n",
    ")\n",
    "# learn_one, predict_one\n",
    "dataset = fselection.load_fd_feat(['ax', 'ay', 'az'], path=FEATURES_PATH)\n",
    "dataset = fault_labeling(dataset.copy(), FAULT_CLASSES, debug=False)\n",
    "#evaluate.progressive_val_score(dataset, model, metrics.Accuracy())\n",
    "dataset.head()"
   ]
  }
 ],
 "metadata": {
  "language_info": {
   "name": "python"
  }
 },
 "nbformat": 4,
 "nbformat_minor": 2
}
