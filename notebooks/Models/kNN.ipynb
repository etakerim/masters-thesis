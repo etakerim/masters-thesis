{
 "cells": [
  {
   "cell_type": "code",
   "execution_count": null,
   "id": "12dca216-9915-401d-aa2a-0eb1869877e3",
   "metadata": {},
   "outputs": [],
   "source": [
    "import numpy as np\n",
    "import pandas as pd\n",
    "from zipfile import ZipFile\n",
    "\n",
    "# Feature selection\n",
    "from scipy.stats import pearsonr\n",
    "from sklearn.feature_selection import mutual_info_classif, f_classif\n",
    "\n",
    "# Models\n",
    "from scipy.spatial.distance import euclidean, mahalanobis\n",
    "from sklearn.metrics.pairwise import rbf_kernel\n",
    "\n",
    "from sklearn.model_selection import train_test_split\n",
    "from sklearn.model_selection import KFold, StratifiedKFold, StratifiedShuffleSplit\n",
    "from sklearn.neighbors import KNeighborsClassifier\n",
    "\n",
    "# Model evaluation\n",
    "from sklearn import metrics\n",
    "from kneed import KneeLocator\n",
    "\n",
    "# Plotting and table formatting\n",
    "import matplotlib.pyplot as plt\n",
    "from IPython.display import Markdown\n",
    "from tabulate import tabulate\n",
    "import seaborn as sb\n",
    "from collections import Counter\n",
    "from tqdm.notebook import tqdm\n",
    "\n",
    "# System modules\n",
    "import os\n",
    "import sys\n",
    "sys.path.append('../../')\n",
    "\n",
    "# Custom modules\n",
    "from feature import mafaulda\n",
    "from feature import discovery as fdiscovery\n",
    "from feature.selection import load_td_feat, load_fd_feat, corr_classif\n",
    "from feature.models import (\n",
    "    fault_labeling, pipeline_v1, pipeline_v1_core, filter_out_metadata_columns\n",
    ")\n",
    "\n",
    "\n",
    "FEATURES_PATH =  '../../datasets/features_data/'\n",
    "FAULT_CLASSES = {\n",
    "    'normal': 'N',\n",
    "    'imbalance': 'I',\n",
    "    'horizontal-misalignment': 'HM',\n",
    "    'vertical-misalignment': 'VM'\n",
    "}"
   ]
  },
  {
   "cell_type": "markdown",
   "id": "33e4fb79-b0dd-48ae-bf5d-b2b4da8cebbb",
   "metadata": {},
   "source": [
    "Parameters:\n",
    "- Distance metric\n",
    "- k neighbours (odd numbers because of majority voting) - elbow curve"
   ]
  },
  {
   "cell_type": "markdown",
   "id": "8e67e970-111c-448b-837a-1c84144e7a1a",
   "metadata": {},
   "source": [
    "#### 2A-TD. Time domain features import and transformations"
   ]
  },
  {
   "cell_type": "code",
   "execution_count": null,
   "id": "20368894-f312-4312-897a-08fe8144cddb",
   "metadata": {},
   "outputs": [],
   "source": [
    "TRAINING_SET_RATIO = 0.6\n",
    "N_FEATURES = 3\n",
    "N_NEIGHBOURS = 5\n",
    "DIST_METRIC = 'euclidean'\n",
    "FSEL_METHOD = mutual_info_classif\n",
    "\n",
    "features = load_td_feat(['ax', 'ay', 'az'], path=FEATURES_PATH)\n",
    "td_features = fault_labeling(features, FAULT_CLASSES)\n",
    "X_train, X_test, y_train, y_test = pipeline_v1(\n",
    "    td_features, \n",
    "    train=TRAINING_SET_RATIO,\n",
    "    func_select=FSEL_METHOD,\n",
    "    nfeat=N_FEATURES\n",
    ")"
   ]
  },
  {
   "cell_type": "markdown",
   "id": "9bf2a32d-8a8b-44c9-990b-2f400fdbf3f8",
   "metadata": {},
   "source": [
    "#### 2B-TD. Classification with kNN"
   ]
  },
  {
   "cell_type": "code",
   "execution_count": null,
   "id": "6b5a69d3-46ee-44aa-9863-a217a7c45bed",
   "metadata": {},
   "outputs": [],
   "source": [
    "knn = KNeighborsClassifier(n_neighbors=N_NEIGHBOURS, metric=DIST_METRIC, algorithm='kd_tree')\n",
    "knn.fit(X_train, y_train)\n",
    "y_predict_train = knn.predict(X_train)\n",
    "y_predict_test = knn.predict(X_test)"
   ]
  },
  {
   "cell_type": "markdown",
   "id": "027b5b80-d7a4-4b75-8837-67b5a6ec3187",
   "metadata": {},
   "source": [
    "#### 2C-TD. Get the classification report"
   ]
  },
  {
   "cell_type": "code",
   "execution_count": null,
   "id": "5b735c6a-6d43-4182-b5cb-2df0538f067a",
   "metadata": {},
   "outputs": [],
   "source": [
    "print(f'Train accuracy: {metrics.accuracy_score(y_train, y_predict_train):.4f}')\n",
    "print(f'Test accuracy: {metrics.accuracy_score(y_test, y_predict_test):.4f}')\n",
    "print(metrics.classification_report(y_test, y_predict_test))"
   ]
  },
  {
   "cell_type": "markdown",
   "id": "162c8afb-0b73-42eb-b840-90ca1a56cad4",
   "metadata": {},
   "source": [
    "#### 2D-TD. Confusion matrix"
   ]
  },
  {
   "cell_type": "code",
   "execution_count": null,
   "id": "45f5a17e-896a-4a54-951d-47e7014e6ea7",
   "metadata": {},
   "outputs": [],
   "source": [
    "cm = metrics.confusion_matrix(y_test, y_predict_test)\n",
    "ax = sb.heatmap(cm, cbar=True, cmap='BuGn', annot=True, fmt='d')"
   ]
  },
  {
   "cell_type": "markdown",
   "id": "48554857-8dce-4d62-af84-26d2b5ec87c2",
   "metadata": {},
   "source": [
    "#### TD: Find best k neighbors - elbow analysis"
   ]
  },
  {
   "cell_type": "code",
   "execution_count": null,
   "id": "603e5e41-1005-4b43-a956-1ee1fe7e7b4b",
   "metadata": {},
   "outputs": [],
   "source": [
    "def get_knn_error_rates(k_values, X_train, y_train, X_test, y_test):\n",
    "    errors = []\n",
    "    for k in k_values:\n",
    "        knn = KNeighborsClassifier(n_neighbors=k, algorithm='kd_tree', metric=DIST_METRIC)\n",
    "        knn.fit(X_train, y_train)\n",
    "        y_predict = knn.predict(X_test)\n",
    "        errors.append(np.mean(y_predict != y_test))\n",
    "    return errors\n",
    "\n",
    "\n",
    "def get_knn_accuracies(k_values, X_train, y_train, X_test, y_test):\n",
    "    accuracies = []\n",
    "\n",
    "    for k in k_values:\n",
    "        knn = KNeighborsClassifier(n_neighbors=k, algorithm='kd_tree', metric=DIST_METRIC)\n",
    "        knn.fit(X_train, y_train)\n",
    "        y_predict = knn.predict(X_test)\n",
    "        accuracies.append(metrics.accuracy_score(y_test, y_predict))\n",
    "    return accuracies\n",
    "\n",
    "\n",
    "def plot_knn_k_param(k_values, accuracies, error_rates):\n",
    "    fig, ax = plt.subplots(1, 2, figsize=(15, 4))\n",
    "    \n",
    "    ax[0].plot(k_values, accuracies, color='darkblue', marker='o', markerfacecolor='darkgreen', markersize=5)\n",
    "    ax[0].set_xlabel('K neighbors')\n",
    "    ax[0].set_ylabel('Accuracy')\n",
    "    ax[0].grid(True)\n",
    "\n",
    "    ax[1].plot(k_values, error_rates, color='darkblue', marker='o', markerfacecolor='darkgreen', markersize=5)\n",
    "    ax[1].set_xlabel('K neighbors')\n",
    "    ax[1].set_ylabel('Error rate')\n",
    "    ax[1].grid(True)\n",
    "    \n",
    "    plt.show()"
   ]
  },
  {
   "cell_type": "code",
   "execution_count": null,
   "id": "f90f455e-a7af-4d73-b86f-4dce2eb7a809",
   "metadata": {},
   "outputs": [],
   "source": [
    "k_values = list(range(3, 40, 2))\n",
    "accuracies = get_knn_accuracies(k_values, X_train, y_train, X_test, y_test)\n",
    "error_rates = get_knn_error_rates(k_values, X_train, y_train, X_test, y_test)\n",
    "plot_knn_k_param(k_values, accuracies, error_rates)"
   ]
  },
  {
   "cell_type": "markdown",
   "id": "b991e407-b7d8-48bc-9739-ee7c7f6a211c",
   "metadata": {},
   "source": [
    "#### 2A-FD. Frequncy domain features import and transformations"
   ]
  },
  {
   "cell_type": "code",
   "execution_count": null,
   "id": "c07ea8f9-653b-4f70-982b-021925ce4f64",
   "metadata": {},
   "outputs": [],
   "source": [
    "TRAINING_SET_RATIO = 0.6\n",
    "N_FEATURES = 3\n",
    "N_NEIGHBOURS = 5\n",
    "DIST_METRIC = 'euclidean'\n",
    "FSEL_METHOD = mutual_info_classif\n",
    "\n",
    "features = load_fd_feat(['ax', 'ay', 'az'], path=FEATURES_PATH)\n",
    "fd_features = fault_labeling(features.copy(), FAULT_CLASSES)\n",
    "X_train, X_test, y_train, y_test = pipeline_v1(\n",
    "    fd_features, \n",
    "    train=TRAINING_SET_RATIO,\n",
    "    func_select=FSEL_METHOD,\n",
    "    nfeat=N_FEATURES\n",
    ")"
   ]
  },
  {
   "cell_type": "markdown",
   "id": "7f4d6c70-bbdf-458a-b453-c299c0fb6eff",
   "metadata": {},
   "source": [
    "#### 2B-FD. Classification with kNN"
   ]
  },
  {
   "cell_type": "code",
   "execution_count": null,
   "id": "dc4e90fe-7c83-415e-88ac-04cc9f60a67d",
   "metadata": {},
   "outputs": [],
   "source": [
    "knn = KNeighborsClassifier(n_neighbors=N_NEIGHBOURS, metric=DIST_METRIC, algorithm='kd_tree')\n",
    "knn.fit(X_train, y_train)\n",
    "y_predict_train = knn.predict(X_train)\n",
    "y_predict_test = knn.predict(X_test)"
   ]
  },
  {
   "cell_type": "markdown",
   "id": "0662a757-1551-4678-9187-d63defde74ed",
   "metadata": {},
   "source": [
    "#### 2C-FD. Get the classification report"
   ]
  },
  {
   "cell_type": "code",
   "execution_count": null,
   "id": "a1e7fae3-53a9-4fcc-ae7f-84d54e91bfe1",
   "metadata": {},
   "outputs": [],
   "source": [
    "print(f'Train accuracy: {metrics.accuracy_score(y_train, y_predict_train):.4f}')\n",
    "print(f'Test accuracy: {metrics.accuracy_score(y_test, y_predict_test):.4f}')\n",
    "print(metrics.classification_report(y_test, y_predict_test))"
   ]
  },
  {
   "cell_type": "markdown",
   "id": "cbe36dca-3825-4e7e-b611-d34da12313e1",
   "metadata": {},
   "source": [
    "#### 2D-FD. Confusion matrix"
   ]
  },
  {
   "cell_type": "code",
   "execution_count": null,
   "id": "5cd9ef98-3dbb-4683-8779-a358c79a987c",
   "metadata": {},
   "outputs": [],
   "source": [
    "cm = metrics.confusion_matrix(y_test, y_predict_test)\n",
    "ax = sb.heatmap(cm, cbar=True, cmap='BuGn', annot=True, fmt='d')"
   ]
  },
  {
   "cell_type": "markdown",
   "id": "3344d1ce-ed62-4276-bfce-5e3083613b33",
   "metadata": {},
   "source": [
    "#### FD: Find best k neighbors - elbow analysis"
   ]
  },
  {
   "cell_type": "code",
   "execution_count": null,
   "id": "a48b705f-ba5c-4a76-a108-ba67dcb15938",
   "metadata": {},
   "outputs": [],
   "source": [
    "k_values = list(range(3, 40, 2))\n",
    "accuracies = get_knn_accuracies(k_values, X_train, y_train, X_test, y_test)\n",
    "error_rates = get_knn_error_rates(k_values, X_train, y_train, X_test, y_test)\n",
    "plot_knn_k_param(k_values, accuracies, error_rates)"
   ]
  },
  {
   "cell_type": "markdown",
   "id": "d087b112-6526-4371-907e-f99e38ec3f70",
   "metadata": {},
   "source": [
    "### Change number of features\n",
    "- evaluate kNN classification accuracies in each feature domain\n",
    "  - features for each axis separately (x, y, z)\n",
    "  - features in each measurement poins (a, b)"
   ]
  },
  {
   "cell_type": "code",
   "execution_count": null,
   "id": "c250be43-c75b-455f-bd0c-927a7598809a",
   "metadata": {},
   "outputs": [],
   "source": [
    "TRAINING_SET_RATIO = 0.6\n",
    "DIST_METRIC = 'euclidean'\n",
    "FEATURE_SELECTION_METHOD = mutual_info_classif\n",
    "KNN_K_VALUES = list(range(3, 20, 2))\n",
    "\n",
    "def evaluate_knn_number_of_features(features, columns):    \n",
    "    results = []\n",
    "    for n in tqdm(range(1, len(columns) + 1)):\n",
    "        X_train, X_test, y_train, y_test = pipeline_v1(\n",
    "            fd_features, \n",
    "            train=TRAINING_SET_RATIO,\n",
    "            func_select=FEATURE_SELECTION_METHOD,\n",
    "            nfeat=n\n",
    "        )\n",
    "        metric = get_knn_error_rates(KNN_K_VALUES, X_train, y_train, X_test, y_test)\n",
    "        kneedle = KneeLocator(KNN_K_VALUES, metric, S=1.0, curve='convex', direction='decreasing')\n",
    "        results.append([n, kneedle.elbow, kneedle.knee_y])\n",
    "    \n",
    "    return pd.DataFrame(results, columns=['n_features', 'k_neighbors', 'error_rate'])\n",
    "\n",
    "\n",
    "def find_optimal_error_rate(success):\n",
    "    plt.plot(success['n_features'], success['error_rate'])\n",
    "    plt.grid()\n",
    "    plt.xlabel('Number of features')\n",
    "    plt.ylabel('Error rate')\n",
    "\n",
    "    # TODO: Find knee instead of min\n",
    "    # best = success[success['error_rate'] == success['error_rate'].min()]\n",
    "    kneedle = KneeLocator(\n",
    "        success['n_features'], success['error_rate'], \n",
    "        S=1.0, curve='convex', direction='decreasing'\n",
    "    )\n",
    "    best = success[success['n_features'] == kneedle.elbow]\n",
    "    return best\n",
    "\n",
    "\n",
    "def knn_best_evaluate(best):\n",
    "    k_best = best['k_neighbors'].to_numpy()[0]\n",
    "    n_best = best['n_features'].to_numpy()[0]\n",
    "    \n",
    "    X_train, X_test, y_train, y_test = pipeline_v1(\n",
    "        fd_features, train=TRAINING_SET_RATIO, nfeat=n_best, func_select=mutual_info_classif\n",
    "    )\n",
    "    knn = KNeighborsClassifier(n_neighbors=k_best, metric=DIST_METRIC)\n",
    "    knn.fit(X_train, y_train)\n",
    "    y_predict_train = knn.predict(X_train)\n",
    "    y_predict_test = knn.predict(X_test)\n",
    "\n",
    "    print(f'Train accuracy: {metrics.accuracy_score(y_train, y_predict_train):.4f} %')\n",
    "    print(f'Test accuracy: {metrics.accuracy_score(y_test, y_predict_test):.4f} %')\n",
    "    print(metrics.classification_report(y_test, y_predict_test))\n",
    "    \n",
    "    print('Most informative features:')\n",
    "    print(list(X_train.columns))"
   ]
  },
  {
   "cell_type": "markdown",
   "id": "812b8d02-a539-4d1e-af59-c63e555f731a",
   "metadata": {},
   "source": [
    "1. Domain: time, Axis: ax"
   ]
  },
  {
   "cell_type": "code",
   "execution_count": null,
   "id": "8c9bb578-d65e-441b-9948-c20cef82b8a2",
   "metadata": {},
   "outputs": [],
   "source": [
    "features = load_td_feat(['az'], path=FEATURES_PATH)\n",
    "fd_features = fault_labeling(features, FAULT_CLASSES, debug=False)\n",
    "\n",
    "columns = filter_out_metadata_columns(features.copy()).columns\n",
    "success = evaluate_knn_number_of_features(fd_features, columns)"
   ]
  },
  {
   "cell_type": "code",
   "execution_count": null,
   "id": "443ea4f2-4b79-4051-b4cf-9257ff72e585",
   "metadata": {},
   "outputs": [],
   "source": [
    "best = find_optimal_error_rate(success)\n",
    "best"
   ]
  },
  {
   "cell_type": "code",
   "execution_count": null,
   "id": "73ba738c-8ce9-41d1-b579-c6f25d1e9e76",
   "metadata": {},
   "outputs": [],
   "source": [
    "knn_best_evaluate(best)"
   ]
  },
  {
   "cell_type": "markdown",
   "id": "91423b7d-2f55-40c1-9265-0b317cf16dad",
   "metadata": {},
   "source": [
    "2. Domain: frequency, Axis: az"
   ]
  },
  {
   "cell_type": "code",
   "execution_count": null,
   "id": "e32b7cb4-2d26-4621-8809-26a738c80650",
   "metadata": {},
   "outputs": [],
   "source": [
    "fd_features = fault_labeling(load_fd_feat(['az'], path=FEATURES_PATH), FAULT_CLASSES)\n",
    "\n",
    "columns = filter_out_metadata_columns(features.copy()).columns\n",
    "success = evaluate_knn_number_of_features(fd_features, columns)"
   ]
  },
  {
   "cell_type": "markdown",
   "id": "40f4d538-24b4-4ae3-83a0-f0e24df7b1c7",
   "metadata": {},
   "source": [
    "Find best (minimal) error rate of kNN classifier"
   ]
  },
  {
   "cell_type": "code",
   "execution_count": null,
   "id": "c9c3c24b-a995-475e-9a3e-6e3aad33fbbf",
   "metadata": {},
   "outputs": [],
   "source": [
    "best = find_optimal_error_rate(success)\n",
    "best"
   ]
  },
  {
   "cell_type": "code",
   "execution_count": null,
   "id": "c19fe1df-38d9-4b25-9fbe-790644dafcad",
   "metadata": {},
   "outputs": [],
   "source": [
    "knn_best_evaluate(best)"
   ]
  },
  {
   "cell_type": "markdown",
   "id": "4e952cd0-3ac0-4710-aa2e-aca5c134698a",
   "metadata": {},
   "source": [
    "3. Domain: time, Axis: (ax, ay, az)"
   ]
  },
  {
   "cell_type": "code",
   "execution_count": null,
   "id": "dcb6f569-157f-4e86-b005-f8cc390320ff",
   "metadata": {},
   "outputs": [],
   "source": [
    "fd_features = fault_labeling(load_td_feat(['ax', 'ay', 'az'], path=FEATURES_PATH), FAULT_CLASSES)\n",
    "\n",
    "columns = filter_out_metadata_columns(features.copy()).columns\n",
    "success = evaluate_knn_number_of_features(fd_features, columns)"
   ]
  },
  {
   "cell_type": "code",
   "execution_count": null,
   "id": "c4dcb563-9adc-40d4-9bd3-e13902da2f0b",
   "metadata": {},
   "outputs": [],
   "source": [
    "best = find_optimal_error_rate(success)\n",
    "best"
   ]
  },
  {
   "cell_type": "code",
   "execution_count": null,
   "id": "a42b1102-e4d3-4a1a-a258-64b5649beeee",
   "metadata": {},
   "outputs": [],
   "source": [
    "knn_best_evaluate(best)"
   ]
  },
  {
   "cell_type": "markdown",
   "id": "23d4409c-65ed-42bc-a3f0-217dc81901c9",
   "metadata": {},
   "source": [
    "4. Domain: frequency, Axis: (ax, ay, az)"
   ]
  },
  {
   "cell_type": "code",
   "execution_count": null,
   "id": "1c57fba8-5cfa-4665-8639-1803da7caa7f",
   "metadata": {},
   "outputs": [],
   "source": [
    "fd_features = fault_labeling(load_fd_feat(['ax', 'ay', 'az'], path=FEATURES_PATH), FAULT_CLASSES)\n",
    "\n",
    "columns = filter_out_metadata_columns(features.copy()).columns\n",
    "success = evaluate_knn_number_of_features(fd_features, columns)"
   ]
  },
  {
   "cell_type": "code",
   "execution_count": null,
   "id": "667c86cf-f0a1-4bc6-a628-1d13191d537c",
   "metadata": {},
   "outputs": [],
   "source": [
    "best = find_optimal_error_rate(success)\n",
    "best"
   ]
  },
  {
   "cell_type": "code",
   "execution_count": null,
   "id": "ef144349-c8bd-4aea-99cc-83b89c8dc22b",
   "metadata": {},
   "outputs": [],
   "source": [
    "knn_best_evaluate(best)"
   ]
  },
  {
   "cell_type": "markdown",
   "id": "509fd169",
   "metadata": {},
   "source": [
    "K-Fold validation"
   ]
  },
  {
   "cell_type": "code",
   "execution_count": null,
   "id": "b7c0e593",
   "metadata": {},
   "outputs": [],
   "source": [
    "TRAINING_SET_RATIO = 0.6\n",
    "N_FEATURES = 3\n",
    "N_NEIGHBOURS = 5\n",
    "DIST_METRIC = 'euclidean'           # euclidean, mahalanobis, rbf\n",
    "FSEL_METHOD = mutual_info_classif   # corr_classif, f_classif, mutual_info_classif\n",
    "\n",
    "features = fault_labeling(load_fd_feat(['ax', 'ay', 'az'], path=FEATURES_PATH), FAULT_CLASSES)\n",
    "\n",
    "# crossvalid = StratifiedShuffleSplit(n_splits=5, test_size=0.6, random_state=100)\n",
    "crossvalid = StratifiedKFold(n_splits=5)\n",
    "X = filter_out_metadata_columns(features)\n",
    "y = features['fault']\n",
    "\n",
    "evaluation = {\n",
    "    'train_accuracy': [],\n",
    "    'train_precision': [],\n",
    "    'train_recall': [],\n",
    "    'test_accuracy': [],\n",
    "    'test_precision': [],\n",
    "    'test_recall': []\n",
    "}\n",
    "\n",
    "for train_index, test_index in tqdm(crossvalid.split(X, y)):\n",
    "    X_train, y_train = X.iloc[train_index], y.iloc[train_index]\n",
    "    X_test, y_test = X.iloc[test_index], y.iloc[test_index]\n",
    "\n",
    "    X_train, X_test, y_train, y_test = pipeline_v1_core(\n",
    "        FSEL_METHOD, N_FEATURES, \n",
    "        X_train, y_train, X_test, y_test\n",
    "    )\n",
    "\n",
    "    if DIST_METRIC == 'euclidean':\n",
    "        d = 'euclidean'\n",
    "    elif DIST_METRIC == 'mahalanobis':\n",
    "        d = lambda x, y: mahalanobis(x, y, np.cov(X_train.T))\n",
    "    elif DIST_METRIC == 'rbf':\n",
    "        d = lambda x, y: np.exp(-euclidean(x, y)**2 * (1 / len(x)))\n",
    "\n",
    "    knn = KNeighborsClassifier(n_neighbors=N_NEIGHBOURS, metric=d)\n",
    "    knn.fit(X_train, y_train)\n",
    "    y_predict_train = knn.predict(X_train)\n",
    "    y_predict_test = knn.predict(X_test)\n",
    "\n",
    "    evaluation['train_accuracy'].append(\n",
    "        metrics.accuracy_score(y_train, y_predict_train)\n",
    "    )\n",
    "    evaluation['train_precision'].append(\n",
    "        metrics.precision_score(y_train, y_predict_train, average='micro')\n",
    "    )\n",
    "    evaluation['train_recall'].append(\n",
    "        metrics.recall_score(y_train, y_predict_train, average='micro')\n",
    "    )\n",
    "    \n",
    "    evaluation['test_accuracy'].append(\n",
    "        metrics.accuracy_score(y_test, y_predict_test)\n",
    "    )\n",
    "    evaluation['test_precision'].append(\n",
    "        metrics.precision_score(y_test, y_predict_test, average='micro')\n",
    "    )\n",
    "    evaluation['test_recall'].append(\n",
    "        metrics.recall_score(y_test, y_predict_test, average='micro')\n",
    "    )\n",
    "\n",
    "print(f'Most informative features: {list(X_train.columns)}')\n",
    "evaluation = pd.DataFrame(evaluation)\n",
    "evaluation.mean()"
   ]
  },
  {
   "cell_type": "markdown",
   "id": "85a6d35e-9d24-4eb9-a59e-5c5ad887799f",
   "metadata": {},
   "source": [
    "Compression ratio \n",
    "- when all features are in use\n",
    "- calculate compression ratio: dimensions of feature matrix : dimensions of waveform source matrix"
   ]
  },
  {
   "cell_type": "code",
   "execution_count": null,
   "id": "05b66cae-6310-41a1-935e-0764a0b85551",
   "metadata": {},
   "outputs": [],
   "source": [
    "def load_dataset_info():\n",
    "    RPM = 2900\n",
    "    RPM_RANGE = 500\n",
    "    MAFAULDA_METADATA = os.path.join(FEATURES_PATH, 'mafaulda_metadata.csv')\n",
    "    meta = pd.read_csv(MAFAULDA_METADATA, index_col='filename')\n",
    "    files = meta[\n",
    "        (meta['fault'].isin(FAULT_CLASSES)) &\n",
    "        (meta['rpm'].between(RPM - RPM_RANGE, RPM + RPM_RANGE, inclusive='both'))\n",
    "    ].copy()\n",
    "    return files\n",
    "\n",
    "def compression_percentage(waveforms, domain, one_file):\n",
    "    if domain == 'td':\n",
    "        features = load_td_feat(waveforms, path=FEATURES_PATH)\n",
    "    elif domain == 'fd':\n",
    "        features = load_fd_feat(waveforms, path=FEATURES_PATH)\n",
    "        \n",
    "    files = load_dataset_info()\n",
    "    features_clean = filter_out_metadata_columns(features.copy())\n",
    "\n",
    "    if one_file:\n",
    "        files = files[:1]\n",
    "        features_clean = features_clean[:1]\n",
    "    \n",
    "    original_size = np.sum(len(waveforms) * files['length'].to_numpy())\n",
    "    new_size = np.prod(features_clean.shape)\n",
    "    compression_percentage = (new_size / original_size) * 100\n",
    "\n",
    "    return compression_percentage\n",
    "\n",
    "columns = ['ax']\n",
    "print('Time domain')\n",
    "print(f'One file: features from raw data {compression_percentage(columns, \"td\", one_file=True):.4f} %')\n",
    "print(f'All files: features from raw data {compression_percentage(columns, \"td\", one_file=False):.4f} %')\n",
    "\n",
    "print()\n",
    "print('Frequency domain')\n",
    "print(f'One file: features from raw data {compression_percentage(columns, \"fd\", one_file=True):.4f} %')\n",
    "print(f'All files: features from raw data {compression_percentage(columns, \"fd\", one_file=False):.4f} %')"
   ]
  }
 ],
 "metadata": {
  "kernelspec": {
   "display_name": "dp",
   "language": "python",
   "name": "python3"
  },
  "language_info": {
   "codemirror_mode": {
    "name": "ipython",
    "version": 3
   },
   "file_extension": ".py",
   "mimetype": "text/x-python",
   "name": "python",
   "nbconvert_exporter": "python",
   "pygments_lexer": "ipython3",
   "version": "3.11.5"
  }
 },
 "nbformat": 4,
 "nbformat_minor": 5
}
