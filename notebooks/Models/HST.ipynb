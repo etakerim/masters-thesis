{
 "cells": [
  {
   "cell_type": "markdown",
   "metadata": {},
   "source": [
    "Half-space Trees (online)\n",
    "- Half-Space Trees (window size, ensemble size)"
   ]
  },
  {
   "cell_type": "code",
   "execution_count": null,
   "metadata": {},
   "outputs": [],
   "source": [
    "X = X_train.iloc[:,0].to_numpy()\n",
    "\n",
    "hst = anomaly.HalfSpaceTrees(n_trees=5, height=3, window_size=3, seed=42)\n",
    "\n",
    "for x in X[:3]:\n",
    "    hst = hst.learn_one({'x': x})\n",
    "\n",
    "for x in X:\n",
    "    features = {'x': x}\n",
    "    hst = hst.learn_one(features)\n",
    "    print(f'Anomaly score for x={x:.3f}: {hst.score_one(features):.3f}')"
   ]
  }
 ],
 "metadata": {
  "language_info": {
   "name": "python"
  }
 },
 "nbformat": 4,
 "nbformat_minor": 2
}
