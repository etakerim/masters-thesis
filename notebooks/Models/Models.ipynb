{
 "cells": [
  {
   "cell_type": "code",
   "execution_count": null,
   "id": "12dca216-9915-401d-aa2a-0eb1869877e3",
   "metadata": {},
   "outputs": [],
   "source": [
    "from sklearn.feature_selection import SelectPercentile, SelectKBest\n",
    "from sklearn.feature_selection import mutual_info_classif, f_classif\n",
    "\n",
    "from sklearn.model_selection import train_test_split\n",
    "from sklearn.neighbors import KNeighborsClassifier\n",
    "from sklearn.ensemble import IsolationForest\n",
    "from sklearn.cluster import DBSCAN\n",
    "\n",
    "from river import cluster       # cluster.DenStream\n",
    "from river import anomaly       # anomaly.HalfSpaceTrees, LocalOutlierFactor\n",
    "from river import preprocessing # preprocessing.StandardScaler\n",
    "from river import neighbors     # neighbors.KNNClassifier, SWINN\n",
    "from river import drift         # ADWIN\n",
    "from river import stream\n",
    "import warnings\n",
    "\n",
    "# from skmultiflow.anomaly_detection import HalfSpaceTrees\n",
    "# from skmultiflow.lazy import KNNClassifier, KNNADWINClassifier"
   ]
  },
  {
   "cell_type": "markdown",
   "id": "36bf9af0-d582-4798-9e99-d95a238cc63a",
   "metadata": {},
   "source": [
    "## Test train split and Feature selection\n",
    "- Select range of rpm\n",
    "- Load features\n",
    "- Break severity to two levels (accept, no accept) in each fault - use accept as normal baseline\n",
    "- Stratified sampling (Train: 0.7, Test: 0.3)\n",
    "- Choose few faults/states: normal, unbalance, horizonatl misalignment, vertical misalignment (exclude bearings)"
   ]
  },
  {
   "cell_type": "markdown",
   "id": "33e4fb79-b0dd-48ae-bf5d-b2b4da8cebbb",
   "metadata": {},
   "source": [
    "## K Nearest Neighbors\n",
    "KNN (distance metric, k neighbours - elbow) "
   ]
  },
  {
   "cell_type": "markdown",
   "id": "84c5a9fd-7d3b-4edb-bf8b-8c42a860902c",
   "metadata": {},
   "source": [
    "## K Nearest Neighbors (online)"
   ]
  },
  {
   "cell_type": "markdown",
   "id": "66b0f7db-30e4-461d-95d7-a0d8e979af7e",
   "metadata": {},
   "source": [
    "## Local outlier factor (online, experimental)"
   ]
  },
  {
   "cell_type": "markdown",
   "id": "dc655ae5-ec05-4628-adae-c8bc2e9d6ff9",
   "metadata": {},
   "source": [
    "## Isolation Forest"
   ]
  },
  {
   "cell_type": "markdown",
   "id": "9bdb31b2-0a7e-4470-a70d-fa499fe23fe9",
   "metadata": {},
   "source": [
    "## Half-space Trees (online)\n",
    "Half-Space Trees (window size, ensemble size)"
   ]
  },
  {
   "cell_type": "markdown",
   "id": "34610e00-33c4-4034-a1c3-20c803ed96c9",
   "metadata": {},
   "source": [
    "## DBSCAN"
   ]
  },
  {
   "cell_type": "markdown",
   "id": "7b8278cc-c5f1-4b16-99fa-438dde8d0910",
   "metadata": {},
   "source": [
    "## DenStream (online)\n",
    "DenStream (μ, ε, beta, λ)"
   ]
  }
 ],
 "metadata": {
  "kernelspec": {
   "display_name": "Python 3 (ipykernel)",
   "language": "python",
   "name": "python3"
  },
  "language_info": {
   "codemirror_mode": {
    "name": "ipython",
    "version": 3
   },
   "file_extension": ".py",
   "mimetype": "text/x-python",
   "name": "python",
   "nbconvert_exporter": "python",
   "pygments_lexer": "ipython3",
   "version": "3.11.5"
  }
 },
 "nbformat": 4,
 "nbformat_minor": 5
}
