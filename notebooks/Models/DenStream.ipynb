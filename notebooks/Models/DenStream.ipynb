{
 "cells": [
  {
   "cell_type": "markdown",
   "metadata": {},
   "source": [
    "DenStream (online)\n",
    "- DenStream (μ, ε, beta, λ)\n",
    "- **In progress**"
   ]
  },
  {
   "cell_type": "code",
   "execution_count": null,
   "metadata": {},
   "outputs": [],
   "source": [
    "denstream = cluster.DenStream(\n",
    "    decaying_factor=0.01,\n",
    "    beta=0.5,\n",
    "    mu=2.5,\n",
    "    epsilon=0.5,\n",
    "    n_samples_init=10\n",
    ")\n",
    "# Choose one feature (from example)\n",
    "X = X_train.to_numpy()\n",
    "\n",
    "for x, _ in stream.iter_array(X):\n",
    "    denstream = denstream.learn_one(x)\n",
    "\n",
    "denstream.predict_one({0: -1, 1: -2})"
   ]
  }
 ],
 "metadata": {
  "language_info": {
   "name": "python"
  }
 },
 "nbformat": 4,
 "nbformat_minor": 2
}
