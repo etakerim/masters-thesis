{
 "cells": [
  {
   "cell_type": "markdown",
   "metadata": {},
   "source": [
    "### kNN streaming data"
   ]
  },
  {
   "cell_type": "code",
   "execution_count": null,
   "metadata": {},
   "outputs": [],
   "source": [
    "DOMAIN = 'td'\n",
    "\n",
    "from river import preprocessing\n",
    "from river import neighbors\n",
    "\n",
    "import pandas as pd\n",
    "from tqdm.notebook import tqdm\n",
    "import matplotlib.pyplot as plt\n",
    "import seaborn as sb\n",
    "\n",
    "import sys\n",
    "sys.path.append('../../')\n",
    "from feature.selection import load_td_feat, load_fd_feat, METADATA_COLUMNS_ALL\n",
    "from feature.models import fault_labeling, filter_out_metadata_columns\n",
    "\n",
    "\n",
    "from sklearn.feature_selection import SelectKBest\n",
    "from sklearn import metrics\n",
    "import random\n",
    "\n",
    "\n",
    "FEATURES_PATH =  '../../datasets/features_data/'\n",
    "FAULT_CLASSES = {\n",
    "    'normal': 'N',\n",
    "    'imbalance': 'I',\n",
    "    'horizontal-misalignment': 'HM',\n",
    "    'vertical-misalignment': 'VM'\n",
    "}"
   ]
  },
  {
   "cell_type": "code",
   "execution_count": null,
   "metadata": {},
   "outputs": [],
   "source": [
    "\n",
    "def knn_online_learn(dataset, label='fault', window_len=1, learn_skip=0, clusters=False):\n",
    "    # Buffer true samples for learning for later: simulate delayed annotation\n",
    "    learning_window = []\n",
    "\n",
    "    # Model consists of scaler to give approximately same weight to all features and kNN\n",
    "    scaler = preprocessing.MinMaxScaler() \n",
    "    knn = neighbors.KNNClassifier(n_neighbors=5)\n",
    "\n",
    "    scores = []                 # List of tuples with accuracy, precision and recall score on each iteration\n",
    "    v_true = []                 # Append y true sample on each iteration\n",
    "    v_predict = []              # Append y predicted sample on each iteration\n",
    "\n",
    "    # Randomize order of seen faults\n",
    "    random.seed(10)\n",
    "    rows_index = dataset.index.to_list()\n",
    "    random.shuffle(rows_index)\n",
    "\n",
    "    skipping = 0\n",
    "    started = False\n",
    "    order_saved = []\n",
    "\n",
    "    for step, idx in enumerate(rows_index):\n",
    "        row = dataset.iloc[idx]\n",
    "        x = {k: v for k, v in dict(row).items() if k not in METADATA_COLUMNS_ALL}\n",
    "\n",
    "        x_scaled = scaler.learn_one(x).transform_one(x)\n",
    "        y_true = row[label]\n",
    "        learning_window.append((x_scaled, y_true))\n",
    "\n",
    "        if started:\n",
    "            # Predict sample after at least one example has been learned\n",
    "            y_predict = knn.predict_one(x_scaled)\n",
    "            v_true.append(y_true)\n",
    "            v_predict.append(y_predict)\n",
    "            order_saved.append(idx)\n",
    "\n",
    "            scores.append([\n",
    "                step,\n",
    "                metrics.accuracy_score(v_true, v_predict),\n",
    "                metrics.precision_score(v_true, v_predict, average='micro'),\n",
    "                metrics.recall_score(v_true, v_predict, average='micro')\n",
    "            ])\n",
    "\n",
    "        # Provide labels after window length has passed\n",
    "        if len(learning_window) == window_len:\n",
    "            for x, y in learning_window:\n",
    "                # Learn first sample at start of window\n",
    "                if skipping == learn_skip:\n",
    "                    started = True\n",
    "                    knn.learn_one(x, y)\n",
    "                    skipping = 0\n",
    "                else:\n",
    "                    skipping += 1\n",
    "            learning_window = []\n",
    "\n",
    "    if clusters:\n",
    "        return pd.Series(v_predict, index=order_saved)\n",
    "        \n",
    "    return pd.DataFrame(scores, columns=['step', 'accuracy', 'precision', 'recall'])"
   ]
  },
  {
   "cell_type": "markdown",
   "metadata": {},
   "source": [
    "Load features"
   ]
  },
  {
   "cell_type": "code",
   "execution_count": null,
   "metadata": {},
   "outputs": [],
   "source": [
    "if DOMAIN == 'td':\n",
    "    stream = load_td_feat(['az'], path=FEATURES_PATH)\n",
    "    stream = fault_labeling(stream, FAULT_CLASSES)\n",
    "    stream = stream[['fault', 'anomaly', 'az_rms', 'az_pp', 'az_shape']]\n",
    "\n",
    "elif DOMAIN == 'fd':\n",
    "    stream = load_fd_feat(['az'], path=FEATURES_PATH)\n",
    "    stream = fault_labeling(stream, FAULT_CLASSES)\n",
    "    stream = stream[['fault', 'anomaly', 'az_centroid_64', 'az_centroid_kurt', 'az_centroid_skew', 'az_roll_off_256']] \n",
    "\n",
    "# Warning: leakage information if feature importance is learned based on whole dataset\n",
    "# Chicken and egg problem: cannot know best features without seeing whole dataset, but it is neccessary to find best features"
   ]
  },
  {
   "cell_type": "markdown",
   "metadata": {},
   "source": [
    "Gradual learning\n",
    "- 4 classes - N, VM, HM, I"
   ]
  },
  {
   "cell_type": "code",
   "execution_count": null,
   "metadata": {},
   "outputs": [],
   "source": [
    "\n",
    "\n",
    "results = knn_online_learn(stream, label='fault', window_len=1)\n",
    "ax = results[['accuracy']].plot(\n",
    "    grid=True, legend=False, figsize=(8, 4),\n",
    "    xlabel='Sample', ylabel='Accuracy', title='Fault classes: 4, Window size: 1'\n",
    ")\n",
    "best = results.tail(1)\n",
    "best"
   ]
  },
  {
   "cell_type": "markdown",
   "metadata": {},
   "source": [
    "Gradual learning\n",
    "- Binary classifier - anomaly"
   ]
  },
  {
   "cell_type": "code",
   "execution_count": null,
   "metadata": {},
   "outputs": [],
   "source": [
    "results = knn_online_learn(stream, label='anomaly', window_len=1)\n",
    "ax = results[['accuracy']].plot(\n",
    "    grid=True, legend=False, figsize=(8, 4),\n",
    "    xlabel='Sample', ylabel='Accuracy', title='Fault classes: 1, Window size: 1'\n",
    ")\n",
    "best = results.tail(1)\n",
    "best"
   ]
  },
  {
   "cell_type": "markdown",
   "metadata": {},
   "source": [
    "Window learning\n",
    "- Compare classification accuracies for window sizes in one graph: (1, 10, 50, 100, 250)\n",
    "- Scenarios: fault, anomaly"
   ]
  },
  {
   "cell_type": "code",
   "execution_count": null,
   "metadata": {},
   "outputs": [],
   "source": [
    "learning_window_lengths = (1, 10, 50, 100, 250)\n",
    "\n",
    "fault_evolution = pd.DataFrame()\n",
    "for n in tqdm(learning_window_lengths):\n",
    "    results = knn_online_learn(stream, label='fault', window_len=n)\n",
    "    accuracy = results['accuracy']\n",
    "    accuracy.index += n             # Starts learning after at least one window has been filled\n",
    "    fault_evolution[str(n)] = accuracy"
   ]
  },
  {
   "cell_type": "code",
   "execution_count": null,
   "metadata": {},
   "outputs": [],
   "source": [
    "ax = fault_evolution.fillna(0).plot(\n",
    "    grid=True, legend=True, figsize=(8, 4),\n",
    "    xlabel='Sample', ylabel='Accuracy', title='Faults: Label with delay'\n",
    ")\n",
    "fault_evolution.tail(1)"
   ]
  },
  {
   "cell_type": "code",
   "execution_count": null,
   "metadata": {},
   "outputs": [],
   "source": [
    "anomaly_evolution = pd.DataFrame()\n",
    "for n in tqdm(learning_window_lengths):\n",
    "    results = knn_online_learn(stream, label='anomaly', window_len=n)\n",
    "    accuracy = results['accuracy']\n",
    "    accuracy.index += n             # Starts learning after at least one window has been filled\n",
    "    anomaly_evolution[str(n)] = accuracy"
   ]
  },
  {
   "cell_type": "code",
   "execution_count": null,
   "metadata": {},
   "outputs": [],
   "source": [
    "ax = anomaly_evolution.fillna(0).plot(\n",
    "    grid=True, legend=True, figsize=(8, 4),\n",
    "    xlabel='Sample', ylabel='Accuracy', title='Anomaly: Label with delay'\n",
    ")\n",
    "anomaly_evolution.tail(1)"
   ]
  },
  {
   "cell_type": "markdown",
   "metadata": {},
   "source": [
    "Missing labels - Faults"
   ]
  },
  {
   "cell_type": "code",
   "execution_count": null,
   "metadata": {},
   "outputs": [],
   "source": [
    "window_len = 10\n",
    "labels_skips = (0, 5, 15, 25, 50, 100)\n",
    "\n",
    "fault_skip_evolution = pd.DataFrame()\n",
    "for s in tqdm(labels_skips):\n",
    "    results = knn_online_learn(stream, label='fault', window_len=window_len, learn_skip=s)\n",
    "    accuracy = results['accuracy']\n",
    "    accuracy.index += len(stream) - len(accuracy)\n",
    "    fault_skip_evolution[str(s)] = accuracy"
   ]
  },
  {
   "cell_type": "code",
   "execution_count": null,
   "metadata": {},
   "outputs": [],
   "source": [
    "ax = fault_skip_evolution.fillna(0).plot(\n",
    "    grid=True, legend=True, figsize=(8, 4),\n",
    "    xlabel='Sample', ylabel='Accuracy', title=f'Faults (4 classes): Skip labels (out of {len(stream)} total), Window: {window_len}'\n",
    ")\n",
    "fault_skip_evolution.tail(1)"
   ]
  },
  {
   "cell_type": "markdown",
   "metadata": {},
   "source": [
    "Missing labels - Anomaly"
   ]
  },
  {
   "cell_type": "code",
   "execution_count": null,
   "metadata": {},
   "outputs": [],
   "source": [
    "anomaly_skip_evolution = pd.DataFrame()\n",
    "for s in tqdm(labels_skips):\n",
    "    results = knn_online_learn(stream, label='anomaly', window_len=window_len, learn_skip=s)\n",
    "    accuracy = results['accuracy']\n",
    "    accuracy.index += len(stream) - len(accuracy)\n",
    "    anomaly_skip_evolution[str(s)] = accuracy"
   ]
  },
  {
   "cell_type": "code",
   "execution_count": null,
   "metadata": {},
   "outputs": [],
   "source": [
    "ax = anomaly_skip_evolution.fillna(0).plot(\n",
    "    grid=True, legend=True, figsize=(8, 4),\n",
    "    xlabel='Sample', ylabel='Accuracy', title=f'Anomaly: Skip labels (out of {len(stream)} total), Window: {window_len}'\n",
    ")\n",
    "anomaly_skip_evolution.tail(1)"
   ]
  },
  {
   "cell_type": "markdown",
   "metadata": {},
   "source": [
    "Scatter plot - True labels vs. Predicted labels\n",
    "- Faults\n",
    "- Anomaly"
   ]
  },
  {
   "cell_type": "code",
   "execution_count": null,
   "metadata": {},
   "outputs": [],
   "source": [
    "def scatter_classif(X, y_label, categories, colors, ax):\n",
    "    for label, color in zip(categories, colors):\n",
    "            rows = list(y_label[y_label == label].index)\n",
    "            x = X.loc[rows,0]\n",
    "            y = X.loc[rows,1]\n",
    "            ax.scatter(x, y, s=2, color=color, label=label)\n",
    "\n",
    "from sklearn.decomposition import PCA\n",
    "\n",
    "X = filter_out_metadata_columns(stream)\n",
    "y_true = stream['fault']\n",
    "y_predict = knn_online_learn(stream, label='fault', window_len=1, learn_skip=0, clusters=True)\n",
    "y_predict = y_predict.astype('category')\n",
    "\n",
    "X_pca = PCA(n_components=2).fit_transform(X)\n",
    "X_pca = pd.DataFrame(X_pca)\n",
    "\n",
    "categories = y_true.cat.categories\n",
    "colors = sb.color_palette('hls', len(categories))\n",
    "\n",
    "# Plot\n",
    "fig, ax = plt.subplots(1, 3, figsize=(20, 5))\n",
    "\n",
    "scatter_classif(X_pca, y_true, categories, colors, ax[0])\n",
    "scatter_classif(X_pca, y_predict, categories, colors, ax[1])\n",
    "\n",
    "match = y_predict == y_true[y_predict.index]\n",
    "good = y_predict[match == True].index\n",
    "bad = y_predict[match == False].index\n",
    "\n",
    "ax[2].scatter(X_pca[0].loc[good], X_pca[1].loc[good], s=2, color='green', label='Good')\n",
    "ax[2].scatter(X_pca[0].loc[bad], X_pca[1].loc[bad], s=2, color='red', label='Bad')\n",
    "\n",
    "for i in range(3):\n",
    "    ax[i].grid()\n",
    "    ax[i].legend()\n",
    "\n",
    "plt.show()"
   ]
  }
 ],
 "metadata": {
  "kernelspec": {
   "display_name": "dp",
   "language": "python",
   "name": "python3"
  },
  "language_info": {
   "codemirror_mode": {
    "name": "ipython",
    "version": 3
   },
   "file_extension": ".py",
   "mimetype": "text/x-python",
   "name": "python",
   "nbconvert_exporter": "python",
   "pygments_lexer": "ipython3",
   "version": "3.11.5"
  }
 },
 "nbformat": 4,
 "nbformat_minor": 2
}
