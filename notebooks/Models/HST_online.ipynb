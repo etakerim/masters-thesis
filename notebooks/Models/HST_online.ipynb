{
 "cells": [
  {
   "cell_type": "markdown",
   "metadata": {},
   "source": [
    "Half-space Trees (online)\n",
    "- Half-Space Trees (window size, ensemble size)\n",
    "- - **In progress**"
   ]
  },
  {
   "cell_type": "code",
   "execution_count": 1,
   "metadata": {},
   "outputs": [],
   "source": [
    "from river import anomaly"
   ]
  },
  {
   "cell_type": "code",
   "execution_count": null,
   "metadata": {},
   "outputs": [],
   "source": [
    "\n",
    "\n",
    "hst = anomaly.HalfSpaceTrees(n_trees=5, height=3, window_size=3, seed=10)\n",
    "\n",
    "for x in X[:3]:\n",
    "    hst = hst.learn_one({'x': x})\n",
    "\n",
    "for x in X:\n",
    "    features = {'x': x}\n",
    "    hst = hst.learn_one(features)\n",
    "    print(f'Anomaly score for x={x:.3f}: {hst.score_one(features):.3f}')"
   ]
  },
  {
   "cell_type": "code",
   "execution_count": 36,
   "metadata": {},
   "outputs": [
    {
     "data": {
      "text/plain": [
       "ROCAUC: 39.24%"
      ]
     },
     "execution_count": 36,
     "metadata": {},
     "output_type": "execute_result"
    }
   ],
   "source": [
    "from river import compose\n",
    "from river import datasets\n",
    "from river import metrics\n",
    "from river import preprocessing\n",
    "\n",
    "import sys\n",
    "sys.path.append('../../')\n",
    "from feature.selection import load_td_feat, load_fd_feat, METADATA_COLUMNS_ALL\n",
    "from feature.models import fault_labeling, filter_out_metadata_columns\n",
    "\n",
    "\n",
    "model = compose.Pipeline(\n",
    "    preprocessing.MinMaxScaler(),\n",
    "    anomaly.HalfSpaceTrees(seed=10)\n",
    ")\n",
    "\n",
    "auc = metrics.ROCAUC()\n",
    "\n",
    "FEATURES_PATH =  '../../datasets/features_data/'\n",
    "FAULT_CLASSES = {\n",
    "    'normal': 'N',\n",
    "    'imbalance': 'I',\n",
    "    'horizontal-misalignment': 'HM',\n",
    "    'vertical-misalignment': 'VM'\n",
    "}\n",
    "\n",
    "stream = load_fd_feat(['az'], path=FEATURES_PATH)\n",
    "stream = fault_labeling(stream, FAULT_CLASSES)\n",
    "\n",
    "for idx, row in stream.iterrows():\n",
    "    x = {k: v for k, v in dict(row).items() if k not in METADATA_COLUMNS_ALL}\n",
    "    y = row['anomaly']\n",
    "    score = model.score_one(x)\n",
    "    model = model.learn_one(x)\n",
    "    auc = auc.update(y, score)\n",
    "\n",
    "auc   # if is less than 50% then invert predictions False <-> True"
   ]
  }
 ],
 "metadata": {
  "kernelspec": {
   "display_name": "dp",
   "language": "python",
   "name": "python3"
  },
  "language_info": {
   "codemirror_mode": {
    "name": "ipython",
    "version": 3
   },
   "file_extension": ".py",
   "mimetype": "text/x-python",
   "name": "python",
   "nbconvert_exporter": "python",
   "pygments_lexer": "ipython3",
   "version": "3.11.5"
  }
 },
 "nbformat": 4,
 "nbformat_minor": 2
}
