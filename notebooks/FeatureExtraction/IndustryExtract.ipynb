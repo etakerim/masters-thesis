{
 "cells": [
  {
   "cell_type": "code",
   "execution_count": null,
   "metadata": {},
   "outputs": [],
   "source": [
    "import os\n",
    "from zipfile import ZipFile\n",
    "\n",
    "import numpy as np\n",
    "import pandas as pd\n",
    "import matplotlib.pyplot as plt\n",
    "import tsfel\n",
    "from datetime import datetime\n",
    "\n",
    "import sys\n",
    "sys.path.append('../')\n",
    "from vibrodiagnostics import (\n",
    "    datasets,\n",
    "    discovery,\n",
    "    models\n",
    ")\n",
    "\n",
    "TEMPORAL_NAME = 'industry_temporal.csv'\n",
    "SPECTRAL_NAME = 'industry_spectral.csv'\n",
    "FEATURES_PATH =  '../../datasets/features_data/'\n",
    "\n",
    "Fs = 26866      # 26667\n",
    "DATASET_PATH = '../../datasets/Pumps-and-Compressors/'"
   ]
  },
  {
   "cell_type": "code",
   "execution_count": null,
   "metadata": {},
   "outputs": [],
   "source": [
    "def features_produce(domain, dataframe, metadata):\n",
    "    result = []\n",
    "    for i, df in enumerate(dataframe):\n",
    "        fvector = metadata\n",
    "        for col in ['x', 'y', 'z']:\n",
    "            if domain == 'temporal':\n",
    "                v = discovery.time_features_calc(df, col)\n",
    "            elif domain == 'spectral':\n",
    "                v = discovery.frequency_features_calc(df, col, 2**14, Fs)\n",
    "            fvector.extend(v)\n",
    "        result.append(pd.DataFrame(dict(fvector))) \n",
    "    return result\n",
    "\n",
    "\n",
    "def features_calculate(dataset, domain):\n",
    "    feat = []\n",
    "    for name, ts in dataset:\n",
    "        header = name.split(os.path.sep)\n",
    "        metadata = [\n",
    "            ('place', header[-5]),\n",
    "            ('date', datetime.fromisoformat(header[-4]).date()),\n",
    "            ('device', header[-3]),\n",
    "            ('position', header[-2]),\n",
    "            ('seq', int(header[-1].split('.')[0]))\n",
    "        ]\n",
    "        dataframe = discovery.split_dataframe(ts, parts=60//5)\n",
    "        feat.extend(features_produce(domain, dataframe, metadata.copy()))\n",
    "\n",
    "    return pd.concat(feat).reset_index(drop=True)"
   ]
  },
  {
   "cell_type": "markdown",
   "metadata": {},
   "source": [
    "Export features for all files"
   ]
  },
  {
   "cell_type": "code",
   "execution_count": null,
   "metadata": {},
   "outputs": [],
   "source": [
    "list_of_files = datasets.steval_files(DATASET_PATH)\n",
    "DATASET = datasets.steval_dataset(list_of_files, Fs)"
   ]
  },
  {
   "cell_type": "code",
   "execution_count": null,
   "metadata": {},
   "outputs": [],
   "source": [
    "FEATURES_FILENAME = os.path.join(FEATURES_PATH, TEMPORAL_NAME)\n",
    "\n",
    "features = features_calculate(DATASET, 'temporal')\n",
    "features.to_csv(FEATURES_FILENAME, index=False)\n",
    "features"
   ]
  },
  {
   "cell_type": "code",
   "execution_count": null,
   "metadata": {},
   "outputs": [],
   "source": [
    "FEATURES_FILENAME = os.path.join(FEATURES_PATH, SPECTRAL_NAME)\n",
    "\n",
    "features = features_calculate(DATASET, 'spectral')\n",
    "features.to_csv(FEATURES_FILENAME, index=False)\n",
    "features"
   ]
  }
 ],
 "metadata": {
  "kernelspec": {
   "display_name": "Python 3 (ipykernel)",
   "language": "python",
   "name": "python3"
  },
  "language_info": {
   "codemirror_mode": {
    "name": "ipython",
    "version": 3
   },
   "file_extension": ".py",
   "mimetype": "text/x-python",
   "name": "python",
   "nbconvert_exporter": "python",
   "pygments_lexer": "ipython3",
   "version": "3.11.7"
  }
 },
 "nbformat": 4,
 "nbformat_minor": 4
}
