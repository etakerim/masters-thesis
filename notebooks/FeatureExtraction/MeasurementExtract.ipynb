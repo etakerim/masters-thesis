{
 "cells": [
  {
   "cell_type": "code",
   "execution_count": null,
   "metadata": {},
   "outputs": [],
   "source": [
    "import os\n",
    "import pandas as pd\n",
    "import matplotlib.pyplot as plt\n",
    "import tsfel\n",
    "\n",
    "import sys\n",
    "sys.path.append('../')\n",
    "from vibrodiagnostics import datasets\n",
    "from vibrodiagnostics import selection\n",
    "from vibrodiagnostics import discovery\n",
    "\n",
    "\n",
    "PARTS = 5\n",
    "DIR = '../../air_conditioning/shc3/'\n",
    "FILENAMES = [\n",
    "    'k3_1.tsv', 'k3_2.tsv', 'k3_3.tsv',     # Bad\n",
    "    'k5_1.tsv', 'k5_2.tsv', 'k5_3.tsv'      # Good\n",
    "]\n",
    "\n",
    "FEATURES_PATH = os.path.join(DIR, 'features')\n",
    "FILENAMES = [os.path.join(DIR, filename) for filename in FILENAMES]"
   ]
  },
  {
   "cell_type": "markdown",
   "metadata": {},
   "source": [
    "Time domain features"
   ]
  },
  {
   "cell_type": "code",
   "execution_count": null,
   "metadata": {},
   "outputs": [],
   "source": [
    "FEATURES_FILENAME = os.path.join(FEATURES_PATH, selection.TIME_FEATURES_PATH)\n",
    "\n",
    "features = datasets.import_files_split(\n",
    "    FILENAMES, discovery.me_features_time_domain, datasets.beaglebone_measurement, parts=PARTS\n",
    ")\n",
    "features.to_csv(FEATURES_FILENAME, index=False)\n",
    "features.head(10)"
   ]
  },
  {
   "cell_type": "markdown",
   "metadata": {},
   "source": [
    "Frequency domain features"
   ]
  },
  {
   "cell_type": "code",
   "execution_count": null,
   "metadata": {},
   "outputs": [],
   "source": [
    "FEATURES_FILENAME = os.path.join(FEATURES_PATH, selection.FREQ_FEATURES_PATH)\n",
    "\n",
    "features = datasets.import_files_split(\n",
    "    FILENAMES, discovery.me_features_frequency_domain, datasets.beaglebone_measurement, parts=PARTS\n",
    ")\n",
    "features.to_csv(FEATURES_FILENAME, index=False)\n",
    "features.head(10)"
   ]
  },
  {
   "cell_type": "markdown",
   "metadata": {},
   "source": [
    "Merge time and frequency domain features"
   ]
  },
  {
   "cell_type": "code",
   "execution_count": null,
   "metadata": {},
   "outputs": [],
   "source": [
    "time_domain_filename = os.path.join(FEATURES_PATH, selection.TIME_FEATURES_PATH)\n",
    "freq_domain_filename = os.path.join(FEATURES_PATH, selection.FREQ_FEATURES_PATH)\n",
    "merged_filename = os.path.join(FEATURES_PATH, selection.TIME_AND_FREQ_FEATURES_PATH)\n",
    "\n",
    "result = selection.me_merge_feature_domains(time_domain_filename, freq_domain_filename)\n",
    "result.to_csv(merged_filename, index=False)\n",
    "result.head(5)"
   ]
  },
  {
   "cell_type": "markdown",
   "metadata": {},
   "source": [
    "TSFEL package features"
   ]
  },
  {
   "cell_type": "code",
   "execution_count": null,
   "metadata": {},
   "outputs": [],
   "source": [
    "FEATURES_FILENAME = os.path.join(FEATURES_PATH, selection.TSFEL_FEATURES_PATH)\n",
    "\n",
    "features = datasets.import_files_split(\n",
    "    FILENAMES, discovery.me_tsfel_features_import, datasets.beaglebone_measurement, parts=PARTS\n",
    ")\n",
    "features.to_csv(FEATURES_FILENAME, index=False)\n",
    "features.head(10)"
   ]
  },
  {
   "cell_type": "code",
   "execution_count": null,
   "metadata": {},
   "outputs": [],
   "source": [
    "SRC_FILENAME = os.path.join(FEATURES_PATH, selection.TSFEL_FEATURES_PATH)\n",
    "DEST_FILENAME = os.path.join(FEATURES_PATH, selection.TSFEL_TIME_FEATURES_PATH)\n",
    "\n",
    "\n",
    "features = selection.me_keep_tsfel_some_columns(SRC_FILENAME, 'temporal')\n",
    "features.to_csv(DEST_FILENAME, index=False)"
   ]
  },
  {
   "cell_type": "code",
   "execution_count": null,
   "metadata": {},
   "outputs": [],
   "source": [
    "SRC_FILENAME = os.path.join(FEATURES_PATH, selection.TSFEL_FEATURES_PATH)\n",
    "DEST_FILENAME = os.path.join(FEATURES_PATH, selection.TSFEL_FREQ_FEATURES_PATH)\n",
    "\n",
    "\n",
    "features = selection.me_keep_tsfel_some_columns(SRC_FILENAME, 'spectral')\n",
    "features.to_csv(DEST_FILENAME, index=False)"
   ]
  },
  {
   "cell_type": "code",
   "execution_count": null,
   "metadata": {},
   "outputs": [],
   "source": [
    "SRC_FILENAME = os.path.join(FEATURES_PATH, selection.TSFEL_FEATURES_PATH)\n",
    "DEST_FILENAME = os.path.join(FEATURES_PATH, selection.TSFEL_STAT_FEATURES_PATH)\n",
    "\n",
    "\n",
    "features = selection.me_keep_tsfel_some_columns(SRC_FILENAME, 'statistical')\n",
    "features.to_csv(DEST_FILENAME, index=False)"
   ]
  }
 ],
 "metadata": {
  "kernelspec": {
   "display_name": "dp",
   "language": "python",
   "name": "python3"
  },
  "language_info": {
   "codemirror_mode": {
    "name": "ipython",
    "version": 3
   },
   "file_extension": ".py",
   "mimetype": "text/x-python",
   "name": "python",
   "nbconvert_exporter": "python",
   "pygments_lexer": "ipython3",
   "version": "3.11.5"
  }
 },
 "nbformat": 4,
 "nbformat_minor": 2
}
