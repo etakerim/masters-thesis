{
 "cells": [
  {
   "cell_type": "code",
   "execution_count": null,
   "metadata": {},
   "outputs": [],
   "source": [
    "import os\n",
    "import pandas as pd\n",
    "import matplotlib.pyplot as plt\n",
    "from typing import Tuple, Callable\n",
    "import tsfel\n",
    "import numpy as np\n",
    "from sklearn.feature_selection import mutual_info_classif, f_classif\n",
    "from scipy.stats import gmean\n",
    "\n",
    "import sys\n",
    "sys.path.append('../')\n",
    "from vibrodiagnostics import datasets, selection, discovery\n",
    "from sklearn.preprocessing import MinMaxScaler\n",
    "\n",
    "\n",
    "PARTS = 5\n",
    "DIR = '../../inspections/datacentres/shc3/'\n",
    "FILENAMES = [\n",
    "    'k3_1.tsv', 'k3_2.tsv', 'k3_3.tsv',     # Bad\n",
    "    'k5_1.tsv', 'k5_2.tsv', 'k5_3.tsv'      # Good\n",
    "]\n",
    "\n",
    "FEATURES_PATH = os.path.join(DIR, 'features')\n",
    "FILENAMES = [os.path.join(DIR, filename) for filename in FILENAMES]"
   ]
  },
  {
   "cell_type": "code",
   "execution_count": null,
   "metadata": {},
   "outputs": [],
   "source": [
    "def beaglebone_measurement(filename: str, fs: int=2500) -> Tuple[str, pd.DataFrame]:\n",
    "    g = 9.81\n",
    "    milivolts = 1800\n",
    "    resolution = 2**12\n",
    "    columns = ['x', 'y', 'z']\n",
    "    ts = pd.read_csv(filename, delimiter='\\t', index_col=False, header=None, names=columns)\n",
    "        \n",
    "    # Calculate amplitude in m/s^2 Beaglebone Black ADC and ADXL335 resolution (VIN 1.8V, 12bits)\n",
    "    for dim in columns:\n",
    "        ts[dim] = ts[dim] * (milivolts / resolution)  # ADC to mV\n",
    "        ts[dim] = (ts[dim] / 180) * g                 # mV to m/s^2 (180 mV/g)\n",
    "        ts[dim] -= ts[dim].mean()\n",
    "\n",
    "    ts['t'] = ts.index * (1 / fs)\n",
    "    ts.set_index('t', inplace=True)\n",
    "    return (os.path.basename(filename), ts, fs, ts.columns)  # last is feature columns\n",
    "\n",
    "\n",
    "def features_time_domain(filename: str, loader: Callable, parts: int=None) -> pd.DataFrame:\n",
    "    print(f'Processing: {filename}')\n",
    "    name, ts, fs_hz, columns = loader(filename)\n",
    "\n",
    "    columns = ['x', 'y', 'z']\n",
    "    dataframe = discovery.split_dataframe(ts, parts)\n",
    "    dataframe = discovery.detrending_filter(dataframe, columns)\n",
    "\n",
    "    result = []\n",
    "    for i, df in enumerate(dataframe):\n",
    "        fvector = [('name', [f'{name}.part.{i}'])]\n",
    "        for col in columns:\n",
    "            fvector.extend(discovery.time_features_calc(df, col))\n",
    "        result.append(pd.DataFrame(dict(fvector))) \n",
    "\n",
    "    return pd.concat(result).reset_index(drop=True)\n",
    "\n",
    "\n",
    "def features_frequency_domain(filename: str, loader: Callable, parts: int=None) -> pd.DataFrame:\n",
    "    # Calculate FFT with Welch method in 4 different Hann window sizes\n",
    "    OVERLAP = 0.5\n",
    "    WINDOW_SIZES = (2**6, 2**8, 2**10, 2**12)\n",
    "\n",
    "    print(f'Processing: {filename}')\n",
    "    name, ts, fs_hz, columns = loader(filename)\n",
    "    columns = ['x', 'y', 'z']\n",
    "    dataframe = discovery.split_dataframe(ts, parts)\n",
    "    dataframe = discovery.detrending_filter(dataframe, columns)\n",
    "\n",
    "    result = []\n",
    "    for i, df in enumerate(dataframe):\n",
    "        fvector = [('name', [f'{name}.part.{i}'])]\n",
    "        for window in WINDOW_SIZES:\n",
    "            for col in columns:\n",
    "                fvector.extend(discovery.frequency_features_calc(df, col, window))\n",
    "        result.append(pd.DataFrame(dict(fvector))) \n",
    "\n",
    "    return pd.concat(result).reset_index(drop=True)"
   ]
  },
  {
   "cell_type": "markdown",
   "metadata": {},
   "source": [
    "Time domain features"
   ]
  },
  {
   "cell_type": "code",
   "execution_count": null,
   "metadata": {},
   "outputs": [],
   "source": [
    "FEATURES_FILENAME = os.path.join(FEATURES_PATH, selection.TIME_FEATURES_PATH)\n",
    "\n",
    "features = datasets.import_files_split(\n",
    "    FILENAMES, features_time_domain, beaglebone_measurement, parts=PARTS\n",
    ")\n",
    "features.to_csv(FEATURES_FILENAME, index=False)\n",
    "features.head(10)"
   ]
  },
  {
   "cell_type": "markdown",
   "metadata": {},
   "source": [
    "Frequency domain features"
   ]
  },
  {
   "cell_type": "code",
   "execution_count": null,
   "metadata": {},
   "outputs": [],
   "source": [
    "FEATURES_FILENAME = os.path.join(FEATURES_PATH, selection.FREQ_FEATURES_PATH)\n",
    "\n",
    "features = datasets.import_files_split(\n",
    "    FILENAMES, features_frequency_domain, beaglebone_measurement, parts=PARTS\n",
    ")\n",
    "features.to_csv(FEATURES_FILENAME, index=False)\n",
    "features.head(10)"
   ]
  },
  {
   "cell_type": "markdown",
   "metadata": {},
   "source": [
    "Merge time and frequency domain features"
   ]
  },
  {
   "cell_type": "code",
   "execution_count": null,
   "metadata": {},
   "outputs": [],
   "source": [
    "time_domain_filename = os.path.join(FEATURES_PATH, selection.TIME_FEATURES_PATH)\n",
    "freq_domain_filename = os.path.join(FEATURES_PATH, selection.FREQ_FEATURES_PATH)\n",
    "merged_filename = os.path.join(FEATURES_PATH, selection.TIME_AND_FREQ_FEATURES_PATH)\n",
    "\n",
    "result = selection.me_merge_feature_domains(time_domain_filename, freq_domain_filename)\n",
    "result.to_csv(merged_filename, index=False)\n",
    "result.head(5)"
   ]
  },
  {
   "cell_type": "markdown",
   "metadata": {},
   "source": [
    "#### Temporal and spectral domain features EDA"
   ]
  },
  {
   "cell_type": "code",
   "execution_count": null,
   "metadata": {},
   "outputs": [],
   "source": [
    "def boxplot_features(dataset):\n",
    "    FEATURES_FILENAME = os.path.join(FEATURES_PATH, dataset)\n",
    "    features = pd.read_csv(FEATURES_FILENAME)\n",
    "    # Compute magnitude of feature vectors\n",
    "    names = features['name']\n",
    "\n",
    "    # Choose window size\n",
    "    if dataset == selection.FREQ_FEATURES_PATH:\n",
    "        window_size = 2**12\n",
    "        features = features.loc[:,features.columns.str.endswith(f'_{window_size}')]\n",
    "        features.columns = features.columns.str.extract(r'([\\w\\_]+)_(\\w+)$')[0]\n",
    "\n",
    "    features['ac_unit'] = names.str.extract(r'(k\\d+)').astype('category')\n",
    "\n",
    "    axis = ['x', 'y', 'z']\n",
    "    feature_names = np.unique(features.drop(columns=['ac_unit']).columns.str.extract(r'[a-z]+_(\\w+)').dropna().T.to_numpy())\n",
    "    result = pd.DataFrame()\n",
    "    for name in feature_names:              \n",
    "        vector_dims = [f'{dim}_{name}' for dim in axis]\n",
    "        result[name] = features[vector_dims].apply(np.linalg.norm, axis=1)\n",
    "\n",
    "    result_labeled = result.copy()\n",
    "    result_labeled['ac_unit'] = features['ac_unit']\n",
    "\n",
    "    # Show boxplots, split by AC unit\n",
    "    result.boxplot(figsize=(15, 5))\n",
    "    plt.show()\n",
    "    result_labeled.boxplot(figsize=(20, 5), layout=(2, 6), by='ac_unit', sharey=False)\n",
    "    plt.show()\n",
    "\n",
    "    # MinMax scaled result\n",
    "    scaler = MinMaxScaler()\n",
    "    result_scaled = pd.DataFrame()\n",
    "    result_scaled[result.columns] = scaler.fit_transform(result)\n",
    "\n",
    "    result_labeled = result_scaled.copy()\n",
    "    result_labeled['ac_unit'] = features['ac_unit']\n",
    "\n",
    "    # Show boxplots, split by AC unit\n",
    "    result_scaled.boxplot(figsize=(15, 5))\n",
    "    plt.show()\n",
    "    result_labeled.boxplot(figsize=(20, 5), layout=(2, 6), by='ac_unit', sharey=False)\n",
    "    plt.show()\n",
    "    return result_scaled, features['ac_unit']"
   ]
  },
  {
   "cell_type": "code",
   "execution_count": null,
   "metadata": {},
   "outputs": [],
   "source": [
    "X_t, Y_t = boxplot_features(selection.TIME_FEATURES_PATH)"
   ]
  },
  {
   "cell_type": "code",
   "execution_count": null,
   "metadata": {},
   "outputs": [],
   "source": [
    "X_f, Y_f = boxplot_features(selection.FREQ_FEATURES_PATH)"
   ]
  },
  {
   "cell_type": "markdown",
   "metadata": {},
   "source": [
    "### Ranks"
   ]
  },
  {
   "cell_type": "code",
   "execution_count": null,
   "metadata": {},
   "outputs": [],
   "source": [
    "METRICS_OFFLINE = (selection.corr_classif, f_classif, mutual_info_classif)\n",
    "\n",
    "def batch_feature_ranking(X: pd.DataFrame, Y: pd.DataFrame) -> pd.DataFrame:\n",
    "    metric_ranks = pd.DataFrame()  # Independent scores\n",
    "\n",
    "    for metric_name, metric in zip(('corr', 'f_stat', 'mi'), METRICS_OFFLINE):\n",
    "        scores = metric(X, Y)\n",
    "        if isinstance(scores, tuple):\n",
    "            scores = scores[0]\n",
    "        leaderboard = (\n",
    "            pd.DataFrame(zip(X.columns, scores), columns=['feature', 'score'])\n",
    "            .set_index('feature')\n",
    "            .sort_values(by='score', ascending=False)\n",
    "        )\n",
    "        metric_ranks[metric_name] = leaderboard\n",
    "    \n",
    "    ranks = metric_ranks.rank(axis='rows', method='first', ascending=False)\n",
    "    return metric_ranks, ranks.apply(gmean, axis=1).sort_values().to_frame(name='rank')"
   ]
  },
  {
   "cell_type": "code",
   "execution_count": null,
   "metadata": {},
   "outputs": [],
   "source": [
    "scores, ranks = batch_feature_ranking(X_t, Y_t)\n",
    "scores"
   ]
  },
  {
   "cell_type": "code",
   "execution_count": null,
   "metadata": {},
   "outputs": [],
   "source": [
    "ranks"
   ]
  },
  {
   "cell_type": "code",
   "execution_count": null,
   "metadata": {},
   "outputs": [],
   "source": [
    "scores, ranks = batch_feature_ranking(X_f, Y_f)\n",
    "scores"
   ]
  },
  {
   "cell_type": "code",
   "execution_count": null,
   "metadata": {},
   "outputs": [],
   "source": [
    "ranks"
   ]
  }
 ],
 "metadata": {
  "kernelspec": {
   "display_name": "dp",
   "language": "python",
   "name": "python3"
  },
  "language_info": {
   "codemirror_mode": {
    "name": "ipython",
    "version": 3
   },
   "file_extension": ".py",
   "mimetype": "text/x-python",
   "name": "python",
   "nbconvert_exporter": "python",
   "pygments_lexer": "ipython3",
   "version": "3.11.6"
  }
 },
 "nbformat": 4,
 "nbformat_minor": 2
}
