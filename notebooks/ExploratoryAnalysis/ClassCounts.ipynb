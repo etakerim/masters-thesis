{
 "cells": [
  {
   "cell_type": "code",
   "execution_count": null,
   "metadata": {},
   "outputs": [],
   "source": [
    "import pandas as pd\n",
    "import os\n",
    "import sys\n",
    "sys.path.append('../')\n",
    "from vibrodiagnostics import selection, models\n",
    "\n",
    "FEATURES_PATH =  '../../datasets/features_data/'\n",
    "FAULT_CLASSES = {\n",
    "    'normal': 'normal',\n",
    "    'imbalance': 'imbalance',\n",
    "    'horizontal-misalignment': 'misalignment',\n",
    "    'vertical-misalignment': 'misalignment',\n",
    "    'overhang-cage_fault': 'cage fault',\n",
    "    'underhang-cage_fault': 'cage fault',\n",
    "    'underhang-ball_fault': 'ball fault',\n",
    "    'overhang-ball_fault': 'ball fault',\n",
    "    'overhang-outer_race': 'outer race fault',\n",
    "    'underhang-outer_race': 'outer race fault',\n",
    "}\n",
    "\n",
    "MAFAULDA_PATH = '../../datasets/MAFAULDA.zip'\n",
    "FEATURES_PATH =  '../../datasets/features_data/'\n",
    "MAFAULDA_METADATA = os.path.join(FEATURES_PATH, selection.MAFAULDA_METADATA)\n",
    "\n",
    "TD_FEATURES = os.path.join(FEATURES_PATH, selection.TIME_FEATURES_PATH)\n",
    "FD_FEATURES = os.path.join(FEATURES_PATH, selection.FREQ_FEATURES_PATH)\n",
    "TD_FD_FEATURES = os.path.join(FEATURES_PATH, selection.TIME_AND_FREQ_FEATURES_PATH)"
   ]
  },
  {
   "cell_type": "code",
   "execution_count": null,
   "metadata": {},
   "outputs": [],
   "source": [
    "RPM = 2500\n",
    "RPM_RANGE = 500\n",
    "\n",
    "def load_dataset_info(anomaly=None):\n",
    "    meta = pd.read_csv(MAFAULDA_METADATA, index_col='filename')\n",
    "    files = meta[\n",
    "        (meta['fault'].isin(FAULT_CLASSES)) &\n",
    "        (meta['rpm'].between(RPM - RPM_RANGE, RPM + RPM_RANGE, inclusive='both'))\n",
    "    ].copy()\n",
    "    if anomaly is not None:\n",
    "        return models.fault_labeling(files, FAULT_CLASSES, anomaly_severity=anomaly)\n",
    "    else:\n",
    "        return models.fault_labeling(files, FAULT_CLASSES)\n",
    "\n",
    "\n",
    "\n",
    "filenames = load_dataset_info()\n",
    "filenames"
   ]
  },
  {
   "cell_type": "markdown",
   "metadata": {},
   "source": [
    "RPM unlimited"
   ]
  },
  {
   "cell_type": "code",
   "execution_count": null,
   "metadata": {},
   "outputs": [],
   "source": [
    "files_all = pd.read_csv(MAFAULDA_METADATA, index_col='filename')\n",
    "files_all = models.fault_labeling(files_all, FAULT_CLASSES)\n",
    "print(len(files_all))\n",
    "print(files_all['fault'].value_counts()  / len(files_all) * 100)\n",
    "files_all['fault'].value_counts() "
   ]
  },
  {
   "cell_type": "markdown",
   "metadata": {},
   "source": [
    "RPM limited counts"
   ]
  },
  {
   "cell_type": "code",
   "execution_count": null,
   "metadata": {},
   "outputs": [],
   "source": [
    "print(filenames['fault'].value_counts()  / len(filenames) * 100)\n",
    "filenames['fault'].value_counts()"
   ]
  },
  {
   "cell_type": "code",
   "execution_count": null,
   "metadata": {},
   "outputs": [],
   "source": [
    "filenames.groupby(by='fault')['rpm'].plot.hist(bins=100)"
   ]
  },
  {
   "cell_type": "code",
   "execution_count": null,
   "metadata": {},
   "outputs": [],
   "source": [
    "features = pd.read_csv(TD_FEATURES)\n",
    "features"
   ]
  },
  {
   "cell_type": "code",
   "execution_count": null,
   "metadata": {},
   "outputs": [],
   "source": [
    "features = pd.read_csv(TD_FEATURES)\n",
    "features = models.fault_labeling(features, FAULT_CLASSES)\n",
    "features"
   ]
  },
  {
   "cell_type": "code",
   "execution_count": null,
   "metadata": {},
   "outputs": [],
   "source": [
    "features['fault'].value_counts()"
   ]
  },
  {
   "cell_type": "code",
   "execution_count": null,
   "metadata": {},
   "outputs": [],
   "source": [
    "features.groupby(by='fault', observed=True)['rpm'].plot.hist(bins=100)"
   ]
  },
  {
   "cell_type": "code",
   "execution_count": null,
   "metadata": {},
   "outputs": [],
   "source": [
    "# correlation of features to rpm\n",
    "x = features[features.columns[~features.columns.isin(selection.METADATA_COLUMNS_ALL) | features.columns.isin(('rpm',))]]\n",
    "st = x.corr()['rpm'].abs().sort_values(ascending=False)\n",
    "st.describe()\n",
    "#st\n",
    "#.hist(bins=100)"
   ]
  },
  {
   "cell_type": "code",
   "execution_count": null,
   "metadata": {},
   "outputs": [],
   "source": [
    "st.head(50)"
   ]
  },
  {
   "cell_type": "code",
   "execution_count": null,
   "metadata": {},
   "outputs": [],
   "source": [
    "features = pd.read_csv(FD_FEATURES)\n",
    "features = models.fault_labeling(features, FAULT_CLASSES)\n",
    "features"
   ]
  },
  {
   "cell_type": "code",
   "execution_count": null,
   "metadata": {},
   "outputs": [],
   "source": [
    "x = features[features.columns[~features.columns.isin(selection.METADATA_COLUMNS_ALL) | features.columns.isin(('rpm',))]]\n",
    "st = x.corr()['rpm'].abs().sort_values(ascending=False)\n",
    "st.describe()"
   ]
  },
  {
   "cell_type": "markdown",
   "metadata": {},
   "source": [
    "Anomaly counts"
   ]
  },
  {
   "cell_type": "code",
   "execution_count": null,
   "metadata": {},
   "outputs": [],
   "source": [
    "features = pd.read_csv(TD_FEATURES)\n",
    "features = models.fault_labeling(features, FAULT_CLASSES, anomaly_severity=0.6)\n",
    "features['anomaly'].value_counts()"
   ]
  },
  {
   "cell_type": "code",
   "execution_count": null,
   "metadata": {},
   "outputs": [],
   "source": [
    "features = pd.read_csv(TD_FEATURES)\n",
    "features = models.fault_labeling(features, FAULT_CLASSES, anomaly_severity=0.9)\n",
    "features['anomaly'].value_counts()"
   ]
  },
  {
   "cell_type": "code",
   "execution_count": null,
   "metadata": {},
   "outputs": [],
   "source": [
    "features = pd.read_csv(FD_FEATURES)\n",
    "features = models.fault_labeling(features, FAULT_CLASSES, anomaly_severity=0.6)\n",
    "features['anomaly'].value_counts() / 5"
   ]
  },
  {
   "cell_type": "code",
   "execution_count": null,
   "metadata": {},
   "outputs": [],
   "source": [
    "features = pd.read_csv(FD_FEATURES)\n",
    "features = models.fault_labeling(features, FAULT_CLASSES, anomaly_severity=0.9)\n",
    "features['anomaly'].value_counts() / 5"
   ]
  },
  {
   "cell_type": "markdown",
   "metadata": {},
   "source": [
    "RPM limited anomaly counts"
   ]
  },
  {
   "cell_type": "code",
   "execution_count": null,
   "metadata": {},
   "outputs": [],
   "source": [
    "features = load_dataset_info(anomaly=0.6)\n",
    "features['anomaly'].value_counts()"
   ]
  },
  {
   "cell_type": "code",
   "execution_count": null,
   "metadata": {},
   "outputs": [],
   "source": [
    "features = load_dataset_info(anomaly=0.9)\n",
    "features['anomaly'].value_counts()"
   ]
  }
 ],
 "metadata": {
  "kernelspec": {
   "display_name": "Python 3 (ipykernel)",
   "language": "python",
   "name": "python3"
  },
  "language_info": {
   "codemirror_mode": {
    "name": "ipython",
    "version": 3
   },
   "file_extension": ".py",
   "mimetype": "text/x-python",
   "name": "python",
   "nbconvert_exporter": "python",
   "pygments_lexer": "ipython3",
   "version": "3.11.6"
  }
 },
 "nbformat": 4,
 "nbformat_minor": 4
}
