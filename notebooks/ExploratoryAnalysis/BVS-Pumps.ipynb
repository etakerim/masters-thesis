{
 "cells": [
  {
   "cell_type": "markdown",
   "metadata": {},
   "source": [
    "# KSB Cloud for BVS pumps\n",
    "\n",
    "## Recommendations for data collection\n",
    "1. **Download RMS velocity for entire 5 years** to calculate total hours each pump was on / off\n",
    "    - According to last year: ksb#1 is more damaged than ksb#7 \n",
    "    - Indicators (ksb#1 / ksb#7):\n",
    "        - Ratios of hours in service (0.57 / 0.40)\n",
    "        - Average RMS vibration velocity in ON state: x (/), y (/), z (/)\n",
    "    - Risks: damage may be caused by diffent factors than hours in service\n",
    "2. **Download spectra** from second pump for last year or last 5 years"
   ]
  },
  {
   "cell_type": "code",
   "execution_count": null,
   "metadata": {},
   "outputs": [],
   "source": [
    "import os\n",
    "import numpy as np\n",
    "import pandas as pd\n",
    "import matplotlib.pyplot as plt\n",
    "import matplotlib.dates as mdates\n",
    "from tsfel import feature_extraction as ft\n",
    "from scipy.stats import entropy\n",
    "import seaborn as sb\n",
    "import sys\n",
    "sys.path.append('../')\n",
    "from vibrodiagnostics import discovery"
   ]
  },
  {
   "cell_type": "code",
   "execution_count": null,
   "metadata": {},
   "outputs": [],
   "source": [
    "# RMS velocity in mm/s over year for two pumps: ksb#1 and ksb#7\n",
    "def input_dataset(filename: str) -> pd.DataFrame:\n",
    "    path = '../../inspections/pump-station/rms-vibrations'\n",
    "    table = pd.read_csv(\n",
    "        os.path.join(path, filename), \n",
    "        parse_dates=['Dátum'], dayfirst=True, \n",
    "        delimiter=';', decimal=','\n",
    "    )\n",
    "    table.rename(columns={\n",
    "        'Dátum': 'timestamp', \n",
    "        'RMS X [mm/s]': 'x',\n",
    "        'RMS Y [mm/s]': 'y',\n",
    "        'RMS Z [mm/s]': 'z'\n",
    "        }, inplace=True)\n",
    "    table.set_index('timestamp', inplace=True)\n",
    "    return table\n",
    "\n",
    "pumps = [input_dataset(name) for name in ('ksb1.csv', 'ksb7.csv')]\n",
    "pumps"
   ]
  },
  {
   "cell_type": "code",
   "execution_count": null,
   "metadata": {},
   "outputs": [],
   "source": [
    "pumps[0].plot(figsize=(20, 5), grid=True, xlabel='Date', ylabel='RMS velocity [mm/s]')"
   ]
  },
  {
   "cell_type": "code",
   "execution_count": null,
   "metadata": {},
   "outputs": [],
   "source": [
    "pumps[1].plot(figsize=(20, 5), grid=True, xlabel='Date', ylabel='RMS velocity [mm/s]')"
   ]
  },
  {
   "cell_type": "code",
   "execution_count": null,
   "metadata": {},
   "outputs": [],
   "source": [
    "# Merge and plot on-off states for pumps throughout the year\n",
    "station = pumps[0].join(pumps[1], how='outer', lsuffix='-p1', rsuffix='-p7')\n",
    "station = station.bfill().dropna()\n",
    "\n",
    "# Pump is ON if y velocity is greater than mean in mm/s (arbitrary number)\n",
    "operations = pd.DataFrame(index=station.index)\n",
    "for col in ('p1', 'p7'):\n",
    "    station[col] = (station[f'y-{col}'] > station[f'y-{col}'].mean()).astype(int)\n",
    "station[['p1', 'p7']]"
   ]
  },
  {
   "cell_type": "code",
   "execution_count": null,
   "metadata": {},
   "outputs": [],
   "source": [
    "station"
   ]
  },
  {
   "cell_type": "code",
   "execution_count": null,
   "metadata": {},
   "outputs": [],
   "source": [
    "station.describe()"
   ]
  },
  {
   "cell_type": "code",
   "execution_count": null,
   "metadata": {},
   "outputs": [],
   "source": [
    "ax = station[['p1', 'p7']].plot.area(figsize=(20, 5), xlabel='Date', ylabel='On', color=['#FFD23F', '#EE4266'], ylim=(0, 1))\n",
    "ax.xaxis.set_major_locator(mdates.MonthLocator(bymonth=range(1, 13)))\n",
    "ax.xaxis.set_major_formatter(mdates.DateFormatter('%Y-%b'))"
   ]
  },
  {
   "cell_type": "code",
   "execution_count": null,
   "metadata": {},
   "outputs": [],
   "source": [
    "intervals = {}\n",
    "operations = station[['p1', 'p7']]\n",
    "for col in operations.columns:\n",
    "    section = pd.DataFrame()\n",
    "    section['status'] = operations[col] \n",
    "    section['switch'] = (operations[col].diff().abs() >= 1).astype(int).cumsum()\n",
    "    intervals[col] = pd.Series([\n",
    "        # (group.index.min(), group.index.max(), group.index.max() - group.index.min())\n",
    "        group.index.max() - group.index.min()\n",
    "        for pos, group in section[section['status'] == 1].groupby(by='switch')\n",
    "    ])\n",
    "intervals"
   ]
  },
  {
   "cell_type": "code",
   "execution_count": null,
   "metadata": {},
   "outputs": [],
   "source": [
    "# Stats per pump\n",
    "# how many hours (avg, min, max) consecutive in operation\n",
    "# total hours in operation and proportion in % of total days\n",
    "stats = []\n",
    "for pump, period in intervals.items():\n",
    "    stats.append({\n",
    "        'pump': pump,\n",
    "        'min': period.min(),\n",
    "        'max': period.max(),\n",
    "        'avg': period.mean(),\n",
    "        'sum': period.sum(),\n",
    "        'ratio_on_state': period.sum() / (operations.index.max() - operations.index.min()),\n",
    "    })\n",
    "\n",
    "stats = pd.DataFrame.from_records(stats).set_index('pump')\n",
    "stats"
   ]
  },
  {
   "cell_type": "code",
   "execution_count": null,
   "metadata": {},
   "outputs": [],
   "source": [
    "# Average RMS velocity in ON state (last year)\n",
    "# https://stackoverflow.com/questions/70025048/pandas-average-if\n",
    "\n",
    "average_velocity = []\n",
    "std_velocity = []\n",
    "for name in ('p1', 'p7'):\n",
    "    v = station.loc[station[name] == True, [f'x-{name}', f'y-{name}', f'z-{name}']]\n",
    "    average_velocity.append(v.mean())\n",
    "    std_velocity.append(v.std())\n",
    "\n",
    "average_velocity = pd.concat(average_velocity).to_frame()\n",
    "std_velocity = pd.concat(std_velocity).to_frame()\n",
    "\n",
    "ax = average_velocity.plot.bar(\n",
    "    legend=False,\n",
    "    ylabel='Velocity [mm/s]',\n",
    "    xlabel='Axis and Pump',\n",
    "    title='Average vibration RMS velocity in ON state',\n",
    "    grid=True,\n",
    "    yerr=std_velocity\n",
    ")\n",
    "plt.show()"
   ]
  },
  {
   "cell_type": "code",
   "execution_count": null,
   "metadata": {},
   "outputs": [],
   "source": [
    "# Average velocity per on state (time section)\n",
    "def sliding_velocity_mean(station: pd.DataFrame, column: str) -> pd.DataFrame:\n",
    "    rows = []\n",
    "    for name, group in station.loc[\n",
    "            station[column] == 1,\n",
    "            [f'x-{column}', f'y-{column}', f'z-{column}', f'switch-{column}']\n",
    "        ].groupby(by=f'switch-{column}'):\n",
    "        point = {\n",
    "            'timestamp': group.index.min(),\n",
    "            'x': group[f'x-{column}'].mean(), \n",
    "            'y': group[f'y-{column}'].mean(),\n",
    "            'z': group[f'z-{column}'].mean()\n",
    "        }\n",
    "        rows.append(point.copy())\n",
    "        point['timestamp'] = group.index.max()\n",
    "        rows.append(point)\n",
    "\n",
    "    return pd.DataFrame.from_records(rows).set_index('timestamp')\n",
    "\n",
    "operations = station[['p1', 'p7']]\n",
    "for col in operations.columns:\n",
    "    station[f'switch-{col}'] = (operations[col].diff().abs() >= 1).astype(int).cumsum()\n",
    "\n",
    "sliding_velocity_mean(station, 'p1').join(\n",
    "    sliding_velocity_mean(station, 'p7'),\n",
    "    how='outer',\n",
    "    lsuffix='-p1',\n",
    "    rsuffix='-p7'\n",
    ").bfill().plot(\n",
    "    figsize=(20, 5),\n",
    "    grid=True,\n",
    "    marker='s'\n",
    ")\n",
    "plt.show()"
   ]
  },
  {
   "cell_type": "code",
   "execution_count": null,
   "metadata": {},
   "outputs": [],
   "source": [
    "# Import monthly frequency spectra\n",
    "samples = {}\n",
    "fa_path = '../../inspections/pump-station/monthly-frequency-ksb-1'\n",
    "for filename in os.listdir(fa_path):\n",
    "    freqs = pd.read_csv(\n",
    "        os.path.join(fa_path, filename),\n",
    "        delimiter=';', decimal=','\n",
    "    )\n",
    "    freqs.rename(columns={\n",
    "        'Frequency [Hertz]': 'frequency', \n",
    "        'AmplitudeX [mm/s]': 'x',\n",
    "        'AmplitudeY [mm/s]': 'y',\n",
    "        'AmplitudeZ [mm/s]': 'z'\n",
    "    }, inplace=True)\n",
    "    freqs = freqs.set_index('frequency')\n",
    "    month = int(filename.split('-')[1]) # pd.to_datetime(name, format='%m-%y')\n",
    "    samples[month] = freqs\n",
    "\n",
    "observations = pd.concat(samples).sort_index()\n",
    "observations"
   ]
  },
  {
   "cell_type": "code",
   "execution_count": null,
   "metadata": {},
   "outputs": [],
   "source": [
    "observations['x'].unstack()"
   ]
  },
  {
   "cell_type": "code",
   "execution_count": null,
   "metadata": {},
   "outputs": [],
   "source": [
    "# Plot spectra for all months\n",
    "for axis in ('x', 'y', 'z'):\n",
    "    observations[axis].unstack().T.plot(\n",
    "        figsize=(20, 4),\n",
    "        grid=True,\n",
    "        xlabel='Frequency [Hz]',\n",
    "        ylabel=f'Amplitude {axis.upper()} [mm/s]'\n",
    "    )\n",
    "    plt.show()"
   ]
  },
  {
   "cell_type": "code",
   "execution_count": null,
   "metadata": {},
   "outputs": [],
   "source": [
    "# Correlation among spectra in different dates and same axis\n",
    "fig, ax = plt.subplots(1, 3, figsize=(20, 5))\n",
    "for i, x in enumerate(('x', 'y', 'z')):\n",
    "    sb.heatmap(observations[x].unstack().T.corr(), annot=True, ax=ax[i])\n",
    "plt.show()"
   ]
  },
  {
   "cell_type": "code",
   "execution_count": null,
   "metadata": {},
   "outputs": [],
   "source": [
    "# Plot spectra for one month\n",
    "month = 1\n",
    "fig, ax = plt.subplots(3, 1, figsize=(20, 10))\n",
    "for i, axis in enumerate(('x', 'y', 'z')):\n",
    "    pxx = observations[axis].unstack().T[month]\n",
    "\n",
    "    print(f'{axis.upper()}:')\n",
    "    print(f'\\tMax.frequency {pxx.idxmax()} Hz (RPM: {pxx.idxmax() * 60})')\n",
    "    deltaF = pxx.index.diff().dropna().to_numpy().mean()\n",
    "    fs = 2 * pxx.index.max()\n",
    "    print(f'\\tResolution: {deltaF} Hz (RPM: {deltaF * 60})')\n",
    "    print(f'\\tWindow length: {int(fs / deltaF)}')\n",
    "\n",
    "    pxx.plot(\n",
    "        grid=True,\n",
    "        xlabel='Frequency [Hz]',\n",
    "        ylabel=f'Amplitude {axis.upper()} [mm/s]',\n",
    "        ax=ax[i],\n",
    "        color='darkblue'\n",
    "    )\n",
    "plt.tight_layout()\n",
    "plt.show()"
   ]
  },
  {
   "cell_type": "code",
   "execution_count": null,
   "metadata": {},
   "outputs": [],
   "source": [
    "# Calculate features\n",
    "def calc_features(df: pd.DataFrame, axis: str) -> pd.DataFrame:\n",
    "    features = []\n",
    "    pxx_prev = np.array([])\n",
    "\n",
    "    for month, pxx in df[axis].unstack().iterrows():\n",
    "        f = np.array(pxx.index)\n",
    "        pxx = np.array(pxx)\n",
    "        envelope_spectrum = discovery.envelope_signal(f, pxx)\n",
    "        row = {\n",
    "            'month': month,\n",
    "            'centroid': np.average(f, weights=pxx),\n",
    "            'std': ft.calc_std(pxx),\n",
    "            'skewness': ft.skewness(pxx),\n",
    "            'kurtosis': ft.kurtosis(pxx),\n",
    "            'roll_on': discovery.spectral_roll_off_frequency(f, pxx, 0.05),\n",
    "            'roll_off': discovery.spectral_roll_off_frequency(f, pxx, 0.85),\n",
    "            'noisiness': discovery.signal_to_noise(pxx),\n",
    "            'flux': (1 - np.corrcoef(pxx_prev, pxx))[0,1] if len(pxx_prev) == len(pxx) else np.nan,\n",
    "            'energy': discovery.energy(pxx),\n",
    "            'entropy': entropy(pxx / np.sum(pxx)),\n",
    "            'negentropy': discovery.negentropy(envelope_spectrum)\n",
    "        }\n",
    "        features.append(row)\n",
    "        pxx_prev = pxx\n",
    "\n",
    "    return pd.DataFrame.from_records(features).set_index('month')\n",
    "\n",
    "features = {\n",
    "    'x': calc_features(observations, 'x'),\n",
    "    'y': calc_features(observations, 'y'),\n",
    "    'z': calc_features(observations, 'z')\n",
    "}\n",
    "features = pd.concat(features)\n",
    "features\n"
   ]
  },
  {
   "cell_type": "code",
   "execution_count": null,
   "metadata": {},
   "outputs": [],
   "source": [
    "# Compute magnitude of features\n",
    "v = features.unstack().T # na magnitude\n",
    "featues_mag = (np.sum(v ** 2, axis=1) ** (1 / 2)).unstack().T\n",
    "featues_mag"
   ]
  },
  {
   "cell_type": "code",
   "execution_count": null,
   "metadata": {},
   "outputs": [],
   "source": [
    "#sb.pairplot(features)"
   ]
  },
  {
   "cell_type": "code",
   "execution_count": null,
   "metadata": {},
   "outputs": [],
   "source": [
    "# Get time domain signal by inverse fourier transform\n",
    "# If max f = 1 kHz, sampling frequency was 2 kHz\n",
    "months = {}\n",
    "for month, group in observations.groupby(level=0):\n",
    "    pxx = group.droplevel(0)\n",
    "    signal = np.fft.irfft(pxx, axis=0)\n",
    "    fs = pxx.index.max() * 2\n",
    "\n",
    "    ts = pd.DataFrame(signal, columns=['x', 'y', 'z'])\n",
    "    ts.index = ts.index * (1 / fs)\n",
    "    months[month] = ts\n",
    "\n",
    "waveforms = pd.concat(months)\n",
    "waveforms"
   ]
  },
  {
   "cell_type": "code",
   "execution_count": null,
   "metadata": {},
   "outputs": [],
   "source": [
    "waveforms.T[1].T.plot(\n",
    "    grid=True,\n",
    "    xlabel='Time [s]',\n",
    "    ylabel='Amplitude',\n",
    "    ylim=(-0.03, 0.03),\n",
    "    subplots=True,\n",
    "    figsize=(10, 7)\n",
    ")\n",
    "plt.show()"
   ]
  }
 ],
 "metadata": {
  "kernelspec": {
   "display_name": "dp",
   "language": "python",
   "name": "python3"
  },
  "language_info": {
   "codemirror_mode": {
    "name": "ipython",
    "version": 3
   },
   "file_extension": ".py",
   "mimetype": "text/x-python",
   "name": "python",
   "nbconvert_exporter": "python",
   "pygments_lexer": "ipython3",
   "version": "3.11.7"
  }
 },
 "nbformat": 4,
 "nbformat_minor": 2
}
