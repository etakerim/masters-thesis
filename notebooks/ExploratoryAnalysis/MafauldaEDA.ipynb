{
 "cells": [
  {
   "cell_type": "code",
   "execution_count": null,
   "metadata": {},
   "outputs": [],
   "source": [
    "from zipfile import ZipFile\n",
    "import numpy as np\n",
    "import pandas as pd\n",
    "import matplotlib.pyplot as plt\n",
    "from IPython.display import Markdown\n",
    "from typing import List\n",
    "from collections import Counter\n",
    "\n",
    "import os\n",
    "import sys\n",
    "sys.path.append('../')\n",
    "from vibrodiagnostics import mafaulda, selection\n",
    "\n",
    "MAFAULDA_PATH = '../../datasets/MAFAULDA.zip'\n",
    "FEATURES_PATH =  '../../datasets/features_data/'\n",
    "MAFAULDA_METADATA = os.path.join(FEATURES_PATH, selection.MAFAULDA_METADATA)\n",
    "\n",
    "SHAFT_FAULTS = {'normal': 'N', 'imbalance': 'I', 'horizontal-misalignment': 'HM', 'vertical-misalignment': 'VM'}\n",
    "BEARING_FAULTS = {'overhang-cage_fault': 'O-Cage', 'underhang-cage_fault': 'U-Cage',\n",
    "                  'underhang-ball_fault': 'U-Ball', 'overhang-ball_fault': 'O-Ball',\n",
    "                  'underhang-outer_race': 'U-Race', 'overhang-ball_fault': 'O-Race'}\n",
    "PLACES = [['ax', 'ay', 'az'], ['bx', 'by', 'bz']]\n",
    "\n",
    "\n",
    "#FAULT_CLASSES = SHAFT_FAULTS  \n",
    "FAULT_CLASSES = BEARING_FAULTS\n",
    "\n",
    "NFFT = 2**14\n",
    "Fs = mafaulda.FS_HZ\n",
    "\n",
    "files = pd.read_csv(MAFAULDA_METADATA, index_col='filename')\n",
    "files.reset_index(inplace=True)"
   ]
  },
  {
   "cell_type": "markdown",
   "metadata": {},
   "source": [
    "#### Low severity, 2900 RPM"
   ]
  },
  {
   "cell_type": "code",
   "execution_count": null,
   "metadata": {},
   "outputs": [],
   "source": [
    "files = files[files['fault'].isin(tuple(FAULT_CLASSES))]\n",
    "waveform = files[files['rpm'] >= 2900].groupby(by='fault').first()\n",
    "waveform"
   ]
  },
  {
   "cell_type": "code",
   "execution_count": null,
   "metadata": {},
   "outputs": [],
   "source": [
    "def time_waveform(files: List[str], time=None, fs=None):\n",
    "    for filename in files:\n",
    "        ts = mafaulda.csv_import(ZipFile(MAFAULDA_PATH), filename)\n",
    "        display(Markdown(f'**{filename}**'))\n",
    "        \n",
    "        for axis in PLACES:\n",
    "            if time is not None:\n",
    "                start = int(time * fs)\n",
    "                duration = fs // 10\n",
    "                dst = ts[axis].iloc[start:start + duration]\n",
    "            else:\n",
    "                dst = ts[axis]\n",
    "\n",
    "            ax = dst.plot(figsize=(20, 8), grid=True, subplots=True)\n",
    "\n",
    "            for i, axname in enumerate(axis):\n",
    "                ax[i].set_xlabel('Time [s]')\n",
    "                ax[i].set_ylabel(f'Amplitude ({axname}) [m/s^2]')\n",
    "            plt.show() \n",
    "\n",
    "\n",
    "def time_waveform_histogram(files: List[str]):\n",
    "    for filename in files:\n",
    "        ts = mafaulda.csv_import(ZipFile(MAFAULDA_PATH), filename)\n",
    "        display(Markdown(f'**{filename}**'))\n",
    "        \n",
    "        axis = PLACES[0] + PLACES[1]\n",
    "        ts[axis].plot.hist(\n",
    "            figsize=(15, 4), layout=(2, len(axis) // 2), \n",
    "            grid=True, subplots=True, \n",
    "            bins=100, xlabel='Amplitude'\n",
    "        ) #, legend=False)\n",
    "        plt.tight_layout()\n",
    "        plt.show()\n",
    "\n",
    "\n",
    "def plot_class_imbalance(labels):\n",
    "    counter = Counter(labels)\n",
    "    for k, v in counter.items():\n",
    "        per = v / len(labels) * 100\n",
    "        print(f'Class={k}, n={v} ({per:.3f}%%)')\n",
    "    \n",
    "    plt.bar(counter.keys(), counter.values())\n",
    "    plt.grid(True)\n",
    "    plt.xticks(rotation=45)\n",
    "    plt.show()\n",
    "\n",
    "\n",
    "def spectogram(x):\n",
    "    fig, ax = plt.subplots(figsize=(15, 4))\n",
    "    cmap = plt.get_cmap('inferno')\n",
    "    pxx, freqs, t, im = plt.specgram(\n",
    "        x, NFFT=NFFT, Fs=Fs,\n",
    "        detrend='mean',\n",
    "        mode='magnitude', scale='dB',\n",
    "        cmap=cmap, vmin=-60\n",
    "    )\n",
    "    fig.colorbar(im, aspect=20, pad=0.04)\n",
    "    ax.set_xlabel('Time [s]')\n",
    "    ax.set_ylabel('Frequency [Hz]')\n",
    "    mafaulda.resolution_calc(Fs, NFFT)\n",
    "    return freqs, pxx\n",
    "\n",
    "\n",
    "def window_idx(t):\n",
    "    return (Fs * t) // NFFT + 1\n",
    "\n",
    "\n",
    "def spectrum_slice(freqs, pxx, t):\n",
    "    fig, ax = plt.subplots(2, 1, figsize=(20, 8))\n",
    "    n = window_idx(t)\n",
    "\n",
    "    dB = 20 * np.log10(pxx.T[n] / 0.000001)\n",
    "    ax[0].plot(freqs, dB)      # 1 dB = 1 um/s^2\n",
    "    ax[0].grid(True)\n",
    "    ax[0].set_xlabel('Frequency [Hz]')\n",
    "    ax[0].set_ylabel('Amplitude [dB]')\n",
    "    \n",
    "    ax[1].plot(freqs, pxx.T[n])\n",
    "    ax[1].grid(True)\n",
    "    ax[1].set_xlabel('Frequency [Hz]')\n",
    "    ax[1].set_ylabel('Amplitude [m/s^2]')\n",
    "    return n\n",
    "\n",
    "\n",
    "def get_spectrograms(files: List[str], axis: str) -> list:\n",
    "    spectrograms = []\n",
    "\n",
    "    for filename in files:\n",
    "        ts = mafaulda.csv_import(ZipFile(MAFAULDA_PATH), filename)\n",
    "        display(Markdown(f'**{filename}** ({axis.upper()})'))\n",
    "        freqs, pxx = spectogram(ts[axis])\n",
    "        spectrograms.append((filename, freqs, pxx))\n",
    "        plt.show()\n",
    "\n",
    "    return spectrograms  \n",
    "\n",
    "\n",
    "def show_spectrogram_detail(spectrograms: list, axis: str, t: float):\n",
    "    for name, freqs, Pxx in spectrograms:\n",
    "        display(Markdown(f'**{name}** ({axis.upper()}) axis @ {t}s)'))\n",
    "        i_window = spectrum_slice(freqs, Pxx, t)\n",
    "        plt.show() "
   ]
  },
  {
   "cell_type": "code",
   "execution_count": null,
   "metadata": {},
   "outputs": [],
   "source": [
    "plot_class_imbalance(files['fault'])"
   ]
  },
  {
   "cell_type": "code",
   "execution_count": null,
   "metadata": {},
   "outputs": [],
   "source": [
    "time_waveform(waveform['filename'])"
   ]
  },
  {
   "cell_type": "code",
   "execution_count": null,
   "metadata": {},
   "outputs": [],
   "source": [
    "time_waveform(waveform['filename'], time=2, fs=mafaulda.FS_HZ)"
   ]
  },
  {
   "cell_type": "code",
   "execution_count": null,
   "metadata": {},
   "outputs": [],
   "source": [
    "time_waveform_histogram(waveform['filename'])"
   ]
  },
  {
   "cell_type": "markdown",
   "metadata": {},
   "source": [
    "A measurement point"
   ]
  },
  {
   "cell_type": "code",
   "execution_count": null,
   "metadata": {},
   "outputs": [],
   "source": [
    "ax_spectra = get_spectrograms(waveform['filename'], 'ax')"
   ]
  },
  {
   "cell_type": "code",
   "execution_count": null,
   "metadata": {},
   "outputs": [],
   "source": [
    "show_spectrogram_detail(ax_spectra, 'ax', t=2)"
   ]
  },
  {
   "cell_type": "code",
   "execution_count": null,
   "metadata": {},
   "outputs": [],
   "source": [
    "ay_spectra = get_spectrograms(waveform['filename'], 'ay')"
   ]
  },
  {
   "cell_type": "code",
   "execution_count": null,
   "metadata": {},
   "outputs": [],
   "source": [
    "show_spectrogram_detail(ay_spectra, 'ay', t=2)"
   ]
  },
  {
   "cell_type": "code",
   "execution_count": null,
   "metadata": {},
   "outputs": [],
   "source": [
    "az_spectra = get_spectrograms(waveform['filename'], 'az')"
   ]
  },
  {
   "cell_type": "code",
   "execution_count": null,
   "metadata": {},
   "outputs": [],
   "source": [
    "show_spectrogram_detail(az_spectra, 'az', t=2)"
   ]
  },
  {
   "cell_type": "markdown",
   "metadata": {},
   "source": [
    "B measurement point"
   ]
  },
  {
   "cell_type": "code",
   "execution_count": null,
   "metadata": {},
   "outputs": [],
   "source": [
    "bx_spectra = get_spectrograms(waveform['filename'], 'bx')"
   ]
  },
  {
   "cell_type": "code",
   "execution_count": null,
   "metadata": {},
   "outputs": [],
   "source": [
    "show_spectrogram_detail(bx_spectra, 'bx', t=2)"
   ]
  },
  {
   "cell_type": "code",
   "execution_count": null,
   "metadata": {},
   "outputs": [],
   "source": [
    "by_spectra = get_spectrograms(waveform['filename'], 'by')"
   ]
  },
  {
   "cell_type": "code",
   "execution_count": null,
   "metadata": {},
   "outputs": [],
   "source": [
    "show_spectrogram_detail(by_spectra, 'by', t=2)"
   ]
  },
  {
   "cell_type": "code",
   "execution_count": null,
   "metadata": {},
   "outputs": [],
   "source": [
    "bz_spectra = get_spectrograms(waveform['filename'], 'bz')"
   ]
  },
  {
   "cell_type": "code",
   "execution_count": null,
   "metadata": {},
   "outputs": [],
   "source": [
    "show_spectrogram_detail(bz_spectra, 'bz', t=2)"
   ]
  },
  {
   "cell_type": "markdown",
   "metadata": {},
   "source": [
    "Features"
   ]
  },
  {
   "cell_type": "code",
   "execution_count": null,
   "metadata": {},
   "outputs": [],
   "source": [
    "# box plots\n"
   ]
  }
 ],
 "metadata": {
  "kernelspec": {
   "display_name": "dp",
   "language": "python",
   "name": "python3"
  },
  "language_info": {
   "codemirror_mode": {
    "name": "ipython",
    "version": 3
   },
   "file_extension": ".py",
   "mimetype": "text/x-python",
   "name": "python",
   "nbconvert_exporter": "python",
   "pygments_lexer": "ipython3",
   "version": "3.11.6"
  }
 },
 "nbformat": 4,
 "nbformat_minor": 2
}
