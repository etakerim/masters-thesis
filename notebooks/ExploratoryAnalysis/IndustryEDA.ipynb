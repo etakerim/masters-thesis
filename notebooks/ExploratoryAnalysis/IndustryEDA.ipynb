{
 "cells": [
  {
   "cell_type": "code",
   "execution_count": null,
   "metadata": {},
   "outputs": [],
   "source": [
    "import pandas as pd\n",
    "import os\n",
    "from typing import List, Tuple\n",
    "from IPython.display import Markdown\n",
    "import matplotlib.pylab as plt\n",
    "import numpy as np\n",
    "from scipy.signal import windows\n",
    "from datetime import datetime, date\n",
    "import sys\n",
    "sys.path.append('../')\n",
    "from vibrodiagnostics import (\n",
    "    datasets,\n",
    "    discovery\n",
    ")"
   ]
  },
  {
   "cell_type": "code",
   "execution_count": null,
   "metadata": {},
   "outputs": [],
   "source": [
    "Fs = 26866  # 26667\n",
    "path = '../../datasets/Pumps-and-Compressors/'\n",
    "list_of_files = datasets.steval_files(path)\n",
    "DATASET = datasets.steval_dataset(list_of_files, Fs)\n",
    "len(DATASET)"
   ]
  },
  {
   "cell_type": "markdown",
   "metadata": {},
   "source": [
    "#### Side by side welch spectra from same places on different days"
   ]
  },
  {
   "cell_type": "code",
   "execution_count": null,
   "metadata": {},
   "outputs": [],
   "source": [
    "waveforms = []\n",
    "all_metadata = []\n",
    "for name, ts in DATASET:\n",
    "    header = name.split(os.path.sep)\n",
    "    metadata = {\n",
    "        'place': header[-5],\n",
    "        'date': datetime.fromisoformat(header[-4]).date(),\n",
    "        'device': header[-3],\n",
    "        'position': header[-2],\n",
    "        'seq': int(header[-1].split('.')[0]),\n",
    "        'ts': ts\n",
    "    }\n",
    "    metacopy = metadata.copy()\n",
    "    metacopy.pop('ts')\n",
    "\n",
    "    all_metadata.append(metacopy)\n",
    "    waveforms.append(metadata)\n",
    "\n",
    "all_metadata = pd.DataFrame.from_records(all_metadata)"
   ]
  },
  {
   "cell_type": "code",
   "execution_count": null,
   "metadata": {},
   "outputs": [],
   "source": [
    "def side_by_side(\n",
    "        waveforms: list,\n",
    "        location: str,\n",
    "        plot_type: str = 'psd', # psd, psd_db, hist\n",
    "        axis: str = 'x',\n",
    "        filt_pos: str | None = None,\n",
    "        figsize: tuple | None = None,\n",
    "        ylim: tuple | None = None):\n",
    "    machines = filter(lambda m: m['place'] == location, waveforms)\n",
    "\n",
    "    if filt_pos is not None:\n",
    "        machines = filter(lambda m: filt_pos in m['position'], machines)\n",
    "        if 'noise' not in filt_pos:\n",
    "            machines = filter(lambda m: '-noise' not in m['position'], machines)\n",
    "\n",
    "    machines = list(machines)\n",
    "    columns = set([(c['device'], c['position']) for c in machines])\n",
    "    rows = len(machines) // len(columns)\n",
    "\n",
    "    if figsize is None:\n",
    "        figsize = (15, 20)\n",
    "    fig, ax = plt.subplots(rows, len(columns), figsize=figsize, sharey=True)\n",
    "    if rows == 1:\n",
    "        ax = [ax]\n",
    "\n",
    "    for j, col in enumerate(sorted(list(columns))):\n",
    "        device, position = col\n",
    "        placements = list(filter(lambda m: m['device'] == device and m['position'] == position, machines))\n",
    "\n",
    "        ax[-1][j].set_xlabel('Frequency [kHz]')\n",
    "        \n",
    "        for i, row in enumerate(sorted(placements, key=lambda m: (m['date'], m['seq']))):\n",
    "            date, seq = row['date'], row['seq']\n",
    "            # y = ts['x'].iloc[int(T_WAVEFORM*Fs):int(T_WAVEFORM*Fs+Fs*TIME)]\n",
    "            # subplot.plot(y.index, y)\n",
    "            ts = row['ts']\n",
    "            subplot = ax[i][j]\n",
    "            if plot_type == 'psd':\n",
    "                freqs, pxx = discovery.spectral_transform(ts, axis, 2**14, Fs)\n",
    "                subplot.plot(freqs / 1000, pxx, color='darkblue', linewidth=0.5)\n",
    "    \n",
    "            elif plot_type == 'psd_db':\n",
    "                freqs, pxx = discovery.spectral_transform(ts, axis, 2**14, Fs)\n",
    "                pxx = dB = 20 * np.log10(pxx / 0.000001) # 1 dB = 1 um/s^2   \n",
    "                subplot.plot(freqs / 1000, pxx, color='darkblue', linewidth=0.5)\n",
    "\n",
    "            elif plot_type == 'hist':\n",
    "                subplot.hist(ts[axis], color='darkblue', bins=100, edgecolor='black', linewidth=0.5)\n",
    "            \n",
    "            if ylim is not None:\n",
    "                subplot.set_ylim(0, ylim)\n",
    "\n",
    "            subplot.grid(True)\n",
    "            subplot.set_title(f'{device}, {position} | {date}, {seq}.')\n",
    "\n",
    "            if plot_type == 'psd':\n",
    "                subplot.set_xlim(0, 5)\n",
    "                ax[i][0].set_ylabel('Amplitude [m/s\\u00B2]')\n",
    "    \n",
    "            elif plot_type == 'psd_db':\n",
    "                subplot.set_xlim(0, 5)\n",
    "                ax[i][0].set_ylabel('Amplitude [dB]')\n",
    "            \n",
    "\n",
    "    plt.tight_layout()\n",
    "    plt.show()\n",
    "\n",
    "# rows: (date - seq) / columns: (device - position)"
   ]
  },
  {
   "cell_type": "markdown",
   "metadata": {},
   "source": [
    "#### Plot one spectrum in all axis"
   ]
  },
  {
   "cell_type": "code",
   "execution_count": null,
   "metadata": {},
   "outputs": [],
   "source": [
    "all_metadata.sort_values(by=['place', 'device', 'position', 'date', 'seq']).reset_index(drop=True)"
   ]
  },
  {
   "cell_type": "code",
   "execution_count": null,
   "metadata": {},
   "outputs": [],
   "source": [
    "query = {\n",
    "    'place': 'SHC3',\n",
    "    'date': date(2024, 2, 20),\n",
    "    'device': 'K3',\n",
    "    'position': '001',\n",
    "    'seq': 1\n",
    "}\n",
    "F_LIMIT_KHZ = 2\n",
    "\n",
    "signal = filter(\n",
    "    lambda s: (\n",
    "        s['place'] == query['place'] and\n",
    "        s['date'] == query['date'] and\n",
    "        s['device'] == query['device'] and\n",
    "        s['position'] == query['position'] and\n",
    "        s['seq'] == query['seq']\n",
    "    ),\n",
    "    waveforms\n",
    ")\n",
    "ts = list(signal)[0]['ts']\n",
    "\n",
    "fig, ax = plt.subplots(3, 1, figsize=(20, 10))\n",
    "\n",
    "for i, axis in enumerate(('x', 'y', 'z')):\n",
    "    freqs, pxx = discovery.spectral_transform(ts, axis, 2**14, Fs)\n",
    "    freqs /= 1000\n",
    "    ax[i].plot(freqs, pxx, color='darkblue')\n",
    "    ax[i].fill_between(freqs, pxx, color='lightblue', alpha=0.3)\n",
    "    ax[i].grid(True)\n",
    "    ax[i].set_xlim(0, F_LIMIT_KHZ)\n",
    "    ax[i].set_xlabel('Frequency [kHz]')\n",
    "    ax[i].set_ylabel('Amplitude [m/s\\u00B2]')"
   ]
  },
  {
   "cell_type": "markdown",
   "metadata": {},
   "source": [
    "### Choose measurement direction"
   ]
  },
  {
   "cell_type": "code",
   "execution_count": null,
   "metadata": {},
   "outputs": [],
   "source": [
    "AXIS = 'x'          # x, y, z"
   ]
  },
  {
   "cell_type": "markdown",
   "metadata": {},
   "source": [
    "### Noise"
   ]
  },
  {
   "cell_type": "code",
   "execution_count": null,
   "metadata": {},
   "outputs": [],
   "source": [
    "side_by_side(waveforms, 'BVS', 'psd', AXIS, filt_pos='noise', figsize=(15, 4), ylim=0.5)"
   ]
  },
  {
   "cell_type": "code",
   "execution_count": null,
   "metadata": {},
   "outputs": [],
   "source": [
    "side_by_side(waveforms, 'BVS', 'psd_db', AXIS, filt_pos='noise', figsize=(15, 4))"
   ]
  },
  {
   "cell_type": "code",
   "execution_count": null,
   "metadata": {},
   "outputs": [],
   "source": [
    "side_by_side(waveforms, 'BVS', 'hist', AXIS, filt_pos='noise', figsize=(15, 4))"
   ]
  },
  {
   "cell_type": "markdown",
   "metadata": {},
   "source": [
    "### Frequency spectra"
   ]
  },
  {
   "cell_type": "code",
   "execution_count": null,
   "metadata": {},
   "outputs": [],
   "source": [
    "side_by_side(waveforms, 'SHC3', 'psd', AXIS, figsize=(15, 20), ylim=1)"
   ]
  },
  {
   "cell_type": "code",
   "execution_count": null,
   "metadata": {},
   "outputs": [],
   "source": [
    "side_by_side(waveforms, 'BVS', 'psd', AXIS, filt_pos='MTR', figsize=(15, 10), ylim=0.3)"
   ]
  },
  {
   "cell_type": "code",
   "execution_count": null,
   "metadata": {},
   "outputs": [],
   "source": [
    "side_by_side(waveforms, 'BVS', 'psd', AXIS, filt_pos='PMP', figsize=(15, 10), ylim=0.3)"
   ]
  },
  {
   "cell_type": "markdown",
   "metadata": {},
   "source": [
    "### Decibel frequency spectra"
   ]
  },
  {
   "cell_type": "code",
   "execution_count": null,
   "metadata": {},
   "outputs": [],
   "source": [
    "side_by_side(waveforms, 'SHC3', 'psd_db', AXIS, figsize=(15, 20))"
   ]
  },
  {
   "cell_type": "code",
   "execution_count": null,
   "metadata": {},
   "outputs": [],
   "source": [
    "side_by_side(waveforms, 'BVS', 'psd_db', AXIS, filt_pos='MTR', figsize=(15, 10))"
   ]
  },
  {
   "cell_type": "code",
   "execution_count": null,
   "metadata": {},
   "outputs": [],
   "source": [
    "side_by_side(waveforms, 'BVS', 'psd_db', AXIS, filt_pos='PMP', figsize=(15, 10))"
   ]
  },
  {
   "cell_type": "markdown",
   "metadata": {},
   "source": [
    "### Histograms of time domain"
   ]
  },
  {
   "cell_type": "code",
   "execution_count": null,
   "metadata": {},
   "outputs": [],
   "source": [
    "side_by_side(waveforms, 'SHC3', 'hist', AXIS, figsize=(15, 20))"
   ]
  },
  {
   "cell_type": "code",
   "execution_count": null,
   "metadata": {},
   "outputs": [],
   "source": [
    "side_by_side(waveforms, 'BVS', 'hist', AXIS, filt_pos='MTR', figsize=(15, 10))"
   ]
  },
  {
   "cell_type": "code",
   "execution_count": null,
   "metadata": {},
   "outputs": [],
   "source": [
    "side_by_side(waveforms, 'BVS', 'hist', AXIS, filt_pos='PMP', figsize=(15, 10))"
   ]
  },
  {
   "cell_type": "markdown",
   "metadata": {},
   "source": [
    "### Plot each waveform"
   ]
  },
  {
   "cell_type": "markdown",
   "metadata": {},
   "source": [
    "#### Histograms"
   ]
  },
  {
   "cell_type": "code",
   "execution_count": null,
   "metadata": {},
   "outputs": [],
   "source": [
    "for name, ts in DATASET:\n",
    "    display(Markdown(f'**{name}**'))\n",
    "    axis = ts.columns\n",
    "    ax = ts[axis].hist(figsize=(15, 3), grid=True, bins=100, layout=(1, 3), edgecolor='black', linewidth=0.5)\n",
    "    plt.show()"
   ]
  },
  {
   "cell_type": "markdown",
   "metadata": {},
   "source": [
    "#### Waveform in full length (60 s)"
   ]
  },
  {
   "cell_type": "code",
   "execution_count": null,
   "metadata": {},
   "outputs": [],
   "source": [
    "for name, ts in DATASET:\n",
    "    display(Markdown(f'**{name}**'))\n",
    "    axis = ts.columns\n",
    "    \n",
    "    ax = ts[axis].plot(figsize=(20, 8), grid=True, subplots=True)\n",
    "    for i, axname in enumerate(axis):\n",
    "        ax[i].set_xlabel('Time [s]')\n",
    "        ax[i].set_ylabel(f'Amplitude ({axname}) [m/s^2]')\n",
    "    plt.show() "
   ]
  },
  {
   "cell_type": "markdown",
   "metadata": {},
   "source": [
    "#### Waveform in detail: T_WAVEFORM s and interval of TIME s"
   ]
  },
  {
   "cell_type": "code",
   "execution_count": null,
   "metadata": {},
   "outputs": [],
   "source": [
    "T_WAVEFORM = 10\n",
    "TIME = 0.1\n",
    "\n",
    "for name, ts in DATASET:\n",
    "    axis = ts.columns\n",
    "    display(Markdown(f'**{name}**'))\n",
    "    ax = (ts[axis].iloc[int(T_WAVEFORM*Fs):int(T_WAVEFORM*Fs+Fs*TIME)]\n",
    "                  .plot(figsize=(20, 10), grid=True, subplots=True))\n",
    "    \n",
    "    for i, axname in enumerate(axis):\n",
    "        ax[i].set_xlabel('Time [s]')\n",
    "        ax[i].set_ylabel(f'Amplitude ({axname}) [m/s^2]')\n",
    "    plt.show() "
   ]
  },
  {
   "cell_type": "markdown",
   "metadata": {},
   "source": [
    "#### Frequency spectrum of one window"
   ]
  },
  {
   "cell_type": "code",
   "execution_count": null,
   "metadata": {},
   "outputs": [],
   "source": [
    "NFFT = 2**14\n",
    "T_SEC = 10\n",
    "def compare_limited_specrograms(spectrograms: list, axis: str, t: float, dB=False):\n",
    "    fig, ax = plt.subplots(len(spectrograms), 1, figsize=(20, 80))\n",
    "    i = 0\n",
    "    for name, ts in spectrograms:\n",
    "        signal = ts[axis].loc[t:t+NFFT/Fs].to_numpy()\n",
    "        n = len(signal)\n",
    "        pxx = np.abs(np.fft.rfft(signal * windows.hann(n)) / n)\n",
    "        if dB is True:\n",
    "            pxx = 20 * np.log10(pxx / 0.000001)  # 1 dB = 1 um/s^2    \n",
    "        freqs = np.fft.fftfreq(n, d=1/Fs)[:len(pxx)]\n",
    "\n",
    "        ax[i].plot(freqs, pxx, color='darkblue')\n",
    "        ax[i].fill_between(freqs, pxx, color='lightblue', alpha=0.3)\n",
    "        ax[i].grid(True)\n",
    "        ax[i].set_xlabel('Frequency [Hz]')\n",
    "        ax[i].set_ylabel('Amplitude [m/s\\u00B2]')\n",
    "        #ax[i].set_xlim(0, F_LIMIT)\n",
    "        ax[i].set_title(name)\n",
    "        i += 1\n",
    "\n",
    "compare_limited_specrograms(DATASET, 'x', T_SEC)\n",
    "plt.tight_layout()\n",
    "plt.show()"
   ]
  },
  {
   "cell_type": "code",
   "execution_count": null,
   "metadata": {},
   "outputs": [],
   "source": [
    "compare_limited_specrograms(DATASET, 'y', T_SEC)\n",
    "plt.tight_layout()\n",
    "plt.show()"
   ]
  },
  {
   "cell_type": "code",
   "execution_count": null,
   "metadata": {},
   "outputs": [],
   "source": [
    "compare_limited_specrograms(DATASET, 'z', T_SEC)\n",
    "plt.tight_layout()\n",
    "plt.show()"
   ]
  },
  {
   "cell_type": "code",
   "execution_count": null,
   "metadata": {},
   "outputs": [],
   "source": [
    "def spectogram(x):\n",
    "    fig, ax = plt.subplots(figsize=(15, 4))\n",
    "    cmap = plt.get_cmap('inferno')\n",
    "    pxx, freqs, t, im = plt.specgram(\n",
    "        x, NFFT=NFFT, Fs=Fs,\n",
    "        detrend='mean',\n",
    "        mode='magnitude', scale='dB',\n",
    "        cmap=cmap, vmin=-60\n",
    "    )\n",
    "    fig.colorbar(im, aspect=20, pad=0.04)\n",
    "    ax.set_xlabel('Time [s]')\n",
    "    ax.set_ylabel('Frequency [Hz]')\n",
    "    return freqs, pxx\n",
    "\n",
    "def get_spectrograms(DATASET: List[pd.DataFrame], axis: str) -> list:\n",
    "    spectrograms = []\n",
    "\n",
    "    for name, ts in DATASET:\n",
    "        display(Markdown(f'**{name}**'))\n",
    "        freqs, Pxx = spectogram(ts[axis])\n",
    "        spectrograms.append((name, freqs, Pxx))\n",
    "        plt.show()\n",
    "    \n",
    "    return spectrograms"
   ]
  },
  {
   "cell_type": "code",
   "execution_count": null,
   "metadata": {},
   "outputs": [],
   "source": [
    "x_spectra = get_spectrograms(DATASET, 'x')"
   ]
  },
  {
   "cell_type": "markdown",
   "metadata": {},
   "source": [
    "#### Calculate welch spectrogram (window average over whole signal)"
   ]
  },
  {
   "cell_type": "code",
   "execution_count": null,
   "metadata": {},
   "outputs": [],
   "source": [
    "\n",
    "def welch_spectra(spectrograms: list, axis: str):\n",
    "    fig, ax = plt.subplots(len(spectrograms), 1, figsize=(20, 80))\n",
    "    i = 0\n",
    "    amplitudes = []\n",
    "    for name, ts in spectrograms:\n",
    "        freqs, pxx = discovery.spectral_transform(ts, axis, 2**14, Fs)\n",
    "        amplitudes.append(pxx)\n",
    "        ax[i].plot(freqs, pxx, color='darkblue')\n",
    "        ax[i].fill_between(freqs, pxx, color='lightblue', alpha=0.3)\n",
    "        ax[i].grid(True)\n",
    "        ax[i].set_xlabel('Frequency [Hz]')\n",
    "        ax[i].set_ylabel('Amplitude [m/s\\u00B2]')\n",
    "        ax[i].set_title(name)\n",
    "        i += 1\n",
    "    return amplitudes"
   ]
  },
  {
   "cell_type": "code",
   "execution_count": null,
   "metadata": {},
   "outputs": [],
   "source": [
    "amp_X = welch_spectra(DATASET, 'x')\n",
    "plt.tight_layout()\n",
    "plt.show()"
   ]
  },
  {
   "cell_type": "code",
   "execution_count": null,
   "metadata": {},
   "outputs": [],
   "source": [
    "amp = welch_spectra(DATASET, 'y')\n",
    "plt.tight_layout()\n",
    "plt.show()"
   ]
  },
  {
   "cell_type": "code",
   "execution_count": null,
   "metadata": {},
   "outputs": [],
   "source": [
    "amp = welch_spectra(DATASET, 'z')\n",
    "plt.tight_layout()\n",
    "plt.show()"
   ]
  }
 ],
 "metadata": {
  "kernelspec": {
   "display_name": "dp",
   "language": "python",
   "name": "python3"
  },
  "language_info": {
   "codemirror_mode": {
    "name": "ipython",
    "version": 3
   },
   "file_extension": ".py",
   "mimetype": "text/x-python",
   "name": "python",
   "nbconvert_exporter": "python",
   "pygments_lexer": "ipython3",
   "version": "3.11.7"
  }
 },
 "nbformat": 4,
 "nbformat_minor": 2
}
