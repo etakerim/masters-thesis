{
 "cells": [
  {
   "cell_type": "markdown",
   "id": "1e4b19d6-c52a-4409-9070-0f3e80a507f0",
   "metadata": {},
   "source": [
    "### MaFaulDa\n",
    "- Description: https://www02.smt.ufrj.br/~offshore/mfs/page_01.html"
   ]
  },
  {
   "cell_type": "code",
   "execution_count": null,
   "id": "5b3b5667",
   "metadata": {
    "scrolled": true
   },
   "outputs": [],
   "source": [
    "from zipfile import ZipFile\n",
    "from pprint import pprint\n",
    "\n",
    "import pandas as pd\n",
    "import numpy as np\n",
    "import matplotlib.pyplot as plt\n",
    "import seaborn as sb\n",
    "\n",
    "from scipy.signal import find_peaks, welch\n",
    "from scipy.stats import skew, kurtosis, kstest\n",
    "import statsmodels.api as sm\n",
    "\n",
    "import sys\n",
    "sys.path.append('../')\n",
    "from vibrodiagnostics import mafaulda\n",
    "\n",
    "MAFAULDA_PATH = '../../datasets/MAFAULDA.zip'"
   ]
  },
  {
   "cell_type": "markdown",
   "id": "c165227a-c064-4773-b911-e672ce601cc2",
   "metadata": {},
   "source": [
    "View some file names in machinery database and display their count."
   ]
  },
  {
   "cell_type": "code",
   "execution_count": null,
   "id": "97f86c61",
   "metadata": {},
   "outputs": [],
   "source": [
    "files = mafaulda.get_mafaulda_files(ZipFile(MAFAULDA_PATH))\n",
    "print(f'Measurements: {len(files)}')\n",
    "pprint(files[:10])"
   ]
  },
  {
   "cell_type": "markdown",
   "id": "ce527ced-f38d-4451-acef-d9b9cec8d4ea",
   "metadata": {},
   "source": [
    "Show details of one measurments"
   ]
  },
  {
   "cell_type": "code",
   "execution_count": null,
   "id": "297b2341-99a8-4d78-b471-8895670850d1",
   "metadata": {},
   "outputs": [],
   "source": [
    "misalign = mafaulda.csv_import(ZipFile(MAFAULDA_PATH), 'horizontal-misalignment/1.5mm/16.7936.csv')\n",
    "misalign.describe()\n",
    "misalign"
   ]
  },
  {
   "cell_type": "markdown",
   "id": "ba27b13b-6eb7-4029-9809-183ab666e972",
   "metadata": {},
   "source": [
    "Plot tachometer pulses and calculate revolutions per minute (rpm)"
   ]
  },
  {
   "cell_type": "code",
   "execution_count": null,
   "id": "148914d9",
   "metadata": {},
   "outputs": [],
   "source": [
    "fig, ax = plt.subplots(nrows=1, ncols=2, figsize=(10, 3))\n",
    "misalign['tachometer'][:0.5].plot(ax=ax[0], title='Tachometer', xlabel='Time [s]', ylabel='Impulse')\n",
    "misalign['rpm'].plot(ax=ax[1], title='RPM', xlabel='Time [s]', ylabel='RPM')\n",
    "plt.show()"
   ]
  },
  {
   "cell_type": "markdown",
   "id": "1b7d7255-f66b-48bf-a943-b63fca17d1a4",
   "metadata": {},
   "source": [
    "Plot histograms for each column to get sense of the distributions"
   ]
  },
  {
   "cell_type": "code",
   "execution_count": null,
   "id": "fbba4d75",
   "metadata": {},
   "outputs": [],
   "source": [
    "misalign.hist(figsize=(15, 10), bins=50)\n",
    "plt.show()"
   ]
  },
  {
   "cell_type": "markdown",
   "id": "cfbf05ce-cd3e-4394-9bda-297c83cce580",
   "metadata": {},
   "source": [
    "Plot short segment of time domain signal"
   ]
  },
  {
   "cell_type": "code",
   "execution_count": null,
   "id": "4bfe2cf4",
   "metadata": {},
   "outputs": [],
   "source": [
    "x = 1024\n",
    "l = 4096\n",
    "g = misalign[['ax', 'ay', 'az']].iloc[x:x+l].plot(subplots=True, figsize=(15, 5), grid=True)\n",
    "plt.show()"
   ]
  },
  {
   "cell_type": "markdown",
   "id": "8908b328-4160-4937-927a-2cd13af719b3",
   "metadata": {},
   "source": [
    "Plot subsampled time domain signal with subsampling factor"
   ]
  },
  {
   "cell_type": "code",
   "execution_count": null,
   "id": "d25cc388-5be3-44ec-88c8-2dc71a73b6f3",
   "metadata": {},
   "outputs": [],
   "source": [
    "factor = 100\n",
    "misalign[['ax', 'ay', 'az']].iloc[::factor, :].plot(subplots=True, figsize=(15, 5), grid=True)\n",
    "plt.show()"
   ]
  },
  {
   "cell_type": "markdown",
   "id": "3b1de897-afc9-40ce-863b-615268c69a96",
   "metadata": {},
   "source": [
    "Plot magnitutes of each acceleration vector"
   ]
  },
  {
   "cell_type": "code",
   "execution_count": null,
   "id": "ffcfec7d",
   "metadata": {},
   "outputs": [],
   "source": [
    "misalign[['mag_a', 'mag_b']].plot(subplots=True, figsize=(10, 5), grid=True)\n",
    "plt.show()"
   ]
  },
  {
   "cell_type": "code",
   "execution_count": null,
   "id": "6f0a4945",
   "metadata": {},
   "outputs": [],
   "source": [
    "def normality_tests(ts, columns=None):\n",
    "    columns = columns or ['ax', 'ay', 'az', 'bx', 'by', 'bz']\n",
    "    figure, axes = plt.subplots(2, 3, figsize=(10, 5))\n",
    "\n",
    "    for i, col in enumerate(columns):\n",
    "        print('Normality test p-value: ', kstest(ts[col], 'norm').pvalue, '(<0.05 is not normal)')\n",
    "        sm.qqplot(ts[col], line='45', ax = axes[i // 3, i % 3])\n",
    "\n",
    "\n",
    "normality_tests(misalign)\n",
    "plt.tight_layout()\n",
    "plt.show()"
   ]
  },
  {
   "cell_type": "code",
   "execution_count": null,
   "id": "21f5d513",
   "metadata": {},
   "outputs": [],
   "source": [
    "def axis_spectrograms(df):\n",
    "    fig, ax = plt.subplots(3, 1, figsize=(20, 8))\n",
    "\n",
    "    RESOLUTION = 8\n",
    "    WINDOW = mafaulda.FS_HZ // RESOLUTION\n",
    "    mafaulda.resolution_calc(mafaulda.FS_HZ, WINDOW)\n",
    "\n",
    "    for i, col in enumerate(['ax', 'ay', 'az']):\n",
    "        pxx, freq, t, cax = ax[i].specgram(\n",
    "            df[col],\n",
    "            Fs=mafaulda.FS_HZ, \n",
    "            mode='magnitude',\n",
    "            window=np.hamming(WINDOW), \n",
    "            NFFT=WINDOW, \n",
    "            noverlap=WINDOW//2\n",
    "        )\n",
    "    \n",
    "    for i in range(3):\n",
    "        ax[i].set_ylabel('Frequency [Hz]')\n",
    "    ax[2].set_xlabel('Time [s]')\n",
    "    \n",
    "    g = plt.colorbar(cax, ax=ax)\n",
    "\n",
    "\n",
    "axis_spectrograms(misalign)"
   ]
  },
  {
   "cell_type": "markdown",
   "id": "1eed9828",
   "metadata": {},
   "source": [
    "Do not use magnitude - it is not oscilatory. Various axis have different responses, but the signal in each axis is **stationary**"
   ]
  },
  {
   "cell_type": "code",
   "execution_count": null,
   "id": "16caaab7",
   "metadata": {},
   "outputs": [],
   "source": [
    "def rms_orbitals(ts, n=100):\n",
    "    fig, ax = plt.subplots(1, 3, figsize=(20, 5))\n",
    "    \n",
    "    ax_rms = ts['ax'].rolling(n).apply(mafaulda.rms)\n",
    "    ay_rms = ts['ay'].rolling(n).apply(mafaulda.rms)\n",
    "    az_rms = ts['az'].rolling(n).apply(mafaulda.rms)\n",
    "\n",
    "    ax[0].set_xlabel('x')\n",
    "    ax[0].set_ylabel('y')\n",
    "    ax[0].scatter(ax_rms, ay_rms, s=1)\n",
    "    \n",
    "    ax[1].set_xlabel('x')\n",
    "    ax[1].set_ylabel('z')\n",
    "    ax[1].scatter(ax_rms, az_rms, s=1)\n",
    "    \n",
    "    ax[2].set_xlabel('y')\n",
    "    ax[2].set_ylabel('z')\n",
    "    ax[2].scatter(ay_rms, az_rms, s=1)\n",
    "\n",
    "subsample = 50\n",
    "rms_orbitals(misalign.iloc[::subsample, :])"
   ]
  },
  {
   "cell_type": "markdown",
   "id": "05385e2f-e294-4bd1-ae0d-a99fb8883c9a",
   "metadata": {},
   "source": [
    "Load normal conditions"
   ]
  },
  {
   "cell_type": "code",
   "execution_count": null,
   "id": "3ab82d61",
   "metadata": {},
   "outputs": [],
   "source": [
    "zip_file = ZipFile(MAFAULDA_PATH)\n",
    "filenames = mafaulda.get_mafaulda_files(zip_file)\n",
    "normal_files = [\n",
    "    name for name in filenames if name.startswith('normal')\n",
    "]\n",
    "normal_cond = mafaulda.import_files(zip_file, normal_files, mafaulda.csv_import)\n",
    "normal_cond.head()"
   ]
  },
  {
   "cell_type": "markdown",
   "id": "a488042e-58d0-463f-88e1-be34efb3b702",
   "metadata": {},
   "source": [
    "Calculate time domain features on normal conditions in one accelerometer axis"
   ]
  },
  {
   "cell_type": "code",
   "execution_count": null,
   "id": "58db7891",
   "metadata": {},
   "outputs": [],
   "source": [
    "def time_domain_features(ts, col):\n",
    "    return pd.concat([\n",
    "            ts.groupby(by='key')[col].mean().rename('mean'),\n",
    "            ts.groupby(by='key')[col].std().rename('std'),\n",
    "            ts.groupby(by='key')[col].apply(lambda x: skew(x)).rename('skew'),\n",
    "            ts.groupby(by='key')[col].apply(lambda x: kurtosis(x)).rename('kurtosis'),\n",
    "            ts.groupby(by='key')[col].apply(mafaulda.rms).rename('rms')\n",
    "        ],\n",
    "        axis=1\n",
    "    )\n",
    "\n",
    "\n",
    "td_featues = time_domain_features(normal_cond, 'ax')\n",
    "td_featues.head(10)"
   ]
  },
  {
   "cell_type": "code",
   "execution_count": null,
   "id": "02b2c152",
   "metadata": {},
   "outputs": [],
   "source": [
    "sb.pairplot(td_featues)\n",
    "plt.show()"
   ]
  },
  {
   "cell_type": "code",
   "execution_count": null,
   "id": "cd03da58",
   "metadata": {},
   "outputs": [],
   "source": [
    "sb.heatmap(td_featues.corr(), annot=True)\n",
    "plt.show()"
   ]
  },
  {
   "cell_type": "code",
   "execution_count": null,
   "id": "5d9782e7",
   "metadata": {},
   "outputs": [],
   "source": [
    "def csv_import_td_features(zip_file, filename, col='ax'):\n",
    "    frame = mafaulda.csv_import(zip_file, filename)\n",
    "    info = filename.split('/')\n",
    "    frame = frame.assign(load=int(info[1].strip(' g')), no=info[2])\n",
    "\n",
    "    return pd.concat([\n",
    "            frame.groupby(by=['load', 'no'])[col].mean().rename('mean'),\n",
    "            frame.groupby(by=['load', 'no'])[col].std().rename('std'),\n",
    "            frame.groupby(by=['load', 'no'])[col].apply(lambda x: skew(x)).rename('skew'),\n",
    "            frame.groupby(by=['load', 'no'])[col].apply(lambda x: kurtosis(x)).rename('kurtosis'),\n",
    "            frame.groupby(by=['load', 'no'])[col].apply(mafaulda.rms).rename('rms'),\n",
    "            frame.groupby(by=['load', 'no'])[col].apply(lambda x: max(abs(x.max()), abs(x.min()))).rename('amplitude')\n",
    "        ],\n",
    "        axis=1\n",
    "    ).reset_index()\n",
    "\n",
    "\n",
    "imbalance = csv_import_td_features(zip_file, 'imbalance/10g/56.9344.csv')\n",
    "imbalance.reset_index(inplace=True)\n",
    "imbalance"
   ]
  },
  {
   "cell_type": "code",
   "execution_count": null,
   "id": "7da4aaa3",
   "metadata": {},
   "outputs": [],
   "source": [
    "from multiprocessing.pool import ThreadPool\n",
    "\n",
    "def fft_csv_import(zip_file, filename, window=4096, overlap=0.5, fs=50000, is_welch=False):\n",
    "    STEP = window * overlap\n",
    "    col = 'ax'\n",
    "    info = filename.split('/')\n",
    "    load = int(info[1].strip(' g'))\n",
    "\n",
    "    frame = mafaulda.csv_import(zip_file, filename)\n",
    "    v = frame[col].to_numpy()\n",
    "\n",
    "    if is_welch is False:\n",
    "        spectra = [\n",
    "            np.abs(rfft(v[i:i+window] * np.hamming(window)))\n",
    "            for i in range(0, len(v) - window, int(STEP))\n",
    "        ]\n",
    "        freqs = [i * (fs / window) for i in range(window // 2 + 1)]\n",
    "\n",
    "    else:\n",
    "        freqs, spectra = welch(v, fs, 'hann', nperseg=window, scaling='spectrum', average='mean')\n",
    "        spectra = [spectra]\n",
    "\n",
    "\n",
    "    return (\n",
    "        pd.DataFrame(data=spectra, columns=freqs.astype(int))\n",
    "        .assign(load=load, no=info[2])\n",
    "        .set_index(['load', 'no'])\n",
    "    )\n",
    "\n",
    "\n",
    "pool = ThreadPool(processes=4)\n",
    "imbalance_files = [\n",
    "    name for name in filenames if name.startswith('imbalance')\n",
    "]\n",
    "WINDOW = 2**14\n",
    "mafaulda.resolution_calc(mafaulda.FS_HZ, WINDOW)\n",
    "spectra = fft_csv_import(\n",
    "    zip_file, 'imbalance/10g/56.9344.csv', fs=mafaulda.FS_HZ, \n",
    "    window=WINDOW, overlap=0.5, is_welch=True\n",
    ")\n",
    "spectra.head(10)"
   ]
  },
  {
   "cell_type": "code",
   "execution_count": null,
   "id": "4d1c7fc0",
   "metadata": {},
   "outputs": [],
   "source": [
    "spectra.iloc[0].loc[:500].plot(legend=False)"
   ]
  },
  {
   "cell_type": "code",
   "execution_count": null,
   "id": "6c68dd69",
   "metadata": {},
   "outputs": [],
   "source": [
    "np.log(spectra.iloc[0]).iloc[:200].plot(legend=False, grid=True)"
   ]
  },
  {
   "cell_type": "code",
   "execution_count": null,
   "id": "e19791f7",
   "metadata": {},
   "outputs": [],
   "source": [
    "WINDOW = 2**13\n",
    "from tqdm.notebook import tqdm\n",
    "\n",
    "zip_file = ZipFile(MAFAULDA_PATH)\n",
    "imbalancePSD = pd.concat([\n",
    "    pool.apply_async(fft_csv_import, (zip_file, name, WINDOW, 0.5, mafaulda.FS_HZ, True)).get()\n",
    "    for name in tqdm(imbalance_files[:10])\n",
    "])"
   ]
  },
  {
   "cell_type": "code",
   "execution_count": null,
   "id": "75f94cdc",
   "metadata": {},
   "outputs": [],
   "source": [
    "imbalancePSD"
   ]
  },
  {
   "cell_type": "code",
   "execution_count": null,
   "id": "30a78f4c",
   "metadata": {},
   "outputs": [],
   "source": [
    "imbalancePSD.T[(10, '21.7088.csv')].loc[:500].plot()"
   ]
  },
  {
   "cell_type": "code",
   "execution_count": null,
   "id": "83445eb7",
   "metadata": {},
   "outputs": [],
   "source": [
    "def extract_peaks(psd, max_freq=1000):\n",
    "    MAX_FREQ = 1000\n",
    "    frames = []\n",
    "\n",
    "    for index, bins in psd.iterrows():\n",
    "        peaks, properties = find_peaks(bins[:max_freq], prominence=0.02)\n",
    "        row = {\n",
    "            'load': index[0],\n",
    "            'no': index[1],\n",
    "            'f': bins.index[peaks],\n",
    "            'y': bins[bins.index[peaks]]\n",
    "        }\n",
    "    \n",
    "        frame = pd.DataFrame(data=row, columns=['load', 'no', 'f', 'y'])\n",
    "        frames.append(frame)\n",
    "        \n",
    "    harmonics = (\n",
    "        pd.concat(frames)\n",
    "          .sort_values(by=['load', 'y', 'f'], ascending=[True, False, True])\n",
    "    )\n",
    "    \n",
    "    f0 = harmonics.groupby('load').nth(0)\n",
    "    f1 = harmonics.groupby('load').nth(1)\n",
    "    peak_features = f0.join(f1, lsuffix='_f0', rsuffix='_f1').reset_index()\n",
    "    return peak_features\n",
    "\n",
    "\n",
    "peak_features = extract_peaks(imbalancePSD)\n",
    "sb.lmplot(x='y_f0', y='y_f1', data=peak_features, fit_reg=False, hue='load_f0', legend=False)\n",
    "plt.legend(loc='lower right')\n",
    "plt.show()"
   ]
  },
  {
   "cell_type": "code",
   "execution_count": null,
   "id": "52d6f02e",
   "metadata": {},
   "outputs": [],
   "source": [
    "sb.lmplot(x='f_f0', y='f_f1', data=peak_features, fit_reg=False, hue='load_f0', legend=False)\n",
    "plt.legend(loc='lower right')\n",
    "plt.show()"
   ]
  },
  {
   "cell_type": "code",
   "execution_count": null,
   "id": "d4737be1",
   "metadata": {},
   "outputs": [],
   "source": [
    "# Spectral statistics\n",
    "from scipy.stats import skew, kurtosis\n",
    "\n",
    "rms = lambda x: np.sqrt((x ** 2).mean())\n",
    "spectral_centroid = lambda x: np.average(x.index, weights=x)\n",
    "\n",
    "fd_features = pd.concat([\n",
    "    imbalancePSD.mean(axis=1).rename('mean'),\n",
    "    imbalancePSD.std(axis=1).rename('std'),\n",
    "    imbalancePSD.T.apply(lambda x: skew(x)).rename('skew'),\n",
    "    imbalancePSD.T.apply(lambda x: kurtosis(x)).rename('kurtosis'),\n",
    "    imbalancePSD.T.apply(rms).rename('rms'),\n",
    "    imbalancePSD.T.apply(spectral_centroid).rename('centroid')\n",
    "    ],\n",
    "    axis=1\n",
    ")\n",
    "fd_features.head(10)"
   ]
  },
  {
   "cell_type": "code",
   "execution_count": null,
   "id": "44abf07d",
   "metadata": {},
   "outputs": [],
   "source": [
    "sb.pairplot(fd_features)\n",
    "plt.show()"
   ]
  },
  {
   "cell_type": "code",
   "execution_count": null,
   "id": "3aa65104",
   "metadata": {},
   "outputs": [],
   "source": [
    "fd_plain = fd_features.reset_index()\n",
    "sb.lmplot(x='rms', y='kurtosis', data=fd_plain, fit_reg=False, hue='load', legend=False)\n",
    "plt.legend(loc='lower right')\n",
    "plt.show()"
   ]
  },
  {
   "cell_type": "code",
   "execution_count": null,
   "id": "7fe4e697",
   "metadata": {},
   "outputs": [],
   "source": [
    "fig = plt.figure(figsize=(5, 5))\n",
    "ax = fig.add_subplot(projection='3d')\n",
    "ax.scatter(fd_plain['kurtosis'], fd_plain['centroid'], fd_plain['rms'])\n",
    "\n",
    "ax.set_xlabel('Kurtosis')\n",
    "ax.set_ylabel('Centroid')\n",
    "ax.set_zlabel('RMS')"
   ]
  },
  {
   "cell_type": "markdown",
   "id": "568b9f89",
   "metadata": {},
   "source": [
    "PSD of severe faults by axis (Welch) - up to 2 kHz (120 000 RPM)"
   ]
  },
  {
   "cell_type": "code",
   "execution_count": null,
   "id": "114d4280",
   "metadata": {},
   "outputs": [],
   "source": [
    "\n",
    "def fft_csv_import_by_axis(zip_file, filename, axis='ax', window=4096, overlap=0.5, fs=50000, is_welch=False):\n",
    "    STEP = window * overlap\n",
    "\n",
    "    frame = mafaulda.csv_import(zip_file, filename)\n",
    "    v = frame[axis].to_numpy()\n",
    "\n",
    "    if is_welch is False:\n",
    "        spectra = [\n",
    "            np.abs(rfft(v[i:i+window] * np.hamming(window)))\n",
    "            for i in range(0, len(v) - window, int(STEP))\n",
    "        ]\n",
    "        freqs = [i * (fs / window) for i in range(window // 2 + 1)]\n",
    "\n",
    "    else:\n",
    "        freqs, spectra = welch(v, fs, 'hann', nperseg=window, scaling='spectrum', average='mean')\n",
    "        spectra = [spectra]\n",
    "\n",
    "\n",
    "    return (\n",
    "        pd.DataFrame(data=spectra, columns=freqs.astype(int))\n",
    "        .assign(name=filename, rpm=frame['rpm'].median())\n",
    "        .set_index(['name'])\n",
    "    )\n",
    "\n",
    "\n",
    "FS = 50000\n",
    "WINDOW = 2**13\n",
    "fault_files = [\n",
    "    'horizontal-misalignment/2.0mm/60.8256.csv',\n",
    "    'vertical-misalignment/1.90mm/61.44.csv',\n",
    "    'imbalance/35g/56.7296.csv',\n",
    "    'normal/61.44.csv',\n",
    "    'overhang/ball_fault/35g/32.1536.csv',\n",
    "    'overhang/cage_fault/35g/54.0672.csv',\n",
    "    'overhang/outer_race/35g/53.4528.csv',\n",
    "    'underhang/ball_fault/35g/50.7904.csv',\n",
    "    'underhang/cage_fault/35g/56.5248.csv',\n",
    "    'underhang/outer_race/35g/58.9824.csv'\n",
    "]\n",
    "\n",
    "fft_csv_import_by_axis(ZipFile(MAFAULDA_PATH), 'normal/61.44.csv', 'az', WINDOW, 0.5, mafaulda.FS_HZ, True)"
   ]
  },
  {
   "cell_type": "markdown",
   "id": "eab46862",
   "metadata": {},
   "source": [
    "Measurement place A - import worst faults and compare each axis's PSD"
   ]
  },
  {
   "cell_type": "code",
   "execution_count": null,
   "id": "798b8622",
   "metadata": {},
   "outputs": [],
   "source": [
    "zip_file = ZipFile(MAFAULDA_PATH)\n",
    "faultPSD_X = pd.concat([\n",
    "    pool.apply_async(fft_csv_import_by_axis, (zip_file, name, 'ax', WINDOW, 0.5, mafaulda.FS_HZ, True)).get()\n",
    "    for name in tqdm(fault_files)\n",
    "])\n",
    "\n",
    "faultPSD_Y = pd.concat([\n",
    "    pool.apply_async(fft_csv_import_by_axis, (zip_file, name, 'ay', WINDOW, 0.5, mafaulda.FS_HZ, True)).get()\n",
    "    for name in tqdm(fault_files)\n",
    "])\n",
    "\n",
    "faultPSD_Z = pd.concat([\n",
    "    pool.apply_async(fft_csv_import_by_axis, (zip_file, name, 'az', WINDOW, 0.5, mafaulda.FS_HZ, True)).get()\n",
    "    for name in tqdm(fault_files)\n",
    "])"
   ]
  },
  {
   "cell_type": "code",
   "execution_count": null,
   "id": "ff14f83a",
   "metadata": {},
   "outputs": [],
   "source": [
    "f_cutoff = 2000\n",
    "\n",
    "faultPSD_X_v = faultPSD_X.drop('rpm', axis=1)\n",
    "x_psd = (\n",
    "    faultPSD_X_v\n",
    "    .T[faultPSD_X_v.T.index < f_cutoff]\n",
    ")\n",
    "axis = x_psd.plot(\n",
    "    subplots=True,\n",
    "    figsize=(20, 15),\n",
    "    xlabel='Frequency [Hz]',\n",
    "    ylabel='Amplitude'\n",
    ")\n",
    "\n",
    "# Graph RPM\n",
    "for ax, rpm  in zip(axis, faultPSD_X['rpm']):\n",
    "    f0 = rpm / 60\n",
    "    ax.axvline(x=f0, color='red')\n",
    "    # n - harmonics of rotating frequency\n",
    "    n = 6\n",
    "    for i in range(2, n):\n",
    "        ax.axvline(x=f0 * i, color='orange')"
   ]
  },
  {
   "cell_type": "code",
   "execution_count": null,
   "id": "a71a8e05",
   "metadata": {},
   "outputs": [],
   "source": [
    "faultPSD_Y_v = faultPSD_Y.drop('rpm', axis=1)\n",
    "y_psd = faultPSD_Y_v.T[faultPSD_Y_v.T.index < f_cutoff]\n",
    "p = y_psd.plot(subplots=True, figsize=(20, 15))"
   ]
  },
  {
   "cell_type": "code",
   "execution_count": null,
   "id": "5cbd5c00",
   "metadata": {},
   "outputs": [],
   "source": [
    "faultPSD_Z_v = faultPSD_Z.drop('rpm', axis=1)\n",
    "z_psd = faultPSD_Z_v.T[faultPSD_Z_v.T.index < f_cutoff]\n",
    "p = z_psd.plot(subplots=True, figsize=(20, 15))"
   ]
  }
 ],
 "metadata": {
  "kernelspec": {
   "display_name": "Python 3 (ipykernel)",
   "language": "python",
   "name": "python3"
  },
  "language_info": {
   "codemirror_mode": {
    "name": "ipython",
    "version": 3
   },
   "file_extension": ".py",
   "mimetype": "text/x-python",
   "name": "python",
   "nbconvert_exporter": "python",
   "pygments_lexer": "ipython3",
   "version": "3.11.5"
  }
 },
 "nbformat": 4,
 "nbformat_minor": 5
}
