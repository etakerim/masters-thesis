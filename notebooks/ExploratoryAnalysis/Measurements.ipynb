{
 "cells": [
  {
   "cell_type": "markdown",
   "id": "4978fc5b-badb-4420-8d53-3e0f0bac800e",
   "metadata": {},
   "source": [
    "### Measurement exploratory data analysis"
   ]
  },
  {
   "cell_type": "code",
   "execution_count": null,
   "id": "113935ce",
   "metadata": {},
   "outputs": [],
   "source": [
    "DEVICES = ['icomox', 'icomox-fast', 'beaglebone', 'beaglebone-old', 'beaglebone-fan']\n",
    "\n",
    "DEVICE = DEVICES[2]\n",
    "T_WAVEFORM = 1\n",
    "T_SEC = T_WAVEFORM\n",
    "NFFT = 512"
   ]
  },
  {
   "cell_type": "code",
   "execution_count": null,
   "id": "b87fb0fc-08ab-4abd-8dad-279d5cc42075",
   "metadata": {},
   "outputs": [],
   "source": [
    "from tabulate import tabulate\n",
    "from IPython.display import Markdown, HTML\n",
    "import matplotlib.pylab as plt\n",
    "from typing import List, Tuple\n",
    "\n",
    "import pandas as pd\n",
    "import numpy as np\n",
    "from scipy.signal import find_peaks\n",
    "from scipy.signal import butter, lfilter\n",
    "\n",
    "from tsfel.feature_extraction.features import fundamental_frequency\n",
    "\n",
    "import os\n",
    "import os.path\n",
    "import sys\n",
    "sys.path.append('../')\n",
    "from vibrodiagnostics import mafaulda\n",
    "from vibrodiagnostics import discovery\n",
    "\n",
    "pd.set_option(\"display.notebook_repr_html\", False)"
   ]
  },
  {
   "cell_type": "markdown",
   "id": "728cc679-1d6f-4fb7-92e4-9a7a828d965a",
   "metadata": {},
   "source": [
    "Import dataset"
   ]
  },
  {
   "cell_type": "code",
   "execution_count": null,
   "id": "71ecf201-88cf-483e-9279-359a72106db4",
   "metadata": {},
   "outputs": [],
   "source": [
    "def beaglebone_dataset(filenames: List[str]) -> List[Tuple[str, pd.DataFrame]]:\n",
    "    dataset = []\n",
    "    g = 9.81\n",
    "    milivolts = 1800\n",
    "    resolution = 2 ** 12\n",
    "    columns = ['x', 'y', 'z']\n",
    "\n",
    "    for filename in filenames:\n",
    "        ts = pd.read_csv(filename, delimiter='\\t', index_col=False, header=None, names=columns)\n",
    "        \n",
    "        # Calculate amplitude in m/s^2 Beaglebone Black ADC and ADXL335 resolution (VIN 1.8V, 12bits)\n",
    "        for dim in columns:\n",
    "            ts[dim] = ts[dim] * (milivolts / resolution)  # ADC to mV\n",
    "            ts[dim] = (ts[dim] / 180) * g                 # mV to m/s^2 (180 mV/g)\n",
    "            ts[dim] -= ts[dim].mean()\n",
    "\n",
    "        ts['t'] = ts.index * (1 / Fs)\n",
    "        ts.set_index('t', inplace=True)\n",
    "        dataset.append((os.path.basename(filename), ts))\n",
    "\n",
    "    return dataset\n",
    "\n",
    "\n",
    "def icomox_dataset(filenames: List[str]) -> List[Tuple[str, pd.DataFrame]]:\n",
    "    dataset = []\n",
    "    g = 9.81\n",
    "\n",
    "    for filename in filenames:\n",
    "        ts = pd.read_csv(filename, delimiter=',', index_col=False)\n",
    "        ts = ts.rename(columns={'aX': 'x', 'aY': 'y', 'aZ': 'z'})\n",
    "        ts['t'] /= 1000\n",
    "        print('FS:', 1 / (ts['t'] - ts['t'].shift(1)).mean())\n",
    "        ts.set_index('t', inplace=True)\n",
    "\n",
    "        # Convert amplitude from g to m/s^2\n",
    "        for dim in ['x', 'y', 'z']:\n",
    "            ts[dim] = ts[dim] * g\n",
    "            ts[dim] -= ts[dim].mean()\n",
    "\n",
    "        dataset.append((os.path.basename(filename), ts))\n",
    "\n",
    "    return dataset"
   ]
  },
  {
   "cell_type": "code",
   "execution_count": null,
   "id": "1cd721f6-508c-40e2-a64a-d5a85043779f",
   "metadata": {},
   "outputs": [],
   "source": [
    "file_list = []\n",
    "\n",
    "if DEVICE == 'icomox':\n",
    "    Fs = 400\n",
    "    DIR = '../../air_conditioning/vnethq/icomox'\n",
    "    file_list = ['low_power_accel_klima_c1_1.txt', 'low_power_accel_klima_c1_2.txt', 'low_power_accel_klima_c2_1.txt', 'low_power_accel_klima_c2_2.txt']\n",
    "    #file_list = ['low_power_accel_iCOMOX_2023-11-09_21-58-29.txt']\n",
    "    file_list = [os.path.join(DIR, filename) for filename in file_list]\n",
    "    DATASET = icomox_dataset(file_list)\n",
    "\n",
    "elif DEVICE == 'icomox-fast':\n",
    "    Fs = 50000\n",
    "    file_list = ['accel_klima_c1_1.txt', 'accel_klima_c1_2.txt', 'accel_klima_c2_1.txt', 'accel_klima_c2_2.txt']\n",
    "    DIR = '../../air_conditioning/vnethq/icomox'\n",
    "    #file_list = ['accel_iCOMOX_2023-11-09_21-58-29.txt']\n",
    "    file_list = [os.path.join(DIR, filename) for filename in file_list]\n",
    "    DATASET = icomox_dataset(file_list)\n",
    "\n",
    "elif DEVICE == 'beaglebone':\n",
    "    Fs = 2500\n",
    "\n",
    "    DIR = '../../air_conditioning/vnethq'\n",
    "    file_list = [\n",
    "        '1_top.tsv',\n",
    "        '1_top_1.tsv',\n",
    "        '1_top_2.tsv',\n",
    "        '1_side.tsv',\n",
    "        '1_side_1.tsv',\n",
    "        '1_side_2.tsv',\n",
    "        '1_base.tsv',\n",
    "        '1_base_1.tsv',\n",
    "        '1_base_2.tsv',\n",
    "        '1_rackside.tsv',\n",
    "        '1_rackside_1.tsv',\n",
    "        '2_top.tsv',\n",
    "        '2_top_1.tsv',\n",
    "        '2_top_2.tsv',\n",
    "        '2_side.tsv',\n",
    "        '2_side_1.tsv',\n",
    "        '2_side_2.tsv',\n",
    "        '2_base.tsv',\n",
    "        '2_base_1.tsv',\n",
    "        '2_base_2.tsv',\n",
    "\n",
    "    ]\n",
    "    # file_list = ['1_A.tsv', '1_B.tsv', '1_C.tsv']\n",
    "    # DIR = '../../air_conditioning/vnethq'\n",
    "    \n",
    "    # file_list = ['fan_1.tsv', 'fan_2.tsv']\n",
    "    # DIR = '../../air_conditioning/test'\n",
    "\n",
    "    file_list = ['ch1.tsv', 'ch2.tsv', 'ch3.tsv', 'ch4.tsv', 'ch5.tsv']\n",
    "    DIR = '../../air_conditioning/chladnicka'\n",
    "    \n",
    "    file_list = [os.path.join(DIR, filename) for filename in file_list]\n",
    "    DATASET = beaglebone_dataset(file_list)\n",
    "\n",
    "elif DEVICE == 'beaglebone-old':\n",
    "    Fs = 1160     # 1160 Hz +/-150 Hz (1020 - 1340 Hz)\n",
    "    file_list = [\n",
    "        'excool_digitalis/high_pressure_pump_40percent__1.tsv',\n",
    "        'excool_digitalis/high_pressure_pump_40percent__2.tsv',\n",
    "        'excool_digitalis/high_pressure_pump_40percent_speed_up__3.tsv',\n",
    "        'excool_digitalis/high_pressure_pump_80percent__4.tsv',\n",
    "        'shc2/compressor_shc2_klima4_bad.tsv',\n",
    "        'shc2/compressor_shc2_klima5_good.tsv',\n",
    "        'vertiv_digitalis/compressor_top_1.tsv',\n",
    "        'vertiv_digitalis/compressor_top_2.tsv',\n",
    "        'vertiv_digitalis/compressor_top_3.tsv',\n",
    "        'vertiv_digitalis/compressor_base.tsv',\n",
    "        'vertiv_digitalis/compressor_side.tsv'\n",
    "    ]\n",
    "    DIR = '../../air_conditioning/'\n",
    "    file_list = [os.path.join(DIR, filename) for filename in file_list]\n",
    "    DATASET = beaglebone_dataset(file_list)\n",
    "\n",
    "elif DEVICE == 'beaglebone-fan':\n",
    "    Fs = 2500\n",
    "    file_list = [\n",
    "        'fan/speeds/1_still.tsv',\n",
    "        'fan/speeds/2_still.tsv',\n",
    "        'fan/speeds/3_still.tsv',\n",
    "        'fan/speeds/1_up.tsv',\n",
    "        'fan/speeds/2_up.tsv',\n",
    "        'fan/speeds/3_up.tsv',\n",
    "        'fan/speeds/1_down.tsv',\n",
    "        'fan/speeds/2_down.tsv',\n",
    "        'fan/speeds/3_down.tsv',\n",
    "    ]\n",
    "    DIR = '../../air_conditioning/'\n",
    "    file_list = [os.path.join(DIR, filename) for filename in file_list]\n",
    "    DATASET = beaglebone_dataset(file_list)"
   ]
  },
  {
   "cell_type": "code",
   "execution_count": null,
   "id": "594ae818-83bd-452e-9e2e-d5da2f1e6f8c",
   "metadata": {},
   "outputs": [],
   "source": [
    "for name, ts in DATASET:\n",
    "    display(Markdown(f'**{name}**'))\n",
    "    ts.info()\n",
    "    print()"
   ]
  },
  {
   "cell_type": "code",
   "execution_count": null,
   "id": "c7893ecc-f701-486c-96c2-bfc6efc19020",
   "metadata": {},
   "outputs": [],
   "source": [
    "for name, ts in DATASET:\n",
    "    display(Markdown(f'**{name}**'))\n",
    "    display(tabulate(ts.describe(), headers='keys', tablefmt='html'))"
   ]
  },
  {
   "cell_type": "markdown",
   "id": "50e6b79e-8552-49a7-83ca-2cabc45c4e0f",
   "metadata": {},
   "source": [
    "Time domain waveform"
   ]
  },
  {
   "cell_type": "code",
   "execution_count": null,
   "id": "cd1b7b7e-846f-4972-be25-b8b070dad107",
   "metadata": {
    "scrolled": true
   },
   "outputs": [],
   "source": [
    "for name, ts in DATASET:\n",
    "    display(Markdown(f'**{name}**'))\n",
    "    axis = ts.columns\n",
    "    \n",
    "    ax = ts[axis].plot(figsize=(20, 8), grid=True, subplots=True)\n",
    "    for i, axname in enumerate(axis):\n",
    "        ax[i].set_xlabel('Time [s]')\n",
    "        ax[i].set_ylabel(f'Amplitude ({axname}) [m/s^2]')\n",
    "    plt.show()               # plt.savefig('waveform.png')"
   ]
  },
  {
   "cell_type": "markdown",
   "id": "5a04a3f5-3219-409c-94ab-029fe9a03793",
   "metadata": {},
   "source": [
    "Time domain waveform zoom detail"
   ]
  },
  {
   "cell_type": "code",
   "execution_count": null,
   "id": "a6f20f71-232b-4dfd-a639-3f67a3220342",
   "metadata": {},
   "outputs": [],
   "source": [
    "for name, ts in DATASET:\n",
    "    axis = ts.columns\n",
    "    display(Markdown(f'**{name}**'))\n",
    "    ax = (ts[axis].iloc[int(T_WAVEFORM*Fs):int(T_WAVEFORM*Fs)+Fs]\n",
    "                  .plot(figsize=(20, 10), grid=True, subplots=True))\n",
    "    \n",
    "    for i, axname in enumerate(axis):\n",
    "        ax[i].set_xlabel('Time [s]')\n",
    "        ax[i].set_ylabel(f'Amplitude ({axname}) [m/s^2]')\n",
    "        plt.show()      # plt.savefig('waveform_zoom.png')"
   ]
  },
  {
   "cell_type": "code",
   "execution_count": null,
   "id": "f29aff63-02db-41cc-a0b2-a73ddc309933",
   "metadata": {},
   "outputs": [],
   "source": [
    "def spectogram(x):\n",
    "    fig, ax = plt.subplots(figsize=(15, 4))\n",
    "    cmap = plt.get_cmap('inferno')\n",
    "    pxx, freqs, t, im = plt.specgram(\n",
    "        x, NFFT=NFFT, Fs=Fs,\n",
    "        detrend='mean',\n",
    "        mode='magnitude', scale='dB',\n",
    "        cmap=cmap, vmin=-60\n",
    "    )\n",
    "    fig.colorbar(im, aspect=20, pad=0.04)\n",
    "    ax.set_xlabel('Time [s]')\n",
    "    ax.set_ylabel('Frequency [Hz]')\n",
    "    mafaulda.resolution_calc(Fs, NFFT)\n",
    "    return freqs, pxx\n",
    "\n",
    "\n",
    "def window_idx(t):\n",
    "    return (Fs * t) // NFFT + 1\n",
    "\n",
    "\n",
    "def spectrum_slice(freqs, Pxx, t):\n",
    "    fig, ax = plt.subplots(2, 1, figsize=(20, 8))\n",
    "    n = window_idx(t)\n",
    "\n",
    "    dB = 20 * np.log10(Pxx.T[n] / 0.000001)\n",
    "    ax[0].plot(freqs, dB)      # 1 dB = 1 um/s^2\n",
    "    ax[0].grid(True)\n",
    "    ax[0].set_xlabel('Frequency [Hz]')\n",
    "    ax[0].set_ylabel('Amplitude [dB]')\n",
    "    \n",
    "    ax[1].plot(freqs, Pxx.T[n])\n",
    "    ax[1].grid(True)\n",
    "    ax[1].set_xlabel('Frequency [Hz]')\n",
    "    ax[1].set_ylabel('Amplitude [m/s^2]')\n",
    "    return n\n",
    "\n",
    "\n",
    "def get_max_frequency(freqs, Pxx, i):\n",
    "    max_freq = freqs[np.argmax(Pxx.T[i])]\n",
    "    return max_freq\n",
    "\n",
    "\n",
    "def get_peaks(freqs, Pxx, i, top=5):\n",
    "    amplitudes = Pxx.T[i]\n",
    "    peaks, _ = find_peaks(amplitudes, distance=3)\n",
    "\n",
    "    fundamental = get_max_frequency(freqs, Pxx, i)\n",
    "    f_top = freqs[peaks[np.argsort(amplitudes[peaks])]][::-top]\n",
    "    y_top = np.sort(amplitudes[peaks])[::-top]\n",
    "\n",
    "    return pd.DataFrame({\n",
    "        'f': f_top,\n",
    "        'y': y_top,\n",
    "        '1x': f_top / fundamental \n",
    "    })\n",
    "\n",
    "\n",
    "def butter_bandpass_filter(data, lowcut, highcut, fs, order=5):\n",
    "    b, a = butter(order, [lowcut, highcut], fs=fs, btype='band')\n",
    "    y = lfilter(b, a, data)\n",
    "    return y\n",
    "\n",
    "\n",
    "def get_spectrograms(DATASET: List[pd.DataFrame], axis: str) -> list:\n",
    "    spectrograms = []\n",
    "\n",
    "    for name, ts in DATASET:\n",
    "        base_freq = fundamental_frequency(ts[axis], Fs)\n",
    "        display(Markdown(f'**{name}** *({axis.upper()} axis, Fundamental = {base_freq:.4f} Hz)*'))\n",
    "        \n",
    "        freqs, Pxx = spectogram(ts['x'])\n",
    "        spectrograms.append((name, freqs, Pxx))\n",
    "        plt.show()          # plt.savefig(f'x_axis_fft_{NFFT}.png')\n",
    "    \n",
    "    return spectrograms\n",
    "\n",
    "\n",
    "def show_spectrogram_detail(spectrograms: list, axis: str, t: float):\n",
    "    for name, freqs, Pxx in spectrograms:\n",
    "        display(Markdown(f'**{name}** ({axis.upper()} axis @ {t}s)'))\n",
    "        i_window = spectrum_slice(freqs, Pxx, t)\n",
    "        plt.show()           #plt.savefig(f'x_axis_fft_{NFFT}_at_{T_SEC}s.png')\n",
    "\n",
    "\n",
    "def show_mms_peaks(spectrograms: list, axis: str, t: float):\n",
    "    for name, freqs, Pxx in spectrograms:\n",
    "        display(Markdown(f'**{name}** ({axis.upper()} axis @ {t}s)'))\n",
    "    \n",
    "        i_window = window_idx(t)\n",
    "        peaks = discovery.mms_peak_finder(Pxx.T[i_window])\n",
    "        \n",
    "        fig, ax = plt.subplots(1, 1, figsize=(15, 3))\n",
    "        ax.grid(True)\n",
    "        ax.plot(freqs, Pxx.T[i_window])\n",
    "        ax.scatter(freqs[peaks], Pxx.T[i_window][peaks], marker='^', color='red')\n",
    "        ax.set_xlabel('Frequency [Hz]')\n",
    "        \n",
    "        plt.show()\n",
    "\n",
    "\n",
    "def show_harmonic_series(spectrograms: list, axis: str, t: float):\n",
    "    # https://stackoverflow.com/questions/1982770/changing-the-color-of-an-axis\n",
    "    for name, freqs, Pxx in spectrograms:\n",
    "        display(Markdown(f'**{name}** ({axis.upper()} axis @ {t}s)'))\n",
    "    \n",
    "        i_window = window_idx(t)\n",
    "        h_series = discovery.harmonic_series_detection(freqs, Pxx.T[i_window], Fs, NFFT)\n",
    "    \n",
    "        # Find best (sum of harmonics' amplitudes in the largest)\n",
    "        max_harmonic_amp_idx = np.argmax([\n",
    "            sum([h[1] for h in s]) / len(s)\n",
    "            for s in h_series\n",
    "        ])\n",
    "        best_harmonic_series = pd.DataFrame(\n",
    "            h_series[max_harmonic_amp_idx],\n",
    "            columns=['Frequency [Hz]', 'Amplitude [m/s^2]']\n",
    "        )\n",
    "        best_harmonic_series.index += 1\n",
    "        display(tabulate(best_harmonic_series, headers='keys', tablefmt='html'))\n",
    "    \n",
    "        # Plot found harmonic series\n",
    "        fig, ax = plt.subplots(1, 8, figsize=(30, 4))\n",
    "        for i in range(8):\n",
    "            s = h_series[i+1]\n",
    "            if i == max_harmonic_amp_idx:\n",
    "                ax[i].xaxis.label.set_color('red')\n",
    "    \n",
    "            ax[i].plot(freqs, Pxx.T[i_window])\n",
    "            ax[i].scatter([x[0] for x in s], [x[1] for x in s], marker='^', color='red')\n",
    "            ax[i].set_xlabel('Frequency [Hz]')\n",
    "    \n",
    "        plt.show()\n",
    "\n",
    "def show_spectra_largest_amplitudes(spectrograms: list, axis: str, t: float):\n",
    "    for name, freqs, Pxx in spectrograms:\n",
    "        display(Markdown(f'**{name}** ({axis.upper()} axis @ {t}s)'))\n",
    "\n",
    "        i_window = window_idx(t)\n",
    "        x_fundamental = get_max_frequency(freqs, Pxx, i_window)\n",
    "        peaks = get_peaks(freqs, Pxx, i_window)\n",
    "        \n",
    "        display(Markdown(f'- *Fundamental frequency:* {x_fundamental} Hz'))\n",
    "        display(tabulate(peaks.head(5), headers='keys', tablefmt='html'))"
   ]
  },
  {
   "cell_type": "markdown",
   "id": "ee89381f-5511-4bc3-a852-5bce32cac12f",
   "metadata": {},
   "source": [
    "Spectrogram in X axis"
   ]
  },
  {
   "cell_type": "code",
   "execution_count": null,
   "id": "4db90dff-cb26-41ad-9cc0-cd2234065803",
   "metadata": {},
   "outputs": [],
   "source": [
    "x_spectra = get_spectrograms(DATASET, 'x')"
   ]
  },
  {
   "cell_type": "markdown",
   "id": "a4c0eaf1-8703-4e32-a46a-894785e1da2c",
   "metadata": {},
   "source": [
    "Spectrogram detail in X axis"
   ]
  },
  {
   "cell_type": "code",
   "execution_count": null,
   "id": "e86b9741-3c74-4dd8-985a-3b1cbeb6d20a",
   "metadata": {},
   "outputs": [],
   "source": [
    "show_spectrogram_detail(x_spectra, 'x', T_SEC)"
   ]
  },
  {
   "cell_type": "markdown",
   "id": "3b78bdaa-f505-4170-a49f-bb8e2e007331",
   "metadata": {},
   "source": [
    "Peaks in frequency spectrum in X axis\n",
    "- MMS peak finder algorithm"
   ]
  },
  {
   "cell_type": "code",
   "execution_count": null,
   "id": "e88ca843-aef3-4497-8de2-1de067068c5a",
   "metadata": {},
   "outputs": [],
   "source": [
    "show_mms_peaks(x_spectra, 'x', T_SEC)"
   ]
  },
  {
   "cell_type": "markdown",
   "id": "4b828295-e3e8-491a-9c6c-75ecd2ab9d2b",
   "metadata": {},
   "source": [
    "Harmonic series detection in X axis"
   ]
  },
  {
   "cell_type": "code",
   "execution_count": null,
   "id": "bcf17c61-fdf7-4b06-a1e5-be3c316ed235",
   "metadata": {},
   "outputs": [],
   "source": [
    "# show_harmonic_series(x_spectra, 'x', T_SEC)"
   ]
  },
  {
   "cell_type": "code",
   "execution_count": null,
   "id": "bc38a721-9953-47e6-9e65-827070b981d8",
   "metadata": {},
   "outputs": [],
   "source": [
    "show_spectra_largest_amplitudes(x_spectra, 'x', T_SEC)"
   ]
  },
  {
   "cell_type": "markdown",
   "id": "ff4e21af-0f09-4a15-a153-a765ca9d76ed",
   "metadata": {},
   "source": [
    "Spectrogram in Y axis"
   ]
  },
  {
   "cell_type": "code",
   "execution_count": null,
   "id": "1e96548e-6e6a-4c27-a823-aafa1b024775",
   "metadata": {},
   "outputs": [],
   "source": [
    "y_spectra = get_spectrograms(DATASET, 'y')"
   ]
  },
  {
   "cell_type": "markdown",
   "id": "26452c30-a319-4a4d-8a24-e4e8871887d1",
   "metadata": {},
   "source": [
    "Spectrogram detail in Y axis"
   ]
  },
  {
   "cell_type": "code",
   "execution_count": null,
   "id": "bdf3133c-3ef2-402b-a148-4e28233b01db",
   "metadata": {},
   "outputs": [],
   "source": [
    "show_spectrogram_detail(y_spectra, 'y', T_SEC)"
   ]
  },
  {
   "cell_type": "markdown",
   "id": "ec8a28fa-689d-485e-bf67-3b33b2b04fa0",
   "metadata": {},
   "source": [
    "Peaks in frequency spectrum in Y axis"
   ]
  },
  {
   "cell_type": "code",
   "execution_count": null,
   "id": "2182c450-7d54-4706-b49b-90d540a2a457",
   "metadata": {},
   "outputs": [],
   "source": [
    "show_mms_peaks(y_spectra, 'y', T_SEC)"
   ]
  },
  {
   "cell_type": "markdown",
   "id": "3bde1e3d-05a7-4152-bc23-2b2e6f276cc3",
   "metadata": {},
   "source": [
    "Harmonic series detection in Y axis"
   ]
  },
  {
   "cell_type": "code",
   "execution_count": null,
   "id": "e21bcf95-d8e3-465f-a965-2695b8b62ccb",
   "metadata": {},
   "outputs": [],
   "source": [
    "# show_harmonic_series(y_spectra, 'y', T_SEC)"
   ]
  },
  {
   "cell_type": "code",
   "execution_count": null,
   "id": "56d93aea-fe04-43a5-a252-20525c513421",
   "metadata": {},
   "outputs": [],
   "source": [
    "show_spectra_largest_amplitudes(y_spectra, 'y', T_SEC)"
   ]
  },
  {
   "cell_type": "markdown",
   "id": "f5c4ee18-e979-4409-90ef-2066cb5cd84e",
   "metadata": {},
   "source": [
    "Spectrogram in Z axis"
   ]
  },
  {
   "cell_type": "code",
   "execution_count": null,
   "id": "1a5499f4-9d14-4cb4-ac8c-52b89147c34a",
   "metadata": {},
   "outputs": [],
   "source": [
    "z_spectra = get_spectrograms(DATASET, 'z')"
   ]
  },
  {
   "cell_type": "markdown",
   "id": "0c0bf42d-e8b4-47cc-987e-395decaa040f",
   "metadata": {},
   "source": [
    "Spectrogram detail in Z axis"
   ]
  },
  {
   "cell_type": "code",
   "execution_count": null,
   "id": "e0602391-3463-45bc-9dfa-d647e1b8fa4e",
   "metadata": {},
   "outputs": [],
   "source": [
    "show_spectrogram_detail(z_spectra, 'z', T_SEC)"
   ]
  },
  {
   "cell_type": "markdown",
   "id": "2d940e50-1f66-4016-b5a8-f5af7d338296",
   "metadata": {},
   "source": [
    "Peaks in frequency spectrum in Z axis"
   ]
  },
  {
   "cell_type": "code",
   "execution_count": null,
   "id": "63ea9d55-9607-46d6-b968-ea58c3fcc73c",
   "metadata": {},
   "outputs": [],
   "source": [
    "show_mms_peaks(z_spectra, 'z', T_SEC)"
   ]
  },
  {
   "cell_type": "markdown",
   "id": "7e10dd6a-ac2f-4fb9-a09b-9886106921b8",
   "metadata": {},
   "source": [
    "Harmonic series detection in Z axis"
   ]
  },
  {
   "cell_type": "code",
   "execution_count": null,
   "id": "bd944516-dd26-4e7d-be01-180f6d530ecf",
   "metadata": {},
   "outputs": [],
   "source": [
    "# show_harmonic_series(z_spectra, 'z', T_SEC)"
   ]
  },
  {
   "cell_type": "code",
   "execution_count": null,
   "id": "bf42af29-767c-4953-a210-a0c78706f313",
   "metadata": {},
   "outputs": [],
   "source": [
    "show_spectra_largest_amplitudes(z_spectra, 'z', T_SEC)"
   ]
  },
  {
   "cell_type": "markdown",
   "id": "04c4b374-fcf1-4546-ac58-671d829c5ec9",
   "metadata": {},
   "source": [
    "Histogram"
   ]
  },
  {
   "cell_type": "code",
   "execution_count": null,
   "id": "0a5f9a84-fdfd-42d7-b76d-8e5e3b52d9f1",
   "metadata": {},
   "outputs": [],
   "source": [
    "axis = ['x', 'y', 'z']\n",
    "for name, ts in DATASET:\n",
    "    display(Markdown(f'**{name}**'))\n",
    "    ts[axis].hist(figsize=(10, 5), grid=True, bins=50)\n",
    "    plt.show()"
   ]
  },
  {
   "cell_type": "markdown",
   "id": "95dfbc2a-2a89-4544-a876-b4b737e589d2",
   "metadata": {},
   "source": [
    "Orbitals of all cross sections"
   ]
  },
  {
   "cell_type": "code",
   "execution_count": null,
   "id": "0f2c7690-1ffb-4099-b52e-33e9fa39ffba",
   "metadata": {},
   "outputs": [],
   "source": [
    "for name, ts in DATASET:\n",
    "    display(Markdown(f'**{name}**'))\n",
    "    fig, ax = plt.subplots(1, 3, figsize=(20, 4))\n",
    "\n",
    "    for i, col in enumerate([('x', 'y'), ('x', 'z'), ('y', 'z')]):\n",
    "        ax[i].scatter(ts[col[0]], ts[col[1]], s=1)\n",
    "        ax[i].grid(True)\n",
    "        ax[i].set_xlabel(col[0].upper())\n",
    "        ax[i].set_ylabel(col[1].upper())\n",
    "        ax[i].grid(True)\n",
    "    plt.show()       # plt.savefig('orbitals.png')"
   ]
  },
  {
   "cell_type": "markdown",
   "id": "33add604-68f5-415a-8f68-aadeb04b5c79",
   "metadata": {},
   "source": [
    "Orbitals of 1x harmonic frequency"
   ]
  },
  {
   "cell_type": "code",
   "execution_count": null,
   "id": "9cc92a20-3797-46ab-8b0b-8227c319b2f7",
   "metadata": {},
   "outputs": [],
   "source": [
    "x_spectra_by_name = {spec[0]: spec for spec in x_spectra}\n",
    "y_spectra_by_name = {spec[0]: spec for spec in y_spectra}\n",
    "z_spectra_by_name = {spec[0]: spec for spec in z_spectra}\n",
    "t = 5\n",
    "space = 5\n",
    "\n",
    "for name, ts in DATASET:\n",
    "    display(Markdown(f'**{name}**'))\n",
    "    fig, ax = plt.subplots(1, 3, figsize=(20, 4))\n",
    "\n",
    "    name, freqs, Pxx = x_spectra_by_name[name]\n",
    "    x_fundamental = get_max_frequency(freqs, Pxx, window_idx(t))\n",
    "\n",
    "    name, freqs, Pxx = y_spectra_by_name[name]\n",
    "    y_fundamental = get_max_frequency(freqs, Pxx, window_idx(t))\n",
    "\n",
    "    name, freqs, Pxx = z_spectra_by_name[name]\n",
    "    z_fundamental = get_max_frequency(freqs, Pxx, window_idx(t))\n",
    "\n",
    "    ts['x_1x'] = butter_bandpass_filter(ts['x'], x_fundamental - space, x_fundamental + space, Fs)\n",
    "    ts['y_1x'] = butter_bandpass_filter(ts['y'], y_fundamental - space, y_fundamental + space, Fs)\n",
    "    ts['z_1x'] = butter_bandpass_filter(ts['z'], z_fundamental - space, z_fundamental + space, Fs)\n",
    "    \n",
    "    for i, col in enumerate([('x_1x', 'y_1x'), ('x_1x', 'z_1x'), ('y_1x', 'z_1x')]):\n",
    "        ax[i].scatter(ts[col[0]], ts[col[1]], s=1)\n",
    "        ax[i].grid(True)\n",
    "        ax[i].set_xlabel(col[0].upper())\n",
    "        ax[i].set_ylabel(col[1].upper())\n",
    "        ax[i].grid(True)\n",
    "    \n",
    "    plt.show()       # plt.savefig('orbitals_1x.png')"
   ]
  }
 ],
 "metadata": {
  "kernelspec": {
   "display_name": "Python 3 (ipykernel)",
   "language": "python",
   "name": "python3"
  },
  "language_info": {
   "codemirror_mode": {
    "name": "ipython",
    "version": 3
   },
   "file_extension": ".py",
   "mimetype": "text/x-python",
   "name": "python",
   "nbconvert_exporter": "python",
   "pygments_lexer": "ipython3",
   "version": "3.11.5"
  }
 },
 "nbformat": 4,
 "nbformat_minor": 5
}
