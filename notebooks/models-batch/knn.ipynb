{
 "cells": [
  {
   "cell_type": "code",
   "execution_count": null,
   "id": "12dca216-9915-401d-aa2a-0eb1869877e3",
   "metadata": {},
   "outputs": [],
   "source": [
    "import numpy as np\n",
    "import pandas as pd\n",
    "from zipfile import ZipFile\n",
    "\n",
    "# Feature selection\n",
    "from scipy.stats import pearsonr\n",
    "from sklearn.feature_selection import mutual_info_classif, f_classif\n",
    "\n",
    "from sklearn.model_selection import train_test_split\n",
    "from sklearn.model_selection import KFold, StratifiedKFold, StratifiedShuffleSplit\n",
    "from sklearn.neighbors import KNeighborsClassifier\n",
    "from sklearn.preprocessing import MinMaxScaler\n",
    "from imblearn.over_sampling import RandomOverSampler\n",
    "from sklearn.decomposition import PCA\n",
    "from scipy.stats import gmean\n",
    "\n",
    "# Model evaluation\n",
    "from sklearn import metrics\n",
    "from kneed import KneeLocator\n",
    "\n",
    "# Plotting and table formatting\n",
    "import matplotlib.pyplot as plt\n",
    "from IPython.display import Markdown\n",
    "from tabulate import tabulate\n",
    "import seaborn as sb\n",
    "from collections import Counter\n",
    "from tqdm.notebook import tqdm\n",
    "\n",
    "# System modules\n",
    "import re\n",
    "import itertools\n",
    "import os\n",
    "import sys\n",
    "sys.path.append('../')\n",
    "\n",
    "# Custom modules\n",
    "from vibrodiagnostics import (\n",
    "    discovery, \n",
    "    selection,\n",
    "    models,\n",
    "    nn\n",
    ")\n",
    "PATH_PREFIX = '../../datasets/'\n",
    "FEATURES_PATH =  os.path.join(PATH_PREFIX, 'features_data')\n",
    "\n",
    "\n",
    "TD_FD_FEATURES = os.path.join(FEATURES_PATH, selection.TIME_AND_FREQ_FEATURES_PATH)\n",
    "TD_FEATURES = os.path.join(FEATURES_PATH, selection.TIME_FEATURES_PATH)\n",
    "FD_FEATURES = os.path.join(FEATURES_PATH, selection.FREQ_FEATURES_PATH)\n",
    "\n",
    "domains = {'temporal': TD_FEATURES, 'spectral': FD_FEATURES}\n",
    "\n",
    "target = ['fault', 'anomaly_80']\n",
    "placement = ['A', 'B']\n",
    "online = [False]\n",
    "\n",
    "N_NEIGHBORS = 5"
   ]
  },
  {
   "cell_type": "markdown",
   "id": "33e4fb79-b0dd-48ae-bf5d-b2b4da8cebbb",
   "metadata": {},
   "source": [
    "Parameters:\n",
    "- Distance metric\n",
    "- k neighbours (odd numbers because of majority voting) - elbow curve"
   ]
  },
  {
   "cell_type": "markdown",
   "id": "8e67e970-111c-448b-837a-1c84144e7a1a",
   "metadata": {},
   "source": [
    "### Temporal features"
   ]
  },
  {
   "cell_type": "code",
   "execution_count": null,
   "id": "a6badca4",
   "metadata": {},
   "outputs": [],
   "source": [
    "def load_source(dataset: str, domain: str, row: dict):\n",
    "    faults = {\n",
    "        'A': {\n",
    "            'normal': 'normal',\n",
    "            'imbalance': 'imbalance',\n",
    "            'horizontal-misalignment': 'misalignment',\n",
    "            'vertical-misalignment': 'misalignment',\n",
    "            'underhang-outer_race': 'outer race fault',\n",
    "            'underhang-cage_fault': 'cage fault',\n",
    "            'underhang-ball_fault': 'ball fault'\n",
    "        },\n",
    "        'B': {\n",
    "            'normal': 'normal',\n",
    "            'imbalance': 'imbalance',\n",
    "            'horizontal-misalignment': 'misalignment',\n",
    "            'vertical-misalignment': 'misalignment',\n",
    "            'overhang-cage_fault': 'cage fault',\n",
    "            'overhang-ball_fault': 'ball fault',\n",
    "            'overhang-outer_race': 'outer race fault'\n",
    "        }\n",
    "    }\n",
    "    placements = {\n",
    "        'A': ['ax', 'ay', 'az'],\n",
    "        'B': ['bx', 'by', 'bz']\n",
    "    }\n",
    "    features = pd.read_csv(dataset).fillna(0)\n",
    "\n",
    "    # Labeling anomaly severity levels\n",
    "    target = re.search(r'([a-z]+)_?(\\d+)?', row['target'])\n",
    "    anomaly_severity = target.group(2) or '80'\n",
    "    anomaly_severity = float(anomaly_severity) / 100\n",
    "\n",
    "    # Choose measurement placement: A or B\n",
    "    place = row['placement']\n",
    "    axis = placements[place]\n",
    "    features = features[features['fault'].isin(tuple(faults[place]))]\n",
    "    features = models.fault_labeling(features, faults[place], anomaly_severity) #, debug=True)\n",
    "\n",
    "    ##############################################\n",
    "    # ?assign normal class to low severity faults\n",
    "    # features.loc[features['severity_level'] < 0.5, 'fault'] = 'normal'\n",
    "\n",
    "    columns = features.columns.str.startswith(tuple(axis))\n",
    "    X = features[features.columns[columns]]\n",
    "\n",
    "    # Select predicted variable column\n",
    "    label = target.group(1)\n",
    "    Y = features[label].astype('category')\n",
    "\n",
    "    # Filter columns in feature domain with window size 2**14\n",
    "    if domain == 'spectral':\n",
    "        window_size = 2**14\n",
    "        X = X.loc[:,X.columns.str.endswith(f'_{window_size}')]\n",
    "        X.columns = X.columns.str.extract(r'(\\w+)_\\w+$')[0]\n",
    "\n",
    "    # Calculate feature magnitudes from 3D vector\n",
    "    feature_names = get_features_list({domain: dataset})\n",
    "    result = pd.DataFrame()\n",
    "    for name in feature_names:              \n",
    "        # Remove prefix: temporal, spectral\n",
    "        name = re.search(r'[a-z]+_([\\w\\_]+)', name).group(1)\n",
    "        vector_dims = [f'{dim}_{name}' for dim in axis]\n",
    "        result[name] = X[vector_dims].apply(np.linalg.norm, axis=1)\n",
    "    X = result\n",
    "\n",
    "    # Batch / Online hold-out (balance and event sequencing)\n",
    "    train_size = 0.8\n",
    "    if 'online' in row and row['online']:\n",
    "        # Shuffle order within severity level and order event with increasing severity\n",
    "        groups = [\n",
    "            df.sample(frac=1, random_state=10)\n",
    "            for i, df in (\n",
    "                features.sort_values(by='severity_level').groupby('severity_level')\n",
    "            )\n",
    "        ]\n",
    "        rows = list(pd.concat(groups).index)\n",
    "        X = X.loc[rows].reset_index(drop=True)\n",
    "        Y = Y.loc[rows].reset_index(drop=True)\n",
    "\n",
    "        X_train, X_test, Y_train, Y_test = train_test_split(\n",
    "            X, Y, train_size=train_size, random_state=10\n",
    "        )   \n",
    "        X_train, X_test, Y_train, Y_test = (\n",
    "            X_train.sort_index(), X_test.sort_index(),\n",
    "            Y_train.sort_index(), Y_test.sort_index()\n",
    "        )\n",
    "\n",
    "    else:\n",
    "        oversample = RandomOverSampler(sampling_strategy='not majority', random_state=10)\n",
    "        X, Y = oversample.fit_resample(X, Y.to_numpy())\n",
    "        X.reset_index(drop=True, inplace=True)\n",
    "        Y = pd.Series(Y)\n",
    "\n",
    "        X_train, X_test, Y_train, Y_test = train_test_split(\n",
    "            X, Y, train_size=train_size, stratify=Y, random_state=10\n",
    "        )\n",
    "\n",
    "        ################ KEEP HERE ############################x\n",
    "        scaler = MinMaxScaler()\n",
    "        X_train[X_train.columns] = scaler.fit_transform(X_train)\n",
    "        X_test[X_test.columns] = scaler.transform(X_test)\n",
    "        ##############################################\n",
    "\n",
    "    return X_train, X_test, Y_train, Y_test\n",
    "\n",
    "\n",
    "def get_features_list(domains):\n",
    "    features = []\n",
    "    for dname, dataset in domains.items():\n",
    "        names = pd.read_csv(dataset)\n",
    "        names = names.columns.str.extract(r'([a-z]{2})_([a-z\\_\\-]+)')[1].unique()\n",
    "        features.extend([f'{dname}_{col.strip(\"_\")}' for col in names if not pd.isnull(col)])\n",
    "\n",
    "    return features\n",
    "\n",
    "def knn_fsel_evaluation(domain, source, neighbours=N_NEIGHBORS, filename='best_set/rank_product.csv'):\n",
    "    columns = get_features_list({domain: source})\n",
    "    best_set_membership = pd.read_csv(os.path.join('../FeatureSelection/', filename))\n",
    "\n",
    "    model = []\n",
    "    groupby_columns = ['target', 'placement']\n",
    "    for key, group in tqdm(best_set_membership.groupby(by=groupby_columns)):\n",
    "        situation = group[columns][group == True].count(axis=0).sort_values(ascending=False).head(3)\n",
    "        features = [re.search(r'[a-z+]_(\\w+)', s).group(1) for s in situation.index]\n",
    "\n",
    "        result = dict(zip(groupby_columns, key))\n",
    "        x_train, x_test, y_train, y_test = load_source(source, domain, result)\n",
    "        score = nn.knn_one_case_eval(neighbours, features, x_train, y_train, x_test, y_test)\n",
    "\n",
    "        result.update(score)\n",
    "        model.append(result)\n",
    "\n",
    "    return pd.DataFrame.from_records(model)\n",
    "\n",
    "def knn_neighbours_eval(domain, dataset):\n",
    "    train_rates = pd.DataFrame()\n",
    "    test_rates = pd.DataFrame()\n",
    "    for n in range(3, 21, 2):\n",
    "        scores = (\n",
    "            knn_fsel_evaluation(domain, dataset, neighbours=n)\n",
    "            .drop(columns=['features'])\n",
    "            .set_index(['target', 'placement'])\n",
    "        )\n",
    "        train_rates[n] = scores['train_error_rate']\n",
    "        test_rates[n] = scores['test_error_rate']\n",
    "    return train_rates, test_rates"
   ]
  },
  {
   "cell_type": "markdown",
   "id": "9bf2a32d-8a8b-44c9-990b-2f400fdbf3f8",
   "metadata": {},
   "source": [
    "#### Classification with kNN (all features)"
   ]
  },
  {
   "cell_type": "code",
   "execution_count": null,
   "id": "6b5a69d3-46ee-44aa-9863-a217a7c45bed",
   "metadata": {},
   "outputs": [],
   "source": [
    "# Time domain to fault\n",
    "row = {'target': 'fault', 'placement': 'A', 'online': False}\n",
    "x_train, x_test, y_train, y_test = load_source(TD_FEATURES, 'temporal', row)\n",
    "nn.knn_evaluation(x_train, y_train, x_test, y_test)"
   ]
  },
  {
   "cell_type": "code",
   "execution_count": null,
   "id": "5e5fc43f",
   "metadata": {},
   "outputs": [],
   "source": [
    "row = {'target': 'fault', 'placement': 'A', 'online': False}\n",
    "x_train, x_test, y_train, y_test = load_source(FD_FEATURES, 'spectral', row)\n",
    "nn.knn_evaluation(x_train, y_train, x_test, y_test)"
   ]
  },
  {
   "cell_type": "code",
   "execution_count": null,
   "metadata": {},
   "outputs": [],
   "source": [
    "row = {'target': 'anomaly_80', 'placement': 'A', 'online': False}\n",
    "x_train, x_test, y_train, y_test = load_source(TD_FEATURES, 'temporal', row)\n",
    "nn.knn_evaluation(x_train, y_train, x_test, y_test)"
   ]
  },
  {
   "cell_type": "code",
   "execution_count": null,
   "id": "dc1b6ef5",
   "metadata": {},
   "outputs": [],
   "source": [
    "row = {'target': 'anomaly_80', 'placement': 'A', 'online': False}\n",
    "x_train, x_test, y_train, y_test = load_source(FD_FEATURES, 'spectral', row)\n",
    "nn.knn_evaluation(x_train, y_train, x_test, y_test)"
   ]
  },
  {
   "cell_type": "markdown",
   "id": "4aa42e15",
   "metadata": {},
   "source": [
    "B"
   ]
  },
  {
   "cell_type": "code",
   "execution_count": null,
   "id": "e119e9bf",
   "metadata": {},
   "outputs": [],
   "source": [
    "row = {'target': 'fault', 'placement': 'B', 'online': False}\n",
    "x_train, x_test, y_train, y_test = load_source(TD_FEATURES, 'temporal', row)\n",
    "nn.knn_evaluation(x_train, y_train, x_test, y_test)"
   ]
  },
  {
   "cell_type": "code",
   "execution_count": null,
   "id": "c0596b6c",
   "metadata": {},
   "outputs": [],
   "source": [
    "row = {'target': 'fault', 'placement': 'B', 'online': False}\n",
    "x_train, x_test, y_train, y_test = load_source(FD_FEATURES, 'spectral', row)\n",
    "nn.knn_evaluation(x_train, y_train, x_test, y_test)"
   ]
  },
  {
   "cell_type": "code",
   "execution_count": null,
   "id": "87c7f608",
   "metadata": {},
   "outputs": [],
   "source": [
    "row = {'target': 'anomaly_80', 'placement': 'B', 'online': False}\n",
    "x_train, x_test, y_train, y_test = load_source(TD_FEATURES, 'temporal', row)\n",
    "nn.knn_evaluation(x_train, y_train, x_test, y_test)"
   ]
  },
  {
   "cell_type": "code",
   "execution_count": null,
   "id": "55517fd6",
   "metadata": {},
   "outputs": [],
   "source": [
    "row = {'target': 'anomaly_90', 'placement': 'B', 'online': False}\n",
    "x_train, x_test, y_train, y_test = load_source(FD_FEATURES, 'spectral', row)\n",
    "nn.knn_evaluation(x_train, y_train, x_test, y_test)"
   ]
  },
  {
   "cell_type": "markdown",
   "id": "23b1992a",
   "metadata": {},
   "source": [
    "Performance - Global best and PCA"
   ]
  },
  {
   "cell_type": "code",
   "execution_count": null,
   "id": "beb063e5",
   "metadata": {},
   "outputs": [],
   "source": [
    "x_train, x_test, y_train, y_test = load_source(TD_FEATURES, 'temporal', row)\n",
    "\n",
    "\n",
    "def knn_all_features_accuracy(conditions, pca=None) -> pd.DataFrame:\n",
    "    cases = []\n",
    "    for row in tqdm(conditions):\n",
    "        for domain_label, dataset in domains.items():\n",
    "            x_train, x_test, y_train, y_test = load_source(dataset, domain_label, row)\n",
    "            if pca is not None:\n",
    "                model = PCA(n_components=pca).fit(x_train)\n",
    "                x_train = pd.DataFrame(model.transform(x_train))\n",
    "                x_test = pd.DataFrame(model.transform(x_test))\n",
    "\n",
    "            knn = KNeighborsClassifier(n_neighbors=N_NEIGHBORS, metric='euclidean', algorithm='kd_tree')\n",
    "            knn.fit(x_train, y_train)\n",
    "            y_predict_train = knn.predict(x_train)\n",
    "            y_predict_test = knn.predict(x_test)\n",
    "\n",
    "            case = {\n",
    "                'train_accuracy': metrics.accuracy_score(y_train, y_predict_train),\n",
    "                'train_precision': metrics.precision_score(y_train, y_predict_train, average='micro'),\n",
    "                'train_recall': metrics.recall_score(y_train, y_predict_train, average='micro'),\n",
    "                'train_error_rate': np.mean(y_train != y_predict_train),\n",
    "                'test_accuracy': metrics.accuracy_score(y_test, y_predict_test),\n",
    "                'test_precision': metrics.precision_score(y_test, y_predict_test, average='micro'),\n",
    "                'test_recall': metrics.recall_score(y_test, y_predict_test, average='micro'),\n",
    "                'test_error_rate': np.mean(y_test != y_predict_test)\n",
    "            }\n",
    "            cases.append({**row, 'domain': domain_label, **case})\n",
    "\n",
    "    return pd.DataFrame.from_records(cases)\n",
    "\n",
    "\n",
    "column_names = ['target', 'placement', 'online']\n",
    "initial_conditions = [\n",
    "    dict(zip(column_names, row)) \n",
    "    for row in itertools.product(target, placement, [False])\n",
    "]\n",
    "all_features_accuracies = knn_all_features_accuracy(initial_conditions, pca=None)\n",
    "all_features_accuracies"
   ]
  },
  {
   "cell_type": "code",
   "execution_count": null,
   "id": "ec4fcd17",
   "metadata": {},
   "outputs": [],
   "source": [
    "column_names = ['target', 'placement', 'online']\n",
    "initial_conditions = [\n",
    "    dict(zip(column_names, row)) \n",
    "    for row in itertools.product(target, placement, [False])\n",
    "]\n",
    "pca_all_features_accuracies = knn_all_features_accuracy(initial_conditions, pca=3)\n",
    "pca_all_features_accuracies"
   ]
  },
  {
   "cell_type": "markdown",
   "id": "6c1a7bb7",
   "metadata": {},
   "source": [
    "---\n",
    "Experiments and best performing feature combinations\n",
    "- combinations of all 3 members subsets of features (get best performace train accuracy)"
   ]
  },
  {
   "cell_type": "code",
   "execution_count": null,
   "id": "4c08f675",
   "metadata": {},
   "outputs": [],
   "source": [
    "def find_knn_best(conditions) -> pd.DataFrame:\n",
    "    best = []\n",
    "    train_range = []\n",
    "    test_range = []\n",
    "    all_results = pd.DataFrame()\n",
    "    for row in tqdm(conditions):\n",
    "        for domain_label, dataset in domains.items():\n",
    "            x_train, x_test, y_train, y_test = load_source(dataset, domain_label, row)\n",
    "            result = nn.knn_feature_combinations(N_NEIGHBORS, list(x_train.columns), 3, x_train, y_train, x_test, y_test)\n",
    "\n",
    "            top_result = result.head(1).to_dict(orient='index')[0]\n",
    "            train_accuracies = result.describe()['train_accuracy'].to_dict()\n",
    "            test_accuracies = result.describe()['test_accuracy'].to_dict()\n",
    "\n",
    "            for k, v in row.items():\n",
    "                result[k] = v\n",
    "            result['domain'] = domain_label\n",
    "            all_results = pd.concat([all_results, result])\n",
    "\n",
    "            best.append({**row, 'domain': domain_label, **top_result})\n",
    "            train_range.append({**row, 'domain': domain_label, **train_accuracies})\n",
    "            test_range.append({**row, 'domain': domain_label, **test_accuracies})\n",
    "    return (\n",
    "        all_results,\n",
    "        pd.DataFrame.from_records(best),\n",
    "        pd.DataFrame.from_records(train_range),\n",
    "        pd.DataFrame.from_records(test_range)\n",
    "    )\n",
    "\n",
    "\n",
    "column_names = ['target', 'placement', 'online']\n",
    "initial_conditions = [\n",
    "    dict(zip(column_names, row)) \n",
    "    for row in itertools.product(target, placement, online)\n",
    "]\n",
    "\n",
    "all_permut_results, best, train_range, test_range = find_knn_best(initial_conditions)"
   ]
  },
  {
   "cell_type": "code",
   "execution_count": null,
   "id": "3319da0b",
   "metadata": {},
   "outputs": [],
   "source": [
    "best.to_csv('best_knn.csv', index=False)\n",
    "train_range.to_csv('knn_train_accuracy_range.csv', index=False)\n",
    "test_range.to_csv('knn_test_accuracy_range.csv', index=False)"
   ]
  },
  {
   "cell_type": "code",
   "execution_count": null,
   "id": "d5d7b759",
   "metadata": {},
   "outputs": [],
   "source": [
    "all_permut_results"
   ]
  },
  {
   "cell_type": "code",
   "execution_count": null,
   "id": "0333272d",
   "metadata": {},
   "outputs": [],
   "source": [
    "# Plain model range\n",
    "def plot_all_models_performance_permut(experiments, metric):\n",
    "    fig, ax = plt.subplots(1, 2, figsize=(10, 5), sharey=True)\n",
    "    groups = experiments.groupby(by='target')\n",
    "\n",
    "    i = 0\n",
    "    for target in sorted(groups, key=lambda x: x[0], reverse=True):\n",
    "        target, group = target\n",
    "        if target == 'anomaly_80':\n",
    "            continue\n",
    "        ax[i].grid()\n",
    "        ax[i].set_title(target)\n",
    "        \n",
    "        boxplot_data = []\n",
    "        for attr, group in group.groupby(by=['placement', 'domain']): \n",
    "            place, domain = attr\n",
    "            boxplot_data.append((place, domain, group[metric].to_list()))\n",
    "\n",
    "        s = sorted(sorted(boxplot_data, key=lambda x: x[1], reverse=True), key=lambda x: x[0])\n",
    "        boxplot_data = {f'{x[0]}, {x[1]}': x[2] for x in s}\n",
    "\n",
    "        ax[i].boxplot(\n",
    "            boxplot_data.values(),\n",
    "            labels=boxplot_data.keys(),\n",
    "            medianprops = {'linewidth': 2, 'color': 'black'})\n",
    "        ax[0].set_ylabel('Accuracy')\n",
    "        ax[i].set_xlabel('Placement and domain')\n",
    "        i += 1\n",
    "\n",
    "\n",
    "plot_all_models_performance_permut(all_permut_results, 'train_accuracy')\n",
    "plt.show()\n",
    "plot_all_models_performance_permut(all_permut_results, 'test_accuracy')\n",
    "plt.show()"
   ]
  },
  {
   "cell_type": "markdown",
   "id": "a27d8b87",
   "metadata": {},
   "source": [
    "Best combination of features"
   ]
  },
  {
   "cell_type": "code",
   "execution_count": null,
   "id": "71fd6cd0",
   "metadata": {},
   "outputs": [],
   "source": [
    "best = pd.read_csv('best_knn.csv')\n",
    "best[best['target', 'placement', 'domain', 'features', 'train_accuracy', 'test_accuracy']].sort_values(by=['placement', 'target'])"
   ]
  },
  {
   "cell_type": "markdown",
   "id": "c4e3c0a1",
   "metadata": {},
   "source": [
    "Chosen features"
   ]
  },
  {
   "cell_type": "markdown",
   "id": "fb67e316",
   "metadata": {},
   "source": [
    "Accuracy of all kNN model obtained by combinations of 3 features (unlimited RPM)"
   ]
  },
  {
   "cell_type": "code",
   "execution_count": null,
   "id": "68cd82c4",
   "metadata": {},
   "outputs": [],
   "source": [
    "def plot_all_models_performance_3feat(df, best, chosen, accuracy_type):\n",
    "    best_selection = best[df[['target', 'placement', 'domain', 'train_accuracy', 'test_accuracy']]]\n",
    "    chosen_set = chosen[['target', 'placement', 'domain', 'train_accuracy', 'test_accuracy']]\n",
    "\n",
    "    fig, ax = plt.subplots(1, 3, figsize=(15, 5), sharey=True)\n",
    "    i = 0\n",
    "    for pos, group in df.groupby(by='target'):\n",
    "        columns = list(group['placement'] + ' (' + group['domain'] + ')')\n",
    "        ax[i].grid()\n",
    "        ax[i].set_title(pos)\n",
    "\n",
    "        ax[i].errorbar(columns, group['mean'], group['std'], fmt='ok', lw=10, zorder=1)\n",
    "        ax[i].errorbar(\n",
    "            columns, group['mean'], \n",
    "            [group['mean'] - group['min'], group['max'] - group['mean']],\n",
    "            fmt='.k', ecolor='k', lw=1, zorder=2)\n",
    "\n",
    "         # Dot for accuracy of best feature set\n",
    "        y_best = list(best_selection[best_selection['target'] == pos][accuracy_type])\n",
    "        ax[i].scatter(columns, y_best, color='green', zorder=3)\n",
    "\n",
    "        # Dot for accuracy of chosen feature set\n",
    "        y_chosen = list(chosen_set[chosen_set['target'] == pos][accuracy_type])\n",
    "        ax[i].scatter(columns, y_chosen, color='orange', zorder=4)\n",
    "        \n",
    "        ax[0].set_ylabel('Accuracy')\n",
    "        ax[i].set_xlabel('Placement and domain')\n",
    "        i += 1\n"
   ]
  },
  {
   "cell_type": "markdown",
   "id": "88089af9",
   "metadata": {},
   "source": [
    "### Rank product chosen features"
   ]
  },
  {
   "cell_type": "code",
   "execution_count": null,
   "id": "8c13c4b6",
   "metadata": {},
   "outputs": [],
   "source": [
    "temporal_chosen =  knn_fsel_evaluation('temporal', TD_FEATURES, filename='best_set/rank_product.csv')\n",
    "temporal_chosen['domain'] = 'temporal'\n",
    "temporal_chosen = temporal_chosen[['target', 'placement', 'domain', 'features', 'train_accuracy', 'test_accuracy']]\n",
    "\n",
    "spectral_chosen = knn_fsel_evaluation('spectral', FD_FEATURES, filename='best_set/rank_product.csv')\n",
    "spectral_chosen['domain'] = 'spectral'\n",
    "spectral_chosen = spectral_chosen[['target', 'placement', 'domain', 'features', 'train_accuracy', 'test_accuracy']]\n",
    "\n",
    "chosen_rankproduct = pd.concat([temporal_chosen, spectral_chosen]).sort_values(by=['placement', 'target'])\n",
    "chosen_rankproduct"
   ]
  },
  {
   "cell_type": "code",
   "execution_count": null,
   "id": "3756902b",
   "metadata": {},
   "outputs": [],
   "source": [
    "best = pd.read_csv('best_knn.csv')\n",
    "train_accuracy = pd.read_csv('knn_train_accuracy_range.csv')\n",
    "plot_all_models_performance_3feat(train_accuracy, best, chosen_rankproduct, 'train_accuracy')\n",
    "plt.show()"
   ]
  },
  {
   "cell_type": "code",
   "execution_count": null,
   "id": "9717f1df",
   "metadata": {},
   "outputs": [],
   "source": [
    "best = pd.read_csv('best_knn.csv')\n",
    "test_accuracy = pd.read_csv('knn_test_accuracy_range.csv')\n",
    "plot_all_models_performance_3feat(test_accuracy, best, chosen_rankproduct, 'test_accuracy')\n",
    "plt.show()"
   ]
  },
  {
   "cell_type": "markdown",
   "id": "8d706af7",
   "metadata": {},
   "source": [
    "#### Correlation chosen features"
   ]
  },
  {
   "cell_type": "code",
   "execution_count": null,
   "id": "8906cfb8",
   "metadata": {},
   "outputs": [],
   "source": [
    "temporal_chosen =  knn_fsel_evaluation('temporal', TD_FEATURES, filename='best_set/corr.csv')\n",
    "temporal_chosen['domain'] = 'temporal'\n",
    "temporal_chosen = temporal_chosen[temporal_chosen][['target', 'placement', 'domain', 'features', 'train_accuracy', 'test_accuracy']]\n",
    "\n",
    "spectral_chosen = knn_fsel_evaluation('spectral', FD_FEATURES, filename='best_set/corr.csv')\n",
    "spectral_chosen['domain'] = 'spectral'\n",
    "spectral_chosen = spectral_chosen[spectral_chosen][['target', 'placement', 'domain', 'features', 'train_accuracy', 'test_accuracy']]\n",
    "\n",
    "chosen_corr = pd.concat([temporal_chosen, spectral_chosen]).sort_values(by=['target', 'placement'])\n",
    "chosen_corr"
   ]
  },
  {
   "cell_type": "code",
   "execution_count": null,
   "id": "b8320ebb",
   "metadata": {},
   "outputs": [],
   "source": [
    "best = pd.read_csv('best_knn.csv')\n",
    "train_accuracy = pd.read_csv('knn_train_accuracy_range.csv')\n",
    "plot_all_models_performance_3feat(train_accuracy, best, chosen_corr, 'train_accuracy')\n",
    "plt.show()"
   ]
  },
  {
   "cell_type": "code",
   "execution_count": null,
   "id": "aa5dc5a0",
   "metadata": {},
   "outputs": [],
   "source": [
    "best = pd.read_csv('best_knn.csv')\n",
    "test_accuracy = pd.read_csv('knn_test_accuracy_range.csv')\n",
    "plot_all_models_performance_3feat(test_accuracy, best, chosen_corr, 'test_accuracy')\n",
    "plt.show()"
   ]
  },
  {
   "cell_type": "markdown",
   "id": "f724e058",
   "metadata": {},
   "source": [
    "#### F statistic chosen features"
   ]
  },
  {
   "cell_type": "code",
   "execution_count": null,
   "id": "133e6f31",
   "metadata": {},
   "outputs": [],
   "source": [
    "temporal_chosen =  knn_fsel_evaluation('temporal', TD_FEATURES, filename='best_set/fstat.csv')\n",
    "temporal_chosen['domain'] = 'temporal'\n",
    "temporal_chosen = temporal_chosen[temporal_chosen][['target', 'placement', 'domain', 'features', 'train_accuracy', 'test_accuracy']]\n",
    "\n",
    "spectral_chosen = knn_fsel_evaluation('spectral', FD_FEATURES, filename='best_set/fstat.csv')\n",
    "spectral_chosen['domain'] = 'spectral'\n",
    "spectral_chosen = spectral_chosen[spectral_chosen][['target', 'placement', 'domain', 'features', 'train_accuracy', 'test_accuracy']]\n",
    "\n",
    "chosen_fstat = pd.concat([temporal_chosen, spectral_chosen]).sort_values(by=['target', 'placement'])\n",
    "chosen_fstat"
   ]
  },
  {
   "cell_type": "code",
   "execution_count": null,
   "id": "03a2754f",
   "metadata": {},
   "outputs": [],
   "source": [
    "best = pd.read_csv('best_knn.csv')\n",
    "train_accuracy = pd.read_csv('knn_train_accuracy_range.csv')\n",
    "plot_all_models_performance_3feat(train_accuracy, best, chosen_fstat, 'train_accuracy')\n",
    "plt.show()"
   ]
  },
  {
   "cell_type": "code",
   "execution_count": null,
   "id": "fea31ecb",
   "metadata": {},
   "outputs": [],
   "source": [
    "best = pd.read_csv('best_knn.csv')\n",
    "test_accuracy = pd.read_csv('knn_test_accuracy_range.csv')\n",
    "plot_all_models_performance_3feat(test_accuracy, best, chosen_fstat, 'test_accuracy')\n",
    "plt.show()"
   ]
  },
  {
   "cell_type": "markdown",
   "id": "7565ec92",
   "metadata": {},
   "source": [
    "#### Mutual information chosen features"
   ]
  },
  {
   "cell_type": "code",
   "execution_count": null,
   "id": "534b4641",
   "metadata": {},
   "outputs": [],
   "source": [
    "temporal_chosen =  knn_fsel_evaluation('temporal', TD_FEATURES, filename='best_set/mi.csv')\n",
    "temporal_chosen['domain'] = 'temporal'\n",
    "temporal_chosen = temporal_chosen[['target', 'placement', 'domain', 'features', 'train_accuracy', 'test_accuracy']]\n",
    "\n",
    "spectral_chosen = knn_fsel_evaluation('spectral', FD_FEATURES, filename='best_set/mi.csv')\n",
    "spectral_chosen['domain'] = 'spectral'\n",
    "spectral_chosen = spectral_chosen[['target', 'placement', 'domain', 'features', 'train_accuracy', 'test_accuracy']]\n",
    "\n",
    "chosen_mi = pd.concat([temporal_chosen, spectral_chosen]).sort_values(by=['target', 'placement'])\n",
    "chosen_mi"
   ]
  },
  {
   "cell_type": "code",
   "execution_count": null,
   "id": "03514967",
   "metadata": {},
   "outputs": [],
   "source": [
    "best = pd.read_csv('best_knn.csv')\n",
    "train_accuracy = pd.read_csv('knn_train_accuracy_range.csv') \n",
    "plot_all_models_performance_3feat(train_accuracy, best, chosen_mi, 'train_accuracy')\n",
    "plt.show()"
   ]
  },
  {
   "cell_type": "code",
   "execution_count": null,
   "id": "9066316d",
   "metadata": {},
   "outputs": [],
   "source": [
    "best = pd.read_csv('best_knn.csv')\n",
    "test_accuracy = pd.read_csv('knn_test_accuracy_range.csv')\n",
    "plot_all_models_performance_3feat(test_accuracy, best, chosen_mi, 'test_accuracy')\n",
    "plt.show()"
   ]
  },
  {
   "cell_type": "markdown",
   "id": "6bec5905",
   "metadata": {},
   "source": [
    "#### Scores side by side (bar chart)\n",
    "    - best permuted, pca, rank product, corr, fstat, mi"
   ]
  },
  {
   "cell_type": "code",
   "execution_count": null,
   "id": "0fe08a93",
   "metadata": {},
   "outputs": [],
   "source": [
    "def plot_models_performance_bar(df, best, all_feat, all_feat_pca, ch_rank, ch_corr, ch_fstat, ch_mi, accuracy_type):\n",
    "    columns = ['target', 'placement', 'domain', 'train_accuracy', 'test_accuracy']\n",
    "    sort_columns = ['target', 'placement']\n",
    "\n",
    "    best = best[columns].sort_values(by=sort_columns)\n",
    "    all_feat = all_feat[columns].sort_values(by=sort_columns)\n",
    "    all_feat_pca = all_feat_pca[columns].sort_values(by=sort_columns)\n",
    "    ch_rank = ch_rank[columns].sort_values(by=sort_columns)\n",
    "    ch_corr = ch_corr[columns].sort_values(by=sort_columns)\n",
    "    ch_fstat = ch_fstat[columns].sort_values(by=sort_columns)\n",
    "    ch_mi = ch_mi[columns].sort_values(by=sort_columns)\n",
    "\n",
    "    fig, ax = plt.subplots(1, 2, figsize=(15, 5))\n",
    "    i = 0\n",
    "    for pos, group in df[df['target'].isin(['anomaly_80', 'fault'])].groupby(by='target'):\n",
    "        columns = list(group['placement'] + ' (' + group['domain'] + ')')\n",
    "        x = np.arange(len(columns))  # the label locations\n",
    "        width = 0.13\n",
    "\n",
    "        y_best = list(all_feat[all_feat['target'] == pos][accuracy_type])\n",
    "        rect = ax[i].bar(x - 3*width, y_best, width, label='All features')\n",
    "        ax[i].bar_label(rect, padding=3, fmt=lambda x: f'{x * 100:.0f}')\n",
    "\n",
    "        y_best = list(all_feat_pca[all_feat_pca['target'] == pos][accuracy_type])\n",
    "        rect = ax[i].bar(x - 2*width, y_best, width, label='PCA 3 PC')\n",
    "        ax[i].bar_label(rect, padding=3, fmt=lambda x: f'{x * 100:.0f}')\n",
    "\n",
    "        y_best = list(best[best['target'] == pos][accuracy_type])\n",
    "        rect = ax[i].bar(x - 1*width, y_best, width, label='Best 3 features')\n",
    "        ax[i].bar_label(rect, padding=3, fmt=lambda x: f'{x * 100:.0f}')\n",
    "\n",
    "        y_chosen = list(ch_rank[ch_rank['target'] == pos][accuracy_type])\n",
    "        rect = ax[i].bar(x - 0*width, y_chosen, width, label='Rank product')\n",
    "        ax[i].bar_label(rect, padding=3, fmt=lambda x: f'{x * 100:.0f}')\n",
    "\n",
    "        y_chosen = list(ch_corr[ch_corr['target'] == pos][accuracy_type])\n",
    "        rect = ax[i].bar(x + 1*width, y_chosen, width, label='Correlation')\n",
    "        ax[i].bar_label(rect, padding=3, fmt=lambda x: f'{x * 100:.0f}')\n",
    "\n",
    "        y_chosen = list(ch_fstat[ch_fstat['target'] == pos][accuracy_type])\n",
    "        rect = ax[i].bar(x + 2*width, y_chosen, width, label='F statistic')\n",
    "        ax[i].bar_label(rect, padding=3, fmt=lambda x: f'{x * 100:.0f}')\n",
    "\n",
    "        y_chosen = list(ch_mi[ch_mi['target'] == pos][accuracy_type])\n",
    "        rect = ax[i].bar(x + 3*width, y_chosen, width, label='Mutual information')\n",
    "        ax[i].bar_label(rect, padding=3, fmt=lambda x: f'{x * 100:.0f}')\n",
    "\n",
    "        ax[i].set_xticks(x, columns)\n",
    "        ax[i].legend(loc='lower right')\n",
    "        ax[i].set_ylim(0.5, None)\n",
    "        ax[i].set_title(pos)\n",
    "        \n",
    "        ax[0].set_ylabel('Accuracy')\n",
    "        ax[i].set_xlabel('Placement and domain')\n",
    "        i += 1"
   ]
  },
  {
   "cell_type": "markdown",
   "id": "806c328c",
   "metadata": {},
   "source": [
    "- Train\n",
    "- Test"
   ]
  },
  {
   "cell_type": "code",
   "execution_count": null,
   "id": "2f60d87f",
   "metadata": {},
   "outputs": [],
   "source": [
    "best = pd.read_csv('best_knn.csv')\n",
    "all_features_accuracies = all_features_accuracies[all_features_accuracies]\n",
    "pca_all_features_accuracies = pca_all_features_accuracies[pca_all_features_accuracies]\n",
    "train_accuracy = pd.read_csv('knn_train_accuracy_range.csv')\n",
    "\n",
    "#plt.style.use('default')\n",
    "plot_models_performance_bar(\n",
    "    train_accuracy, all_features_accuracies, pca_all_features_accuracies, best,\n",
    "    chosen_rankproduct, chosen_corr, chosen_fstat, chosen_mi, 'train_accuracy'\n",
    ")\n",
    "plt.tight_layout()\n",
    "plt.show()"
   ]
  },
  {
   "cell_type": "code",
   "execution_count": null,
   "metadata": {},
   "outputs": [],
   "source": [
    "test_accuracy = pd.read_csv('knn_test_accuracy_range.csv')\n",
    "#plt.style.use('default')\n",
    "plot_models_performance_bar(\n",
    "    test_accuracy, all_features_accuracies, pca_all_features_accuracies, best,\n",
    "    chosen_rankproduct, chosen_corr, chosen_fstat, chosen_mi, 'test_accuracy'\n",
    ")\n",
    "plt.tight_layout()\n",
    "plt.show()"
   ]
  },
  {
   "cell_type": "markdown",
   "id": "b56aa45b",
   "metadata": {},
   "source": [
    "### Number of neighbors"
   ]
  },
  {
   "cell_type": "code",
   "execution_count": null,
   "metadata": {},
   "outputs": [],
   "source": [
    "train, test = knn_neighbours_eval('temporal', TD_FEATURES)"
   ]
  },
  {
   "cell_type": "code",
   "execution_count": null,
   "metadata": {},
   "outputs": [],
   "source": [
    "train"
   ]
  },
  {
   "cell_type": "code",
   "execution_count": null,
   "metadata": {},
   "outputs": [],
   "source": [
    "test"
   ]
  },
  {
   "cell_type": "code",
   "execution_count": null,
   "metadata": {},
   "outputs": [],
   "source": [
    "train.T.plot(marker='.', grid=True, figsize=(10, 5), xlabel='Neighbours', ylabel='Error rate')\n",
    "plt.show()\n",
    "test.T.plot(marker='.', grid=True, figsize=(10, 5), xlabel='Neighbours', ylabel='Error rate')\n",
    "plt.show()"
   ]
  },
  {
   "cell_type": "code",
   "execution_count": null,
   "metadata": {},
   "outputs": [],
   "source": [
    "train, test = knn_neighbours_eval('spectral', FD_FEATURES)"
   ]
  },
  {
   "cell_type": "code",
   "execution_count": null,
   "metadata": {},
   "outputs": [],
   "source": [
    "train"
   ]
  },
  {
   "cell_type": "code",
   "execution_count": null,
   "metadata": {},
   "outputs": [],
   "source": [
    "test"
   ]
  },
  {
   "cell_type": "code",
   "execution_count": null,
   "metadata": {},
   "outputs": [],
   "source": [
    "train.T.plot(marker='.', grid=True, figsize=(10, 5), xlabel='Neighbours', ylabel='Error rate')\n",
    "plt.show()\n",
    "test.T.plot(marker='.', grid=True, figsize=(10, 5), xlabel='Neighbours', ylabel='Error rate')\n",
    "plt.show()"
   ]
  },
  {
   "cell_type": "markdown",
   "id": "30120d45",
   "metadata": {},
   "source": [
    "\n",
    "#### Scatter plots of classes"
   ]
  },
  {
   "cell_type": "code",
   "execution_count": null,
   "id": "daa9d14f",
   "metadata": {},
   "outputs": [],
   "source": [
    "temporal_chosen = knn_fsel_evaluation('temporal', TD_FEATURES, filename='best_set/rank_product.csv')\n",
    "temporal_chosen['domain'] = 'temporal'\n",
    "temporal_chosen = temporal_chosen[['target', 'placement', 'domain', 'features']]\n",
    "spectral_chosen = knn_fsel_evaluation('spectral', FD_FEATURES, filename='best_set/rank_product.csv')\n",
    "spectral_chosen['domain'] = 'spectral'\n",
    "spectral_chosen = spectral_chosen[['target', 'placement', 'domain', 'features']]\n",
    "\n",
    "features = pd.concat([temporal_chosen, spectral_chosen])\n",
    "features"
   ]
  },
  {
   "cell_type": "code",
   "execution_count": null,
   "id": "cd9226a0",
   "metadata": {},
   "outputs": [],
   "source": [
    "domains = {\n",
    "    'temporal': TD_FEATURES,\n",
    "    'spectral': FD_FEATURES\n",
    "}\n",
    "faults = features[features['target'] == 'fault']\n",
    "for index, row in faults.iterrows():\n",
    "    label = row['domain']\n",
    "    dataset = domains[label]\n",
    "    x_train, x_test, y_train, y_test = load_source(dataset, label, row)\n",
    "    print(row)\n",
    "    models.cross_cuts_3d(x_train[row['features']], y_train)\n",
    "    plt.show()"
   ]
  },
  {
   "cell_type": "code",
   "execution_count": null,
   "id": "2bad841d",
   "metadata": {},
   "outputs": [],
   "source": [
    "faults = features[features['target'] == 'anomaly_80']\n",
    "for index, row in faults.iterrows():\n",
    "    label = row['domain']\n",
    "    dataset = domains[label]\n",
    "    x_train, x_test, y_train, y_test = load_source(dataset, label, row)\n",
    "    models.cross_cuts_3d_anomalies(x_train, y_train)\n",
    "    plt.show()"
   ]
  }
 ],
 "metadata": {
  "kernelspec": {
   "display_name": "Python 3 (ipykernel)",
   "language": "python",
   "name": "python3"
  },
  "language_info": {
   "codemirror_mode": {
    "name": "ipython",
    "version": 3
   },
   "file_extension": ".py",
   "mimetype": "text/x-python",
   "name": "python",
   "nbconvert_exporter": "python",
   "pygments_lexer": "ipython3",
   "version": "3.11.8"
  }
 },
 "nbformat": 4,
 "nbformat_minor": 5
}
