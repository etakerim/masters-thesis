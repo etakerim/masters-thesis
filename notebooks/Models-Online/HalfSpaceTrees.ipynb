{
 "cells": [
  {
   "cell_type": "markdown",
   "metadata": {},
   "source": [
    "### Online machine learning\n",
    "- Incremental learning experiments"
   ]
  },
  {
   "cell_type": "code",
   "execution_count": null,
   "metadata": {},
   "outputs": [],
   "source": [
    "import os\n",
    "import re\n",
    "from zipfile import ZipFile\n",
    "from pprint import pprint\n",
    "from collections import defaultdict\n",
    "\n",
    "import sys\n",
    "sys.path.append('../')\n",
    "from vibrodiagnostics import (\n",
    "    mafaulda, selection, discovery, models\n",
    ")\n",
    "\n",
    "import numpy as np\n",
    "import pandas as pd\n",
    "import matplotlib.pyplot as plt\n",
    "import seaborn as sb\n",
    "import functools\n",
    "from sklearn import metrics as skmetrics\n",
    "import river\n",
    "from river import (\n",
    "    anomaly,\n",
    "    cluster,\n",
    "    neighbors,\n",
    "    preprocessing,\n",
    "    evaluate,\n",
    "    stream,\n",
    "    metrics,\n",
    "    feature_selection,\n",
    "    stats\n",
    ")\n",
    "import tsfel\n",
    "\n",
    "\n",
    "PATH_PREFIX = '../../datasets/'\n",
    "FEATURES_PATH =  os.path.join(PATH_PREFIX, 'features_data')\n",
    "\n",
    "DATASET_PATH = os.path.join(PATH_PREFIX, 'MAFAULDA.zip')\n",
    "MAFAULDA_METADATA = os.path.join(FEATURES_PATH, 'mafaulda_metadata.csv')\n",
    "\n",
    "TD_FEATURES = os.path.join(FEATURES_PATH, selection.TIME_FEATURES_PATH)\n",
    "FD_FEATURES = os.path.join(FEATURES_PATH, selection.FREQ_FEATURES_PATH)\n",
    "TD_FD_FEATURES = os.path.join(FEATURES_PATH, selection.TIME_AND_FREQ_FEATURES_PATH)\n",
    "\n",
    "TSFEL_FEATURES = os.path.join(FEATURES_PATH, selection.TSFEL_FEATURES_PATH)\n",
    "TSFEL_TD_FEATURES = os.path.join(FEATURES_PATH, selection.TSFEL_TIME_FEATURES_PATH)\n",
    "TSFEL_FD_FEATURES = os.path.join(FEATURES_PATH, selection.TSFEL_FREQ_FEATURES_PATH)\n",
    "TSFEL_SD_FEATURES = os.path.join(FEATURES_PATH, selection.TSFEL_STAT_FEATURES_PATH)\n",
    "\n",
    "\n",
    "FEATURES_FILENAME = FD_FEATURES"
   ]
  },
  {
   "cell_type": "markdown",
   "metadata": {},
   "source": [
    "### Evolution of classes in dataset\n",
    "- [ ] Faults over observations (number of seen until observation)\n",
    "- [ ] Fault severity\n",
    "- [ ] Anomaly (classes and percentages)"
   ]
  },
  {
   "cell_type": "code",
   "execution_count": null,
   "metadata": {},
   "outputs": [],
   "source": [
    "X, y = models.features_subset(FEATURES_FILENAME, selection.FAULT_CLASSES, ['az'], 'fault')\n",
    "discovery.plot_label_occurences(y)\n",
    "plt.show()"
   ]
  },
  {
   "cell_type": "code",
   "execution_count": null,
   "metadata": {},
   "outputs": [],
   "source": [
    "X, y = models.features_subset(FEATURES_FILENAME, selection.FAULT_CLASSES, ['az'], 'anomaly')\n",
    "discovery.plot_label_occurences(y)\n",
    "plt.show()"
   ]
  },
  {
   "cell_type": "markdown",
   "metadata": {},
   "source": [
    "### Half-space trees (Anomaly)"
   ]
  },
  {
   "cell_type": "markdown",
   "metadata": {},
   "source": [
    "#### HST: Parameter = Trees"
   ]
  },
  {
   "cell_type": "code",
   "execution_count": null,
   "metadata": {},
   "outputs": [],
   "source": [
    "X, y = models.features_subset(FEATURES_FILENAME, selection.FAULT_CLASSES, ['az'], 'anomaly')\n",
    "\n",
    "results = []\n",
    "for tree in (1, 10, 30, 50, 100, 500):\n",
    "    hst = (\n",
    "        preprocessing.MinMaxScaler() |\n",
    "        anomaly.HalfSpaceTrees(n_trees=tree, height=3, window_size=30, seed=10)\n",
    "    )\n",
    "    steps = evaluate.iter_progressive_val_score(\n",
    "        model=hst,\n",
    "        dataset=stream.iter_pandas(X, y),\n",
    "        metric=metrics.ROCAUC(),\n",
    "        step=100\n",
    "    )\n",
    "    evolution = []\n",
    "    for step in steps:\n",
    "        evolution.append({\n",
    "            'Step': step['Step'],\n",
    "            tree: step['ROCAUC'].get()\n",
    "        })\n",
    "\n",
    "    evolution = pd.DataFrame.from_records(evolution).set_index('Step')\n",
    "    results.append(evolution)\n",
    "\n",
    "results = functools.reduce(lambda a, b: pd.merge(a, b, on=['Step'], how='inner'), results)\n",
    "ax = results.plot(grid=True, figsize=(15, 4), title='Half-space Tree AUC (height = 3, window = 30)', xlabel='Observation', ylabel='AUC', marker='.')\n",
    "ax.legend(title='Trees')\n",
    "plt.show()\n",
    "results.tail(1)"
   ]
  },
  {
   "cell_type": "markdown",
   "metadata": {},
   "source": [
    "#### HST: Parameter = Window size"
   ]
  },
  {
   "cell_type": "code",
   "execution_count": null,
   "metadata": {},
   "outputs": [],
   "source": [
    "X, y = models.features_subset(FEATURES_FILENAME, selection.FAULT_CLASSES, ['az'], 'anomaly')\n",
    "\n",
    "results = []\n",
    "for window in (1, 10, 30, 50, 100, 500):\n",
    "    hst = (\n",
    "        preprocessing.MinMaxScaler() |\n",
    "        anomaly.HalfSpaceTrees(n_trees=10, height=3, window_size=window, seed=10)\n",
    "    )\n",
    "    steps = evaluate.iter_progressive_val_score(\n",
    "        model=hst,\n",
    "        dataset=stream.iter_pandas(X, y),\n",
    "        metric=metrics.ROCAUC(),\n",
    "        step=100\n",
    "    )\n",
    "    evolution = []\n",
    "    for step in steps:\n",
    "        evolution.append({\n",
    "            'Step': step['Step'],\n",
    "            window: step['ROCAUC'].get()\n",
    "        })\n",
    "\n",
    "    evolution = pd.DataFrame.from_records(evolution).set_index('Step')\n",
    "    results.append(evolution)\n",
    "\n",
    "results = functools.reduce(lambda a, b: pd.merge(a, b, on=['Step'], how='inner'), results)\n",
    "ax = results.plot(grid=True, figsize=(15, 4), title='Half-space Tree AUC (trees = 10, height = 3)', xlabel='Observation', ylabel='AUC', marker='.')\n",
    "ax.legend(title='Window size')\n",
    "plt.show()\n",
    "results.tail(1)"
   ]
  },
  {
   "cell_type": "markdown",
   "metadata": {},
   "source": [
    "#### HST: Parameter = Height of tree"
   ]
  },
  {
   "cell_type": "code",
   "execution_count": null,
   "metadata": {},
   "outputs": [],
   "source": [
    "X, y = models.features_subset(FEATURES_FILENAME, selection.FAULT_CLASSES, ['az'], 'anomaly')\n",
    "\n",
    "results = []\n",
    "for height in (1, 2, 3, 4, 5):\n",
    "    hst = (\n",
    "        preprocessing.MinMaxScaler() |\n",
    "        anomaly.HalfSpaceTrees(n_trees=10, height=height, window_size=30, seed=10)\n",
    "    )\n",
    "    steps = evaluate.iter_progressive_val_score(\n",
    "        model=hst,\n",
    "        dataset=stream.iter_pandas(X, y),\n",
    "        metric=metrics.ROCAUC(),\n",
    "        step=100\n",
    "    )\n",
    "    evolution = []\n",
    "    for step in steps:\n",
    "        evolution.append({\n",
    "            'Step': step['Step'],\n",
    "            height: step['ROCAUC'].get()\n",
    "        })\n",
    "\n",
    "    evolution = pd.DataFrame.from_records(evolution).set_index('Step')\n",
    "    results.append(evolution)\n",
    "\n",
    "results = functools.reduce(lambda a, b: pd.merge(a, b, on=['Step'], how='inner'), results)\n",
    "ax = results.plot(grid=True, figsize=(15, 4), title='Half-space Tree AUC (trees = 10, window = 30)', xlabel='Observation', ylabel='AUC', marker='.')\n",
    "ax.legend(title='Tree height')\n",
    "plt.show()\n",
    "results.tail(1)"
   ]
  },
  {
   "cell_type": "markdown",
   "metadata": {},
   "source": [
    "#### HST: Classification clusters"
   ]
  },
  {
   "cell_type": "code",
   "execution_count": null,
   "metadata": {},
   "outputs": [],
   "source": [
    "def hst_visualize_classes(X, y):\n",
    "    hst = (\n",
    "        preprocessing.MinMaxScaler() |\n",
    "        anomaly.HalfSpaceTrees(n_trees=10, height=3, window_size=30, seed=10)\n",
    "    )\n",
    "    y_scores = []\n",
    "    for xs, ys in stream.iter_pandas(X, y):\n",
    "        score = hst.score_one(xs)\n",
    "        hst.learn_one(xs)\n",
    "        y_scores.append(score)\n",
    "\n",
    "    y_scores = np.array(y_scores)\n",
    "    models.project_anomaly_map_plot(X, y, y_scores)\n",
    "\n",
    "\n",
    "X, y = models.features_subset(FEATURES_FILENAME, selection.FAULT_CLASSES, ['az'], 'anomaly')\n",
    "hst_visualize_classes(X, y)"
   ]
  }
 ],
 "metadata": {
  "kernelspec": {
   "display_name": "Python 3 (ipykernel)",
   "language": "python",
   "name": "python3"
  },
  "language_info": {
   "codemirror_mode": {
    "name": "ipython",
    "version": 3
   },
   "file_extension": ".py",
   "mimetype": "text/x-python",
   "name": "python",
   "nbconvert_exporter": "python",
   "pygments_lexer": "ipython3",
   "version": "3.11.5"
  }
 },
 "nbformat": 4,
 "nbformat_minor": 4
}
