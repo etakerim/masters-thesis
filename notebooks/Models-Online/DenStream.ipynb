{
 "cells": [
  {
   "cell_type": "code",
   "execution_count": null,
   "metadata": {},
   "outputs": [],
   "source": [
    "import pandas as pd\n",
    "from river import (\n",
    "    preprocessing,\n",
    "    cluster,\n",
    "    evaluate,\n",
    "    stream,\n",
    "    metrics\n",
    ")\n",
    "import os\n",
    "import sys\n",
    "sys.path.append('../')\n",
    "from vibrodiagnostics import selection, models\n",
    "\n",
    "\n",
    "PATH_PREFIX = '../../datasets/'\n",
    "FEATURES_PATH =  os.path.join(PATH_PREFIX, 'features_data')\n",
    "\n",
    "DATASET_PATH = os.path.join(PATH_PREFIX, 'MAFAULDA.zip')\n",
    "MAFAULDA_METADATA = os.path.join(FEATURES_PATH, 'mafaulda_metadata.csv')\n",
    "\n",
    "TD_FEATURES = os.path.join(FEATURES_PATH, selection.TIME_FEATURES_PATH)\n",
    "FD_FEATURES = os.path.join(FEATURES_PATH, selection.FREQ_FEATURES_PATH)\n",
    "TD_FD_FEATURES = os.path.join(FEATURES_PATH, selection.TIME_AND_FREQ_FEATURES_PATH)\n",
    "\n",
    "TSFEL_FEATURES = os.path.join(FEATURES_PATH, selection.TSFEL_FEATURES_PATH)\n",
    "TSFEL_TD_FEATURES = os.path.join(FEATURES_PATH, selection.TSFEL_TIME_FEATURES_PATH)\n",
    "TSFEL_FD_FEATURES = os.path.join(FEATURES_PATH, selection.TSFEL_FREQ_FEATURES_PATH)\n",
    "TSFEL_SD_FEATURES = os.path.join(FEATURES_PATH, selection.TSFEL_STAT_FEATURES_PATH)"
   ]
  },
  {
   "cell_type": "code",
   "execution_count": null,
   "metadata": {},
   "outputs": [],
   "source": [
    "X, y = models.features_subset(TSFEL_FEATURES, selection.FAULT_CLASSES, ['az'], 'fault')\n",
    "clustering = cluster.DenStream(\n",
    "    decaying_factor=0.01, beta=0.5, mu=2.5, epsilon=0.5, n_samples_init=10\n",
    ")\n",
    "denstream = (\n",
    "    preprocessing.StandardScaler() | clustering\n",
    ")\n",
    "\n",
    "silhouette = metrics.Silhouette()\n",
    "\n",
    "for x, y in stream.iter_pandas(X, y):\n",
    "    y_predict = denstream.predict_one(x)\n",
    "    print([c.calc_center() for c in clustering.clusters.values()])\n",
    "    #silhouette.update(x, y_predict)\n",
    "    denstream.learn_one(x)\n",
    "\n",
    "print(silhouette.get())\n",
    "\n",
    "# Calculate offline silhoute at the end\n",
    "\n",
    "#success = pd.DataFrame.from_records(steps).set_index('Step')\n",
    "#success.plot(grid=True, figsize=(20, 5))"
   ]
  },
  {
   "cell_type": "code",
   "execution_count": null,
   "metadata": {},
   "outputs": [],
   "source": [
    "X, y = models.features_subset(TSFEL_FEATURES, selection.FAULT_CLASSES, ['az'], 'fault')\n",
    "denstream = (\n",
    "    preprocessing.MinMaxScaler() |\n",
    "    cluster.DenStream(\n",
    "        decaying_factor=0.01, beta=0.5, mu=2.5, epsilon=0.5, n_samples_init=10\n",
    "    )\n",
    ")\n",
    "\n",
    "predictions = []\n",
    "for x, y in stream.iter_pandas(X, y):\n",
    "    y_predict = denstream.predict_one(x)\n",
    "    denstream.learn_one(x)              # denstream = denstream.learn_one(x)\n",
    "    predictions.append({'y_true': y, 'y_predict': y_predict})\n",
    "\n",
    "\n",
    "pd.DataFrame.from_records(predictions)"
   ]
  }
 ],
 "metadata": {
  "kernelspec": {
   "display_name": "dp",
   "language": "python",
   "name": "python3"
  },
  "language_info": {
   "codemirror_mode": {
    "name": "ipython",
    "version": 3
   },
   "file_extension": ".py",
   "mimetype": "text/x-python",
   "name": "python",
   "nbconvert_exporter": "python",
   "pygments_lexer": "ipython3",
   "version": "3.11.5"
  }
 },
 "nbformat": 4,
 "nbformat_minor": 2
}
