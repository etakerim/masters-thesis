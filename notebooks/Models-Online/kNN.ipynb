{
 "cells": [
  {
   "cell_type": "markdown",
   "metadata": {},
   "source": [
    "### kNN streaming data"
   ]
  },
  {
   "cell_type": "code",
   "execution_count": 5,
   "metadata": {},
   "outputs": [],
   "source": [
    "DOMAIN = 'fd'\n",
    "\n",
    "from river import preprocessing\n",
    "from river import neighbors, utils, evaluate, stream\n",
    "\n",
    "import pandas as pd\n",
    "from tqdm.notebook import tqdm\n",
    "import matplotlib.pyplot as plt\n",
    "import seaborn as sb\n",
    "\n",
    "import os\n",
    "import sys\n",
    "sys.path.append('../')\n",
    "from vibrodiagnostics import selection, models\n",
    "from vibrodiagnostics.selection import load_td_feat, load_fd_feat, METADATA_COLUMNS_ALL\n",
    "from vibrodiagnostics.models import (\n",
    "    fault_labeling, filter_out_metadata_columns, project_classifier_map_plot\n",
    ")\n",
    "\n",
    "\n",
    "from sklearn.feature_selection import SelectKBest\n",
    "from sklearn import metrics\n",
    "import random\n",
    "import functools\n",
    "from collections import defaultdict\n",
    "from sklearn import metrics as skmetrics\n",
    "\n",
    "\n",
    "FEATURES_PATH =  '../../datasets/features_data/'\n",
    "FAULT_CLASSES = {\n",
    "    'normal': 'N',\n",
    "    'imbalance': 'I',\n",
    "    'horizontal-misalignment': 'HM',\n",
    "    'vertical-misalignment': 'VM'\n",
    "}\n",
    "\n",
    "TD_FEATURES = os.path.join(FEATURES_PATH, selection.TIME_FEATURES_PATH)\n",
    "FD_FEATURES = os.path.join(FEATURES_PATH, selection.FREQ_FEATURES_PATH)\n",
    "TD_FD_FEATURES = os.path.join(FEATURES_PATH, selection.TIME_AND_FREQ_FEATURES_PATH)\n",
    "\n",
    "FEATURE_SETS = [\n",
    "    TD_FEATURES, FD_FEATURES, TD_FD_FEATURES\n",
    "]\n",
    "FEATURES = FEATURE_SETS[0]"
   ]
  },
  {
   "cell_type": "code",
   "execution_count": 6,
   "metadata": {},
   "outputs": [],
   "source": [
    "\n",
    "def knn_online_learn(dataset, label='fault', window_len=1, learn_skip=0, clusters=False):\n",
    "    # Buffer true samples for learning for later: simulate delayed annotation\n",
    "    learning_window = []\n",
    "\n",
    "    # Model consists of scaler to give approximately same weight to all features and kNN\n",
    "    scaler = preprocessing.MinMaxScaler() \n",
    "    knn = neighbors.KNNClassifier(n_neighbors=5)\n",
    "\n",
    "    scores = []                 # List of tuples with accuracy, precision and recall score on each iteration\n",
    "    v_true = []                 # Append y true sample on each iteration\n",
    "    v_predict = []              # Append y predicted sample on each iteration\n",
    "\n",
    "    # Randomize order of seen faults\n",
    "    random.seed(10)\n",
    "    rows_index = dataset.index.to_list()\n",
    "    random.shuffle(rows_index)\n",
    "\n",
    "    skipping = 0\n",
    "    started = False\n",
    "    order_saved = []\n",
    "\n",
    "    for step, idx in enumerate(rows_index):\n",
    "        row = dataset.iloc[idx]\n",
    "        x = {k: v for k, v in dict(row).items() if k not in METADATA_COLUMNS_ALL}\n",
    "\n",
    "        x_scaled = scaler.learn_one(x).transform_one(x)\n",
    "        y_true = row[label]\n",
    "        learning_window.append((x_scaled, y_true))\n",
    "\n",
    "        if started:\n",
    "            # Predict sample after at least one example has been learned\n",
    "            y_predict = knn.predict_one(x_scaled)\n",
    "            v_true.append(y_true)\n",
    "            v_predict.append(y_predict)\n",
    "            order_saved.append(idx)\n",
    "\n",
    "            scores.append([\n",
    "                step,\n",
    "                metrics.accuracy_score(v_true, v_predict),\n",
    "                metrics.precision_score(v_true, v_predict, average='micro'),\n",
    "                metrics.recall_score(v_true, v_predict, average='micro')\n",
    "            ])\n",
    "\n",
    "        # Provide labels after window length has passed\n",
    "        if len(learning_window) == window_len:\n",
    "            for x, y in learning_window:\n",
    "                # Learn first sample at start of window\n",
    "                if skipping == learn_skip:\n",
    "                    started = True\n",
    "                    knn.learn_one(x, y)\n",
    "                    skipping = 0\n",
    "                else:\n",
    "                    skipping += 1\n",
    "            learning_window = []\n",
    "\n",
    "    if clusters:\n",
    "        return pd.Series(v_predict, index=order_saved)\n",
    "        \n",
    "    return pd.DataFrame(scores, columns=['step', 'accuracy', 'precision', 'recall'])"
   ]
  },
  {
   "cell_type": "markdown",
   "metadata": {},
   "source": [
    "Load features"
   ]
  },
  {
   "cell_type": "code",
   "execution_count": 7,
   "metadata": {},
   "outputs": [],
   "source": [
    "\n",
    "if DOMAIN == 'td':\n",
    "    stream = load_td_feat(['az'], path=FEATURES_PATH)\n",
    "    stream = fault_labeling(stream, FAULT_CLASSES)\n",
    "    #stream = stream[['fault', 'anomaly', 'az_rms', 'az_pp', 'az_shape']]\n",
    "\n",
    "elif DOMAIN == 'fd':\n",
    "    stream = load_fd_feat(['az'], path=FEATURES_PATH)\n",
    "    stream = fault_labeling(stream, FAULT_CLASSES)\n",
    "    #stream = stream[['fault', 'anomaly', 'az_centroid_64', 'az_centroid_256', 'az_skew_64', 'az_roll_off_256']] \n",
    "\n",
    "# Warning: leakage information if feature importance is learned based on whole dataset\n",
    "# Chicken and egg problem: cannot know best features without seeing whole dataset, but it is neccessary to find best features"
   ]
  },
  {
   "cell_type": "markdown",
   "metadata": {},
   "source": [
    "Gradual learning\n",
    "- 4 classes - N, VM, HM, I"
   ]
  },
  {
   "cell_type": "code",
   "execution_count": 8,
   "metadata": {},
   "outputs": [],
   "source": [
    "results = knn_online_learn(stream, label='fault', window_len=1)\n",
    "ax = results[['accuracy']].plot(\n",
    "    grid=True, legend=False, figsize=(8, 4),\n",
    "    xlabel='Sample', ylabel='Accuracy', title='Fault classes: 4, Window size: 1'\n",
    ")\n",
    "best = results.tail(1)\n",
    "best"
   ]
  },
  {
   "cell_type": "markdown",
   "metadata": {},
   "source": [
    "Gradual learning\n",
    "- Binary classifier - anomaly"
   ]
  },
  {
   "cell_type": "code",
   "execution_count": null,
   "metadata": {},
   "outputs": [],
   "source": [
    "results = knn_online_learn(stream, label='anomaly', window_len=1)\n",
    "ax = results[['accuracy']].plot(\n",
    "    grid=True, legend=False, figsize=(8, 4),\n",
    "    xlabel='Sample', ylabel='Accuracy', title='Fault classes: 1, Window size: 1'\n",
    ")\n",
    "best = results.tail(1)\n",
    "best"
   ]
  },
  {
   "cell_type": "markdown",
   "metadata": {},
   "source": [
    "Window learning\n",
    "- Compare classification accuracies for window sizes in one graph: (1, 10, 50, 100, 250)\n",
    "- Scenarios: fault, anomaly"
   ]
  },
  {
   "cell_type": "code",
   "execution_count": null,
   "metadata": {},
   "outputs": [],
   "source": [
    "learning_window_lengths = (1, 10, 50, 100, 250)\n",
    "\n",
    "fault_evolution = pd.DataFrame()\n",
    "for n in tqdm(learning_window_lengths):\n",
    "    results = knn_online_learn(stream, label='fault', window_len=n)\n",
    "    accuracy = results['accuracy']\n",
    "    accuracy.index += n             # Starts learning after at least one window has been filled\n",
    "    fault_evolution[str(n)] = accuracy"
   ]
  },
  {
   "cell_type": "code",
   "execution_count": null,
   "metadata": {},
   "outputs": [],
   "source": [
    "ax = fault_evolution.fillna(0).plot(\n",
    "    grid=True, legend=True, figsize=(8, 4),\n",
    "    xlabel='Sample', ylabel='Accuracy', title='Faults: Label with delay'\n",
    ")\n",
    "fault_evolution.tail(1)"
   ]
  },
  {
   "cell_type": "code",
   "execution_count": null,
   "metadata": {},
   "outputs": [],
   "source": [
    "anomaly_evolution = pd.DataFrame()\n",
    "for n in tqdm(learning_window_lengths):\n",
    "    results = knn_online_learn(stream, label='anomaly', window_len=n)\n",
    "    accuracy = results['accuracy']\n",
    "    accuracy.index += n             # Starts learning after at least one window has been filled\n",
    "    anomaly_evolution[str(n)] = accuracy"
   ]
  },
  {
   "cell_type": "code",
   "execution_count": null,
   "metadata": {},
   "outputs": [],
   "source": [
    "ax = anomaly_evolution.fillna(0).plot(\n",
    "    grid=True, legend=True, figsize=(8, 4),\n",
    "    xlabel='Sample', ylabel='Accuracy', title='Anomaly: Label with delay'\n",
    ")\n",
    "anomaly_evolution.tail(1)"
   ]
  },
  {
   "cell_type": "markdown",
   "metadata": {},
   "source": [
    "Missing labels - Faults"
   ]
  },
  {
   "cell_type": "code",
   "execution_count": null,
   "metadata": {},
   "outputs": [],
   "source": [
    "window_len = 10\n",
    "labels_skips = (0, 5, 15, 25, 50, 100)\n",
    "\n",
    "fault_skip_evolution = pd.DataFrame()\n",
    "for s in tqdm(labels_skips):\n",
    "    results = knn_online_learn(stream, label='fault', window_len=window_len, learn_skip=s)\n",
    "    accuracy = results['accuracy']\n",
    "    accuracy.index += len(stream) - len(accuracy)\n",
    "    fault_skip_evolution[str(s)] = accuracy"
   ]
  },
  {
   "cell_type": "code",
   "execution_count": null,
   "metadata": {},
   "outputs": [],
   "source": [
    "ax = fault_skip_evolution.fillna(0).plot(\n",
    "    grid=True, legend=True, figsize=(8, 4),\n",
    "    xlabel='Sample', ylabel='Accuracy', title=f'Faults (4 classes): Skip labels (out of {len(stream)} total), Window: {window_len}'\n",
    ")\n",
    "fault_skip_evolution.tail(1)"
   ]
  },
  {
   "cell_type": "markdown",
   "metadata": {},
   "source": [
    "Missing labels - Anomaly"
   ]
  },
  {
   "cell_type": "code",
   "execution_count": null,
   "metadata": {},
   "outputs": [],
   "source": [
    "anomaly_skip_evolution = pd.DataFrame()\n",
    "for s in tqdm(labels_skips):\n",
    "    results = knn_online_learn(stream, label='anomaly', window_len=window_len, learn_skip=s)\n",
    "    accuracy = results['accuracy']\n",
    "    accuracy.index += len(stream) - len(accuracy)\n",
    "    anomaly_skip_evolution[str(s)] = accuracy"
   ]
  },
  {
   "cell_type": "code",
   "execution_count": null,
   "metadata": {},
   "outputs": [],
   "source": [
    "ax = anomaly_skip_evolution.fillna(0).plot(\n",
    "    grid=True, legend=True, figsize=(8, 4),\n",
    "    xlabel='Sample', ylabel='Accuracy', title=f'Anomaly: Skip labels (out of {len(stream)} total), Window: {window_len}'\n",
    ")\n",
    "anomaly_skip_evolution.tail(1)"
   ]
  },
  {
   "cell_type": "markdown",
   "metadata": {},
   "source": [
    "Scatter plot - True labels vs. Predicted labels\n",
    "- Faults\n",
    "- Anomaly"
   ]
  },
  {
   "cell_type": "code",
   "execution_count": null,
   "metadata": {},
   "outputs": [],
   "source": [
    "project_classifier_map_plot(\n",
    "    filter_out_metadata_columns(stream),\n",
    "    stream['fault'],\n",
    "    knn_online_learn(stream, label='fault', window_len=1, learn_skip=0, clusters=True)\n",
    ")\n",
    "plt.show()"
   ]
  },
  {
   "cell_type": "code",
   "execution_count": null,
   "metadata": {},
   "outputs": [],
   "source": [
    "from river import metrics\n",
    "\n",
    "def knn_model_setup(n):\n",
    "    engine = neighbors.SWINN(\n",
    "        dist_func=functools.partial(utils.math.minkowski_distance, p=2),\n",
    "        seed=10\n",
    "    )\n",
    "    model = (\n",
    "        preprocessing.StandardScaler() |\n",
    "        neighbors.KNNClassifier(n_neighbors=n, engine=engine)\n",
    "    )\n",
    "    return model\n",
    "\n",
    "\n",
    "def knn_accuracy_with_delays(X, y, delays):\n",
    "    knn = knn_model_setup(5)\n",
    "\n",
    "    evolution = defaultdict(dict)\n",
    "    for delay in delays:\n",
    "        steps = evaluate.iter_progressive_val_score(\n",
    "            model=knn,\n",
    "            dataset=stream.iter_pandas(X, y),\n",
    "            metric=metrics.Accuracy(),\n",
    "            step=100,\n",
    "            delay=delay\n",
    "        )\n",
    "        for step in steps:\n",
    "            step_num = step['Step']\n",
    "            evolution[step_num]['Observation'] = step_num\n",
    "            evolution[step_num][delay] = step['Accuracy'].get()\n",
    "\n",
    "\n",
    "    evolution = (\n",
    "        pd.DataFrame\n",
    "        .from_records(list(evolution.values()))\n",
    "        .set_index('Observation')\n",
    "    )\n",
    "    evolution.plot(\n",
    "        grid=True, figsize=(15, 4), \n",
    "        marker='.', ylabel='Accuracy', \n",
    "        title='Accuracy with different delays'\n",
    "    )\n",
    "\n",
    "\n",
    "def knn_conf_matrix_plot(X, y):\n",
    "    knn = knn_model_setup(5)\n",
    "    #confmatrix = metrics.ConfusionMatrix()\n",
    "    y_predictions = []\n",
    "\n",
    "    for x, y_true in stream.iter_pandas(X, y):\n",
    "        y_predict = knn.predict_one(x) or 0\n",
    "        knn.learn_one(x, y_true)\n",
    "        y_predictions.append(y_predict)\n",
    "        # confmatrix.update(y_true, y_predict)\n",
    "\n",
    "\n",
    "    cm = skmetrics.confusion_matrix(y, y_predictions)\n",
    "    ax = sb.heatmap(cm, cbar=True, cmap='BuGn', annot=True, fmt='d')\n",
    "    ax.set(xlabel='Prediction', ylabel='Truth')\n",
    "\n",
    "\n",
    "def knn_visualize_classes(X, y):\n",
    "    knn = knn_model_setup(5)\n",
    "\n",
    "    y_predictions = []\n",
    "    for xs, ys in stream.iter_pandas(X, y):\n",
    "        y_predict = int(knn.predict_one(xs) or 0)\n",
    "        knn.learn_one(xs, ys)\n",
    "        y_predictions.append(y_predict)\n",
    "\n",
    "    y_predictions = pd.Series(y_predictions)\n",
    "    mismatch = models.project_classifier_map_plot(X, y, y_predictions)\n",
    "    print(f'Error rate: {100 * (len(mismatch) / len(y)):.2f} %')"
   ]
  },
  {
   "cell_type": "markdown",
   "metadata": {},
   "source": [
    "### kNN classifier (Faults)"
   ]
  },
  {
   "cell_type": "code",
   "execution_count": null,
   "metadata": {},
   "outputs": [],
   "source": [
    "X, y = models.features_subset(FEATURES, selection.FAULT_CLASSES, ['az'], 'fault')\n",
    "X.head(5)"
   ]
  },
  {
   "cell_type": "code",
   "execution_count": null,
   "metadata": {},
   "outputs": [],
   "source": [
    "knn_accuracy_with_delays(X, y, (1, 50, 100, 250))\n",
    "plt.show()"
   ]
  },
  {
   "cell_type": "markdown",
   "metadata": {},
   "source": [
    "### Classification report (Faults)"
   ]
  },
  {
   "cell_type": "code",
   "execution_count": null,
   "metadata": {},
   "outputs": [],
   "source": [
    "evaluate.progressive_val_score(\n",
    "    model=knn_model_setup(5),\n",
    "    dataset=stream.iter_pandas(X, y),\n",
    "    metric=metrics.ClassificationReport()\n",
    ")"
   ]
  },
  {
   "cell_type": "markdown",
   "metadata": {},
   "source": [
    "### Confusion matrix (Faults)"
   ]
  },
  {
   "cell_type": "code",
   "execution_count": null,
   "metadata": {},
   "outputs": [],
   "source": [
    "knn_conf_matrix_plot(X, y)"
   ]
  },
  {
   "cell_type": "markdown",
   "metadata": {},
   "source": [
    "### Visualize clusters of nearest neighbors (Faults)"
   ]
  },
  {
   "cell_type": "code",
   "execution_count": null,
   "metadata": {},
   "outputs": [],
   "source": [
    "knn_visualize_classes(X, y)"
   ]
  },
  {
   "cell_type": "markdown",
   "metadata": {},
   "source": [
    "### kNN classifier (Anomaly)"
   ]
  },
  {
   "cell_type": "code",
   "execution_count": null,
   "metadata": {},
   "outputs": [],
   "source": [
    "X, y = models.features_subset(FEATURES_FILENAME, selection.FAULT_CLASSES, ['az'], 'anomaly')\n",
    "X.head(5)"
   ]
  },
  {
   "cell_type": "code",
   "execution_count": null,
   "metadata": {},
   "outputs": [],
   "source": [
    "knn_accuracy_with_delays(X, y, (1, 50, 100, 250))\n",
    "plt.show()"
   ]
  },
  {
   "cell_type": "markdown",
   "metadata": {},
   "source": [
    "### Classification report (Anomaly)"
   ]
  },
  {
   "cell_type": "code",
   "execution_count": null,
   "metadata": {},
   "outputs": [],
   "source": [
    "evaluate.progressive_val_score(\n",
    "    model=knn_model_setup(5),\n",
    "    dataset=stream.iter_pandas(X, y),\n",
    "    metric=metrics.ClassificationReport()\n",
    ")"
   ]
  },
  {
   "cell_type": "markdown",
   "metadata": {},
   "source": [
    "### Confusion matrix (Anomaly)"
   ]
  },
  {
   "cell_type": "code",
   "execution_count": null,
   "metadata": {},
   "outputs": [],
   "source": [
    "knn_conf_matrix_plot(X, y)"
   ]
  },
  {
   "cell_type": "markdown",
   "metadata": {},
   "source": [
    "### Visualize clusters of nearest neighbors (Anomaly)"
   ]
  },
  {
   "cell_type": "code",
   "execution_count": null,
   "metadata": {},
   "outputs": [],
   "source": [
    "knn_visualize_classes(X, y)"
   ]
  }
 ],
 "metadata": {
  "kernelspec": {
   "display_name": "Python 3 (ipykernel)",
   "language": "python",
   "name": "python3"
  },
  "language_info": {
   "codemirror_mode": {
    "name": "ipython",
    "version": 3
   },
   "file_extension": ".py",
   "mimetype": "text/x-python",
   "name": "python",
   "nbconvert_exporter": "python",
   "pygments_lexer": "ipython3",
   "version": "3.11.5"
  }
 },
 "nbformat": 4,
 "nbformat_minor": 4
}
