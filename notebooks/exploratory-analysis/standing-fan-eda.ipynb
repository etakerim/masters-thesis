{
 "cells": [
  {
   "cell_type": "markdown",
   "metadata": {},
   "source": [
    "# Standing Fan EDA\n",
    "\n",
    "### Speed of fan blades\n",
    "- It was determined by Android app: Spectroid \n",
    "    - https://play.google.com/store/apps/details?id=org.intoorbit.spectrum&hl=en\n",
    "- Audo settings:\n",
    "    - Sampling rate: 48 kHz\n",
    "    - FFT size: 8192 bins (5.9 Hz/bin)\n",
    "    - Decimations: 5 (0.18 Hz/bin @ DC)\n",
    "    - Window function: Hann\n",
    "    - Transform interval: 50 ms\n",
    "    - Exponential smooting factor: 0.5\n",
    "- Fan blade speed and rotational speed (3 blades)\n",
    "    - Speed 1: 57 Hz / 3 = 19 Hz\n",
    "    - Speed 2: 63 Hz / 3 = 21 Hz\n",
    "    - Speed 3: 68 Hz / 3 = 22.7 Hz\n",
    "\n",
    "### Import audio"
   ]
  },
  {
   "cell_type": "code",
   "execution_count": null,
   "metadata": {},
   "outputs": [],
   "source": [
    "import os\n",
    "from scipy.io import wavfile\n",
    "import scipy.io\n",
    "import pandas as pd\n",
    "import matplotlib.pyplot as plt\n",
    "import numpy as np\n",
    "from scipy.signal import find_peaks, welch"
   ]
  },
  {
   "cell_type": "code",
   "execution_count": null,
   "metadata": {},
   "outputs": [],
   "source": [
    "path = '../../datasets/StandingFan/AUDIO/'\n",
    "filenames = ('1.wav', '2.wav', '3.wav')\n",
    "\n",
    "audio = []\n",
    "\n",
    "for name in filenames:\n",
    "    name = os.path.join(path, name)\n",
    "    samplerate, data = wavfile.read(name)\n",
    "    n = data.shape[0]\n",
    "    duration =  n / samplerate\n",
    "    channels = data.shape[1] if len(data.shape) > 1 else 1\n",
    "\n",
    "    audio.append({\n",
    "        'fs': samplerate,\n",
    "        'duration': duration,\n",
    "        'channels': channels,\n",
    "        'n': n,\n",
    "        'stream': data\n",
    "    })\n",
    "\n",
    "pd.DataFrame.from_records(audio)"
   ]
  },
  {
   "cell_type": "code",
   "execution_count": null,
   "metadata": {},
   "outputs": [],
   "source": [
    "window_size = 2 ** 18\n",
    "blades = 3\n",
    "fig, ax = plt.subplots(3, 1, figsize=(9, 6))\n",
    "for i, s in enumerate(audio):\n",
    "    fundamental = plot_psd(ax[i], s['stream'], s['fs'], window_size)\n",
    "    resolution = s['fs'] / window_size\n",
    "    speed = fundamental / blades\n",
    "    ax[i].set_title(f'Speed: {i+1}, Rotation: {speed:.4f} +/- {resolution:.4f} Hz')\n",
    "\n",
    "fig.tight_layout()\n",
    "plt.show()"
   ]
  },
  {
   "cell_type": "markdown",
   "metadata": {},
   "source": [
    "### Plot audio waveforms"
   ]
  },
  {
   "cell_type": "code",
   "execution_count": null,
   "metadata": {},
   "outputs": [],
   "source": [
    "fig, ax = plt.subplots(3, 2, figsize=(20, 8))\n",
    "for i, s in enumerate(audio):\n",
    "    t = np.linspace(0, s['duration'], s['n'])\n",
    "    ax[i][0].plot(t, s['stream'])\n",
    "\n",
    "    x = 15\n",
    "    d = 0.3\n",
    "    t = np.linspace(x, x + d, int(s['fs'] * d))\n",
    "    y = s['stream'][x * s['fs']: int((x + d) * s['fs'])]\n",
    "    ax[i][1].plot(t, y)\n",
    "\n",
    "    for j in range(2):\n",
    "        ax[i][j].set_xlabel('Time [s]')\n",
    "        ax[i][j].set_ylabel('Amplitude')\n",
    "        ax[i][j].set_title(f'Speed: {i+1}')\n",
    "\n",
    "fig.tight_layout()\n",
    "plt.show()"
   ]
  },
  {
   "cell_type": "markdown",
   "metadata": {},
   "source": [
    "### Plot audio frequency spectrum\n",
    "- Results:\n",
    "    - Speed 1: 19 Hz\n",
    "    - Speed 2: 21 Hz\n",
    "    - Speed 3: 22.5 Hz"
   ]
  },
  {
   "cell_type": "code",
   "execution_count": null,
   "metadata": {},
   "outputs": [],
   "source": [
    "def spectral_transform(v: pd.DataFrame, window: int, fs: int) -> tuple:\n",
    "    overlap = 0.5\n",
    "    step = int(window * overlap)\n",
    "    return welch(\n",
    "        v,\n",
    "        fs=fs,\n",
    "        window='hann',\n",
    "        nperseg=window,\n",
    "        noverlap=step,\n",
    "        scaling='spectrum',\n",
    "        average='mean',\n",
    "        detrend='constant',\n",
    "        return_onesided=True\n",
    "    )\n",
    "\n",
    "def plot_psd(ax, ts: pd.DataFrame, fs: int, window: int, threshold: int = None):\n",
    "    freqs, pxx = spectral_transform(ts, window, fs)\n",
    "    ax.plot(freqs, pxx, color='darkblue')\n",
    "    ax.fill_between(freqs, pxx, color='lightblue', alpha=0.3)\n",
    "    if threshold:\n",
    "        peaks, _ = find_peaks(pxx, height=threshold)\n",
    "        ax.plot(freqs[peaks], pxx[peaks], 'o', color='r')\n",
    "    ax.set_xlim(0, 300)\n",
    "\n",
    "    f = freqs[peaks][0] if len(peaks) > 0 else 0\n",
    "    return f\n",
    "\n",
    "window_size = 2 ** 18\n",
    "blades = 3\n",
    "fig, ax = plt.subplots(3, 1, figsize=(9, 6))\n",
    "for i, s in enumerate(audio):\n",
    "    fundamental = plot_psd(ax[i], s['stream'], s['fs'], window_size, 4000)\n",
    "    resolution = s['fs'] / window_size\n",
    "    speed = fundamental / blades\n",
    "    ax[i].set_title(f'Speed: {i+1}, Rotation: {speed:.4f} +/- {resolution:.4f} Hz')\n",
    "\n",
    "fig.tight_layout()\n",
    "plt.show()"
   ]
  },
  {
   "cell_type": "code",
   "execution_count": null,
   "metadata": {},
   "outputs": [],
   "source": [
    "# Import Steval data by metadata - placement: back/side/front, speed: 1, 2, 3\n",
    "\n",
    "g = 9.80665\n",
    "fs = 26886\n",
    "\n",
    "def csv_import(filename: str) -> pd.DataFrame:\n",
    "    axis =  ['x', 'y', 'z']\n",
    "    columns = ['t'] + axis\n",
    "\n",
    "    ts = pd.read_csv(\n",
    "        filename,\n",
    "        delimiter='\\t',\n",
    "        index_col=False,\n",
    "        header=0,\n",
    "        names=columns\n",
    "    ) \n",
    "    \n",
    "    ts[axis] = ts[axis].apply(lambda x: g * (x / 1000))\n",
    "    T = 1 / fs\n",
    "    ts = (\n",
    "        ts\n",
    "        .assign(t = lambda x: x.index * T)\n",
    "    )\n",
    "    ts.set_index('t', inplace=True)\n",
    "    return ts"
   ]
  },
  {
   "cell_type": "code",
   "execution_count": null,
   "metadata": {},
   "outputs": [],
   "source": [
    "def load_placement(place: str):\n",
    "    path = os.path.join('../../datasets/StandingFan', place.upper())\n",
    "    filenames = ('1.tsv', '2.tsv', '3.tsv')\n",
    "    accel = []\n",
    "\n",
    "    for name in filenames:\n",
    "        name = os.path.join(path, name)\n",
    "        ts = csv_import(name)\n",
    "        n = data.shape[0]\n",
    "        duration =  n / samplerate\n",
    "        channels = data.shape[1] if len(data.shape) > 1 else 1\n",
    "\n",
    "        accel.append({\n",
    "            'fs': fs,\n",
    "            'duration': ts.tail(1).index.to_list()[0],\n",
    "            'n': len(ts),\n",
    "            'stream': ts\n",
    "        })\n",
    "    return accel\n",
    "\n",
    "accel = load_placement('back')   # TODO: side, front\n",
    "pd.DataFrame.from_records(accel)"
   ]
  },
  {
   "cell_type": "code",
   "execution_count": null,
   "metadata": {},
   "outputs": [],
   "source": [
    "window_size = 2 ** 18\n",
    "blades = 3\n",
    "fig, ax = plt.subplots(3, 1, figsize=(9, 6), sharey=True)\n",
    "for i, s in enumerate(accel):\n",
    "    fundamental = plot_psd(ax[i], s['stream']['x'], s['fs'], window_size, 0.12)\n",
    "    resolution = s['fs'] / window_size\n",
    "    speed = fundamental / blades\n",
    "    ax[i].set_title(f'Speed: {i+1}, Rotation: {speed:.4f} +/- {resolution:.4f} Hz')\n",
    "\n",
    "fig.tight_layout()\n",
    "plt.show()\n"
   ]
  },
  {
   "cell_type": "code",
   "execution_count": null,
   "metadata": {},
   "outputs": [],
   "source": [
    "# Show TD waveform (subplot - axis, row - placement, column - speed)"
   ]
  },
  {
   "cell_type": "code",
   "execution_count": null,
   "metadata": {},
   "outputs": [],
   "source": [
    "# Compare spectra in differnet places at same speed "
   ]
  }
 ],
 "metadata": {
  "kernelspec": {
   "display_name": "dp",
   "language": "python",
   "name": "python3"
  },
  "language_info": {
   "codemirror_mode": {
    "name": "ipython",
    "version": 3
   },
   "file_extension": ".py",
   "mimetype": "text/x-python",
   "name": "python",
   "nbconvert_exporter": "python",
   "pygments_lexer": "ipython3",
   "version": "3.11.8"
  }
 },
 "nbformat": 4,
 "nbformat_minor": 2
}
