{
 "cells": [
  {
   "cell_type": "markdown",
   "metadata": {},
   "source": [
    "# Fluid pumps dataset EDA"
   ]
  },
  {
   "cell_type": "code",
   "execution_count": null,
   "metadata": {},
   "outputs": [],
   "source": [
    "import os\n",
    "from typing import List, Tuple\n",
    "from datetime import datetime, date\n",
    "from zipfile import ZipFile\n",
    "\n",
    "import numpy as np\n",
    "import pandas as pd\n",
    "from scipy.signal import windows\n",
    "import matplotlib.pylab as plt\n",
    "from scipy.signal import welch"
   ]
  },
  {
   "cell_type": "code",
   "execution_count": null,
   "metadata": {},
   "outputs": [],
   "source": [
    "path_root = '../../datasets/'\n",
    "path_features = os.path.join(path_root, 'features')\n",
    "dataset = 'FluidPump.zip'\n",
    "name = dataset.split('.')[0].lower()\n",
    "\n",
    "opt = {\n",
    "    'dataset': os.path.join(path_root, dataset),\n",
    "    'temporal_features': os.path.join(path_features, f'{name}_temporal.csv'),\n",
    "    'spectral_features': os.path.join(path_features, f'{name}_spectral.csv'),\n",
    "}"
   ]
  },
  {
   "cell_type": "markdown",
   "metadata": {},
   "source": [
    "#### Side by side welch spectra from same places on different days"
   ]
  },
  {
   "cell_type": "code",
   "execution_count": null,
   "metadata": {},
   "outputs": [],
   "source": [
    "fluidpump_columns = ['x', 'y', 'z']\n",
    "fluidpump_all_columns = ['t', 'x', 'y', 'z']\n",
    "fluidpump_fs_hz = 26866\n",
    "\n",
    "def list_files(dataset: ZipFile) -> List[str]:\n",
    "    filenames = [\n",
    "        f.filename\n",
    "        for f in dataset.infolist()\n",
    "        if f.filename.endswith(('.csv', '.tsv'))\n",
    "    ]\n",
    "    filenames.sort()\n",
    "    return filenames\n",
    "\n",
    "def fluidpump_csv_import(dataset: ZipFile, filename: str) -> pd.DataFrame:\n",
    "    ts = pd.read_csv(\n",
    "        dataset.open(filename),\n",
    "        delimiter='\\t',\n",
    "        index_col=False,\n",
    "        header=0,\n",
    "        names=fluidpump_all_columns\n",
    "    ) \n",
    "    g = 9.80665\n",
    "    columns = fluidpump_columns\n",
    "    ts[columns] = ts[columns].apply(lambda x: g * (x / 1000))\n",
    "\n",
    "    T = 1 / fluidpump_fs_hz\n",
    "    ts = (\n",
    "        ts\n",
    "        .assign(t = lambda x: x.index * T)\n",
    "    )\n",
    "    ts.set_index('t', inplace=True)\n",
    "    return ts"
   ]
  },
  {
   "cell_type": "code",
   "execution_count": null,
   "metadata": {},
   "outputs": [],
   "source": [
    "source = ZipFile(opt['dataset'])\n",
    "filenames = list_files(source)\n",
    "\n",
    "waveforms = []\n",
    "all_metadata = []\n",
    "for name in filenames:\n",
    "    ts = fluidpump_csv_import(source, name)\n",
    "    header = name.split(os.path.sep)\n",
    "    metadata = {\n",
    "        'place': header[-5],\n",
    "        'date': datetime.fromisoformat(header[-4]).date(),\n",
    "        'device': header[-3],\n",
    "        'position': header[-2],\n",
    "        'seq': int(header[-1].split('.')[0]),\n",
    "        'ts': ts\n",
    "    }\n",
    "    metacopy = metadata.copy()\n",
    "    metacopy.pop('ts')\n",
    "\n",
    "    all_metadata.append(metacopy)\n",
    "    waveforms.append(metadata)"
   ]
  },
  {
   "cell_type": "code",
   "execution_count": null,
   "metadata": {},
   "outputs": [],
   "source": [
    "all_metadata = pd.DataFrame.from_records(all_metadata)\n",
    "all_metadata"
   ]
  },
  {
   "cell_type": "code",
   "execution_count": null,
   "metadata": {},
   "outputs": [],
   "source": [
    "def spectral_transform(dataset: pd.DataFrame, axis: str, window: int, fs: int) -> Tuple[np.array, np.array]:\n",
    "    overlap = 0.5\n",
    "    step = int(window * overlap)\n",
    "\n",
    "    v = dataset[axis].to_numpy()\n",
    "    f, pxx = welch(\n",
    "        v,\n",
    "        fs=fs,\n",
    "        window='hann',\n",
    "        nperseg=window,\n",
    "        noverlap=step,\n",
    "        scaling='spectrum',\n",
    "        average='mean',\n",
    "        detrend='constant',\n",
    "        return_onesided=True\n",
    "    )\n",
    "    return f, pxx\n",
    "\n",
    "\n",
    "def side_by_side(\n",
    "        waveforms: list,\n",
    "        location: str,\n",
    "        plot_type: str = 'psd', # psd, psd_db, hist\n",
    "        axis: str = 'x',\n",
    "        filt_pos: str | None = None,\n",
    "        figsize: tuple | None = None,\n",
    "        ylim: tuple | None = None):\n",
    "        \n",
    "    machines = filter(lambda m: m['place'] == location, waveforms)\n",
    "    if filt_pos is not None:\n",
    "        machines = filter(lambda m: filt_pos in m['position'], machines)\n",
    "\n",
    "    machines = list(machines)\n",
    "    rows = set([(c['date'], c['seq']) for c in machines])\n",
    "    columns = set([(c['device'], c['position']) for c in machines])\n",
    "    rows = len(rows)\n",
    "\n",
    "    if figsize is None:\n",
    "        figsize = (15, 20)\n",
    "    fig, ax = plt.subplots(rows, len(columns), figsize=figsize, sharey=True)\n",
    "    if rows == 1:\n",
    "        ax = [ax]\n",
    "\n",
    "    for j, col in enumerate(sorted(list(columns))):\n",
    "        device, position = col\n",
    "        placements = list(filter(lambda m: m['device'] == device and m['position'] == position, machines))\n",
    "        \n",
    "        for i, row in enumerate(sorted(placements, key=lambda m: (m['date'], m['seq']))):\n",
    "            date, seq = row['date'], row['seq']\n",
    "            ts = row['ts']\n",
    "            try:\n",
    "                subplot = ax[i][j]\n",
    "            except:\n",
    "                continue\n",
    "        \n",
    "            if plot_type == 'psd':\n",
    "                freqs, pxx = spectral_transform(ts, axis, 2**14, Fs)\n",
    "                subplot.plot(freqs / 1000, pxx, color='darkblue', linewidth=0.5)\n",
    "\n",
    "                subplot.set_xlim(0, 5)\n",
    "                ax[-1][j].set_xlabel('Frequency [kHz]')\n",
    "                ax[i][0].set_ylabel('Amplitude [m/s\\u00B2]')\n",
    "    \n",
    "            elif plot_type == 'psd_db':\n",
    "                freqs, pxx = spectral_transform(ts, axis, 2**14, Fs)\n",
    "                pxx = dB = 20 * np.log10(pxx / 0.000001) # 1 dB = 1 um/s^2   \n",
    "                subplot.plot(freqs / 1000, pxx, color='darkblue', linewidth=0.5)\n",
    "\n",
    "                subplot.set_xlim(0, 5)\n",
    "                ax[-1][j].set_xlabel('Frequency [kHz]')\n",
    "                ax[i][0].set_ylabel('Amplitude [dB]')\n",
    "\n",
    "            elif plot_type == 'hist':\n",
    "                subplot.hist(ts[axis], color='darkblue', bins=100, edgecolor='black', linewidth=0.5)\n",
    "\n",
    "                ax[-1][j].set_xlabel('Amplitude [m/s\\u00B2]')\n",
    "                ax[i][0].set_ylabel('Count samples')\n",
    "            \n",
    "            if ylim is not None:\n",
    "                subplot.set_ylim(0, ylim)\n",
    "\n",
    "            subplot.grid(True)\n",
    "            subplot.set_title(f'{device}, {position} | {date}, {seq}.')\n",
    "                \n",
    "    plt.tight_layout()\n",
    "    plt.show()"
   ]
  },
  {
   "cell_type": "markdown",
   "metadata": {},
   "source": [
    "#### Plot one spectrum in all axis"
   ]
  },
  {
   "cell_type": "code",
   "execution_count": null,
   "metadata": {},
   "outputs": [],
   "source": [
    "query = {\n",
    "    'place': 'pump',\n",
    "    'date': date(2024, 2, 27),\n",
    "    'device': 'KSB7',\n",
    "    'position': 'PMP003',\n",
    "    'seq': 1\n",
    "}\n",
    "F_LIMIT_KHZ = 2\n",
    "axis = fluidpump_columns\n",
    "Fs = fluidpump_fs_hz\n",
    "\n",
    "signal = filter(\n",
    "    lambda s: (\n",
    "        s['place'] == query['place'] and\n",
    "        s['date'] == query['date'] and\n",
    "        s['device'] == query['device'] and\n",
    "        s['position'] == query['position'] and\n",
    "        s['seq'] == query['seq']\n",
    "    ),\n",
    "    waveforms\n",
    ")\n",
    "ts = list(signal)[0]['ts']\n",
    "ts"
   ]
  },
  {
   "cell_type": "markdown",
   "metadata": {},
   "source": [
    "Histograms"
   ]
  },
  {
   "cell_type": "code",
   "execution_count": null,
   "metadata": {},
   "outputs": [],
   "source": [
    "ax = ts.hist(figsize=(20, 4), grid=True, bins=100, layout=(1, 3), edgecolor='black', linewidth=0.5)\n",
    "plt.show()"
   ]
  },
  {
   "cell_type": "markdown",
   "metadata": {},
   "source": [
    "Waveform in full length"
   ]
  },
  {
   "cell_type": "code",
   "execution_count": null,
   "metadata": {},
   "outputs": [],
   "source": [
    "ax = ts.plot(figsize=(20, 8), grid=True, subplots=True)\n",
    "for i, axname in enumerate(axis):\n",
    "    ax[i].set_xlabel('Time [s]')\n",
    "    ax[i].set_ylabel(f'Amplitude ({axname}) [m/s^2]')\n",
    "plt.show() "
   ]
  },
  {
   "cell_type": "markdown",
   "metadata": {},
   "source": [
    "Waveform in detail: T_WAVEFORM s and interval of TIME s"
   ]
  },
  {
   "cell_type": "code",
   "execution_count": null,
   "metadata": {},
   "outputs": [],
   "source": [
    "T_WAVEFORM = 10\n",
    "TIME = 0.1\n",
    "\n",
    "ax = (ts[axis].iloc[int(T_WAVEFORM*Fs):int(T_WAVEFORM*Fs+Fs*TIME)]\n",
    "                  .plot(figsize=(20, 10), grid=True, subplots=True))\n",
    "    \n",
    "for i, axname in enumerate(axis):\n",
    "    ax[i].set_xlabel('Time [s]')\n",
    "    ax[i].set_ylabel(f'Amplitude ({axname}) [m/s^2]')\n",
    "plt.show() "
   ]
  },
  {
   "cell_type": "code",
   "execution_count": null,
   "metadata": {},
   "outputs": [],
   "source": [
    "fig, ax = plt.subplots(3, 1, figsize=(20, 10))\n",
    "ts_range = ts[:]\n",
    "#ts_range = ts.loc[:10]\n",
    "\n",
    "for i, axname in enumerate(axis):\n",
    "    freqs, pxx = spectral_transform(ts_range, axname, 2**14, Fs)\n",
    "    freqs /= 1000\n",
    "    ax[i].plot(freqs, pxx, color='darkblue')\n",
    "    ax[i].fill_between(freqs, pxx, color='lightblue', alpha=0.3)\n",
    "    ax[i].grid(True)\n",
    "    ax[i].set_xlim(0, F_LIMIT_KHZ)\n",
    "    ax[i].set_xlabel('Frequency [kHz]')\n",
    "    ax[i].set_ylabel('Amplitude [m/s\\u00B2]')"
   ]
  },
  {
   "cell_type": "markdown",
   "metadata": {},
   "source": [
    "Frequency spectrum of one window"
   ]
  },
  {
   "cell_type": "code",
   "execution_count": null,
   "metadata": {},
   "outputs": [],
   "source": [
    "def window_frequency_spectrum(ts: pd.DataFrame, t: float, nfft: int = 2**14, dB=False):\n",
    "    fig, ax = plt.subplots(len(axis), 1, figsize=(20, 10))\n",
    "    i = 0\n",
    "    for axname in axis:\n",
    "        signal = ts[axname].loc[t:t+nfft/Fs].to_numpy()\n",
    "        n = len(signal)\n",
    "        pxx = np.abs(np.fft.rfft(signal * windows.hann(n)) / n)\n",
    "        if dB is True:\n",
    "            pxx = 20 * np.log10(pxx / 0.000001)  # 1 dB = 1 um/s^2    \n",
    "        freqs = np.fft.fftfreq(n, d=1/Fs)[:len(pxx)]\n",
    "\n",
    "        ax[i].plot(freqs, pxx, color='darkblue')\n",
    "        ax[i].fill_between(freqs, pxx, color='lightblue', alpha=0.3)\n",
    "        ax[i].grid(True)\n",
    "        ax[i].set_xlabel('Frequency [Hz]')\n",
    "        ax[i].set_ylabel('Amplitude [m/s\\u00B2]')\n",
    "        ax[i].set_xlim(0, F_LIMIT_KHZ * 1000)\n",
    "        ax[i].set_title(f'{axname.upper()}, {name}')\n",
    "        i += 1\n",
    "    plt.tight_layout()\n",
    "    plt.show()\n",
    "\n",
    "\n",
    "window_frequency_spectrum(ts, t=10, dB=False)"
   ]
  },
  {
   "cell_type": "code",
   "execution_count": null,
   "metadata": {},
   "outputs": [],
   "source": [
    "def spectogram(x, axname, nfft):\n",
    "    fig, ax = plt.subplots(figsize=(15, 4))\n",
    "    cmap = plt.get_cmap('inferno')\n",
    "    pxx, freqs, t, im = plt.specgram(\n",
    "        x, NFFT=nfft, Fs=Fs,\n",
    "        detrend='mean',\n",
    "        mode='magnitude', scale='dB',\n",
    "        cmap=cmap, vmin=-60\n",
    "    )\n",
    "    fig.colorbar(im, aspect=20, pad=0.04)\n",
    "    ax.set_xlabel('Time [s]')\n",
    "    ax.set_ylabel('Frequency [Hz]')\n",
    "    ax.set_title(f'{axname}')\n",
    "    return freqs, pxx\n",
    "\n",
    "for axname in axis:\n",
    "    freqs, Pxx = spectogram(ts[axname], axname, nfft=2**12)\n",
    "    plt.show()"
   ]
  },
  {
   "cell_type": "markdown",
   "metadata": {},
   "source": [
    "### Choose measurement direction"
   ]
  },
  {
   "cell_type": "code",
   "execution_count": null,
   "metadata": {},
   "outputs": [],
   "source": [
    "AXIS = 'z'          # x, y, z"
   ]
  },
  {
   "cell_type": "markdown",
   "metadata": {},
   "source": [
    "### Frequency spectra"
   ]
  },
  {
   "cell_type": "code",
   "execution_count": null,
   "metadata": {},
   "outputs": [],
   "source": [
    "side_by_side(waveforms, 'compressor', 'psd', AXIS, figsize=(15, 20), ylim=1)"
   ]
  },
  {
   "cell_type": "code",
   "execution_count": null,
   "metadata": {},
   "outputs": [],
   "source": [
    "side_by_side(waveforms, 'pump', 'psd', AXIS, filt_pos='MTR', figsize=(20, 15), ylim=0.3)"
   ]
  },
  {
   "cell_type": "code",
   "execution_count": null,
   "metadata": {},
   "outputs": [],
   "source": [
    "side_by_side(waveforms, 'pump', 'psd', AXIS, filt_pos='PMP', figsize=(20, 15), ylim=0.3)"
   ]
  },
  {
   "cell_type": "markdown",
   "metadata": {},
   "source": [
    "### Decibel frequency spectra"
   ]
  },
  {
   "cell_type": "code",
   "execution_count": null,
   "metadata": {},
   "outputs": [],
   "source": [
    "side_by_side(waveforms, 'compressor', 'psd_db', AXIS, figsize=(15, 20))"
   ]
  },
  {
   "cell_type": "code",
   "execution_count": null,
   "metadata": {},
   "outputs": [],
   "source": [
    "side_by_side(waveforms, 'pump', 'psd_db', AXIS, filt_pos='MTR', figsize=(20, 15))"
   ]
  },
  {
   "cell_type": "code",
   "execution_count": null,
   "metadata": {},
   "outputs": [],
   "source": [
    "side_by_side(waveforms, 'pump', 'psd_db', AXIS, filt_pos='PMP', figsize=(15, 10))"
   ]
  },
  {
   "cell_type": "markdown",
   "metadata": {},
   "source": [
    "### Histograms of time domain"
   ]
  },
  {
   "cell_type": "code",
   "execution_count": null,
   "metadata": {},
   "outputs": [],
   "source": [
    "side_by_side(waveforms, 'compressor', 'hist', AXIS, figsize=(15, 20))"
   ]
  },
  {
   "cell_type": "code",
   "execution_count": null,
   "metadata": {},
   "outputs": [],
   "source": [
    "side_by_side(waveforms, 'pump', 'hist', AXIS, filt_pos='MTR', figsize=(20, 15))"
   ]
  },
  {
   "cell_type": "code",
   "execution_count": null,
   "metadata": {},
   "outputs": [],
   "source": [
    "side_by_side(waveforms, 'pump', 'hist', AXIS, filt_pos='PMP', figsize=(20, 15))"
   ]
  },
  {
   "cell_type": "markdown",
   "metadata": {},
   "source": [
    "### Slow down and speed up"
   ]
  },
  {
   "cell_type": "code",
   "execution_count": null,
   "metadata": {},
   "outputs": [],
   "source": [
    "def spectogram(x, nfft, fs, xlim=None):\n",
    "    fig, ax = plt.subplots(figsize=(20, 5))\n",
    "    cmap = plt.get_cmap('inferno')\n",
    "    pxx, freqs, t, im = plt.specgram(\n",
    "        x, NFFT=nfft, Fs=fs,\n",
    "        detrend='mean',\n",
    "        mode='magnitude',\n",
    "        scale='dB',\n",
    "        vmin=-70,\n",
    "        cmap=cmap,\n",
    "        noverlap=int(nfft * 0.66)\n",
    "    )\n",
    "    fig.colorbar(im, aspect=20, pad=0.04)\n",
    "    ax.set_xlabel('Time [s]')\n",
    "    ax.set_ylabel('Frequency [Hz]')\n",
    "    ax.set_ylim(0, 5000)\n",
    "    if xlim:\n",
    "        ax.set_xlim(*xlim)\n",
    "    ax.set_ylim(0, 125)\n",
    "    return freqs, t, pxx\n",
    "\n",
    "\n",
    "source = ZipFile(opt['dataset'])\n",
    "nfft = 2**14\n",
    "ts = fluidpump_csv_import(source, 'misc/2024-03-26/misc/KSB1-slow-down/1.tsv')\n",
    "for axis in fluidpump_columns:\n",
    "    freqs, t, pxx = spectogram(ts[axis], nfft, fluidpump_fs_hz, xlim=(50, 100))\n",
    "    plt.show()"
   ]
  },
  {
   "cell_type": "code",
   "execution_count": null,
   "metadata": {},
   "outputs": [],
   "source": [
    "source = ZipFile(opt['dataset'])\n",
    "ts = fluidpump_csv_import(source, 'misc/2024-03-26/misc/KSB7-speed-up/1.tsv')\n",
    "for axis in fluidpump_columns:\n",
    "    spectogram(ts[axis], 2**11, fluidpump_fs_hz)\n",
    "    plt.show()"
   ]
  },
  {
   "cell_type": "code",
   "execution_count": null,
   "metadata": {},
   "outputs": [],
   "source": [
    "source = ZipFile(opt['dataset'])\n",
    "ts = fluidpump_csv_import(source, 'misc/2024-03-26/misc/KSB7-speed-up/2.tsv')\n",
    "for axis in fluidpump_columns:\n",
    "    spectogram(ts[axis], 2**11, fluidpump_fs_hz, xlim=(0, 20))\n",
    "    plt.show()"
   ]
  }
 ],
 "metadata": {
  "kernelspec": {
   "display_name": "dp",
   "language": "python",
   "name": "python3"
  },
  "language_info": {
   "codemirror_mode": {
    "name": "ipython",
    "version": 3
   },
   "file_extension": ".py",
   "mimetype": "text/x-python",
   "name": "python",
   "nbconvert_exporter": "python",
   "pygments_lexer": "ipython3",
   "version": "3.11.8"
  }
 },
 "nbformat": 4,
 "nbformat_minor": 2
}
