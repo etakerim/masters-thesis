{
 "cells": [
  {
   "cell_type": "markdown",
   "id": "5e9c2494-d25d-407f-9a6c-f728a1924172",
   "metadata": {},
   "source": [
    "Feature EDA"
   ]
  },
  {
   "cell_type": "code",
   "execution_count": null,
   "id": "2a804f85-e6ad-4c82-ba05-7ad60501beb4",
   "metadata": {},
   "outputs": [],
   "source": [
    "import pandas as pd\n",
    "import seaborn as sb\n",
    "import numpy as np\n",
    "\n",
    "import matplotlib.pyplot as plt\n",
    "import matplotlib.colors as mcolors\n",
    "\n",
    "from sklearn.preprocessing import StandardScaler, MinMaxScaler, OneHotEncoder\n",
    "from sklearn.decomposition import PCA\n",
    "from sklearn.pipeline import Pipeline\n",
    "\n",
    "import sys\n",
    "sys.path.append('../../')\n",
    "from feature import selection as sel"
   ]
  },
  {
   "cell_type": "markdown",
   "id": "601fe73c-83ff-4781-a2af-6bdf836be7ff",
   "metadata": {},
   "source": [
    "Correlations"
   ]
  },
  {
   "cell_type": "markdown",
   "id": "5ffe79d0-1fdd-4b1b-826b-07686db93def",
   "metadata": {},
   "source": [
    "Time domain"
   ]
  },
  {
   "cell_type": "code",
   "execution_count": null,
   "id": "5e803c21-432e-45d9-8272-6b6352683e92",
   "metadata": {},
   "outputs": [],
   "source": [
    "features = pd.read_csv(sel.TIME_FEATURES_PATH)\n",
    "rows = features[\n",
    "     (features['axis'] == 'ax')\n",
    "   & (features['fault'] == 'horizontal-misalignment')\n",
    "][sel.TD_COLUMNS]\n",
    "rows.corr()"
   ]
  },
  {
   "cell_type": "markdown",
   "id": "d49778d7-bfb1-44ef-8465-f880af0bd61b",
   "metadata": {},
   "source": [
    "Absolute value of correlation"
   ]
  },
  {
   "cell_type": "code",
   "execution_count": null,
   "id": "ff6be752-0241-4110-b28e-9ec351a62c8c",
   "metadata": {},
   "outputs": [],
   "source": [
    "fig, ax = plt.subplots(figsize=(10, 5))  \n",
    "sb.heatmap(np.abs(rows.corr()), annot=True, ax=ax, cmap='Greens')"
   ]
  },
  {
   "cell_type": "markdown",
   "id": "f0566873-dbf2-4a6d-86dd-80331479d45a",
   "metadata": {},
   "source": [
    "Variance of variables"
   ]
  },
  {
   "cell_type": "code",
   "execution_count": null,
   "id": "575d8c34-806d-4586-a055-b0360ecb7562",
   "metadata": {},
   "outputs": [],
   "source": [
    "ax = rows.var().plot(kind='barh', xlabel='Variance', ylabel='Feature')"
   ]
  },
  {
   "cell_type": "code",
   "execution_count": null,
   "id": "c1837dd9-aa22-45b3-9ce1-66a90f96fce8",
   "metadata": {},
   "outputs": [],
   "source": [
    "# TODO: pairplot with color for fault\n",
    "fig, ax = plt.subplots(figsize=(6, 6))\n",
    "\n",
    "colors = {\n",
    "    'horizontal-misalignment': 'tab:blue', \n",
    "    'imbalance':'tab:orange', \n",
    "    'vertical-misalignment': 'tab:purple', \n",
    "    'normal': 'tab:green'\n",
    "}\n",
    "\n",
    "for key, group in features.groupby('fault'):\n",
    "    group.plot(ax=ax, kind='scatter', x='kurt', y='margin', label=key, color=colors.get(key, 'tab:brown'))\n",
    "plt.show()"
   ]
  },
  {
   "cell_type": "code",
   "execution_count": null,
   "id": "9d80db95-04cf-4b33-b808-97e82aba693e",
   "metadata": {},
   "outputs": [],
   "source": [
    "ax = plt.figure().add_subplot(projection='3d')\n",
    "\n",
    "colors = {\n",
    "    'horizontal-misalignment': 'tab:blue', \n",
    "    'imbalance': 'tab:orange', \n",
    "    'vertical-misalignment': 'tab:purple', \n",
    "    'normal': 'tab:green'\n",
    "}\n",
    "\n",
    "for key, group in features.groupby('fault'):\n",
    "    ax.scatter(group['kurt'], group['margin'], group['rpm'], label=key, color=colors.get(key, 'tab:brown'))\n",
    "\n",
    "plt.xlabel('Kurtosis')\n",
    "plt.ylabel('Margin')\n",
    "plt.show()"
   ]
  },
  {
   "cell_type": "markdown",
   "id": "38731451-2d5b-403c-9dda-481f498b7ee4",
   "metadata": {},
   "source": [
    "Faults and their severity in relation to feature value and rotational speed"
   ]
  },
  {
   "cell_type": "code",
   "execution_count": null,
   "id": "4d6bd550-cc4c-472a-9550-c5e72f925ec2",
   "metadata": {},
   "outputs": [],
   "source": [
    "def plot_feature_to_rpm(features, column):\n",
    "    fig, axes = plt.subplots(5, 2, figsize=(20, 15))\n",
    "    faults = features['fault'].cat.categories\n",
    "    \n",
    "    for idx, detail in enumerate(zip(faults, axes.flat)):\n",
    "        fault, ax = detail\n",
    "        \n",
    "        rows = features[features['fault'] == fault]\n",
    "        severity = rows['severity'].astype('category').cat.categories\n",
    "        colors = dict(zip(severity, mcolors.TABLEAU_COLORS))\n",
    "    \n",
    "        ax.scatter(rows['rpm'], rows[column], s=1, c=rows['severity'].map(colors))\n",
    "        ax.set_xlabel('RPM')\n",
    "        ax.set_ylabel(column)\n",
    "        ax.set_title(fault)\n",
    "\n",
    "\n",
    "def plot_fault_histogram(features, columns):\n",
    "    fig, axes = plt.subplots(5, 2, figsize=(20, 15))\n",
    "    faults = features['fault'].cat.categories\n",
    "\n",
    "    for idx, detail in enumerate(zip(faults, axes.flat)):\n",
    "        fault, ax = detail\n",
    "        \n",
    "        rows = features[features['fault'] == fault]\n",
    "        severity = rows['severity'].astype('category').cat.categories\n",
    "        colors = dict(zip(severity, mcolors.TABLEAU_COLORS))\n",
    "\n",
    "        for col in columns:\n",
    "            ax.hist(rows[col], bins=50, label=col)\n",
    "        ax.set_title(fault)\n",
    "        # ax.legend()\n",
    "\n",
    "features = pd.read_csv(sel.TIME_FEATURES_PATH)\n",
    "columns = ['mean', 'std', 'skew', 'kurt', 'rms', 'pp', 'crest', 'margin', 'impulse', 'shape']\n",
    "features['fault'] = features['fault'].astype('category')"
   ]
  },
  {
   "cell_type": "code",
   "execution_count": null,
   "id": "2d17e4c0-44f9-4681-8fe5-012276d9bb72",
   "metadata": {},
   "outputs": [],
   "source": [
    "plot_feature_to_rpm(features, columns[0])"
   ]
  },
  {
   "cell_type": "code",
   "execution_count": null,
   "id": "c9db2cc2-1c2c-4159-8563-80cc7f86bc7c",
   "metadata": {},
   "outputs": [],
   "source": [
    "plot_fault_histogram(features, columns)  # TODO: calculate mutal information"
   ]
  },
  {
   "cell_type": "code",
   "execution_count": null,
   "id": "dd8e4621-e7af-49f7-a664-a7e45f24cca6",
   "metadata": {
    "scrolled": true
   },
   "outputs": [],
   "source": [
    "features = pd.read_csv(sel.FREQ_FEATURES_PATH)\n",
    "features['fault'] = features['fault'].astype('category')\n",
    "features['fft_window_length'] = features['fft_window_length'].astype('category')\n",
    "print(features['fft_window_length'].cat.categories)\n",
    "\n",
    "features = features[(features['fft_window_length'] == 1024) & (features['axis'] == 'ax')]\n",
    "features"
   ]
  },
  {
   "cell_type": "code",
   "execution_count": null,
   "id": "916f8296-a3b8-4a8c-a33b-7645e94796b5",
   "metadata": {},
   "outputs": [],
   "source": [
    "plot_feature_to_rpm(features, sel.FD_COLUMNS[-2])"
   ]
  },
  {
   "cell_type": "code",
   "execution_count": null,
   "id": "9a3e6634-53f4-4311-ae2e-da284f6538c4",
   "metadata": {},
   "outputs": [],
   "source": [
    "plot_fault_histogram(features, sel.FD_COLUMNS)"
   ]
  },
  {
   "cell_type": "markdown",
   "id": "97d5d090-5f7c-4d98-91ab-8cd9976e9708",
   "metadata": {},
   "source": [
    "PCA on time domain features"
   ]
  },
  {
   "cell_type": "code",
   "execution_count": null,
   "id": "895acc8b-161d-4187-b7f8-cc6854de42e6",
   "metadata": {},
   "outputs": [],
   "source": [
    "features = pd.read_csv(sel.TIME_FEATURES_PATH)\n",
    "columns = ['mean', 'std', 'skew', 'kurt', 'rms', 'pp', 'crest', 'margin', 'impulse', 'shape']\n",
    "matrix = features[columns].to_numpy()\n",
    "\n",
    "scaler = StandardScaler()\n",
    "matrix_scaled = scaler.fit_transform(matrix)\n",
    "pca = PCA()  #n_components=3)\n",
    "result = pca.fit_transform(matrix_scaled)\n",
    "\n",
    "print(pca.explained_variance_ratio_)\n",
    "# print(pca.singular_values_)\n",
    "print(pca.components_)\n",
    "plt.scatter(result.T[0], result.T[1], s=1)\n",
    "plt.show()"
   ]
  },
  {
   "cell_type": "code",
   "execution_count": null,
   "id": "def495bb-b5d2-428f-ae01-5111d974b4ab",
   "metadata": {},
   "outputs": [],
   "source": [
    "ax = plt.figure().add_subplot(projection='3d')\n",
    "p = ax.scatter(result.T[0], result.T[1], result.T[2], color='red', s=1)\n",
    "plt.show()"
   ]
  },
  {
   "cell_type": "code",
   "execution_count": null,
   "id": "acd7b65d-623a-492f-96b8-d0dfcb94a793",
   "metadata": {},
   "outputs": [],
   "source": [
    "# https://medium.com/@andymdc31/using-pca-in-a-machine-learning-pipeline-b6fe3492b1b9\n",
    "total_explained_variance = pca.explained_variance_ratio_.cumsum()\n",
    "n_over_95 = len(total_explained_variance[total_explained_variance >= .95])\n",
    "\n",
    "n_to_reach_95 = matrix.shape[1] - n_over_95 + 1\n",
    "print(\"Number features: {}\\tTotal Variance Explained: {}\".format(\n",
    "    n_to_reach_95,\n",
    "    total_explained_variance[n_to_reach_95-1]\n",
    "))"
   ]
  },
  {
   "cell_type": "code",
   "execution_count": null,
   "id": "f1b1293b-6a4e-4ba8-8988-a203ef62a467",
   "metadata": {},
   "outputs": [],
   "source": [
    "# We can find original feature importance in original model\n",
    "pipeline = Pipeline(steps=[\n",
    "    ('scale', StandardScaler()),\n",
    "    ('pca', PCA(n_components=2))\n",
    "])\n",
    "result = pipeline.fit_transform(matrix_scaled)"
   ]
  },
  {
   "cell_type": "code",
   "execution_count": null,
   "id": "1bba2a11-25f2-47ed-850f-ceb421e6d6f5",
   "metadata": {},
   "outputs": [],
   "source": [
    "wp_features = pd.read_csv(sel.WPD_FEATURES_PATH)\n",
    "columns = [\n",
    "    col for col in wp_features.columns \n",
    "    if col not in ('fault', 'severity', 'seq', 'rpm', 'axis', 'feature')\n",
    "]\n",
    "\n",
    "fig, ax = plt.subplots(figsize=(6, 6))\n",
    "\n",
    "for key, group in features.groupby('fault'):\n",
    "    group.plot(ax=ax, kind='scatter', x='kurt', y='margin', label=key, color=colors.get(key, 'tab:brown'))\n",
    "plt.show()"
   ]
  },
  {
   "cell_type": "markdown",
   "id": "a5cb7be2-2ebb-4944-9aea-84866a8f7a99",
   "metadata": {},
   "source": [
    "TODO: do an inverse transform to find importance of features in model"
   ]
  }
 ],
 "metadata": {
  "kernelspec": {
   "display_name": "Python 3 (ipykernel)",
   "language": "python",
   "name": "python3"
  },
  "language_info": {
   "codemirror_mode": {
    "name": "ipython",
    "version": 3
   },
   "file_extension": ".py",
   "mimetype": "text/x-python",
   "name": "python",
   "nbconvert_exporter": "python",
   "pygments_lexer": "ipython3",
   "version": "3.11.5"
  }
 },
 "nbformat": 4,
 "nbformat_minor": 5
}
