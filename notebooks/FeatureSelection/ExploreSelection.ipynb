{
 "cells": [
  {
   "cell_type": "markdown",
   "id": "b599331c-ebd7-40a6-b124-86ea4e92a8b2",
   "metadata": {},
   "source": [
    "## Feature selection\n",
    "\n",
    "Choose metric\n",
    "- Correlation\n",
    "- F statistic\n",
    "- Mutual information"
   ]
  },
  {
   "cell_type": "code",
   "execution_count": null,
   "id": "0f4b404b",
   "metadata": {},
   "outputs": [],
   "source": [
    "METRICS = ['C', 'F', 'MI']\n",
    "METRIC = METRICS[0]"
   ]
  },
  {
   "cell_type": "code",
   "execution_count": null,
   "id": "9eb6b065-41b9-45e8-9c45-9442671b10e9",
   "metadata": {},
   "outputs": [],
   "source": [
    "import seaborn as sb\n",
    "import pandas as pd\n",
    "import matplotlib.pyplot as plt\n",
    "from sklearn.feature_selection import VarianceThreshold\n",
    "\n",
    "import numpy as np\n",
    "import sys\n",
    "sys.path.append('../')\n",
    "from vibrodiagnostics import selection as sel\n",
    "from vibrodiagnostics.models import fault_labeling\n",
    "\n",
    "\n",
    "FEATURES_PATH =  '../../datasets/features_data/'\n",
    "\n",
    "\n",
    "if METRIC == 'C':\n",
    "    calc_func = sel.calc_corr_stat\n",
    "    title = 'Correlation'\n",
    "elif METRIC == 'F':\n",
    "    calc_func = sel.calc_f_stat\n",
    "    title = 'F statistic'\n",
    "elif METRIC == 'MI':\n",
    "    calc_func = sel.calc_mutual_information\n",
    "    title = 'Mutual information'"
   ]
  },
  {
   "cell_type": "markdown",
   "id": "be132c4c",
   "metadata": {},
   "source": [
    "Time domain"
   ]
  },
  {
   "cell_type": "markdown",
   "id": "f7a56453-3864-4f93-8e3f-e4f939d070cc",
   "metadata": {},
   "source": [
    "Unnormalized vs. Normalized features\n",
    "- Result found: F score is independent of scaling"
   ]
  },
  {
   "cell_type": "code",
   "execution_count": null,
   "id": "174375e6-32bf-4ad5-a7a4-3d8333700ea0",
   "metadata": {},
   "outputs": [],
   "source": [
    "features = sel.load_td_feat(['az'], all=True, path=FEATURES_PATH)\n",
    "columns = sel.filter_out_metadata_columns(features).columns\n",
    "fscore = calc_func(features, columns)\n",
    "\n",
    "features_normalized = sel.normalize_features(features, columns)\n",
    "fscore_norm = calc_func(features_normalized, columns)\n",
    "\n",
    "fig, ax = plt.subplots(1, 2, figsize=(20, 5))\n",
    "fscore.plot.bar(figsize=(10, 4), grid=True, xlabel='Feature', ylabel=title, legend=False, title='Unnormalized', ax=ax[0])\n",
    "fscore_norm.plot.bar(figsize=(10, 4), grid=True, xlabel='Feature', ylabel=title, legend=False, title='Normalized', ax=ax[1])\n",
    "plt.show()"
   ]
  },
  {
   "cell_type": "markdown",
   "id": "cfd35e45-99d1-4bf7-93c4-94aee0fc9c5a",
   "metadata": {},
   "source": [
    "Frequency domain"
   ]
  },
  {
   "cell_type": "markdown",
   "id": "151e2bb5",
   "metadata": {},
   "source": [
    "All windows in all axis to multiclass fault"
   ]
  },
  {
   "cell_type": "code",
   "execution_count": null,
   "id": "df94787c-7cd5-4055-8651-457082535dfb",
   "metadata": {},
   "outputs": [],
   "source": [
    "features = sel.load_fd_feat(['az'], all=True, path=FEATURES_PATH)\n",
    "columns = sel.filter_out_metadata_columns(features).columns\n",
    "\n",
    "fscore = calc_func(features, columns)\n",
    "fscore.plot.bar(figsize=(20, 4), grid=True, xlabel='Feature', ylabel=title, legend=False, title='F score in Frequency domain')\n",
    "plt.show()\n",
    "\n",
    "print(features['fault'].cat.categories)\n",
    "features"
   ]
  },
  {
   "cell_type": "markdown",
   "id": "d38a1f57-91e6-436d-b53c-351fb6c1fef4",
   "metadata": {},
   "source": [
    "To some faults"
   ]
  },
  {
   "cell_type": "code",
   "execution_count": null,
   "id": "b13ab150-1f74-4a83-bc74-e054b49c67ba",
   "metadata": {},
   "outputs": [],
   "source": [
    "features_chosen = features[features['fault'].isin([\n",
    "    'normal', 'imbalance', 'vertical-misalignment', 'horizontal-misalignment' \n",
    "])]\n",
    "fscore = calc_func(features_chosen, columns)\n",
    "fscore.plot.bar(figsize=(20, 4), grid=True, xlabel='Feature', ylabel=title, legend=False, title='F score in Frequency domain')\n",
    "plt.show()"
   ]
  },
  {
   "cell_type": "markdown",
   "id": "9a7030c2-4c89-4e13-bde4-836a43b7fe0d",
   "metadata": {},
   "source": [
    "In all axis to multiclass fault (per each window size)"
   ]
  },
  {
   "cell_type": "code",
   "execution_count": null,
   "id": "4796722b-03a4-424b-8449-4a092ff536b7",
   "metadata": {},
   "outputs": [],
   "source": [
    "df = sel.calc_score_in_fft_windows(features, columns, calc_func)\n",
    "sel.plot_fscore_part(df.set_index('feature'), 'window', title)"
   ]
  },
  {
   "cell_type": "markdown",
   "id": "5457c82c-538f-4776-8e97-4d2f0dc41f8c",
   "metadata": {},
   "source": [
    "All faults: best features by ranking over all windows (non-weighted vs. weighted by score)\n",
    "- less is better"
   ]
  },
  {
   "cell_type": "code",
   "execution_count": null,
   "id": "b9c4adf9-34b5-430c-9bfa-6c054957516f",
   "metadata": {},
   "outputs": [],
   "source": [
    "sel.plot_rank(df, 'window')"
   ]
  },
  {
   "cell_type": "markdown",
   "id": "eb68441f-772d-4339-be61-e17f3b8523da",
   "metadata": {},
   "source": [
    "In all axis to multiclass fault (per each window size) and chosen faults"
   ]
  },
  {
   "cell_type": "code",
   "execution_count": null,
   "id": "9c00c9f3-453c-4e78-85fc-efcca9f0a995",
   "metadata": {},
   "outputs": [],
   "source": [
    "df_chosen = sel.calc_score_in_fft_windows(features_chosen, columns, calc_func)\n",
    "sel.plot_fscore_in_fft_win(df_chosen.set_index('feature'), title)"
   ]
  },
  {
   "cell_type": "markdown",
   "id": "0565993b-1de3-41d9-98f9-70f695ba410e",
   "metadata": {},
   "source": [
    "All faults: best features by ranking over all windows (non-weighted vs. weighted by score)"
   ]
  },
  {
   "cell_type": "code",
   "execution_count": null,
   "id": "f4f37700-db47-4db1-9682-09561c4a97ce",
   "metadata": {},
   "outputs": [],
   "source": [
    "sel.plot_rank(df_chosen, 'window')"
   ]
  },
  {
   "cell_type": "markdown",
   "id": "f1b0f835-d3d0-4e5d-8452-d9e5c953ade1",
   "metadata": {},
   "source": [
    "Wavelet packet transform"
   ]
  },
  {
   "cell_type": "code",
   "execution_count": null,
   "id": "c002ddbd-e756-422e-91c6-551a43715c30",
   "metadata": {},
   "outputs": [],
   "source": [
    "features = sel.load_wavelet_domain_features(['ax', 'ay', 'az'], path=FEATURES_PATH, all=True)\n",
    "df = sel.calc_score_in_wpd_features(features, calc_func)\n",
    "sel.plot_fscore_part(df, 'metric', title, n=20)"
   ]
  },
  {
   "cell_type": "markdown",
   "id": "47c1f708-33f8-4650-8ee8-4756c53a19fc",
   "metadata": {},
   "source": [
    "WPD features in one layer"
   ]
  },
  {
   "cell_type": "code",
   "execution_count": null,
   "id": "d99d1e6b-9f93-4c96-81b3-faf6586f0493",
   "metadata": {},
   "outputs": [],
   "source": [
    "level = 3\n",
    "df = sel.calc_score_in_wpd_features(features, calc_func)\n",
    "layer = df[df.index.str.startswith(f'L{level}')]\n",
    "sel.plot_fscore_part(layer, 'metric', title)"
   ]
  },
  {
   "cell_type": "code",
   "execution_count": null,
   "id": "23cf1ecb-2f7d-4273-ae19-953b0e528eb1",
   "metadata": {},
   "outputs": [],
   "source": [
    "level = 4\n",
    "df = sel.calc_score_in_wpd_features(features, calc_func)\n",
    "layer = df[df.index.str.startswith(f'L{level}')]\n",
    "sel.plot_fscore_part(layer, 'metric', title)"
   ]
  },
  {
   "cell_type": "code",
   "execution_count": null,
   "id": "7dbfc811",
   "metadata": {},
   "outputs": [],
   "source": [
    "def plot_wpd_energy_ratio_per_level(features, wpd_axis):\n",
    "    features = features[features['axis'].isin(wpd_axis)]  \n",
    "    features_energy_ratio = features[features['feature'] == 'energy_ratio']\n",
    "    # print(len(features_energy_ratio))\n",
    "    \n",
    "    fig, ax = plt.subplots(6, 1, figsize=(15, 20))\n",
    "    \n",
    "    for level in range(1, 7):\n",
    "        cols = np.array(columns)\n",
    "        cols = cols[np.char.startswith(cols, f'L{level}')]\n",
    "        mi = calc_func(features_energy_ratio, cols)\n",
    "        \n",
    "        o = ax.flatten()[level-1]\n",
    "        o.bar(mi.index, mi.values.T[0])\n",
    "        o.grid(True)\n",
    "        o.set_xlabel('Feature')\n",
    "        o.set_ylabel('MI')\n",
    "        \n",
    "        # Rotate x labels by 45 deg\n",
    "        o.set_xticks(o.get_xticks())\n",
    "        o.set_xticklabels(o.get_xticklabels(), rotation=45, ha='right')\n",
    "\n",
    "    fig.suptitle(f'WPD energy ratio: Axis \"{wpd_axis}\"', fontsize=16, y=0.9)\n",
    "    plt.show()"
   ]
  },
  {
   "cell_type": "code",
   "execution_count": null,
   "id": "42b025fb",
   "metadata": {},
   "outputs": [],
   "source": [
    "def level_to_frequency_bands(level, fs):\n",
    "    bin_count = 2 ** level\n",
    "    bin_width = (fs / 2) / bin_count\n",
    "    for bin in range(bin_count):\n",
    "        a = bin * bin_width\n",
    "        b = a + bin_width\n",
    "        print(f'L{level}_{bin} = [{a}; {b}] Hz')\n",
    "\n",
    "level_to_frequency_bands(level=4, fs=50000)"
   ]
  },
  {
   "cell_type": "markdown",
   "id": "ef3baeda",
   "metadata": {},
   "source": [
    "Features in Wavelets"
   ]
  },
  {
   "cell_type": "code",
   "execution_count": null,
   "id": "70285610",
   "metadata": {},
   "outputs": [],
   "source": [
    "features = sel.load_wavelet_domain_features(['ax', 'ay', 'az'], path=FEATURES_PATH, all=True)\n",
    "# df = sel.calc_score_in_wpd_features(features, calc_func)\n",
    "\n",
    "WPD_AXIS = 'ax'\n",
    "# More axis at once significantly reduces MI\n",
    "features = features[features['axis'] == WPD_AXIS]                 # One axis\n",
    "features['fault'] = features['fault'].astype('category')\n",
    "#features = features[features['axis'].isin(['ax', 'ay', 'az'])]  # One measuremnt position\n",
    "\n",
    "columns = [col for col in features.columns \n",
    "           if col not in ('fault', 'severity', 'seq', 'rpm', 'axis', 'feature')]\n",
    "features.head()"
   ]
  },
  {
   "cell_type": "code",
   "execution_count": null,
   "id": "4d757ace",
   "metadata": {},
   "outputs": [],
   "source": [
    "features_energy = features[features['feature'] == 'energy']\n",
    "print(len(features_energy))\n",
    "\n",
    "mi = calc_func(features_energy, columns)\n",
    "mi.iloc[:30].plot.bar(figsize=(20, 4), grid=True, ylabel=title, title='WPD Energy')\n",
    "plt.show()"
   ]
  },
  {
   "cell_type": "code",
   "execution_count": null,
   "id": "b6699e79",
   "metadata": {},
   "outputs": [],
   "source": [
    "plot_wpd_energy_ratio_per_level(features, ['ax', 'ay', 'az'])"
   ]
  },
  {
   "cell_type": "code",
   "execution_count": null,
   "id": "01560c99",
   "metadata": {},
   "outputs": [],
   "source": [
    "features_entropy = features[features['feature'] == 'negentropy']\n",
    "print(len(features_entropy))\n",
    "\n",
    "mi = calc_func(features_entropy, columns)\n",
    "mi.iloc[:30].plot.bar(figsize=(20, 4), grid=True, ylabel=title, title='WPD Negentropy')\n",
    "plt.show()"
   ]
  },
  {
   "cell_type": "code",
   "execution_count": null,
   "id": "97d8e543",
   "metadata": {},
   "outputs": [],
   "source": [
    "features_kurtosis = features[features['feature'] == 'kurtosis']\n",
    "print(len(features_kurtosis))\n",
    "\n",
    "mi = calc_func(features_entropy, columns)\n",
    "mi.iloc[:30].plot.bar(figsize=(20, 4), grid=True, ylabel=title, title='WPD Kurtosis')\n",
    "plt.show()"
   ]
  }
 ],
 "metadata": {
  "kernelspec": {
   "display_name": "Python 3 (ipykernel)",
   "language": "python",
   "name": "python3"
  },
  "language_info": {
   "codemirror_mode": {
    "name": "ipython",
    "version": 3
   },
   "file_extension": ".py",
   "mimetype": "text/x-python",
   "name": "python",
   "nbconvert_exporter": "python",
   "pygments_lexer": "ipython3",
   "version": "3.11.6"
  }
 },
 "nbformat": 4,
 "nbformat_minor": 5
}
