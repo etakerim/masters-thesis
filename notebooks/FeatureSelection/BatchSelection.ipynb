{
 "cells": [
  {
   "cell_type": "markdown",
   "metadata": {},
   "source": [
    "### Batch Feature selection"
   ]
  },
  {
   "cell_type": "code",
   "execution_count": null,
   "metadata": {},
   "outputs": [],
   "source": [
    "import pandas as pd\n",
    "import numpy as np\n",
    "import matplotlib.pyplot as plt\n",
    "from sklearn.feature_selection import mutual_info_classif, f_classif\n",
    "from sklearn.preprocessing import MinMaxScaler, StandardScaler\n",
    "from sklearn.decomposition import PCA\n",
    "\n",
    "import functools\n",
    "import os\n",
    "import sys\n",
    "sys.path.append('../')\n",
    "from vibrodiagnostics import (\n",
    "    selection,\n",
    "    models\n",
    ")"
   ]
  },
  {
   "cell_type": "markdown",
   "metadata": {},
   "source": [
    "#### Settings\n",
    "Choose 0 for Fault, 1 for Anomaly\n",
    "\n",
    "- 0, 0, 0 = Fault, az, Correlation\n",
    "- 0, 0, 1 = Fault, az, F score\n",
    "- 0, 0, 2 = Fault, az, MI\n",
    "\n",
    "- 0, 2, 0 = Fault, bz, Correlation\n",
    "- 0, 2, 1 = Fault, bz, F score\n",
    "- 0, 2, 2 = Fault, bz, MI\n",
    "\n",
    "- 0, 1, 0 = Fault, A, Correlation\n",
    "- 0, 1, 1 = Fault, A, F score\n",
    "- 0, 1, 2 = Fault, A, MI\n",
    "\n",
    "- 0, 3, 0 = Fault, B, Correlation\n",
    "- 0, 3, 1 = Fault, B, F score\n",
    "- 0, 3, 2 = Fault, B, MI"
   ]
  },
  {
   "cell_type": "code",
   "execution_count": null,
   "metadata": {},
   "outputs": [],
   "source": [
    "OPTION = (0, 0, 0)\n",
    "\n",
    "TARGETS = ['fault', 'anomaly']\n",
    "AXIS_ALL = [['az'], ['ax', 'ay', 'az'], ['bz'], ['bx', 'by', 'bz']]\n",
    "TITLES = ['Correlation', 'F score', 'Mutual information']\n",
    "METRICS = [selection.corr_classif, f_classif, mutual_info_classif]\n",
    "\n",
    "TARGET = TARGETS[OPTION[0]]\n",
    "AXIS = AXIS_ALL[OPTION[1]]\n",
    "TITLE = TITLES[OPTION[2]]\n",
    "METRIC = METRICS[OPTION[2]]"
   ]
  },
  {
   "cell_type": "code",
   "execution_count": null,
   "metadata": {},
   "outputs": [],
   "source": [
    "PATH_PREFIX = '../../datasets/'\n",
    "FEATURES_PATH =  os.path.join(PATH_PREFIX, 'features_data')\n",
    "\n",
    "DATASET_PATH = os.path.join(PATH_PREFIX, 'MAFAULDA.zip')\n",
    "MAFAULDA_METADATA = os.path.join(FEATURES_PATH, 'mafaulda_metadata.csv')\n",
    "\n",
    "TD_FEATURES = os.path.join(FEATURES_PATH, selection.TIME_FEATURES_PATH)\n",
    "FD_FEATURES = os.path.join(FEATURES_PATH, selection.FREQ_FEATURES_PATH)\n",
    "TD_FD_FEATURES = os.path.join(FEATURES_PATH, selection.TIME_AND_FREQ_FEATURES_PATH)\n",
    "\n",
    "TSFEL_FEATURES = os.path.join(FEATURES_PATH, selection.TSFEL_FEATURES_PATH)\n",
    "TSFEL_TD_FEATURES = os.path.join(FEATURES_PATH, selection.TSFEL_TIME_FEATURES_PATH)\n",
    "TSFEL_FD_FEATURES = os.path.join(FEATURES_PATH, selection.TSFEL_FREQ_FEATURES_PATH)\n",
    "TSFEL_SD_FEATURES = os.path.join(FEATURES_PATH, selection.TSFEL_STAT_FEATURES_PATH)"
   ]
  },
  {
   "cell_type": "code",
   "execution_count": null,
   "metadata": {},
   "outputs": [],
   "source": [
    "def scatter_3best_features(X, y, ranked_features, scaler_class=MinMaxScaler):\n",
    "    columns = ranked_features.reset_index()['feature'].to_numpy()[:3]\n",
    "    data = X[columns].copy()\n",
    "    scaler = scaler_class()\n",
    "    data[columns] = scaler.fit_transform(data)\n",
    "    if TARGET == 'fault':\n",
    "        models.cross_cuts_3d(data, y)\n",
    "    elif TARGET == 'anomaly':\n",
    "        models.cross_cuts_3d_anomalies(data, y)\n",
    "\n",
    "\n",
    "def calculate_scores(x: pd.DataFrame, y: pd.DataFrame, metric) -> pd.DataFrame:\n",
    "    scores = metric(x, y)\n",
    "    if isinstance(scores, tuple):\n",
    "        scores = scores[0]\n",
    "    leaderboard = (\n",
    "        pd.DataFrame(zip(x.columns, scores), columns=['feature', 'score'])\n",
    "        .set_index('feature')\n",
    "        .sort_values(by='score', ascending=False)\n",
    "    )\n",
    "    return leaderboard\n",
    "\n",
    "\n",
    "def plot_best_features(X_train, y_train, X_test, y_test, title, metric, n=10):\n",
    "    train_scores = calculate_scores(X_train, y_train, metric)\n",
    "    test_scores = calculate_scores(X_test, y_test, metric)\n",
    "\n",
    "    train_scores.rename(columns={'score': title}, inplace=True)\n",
    "    test_scores.rename(columns={'score': title}, inplace=True)\n",
    "\n",
    "    fig, ax = plt.subplots(1, 2, figsize=(20, 5))\n",
    "    train_scores.head(n).plot.bar(\n",
    "        title='Training set', figsize=(8, 4), grid=True,\n",
    "        xlabel='Feature', legend=False, ylabel=title, ax=ax[0]\n",
    "    )\n",
    "    test_scores.head(n).plot.bar(\n",
    "        title='Testing set', figsize=(8, 4), grid=True,\n",
    "        xlabel='Feature', legend=False, ylabel=title, ax=ax[1]\n",
    "    )\n",
    "    return {\n",
    "        'train': train_scores, \n",
    "        'test': test_scores\n",
    "    }\n",
    "\n",
    "\n",
    "def pca_feature_importance(X, n=10):\n",
    "    # Absolute values of the Eigenvectors' components corresponding to the k largest Eigenvalues.\n",
    "    model = PCA(n_components=3).fit(X)\n",
    "    X_pc = model.transform(X)\n",
    "\n",
    "    columns = list(X.columns)\n",
    "    percentages = [(100 * (np.flip(np.sort(np.abs(pc))) / np.sum(np.abs(pc))))[:n] for pc in model.components_]\n",
    "    most_important = [np.flip(np.argsort(np.abs(pc)))[:n] for pc in model.components_]\n",
    "\n",
    "    for i, pc in enumerate(most_important):\n",
    "        print(f'PC{i+1} ({model.explained_variance_ratio_[i] * 100:.4f} %)')\n",
    "        print([columns[x] for x in pc])\n",
    "        print(percentages[i])"
   ]
  },
  {
   "cell_type": "code",
   "execution_count": null,
   "metadata": {},
   "outputs": [],
   "source": [
    "X_train, y_train, X_test, y_test = models.features_subset_offline(TSFEL_FEATURES, selection.FAULT_CLASSES, AXIS, TARGET)\n",
    "scores = calculate_scores(X_train, y_train, METRIC)\n",
    "\n",
    "features_normalized = selection.normalize_features(X_train, X_train.columns)\n",
    "scores_norm = calculate_scores(features_normalized, y_train, METRIC)\n",
    "\n",
    "fig, ax = plt.subplots(1, 2, figsize=(20, 5))\n",
    "scores.head(15).plot.bar(figsize=(10, 4), grid=True, xlabel='Feature', ylabel=TITLE, legend=False, title='Unnormalized', ax=ax[0])\n",
    "scores_norm.head(15).plot.bar(figsize=(10, 4), grid=True, xlabel='Feature', ylabel=TITLE, legend=False, title='Normalized', ax=ax[1])\n",
    "plt.show()"
   ]
  },
  {
   "cell_type": "markdown",
   "metadata": {},
   "source": [
    "#### TSFEL generated features in all domains"
   ]
  },
  {
   "cell_type": "code",
   "execution_count": null,
   "metadata": {},
   "outputs": [],
   "source": [
    "X_train, y_train, X_test, y_test = models.features_subset_offline(TSFEL_FEATURES, selection.FAULT_CLASSES, AXIS, TARGET)\n",
    "feature_set = plot_best_features(X_train, y_train, X_test, y_test, TITLE, METRIC)\n",
    "plt.show()"
   ]
  },
  {
   "cell_type": "code",
   "execution_count": null,
   "metadata": {},
   "outputs": [],
   "source": [
    "feature_set['train'].head(10)"
   ]
  },
  {
   "cell_type": "code",
   "execution_count": null,
   "metadata": {},
   "outputs": [],
   "source": [
    "feature_set['test'].head(10)"
   ]
  },
  {
   "cell_type": "code",
   "execution_count": null,
   "metadata": {},
   "outputs": [],
   "source": [
    "feature_set['train'].hist(bins=15, edgecolor='black', color='gray', figsize=(5, 3))\n",
    "plt.show()"
   ]
  },
  {
   "cell_type": "code",
   "execution_count": null,
   "metadata": {},
   "outputs": [],
   "source": [
    "scatter_3best_features(X_train, y_train, feature_set['train'], MinMaxScaler)\n",
    "plt.show()"
   ]
  },
  {
   "cell_type": "code",
   "execution_count": null,
   "metadata": {},
   "outputs": [],
   "source": [
    "scatter_3best_features(X_train, y_train, feature_set['test'], StandardScaler)\n",
    "plt.show()"
   ]
  },
  {
   "cell_type": "code",
   "execution_count": null,
   "metadata": {},
   "outputs": [],
   "source": [
    "pca_feature_importance(X_train)"
   ]
  },
  {
   "cell_type": "markdown",
   "metadata": {},
   "source": [
    "#### TSFEL generated features in time domain"
   ]
  },
  {
   "cell_type": "code",
   "execution_count": null,
   "metadata": {},
   "outputs": [],
   "source": [
    "X_train, y_train, X_test, y_test = models.features_subset_offline(TSFEL_TD_FEATURES, selection.FAULT_CLASSES, AXIS, TARGET)\n",
    "feature_set = plot_best_features(X_train, y_train, X_test, y_test, TITLE, METRIC)\n",
    "plt.show()"
   ]
  },
  {
   "cell_type": "code",
   "execution_count": null,
   "metadata": {},
   "outputs": [],
   "source": [
    "feature_set['train'].head(10)"
   ]
  },
  {
   "cell_type": "code",
   "execution_count": null,
   "metadata": {},
   "outputs": [],
   "source": [
    "feature_set['test'].head(10)"
   ]
  },
  {
   "cell_type": "code",
   "execution_count": null,
   "metadata": {},
   "outputs": [],
   "source": [
    "feature_set['train'].hist(bins=15, edgecolor='black', color='gray', figsize=(5, 3))\n",
    "plt.show()"
   ]
  },
  {
   "cell_type": "code",
   "execution_count": null,
   "metadata": {},
   "outputs": [],
   "source": [
    "scatter_3best_features(X_train, y_train, feature_set['train'], MinMaxScaler)\n",
    "plt.show()"
   ]
  },
  {
   "cell_type": "code",
   "execution_count": null,
   "metadata": {},
   "outputs": [],
   "source": [
    "scatter_3best_features(X_train, y_train, feature_set['test'], StandardScaler)\n",
    "plt.show()"
   ]
  },
  {
   "cell_type": "code",
   "execution_count": null,
   "metadata": {},
   "outputs": [],
   "source": [
    "pca_feature_importance(X_train)"
   ]
  },
  {
   "cell_type": "markdown",
   "metadata": {},
   "source": [
    "TSFEL generated features in frequency (spectral) domain"
   ]
  },
  {
   "cell_type": "code",
   "execution_count": null,
   "metadata": {},
   "outputs": [],
   "source": [
    "X_train, y_train, X_test, y_test = models.features_subset_offline(TSFEL_FD_FEATURES, selection.FAULT_CLASSES, AXIS, TARGET)\n",
    "feature_set = plot_best_features(X_train, y_train, X_test, y_test, TITLE, METRIC)\n",
    "plt.show()"
   ]
  },
  {
   "cell_type": "code",
   "execution_count": null,
   "metadata": {},
   "outputs": [],
   "source": [
    "feature_set['train'].head(10)"
   ]
  },
  {
   "cell_type": "code",
   "execution_count": null,
   "metadata": {},
   "outputs": [],
   "source": [
    "feature_set['test'].head(10)"
   ]
  },
  {
   "cell_type": "code",
   "execution_count": null,
   "metadata": {},
   "outputs": [],
   "source": [
    "feature_set['train'].hist(bins=15, edgecolor='black', color='gray', figsize=(5, 3))\n",
    "plt.show()"
   ]
  },
  {
   "cell_type": "code",
   "execution_count": null,
   "metadata": {},
   "outputs": [],
   "source": [
    "scatter_3best_features(X_train, y_train, feature_set['train'], MinMaxScaler)\n",
    "plt.show()"
   ]
  },
  {
   "cell_type": "code",
   "execution_count": null,
   "metadata": {},
   "outputs": [],
   "source": [
    "scatter_3best_features(X_train, y_train, feature_set['train'], StandardScaler)\n",
    "plt.show()"
   ]
  },
  {
   "cell_type": "code",
   "execution_count": null,
   "metadata": {},
   "outputs": [],
   "source": [
    "pca_feature_importance(X_train)"
   ]
  },
  {
   "cell_type": "markdown",
   "metadata": {},
   "source": [
    "#### TSFEL generated features in statistical domain"
   ]
  },
  {
   "cell_type": "code",
   "execution_count": null,
   "metadata": {},
   "outputs": [],
   "source": [
    "X_train, y_train, X_test, y_test = models.features_subset_offline(TSFEL_SD_FEATURES, selection.FAULT_CLASSES, AXIS, TARGET)\n",
    "feature_set = plot_best_features(X_train, y_train, X_test, y_test, TITLE, METRIC)\n",
    "plt.show()"
   ]
  },
  {
   "cell_type": "code",
   "execution_count": null,
   "metadata": {},
   "outputs": [],
   "source": [
    "feature_set['train'].head(10)"
   ]
  },
  {
   "cell_type": "code",
   "execution_count": null,
   "metadata": {},
   "outputs": [],
   "source": [
    "feature_set['test'].head(10)"
   ]
  },
  {
   "cell_type": "code",
   "execution_count": null,
   "metadata": {},
   "outputs": [],
   "source": [
    "feature_set['train'].hist(bins=15, edgecolor='black', color='gray', figsize=(5, 3))\n",
    "plt.show()"
   ]
  },
  {
   "cell_type": "code",
   "execution_count": null,
   "metadata": {},
   "outputs": [],
   "source": [
    "scatter_3best_features(X_train, y_train, feature_set['train'], MinMaxScaler)\n",
    "plt.show()"
   ]
  },
  {
   "cell_type": "code",
   "execution_count": null,
   "metadata": {},
   "outputs": [],
   "source": [
    "scatter_3best_features(X_train, y_train, feature_set['train'], StandardScaler)\n",
    "plt.show()"
   ]
  },
  {
   "cell_type": "code",
   "execution_count": null,
   "metadata": {},
   "outputs": [],
   "source": [
    "pca_feature_importance(X_train)"
   ]
  },
  {
   "cell_type": "markdown",
   "metadata": {},
   "source": [
    "#### Custom features in all domains"
   ]
  },
  {
   "cell_type": "code",
   "execution_count": null,
   "metadata": {},
   "outputs": [],
   "source": [
    "X_train, y_train, X_test, y_test = models.features_subset_offline(TD_FD_FEATURES, selection.FAULT_CLASSES, AXIS, TARGET)\n",
    "feature_set = plot_best_features(X_train, y_train, X_test, y_test, TITLE, METRIC)\n",
    "plt.show()"
   ]
  },
  {
   "cell_type": "code",
   "execution_count": null,
   "metadata": {},
   "outputs": [],
   "source": [
    "feature_set['train'].head(10)"
   ]
  },
  {
   "cell_type": "code",
   "execution_count": null,
   "metadata": {},
   "outputs": [],
   "source": [
    "feature_set['test'].head(10)"
   ]
  },
  {
   "cell_type": "code",
   "execution_count": null,
   "metadata": {},
   "outputs": [],
   "source": [
    "feature_set['train'].hist(bins=15, edgecolor='black', color='gray', figsize=(5, 3))\n",
    "plt.show()"
   ]
  },
  {
   "cell_type": "code",
   "execution_count": null,
   "metadata": {},
   "outputs": [],
   "source": [
    "scatter_3best_features(X_train, y_train, feature_set['train'], MinMaxScaler)\n",
    "plt.show()"
   ]
  },
  {
   "cell_type": "code",
   "execution_count": null,
   "metadata": {},
   "outputs": [],
   "source": [
    "scatter_3best_features(X_train, y_train, feature_set['train'], StandardScaler)\n",
    "plt.show()"
   ]
  },
  {
   "cell_type": "markdown",
   "metadata": {},
   "source": [
    "#### Custom features in time domain"
   ]
  },
  {
   "cell_type": "code",
   "execution_count": null,
   "metadata": {},
   "outputs": [],
   "source": [
    "X_train, y_train, X_test, y_test = models.features_subset_offline(TD_FEATURES, selection.FAULT_CLASSES, AXIS, TARGET)\n",
    "feature_set = plot_best_features(X_train, y_train, X_test, y_test, TITLE, METRIC)\n",
    "plt.show()"
   ]
  },
  {
   "cell_type": "code",
   "execution_count": null,
   "metadata": {},
   "outputs": [],
   "source": [
    "feature_set['train'].head(10)"
   ]
  },
  {
   "cell_type": "code",
   "execution_count": null,
   "metadata": {},
   "outputs": [],
   "source": [
    "feature_set['test'].head(10)"
   ]
  },
  {
   "cell_type": "code",
   "execution_count": null,
   "metadata": {},
   "outputs": [],
   "source": [
    "feature_set['train'].hist(bins=15, edgecolor='black', color='gray', figsize=(5, 3))\n",
    "plt.show()"
   ]
  },
  {
   "cell_type": "code",
   "execution_count": null,
   "metadata": {},
   "outputs": [],
   "source": [
    "scatter_3best_features(X_train, y_train, feature_set['train'], MinMaxScaler)\n",
    "plt.show()"
   ]
  },
  {
   "cell_type": "code",
   "execution_count": null,
   "metadata": {},
   "outputs": [],
   "source": [
    "scatter_3best_features(X_train, y_train, feature_set['train'], StandardScaler)\n",
    "plt.show()"
   ]
  },
  {
   "cell_type": "code",
   "execution_count": null,
   "metadata": {},
   "outputs": [],
   "source": [
    "pca_feature_importance(X_train)"
   ]
  },
  {
   "cell_type": "markdown",
   "metadata": {},
   "source": [
    "#### Custom features in frequency domain"
   ]
  },
  {
   "cell_type": "code",
   "execution_count": null,
   "metadata": {},
   "outputs": [],
   "source": [
    "X_train, y_train, X_test, y_test = models.features_subset_offline(FD_FEATURES, selection.FAULT_CLASSES, AXIS, TARGET)\n",
    "feature_set = plot_best_features(X_train, y_train, X_test, y_test, TITLE, METRIC)\n",
    "plt.show()"
   ]
  },
  {
   "cell_type": "code",
   "execution_count": null,
   "metadata": {},
   "outputs": [],
   "source": [
    "def plot_best_features_by_window_size(X, y, title, metric, n=10):\n",
    "    window_sizes = (\n",
    "        X.columns.str.extract(r'[\\w\\_]+_(\\w+)$')[0]\n",
    "         .dropna().unique().astype(int)\n",
    "    )\n",
    "\n",
    "    fig, ax = plt.subplots(1, len(window_sizes), figsize=(20, 5))\n",
    "\n",
    "    for i, win_len in enumerate(window_sizes):\n",
    "        columns = X.columns[X.columns.str.endswith(f'_{win_len}')]\n",
    "        win_data = X.loc[:,X.columns.str.endswith(f'_{win_len}')]\n",
    "\n",
    "        scores = calculate_scores(win_data, y, metric).head(n)\n",
    "        scores.rename(columns={'score': title}, inplace=True)\n",
    "\n",
    "        scores.plot.bar(\n",
    "            title=f'{win_len}', grid=True,\n",
    "            xlabel='Feature', legend=False, ylabel=title, ax=ax[i]\n",
    "        )\n",
    "    \n",
    "\n",
    "X_train, X_test, y_train, y_test = models.features_subset_offline(FD_FEATURES, selection.FAULT_CLASSES, AXIS, TARGET)\n",
    "plot_best_features_by_window_size(X_train, y_train, TITLE, METRIC)\n",
    "plt.tight_layout()\n",
    "plt.show()"
   ]
  },
  {
   "cell_type": "code",
   "execution_count": null,
   "metadata": {},
   "outputs": [],
   "source": [
    "feature_set['train'].head(10)"
   ]
  },
  {
   "cell_type": "code",
   "execution_count": null,
   "metadata": {},
   "outputs": [],
   "source": [
    "feature_set['test'].head(10)"
   ]
  },
  {
   "cell_type": "code",
   "execution_count": null,
   "metadata": {},
   "outputs": [],
   "source": [
    "feature_set['train'].hist(bins=15, edgecolor='black', color='gray', figsize=(5, 3))\n",
    "plt.show()"
   ]
  },
  {
   "cell_type": "code",
   "execution_count": null,
   "metadata": {},
   "outputs": [],
   "source": [
    "scatter_3best_features(X_train, y_train, feature_set['train'], MinMaxScaler)\n",
    "plt.show()"
   ]
  },
  {
   "cell_type": "code",
   "execution_count": null,
   "metadata": {},
   "outputs": [],
   "source": [
    "scatter_3best_features(X_train, y_train, feature_set['train'], StandardScaler)\n",
    "plt.show()"
   ]
  },
  {
   "cell_type": "code",
   "execution_count": null,
   "metadata": {},
   "outputs": [],
   "source": [
    "pca_feature_importance(X_train)"
   ]
  }
 ],
 "metadata": {
  "kernelspec": {
   "display_name": "dp",
   "language": "python",
   "name": "python3"
  },
  "language_info": {
   "codemirror_mode": {
    "name": "ipython",
    "version": 3
   },
   "file_extension": ".py",
   "mimetype": "text/x-python",
   "name": "python",
   "nbconvert_exporter": "python",
   "pygments_lexer": "ipython3",
   "version": "3.11.5"
  }
 },
 "nbformat": 4,
 "nbformat_minor": 2
}
