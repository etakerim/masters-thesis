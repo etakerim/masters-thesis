{
 "cells": [
  {
   "cell_type": "code",
   "execution_count": null,
   "id": "919314cb-f9fa-435b-83ab-289cf39a3ead",
   "metadata": {},
   "outputs": [],
   "source": [
    "import pandas as pd\n",
    "import numpy as np\n",
    "import matplotlib.pyplot as plt\n",
    "import seaborn as sb\n",
    "\n",
    "import warnings\n",
    "warnings.filterwarnings('error')\n",
    "\n",
    "import sys\n",
    "sys.path.append('../../')\n",
    "from feature import selection as sel\n",
    "\n",
    "from sklearn.feature_selection import VarianceThreshold\n",
    "\n",
    "FEATURES_PATH =  '../../datasets/features_data/'"
   ]
  },
  {
   "cell_type": "markdown",
   "id": "d2f4308b-8353-4594-8935-613ccf3e381b",
   "metadata": {},
   "source": [
    "Feature selection = Pearson correlation\n",
    "- Calculate correlation between fault (then severity) and features by axis\n",
    "- Transform faults to binary vector (is unbalance, is not unbalance) for each fault - one hot encoding"
   ]
  },
  {
   "cell_type": "markdown",
   "id": "d5135151",
   "metadata": {},
   "source": [
    "Time domain"
   ]
  },
  {
   "cell_type": "code",
   "execution_count": null,
   "id": "da75e298-d8eb-4203-ba26-02760afd1b63",
   "metadata": {},
   "outputs": [],
   "source": [
    "def show_time_domain_correlation(corr_table, n=None):\n",
    "    num_of_faults = len(corr_table['fault'].cat.categories)\n",
    "    fig, axes = plt.subplots(2, num_of_faults // 2, figsize=(20, 10))\n",
    "\n",
    "    for i, group in enumerate(corr_table.groupby(by='fault', observed=True)):\n",
    "        fault, rows = group\n",
    "        x = rows.sort_values(by='corr', ascending=False)\n",
    "        if n is not None:\n",
    "            x = x.head(n)\n",
    "        sel.plot_bar_chart(axes.flatten()[i], x['feature'], x['corr'], f'Fault: {fault}')\n",
    "\n",
    "    for ax in axes[-1]:\n",
    "        ax.set_xlabel('Feature')\n",
    "    for ax in axes[:,0]:\n",
    "        ax.set_ylabel('Correlation with fault')\n",
    "\n",
    "    fig.tight_layout()"
   ]
  },
  {
   "cell_type": "markdown",
   "id": "3d42e2aa-10e3-43f5-b501-e86ebdad830b",
   "metadata": {},
   "source": [
    "Ordered importance of features to fault based on their Pearson correlation coeficient"
   ]
  },
  {
   "cell_type": "code",
   "execution_count": null,
   "id": "a33754de-4ffc-4c1a-962c-bcfcc144b631",
   "metadata": {},
   "outputs": [],
   "source": [
    "features = sel.load_td_feat(['az'], all=True, path=FEATURES_PATH)\n",
    "columns = sel.filter_out_metadata_columns(features).columns\n",
    "df = sel.corr_features_to_fault(features, columns)\n",
    "show_time_domain_correlation(df)\n",
    "df"
   ]
  },
  {
   "cell_type": "code",
   "execution_count": null,
   "id": "d0ed5263",
   "metadata": {},
   "outputs": [],
   "source": [
    "features = sel.load_td_feat(['az'], all=True, path=FEATURES_PATH)\n",
    "columns = sel.filter_out_metadata_columns(features).columns\n",
    "X = features[columns]\n",
    "y = features['fault']\n",
    "corr = (\n",
    "    pd.DataFrame(zip(columns, sel.corr_classif(X, y)), columns=['feature', 'corr'])\n",
    "       .set_index('feature')\n",
    "       .sort_values(by='corr', ascending=False)\n",
    ")\n",
    "corr.plot.bar(grid=True, legend=False)\n",
    "plt.show()"
   ]
  },
  {
   "cell_type": "markdown",
   "id": "5adccda1-1816-40ae-98bc-b8c7d74913df",
   "metadata": {},
   "source": [
    "Correlations among faults and time domain featured unordered"
   ]
  },
  {
   "cell_type": "code",
   "execution_count": null,
   "id": "7314cc2f-df43-4324-b7db-1012f1a8805f",
   "metadata": {},
   "outputs": [],
   "source": [
    "corr_to_class = df.pivot(index='fault', columns='feature', values='corr')\n",
    "fig, ax = plt.subplots(figsize=(10, 5))\n",
    "sb.heatmap(corr_to_class, annot=True, cmap='Greens', ax=ax)\n",
    "plt.show()"
   ]
  },
  {
   "cell_type": "markdown",
   "id": "68ae8ab0-632b-4551-88bf-3375a150283e",
   "metadata": {},
   "source": [
    "Rank order of features averaged among all fault types\n",
    "- *Less is better*"
   ]
  },
  {
   "cell_type": "code",
   "execution_count": null,
   "id": "227ad2a1-d5cb-4586-b011-0df2dde9509a",
   "metadata": {},
   "outputs": [],
   "source": [
    "corr_fault_to_feat = df.pivot(index='fault', columns='feature', values='corr')\n",
    "\n",
    "feature_ranks = corr_fault_to_feat.rank(axis='columns', method='dense', ascending=False)\n",
    "common_rank = feature_ranks.mean().sort_values().to_frame(name='rank')\n",
    "common_rank.plot.bar(grid=True, legend=False)\n",
    "plt.show()"
   ]
  },
  {
   "cell_type": "markdown",
   "id": "19d7c9db-ae5b-456e-94aa-117b8df59e3c",
   "metadata": {},
   "source": [
    "Frequency domain"
   ]
  },
  {
   "cell_type": "code",
   "execution_count": null,
   "id": "332324b6-6ac5-47ba-932c-85fbbabf7870",
   "metadata": {},
   "outputs": [],
   "source": [
    "def show_freq_domain_correlation(corr_table):\n",
    "    num_of_faults = len(corr_table['fault'].cat.categories)\n",
    "    num_of_windows = len(corr_table['window'].cat.categories)\n",
    "    \n",
    "    fig, axes = plt.subplots(num_of_faults, num_of_windows, figsize=(25, 40))\n",
    "\n",
    "    for i, group in enumerate(corr_table.groupby(by=['fault', 'window'], observed=True)):\n",
    "        grouper, rows = group\n",
    "        fault, win = grouper\n",
    "        x = rows.sort_values(by='corr', ascending=False)\n",
    "        sel.plot_bar_chart(axes.flatten()[i], x['feature'], x['corr'], f'Fault: {fault} \\n(Window = {win})')\n",
    "    \n",
    "    for ax in axes[-1]:\n",
    "        ax.set_xlabel('Feature')\n",
    "    for ax in axes[:,0]:\n",
    "        ax.set_ylabel('Correlation with fault')\n",
    "\n",
    "    fig.tight_layout()"
   ]
  },
  {
   "cell_type": "markdown",
   "id": "5633e59d",
   "metadata": {},
   "source": [
    "Overall feature relevance in all windows"
   ]
  },
  {
   "cell_type": "code",
   "execution_count": null,
   "id": "068438ba",
   "metadata": {},
   "outputs": [],
   "source": [
    "features = sel.load_fd_feat(['az'], all=True, path=FEATURES_PATH)\n",
    "columns = sel.filter_out_metadata_columns(features).columns\n",
    "df = sel.corr_features_to_fault(features, columns)\n",
    "show_time_domain_correlation(df, n=15)"
   ]
  },
  {
   "cell_type": "markdown",
   "id": "ff6ac4ab",
   "metadata": {},
   "source": [
    "Rank - less is better"
   ]
  },
  {
   "cell_type": "code",
   "execution_count": null,
   "id": "210543a7",
   "metadata": {},
   "outputs": [],
   "source": [
    "corr_fault_to_feat = df.pivot(index='fault', columns='feature', values='corr')\n",
    "\n",
    "feature_ranks = corr_fault_to_feat.rank(axis='columns', method='dense', ascending=False)\n",
    "common_rank = feature_ranks.mean().sort_values().to_frame(name='rank')\n",
    "common_rank.plot.bar(grid=True, legend=False, figsize=(20, 5))\n",
    "plt.show()"
   ]
  },
  {
   "cell_type": "markdown",
   "id": "8afa3029-d426-4032-83ef-907a4546332a",
   "metadata": {},
   "source": [
    "How does importance of features change with window size\n",
    "- -> Increasing window size\n",
    "- v Different faults "
   ]
  },
  {
   "cell_type": "code",
   "execution_count": null,
   "id": "03492972-bc26-42a3-ac0e-61b8c546ab52",
   "metadata": {},
   "outputs": [],
   "source": [
    "features = sel.load_fd_feat(['az'], all=True, path=FEATURES_PATH)\n",
    "features = sel.calc_corr_in_fft_windows(features)\n",
    "show_freq_domain_correlation(features)"
   ]
  },
  {
   "cell_type": "markdown",
   "id": "dcf560b9-e2b0-4072-802a-28d7539db2ae",
   "metadata": {},
   "source": [
    "Most important features by fault type (rank averaged by window size)\n",
    "- *Less is better*"
   ]
  },
  {
   "cell_type": "code",
   "execution_count": null,
   "id": "1284e1dd-0bee-49e8-adee-711750354f86",
   "metadata": {},
   "outputs": [],
   "source": [
    "def weighted_rank_features_corr(features, index, weighted, values='corr'):\n",
    "    df_ranks = pd.DataFrame()\n",
    "    for i, group in enumerate(features.groupby(by='fault', observed=True)):\n",
    "        fault, df = group\n",
    "        corr_fault_to_feat = df.pivot(index=index, columns='feature', values=values)\n",
    "        feature_ranks = corr_fault_to_feat.rank(axis='columns', method='dense', ascending=False)\n",
    "\n",
    "        if weighted:\n",
    "            feature_ranks *= corr_fault_to_feat\n",
    "        \n",
    "        common_rank = feature_ranks.mean().sort_values().to_frame(name='rank')\n",
    "        \n",
    "        common_rank['fault'] = fault\n",
    "        df_ranks = pd.concat([df_ranks, common_rank])\n",
    "\n",
    "    df_ranks['fault'] = df_ranks['fault'].astype('category')\n",
    "    return df_ranks\n",
    "\n",
    "\n",
    "features_renamed = features.copy()\n",
    "features_renamed['feature'] = sel.fd_extract_feature_name(features['feature'])\n",
    "ranks = weighted_rank_features_corr(features_renamed, index='window', weighted=False)\n",
    "sel.plot_ranked_features(ranks)"
   ]
  }
 ],
 "metadata": {
  "kernelspec": {
   "display_name": "Python 3 (ipykernel)",
   "language": "python",
   "name": "python3"
  },
  "language_info": {
   "codemirror_mode": {
    "name": "ipython",
    "version": 3
   },
   "file_extension": ".py",
   "mimetype": "text/x-python",
   "name": "python",
   "nbconvert_exporter": "python",
   "pygments_lexer": "ipython3",
   "version": "3.11.5"
  }
 },
 "nbformat": 4,
 "nbformat_minor": 5
}
