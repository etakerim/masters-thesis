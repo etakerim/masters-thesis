{
 "cells": [
  {
   "cell_type": "code",
   "execution_count": null,
   "id": "919314cb-f9fa-435b-83ab-289cf39a3ead",
   "metadata": {},
   "outputs": [],
   "source": [
    "import pandas as pd\n",
    "import numpy as np\n",
    "import matplotlib.pyplot as plt\n",
    "import seaborn as sb\n",
    "\n",
    "import warnings\n",
    "warnings.filterwarnings('error')\n",
    "\n",
    "import sys\n",
    "sys.path.append('../../')\n",
    "from feature import selection as sel\n",
    "\n",
    "from sklearn.feature_selection import VarianceThreshold\n",
    "\n",
    "FEATURES_PATH =  '../../datasets/features_data/'"
   ]
  },
  {
   "cell_type": "markdown",
   "id": "d2f4308b-8353-4594-8935-613ccf3e381b",
   "metadata": {},
   "source": [
    "Feature selection = Pearson correlation\n",
    "- Calculate correlation between fault (then severity) and features by axis\n",
    "- Transform faults to binary vector (is unbalance, is not unbalance) for each fault - one hot encoding"
   ]
  },
  {
   "cell_type": "markdown",
   "id": "d5135151",
   "metadata": {},
   "source": [
    "Time domain"
   ]
  },
  {
   "cell_type": "code",
   "execution_count": null,
   "id": "da75e298-d8eb-4203-ba26-02760afd1b63",
   "metadata": {},
   "outputs": [],
   "source": [
    "def show_time_domain_correlation(corr_table):\n",
    "    num_of_faults = len(corr_table['fault'].cat.categories)\n",
    "    fig, axes = plt.subplots(2, num_of_faults // 2, figsize=(20, 10))\n",
    "\n",
    "    for i, group in enumerate(corr_table.groupby(by='fault', observed=True)):\n",
    "        fault, rows = group\n",
    "        x = rows.sort_values(by='corr', ascending=False)\n",
    "        sel.plot_bar_chart(axes.flatten()[i], x['feature'], x['corr'], f'Fault: {fault}')\n",
    "\n",
    "    for ax in axes[-1]:\n",
    "        ax.set_xlabel('Feature')\n",
    "    for ax in axes[:,0]:\n",
    "        ax.set_ylabel('Correlation with fault')\n",
    "\n",
    "    fig.tight_layout()"
   ]
  },
  {
   "cell_type": "markdown",
   "id": "3b665efd-6491-4f39-9256-056a4b26ef35",
   "metadata": {},
   "source": [
    "Variance Threshold in Time domain"
   ]
  },
  {
   "cell_type": "code",
   "execution_count": null,
   "id": "2608f8b5-49b8-42a8-983f-921a8d7647be",
   "metadata": {},
   "outputs": [],
   "source": [
    "def variance_threshold_selector(data, threshold=0.5):\n",
    "    selector = VarianceThreshold(threshold)\n",
    "    selector.fit(data)\n",
    "    return data[data.columns[selector.get_support(indices=True)]]\n",
    "\n",
    "\n",
    "X_train = sel.load_td_feat(['az'], all=True, path=FEATURES_PATH)\n",
    "variance_threshold_selector(sel.filter_out_metadata_columns(X_train), 3)"
   ]
  },
  {
   "cell_type": "markdown",
   "id": "3d42e2aa-10e3-43f5-b501-e86ebdad830b",
   "metadata": {},
   "source": [
    "Ordered importance of features to fault based on their Pearson correlation coeficient"
   ]
  },
  {
   "cell_type": "code",
   "execution_count": null,
   "id": "a33754de-4ffc-4c1a-962c-bcfcc144b631",
   "metadata": {},
   "outputs": [],
   "source": [
    "features = sel.load_td_feat(['az'], all=True, path=FEATURES_PATH)\n",
    "columns = sel.filter_out_metadata_columns(features).columns\n",
    "df = sel.corr_features_to_fault(features, columns)\n",
    "show_time_domain_correlation(df)"
   ]
  },
  {
   "cell_type": "markdown",
   "id": "5adccda1-1816-40ae-98bc-b8c7d74913df",
   "metadata": {},
   "source": [
    "Correlations among faults and time domain featured unordered"
   ]
  },
  {
   "cell_type": "code",
   "execution_count": null,
   "id": "7314cc2f-df43-4324-b7db-1012f1a8805f",
   "metadata": {},
   "outputs": [],
   "source": [
    "corr_to_class = df.pivot(index='fault', columns='feature', values='corr')\n",
    "fig, ax = plt.subplots(figsize=(10, 5))\n",
    "sb.heatmap(corr_to_class, annot=True, cmap='Greens', ax=ax)\n",
    "plt.show()"
   ]
  },
  {
   "cell_type": "markdown",
   "id": "68ae8ab0-632b-4551-88bf-3375a150283e",
   "metadata": {},
   "source": [
    "Rank order of features averaged among all fault types\n",
    "- *Less is better*"
   ]
  },
  {
   "cell_type": "code",
   "execution_count": null,
   "id": "227ad2a1-d5cb-4586-b011-0df2dde9509a",
   "metadata": {},
   "outputs": [],
   "source": [
    "corr_fault_to_feat = df.pivot(index='fault', columns='feature', values='corr')\n",
    "\n",
    "feature_ranks = corr_fault_to_feat.rank(axis='columns', method='dense', ascending=False)\n",
    "common_rank = feature_ranks.mean().sort_values().to_frame(name='rank')\n",
    "common_rank.plot.bar(grid=True, legend=False)\n",
    "plt.show()"
   ]
  },
  {
   "cell_type": "markdown",
   "id": "19d7c9db-ae5b-456e-94aa-117b8df59e3c",
   "metadata": {},
   "source": [
    "Frequency domain"
   ]
  },
  {
   "cell_type": "code",
   "execution_count": null,
   "id": "332324b6-6ac5-47ba-932c-85fbbabf7870",
   "metadata": {},
   "outputs": [],
   "source": [
    "def show_freq_domain_correlation(corr_table):\n",
    "    num_of_faults = len(corr_table['fault'].cat.categories)\n",
    "    num_of_windows = len(corr_table['window'].cat.categories)\n",
    "    \n",
    "    fig, axes = plt.subplots(num_of_faults, num_of_windows, figsize=(25, 40))\n",
    "\n",
    "    for i, group in enumerate(corr_table.groupby(by=['fault', 'window'], observed=True)):\n",
    "        grouper, rows = group\n",
    "        fault, win = grouper\n",
    "        x = rows.sort_values(by='corr', ascending=False)\n",
    "        sel.plot_bar_chart(axes.flatten()[i], x['feature'], x['corr'], f'Fault: {fault} \\n(Window = {win})')\n",
    "    \n",
    "    for ax in axes[-1]:\n",
    "        ax.set_xlabel('Feature')\n",
    "    for ax in axes[:,0]:\n",
    "        ax.set_ylabel('Correlation with fault')\n",
    "\n",
    "    fig.tight_layout()"
   ]
  },
  {
   "cell_type": "markdown",
   "id": "8afa3029-d426-4032-83ef-907a4546332a",
   "metadata": {},
   "source": [
    "How does importance of features change with window size\n",
    "- -> Increasing window size\n",
    "- v Different faults "
   ]
  },
  {
   "cell_type": "code",
   "execution_count": null,
   "id": "03492972-bc26-42a3-ac0e-61b8c546ab52",
   "metadata": {},
   "outputs": [],
   "source": [
    "features = sel.load_fd_feat(['az'], all=True, path=FEATURES_PATH)\n",
    "features = sel.calc_corr_in_fft_windows(features, sel.FD_COLUMNS)\n",
    "show_freq_domain_correlation(features)"
   ]
  },
  {
   "cell_type": "markdown",
   "id": "dcf560b9-e2b0-4072-802a-28d7539db2ae",
   "metadata": {},
   "source": [
    "Most important features by fault type (rank averaged by window size)\n",
    "- *Less is better*"
   ]
  },
  {
   "cell_type": "code",
   "execution_count": null,
   "id": "1284e1dd-0bee-49e8-adee-711750354f86",
   "metadata": {},
   "outputs": [],
   "source": [
    "ranks = sel.weighted_rank_features_corr(features, index='window', weighted=False)\n",
    "sel.plot_ranked_features(ranks)"
   ]
  },
  {
   "cell_type": "markdown",
   "id": "cbe80376-d85a-4d3b-896f-740f67ce1430",
   "metadata": {},
   "source": [
    "Rank order of features averaged among all fault types\n",
    "- *Less is better*"
   ]
  },
  {
   "cell_type": "code",
   "execution_count": null,
   "id": "9c86ad5f-cc9f-4605-953c-53a5fd3ac201",
   "metadata": {},
   "outputs": [],
   "source": [
    "corr_fault_to_feat = ranks.reset_index().pivot(index='fault', columns='feature', values='rank')\n",
    "common_rank = feature_ranks.mean().sort_values().to_frame(name='rank')\n",
    "common_rank.plot.bar(grid=True, legend=False)\n",
    "plt.show()\n",
    "corr_fault_to_feat"
   ]
  },
  {
   "cell_type": "markdown",
   "id": "ecd21527-e528-44ee-99a8-ec6c04bb3379",
   "metadata": {},
   "source": [
    "Wavelets"
   ]
  },
  {
   "cell_type": "code",
   "execution_count": null,
   "id": "fc6a224d-140d-4288-aa48-dcbb277af270",
   "metadata": {},
   "outputs": [],
   "source": [
    "def show_wpd_domain_correlation(corr_table, top_n):\n",
    "    num_of_faults = len(corr_table['fault'].cat.categories)\n",
    "    num_of_windows = len(corr_table['metric'].cat.categories)\n",
    "    \n",
    "    fig, axes = plt.subplots(num_of_faults, num_of_windows, figsize=(25, 40))\n",
    "\n",
    "    for i, group in enumerate(corr_table.groupby(by=['fault', 'metric'], observed=True)):\n",
    "        grouper, rows = group\n",
    "        fault, metric = grouper\n",
    "        x = rows.sort_values(by='corr', ascending=False).head(top_n)\n",
    "        sel.plot_bar_chart(axes.flatten()[i], x['feature'], x['corr'], f'Fault: {fault} \\n({metric})')\n",
    "\n",
    "    for ax in axes[-1]:\n",
    "        ax.set_xlabel('Feature')\n",
    "    for ax in axes[:,0]:\n",
    "        ax.set_ylabel('Correlation with fault')\n",
    "\n",
    "    fig.tight_layout()"
   ]
  },
  {
   "cell_type": "markdown",
   "id": "6526093a-3328-489d-be68-bfd8ebe2f658",
   "metadata": {},
   "source": [
    "WPD all layers (no simple conclusions can be drawn)"
   ]
  },
  {
   "cell_type": "code",
   "execution_count": null,
   "id": "0e8ccab2-76fa-4eec-b8c5-aa1e51cac258",
   "metadata": {},
   "outputs": [],
   "source": [
    "features = sel.load_wavelet_domain_features(['ax', 'ay', 'az'])\n",
    "features = sel.calc_corr_in_wpd_features(features)\n",
    "features"
   ]
  },
  {
   "cell_type": "code",
   "execution_count": null,
   "id": "30a05bea-a7af-44b1-a11e-48da3888e3f7",
   "metadata": {},
   "outputs": [],
   "source": [
    "show_wpd_domain_correlation(features, top_n=25)"
   ]
  },
  {
   "cell_type": "markdown",
   "id": "4bee6982-fe28-41b9-9814-82886c93743e",
   "metadata": {},
   "source": [
    "WPD correlations in one chosen layer"
   ]
  },
  {
   "cell_type": "code",
   "execution_count": null,
   "id": "feb57779-5b51-4ad5-ad62-e4e9f67458ec",
   "metadata": {},
   "outputs": [],
   "source": [
    "level = 4\n",
    "layer = features[features['feature'].str.startswith(f'L{level}')]\n",
    "show_wpd_domain_correlation(layer, top_n=25)"
   ]
  },
  {
   "cell_type": "markdown",
   "id": "8ad3670c-558c-4e7e-aad1-00a716e36ad0",
   "metadata": {},
   "source": [
    "Most important features by fault type (weigthed rank averaged by metrics)\n",
    "- *Less is better*"
   ]
  },
  {
   "cell_type": "code",
   "execution_count": null,
   "id": "37e44522-4c4d-495b-b4a2-54a112bf611b",
   "metadata": {},
   "outputs": [],
   "source": [
    "ranks = sel.weighted_rank_features_corr(layer, index='metric', weighted=True)\n",
    "sel.plot_ranked_features(ranks)"
   ]
  },
  {
   "cell_type": "markdown",
   "id": "8230c911-dd87-4e09-ac1f-333fe35b8019",
   "metadata": {},
   "source": [
    "Different WPD layer"
   ]
  },
  {
   "cell_type": "code",
   "execution_count": null,
   "id": "086feebd-a7ec-41ba-b3cb-b83e921b6735",
   "metadata": {},
   "outputs": [],
   "source": [
    "level = 3\n",
    "layer = features[features['feature'].str.startswith(f'L{level}')]\n",
    "ranks = sel.weighted_rank_features_corr(layer, index='metric', weighted=True)\n",
    "sel.plot_ranked_features(ranks)"
   ]
  }
 ],
 "metadata": {
  "kernelspec": {
   "display_name": "Python 3 (ipykernel)",
   "language": "python",
   "name": "python3"
  },
  "language_info": {
   "codemirror_mode": {
    "name": "ipython",
    "version": 3
   },
   "file_extension": ".py",
   "mimetype": "text/x-python",
   "name": "python",
   "nbconvert_exporter": "python",
   "pygments_lexer": "ipython3",
   "version": "3.11.5"
  }
 },
 "nbformat": 4,
 "nbformat_minor": 5
}
