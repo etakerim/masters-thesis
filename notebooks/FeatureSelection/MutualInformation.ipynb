{
 "cells": [
  {
   "cell_type": "code",
   "execution_count": null,
   "id": "0c12dc2e-d3ac-43f5-942e-963ae5909c55",
   "metadata": {},
   "outputs": [],
   "source": [
    "import seaborn as sb\n",
    "import pandas as pd\n",
    "import matplotlib.pyplot as plt\n",
    "import numpy as np\n",
    "\n",
    "import sys\n",
    "sys.path.append('../../')\n",
    "from feature import selection as sel"
   ]
  },
  {
   "cell_type": "markdown",
   "id": "3cf255bb-112a-4617-b0d6-ca015a1f4b8f",
   "metadata": {},
   "source": [
    "# Mutual information\n",
    "\n",
    "## Time domain"
   ]
  },
  {
   "cell_type": "markdown",
   "id": "ac530a12-c00b-4f12-a976-3b111997a998",
   "metadata": {},
   "source": [
    "### Unnormalized vs. Normalized features\n",
    "- Result found: Mutual information is independent of scaling"
   ]
  },
  {
   "cell_type": "code",
   "execution_count": null,
   "id": "01ddc54f-dc05-444d-84dd-af71701cad5e",
   "metadata": {},
   "outputs": [],
   "source": [
    "features = sel.load_time_domain_features(['ax', 'ay', 'az', 'bx', 'by', 'bz'])\n",
    "fscore = sel.calc_mutual_information(features, sel.TD_COLUMNS, summary=True)\n",
    "\n",
    "features_normalized = sel.normalize_features(features)\n",
    "fscore_norm = sel.calc_mutual_information(features_normalized, sel.TD_COLUMNS, summary=True)\n",
    "\n",
    "fig, ax = plt.subplots(1, 2, figsize=(20, 5))\n",
    "fscore.plot.bar(figsize=(10, 4), grid=True, xlabel='Feature', ylabel='Mutual information', legend=False, title='Unnormalized', ax=ax[0])\n",
    "fscore_norm.plot.bar(figsize=(10, 4), grid=True, xlabel='Feature', ylabel='Mutual information', legend=False, title='Normalized', ax=ax[1])\n",
    "plt.show()"
   ]
  },
  {
   "cell_type": "markdown",
   "id": "261a5feb-d185-48b3-a2f7-dae8edcbf1c0",
   "metadata": {},
   "source": [
    "### MI between feature on axis and target fault state"
   ]
  },
  {
   "cell_type": "code",
   "execution_count": null,
   "id": "a52cccb9-3b33-40f9-8c47-7f417cfd8b8f",
   "metadata": {},
   "outputs": [],
   "source": [
    "features = sel.load_time_domain_features(['ax', 'ay', 'az', 'bx', 'by', 'bz'])\n",
    "df = sel.calc_mutual_information(features, sel.TD_COLUMNS, summary=False)\n",
    "fig, ax = plt.subplots(figsize=(10, 5)) \n",
    "sb.heatmap(df, annot=True, ax=ax, cmap=\"Greens\", fmt=\".3f\")\n",
    "plt.show()\n",
    "df"
   ]
  },
  {
   "cell_type": "markdown",
   "id": "4c90ef3e-a5bc-4afd-aa49-c7eb7adecbbc",
   "metadata": {},
   "source": [
    "## Frequency domain\n",
    "\n",
    "### F score of all windows in all axis to multiclass fault"
   ]
  },
  {
   "cell_type": "code",
   "execution_count": null,
   "id": "b0ca2c53-6e9d-48f7-b8ec-aba20805d35a",
   "metadata": {},
   "outputs": [],
   "source": [
    "EXCLUDE_COLS = ['inharmonicity', 'hdev', 'negentropy']\n",
    "columns = list(set(sel.FD_COLUMNS) - set(EXCLUDE_COLS))\n",
    "\n",
    "features = sel.load_frequency_domain_features(['ax', 'ay', 'az', 'bx', 'by', 'bz'])\n",
    "features = features.drop(columns=EXCLUDE_COLS)\n",
    "\n",
    "fscore = sel.calc_mutual_information(features, columns, summary=True)\n",
    "fscore.plot.bar(figsize=(5, 4), grid=True, xlabel='Feature', ylabel='Mutual information', legend=False, title='F score in Frequency domain')\n",
    "plt.show()"
   ]
  },
  {
   "cell_type": "markdown",
   "id": "2f3755f4-2829-4a27-a294-834700878cea",
   "metadata": {},
   "source": [
    "### MI to some faults"
   ]
  },
  {
   "cell_type": "code",
   "execution_count": null,
   "id": "ba631128-cc93-4571-9cbf-40c9683a3a82",
   "metadata": {},
   "outputs": [],
   "source": [
    "features_chosen = features[features['fault'].isin([\n",
    "    'normal', 'imbalance', 'vertical-misalignment', 'horizontal-misalignment' \n",
    "])]\n",
    "fscore = sel.calc_mutual_information(features_chosen, columns, summary=True)\n",
    "fscore.plot.bar(figsize=(5, 4), grid=True, xlabel='Feature', ylabel='F statistic', legend=False, title='F score in Frequency domain')\n",
    "plt.show()"
   ]
  },
  {
   "cell_type": "markdown",
   "id": "d53895ee-3ad7-4868-a8f1-92c0178c10e4",
   "metadata": {},
   "source": [
    "### MI in all axis to multiclass fault (per each window size)"
   ]
  },
  {
   "cell_type": "code",
   "execution_count": null,
   "id": "d5911ef5-f4fc-4f46-99d9-acbd730d9134",
   "metadata": {},
   "outputs": [],
   "source": [
    "df = sel.calc_score_in_fft_windows(features, columns, lambda f, c: sel.calc_mutual_information(f, c, summary=True))\n",
    "sel.plot_fscore_part(df, 'window')"
   ]
  },
  {
   "cell_type": "markdown",
   "id": "e7626998-5e69-41ec-93a9-e1365933b135",
   "metadata": {},
   "source": [
    "#### All faults: best features by ranking over all windows (non-weighted vs. weighted by score)\n",
    "- less is better"
   ]
  },
  {
   "cell_type": "code",
   "execution_count": null,
   "id": "2384dcaa-3114-4610-b0d6-3052101bd42d",
   "metadata": {},
   "outputs": [],
   "source": [
    "sel.plot_rank(df, 'window')"
   ]
  },
  {
   "cell_type": "markdown",
   "id": "9ba7a4d9-7f3b-4fad-a6ce-ffe2663d1331",
   "metadata": {},
   "source": [
    "### MI in all axis to multiclass fault (per each window size) and chosen faults"
   ]
  },
  {
   "cell_type": "code",
   "execution_count": null,
   "id": "90979a51-eda4-404f-9089-a601dd27891c",
   "metadata": {},
   "outputs": [],
   "source": [
    "df_chosen = sel.calc_score_in_fft_windows(features_chosen, columns, lambda f, c: sel.calc_mutual_information(f, c, summary=True))\n",
    "sel.plot_fscore_in_fft_win(df_chosen)"
   ]
  },
  {
   "cell_type": "markdown",
   "id": "665a68e2-54b2-48e9-83a1-1ac70bccde45",
   "metadata": {},
   "source": [
    "#### All faults: best features by ranking over all windows (non-weighted vs. weighted by score)"
   ]
  },
  {
   "cell_type": "code",
   "execution_count": null,
   "id": "ed0a0cf8-06b0-4d4a-b6ca-5df9e05fefbf",
   "metadata": {},
   "outputs": [],
   "source": [
    "sel.plot_rank(df_chosen, 'window')"
   ]
  },
  {
   "cell_type": "markdown",
   "id": "70b8a20e-56cc-4f0d-b37a-72dc4d0b61ee",
   "metadata": {},
   "source": [
    "## Wavelet packet transform"
   ]
  },
  {
   "cell_type": "code",
   "execution_count": null,
   "id": "6449c6ab-d492-4e34-8135-2ddbfbee20ba",
   "metadata": {},
   "outputs": [],
   "source": [
    "features = sel.load_wavelet_domain_features(['ax', 'ay', 'az', 'bx', 'by', 'bz'])\n",
    "df = sel.calc_score_in_wpd_features(features, lambda f, c: sel.calc_mutual_information(f, c, summary=True))\n",
    "sel.plot_fscore_part(df, 'metric', n=30)"
   ]
  },
  {
   "cell_type": "markdown",
   "id": "e6733fee-8f2f-4780-9e3d-ed1db1d17ed2",
   "metadata": {},
   "source": [
    "#### WPD features in one layer"
   ]
  },
  {
   "cell_type": "code",
   "execution_count": null,
   "id": "3aa90f25-8869-4f01-90e3-eaf6d98b149a",
   "metadata": {},
   "outputs": [],
   "source": [
    "level = 3\n",
    "df = sel.calc_score_in_wpd_features(features, lambda f, c: sel.calc_mutual_information(f, c, summary=True))\n",
    "layer = df[df.index.str.startswith(f'L{level}')]\n",
    "sel.plot_fscore_part(layer, 'metric')"
   ]
  },
  {
   "cell_type": "code",
   "execution_count": null,
   "id": "eef946f9-bbd7-4e88-9f7e-980240480b82",
   "metadata": {},
   "outputs": [],
   "source": [
    "sel.plot_rank(layer, 'metric')"
   ]
  },
  {
   "cell_type": "code",
   "execution_count": null,
   "id": "7786b511-9830-4f89-985b-fe41a8718903",
   "metadata": {},
   "outputs": [],
   "source": [
    "level = 4\n",
    "df = sel.calc_score_in_wpd_features(features, lambda f, c: sel.calc_mutual_information(f, c, summary=True))\n",
    "layer = df[df.index.str.startswith(f'L{level}')]\n",
    "sel.plot_fscore_part(layer, 'metric')"
   ]
  },
  {
   "cell_type": "markdown",
   "id": "0811e4f4-a7f7-4be3-99ea-0e3719039be1",
   "metadata": {},
   "source": [
    "### Mutual information between feature in axis and various faults (predicted variable)"
   ]
  },
  {
   "cell_type": "code",
   "execution_count": null,
   "id": "740af88c-7d15-4c15-b80d-3642d3b37a35",
   "metadata": {},
   "outputs": [],
   "source": [
    "def mi_among_fault_and_axis(features, cols):\n",
    "    fig, ax = plt.subplots(5, 1, figsize=(8, 20))\n",
    "\n",
    "    WINDOW_SIZES = (2**8, 2**10, 2**12, 2**14, 2**16)\n",
    "    for i, win in enumerate(WINDOW_SIZES):\n",
    "        x = features[\n",
    "            (features['fft_window_length'] == win) &\n",
    "            (features['axis'].isin(cols))\n",
    "        ].dropna()\n",
    "        o = ax.flatten()[i]\n",
    "        mi = sel.calc_mutual_information(x, sel.FD_COLUMNS, summary=False)\n",
    "        sb.heatmap(mi, annot=True, ax=o, cmap=\"Greens\")\n",
    "        o.set_title(f'FFT: {win}')\n",
    "\n",
    "AXIS = ['ax', 'ay', 'az', 'bx', 'by', 'bz']\n",
    "features = pd.read_csv(sel.FREQ_FEATURES_PATH)\n",
    "features['fault'] = features['fault'].astype('category')\n",
    "features['fft_window_length'] = features['fft_window_length'].astype('category')\n",
    "\n",
    "mi_among_fault_and_axis(features, AXIS)\n",
    "plt.show()"
   ]
  },
  {
   "cell_type": "markdown",
   "id": "59c70313-c19c-4520-ad9d-61801a2420ad",
   "metadata": {},
   "source": [
    "## MI in Wavelets"
   ]
  },
  {
   "cell_type": "code",
   "execution_count": null,
   "id": "c08bd10f-5657-4046-b885-ae113ab4ee83",
   "metadata": {},
   "outputs": [],
   "source": [
    "features = pd.read_csv(sel.WPD_FEATURES_PATH)\n",
    "\n",
    "WPD_AXIS = 'ax'\n",
    "# More axis at once significantly reduces MI\n",
    "features = features[features['axis'] == WPD_AXIS]                 # One axis\n",
    "features['fault'] = features['fault'].astype('category')\n",
    "#features = features[features['axis'].isin(['ax', 'ay', 'az'])]  # One measuremnt position\n",
    "\n",
    "columns = [col for col in features.columns \n",
    "           if col not in ('fault', 'severity', 'seq', 'rpm', 'axis', 'feature')]\n",
    "features.head()"
   ]
  },
  {
   "cell_type": "code",
   "execution_count": null,
   "id": "9151de8a-c3dc-4dec-9910-264689edd41a",
   "metadata": {},
   "outputs": [],
   "source": [
    "features_energy = features[features['feature'] == 'energy']\n",
    "print(len(features_energy))\n",
    "\n",
    "mi = sel.calc_mutual_information(features_energy, columns, summary=True)\n",
    "mi.iloc[:30].plot.bar(figsize=(20, 4), grid=True, ylabel='MI', title='WPD Energy')\n",
    "plt.show()"
   ]
  },
  {
   "cell_type": "code",
   "execution_count": null,
   "id": "a247303a-d683-47e8-b5ef-f66f21efd7c8",
   "metadata": {},
   "outputs": [],
   "source": [
    "def plot_wpd_energy_ratio_per_level(features, wpd_axis):\n",
    "    features = features[features['axis'].isin(wpd_axis)]  \n",
    "    features_energy_ratio = features[features['feature'] == 'energy_ratio']\n",
    "    # print(len(features_energy_ratio))\n",
    "    \n",
    "    fig, ax = plt.subplots(6, 1, figsize=(15, 20))\n",
    "    \n",
    "    for level in range(1, 7):\n",
    "        cols = np.array(columns)\n",
    "        cols = cols[np.char.startswith(cols, f'L{level}')]\n",
    "        mi = sel.calc_mutual_information(features_energy_ratio, cols, summary=True)\n",
    "        \n",
    "        o = ax.flatten()[level-1]\n",
    "        o.bar(mi.index, mi.values.T[0])\n",
    "        o.grid(True)\n",
    "        o.set_xlabel('Feature')\n",
    "        o.set_ylabel('MI')\n",
    "        \n",
    "        # Rotate x labels by 45 deg\n",
    "        o.set_xticks(o.get_xticks())\n",
    "        o.set_xticklabels(o.get_xticklabels(), rotation=45, ha='right')\n",
    "\n",
    "    fig.suptitle(f'WPD energy ratio: Axis \"{wpd_axis}\"', fontsize=16, y=0.9)\n",
    "    plt.show()"
   ]
  },
  {
   "cell_type": "code",
   "execution_count": null,
   "id": "e8f23aca-4212-455a-90f0-f22f14e77211",
   "metadata": {},
   "outputs": [],
   "source": [
    "plot_wpd_energy_ratio_per_level(features, ['ax'])"
   ]
  },
  {
   "cell_type": "code",
   "execution_count": null,
   "id": "0d0b0dc2-b9ff-4698-8247-c19a159672b4",
   "metadata": {},
   "outputs": [],
   "source": [
    "plot_wpd_energy_ratio_per_level(features, ['ax', 'ay', 'az'])"
   ]
  },
  {
   "cell_type": "code",
   "execution_count": null,
   "id": "870acc49-57f4-4bed-b3d1-e47564b22d83",
   "metadata": {},
   "outputs": [],
   "source": [
    "features_entropy = features[features['feature'] == 'negentropy']\n",
    "print(len(features_entropy))\n",
    "\n",
    "mi = sel.calc_mutual_information(features_entropy, columns, summary=True)\n",
    "mi.iloc[:30].plot.bar(figsize=(20, 4), grid=True, ylabel='MI', title='WPD Negentropy')\n",
    "plt.show()"
   ]
  },
  {
   "cell_type": "code",
   "execution_count": null,
   "id": "4cfce01b-389c-455e-84e7-2dc7fa0312cf",
   "metadata": {},
   "outputs": [],
   "source": [
    "features_kurtosis = features[features['feature'] == 'kurtosis']\n",
    "print(len(features_kurtosis))\n",
    "\n",
    "mi = sel.calc_mutual_information(features_entropy, columns, summary=True)\n",
    "mi.iloc[:30].plot.bar(figsize=(20, 4), grid=True, ylabel='MI', title='WPD Kurtosis')\n",
    "plt.show()"
   ]
  },
  {
   "cell_type": "code",
   "execution_count": null,
   "id": "980d2326-e31a-4f3b-b85a-ecc877115f82",
   "metadata": {},
   "outputs": [],
   "source": [
    "def level_to_frequency_bands(level, fs):\n",
    "    bin_count = 2 ** level\n",
    "    bin_width = (fs / 2) / bin_count\n",
    "    for bin in range(bin_count):\n",
    "        a = bin * bin_width\n",
    "        b = a + bin_width\n",
    "        print(f'L{level}_{bin} = [{a}; {b}] Hz')\n",
    "\n",
    "level_to_frequency_bands(level=4, fs=50000)"
   ]
  }
 ],
 "metadata": {
  "kernelspec": {
   "display_name": "Python 3 (ipykernel)",
   "language": "python",
   "name": "python3"
  },
  "language_info": {
   "codemirror_mode": {
    "name": "ipython",
    "version": 3
   },
   "file_extension": ".py",
   "mimetype": "text/x-python",
   "name": "python",
   "nbconvert_exporter": "python",
   "pygments_lexer": "ipython3",
   "version": "3.11.5"
  }
 },
 "nbformat": 4,
 "nbformat_minor": 5
}
