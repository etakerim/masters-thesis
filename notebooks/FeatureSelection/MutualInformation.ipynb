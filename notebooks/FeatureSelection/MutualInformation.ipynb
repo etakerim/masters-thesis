{
 "cells": [
  {
   "cell_type": "markdown",
   "id": "3cf255bb-112a-4617-b0d6-ca015a1f4b8f",
   "metadata": {},
   "source": [
    "# Mutual information\n",
    "\n",
    "## MI in Time domain"
   ]
  },
  {
   "cell_type": "code",
   "execution_count": null,
   "id": "01ddc54f-dc05-444d-84dd-af71701cad5e",
   "metadata": {},
   "outputs": [],
   "source": [
    "features = load_time_domain_features(['ax', 'ay', 'az', 'bx', 'by', 'bz'])\n",
    "mi = calc_mutual_information(features, TD_COLUMNS, summary=True)\n",
    "mi.plot.bar(figsize=(8, 5), grid=True, xlabel='Feature', ylabel='Mutual information', legend=False)\n",
    "plt.show()"
   ]
  },
  {
   "cell_type": "markdown",
   "id": "261a5feb-d185-48b3-a2f7-dae8edcbf1c0",
   "metadata": {},
   "source": [
    "### MI between feature on axis and target fault state"
   ]
  },
  {
   "cell_type": "code",
   "execution_count": null,
   "id": "a52cccb9-3b33-40f9-8c47-7f417cfd8b8f",
   "metadata": {},
   "outputs": [],
   "source": [
    "fig, ax = plt.subplots(figsize=(10, 5))  \n",
    "sb.heatmap(calc_mutual_information(features, sel.TD_COLUMNS, summary=False), annot=True, ax=ax, cmap=\"Greens\")\n",
    "plt.show()"
   ]
  },
  {
   "cell_type": "markdown",
   "id": "4c90ef3e-a5bc-4afd-aa49-c7eb7adecbbc",
   "metadata": {},
   "source": [
    "## MI in Frequency domain\n",
    "- By fft window length\n",
    "- By measurement point:{(ax, ay, az), {bx, by, bz})"
   ]
  },
  {
   "cell_type": "code",
   "execution_count": null,
   "id": "b0ca2c53-6e9d-48f7-b8ec-aba20805d35a",
   "metadata": {},
   "outputs": [],
   "source": [
    "WINDOW_SIZES = (2**8, 2**10, 2**12, 2**14, 2**16)\n",
    "\n",
    "def show_freq_domain_mutual_info(features, cols):\n",
    "    fig, ax = plt.subplots(1, 5, figsize=(20, 5))\n",
    "    for i, win in enumerate(WINDOW_SIZES):\n",
    "        x = features[\n",
    "                (features['fft_window_length'] == win) &\n",
    "                (features['axis'].isin(cols))\n",
    "            ].dropna()\n",
    "        print('FFT:', win, 'Number of rows:', len(x))\n",
    "        mi = calc_mutual_information(x, columns, summary=True)\n",
    "\n",
    "        o = ax.flatten()[i]\n",
    "        o.bar(mi.index, mi.values.T[0])\n",
    "        # Stylize bar graph\n",
    "        o.grid(True)\n",
    "        o.set_xlabel('Feature')\n",
    "        o.set_ylabel('MI')\n",
    "        o.set_title(f'FFT: {win}')\n",
    "        # Rotate x labels by 45 deg\n",
    "        o.set_xticks(o.get_xticks())\n",
    "        o.set_xticklabels(o.get_xticklabels(), rotation=45, ha='right')"
   ]
  },
  {
   "cell_type": "code",
   "execution_count": null,
   "id": "c4a04d07-11dd-45f3-8b79-9bf473877ffc",
   "metadata": {},
   "outputs": [],
   "source": [
    "features = load_frequency_domain_features()\n",
    "show_freq_domain_mutual_info(features, ['ax', 'ay', 'az'])\n",
    "plt.show()"
   ]
  },
  {
   "cell_type": "code",
   "execution_count": null,
   "id": "2c0916ad-693f-4fad-963b-fff5542f2a42",
   "metadata": {},
   "outputs": [],
   "source": [
    "show_freq_domain_mutual_info(features, ['bx', 'by', 'bz'])\n",
    "plt.show()"
   ]
  },
  {
   "cell_type": "markdown",
   "id": "0811e4f4-a7f7-4be3-99ea-0e3719039be1",
   "metadata": {},
   "source": [
    "### Mutual information between feature in axis and various faults (predicted variable)"
   ]
  },
  {
   "cell_type": "code",
   "execution_count": null,
   "id": "740af88c-7d15-4c15-b80d-3642d3b37a35",
   "metadata": {},
   "outputs": [],
   "source": [
    "def mi_among_fault_and_axis(features, cols):\n",
    "    fig, ax = plt.subplots(5, 1, figsize=(8, 20))\n",
    "    \n",
    "    for i, win in enumerate(WINDOW_SIZES):\n",
    "        x = features[\n",
    "            (features['fft_window_length'] == win) &\n",
    "            (features['axis'].isin(cols))\n",
    "        ].dropna()\n",
    "        o = ax.flatten()[i]\n",
    "        mi = calc_mutual_information(x, FD_COLUMNS, summary=False)\n",
    "        sb.heatmap(mi, annot=True, ax=o, cmap=\"Greens\")\n",
    "        o.set_title(f'FFT: {win}')\n",
    "\n",
    "AXIS = ['ax', 'ay', 'az', 'bx', 'by', 'bz']\n",
    "features = pd.read_csv(FREQ_FEATURES_PATH)\n",
    "features['fault'] = features['fault'].astype('category')\n",
    "features['fft_window_length'] = features['fft_window_length'].astype('category')\n",
    "\n",
    "mi_among_fault_and_axis(features, AXIS)\n",
    "plt.show()"
   ]
  },
  {
   "cell_type": "markdown",
   "id": "de0cd27c-59cf-4515-8660-67df12f1e659",
   "metadata": {},
   "source": [
    "## TODO: MI in Freq domain: Rank order of features averaged among all window sizes"
   ]
  },
  {
   "cell_type": "markdown",
   "id": "59c70313-c19c-4520-ad9d-61801a2420ad",
   "metadata": {},
   "source": [
    "## MI in Wavelets"
   ]
  },
  {
   "cell_type": "code",
   "execution_count": null,
   "id": "c08bd10f-5657-4046-b885-ae113ab4ee83",
   "metadata": {},
   "outputs": [],
   "source": [
    "features = pd.read_csv(WPD_FEATURES_PATH)\n",
    "\n",
    "WPD_AXIS = 'ax'\n",
    "# More axis at once significantly reduces MI\n",
    "features = features[features['axis'] == WPD_AXIS]                 # One axis\n",
    "features['fault'] = features['fault'].astype('category')\n",
    "#features = features[features['axis'].isin(['ax', 'ay', 'az'])]  # One measuremnt position\n",
    "\n",
    "columns = [col for col in features.columns \n",
    "           if col not in ('fault', 'severity', 'seq', 'rpm', 'axis', 'feature')]\n",
    "features.head()"
   ]
  },
  {
   "cell_type": "code",
   "execution_count": null,
   "id": "9151de8a-c3dc-4dec-9910-264689edd41a",
   "metadata": {},
   "outputs": [],
   "source": [
    "features_energy = features[features['feature'] == 'energy']\n",
    "print(len(features_energy))\n",
    "\n",
    "mi = calc_mutual_information(features_energy, columns, summary=True)\n",
    "mi.iloc[:30].plot.bar(figsize=(20, 4), grid=True, ylabel='MI', title='WPD Energy')\n",
    "plt.show()"
   ]
  },
  {
   "cell_type": "code",
   "execution_count": null,
   "id": "a247303a-d683-47e8-b5ef-f66f21efd7c8",
   "metadata": {},
   "outputs": [],
   "source": [
    "def plot_wpd_energy_ratio_per_level(features, wpd_axis):\n",
    "    features = features[features['axis'].isin(wpd_axis)]  \n",
    "    features_energy_ratio = features[features['feature'] == 'energy_ratio']\n",
    "    # print(len(features_energy_ratio))\n",
    "    \n",
    "    fig, ax = plt.subplots(6, 1, figsize=(15, 20))\n",
    "    \n",
    "    for level in range(1, 7):\n",
    "        cols = np.array(columns)\n",
    "        cols = cols[np.char.startswith(cols, f'L{level}')]\n",
    "        mi = calc_mutual_information(features_energy_ratio, cols, summary=True)\n",
    "        \n",
    "        o = ax.flatten()[level-1]\n",
    "        o.bar(mi.index, mi.values.T[0])\n",
    "        o.grid(True)\n",
    "        o.set_xlabel('Feature')\n",
    "        o.set_ylabel('MI')\n",
    "        \n",
    "        # Rotate x labels by 45 deg\n",
    "        o.set_xticks(o.get_xticks())\n",
    "        o.set_xticklabels(o.get_xticklabels(), rotation=45, ha='right')\n",
    "\n",
    "    fig.suptitle(f'WPD energy ratio: Axis \"{wpd_axis}\"', fontsize=16, y=0.9)\n",
    "    plt.show()"
   ]
  },
  {
   "cell_type": "code",
   "execution_count": null,
   "id": "e8f23aca-4212-455a-90f0-f22f14e77211",
   "metadata": {},
   "outputs": [],
   "source": [
    "plot_wpd_energy_ratio_per_level(features, ['ax'])"
   ]
  },
  {
   "cell_type": "code",
   "execution_count": null,
   "id": "0d0b0dc2-b9ff-4698-8247-c19a159672b4",
   "metadata": {},
   "outputs": [],
   "source": [
    "plot_wpd_energy_ratio_per_level(features, ['ax', 'ay', 'az'])"
   ]
  },
  {
   "cell_type": "code",
   "execution_count": null,
   "id": "870acc49-57f4-4bed-b3d1-e47564b22d83",
   "metadata": {},
   "outputs": [],
   "source": [
    "features_entropy = features[features['feature'] == 'negentropy']\n",
    "print(len(features_entropy))\n",
    "\n",
    "mi = calc_mutual_information(features_entropy, columns, summary=True)\n",
    "mi.iloc[:30].plot.bar(figsize=(20, 4), grid=True, ylabel='MI', title='WPD Negentropy')\n",
    "plt.show()"
   ]
  },
  {
   "cell_type": "code",
   "execution_count": null,
   "id": "4cfce01b-389c-455e-84e7-2dc7fa0312cf",
   "metadata": {},
   "outputs": [],
   "source": [
    "features_kurtosis = features[features['feature'] == 'kurtosis']\n",
    "print(len(features_kurtosis))\n",
    "\n",
    "mi = calc_mutual_information(features_entropy, columns, summary=True)\n",
    "mi.iloc[:30].plot.bar(figsize=(20, 4), grid=True, ylabel='MI', title='WPD Kurtosis')\n",
    "plt.show()"
   ]
  },
  {
   "cell_type": "code",
   "execution_count": null,
   "id": "980d2326-e31a-4f3b-b85a-ecc877115f82",
   "metadata": {},
   "outputs": [],
   "source": [
    "def level_to_frequency_bands(level, fs):\n",
    "    bin_count = 2 ** level\n",
    "    bin_width = (fs / 2) / bin_count\n",
    "    for bin in range(bin_count):\n",
    "        a = bin * bin_width\n",
    "        b = a + bin_width\n",
    "        print(f'L{level}_{bin} = [{a}; {b}] Hz')\n",
    "\n",
    "level_to_frequency_bands(level=4, fs=50000)"
   ]
  }
 ],
 "metadata": {
  "kernelspec": {
   "display_name": "Python 3 (ipykernel)",
   "language": "python",
   "name": "python3"
  },
  "language_info": {
   "codemirror_mode": {
    "name": "ipython",
    "version": 3
   },
   "file_extension": ".py",
   "mimetype": "text/x-python",
   "name": "python",
   "nbconvert_exporter": "python",
   "pygments_lexer": "ipython3",
   "version": "3.11.5"
  }
 },
 "nbformat": 4,
 "nbformat_minor": 5
}
