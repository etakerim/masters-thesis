{
 "cells": [
  {
   "cell_type": "markdown",
   "id": "b599331c-ebd7-40a6-b124-86ea4e92a8b2",
   "metadata": {},
   "source": [
    "F score"
   ]
  },
  {
   "cell_type": "code",
   "execution_count": null,
   "id": "9eb6b065-41b9-45e8-9c45-9442671b10e9",
   "metadata": {},
   "outputs": [],
   "source": [
    "import seaborn as sb\n",
    "import pandas as pd\n",
    "import matplotlib.pyplot as plt\n",
    "\n",
    "import sys\n",
    "sys.path.append('../../')\n",
    "from feature import selection as sel"
   ]
  },
  {
   "cell_type": "markdown",
   "id": "be132c4c",
   "metadata": {},
   "source": [
    "Time domain"
   ]
  },
  {
   "cell_type": "markdown",
   "id": "f7a56453-3864-4f93-8e3f-e4f939d070cc",
   "metadata": {},
   "source": [
    "Unnormalized vs. Normalized features\n",
    "- Result found: F score is independent of scaling"
   ]
  },
  {
   "cell_type": "code",
   "execution_count": null,
   "id": "174375e6-32bf-4ad5-a7a4-3d8333700ea0",
   "metadata": {},
   "outputs": [],
   "source": [
    "features = sel.load_td_feat(['az'], all=True, path=FEATURES_PATH)\n",
    "fscore = sel.calc_f_stat(features, sel.TD_COLUMNS, summary=True)\n",
    "\n",
    "features_normalized = sel.normalize_features(features)\n",
    "fscore_norm = sel.calc_f_stat(features_normalized, sel.TD_COLUMNS, summary=True)\n",
    "\n",
    "fig, ax = plt.subplots(1, 2, figsize=(20, 5))\n",
    "fscore.plot.bar(figsize=(10, 4), grid=True, xlabel='Feature', ylabel='F statistic', legend=False, title='Unnormalized', ax=ax[0])\n",
    "fscore_norm.plot.bar(figsize=(10, 4), grid=True, xlabel='Feature', ylabel='F statistic', legend=False, title='Normalized', ax=ax[1])\n",
    "plt.show()"
   ]
  },
  {
   "cell_type": "markdown",
   "id": "046fa2e8-d6e9-4f36-b7a8-9a21f7214891",
   "metadata": {},
   "source": [
    "F statistic between feature on axis and target fault state"
   ]
  },
  {
   "cell_type": "code",
   "execution_count": null,
   "id": "b410688f-a9bc-4ac9-89de-feebedc896bc",
   "metadata": {},
   "outputs": [],
   "source": [
    "features = sel.load_td_feat(['az'], all=True, path=FEATURES_PATH)\n",
    "df = sel.calc_f_stat(features, sel.TD_COLUMNS, summary=False)\n",
    "fig, ax = plt.subplots(figsize=(10, 5)) \n",
    "sb.heatmap(df, annot=True, ax=ax, cmap=\"Greens\", fmt=\".0f\")\n",
    "plt.show()\n",
    "df"
   ]
  },
  {
   "cell_type": "markdown",
   "id": "cfd35e45-99d1-4bf7-93c4-94aee0fc9c5a",
   "metadata": {},
   "source": [
    "Frequency domain"
   ]
  },
  {
   "cell_type": "markdown",
   "id": "151e2bb5",
   "metadata": {},
   "source": [
    "F score of all windows in all axis to multiclass fault"
   ]
  },
  {
   "cell_type": "code",
   "execution_count": null,
   "id": "df94787c-7cd5-4055-8651-457082535dfb",
   "metadata": {},
   "outputs": [],
   "source": [
    "EXCLUDE_COLS = ['inharmonicity', 'hdev', 'negentropy']\n",
    "columns = list(set(sel.FD_COLUMNS) - set(EXCLUDE_COLS))\n",
    "\n",
    "features = sel.load_fd_features(['az'], all=True, path=FEATURES_PATH))\n",
    "features = features.drop(columns=EXCLUDE_COLS)\n",
    "\n",
    "fscore = sel.calc_f_stat(features, columns, summary=True)\n",
    "fscore.plot.bar(figsize=(5, 4), grid=True, xlabel='Feature', ylabel='F statistic', legend=False, title='F score in Frequency domain')\n",
    "plt.show()\n",
    "features['fault'].cat.categories"
   ]
  },
  {
   "cell_type": "markdown",
   "id": "d38a1f57-91e6-436d-b53c-351fb6c1fef4",
   "metadata": {},
   "source": [
    "F score to some faults"
   ]
  },
  {
   "cell_type": "code",
   "execution_count": null,
   "id": "b13ab150-1f74-4a83-bc74-e054b49c67ba",
   "metadata": {},
   "outputs": [],
   "source": [
    "features_chosen = features[features['fault'].isin([\n",
    "    'normal', 'imbalance', 'vertical-misalignment', 'horizontal-misalignment' \n",
    "])]\n",
    "fscore = sel.calc_f_stat(features_chosen, columns, summary=True)\n",
    "fscore.plot.bar(figsize=(5, 4), grid=True, xlabel='Feature', ylabel='F statistic', legend=False, title='F score in Frequency domain')\n",
    "plt.show()"
   ]
  },
  {
   "cell_type": "markdown",
   "id": "9a7030c2-4c89-4e13-bde4-836a43b7fe0d",
   "metadata": {},
   "source": [
    "F score in all axis to multiclass fault (per each window size)"
   ]
  },
  {
   "cell_type": "code",
   "execution_count": null,
   "id": "4796722b-03a4-424b-8449-4a092ff536b7",
   "metadata": {},
   "outputs": [],
   "source": [
    "df = sel.calc_score_in_fft_windows(features, columns, lambda f, c: sel.calc_f_stat(f, c, summary=True))\n",
    "sel.plot_fscore_part(df, 'window')"
   ]
  },
  {
   "cell_type": "markdown",
   "id": "5457c82c-538f-4776-8e97-4d2f0dc41f8c",
   "metadata": {},
   "source": [
    "All faults: best features by ranking over all windows (non-weighted vs. weighted by score)\n",
    "- less is better"
   ]
  },
  {
   "cell_type": "code",
   "execution_count": null,
   "id": "b9c4adf9-34b5-430c-9bfa-6c054957516f",
   "metadata": {},
   "outputs": [],
   "source": [
    "sel.plot_rank(df, 'window')"
   ]
  },
  {
   "cell_type": "markdown",
   "id": "eb68441f-772d-4339-be61-e17f3b8523da",
   "metadata": {},
   "source": [
    "F score in all axis to multiclass fault (per each window size) and chosen faults"
   ]
  },
  {
   "cell_type": "code",
   "execution_count": null,
   "id": "9c00c9f3-453c-4e78-85fc-efcca9f0a995",
   "metadata": {},
   "outputs": [],
   "source": [
    "df_chosen = sel.calc_score_in_fft_windows(features_chosen, columns, lambda f, c: sel.calc_f_stat(f, c, summary=True))\n",
    "sel.plot_fscore_in_fft_win(df_chosen)"
   ]
  },
  {
   "cell_type": "markdown",
   "id": "0565993b-1de3-41d9-98f9-70f695ba410e",
   "metadata": {},
   "source": [
    "All faults: best features by ranking over all windows (non-weighted vs. weighted by score)"
   ]
  },
  {
   "cell_type": "code",
   "execution_count": null,
   "id": "f4f37700-db47-4db1-9682-09561c4a97ce",
   "metadata": {},
   "outputs": [],
   "source": [
    "sel.plot_rank(df_chosen, 'window')"
   ]
  },
  {
   "cell_type": "markdown",
   "id": "f1b0f835-d3d0-4e5d-8452-d9e5c953ade1",
   "metadata": {},
   "source": [
    "Wavelet packet transform"
   ]
  },
  {
   "cell_type": "code",
   "execution_count": null,
   "id": "c002ddbd-e756-422e-91c6-551a43715c30",
   "metadata": {},
   "outputs": [],
   "source": [
    "features = sel.load_wavelet_domain_features(['ax', 'ay', 'az', 'bx', 'by', 'bz'])\n",
    "df = sel.calc_score_in_wpd_features(features, lambda f, c: sel.calc_f_stat(f, c, summary=True))\n",
    "sel.plot_fscore_part(df, 'metric', n=20)"
   ]
  },
  {
   "cell_type": "markdown",
   "id": "47c1f708-33f8-4650-8ee8-4756c53a19fc",
   "metadata": {},
   "source": [
    "WPD features in one layer"
   ]
  },
  {
   "cell_type": "code",
   "execution_count": null,
   "id": "d99d1e6b-9f93-4c96-81b3-faf6586f0493",
   "metadata": {},
   "outputs": [],
   "source": [
    "level = 3\n",
    "df = sel.calc_score_in_wpd_features(features, lambda f, c: sel.calc_f_stat(f, c, summary=True))\n",
    "layer = df[df.index.str.startswith(f'L{level}')]\n",
    "sel.plot_fscore_part(layer, 'metric')"
   ]
  },
  {
   "cell_type": "code",
   "execution_count": null,
   "id": "23cf1ecb-2f7d-4273-ae19-953b0e528eb1",
   "metadata": {},
   "outputs": [],
   "source": [
    "level = 4\n",
    "df = sel.calc_score_in_wpd_features(features, lambda f, c: sel.calc_f_stat(f, c, summary=True))\n",
    "layer = df[df.index.str.startswith(f'L{level}')]\n",
    "sel.plot_fscore_part(layer, 'metric')"
   ]
  }
 ],
 "metadata": {
  "kernelspec": {
   "display_name": "Python 3 (ipykernel)",
   "language": "python",
   "name": "python3"
  },
  "language_info": {
   "codemirror_mode": {
    "name": "ipython",
    "version": 3
   },
   "file_extension": ".py",
   "mimetype": "text/x-python",
   "name": "python",
   "nbconvert_exporter": "python",
   "pygments_lexer": "ipython3",
   "version": "3.11.5"
  }
 },
 "nbformat": 4,
 "nbformat_minor": 5
}
