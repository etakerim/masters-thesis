{
 "cells": [
  {
   "cell_type": "code",
   "execution_count": null,
   "id": "9eb6b065-41b9-45e8-9c45-9442671b10e9",
   "metadata": {},
   "outputs": [],
   "source": [
    "from sklearn.compose import ColumnTransformer\n",
    "from sklearn.feature_selection import mutual_info_classif, f_classif"
   ]
  },
  {
   "cell_type": "markdown",
   "id": "b599331c-ebd7-40a6-b124-86ea4e92a8b2",
   "metadata": {},
   "source": [
    "# F score\n",
    "\n",
    "## Time domain"
   ]
  },
  {
   "cell_type": "code",
   "execution_count": null,
   "id": "7490eab3-cbe0-4866-bd1f-ca5af5ab884f",
   "metadata": {},
   "outputs": [],
   "source": [
    "# MI: it is equal to zero if and only if two random variables are independent, \n",
    "# and higher values mean higher dependency.\n",
    "def calc_feature_selection_metric(fmetric, dataset, columns, summary=True):\n",
    "    if summary:\n",
    "        m = fmetric(dataset[columns], dataset['fault'].cat.codes)  # Do not have to be codes\n",
    "        if isinstance(m, tuple):\n",
    "            m = m[0]\n",
    "        return (pd.DataFrame(list(zip(columns, m)), columns=['feature', 'stat'])\n",
    "                  .set_index('feature')\n",
    "                  .sort_values(by='stat', ascending=False))\n",
    "    else: # For each axis and target category independently\n",
    "        stat = {}\n",
    "        for key, group in dataset.groupby('axis'):\n",
    "            m = fmetric(group[columns], group['fault'].cat.codes)\n",
    "            if isinstance(m, tuple):\n",
    "                m = m[0]\n",
    "            stat[key] = m\n",
    "        df = pd.DataFrame(stat)\n",
    "        df['feature'] = columns\n",
    "        return df.set_index('feature')\n",
    "\n",
    "def calc_f_stat(dataset, columns, summary=True):\n",
    "    return calc_feature_selection_metric(f_classif, dataset, columns, summary)\n",
    "\n",
    "def calc_mutual_information(dataset, columns, summary=True):\n",
    "    return calc_feature_selection_metric(mutual_info_classif, dataset, columns, summary)"
   ]
  },
  {
   "cell_type": "markdown",
   "id": "f7a56453-3864-4f93-8e3f-e4f939d070cc",
   "metadata": {},
   "source": [
    "### Unnormalized features"
   ]
  },
  {
   "cell_type": "code",
   "execution_count": null,
   "id": "174375e6-32bf-4ad5-a7a4-3d8333700ea0",
   "metadata": {},
   "outputs": [],
   "source": [
    "features = load_time_domain_features(['ax', 'ay', 'az', 'bx', 'by', 'bz'])\n",
    "fscore = calc_f_stat(features, sel.TD_COLUMNS, summary=True)\n",
    "fscore.plot.bar(figsize=(8, 5), grid=True, xlabel='Feature', ylabel='F statistic', legend=False)\n",
    "plt.show()"
   ]
  },
  {
   "cell_type": "markdown",
   "id": "02e0e200-9c0d-4301-a794-34ce26e4f19e",
   "metadata": {},
   "source": [
    "### Normalized features (Result found: F score is independent of scaling)"
   ]
  },
  {
   "cell_type": "code",
   "execution_count": null,
   "id": "ccc5e03c-3223-4d66-927c-84d1a71bb722",
   "metadata": {},
   "outputs": [],
   "source": [
    "features = load_time_domain_features(['ax', 'ay', 'az', 'bx', 'by', 'bz'])\n",
    "\n",
    "standard_transformer = Pipeline(\n",
    "    steps=[('standard', StandardScaler())]\n",
    ")\n",
    "minmax_transformer = Pipeline(\n",
    "    steps=[('minmax', MinMaxScaler())]\n",
    ")\n",
    "\n",
    "preprocessor = ColumnTransformer(\n",
    "    remainder='passthrough',\n",
    "    transformers=[\n",
    "        ('std', standard_transformer , TD_COLUMNS)\n",
    "    ],\n",
    "    verbose_feature_names_out=False\n",
    ")\n",
    "features_normalized = preprocessor.fit_transform(features)\n",
    "\n",
    "features_normalized = pd.DataFrame(features_normalized, columns=preprocessor.get_feature_names_out())\n",
    "features_normalized['fault'] = features_normalized['fault'].astype('category')\n",
    "fscore = calc_f_stat(features_normalized, TD_COLUMNS, summary=True)\n",
    "fscore.plot.bar(figsize=(8, 5), grid=True, xlabel='Feature', ylabel='F statistic', legend=False)\n",
    "plt.show()"
   ]
  },
  {
   "cell_type": "markdown",
   "id": "046fa2e8-d6e9-4f36-b7a8-9a21f7214891",
   "metadata": {},
   "source": [
    "### F stat between feature on axis and target fault state"
   ]
  },
  {
   "cell_type": "code",
   "execution_count": null,
   "id": "b410688f-a9bc-4ac9-89de-feebedc896bc",
   "metadata": {},
   "outputs": [],
   "source": [
    "fig, ax = plt.subplots(figsize=(10, 5)) \n",
    "sb.heatmap(calc_f_stat(features, sel.TD_COLUMNS, summary=False), annot=True, ax=ax, cmap=\"Greens\")\n",
    "plt.show()"
   ]
  }
 ],
 "metadata": {
  "kernelspec": {
   "display_name": "Python 3 (ipykernel)",
   "language": "python",
   "name": "python3"
  },
  "language_info": {
   "codemirror_mode": {
    "name": "ipython",
    "version": 3
   },
   "file_extension": ".py",
   "mimetype": "text/x-python",
   "name": "python",
   "nbconvert_exporter": "python",
   "pygments_lexer": "ipython3",
   "version": "3.11.5"
  }
 },
 "nbformat": 4,
 "nbformat_minor": 5
}
