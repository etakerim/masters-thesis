{
 "cells": [
  {
   "cell_type": "markdown",
   "metadata": {},
   "source": [
    "## TODO: Online features"
   ]
  },
  {
   "cell_type": "code",
   "execution_count": null,
   "metadata": {},
   "outputs": [],
   "source": [
    "# 'fault', 'anomaly'\n",
    "# 0.5, 0.7, 0.9\n",
    "VAR_TARGET = 'fault'\n",
    "ANOMALY_SEVERITY = 0.5      "
   ]
  },
  {
   "cell_type": "code",
   "execution_count": null,
   "metadata": {},
   "outputs": [],
   "source": [
    "import os\n",
    "import sys\n",
    "sys.path.append('../')\n",
    "from vibrodiagnostics import selection, models\n",
    "import pandas as pd\n",
    "import numpy as np\n",
    "import matplotlib.pyplot as plt\n",
    "from scipy.stats import gmean\n",
    "from river import (\n",
    "    stats,\n",
    "    metrics,\n",
    "    stream,\n",
    "    feature_selection\n",
    ")\n",
    "\n",
    "\n",
    "PATH_PREFIX = '../../datasets/'\n",
    "FEATURES_PATH =  os.path.join(PATH_PREFIX, 'features_data')\n",
    "\n",
    "TD_FD_FEATURES = os.path.join(FEATURES_PATH, selection.TIME_AND_FREQ_FEATURES_PATH)\n",
    "TD_FEATURES = os.path.join(FEATURES_PATH, selection.TIME_FEATURES_PATH)\n",
    "FD_FEATURES = os.path.join(FEATURES_PATH, selection.FREQ_FEATURES_PATH)\n",
    "\n",
    "TSFEL_FEATURES = os.path.join(FEATURES_PATH, selection.TSFEL_FEATURES_PATH)\n",
    "TSFEL_TD_FEATURES = os.path.join(FEATURES_PATH, selection.TSFEL_TIME_FEATURES_PATH)\n",
    "TSFEL_FD_FEATURES = os.path.join(FEATURES_PATH, selection.TSFEL_FREQ_FEATURES_PATH)\n",
    "TSFEL_SD_FEATURES = os.path.join(FEATURES_PATH, selection.TSFEL_STAT_FEATURES_PATH)\n",
    "\n",
    "FEATURE_SETS = [\n",
    "    TD_FEATURES, FD_FEATURES, TD_FD_FEATURES,\n",
    "    TSFEL_FEATURES, TSFEL_TD_FEATURES, TSFEL_FD_FEATURES, TSFEL_SD_FEATURES\n",
    "]"
   ]
  },
  {
   "cell_type": "code",
   "execution_count": null,
   "metadata": {},
   "outputs": [],
   "source": [
    "def calculate_scores(x: pd.DataFrame, y: pd.DataFrame, metric) -> pd.DataFrame:\n",
    "    # Final score of feature ranks\n",
    "    selector = feature_selection.SelectKBest(similarity=metric(), k=2)\n",
    "    for xs, ys in stream.iter_pandas(x, y):\n",
    "        selector.learn_one(xs, ys)\n",
    "        \n",
    "    leaderboard = (\n",
    "        pd.DataFrame(selector.leaderboard.items(), columns=['feature', 'score'])\n",
    "          .set_index('feature')\n",
    "          .sort_values(by='score', ascending=False)\n",
    "    )\n",
    "    return leaderboard\n",
    "\n",
    "\n",
    "def feature_ranking(feature_set: str, window_size=None):\n",
    "    metric_ranks = pd.DataFrame()\n",
    "\n",
    "    for metric_name, metric in zip(\n",
    "            ('corr_rank', 'f_rank', 'mi_rank'), \n",
    "            (selection.Correlation, selection.FisherScore, selection.MutualInformation)\n",
    "        ):\n",
    "        feature_ranks = pd.DataFrame()\n",
    "\n",
    "        for axis in ('ax', 'ay', 'az'):\n",
    "            x, y = models.features_subset(\n",
    "                feature_set, selection.FAULT_CLASSES, [axis],\n",
    "                VAR_TARGET, anomaly_severity=ANOMALY_SEVERITY\n",
    "            )\n",
    "            if isinstance(window_size, int):\n",
    "                x = x.loc[:,x.columns.str.endswith(f'_{window_size}')]\n",
    "                x.columns = x.columns.str.extract(r'([\\w\\_]+)_(\\w+)$')[0]\n",
    "\n",
    "            scores = calculate_scores(x, y, metric).reset_index()\n",
    "            scores['feature'] = scores['feature'].str.extract(r'([a-z]{2})_([\\w\\_\\-]+)')[1]\n",
    "            scores = scores.set_index('feature')\n",
    "            feature_ranks[axis] = scores\n",
    "        \n",
    "        ranks = feature_ranks.rank(axis='rows', method='first', ascending=False)\n",
    "        ranks = ranks.apply(gmean, axis=1).sort_values().to_frame(name='rank')      # Rank product\n",
    "        metric_ranks[metric_name] = ranks.rank(axis='rows', method='dense')\n",
    "\n",
    "    return metric_ranks\n",
    "\n",
    "\n",
    "def corr_among_features(feature_set, axis, window_size=None):\n",
    "    x, y = models.features_subset(\n",
    "        feature_set, selection.FAULT_CLASSES, [axis], \n",
    "        VAR_TARGET,  anomaly_severity=ANOMALY_SEVERITY\n",
    "    )\n",
    "    if isinstance(window_size, int):\n",
    "        x = x.loc[:,x.columns.str.endswith(f'_{window_size}')]\n",
    "        x.columns = x.columns.str.extract(r'([\\w\\_]+)_(\\w+)$')[0]\n",
    "\n",
    "    correlations = [\n",
    "        {'feature_1': k[0], 'feature_2': k[1], 'corr': v}\n",
    "        for k, v in x.corr().abs().stack().to_dict().items()\n",
    "        if k[0] != k[1]\n",
    "    ]\n",
    "    correlations = pd.DataFrame.from_records(correlations).sort_values(by='corr', ascending=False)\n",
    "    correlations[correlations['corr'] > 0.7]\n",
    "    return correlations\n",
    "\n",
    "\n",
    "def plot_ranks(metric_ranks):\n",
    "    fig, ax = plt.subplots(figsize=(15, 5))\n",
    "    ax.plot(metric_ranks.index, metric_ranks['corr_rank'], color='green', label='Correlation Rank')\n",
    "    ax.plot(metric_ranks.index, metric_ranks['f_rank'], color='blue', label='F score Rank')\n",
    "    ax.plot(metric_ranks.index, metric_ranks['mi_rank'], color='purple', label='Mutual Information Rank')\n",
    "    ax.set_xticks(ax.get_xticks())\n",
    "    ax.set_xticklabels(ax.get_xticklabels(), rotation=45, ha='right')\n",
    "    plt.legend()\n",
    "    plt.grid()\n",
    "    plt.show()\n",
    "\n",
    "\n",
    "def ensamble_feature_ranking(metric_ranks):\n",
    "    return metric_ranks.apply(gmean, axis=1).sort_values().to_frame(name='rank') # Rank product"
   ]
  },
  {
   "cell_type": "markdown",
   "metadata": {},
   "source": [
    "### Feature set #1: Custom features all"
   ]
  },
  {
   "cell_type": "code",
   "execution_count": null,
   "metadata": {},
   "outputs": [],
   "source": [
    "c = corr_among_features(TD_FD_FEATURES, 'az')\n",
    "c.head(20)"
   ]
  },
  {
   "cell_type": "code",
   "execution_count": null,
   "metadata": {},
   "outputs": [],
   "source": [
    "metric_ranks = feature_ranking(TD_FD_FEATURES)\n",
    "metric_ranks"
   ]
  },
  {
   "cell_type": "code",
   "execution_count": null,
   "metadata": {},
   "outputs": [],
   "source": [
    "plot_ranks(metric_ranks)"
   ]
  },
  {
   "cell_type": "code",
   "execution_count": null,
   "metadata": {},
   "outputs": [],
   "source": [
    "ranks = ensamble_feature_ranking(metric_ranks)\n",
    "ranks"
   ]
  },
  {
   "cell_type": "markdown",
   "metadata": {},
   "source": [
    "### Feature set #2: Custom features time domain"
   ]
  },
  {
   "cell_type": "code",
   "execution_count": null,
   "metadata": {},
   "outputs": [],
   "source": [
    "c = corr_among_features(TD_FEATURES, 'az')\n",
    "c.head(20)"
   ]
  },
  {
   "cell_type": "code",
   "execution_count": null,
   "metadata": {},
   "outputs": [],
   "source": [
    "metric_ranks = feature_ranking(TD_FEATURES)\n",
    "metric_ranks"
   ]
  },
  {
   "cell_type": "code",
   "execution_count": null,
   "metadata": {},
   "outputs": [],
   "source": [
    "plot_ranks(metric_ranks)"
   ]
  },
  {
   "cell_type": "code",
   "execution_count": null,
   "metadata": {},
   "outputs": [],
   "source": [
    "ranks = ensamble_feature_ranking(metric_ranks)\n",
    "ranks"
   ]
  },
  {
   "cell_type": "markdown",
   "metadata": {},
   "source": [
    "### Feature set #3: Custom features frequency domain"
   ]
  },
  {
   "cell_type": "code",
   "execution_count": null,
   "metadata": {},
   "outputs": [],
   "source": [
    "c = corr_among_features(FD_FEATURES, 'az')\n",
    "c.head(20)"
   ]
  },
  {
   "cell_type": "code",
   "execution_count": null,
   "metadata": {},
   "outputs": [],
   "source": [
    "metric_ranks = feature_ranking(FD_FEATURES)\n",
    "metric_ranks"
   ]
  },
  {
   "cell_type": "code",
   "execution_count": null,
   "metadata": {},
   "outputs": [],
   "source": [
    "plot_ranks(metric_ranks)"
   ]
  },
  {
   "cell_type": "code",
   "execution_count": null,
   "metadata": {},
   "outputs": [],
   "source": [
    "ranks = ensamble_feature_ranking(metric_ranks)\n",
    "ranks"
   ]
  },
  {
   "cell_type": "markdown",
   "metadata": {},
   "source": [
    "##### Choose window size"
   ]
  },
  {
   "cell_type": "code",
   "execution_count": null,
   "metadata": {},
   "outputs": [],
   "source": [
    "window_sizes = (2**6, 2**8, 2**10, 2**12, 2**14)\n",
    "\n",
    "win_len = window_sizes[0]\n",
    "print('Window size:', win_len)\n",
    "metric_ranks = feature_ranking(FD_FEATURES, win_len)\n",
    "metric_ranks"
   ]
  },
  {
   "cell_type": "code",
   "execution_count": null,
   "metadata": {},
   "outputs": [],
   "source": [
    "print('Window size:', win_len)\n",
    "ranks = ensamble_feature_ranking(metric_ranks)\n",
    "ranks"
   ]
  },
  {
   "cell_type": "code",
   "execution_count": null,
   "metadata": {},
   "outputs": [],
   "source": [
    "corr_among_features(FD_FEATURES, 'az', win_len).head(10)"
   ]
  },
  {
   "cell_type": "code",
   "execution_count": null,
   "metadata": {},
   "outputs": [],
   "source": [
    "win_len = window_sizes[1]\n",
    "print('Window size:', win_len)\n",
    "metric_ranks = feature_ranking(FD_FEATURES, win_len)\n",
    "metric_ranks"
   ]
  },
  {
   "cell_type": "code",
   "execution_count": null,
   "metadata": {},
   "outputs": [],
   "source": [
    "print('Window size:', win_len)\n",
    "ranks = ensamble_feature_ranking(metric_ranks)\n",
    "ranks"
   ]
  },
  {
   "cell_type": "code",
   "execution_count": null,
   "metadata": {},
   "outputs": [],
   "source": [
    "corr_among_features(FD_FEATURES, 'az', win_len).head(10)"
   ]
  },
  {
   "cell_type": "code",
   "execution_count": null,
   "metadata": {},
   "outputs": [],
   "source": [
    "win_len = window_sizes[2]\n",
    "print('Window size:', win_len)\n",
    "metric_ranks = feature_ranking(FD_FEATURES, win_len)\n",
    "metric_ranks"
   ]
  },
  {
   "cell_type": "code",
   "execution_count": null,
   "metadata": {},
   "outputs": [],
   "source": [
    "print('Window size:', win_len)\n",
    "ranks = ensamble_feature_ranking(metric_ranks)\n",
    "ranks"
   ]
  },
  {
   "cell_type": "code",
   "execution_count": null,
   "metadata": {},
   "outputs": [],
   "source": [
    "win_len = window_sizes[3]\n",
    "print('Window size:', win_len)\n",
    "metric_ranks = feature_ranking(FD_FEATURES, win_len)\n",
    "metric_ranks"
   ]
  },
  {
   "cell_type": "code",
   "execution_count": null,
   "metadata": {},
   "outputs": [],
   "source": [
    "print('Window size:', win_len)\n",
    "ranks = ensamble_feature_ranking(metric_ranks)\n",
    "ranks"
   ]
  },
  {
   "cell_type": "code",
   "execution_count": null,
   "metadata": {},
   "outputs": [],
   "source": [
    "win_len = window_sizes[4]\n",
    "print('Window size:', win_len)\n",
    "metric_ranks = feature_ranking(FD_FEATURES, win_len)\n",
    "metric_ranks"
   ]
  },
  {
   "cell_type": "code",
   "execution_count": null,
   "metadata": {},
   "outputs": [],
   "source": [
    "print('Window size:', win_len)\n",
    "ranks = ensamble_feature_ranking(metric_ranks)\n",
    "ranks"
   ]
  },
  {
   "cell_type": "markdown",
   "metadata": {},
   "source": [
    "### Feature set #4: TSFEL features all"
   ]
  },
  {
   "cell_type": "code",
   "execution_count": null,
   "metadata": {},
   "outputs": [],
   "source": [
    "c = corr_among_features(TSFEL_FEATURES, 'az')\n",
    "c.head(30)"
   ]
  },
  {
   "cell_type": "code",
   "execution_count": null,
   "metadata": {},
   "outputs": [],
   "source": [
    "metric_ranks = feature_ranking(TSFEL_FEATURES)\n",
    "metric_ranks"
   ]
  },
  {
   "cell_type": "code",
   "execution_count": null,
   "metadata": {},
   "outputs": [],
   "source": [
    "plot_ranks(metric_ranks)"
   ]
  },
  {
   "cell_type": "code",
   "execution_count": null,
   "metadata": {},
   "outputs": [],
   "source": [
    "ranks = ensamble_feature_ranking(metric_ranks)\n",
    "ranks"
   ]
  },
  {
   "cell_type": "markdown",
   "metadata": {},
   "source": [
    "### Feature set #5: TSFEL features temporal domain"
   ]
  },
  {
   "cell_type": "code",
   "execution_count": null,
   "metadata": {},
   "outputs": [],
   "source": [
    "c = corr_among_features(TSFEL_TD_FEATURES, 'az')\n",
    "c.head(20)"
   ]
  },
  {
   "cell_type": "code",
   "execution_count": null,
   "metadata": {},
   "outputs": [],
   "source": [
    "metric_ranks = feature_ranking(TSFEL_TD_FEATURES)\n",
    "metric_ranks"
   ]
  },
  {
   "cell_type": "code",
   "execution_count": null,
   "metadata": {},
   "outputs": [],
   "source": [
    "plot_ranks(metric_ranks)"
   ]
  },
  {
   "cell_type": "code",
   "execution_count": null,
   "metadata": {},
   "outputs": [],
   "source": [
    "ranks = ensamble_feature_ranking(metric_ranks)\n",
    "ranks"
   ]
  },
  {
   "cell_type": "markdown",
   "metadata": {},
   "source": [
    "### Feature set #6: TSFEL features spectral domain"
   ]
  },
  {
   "cell_type": "code",
   "execution_count": null,
   "metadata": {},
   "outputs": [],
   "source": [
    "c = corr_among_features(TSFEL_FD_FEATURES, 'az')\n",
    "c.head(20)"
   ]
  },
  {
   "cell_type": "code",
   "execution_count": null,
   "metadata": {},
   "outputs": [],
   "source": [
    "metric_ranks = feature_ranking(TSFEL_FD_FEATURES)\n",
    "metric_ranks"
   ]
  },
  {
   "cell_type": "code",
   "execution_count": null,
   "metadata": {},
   "outputs": [],
   "source": [
    "plot_ranks(metric_ranks)"
   ]
  },
  {
   "cell_type": "code",
   "execution_count": null,
   "metadata": {},
   "outputs": [],
   "source": [
    "ranks = ensamble_feature_ranking(metric_ranks)\n",
    "ranks"
   ]
  },
  {
   "cell_type": "markdown",
   "metadata": {},
   "source": [
    "### Feature set #7: TSFEL features statistical domain"
   ]
  },
  {
   "cell_type": "code",
   "execution_count": null,
   "metadata": {},
   "outputs": [],
   "source": [
    "c = corr_among_features(TSFEL_SD_FEATURES, 'az')\n",
    "c.head(20)"
   ]
  },
  {
   "cell_type": "code",
   "execution_count": null,
   "metadata": {},
   "outputs": [],
   "source": [
    "metric_ranks = feature_ranking(TSFEL_SD_FEATURES)\n",
    "metric_ranks"
   ]
  },
  {
   "cell_type": "code",
   "execution_count": null,
   "metadata": {},
   "outputs": [],
   "source": [
    "plot_ranks(metric_ranks)"
   ]
  },
  {
   "cell_type": "code",
   "execution_count": null,
   "metadata": {},
   "outputs": [],
   "source": [
    "ranks = ensamble_feature_ranking(metric_ranks)\n",
    "ranks"
   ]
  }
 ],
 "metadata": {
  "kernelspec": {
   "display_name": "dp",
   "language": "python",
   "name": "python3"
  },
  "language_info": {
   "codemirror_mode": {
    "name": "ipython",
    "version": 3
   },
   "file_extension": ".py",
   "mimetype": "text/x-python",
   "name": "python",
   "nbconvert_exporter": "python",
   "pygments_lexer": "ipython3",
   "version": "3.11.5"
  }
 },
 "nbformat": 4,
 "nbformat_minor": 2
}
