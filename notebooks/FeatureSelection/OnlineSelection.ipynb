{
 "cells": [
  {
   "cell_type": "markdown",
   "metadata": {},
   "source": [
    "### Online Feature selection"
   ]
  },
  {
   "cell_type": "code",
   "execution_count": null,
   "metadata": {},
   "outputs": [],
   "source": [
    "import pandas as pd\n",
    "import matplotlib.pyplot as plt\n",
    "from river import (\n",
    "    stats,\n",
    "    metrics,\n",
    "    stream,\n",
    "    feature_selection\n",
    ")\n",
    "\n",
    "import os\n",
    "import sys\n",
    "sys.path.append('../')\n",
    "from vibrodiagnostics import (\n",
    "    selection,\n",
    "    models\n",
    ")"
   ]
  },
  {
   "cell_type": "markdown",
   "metadata": {},
   "source": [
    "#### Settings\n",
    "Choose 0 for Fault, 1 for Anomaly\n",
    "\n",
    "- 0, 0, 0 = Fault, az, Correlation\n",
    "- 0, 0, 1 = Fault, az, F score\n",
    "- 0, 0, 2 = Fault, az, MI\n",
    "\n",
    "- 0, 2, 0 = Fault, bz, Correlation\n",
    "- 0, 2, 1 = Fault, bz, F score\n",
    "- 0, 2, 2 = Fault, bz, MI\n",
    "\n",
    "- 0, 1, 0 = Fault, A, Correlation\n",
    "- 0, 1, 1 = Fault, A, F score\n",
    "- 0, 1, 2 = Fault, A, MI\n",
    "\n",
    "- 0, 3, 0 = Fault, B, Correlation\n",
    "- 0, 3, 1 = Fault, B, F score\n",
    "- 0, 3, 2 = Fault, B, MI"
   ]
  },
  {
   "cell_type": "code",
   "execution_count": null,
   "metadata": {},
   "outputs": [],
   "source": [
    "OPTION = (0, 0, 0)\n",
    "\n",
    "TARGETS = ['fault', 'anomaly']\n",
    "AXIS_ALL = [['az'], ['ax', 'ay', 'az'], ['bz'], ['bx', 'by', 'bz']]\n",
    "TITLES = ['Correlation', 'F score', 'Mutual information']\n",
    "METRICS = [selection.Correlation, selection.FisherScore, selection.MutualInformation]\n",
    "\n",
    "TARGET = TARGETS[OPTION[0]]\n",
    "AXIS = AXIS_ALL[OPTION[1]]\n",
    "TITLE = TITLES[OPTION[2]]\n",
    "METRIC = METRICS[OPTION[2]]"
   ]
  },
  {
   "cell_type": "code",
   "execution_count": null,
   "metadata": {},
   "outputs": [],
   "source": [
    "PATH_PREFIX = '../../datasets/'\n",
    "FEATURES_PATH =  os.path.join(PATH_PREFIX, 'features_data')\n",
    "\n",
    "DATASET_PATH = os.path.join(PATH_PREFIX, 'MAFAULDA.zip')\n",
    "MAFAULDA_METADATA = os.path.join(FEATURES_PATH, 'mafaulda_metadata.csv')\n",
    "\n",
    "TD_FEATURES = os.path.join(FEATURES_PATH, selection.TIME_FEATURES_PATH)\n",
    "FD_FEATURES = os.path.join(FEATURES_PATH, selection.FREQ_FEATURES_PATH)\n",
    "TD_FD_FEATURES = os.path.join(FEATURES_PATH, selection.TIME_AND_FREQ_FEATURES_PATH)\n",
    "\n",
    "TSFEL_FEATURES = os.path.join(FEATURES_PATH, selection.TSFEL_FEATURES_PATH)\n",
    "TSFEL_TD_FEATURES = os.path.join(FEATURES_PATH, selection.TSFEL_TIME_FEATURES_PATH)\n",
    "TSFEL_FD_FEATURES = os.path.join(FEATURES_PATH, selection.TSFEL_FREQ_FEATURES_PATH)\n",
    "TSFEL_SD_FEATURES = os.path.join(FEATURES_PATH, selection.TSFEL_STAT_FEATURES_PATH)"
   ]
  },
  {
   "cell_type": "code",
   "execution_count": null,
   "metadata": {},
   "outputs": [],
   "source": [
    "def plot_best_features(X, y, title, metric, n=10):\n",
    "    selector = feature_selection.SelectKBest(similarity=metric(), k=2)\n",
    "\n",
    "    best = []\n",
    "    for xs, ys in stream.iter_pandas(X, y):\n",
    "        selector.learn_one(xs, ys)\n",
    "        best.append({k: abs(v) for k, v in selector.leaderboard.items()})\n",
    "\n",
    "    # Get only n best featues to plot\n",
    "    n_top_names = [(k, abs(v)) for k, v in selector.leaderboard.items()]\n",
    "    n_top_names = sorted(n_top_names, key=lambda x: x[1], reverse=True)[:n]\n",
    "    n_top_names = set(map(lambda x: x[0], n_top_names))\n",
    "    best = [\n",
    "        {k: v for k, v in step.items() if k in n_top_names}\n",
    "        for step in best\n",
    "    ]\n",
    "\n",
    "    feature_set = pd.DataFrame.from_records(best)\n",
    "    kwargs = dict(figsize=(15, 6), grid=True, xlabel='Observation', ylabel=title)\n",
    "    if metric == selection.FisherScore:\n",
    "        kwargs['ylim'] = (0, 20) \n",
    "    feature_set.plot(**kwargs)\n",
    "\n",
    "    return feature_set"
   ]
  },
  {
   "cell_type": "markdown",
   "metadata": {},
   "source": [
    "TSFEL generated features in all domains"
   ]
  },
  {
   "cell_type": "code",
   "execution_count": null,
   "metadata": {},
   "outputs": [],
   "source": [
    "X, y = models.features_subset(TSFEL_FEATURES, selection.FAULT_CLASSES, AXIS, TARGET)\n",
    "feature_set = plot_best_features(X, y, TITLE, METRIC)\n",
    "plt.show()\n",
    "(feature_set.tail(1)\n",
    "    .reset_index(drop=True)\n",
    "    .T.rename(columns={0: TITLE})\n",
    "    .sort_values(by=TITLE, ascending=False))"
   ]
  },
  {
   "cell_type": "markdown",
   "metadata": {},
   "source": [
    "TSFEL generated features in time domain"
   ]
  },
  {
   "cell_type": "code",
   "execution_count": null,
   "metadata": {},
   "outputs": [],
   "source": [
    "X, y = models.features_subset(TSFEL_TD_FEATURES, selection.FAULT_CLASSES, AXIS, TARGET)\n",
    "feature_set = plot_best_features(X, y, TITLE, METRIC)\n",
    "plt.show()\n",
    "(feature_set.tail(1)\n",
    "    .reset_index(drop=True)\n",
    "    .T.rename(columns={0: TITLE})\n",
    "    .sort_values(by=TITLE, ascending=False))"
   ]
  },
  {
   "cell_type": "markdown",
   "metadata": {},
   "source": [
    "TSFEL generated features in frequency (spectral) domain"
   ]
  },
  {
   "cell_type": "code",
   "execution_count": null,
   "metadata": {},
   "outputs": [],
   "source": [
    "X, y = models.features_subset(TSFEL_FD_FEATURES, selection.FAULT_CLASSES, AXIS, TARGET)\n",
    "feature_set = plot_best_features(X, y, TITLE, METRIC)\n",
    "plt.show()\n",
    "(feature_set.tail(1)\n",
    "    .reset_index(drop=True)\n",
    "    .T.rename(columns={0: TITLE})\n",
    "    .sort_values(by=TITLE, ascending=False))"
   ]
  },
  {
   "cell_type": "markdown",
   "metadata": {},
   "source": [
    "TSFEL generated features in statistical domain"
   ]
  },
  {
   "cell_type": "code",
   "execution_count": null,
   "metadata": {},
   "outputs": [],
   "source": [
    "X, y = models.features_subset(TSFEL_SD_FEATURES, selection.FAULT_CLASSES, AXIS, TARGET)\n",
    "feature_set = plot_best_features(X, y, TITLE, METRIC)\n",
    "plt.show()\n",
    "(feature_set.tail(1)\n",
    "    .reset_index(drop=True)\n",
    "    .T.rename(columns={0: TITLE})\n",
    "    .sort_values(by=TITLE, ascending=False))"
   ]
  },
  {
   "cell_type": "markdown",
   "metadata": {},
   "source": [
    "Custom features in all domains"
   ]
  },
  {
   "cell_type": "code",
   "execution_count": null,
   "metadata": {},
   "outputs": [],
   "source": [
    "X, y = models.features_subset(TD_FD_FEATURES, selection.FAULT_CLASSES, AXIS, TARGET)\n",
    "feature_set = plot_best_features(X, y, TITLE, METRIC)\n",
    "plt.show()\n",
    "(feature_set.tail(1)\n",
    "    .reset_index(drop=True)\n",
    "    .T.rename(columns={0: TITLE})\n",
    "    .sort_values(by=TITLE, ascending=False))"
   ]
  },
  {
   "cell_type": "markdown",
   "metadata": {},
   "source": [
    "Custom features in time domain"
   ]
  },
  {
   "cell_type": "code",
   "execution_count": null,
   "metadata": {},
   "outputs": [],
   "source": [
    "X, y = models.features_subset(TD_FEATURES, selection.FAULT_CLASSES, AXIS, TARGET)\n",
    "feature_set = plot_best_features(X, y, TITLE, METRIC)\n",
    "plt.show()\n",
    "(feature_set.tail(1)\n",
    "    .reset_index(drop=True)\n",
    "    .T.rename(columns={0: TITLE})\n",
    "    .sort_values(by=TITLE, ascending=False))"
   ]
  },
  {
   "cell_type": "markdown",
   "metadata": {},
   "source": [
    "Custom features in frequency domain"
   ]
  },
  {
   "cell_type": "code",
   "execution_count": null,
   "metadata": {},
   "outputs": [],
   "source": [
    "X, y = models.features_subset(FD_FEATURES, selection.FAULT_CLASSES, AXIS, TARGET)\n",
    "feature_set = plot_best_features(X, y, TITLE, METRIC)\n",
    "plt.show()\n",
    "(feature_set.tail(1)\n",
    "    .reset_index(drop=True)\n",
    "    .T.rename(columns={0: TITLE})\n",
    "    .sort_values(by=TITLE, ascending=False))"
   ]
  }
 ],
 "metadata": {
  "kernelspec": {
   "display_name": "dp",
   "language": "python",
   "name": "python3"
  },
  "language_info": {
   "codemirror_mode": {
    "name": "ipython",
    "version": 3
   },
   "file_extension": ".py",
   "mimetype": "text/x-python",
   "name": "python",
   "nbconvert_exporter": "python",
   "pygments_lexer": "ipython3",
   "version": "3.11.5"
  }
 },
 "nbformat": 4,
 "nbformat_minor": 2
}
