{
 "cells": [
  {
   "cell_type": "markdown",
   "metadata": {},
   "source": [
    "# Feature explanatory data analysis"
   ]
  },
  {
   "cell_type": "code",
   "execution_count": null,
   "metadata": {},
   "outputs": [],
   "source": [
    "import sys\n",
    "sys.path.append('../../')\n",
    "from feature.selection import load_td_feat, load_fd_feat\n",
    "\n",
    "SOURCES = [load_td_feat, load_fd_feat]\n",
    "AXIS_SELECT = (['az'], ['ax', 'ay', 'az'])\n",
    "\n",
    "\n",
    "# Options: (0,0), (0, 1), (1, 0), (1, 1)\n",
    "SOURCE = SOURCES[1]\n",
    "AXIS = AXIS_SELECT[1]"
   ]
  },
  {
   "cell_type": "code",
   "execution_count": null,
   "metadata": {},
   "outputs": [],
   "source": [
    "import matplotlib.pyplot as plt\n",
    "from sklearn.feature_selection import mutual_info_classif, f_classif\n",
    "\n",
    "from feature.selection import corr_classif\n",
    "from feature.models import (\n",
    "    fault_labeling,\n",
    "    pipeline_v1,\n",
    "    cross_cuts_3d,\n",
    "    cross_cuts_3d_anomalies\n",
    ")\n",
    "\n",
    "\n",
    "FEATURES_PATH =  '../../datasets/features_data/'\n",
    "FAULT_CLASSES = {'normal': 'N', 'imbalance': 'I', 'horizontal-misalignment': 'HM', 'vertical-misalignment': 'VM'}"
   ]
  },
  {
   "cell_type": "markdown",
   "metadata": {},
   "source": [
    "## Features from one sensor position: (ax, ay, az)"
   ]
  },
  {
   "cell_type": "code",
   "execution_count": null,
   "metadata": {},
   "outputs": [],
   "source": [
    "features = fault_labeling(SOURCE(AXIS, path=FEATURES_PATH), FAULT_CLASSES)\n",
    "features.head(5)"
   ]
  },
  {
   "cell_type": "code",
   "execution_count": null,
   "metadata": {},
   "outputs": [],
   "source": [
    "features.hist(bins=100, figsize=(20, 8), color='grey', ec='black')\n",
    "plt.tight_layout()\n",
    "plt.show()"
   ]
  },
  {
   "cell_type": "markdown",
   "metadata": {},
   "source": [
    "### C\n",
    "Feature subsets for multiclass classification"
   ]
  },
  {
   "cell_type": "code",
   "execution_count": null,
   "metadata": {},
   "outputs": [],
   "source": [
    "for k in range(1, min(len(features.columns) + 1, 10)):\n",
    "    r = pipeline_v1(features, 0.6, k, corr_classif, multiclass=True)\n",
    "    print(k, list(r[0].columns))"
   ]
  },
  {
   "cell_type": "markdown",
   "metadata": {},
   "source": [
    "### C\n",
    "Feature selection with correlation"
   ]
  },
  {
   "cell_type": "code",
   "execution_count": null,
   "metadata": {},
   "outputs": [],
   "source": [
    "X_train, X_test, y_train, y_test = pipeline_v1(features, func_select=corr_classif, train=0.6, nfeat=3)\n",
    "\n",
    "print()\n",
    "X_train.info()\n",
    "X_train.head(5)"
   ]
  },
  {
   "cell_type": "markdown",
   "metadata": {},
   "source": [
    "### C\n",
    "Statistical distribution of features in training set"
   ]
  },
  {
   "cell_type": "code",
   "execution_count": null,
   "metadata": {},
   "outputs": [],
   "source": [
    "X_train.hist(bins=100, figsize=(15, 3), layout=(1, 3), color='grey', ec='black')\n",
    "plt.show()"
   ]
  },
  {
   "cell_type": "markdown",
   "metadata": {},
   "source": [
    "### C\n",
    "Cross sectional plots in pairs of axis"
   ]
  },
  {
   "cell_type": "code",
   "execution_count": null,
   "metadata": {},
   "outputs": [],
   "source": [
    "cross_cuts_3d(X_train, y_train)\n",
    "plt.show()"
   ]
  },
  {
   "cell_type": "markdown",
   "metadata": {},
   "source": [
    "### F\n",
    "Feature subsets for multiclass classification"
   ]
  },
  {
   "cell_type": "code",
   "execution_count": null,
   "metadata": {},
   "outputs": [],
   "source": [
    "for k in range(1, min(len(features.columns) + 1, 10)):\n",
    "    r = pipeline_v1(features, 0.6, k, f_classif, multiclass=True, anomaly_ratio=0.1)\n",
    "    print(k, list(r[0].columns))"
   ]
  },
  {
   "cell_type": "markdown",
   "metadata": {},
   "source": [
    "### F\n",
    "Feature subsets for binary classification (anomaly)"
   ]
  },
  {
   "cell_type": "code",
   "execution_count": null,
   "metadata": {},
   "outputs": [],
   "source": [
    "for k in range(1, min(len(features.columns) + 1, 10)):\n",
    "    r = pipeline_v1(features, 0.6, k, f_classif, multiclass=False, anomaly_ratio=0.1)\n",
    "    print(k, list(r[0].columns))"
   ]
  },
  {
   "cell_type": "markdown",
   "metadata": {},
   "source": [
    "### F\n",
    "Feature selection with F statistic"
   ]
  },
  {
   "cell_type": "code",
   "execution_count": null,
   "metadata": {},
   "outputs": [],
   "source": [
    "X_train, X_test, y_train, y_test = pipeline_v1(features, func_select=f_classif, train=0.6, nfeat=3)\n",
    "\n",
    "print()\n",
    "X_train.info()\n",
    "X_train.head(5)"
   ]
  },
  {
   "cell_type": "markdown",
   "metadata": {},
   "source": [
    "### F\n",
    "\n",
    "Statistical distribution of features in training set"
   ]
  },
  {
   "cell_type": "code",
   "execution_count": null,
   "metadata": {},
   "outputs": [],
   "source": [
    "X_train.hist(bins=100, figsize=(15, 3), layout=(1, 3), color='grey', ec='black')\n",
    "plt.show()"
   ]
  },
  {
   "cell_type": "markdown",
   "metadata": {},
   "source": [
    "### F\n",
    "Cross sectional plots in pairs of axis"
   ]
  },
  {
   "cell_type": "code",
   "execution_count": null,
   "metadata": {},
   "outputs": [],
   "source": [
    "cross_cuts_3d(X_train, y_train)\n",
    "plt.show()"
   ]
  },
  {
   "cell_type": "markdown",
   "metadata": {},
   "source": [
    "### F\n",
    "Feature subsets for multiclass classification"
   ]
  },
  {
   "cell_type": "code",
   "execution_count": null,
   "metadata": {},
   "outputs": [],
   "source": [
    "for k in range(1, min(len(features.columns) + 1, 10)):\n",
    "    r = pipeline_v1(features, 0.6, k, mutual_info_classif, multiclass=True, anomaly_ratio=0.1)\n",
    "    print(k, list(r[0].columns))"
   ]
  },
  {
   "cell_type": "markdown",
   "metadata": {},
   "source": [
    "### F\n",
    "Feature subsets for binary classification (anomaly)"
   ]
  },
  {
   "cell_type": "code",
   "execution_count": null,
   "metadata": {},
   "outputs": [],
   "source": [
    "for k in range(1, min(len(features.columns) + 1, 10)):\n",
    "    r = pipeline_v1(features, 0.6, k, mutual_info_classif, multiclass=False, anomaly_ratio=0.1)\n",
    "    print(k, list(r[0].columns))"
   ]
  },
  {
   "cell_type": "markdown",
   "metadata": {},
   "source": [
    "### MI\n",
    "Feature selection with Mutual information"
   ]
  },
  {
   "cell_type": "code",
   "execution_count": null,
   "metadata": {},
   "outputs": [],
   "source": [
    "X_train, X_test, y_train, y_test = pipeline_v1(features, func_select=mutual_info_classif, train=0.6, nfeat=3)\n",
    "\n",
    "print()\n",
    "X_train.info()\n",
    "X_train.head(5)"
   ]
  },
  {
   "cell_type": "markdown",
   "metadata": {},
   "source": [
    "### MI\n",
    "Statistical distribution of features in training set"
   ]
  },
  {
   "cell_type": "code",
   "execution_count": null,
   "metadata": {},
   "outputs": [],
   "source": [
    "X_train.hist(bins=100, figsize=(15, 3), layout=(1, 3), color='grey', ec='black')\n",
    "plt.show()"
   ]
  },
  {
   "cell_type": "markdown",
   "metadata": {},
   "source": [
    "### MI\n",
    "Cross sectional plots in pairs of axis"
   ]
  },
  {
   "cell_type": "code",
   "execution_count": null,
   "metadata": {},
   "outputs": [],
   "source": [
    "cross_cuts_3d(X_train, y_train)\n",
    "plt.show()"
   ]
  },
  {
   "cell_type": "markdown",
   "metadata": {},
   "source": [
    "### MI\n",
    "\n",
    "3D distribution of data points"
   ]
  },
  {
   "cell_type": "code",
   "execution_count": null,
   "metadata": {},
   "outputs": [],
   "source": [
    "fig = plt.figure(figsize=(6, 6))\n",
    "ax = fig.add_subplot(projection='3d')\n",
    "ax.scatter(\n",
    "    X_train.loc[:,X_train.columns[0]],\n",
    "    X_train.loc[:,X_train.columns[1]],\n",
    "    X_train.loc[:,X_train.columns[2]],\n",
    "    s=1\n",
    ")\n",
    "ax.set_box_aspect(aspect=None, zoom=0.85)\n",
    "ax.set_xlabel(X_train.columns[0])\n",
    "ax.set_ylabel(X_train.columns[1])\n",
    "ax.set_zlabel(X_train.columns[2])\n",
    "plt.show()"
   ]
  },
  {
   "cell_type": "markdown",
   "metadata": {},
   "source": [
    "### MI\n",
    "Cross sectional plots of anomalies"
   ]
  },
  {
   "cell_type": "code",
   "execution_count": null,
   "metadata": {},
   "outputs": [],
   "source": [
    "X_train, X_test, y_train, y_test = pipeline_v1(features, train=0.6, nfeat=3, multiclass=True, func_select=mutual_info_classif)\n",
    "cross_cuts_3d_anomalies(X_train, features['anomaly'].iloc[list(X_train.index)])\n",
    "\n",
    "percentage = len(features[features['anomaly'] == True]) / len(features)\n",
    "print(f'Percentage of anomalies: {percentage * 100:.2f} %')"
   ]
  }
 ],
 "metadata": {
  "kernelspec": {
   "display_name": "Python 3 (ipykernel)",
   "language": "python",
   "name": "python3"
  },
  "language_info": {
   "codemirror_mode": {
    "name": "ipython",
    "version": 3
   },
   "file_extension": ".py",
   "mimetype": "text/x-python",
   "name": "python",
   "nbconvert_exporter": "python",
   "pygments_lexer": "ipython3",
   "version": "3.11.5"
  }
 },
 "nbformat": 4,
 "nbformat_minor": 4
}
